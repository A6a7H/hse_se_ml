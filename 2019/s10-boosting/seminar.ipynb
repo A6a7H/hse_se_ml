{
 "cells": [
  {
   "cell_type": "code",
   "execution_count": 1,
   "metadata": {},
   "outputs": [],
   "source": [
    "import numpy as np\n",
    "import pandas as pd\n",
    "import matplotlib.pyplot as plt\n",
    "\n",
    "%matplotlib inline\n",
    "\n",
    "plt.style.use('ggplot')\n",
    "plt.rcParams['figure.figsize'] = (12, 6)"
   ]
  },
  {
   "cell_type": "markdown",
   "metadata": {},
   "source": [
    "<h1><center>Boosting</center></h1>"
   ]
  },
  {
   "cell_type": "markdown",
   "metadata": {},
   "source": [
    "### Recap Lecture"
   ]
  },
  {
   "cell_type": "markdown",
   "metadata": {},
   "source": [
    "## Linear ensembles\n",
    "\n",
    "$$\n",
    "F(x)=f_{0}(x)+\\alpha_{1}h_{1}(x)+...+\\alpha_{M}h_{M}(x)\n",
    "$$\n",
    "\n",
    "**Regression:** $\\widehat{y}(x)=F(x)$\n",
    "\n",
    "**Binary classification:** $score(y|x)=F(x),\\,\\widehat{y}(x)= sign(F(x))$\n",
    "* Notation: $h_{1}(x),...h_{M}(x)$ are called *base learners, weak learners, base models*.\n",
    "* Too expensive to optimize $f_{0}(x),h_{1}(x),...h_{M}(x)$ and $\\alpha_{1},...\\alpha_{M}$ jointly for large $M$.\n",
    "* May lead to overfitting\n",
    "* Idea: optimize $f_{0}(x)$ and then each pair $(h_{m}(x),\\,\\alpha_{m})$ greedily."
   ]
  },
  {
   "cell_type": "markdown",
   "metadata": {},
   "source": [
    "**Input**: \n",
    "* training dataset $(x_{i},y_{i}),\\,i=1,2,...N$; \n",
    "* loss function $\\mathcal{L}(f,y)$,\n",
    "* general form of \"base learner\" $h(x|\\gamma)$ (dependent from parameter $\\gamma$) \n",
    "* number $M$ of successive additive approximations.\n",
    "\n",
    "**ALGORITHM**:\n",
    "1. Fit initial approximation $f_{0}(x)=\\arg\\min_{f}\\sum_{i=1}^{N}\\mathcal{L}(f(x_{i}),y_{i})$ \n",
    "2. For $m=1,2,...M$:\n",
    "\n",
    "    1. find next best classifier\n",
    "$$\n",
    "(\\alpha_{m},h_{m})=\\arg\\min_{h,c}\\sum_{i=1}^{N}\\mathcal{L}(f_{m-1}(x_{i})+\\alpha h(x_{i}),\\,y_{i})\n",
    "$$\n",
    "    2. set\n",
    "$$\n",
    "f_{m}(x)=f_{m-1}(x)+\\alpha_{m}h_{m}(x)\n",
    "$$\n",
    "**Output**: approximation function $f_{M}(x)=f_{0}(x)+\\sum_{m=1}^{M}\\alpha_{m}h_{m}(x)$"
   ]
  },
  {
   "cell_type": "markdown",
   "metadata": {},
   "source": [
    "# AdaBoost\n",
    "\n",
    "## Adaboost (discrete version): assumptions\n",
    "\n",
    "* binary classification task $y\\in\\{+1,-1\\}$\n",
    "* family of base classifiers $h(x)=h(x|\\gamma)$ where $\\gamma$ is some fixed parametrization.\n",
    "* $h(x)\\in\\{+1,-1\\}$\n",
    "* classification is performed with $\\widehat{y}=sign\\{f_{0}(x)+\\alpha_{1}f_{1}(x)+...+\\alpha_{M}f_{M}(x)\\}$\n",
    "* optimized loss is $\\mathcal{L}(y,f(x))=e^{-yf(x)}$"
   ]
  },
  {
   "cell_type": "markdown",
   "metadata": {},
   "source": [
    "## Adaboost (discrete version): algorithm\n",
    "\n",
    "**Input**: training dataset $(x_{i},y_{i}),\\,i=1,2,...n$; number of additive weak classifiers $M$, a family of weak classifiers $h(x)\\in\\{+1,-1\\}$, trainable on weighted datasets.\n",
    "\n",
    "**ALGORITHM**:\n",
    "1. Initialize observation weights $w_{i}=1/n$, $i=1,2,...n$.\n",
    "2. for $m=1,2,...M$:\n",
    "\n",
    "    1. fit $h^{m}(x)$ to training data using weights $w_{i}$\n",
    "    2. compute weighted misclassification rate:\n",
    "$$\n",
    "E_{m}=\\sum_{i=1}^{N}w_{i}\\mathbb{I}[h^{m}(x_i)\\ne y_{i}]\n",
    "$$\n",
    "    4. compute $\\alpha_{m}=\\frac{1}{2}\\ln\\left((1-E_{m})/E_{m}\\right)$\n",
    "    5. update sample weights:\n",
    "$$\n",
    "w_{i}\\leftarrow \\frac{w_{i}e^{-\\alpha_{m}y_i h^{m}(x_i)}}{W},$$\n",
    "Where $W$ is normalization factor $\\left(W = \\sum_i w_i e^{-\\alpha_m y_i h^m(x_i)}\\right)$\n",
    "\n",
    "\n",
    "**Output**: composite classifier $f(x)=sign\\left(\\sum_{m=1}^{M}\\alpha_{m}h^{m}(x)\\right)$"
   ]
  },
  {
   "cell_type": "markdown",
   "metadata": {},
   "source": [
    "### Formula for alpha\n",
    "\n",
    "On m step our task to minimizae exponential loss. Let's write this\n",
    "\n",
    "$$\n",
    "L = \\sum\\limits_{i=1}^N e^{-y_i \\cdot f(x_i)} =  \\sum\\limits_{i=1}^N e^{-y_i \\cdot (h_0(x_i) + \\alpha_1h_1(x_i) + \\alpha_2h_2(x_i) + \\ldots + \\alpha_mh_m(x_i))} = \\sum\\limits_{i=1}^N w_i^m e^{-y_i \\alpha_m h_m(x_i)}\n",
    "$$\n",
    "\n",
    "Where\n",
    "$$\n",
    "w_i^m = e^{-y_i \\left(h_0(x_i) + \\sum\\limits_{k=1}^{m-1}\\alpha_k h_k(x_i)\\right)}\n",
    "$$\n",
    "\n",
    "Let's calc derivative\n",
    "\n",
    "$$\n",
    "\\frac{\\partial L}{\\partial \\alpha_m} = -\\sum\\limits_{i=1}^N w_i^m e^{-y_i\\alpha_m h_m(x_i)} y_i h_m(x_i) = 0\n",
    "$$\n",
    "\n",
    "Rewrite, we use that $h_m(x_i) = \\{-1; 1\\}$\n",
    "\n",
    "$$\n",
    "\\sum\\limits_{i=1}^N w_i^m e^{-y_i\\alpha_m h_m(x_i)} y_i h_m(x_i) = \\sum\\limits_{i=1 : h_m(x_i) = y_i}^N w_i^m e^{-\\alpha_m} - \\sum\\limits_{i=1 : h_m(x_i) \\ne y_i}^N w_i^m e^{\\alpha_m} = 0 \\rightarrow \\sum\\limits_{i=1 : h_m(x_i) = y_i}^N w_i^m e^{-\\alpha_m} = \\sum\\limits_{i=1 : h_m(x_i) \\ne y_i}^N w_i^m e^{\\alpha_m}\n",
    "$$\n",
    "\n",
    "Mul on $e^{\\alpha_m}$\n",
    "\n",
    "$$\n",
    "\\sum\\limits_{i=1 : h_m(x_i) = y_i}^N w_i^m = \\sum\\limits_{i=1 : h_m(x_i) \\ne y_i}^N w_i^m e^{2\\alpha_m} \\rightarrow\n",
    "\\alpha_2 = \\frac{1}{2}\\ln \\left[\\frac{\\sum_{i=1}^{N}w_{i}\\mathbb{I}[h^{m}(x_i) = y_{i}]}{\\sum_{i=1}^{N}w_{i}\\mathbb{I}[h^{m}(x_i)\\ne y_{i}]} \\right] = \\frac{1}{2}\\ln\\left[\\frac{1-E_{m}}{E_{m}}\\right]\n",
    "$$ "
   ]
  },
  {
   "cell_type": "markdown",
   "metadata": {},
   "source": [
    "### Simple Implementation"
   ]
  },
  {
   "cell_type": "markdown",
   "metadata": {},
   "source": [
    "How use trees with weights?\n",
    "\n",
    "You know when you build tree you find best split by criteria\n",
    "\n",
    "$$\n",
    "\\max\\left[I(U)- \\left(\\frac{|U_l|}{|U|}I(U_l) + \\frac{|U_r|}{|U|}I(U_r)\\right)\\right]\n",
    "$$\n",
    "\n",
    "for example $I(U)$ - entropy\n",
    "\n",
    "In weight case (we assume $\\sum\\limits_{i=1}^nw_i = 1$)\n",
    "\n",
    "$$\n",
    "    |U| = \\sum_{i=1 : x_i \\in U}^N w_i, ~ and ~ I(U) = -p\\log_2(p) - (1-p)\\log_2(1-p), ~ where ~ p = \\frac{\\sum\\limits_{i=1 : x_i \\in U, y_i = 1}^n w_i}{|U|}\n",
    "$$\n",
    "\n",
    "Comment:\n",
    "unweight case is equivalent when all weights = 1 / n"
   ]
  },
  {
   "cell_type": "code",
   "execution_count": 2,
   "metadata": {},
   "outputs": [],
   "source": [
    "from sklearn.tree import DecisionTreeClassifier\n",
    "from tqdm import tqdm_notebook"
   ]
  },
  {
   "cell_type": "code",
   "execution_count": 3,
   "metadata": {},
   "outputs": [],
   "source": [
    "class AdaBoostClassifier(object):\n",
    "    def __init__(self, base_estimator, n_estimators = 100):\n",
    "        self.base_estimator = base_estimator\n",
    "        self.n_estimators = n_estimators\n",
    "    \n",
    "    def fit(self, X, y):\n",
    "        from sklearn.base import clone\n",
    "        weights = np.ones(X.shape[0], dtype=float) / X.shape[0]\n",
    "        self.estimators = []\n",
    "        self.alphas = []\n",
    "        for i in tqdm_notebook(range(self.n_estimators)):\n",
    "            estimator = clone(self.base_estimator)\n",
    "            estimator.fit(X, y, sample_weight = weights)\n",
    "            \n",
    "            error_index = y != estimator.predict(X)\n",
    "            error = np.sum(weights[error_index])\n",
    "\n",
    "            alpha = 0.5 * np.log((1 - error) / error)\n",
    "            self.estimators.append(estimator)\n",
    "            self.alphas.append(alpha)\n",
    "            \n",
    "            weights = self._update_weights(weights, estimator, alpha, X, y)\n",
    "            \n",
    "    def predict(self, X):\n",
    "        res = np.zeros(X.shape[0])\n",
    "        for estimator, alpha in zip(self.estimators, self.alphas):\n",
    "            res += alpha * estimator.predict(X)\n",
    "        return np.sign(res)\n",
    "    \n",
    "    def predict_proba(self, X):\n",
    "        res = np.zeros(X.shape[0])\n",
    "        for estimator, alpha in zip(self.estimators, self.alphas):\n",
    "            res += alpha * estimator.predict_proba(X)\n",
    "        return res\n",
    "    \n",
    "    def predict_top_n(self, X, n):\n",
    "        res = np.zeros(X.shape[0])\n",
    "        for estimator, alpha in zip(self.estimators[:n], self.alphas[:n]):\n",
    "            res += alpha * estimator.predict_proba(X)\n",
    "        return np.sign(res)\n",
    "    \n",
    "    def predict_proba_top_n(self, X, n):\n",
    "        res = np.zeros(X.shape[0])\n",
    "        for estimator, alpha in zip(self.estimators[:n], self.alphas[:n]):\n",
    "            res += alpha * estimator.predict(X)\n",
    "        return res\n",
    "    \n",
    "    \n",
    "    def _update_weights(self, weights, estimator, alpha, X, y):\n",
    "        weights *= np.exp(-estimator.predict(X) * y * alpha)\n",
    "        return weights"
   ]
  },
  {
   "cell_type": "markdown",
   "metadata": {},
   "source": [
    "### Load dataset"
   ]
  },
  {
   "cell_type": "code",
   "execution_count": 4,
   "metadata": {},
   "outputs": [
    {
     "data": {
      "text/html": [
       "<div>\n",
       "<style scoped>\n",
       "    .dataframe tbody tr th:only-of-type {\n",
       "        vertical-align: middle;\n",
       "    }\n",
       "\n",
       "    .dataframe tbody tr th {\n",
       "        vertical-align: top;\n",
       "    }\n",
       "\n",
       "    .dataframe thead th {\n",
       "        text-align: right;\n",
       "    }\n",
       "</style>\n",
       "<table border=\"1\" class=\"dataframe\">\n",
       "  <thead>\n",
       "    <tr style=\"text-align: right;\">\n",
       "      <th></th>\n",
       "      <th>maxPlayerLevel</th>\n",
       "      <th>numberOfAttemptedLevels</th>\n",
       "      <th>attemptsOnTheHighestLevel</th>\n",
       "      <th>totalNumOfAttempts</th>\n",
       "      <th>averageNumOfTurnsPerCompletedLevel</th>\n",
       "      <th>doReturnOnLowerLevels</th>\n",
       "      <th>numberOfBoostersUsed</th>\n",
       "      <th>fractionOfUsefullBoosters</th>\n",
       "      <th>totalScore</th>\n",
       "      <th>totalBonusScore</th>\n",
       "      <th>totalStarsCount</th>\n",
       "      <th>numberOfDaysActuallyPlayed</th>\n",
       "    </tr>\n",
       "  </thead>\n",
       "  <tbody>\n",
       "    <tr>\n",
       "      <th>0</th>\n",
       "      <td>39</td>\n",
       "      <td>10</td>\n",
       "      <td>3</td>\n",
       "      <td>17</td>\n",
       "      <td>24.444444</td>\n",
       "      <td>1</td>\n",
       "      <td>5</td>\n",
       "      <td>0.400000</td>\n",
       "      <td>2650000</td>\n",
       "      <td>1375</td>\n",
       "      <td>21</td>\n",
       "      <td>2</td>\n",
       "    </tr>\n",
       "    <tr>\n",
       "      <th>1</th>\n",
       "      <td>21</td>\n",
       "      <td>22</td>\n",
       "      <td>19</td>\n",
       "      <td>55</td>\n",
       "      <td>17.045455</td>\n",
       "      <td>1</td>\n",
       "      <td>6</td>\n",
       "      <td>0.333333</td>\n",
       "      <td>5614000</td>\n",
       "      <td>3825</td>\n",
       "      <td>51</td>\n",
       "      <td>4</td>\n",
       "    </tr>\n",
       "    <tr>\n",
       "      <th>2</th>\n",
       "      <td>5</td>\n",
       "      <td>6</td>\n",
       "      <td>1</td>\n",
       "      <td>6</td>\n",
       "      <td>8.400000</td>\n",
       "      <td>0</td>\n",
       "      <td>1</td>\n",
       "      <td>1.000000</td>\n",
       "      <td>857000</td>\n",
       "      <td>1150</td>\n",
       "      <td>14</td>\n",
       "      <td>1</td>\n",
       "    </tr>\n",
       "    <tr>\n",
       "      <th>3</th>\n",
       "      <td>21</td>\n",
       "      <td>2</td>\n",
       "      <td>5</td>\n",
       "      <td>6</td>\n",
       "      <td>19.000000</td>\n",
       "      <td>0</td>\n",
       "      <td>1</td>\n",
       "      <td>0.000000</td>\n",
       "      <td>120000</td>\n",
       "      <td>0</td>\n",
       "      <td>1</td>\n",
       "      <td>1</td>\n",
       "    </tr>\n",
       "    <tr>\n",
       "      <th>4</th>\n",
       "      <td>4</td>\n",
       "      <td>5</td>\n",
       "      <td>1</td>\n",
       "      <td>5</td>\n",
       "      <td>9.600000</td>\n",
       "      <td>0</td>\n",
       "      <td>1</td>\n",
       "      <td>1.000000</td>\n",
       "      <td>857000</td>\n",
       "      <td>1075</td>\n",
       "      <td>12</td>\n",
       "      <td>1</td>\n",
       "    </tr>\n",
       "  </tbody>\n",
       "</table>\n",
       "</div>"
      ],
      "text/plain": [
       "   maxPlayerLevel  numberOfAttemptedLevels  attemptsOnTheHighestLevel  \\\n",
       "0              39                       10                          3   \n",
       "1              21                       22                         19   \n",
       "2               5                        6                          1   \n",
       "3              21                        2                          5   \n",
       "4               4                        5                          1   \n",
       "\n",
       "   totalNumOfAttempts  averageNumOfTurnsPerCompletedLevel  \\\n",
       "0                  17                           24.444444   \n",
       "1                  55                           17.045455   \n",
       "2                   6                            8.400000   \n",
       "3                   6                           19.000000   \n",
       "4                   5                            9.600000   \n",
       "\n",
       "   doReturnOnLowerLevels  numberOfBoostersUsed  fractionOfUsefullBoosters  \\\n",
       "0                      1                     5                   0.400000   \n",
       "1                      1                     6                   0.333333   \n",
       "2                      0                     1                   1.000000   \n",
       "3                      0                     1                   0.000000   \n",
       "4                      0                     1                   1.000000   \n",
       "\n",
       "   totalScore  totalBonusScore  totalStarsCount  numberOfDaysActuallyPlayed  \n",
       "0     2650000             1375               21                           2  \n",
       "1     5614000             3825               51                           4  \n",
       "2      857000             1150               14                           1  \n",
       "3      120000                0                1                           1  \n",
       "4      857000             1075               12                           1  "
      ]
     },
     "execution_count": 4,
     "metadata": {},
     "output_type": "execute_result"
    }
   ],
   "source": [
    "import pandas as pd\n",
    "df_X = pd.read_csv('./data/x_train.csv', sep=';')\n",
    "df_y = pd.read_csv('./data/y_train.csv', sep=';', header=None,\n",
    "                  names=['target'])\n",
    "df_X.head()"
   ]
  },
  {
   "cell_type": "code",
   "execution_count": 5,
   "metadata": {},
   "outputs": [
    {
     "data": {
      "text/html": [
       "<div>\n",
       "<style scoped>\n",
       "    .dataframe tbody tr th:only-of-type {\n",
       "        vertical-align: middle;\n",
       "    }\n",
       "\n",
       "    .dataframe tbody tr th {\n",
       "        vertical-align: top;\n",
       "    }\n",
       "\n",
       "    .dataframe thead th {\n",
       "        text-align: right;\n",
       "    }\n",
       "</style>\n",
       "<table border=\"1\" class=\"dataframe\">\n",
       "  <thead>\n",
       "    <tr style=\"text-align: right;\">\n",
       "      <th></th>\n",
       "      <th>target</th>\n",
       "    </tr>\n",
       "  </thead>\n",
       "  <tbody>\n",
       "    <tr>\n",
       "      <th>0</th>\n",
       "      <td>0</td>\n",
       "    </tr>\n",
       "    <tr>\n",
       "      <th>1</th>\n",
       "      <td>1</td>\n",
       "    </tr>\n",
       "    <tr>\n",
       "      <th>2</th>\n",
       "      <td>1</td>\n",
       "    </tr>\n",
       "    <tr>\n",
       "      <th>3</th>\n",
       "      <td>1</td>\n",
       "    </tr>\n",
       "    <tr>\n",
       "      <th>4</th>\n",
       "      <td>0</td>\n",
       "    </tr>\n",
       "  </tbody>\n",
       "</table>\n",
       "</div>"
      ],
      "text/plain": [
       "   target\n",
       "0       0\n",
       "1       1\n",
       "2       1\n",
       "3       1\n",
       "4       0"
      ]
     },
     "execution_count": 5,
     "metadata": {},
     "output_type": "execute_result"
    }
   ],
   "source": [
    "df_y.head()"
   ]
  },
  {
   "cell_type": "code",
   "execution_count": 6,
   "metadata": {},
   "outputs": [
    {
     "name": "stdout",
     "output_type": "stream",
     "text": [
      "Zero class count = 18001 One class count = 7288\n"
     ]
    }
   ],
   "source": [
    "X = df_X.values\n",
    "y = df_y.values.reshape(-1)\n",
    "print('Zero class count = {}'.format(y.shape[0] - np.sum(y)), 'One class count = {}'.format(np.sum(y)))\n",
    "y[y== 0] -= 1"
   ]
  },
  {
   "cell_type": "markdown",
   "metadata": {},
   "source": [
    "### Fit and predict"
   ]
  },
  {
   "cell_type": "code",
   "execution_count": 7,
   "metadata": {},
   "outputs": [],
   "source": [
    "from sklearn.model_selection import train_test_split\n",
    "from sklearn.metrics import roc_auc_score\n",
    "from sklearn.model_selection import cross_val_score, StratifiedKFold"
   ]
  },
  {
   "cell_type": "code",
   "execution_count": 8,
   "metadata": {},
   "outputs": [],
   "source": [
    "X_train, X_valid, y_train, y_valid = train_test_split(X, y, random_state=123, test_size=0.2)"
   ]
  },
  {
   "cell_type": "code",
   "execution_count": 9,
   "metadata": {},
   "outputs": [],
   "source": [
    "ada = AdaBoostClassifier(base_estimator=DecisionTreeClassifier(max_depth=1), \n",
    "                         n_estimators=300)"
   ]
  },
  {
   "cell_type": "code",
   "execution_count": 10,
   "metadata": {},
   "outputs": [
    {
     "data": {
      "application/vnd.jupyter.widget-view+json": {
       "model_id": "c55fce10962c4b409f466e2f1213589d",
       "version_major": 2,
       "version_minor": 0
      },
      "text/plain": [
       "HBox(children=(IntProgress(value=0, max=300), HTML(value='')))"
      ]
     },
     "metadata": {},
     "output_type": "display_data"
    },
    {
     "name": "stdout",
     "output_type": "stream",
     "text": [
      "\n"
     ]
    }
   ],
   "source": [
    "ada.fit(X_train, y_train)"
   ]
  },
  {
   "cell_type": "code",
   "execution_count": 11,
   "metadata": {},
   "outputs": [],
   "source": [
    "from sklearn.metrics import roc_auc_score"
   ]
  },
  {
   "cell_type": "code",
   "execution_count": 12,
   "metadata": {},
   "outputs": [
    {
     "data": {
      "application/vnd.jupyter.widget-view+json": {
       "model_id": "9e42add2cedf468e9d71f7b8759e42dd",
       "version_major": 2,
       "version_minor": 0
      },
      "text/plain": [
       "HBox(children=(IntProgress(value=0, max=300), HTML(value='')))"
      ]
     },
     "metadata": {},
     "output_type": "display_data"
    },
    {
     "name": "stdout",
     "output_type": "stream",
     "text": [
      "Accuracy with 100 estimators:\n",
      "\t Train  = 0.8615384318701849\n",
      "\t Val  = 0.8520388782900794\n",
      "Accuracy with 200 estimators:\n",
      "\t Train  = 0.8615384318701849\n",
      "\t Val  = 0.8520388782900794\n",
      "Accuracy with 300 estimators:\n",
      "\t Train  = 0.8615384318701849\n",
      "\t Val  = 0.8520388782900794\n",
      "\n"
     ]
    }
   ],
   "source": [
    "train_auc = []\n",
    "val_auc = []\n",
    "for i in tqdm_notebook(range(1, 301, 1)):\n",
    "    train_auc.append(roc_auc_score(y_train, ada.predict_proba_top_n(X_train, i)))\n",
    "    val_auc.append(roc_auc_score(y_valid, ada.predict_proba_top_n(X_valid, i)))\n",
    "    if i % 100 == 0:\n",
    "        print(\"Accuracy with {} estimators:\".format(i))\n",
    "        print('\\t Train  = {}'.format(train_auc[-1]))\n",
    "        print('\\t Val  = {}'.format(val_auc[-1]))"
   ]
  },
  {
   "cell_type": "code",
   "execution_count": 13,
   "metadata": {},
   "outputs": [
    {
     "data": {
      "text/plain": [
       "<matplotlib.legend.Legend at 0x1137df128>"
      ]
     },
     "execution_count": 13,
     "metadata": {},
     "output_type": "execute_result"
    },
    {
     "data": {
      "image/png": "[encoded data removed]",
      "text/plain": [
       "<Figure size 432x288 with 1 Axes>"
      ]
     },
     "metadata": {},
     "output_type": "display_data"
    }
   ],
   "source": [
    "plt.plot(range(1, 301, 1), train_auc, label = 'Traun auc')\n",
    "plt.plot(range(1, 301, 1), val_auc, label = 'Val Auc')\n",
    "plt.legend(loc = 'best')"
   ]
  },
  {
   "cell_type": "code",
   "execution_count": 14,
   "metadata": {},
   "outputs": [
    {
     "data": {
      "text/plain": [
       "<matplotlib.legend.Legend at 0x1a19bfeef0>"
      ]
     },
     "execution_count": 14,
     "metadata": {},
     "output_type": "execute_result"
    },
    {
     "data": {
      "image/png": "[encoded data removed]",
      "text/plain": [
       "<Figure size 432x288 with 1 Axes>"
      ]
     },
     "metadata": {},
     "output_type": "display_data"
    }
   ],
   "source": [
    "plt.plot(range(1, 31, 1), train_auc[:30], label = 'Traun auc')\n",
    "plt.plot(range(1, 31, 1), val_auc[:30], label = 'Val Auc')\n",
    "plt.legend(loc = 'best')"
   ]
  },
  {
   "cell_type": "markdown",
   "metadata": {},
   "source": [
    "## Gradient boosting"
   ]
  },
  {
   "cell_type": "markdown",
   "metadata": {},
   "source": [
    "## Gradient boosting\n",
    "\n",
    "* Now consider $F\\left(f(x_{1}),...f(x_{N})\\right)=\\sum_{n=1}^{N}\\mathcal{L}\\left(f(x_{n}),y_{n}\\right)$\n",
    "* Gradient descent performs pointwise optimization, but we need generalization, so we optimize in space of functions.\n",
    "* Gradient boosting implements modified gradient descent in function space:\n",
    "    * find $z_{i}=-\\frac{\\partial\\mathcal{L}(r,y_{i})}{\\partial r}|_{r=f^{m-1}(x_{i})}$\n",
    "    * fit base learner $h_{m}(x)$ to $\\left\\{ (x_{i},z_{i})\\right\\} _{i=1}^{N}$\n",
    "\n",
    "## Gradient boosting algorithm\n",
    "\n",
    "**Input**: training dataset $(x_{i},y_{i}),\\,i=1,2,...N$; loss function $\\mathcal{L}(f,y)$; learning rate $\\nu$ and the number $M$ of successive additive approximations.\n",
    "\n",
    "1. Fit initial approximation $f_{0}(x)$ (might be taken $f_{0}(x)\\equiv0$)\n",
    "2. For each step $m=1,2,...M$:\n",
    "\n",
    "    1. calculate derivatives $z_{i}=-\\frac{\\partial\\mathcal{L}(r,y_{i})}{\\partial r}|_{r=f^{m-1}(x_{i})}$\n",
    "    2. fit $h_{m}$ to $\\{(x_{i},z_{i})\\}_{i=1}^{N}$, for example by solving\n",
    "$$\n",
    "\\sum_{n=1}^{N}(h_{m}(x_{n})-z_{n})^{2}\\to\\min_{h_{m}}\n",
    "$$\n",
    "    4. set $f_{m}(x)=f_{m-1}(x)+\\nu h_{m}(x)$\n",
    "\n",
    "\n",
    "**Output**: approximation function $f_{M}(x)=f_{0}(x)+\\sum_{m=1}^{M}\\nu h_{m}(x)$"
   ]
  },
  {
   "cell_type": "markdown",
   "metadata": {},
   "source": [
    "### Examples\n",
    "\n",
    "##### Regression\n",
    "\n",
    "Loss function is MSE ($ r_i = f(x_i)$)\n",
    "$$\n",
    "MSE(r_i, y_i) = L(r_i, y_i) =  (r_i - y_i)^2 \\rightarrow \\frac{\\partial L}{\\partial r} = 2(r_i - y_i)\n",
    "$$\n",
    "\n",
    "So on each iteration we solve regression task\n",
    "$$\n",
    "x_i \\rightarrow -(r_{i} - y_i)\n",
    "$$\n",
    "\n",
    "\n",
    "#### Classification\n",
    "Loss function is log_loss ($ r_i = f(x_i) = \\langle w, x_i \\rangle$)\n",
    "$$\n",
    "log\\_loss(r_i, y_i) = L(r_i, y_i) = log(1 + exp(- r_i y_i)) \\rightarrow \\frac{\\partial L}{\\partial r} = \\frac{-exp(- r_i y_i) \\cdot y_i}{1 + exp(- r_i y_i) }\n",
    "$$\n",
    "\n",
    "So on each iteration we solve regression task\n",
    "$$\n",
    "x_i \\rightarrow \\frac{exp(- r_i y_i) \\cdot y_i}{1 + exp(- r_i y_i) }\n",
    "$$"
   ]
  },
  {
   "cell_type": "code",
   "execution_count": 15,
   "metadata": {},
   "outputs": [
    {
     "name": "stderr",
     "output_type": "stream",
     "text": [
      "/Users/r.britkov/anaconda3/lib/python3.6/site-packages/sklearn/ensemble/weight_boosting.py:29: DeprecationWarning: numpy.core.umath_tests is an internal NumPy module and should not be imported. It will be removed in a future NumPy release.\n",
      "  from numpy.core.umath_tests import inner1d\n"
     ]
    }
   ],
   "source": [
    "from sklearn.ensemble import GradientBoostingClassifier"
   ]
  },
  {
   "cell_type": "code",
   "execution_count": 16,
   "metadata": {},
   "outputs": [
    {
     "data": {
      "image/png": "[encoded data removed]",
      "text/plain": [
       "<Figure size 1728x432 with 2 Axes>"
      ]
     },
     "metadata": {},
     "output_type": "display_data"
    }
   ],
   "source": [
    "plt.rcParams['figure.figsize'] = (24, 6)\n",
    "\n",
    "fig, ax = plt.subplots(1,2)\n",
    "for lr in [0.02, 0.5, 1]:\n",
    "\n",
    "    model = GradientBoostingClassifier(n_estimators=300, max_depth=3,\n",
    "                                       learning_rate=lr, \n",
    "                                       random_state=123)\n",
    "    model.fit(X_train, y_train)\n",
    "\n",
    "    scores_train = []\n",
    "    scores_valid = []\n",
    "\n",
    "    for y_pred in model.staged_predict_proba(X_train):\n",
    "        scores_train.append(roc_auc_score(y_train, y_pred[:, 1]))\n",
    "        \n",
    "    ax[0].plot(scores_train, label='lr={}'.format(lr))\n",
    "    ax[0].set_title('Train set', size = 15)\n",
    "    ax[0].legend(loc = 'upper left', prop={'size': 15})\n",
    "\n",
    "    for y_pred in model.staged_predict_proba(X_valid):\n",
    "        scores_valid.append(roc_auc_score(y_valid, y_pred[:, 1])) \n",
    "        \n",
    "    ax[1].plot(scores_valid, label='lr={}'.format(lr))\n",
    "    ax[1].set_title('Validation set', size = 15)\n",
    "    ax[1].legend(loc = 'upper left', prop={'size': 15})"
   ]
  }
 ],
 "metadata": {
  "kernelspec": {
   "display_name": "Python 3",
   "language": "python",
   "name": "python3"
  },
  "language_info": {
   "codemirror_mode": {
    "name": "ipython",
    "version": 3
   },
   "file_extension": ".py",
   "mimetype": "text/x-python",
   "name": "python",
   "nbconvert_exporter": "python",
   "pygments_lexer": "ipython3",
   "version": "3.6.5"
  }
 },
 "nbformat": 4,
 "nbformat_minor": 2
}
