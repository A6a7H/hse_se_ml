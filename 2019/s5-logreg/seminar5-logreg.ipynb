{
 "cells": [
  {
   "cell_type": "markdown",
   "metadata": {},
   "source": [
    "<center><img src=\"img/logo_hse_black.jpg\"></center>\n",
    "\n",
    "<h1><center>Data Analysis</center></h1>\n",
    "<h2><center>Seminar: Linear Classification</center></h2>"
   ]
  },
  {
   "cell_type": "code",
   "execution_count": 1,
   "metadata": {
    "collapsed": true
   },
   "outputs": [],
   "source": [
    "import pandas as pd\n",
    "import numpy as np\n",
    "import matplotlib.pyplot as plt\n",
    "\n",
    "%matplotlib inline\n",
    "\n",
    "plt.style.use('ggplot')\n",
    "plt.rcParams['figure.figsize'] = (12,8)"
   ]
  },
  {
   "cell_type": "markdown",
   "metadata": {},
   "source": [
    "## Regularization"
   ]
  },
  {
   "cell_type": "markdown",
   "metadata": {},
   "source": [
    "Queistion:\n",
    "  * Why we use regularization?\n",
    "  * What kind of regularization do you know?"
   ]
  },
  {
   "cell_type": "markdown",
   "metadata": {},
   "source": [
    "L2 - reg\n",
    "$$\n",
    "L(X, y, w) = l(X, y, w) + \\lambda  \\langle w, w \\rangle\n",
    "$$\n",
    "\n",
    "L1 - reg\n",
    "$$\n",
    "L(X, y, w) = l(X,y, w) + \\lambda |w|\n",
    "$$\n",
    "\n",
    "Elastic net\n",
    "$$\n",
    "L(X, y, w) = l(X, y, w) + \\lambda_1  \\langle w, w \\rangle + \\lambda_2 |w|\n",
    "$$"
   ]
  },
  {
   "cell_type": "markdown",
   "metadata": {},
   "source": [
    "# Linear classification"
   ]
  },
  {
   "cell_type": "markdown",
   "metadata": {},
   "source": [
    "### Sigmoid function"
   ]
  },
  {
   "cell_type": "markdown",
   "metadata": {},
   "source": [
    "$$\n",
    "\\sigma(x) = \\frac{1}{1 + \\exp(-\\langle w, x \\rangle)}\n",
    "$$\n",
    "\n",
    "Or if we use intercept\n",
    "$$\n",
    "\\sigma(x) = \\frac{1}{1 + \\exp(-\\langle w, x \\rangle - w_0)}\n",
    "$$"
   ]
  },
  {
   "cell_type": "markdown",
   "metadata": {},
   "source": [
    "We assume that \n",
    "$$\n",
    "\\sigma(x) = P(y = 1 | x, w)\n",
    "$$"
   ]
  },
  {
   "cell_type": "markdown",
   "metadata": {},
   "source": [
    "Question \n",
    "  * 1 - $\\sigma(x) =$ ?\n",
    "  * $\\sigma'(x) =$ ?"
   ]
  },
  {
   "cell_type": "markdown",
   "metadata": {},
   "source": [
    "And we maximize likelihood with minimize log-loss\n",
    "\n",
    "if $y_i \\in \\{0, 1\\}$\n",
    "$$\n",
    "logloss = \\frac{1}{N}\\sum_{i=1}^n\\left[y_i \\log(1 + \\exp(-\\langle w, x \\rangle) + (1 -y_i) \\log(1 + \\exp(\\langle w, x \\rangle))\\right]\n",
    "$$\n",
    "\n",
    "if $y_i \\in \\{-1, 1\\}$\n",
    "$$\n",
    "logloss = \\frac{1}{N}\\sum_{i=1}^n\\left[\\log(1 + \\exp(-\\langle w, x \\rangle \\cdot y_i)\\right]\n",
    "$$"
   ]
  },
  {
   "cell_type": "markdown",
   "metadata": {},
   "source": [
    "## Toy example"
   ]
  },
  {
   "cell_type": "markdown",
   "metadata": {},
   "source": [
    "Generate data and apply logistic regression"
   ]
  },
  {
   "cell_type": "code",
   "execution_count": 2,
   "metadata": {
    "collapsed": true
   },
   "outputs": [],
   "source": [
    "#generate two linear separated samples\n",
    "np.random.seed(0)\n",
    "X = np.r_[np.random.randn(20, 2) + [2, 2],\n",
    "          np.random.randn(20, 2) + [-2, -2]]\n",
    "y = [-1] * 20 + [1] * 20"
   ]
  },
  {
   "cell_type": "code",
   "execution_count": 3,
   "metadata": {},
   "outputs": [
    {
     "data": {
      "text/plain": [
       "<matplotlib.collections.PathCollection at 0x7f0c88beec50>"
      ]
     },
     "execution_count": 3,
     "metadata": {},
     "output_type": "execute_result"
    },
    {
     "data": {
      "image/png": "[encoded data removed]",
      "text/plain": [
       "<Figure size 504x504 with 1 Axes>"
      ]
     },
     "metadata": {},
     "output_type": "display_data"
    }
   ],
   "source": [
    "fig, ax = plt.subplots(figsize=(7, 7))\n",
    "ax.scatter(X[:, 0],\n",
    "           X[:, 1],\n",
    "           c=y,\n",
    "           cmap=plt.cm.Paired)"
   ]
  },
  {
   "cell_type": "code",
   "execution_count": 4,
   "metadata": {
    "collapsed": true
   },
   "outputs": [],
   "source": [
    "class SimpleLogisticRegression:\n",
    "    def __init__(self, C = 1.0, fit_intercept = True, penalty = 'l2', max_iter = 5000):\n",
    "        self.C = C\n",
    "        self.fit_intercept = fit_intercept\n",
    "        self.penalty = penalty\n",
    "        self.max_iter = max_iter\n",
    "    \n",
    "    \n",
    "    def fit(self, X, y):\n",
    "        X = np.array(X)\n",
    "        y = np.array(y)\n",
    "        \n",
    "        if self.fit_intercept:\n",
    "            #concatenate ones\n",
    "            X = np.c_[np.ones(X.shape[0]), X]\n",
    "        \n",
    "        #zero initialization\n",
    "        self.coef_ = np.zeros(X.shape[1])\n",
    "        \n",
    "        #run grad descent\n",
    "        self.qual_ = self.grad_descent(X, y, 0.05)\n",
    "        \n",
    "    def predict_proba(self, X):\n",
    "        return np.array([1 / (1 + np.exp(X.dot(self.coef_) + self.intercept_)),\\\n",
    "                         1 / (1 + np.exp(-X.dot(self.coef_) - self.intercept_))])\n",
    "    \n",
    "    def predict(self, X):\n",
    "        predict = (self.predict_proba(X)[1, :] > 0.5).astype(int)\n",
    "        \n",
    "        #transform 0 to -1\n",
    "        predict[predict == 0] = -1\n",
    "        \n",
    "        return predict\n",
    "    \n",
    "    def decision_function(self, X):\n",
    "        return X.dot(self.coef_) + self.intercept_\n",
    "\n",
    "    #labels of classes {1, -1}\n",
    "    def loss(self, X, y):\n",
    "        loss = np.mean(np.log(1 + np.exp(-X.dot(self.coef_) * y)))\n",
    "        if self.penalty == 'l2':\n",
    "            reg = np.sum(self.coef_ ** 2)\n",
    "        elif self.penalty == 'l1':\n",
    "            reg = np.sum(np.abs(self.coef_))\n",
    "        else:\n",
    "            raise NotImplementedError\n",
    "        \n",
    "        return loss + reg / (self.C * X.shape[0])\n",
    "    \n",
    "    def grad_descent(self, X, y, eta ):\n",
    "        qual = np.zeros(self.max_iter)\n",
    "        \n",
    "        for iterations in range(self.max_iter):\n",
    "            #calculate gradient\n",
    "            decision_function = -X.dot(self.coef_)\n",
    "            grad_coef = -np.exp(decision_function * y) / (1 + np.exp(decision_function * y))\n",
    "            grad_coef *= y\n",
    "            \n",
    "            mean_grad = np.mean(X.T * grad_coef, axis = 1)\n",
    "\n",
    "            w = np.copy(self.coef_)\n",
    "            self.coef_ -= eta * mean_grad\n",
    "    \n",
    "            #add penalty\n",
    "            if self.penalty == 'l2':\n",
    "                self.coef_ -= 2 * eta * w / (self.C * X.shape[0])\n",
    "            elif self.penalty == 'l1':\n",
    "                self.coef_ -= eta * np.sign(w) / (self.C * X.shape[0])\n",
    "            else:\n",
    "                raise NotImplementedError\n",
    "            qual[iterations] = self.loss(X, y)\n",
    "        \n",
    "        if self.fit_intercept:\n",
    "            self.intercept_ = self.coef_[0]\n",
    "            self.coef_ = self.coef_[1:]\n",
    "        else:\n",
    "            self.intercept_ = 0.0\n",
    "\n",
    "        return qual"
   ]
  },
  {
   "cell_type": "markdown",
   "metadata": {},
   "source": [
    "Fit logistic regression and plot desicion boundary"
   ]
  },
  {
   "cell_type": "code",
   "execution_count": 5,
   "metadata": {
    "collapsed": true
   },
   "outputs": [],
   "source": [
    "model = SimpleLogisticRegression(C=1.0, \n",
    "                           fit_intercept=True, \n",
    "                           penalty='l2')\n",
    "model.fit(X, y)"
   ]
  },
  {
   "cell_type": "code",
   "execution_count": 6,
   "metadata": {},
   "outputs": [
    {
     "name": "stdout",
     "output_type": "stream",
     "text": [
      "w_0 = -0.113541\n",
      "w_1, w_2 =  [-0.91292259 -0.8538947 ]\n"
     ]
    }
   ],
   "source": [
    "print('w_0 = %f' % model.intercept_)\n",
    "print('w_1, w_2 = ', model.coef_)"
   ]
  },
  {
   "cell_type": "code",
   "execution_count": 7,
   "metadata": {},
   "outputs": [
    {
     "data": {
      "text/plain": [
       "array([-1, -1, -1, -1, -1, -1, -1, -1, -1, -1, -1, -1, -1, -1, -1, -1, -1,\n",
       "       -1, -1, -1,  1,  1,  1,  1,  1,  1,  1,  1,  1,  1,  1,  1,  1,  1,\n",
       "        1,  1,  1,  1,  1,  1])"
      ]
     },
     "execution_count": 7,
     "metadata": {},
     "output_type": "execute_result"
    }
   ],
   "source": [
    "y_hat = model.predict(X)\n",
    "y_hat"
   ]
  },
  {
   "cell_type": "code",
   "execution_count": 8,
   "metadata": {},
   "outputs": [
    {
     "data": {
      "text/plain": [
       "array([[0.99631323, 0.99842854, 0.98920287, 0.98769405, 0.98022867,\n",
       "        0.99344189, 0.98840871, 0.98709704, 0.99212355, 0.96097233,\n",
       "        0.86699141, 0.97817449, 0.98876487, 0.97150491, 0.99816919,\n",
       "        0.98388157, 0.75865225, 0.96961838, 0.99697267, 0.95414983,\n",
       "        0.00372155, 0.03516082, 0.01393339, 0.01984218, 0.00621154,\n",
       "        0.01970056, 0.0074316 , 0.04393683, 0.04306236, 0.01326958,\n",
       "        0.01285584, 0.00355267, 0.02656606, 0.01084474, 0.01471548,\n",
       "        0.06633797, 0.03123993, 0.02564213, 0.00893025, 0.0251713 ],\n",
       "       [0.00368677, 0.00157146, 0.01079713, 0.01230595, 0.01977133,\n",
       "        0.00655811, 0.01159129, 0.01290296, 0.00787645, 0.03902767,\n",
       "        0.13300859, 0.02182551, 0.01123513, 0.02849509, 0.00183081,\n",
       "        0.01611843, 0.24134775, 0.03038162, 0.00302733, 0.04585017,\n",
       "        0.99627845, 0.96483918, 0.98606661, 0.98015782, 0.99378846,\n",
       "        0.98029944, 0.9925684 , 0.95606317, 0.95693764, 0.98673042,\n",
       "        0.98714416, 0.99644733, 0.97343394, 0.98915526, 0.98528452,\n",
       "        0.93366203, 0.96876007, 0.97435787, 0.99106975, 0.9748287 ]])"
      ]
     },
     "execution_count": 8,
     "metadata": {},
     "output_type": "execute_result"
    }
   ],
   "source": [
    "y_hat_proba = model.predict_proba(X)\n",
    "y_hat_proba[:20, :]"
   ]
  },
  {
   "cell_type": "code",
   "execution_count": 9,
   "metadata": {},
   "outputs": [
    {
     "data": {
      "text/plain": [
       "array([-5.59931133, -6.45417481, -4.51761944, -4.38529003, -3.90355303,\n",
       "       -5.02047304, -4.44584215, -4.33731148, -4.83597095, -3.20367472,\n",
       "       -1.87461534, -3.80260852, -4.47741109, -3.52911465, -6.30116241,\n",
       "       -4.11154194, -1.14530469, -3.46306466, -5.79704191, -3.03544185,\n",
       "        5.58988669,  3.31202904,  4.25943552,  3.8999035 ,  5.07511481,\n",
       "        3.90721087,  4.89455432,  3.08007109,  3.10108898,  4.30892294,\n",
       "        4.34101808,  5.63649639,  3.60119549,  4.51317079,  4.20403048,\n",
       "        2.64435214,  3.43431981,  3.63754214,  4.70934026,  3.65655726])"
      ]
     },
     "execution_count": 9,
     "metadata": {},
     "output_type": "execute_result"
    }
   ],
   "source": [
    "dec_func = model.decision_function(X)\n",
    "dec_func"
   ]
  },
  {
   "cell_type": "code",
   "execution_count": 10,
   "metadata": {},
   "outputs": [
    {
     "data": {
      "text/plain": [
       "<matplotlib.collections.PathCollection at 0x7f0c88b48358>"
      ]
     },
     "execution_count": 10,
     "metadata": {},
     "output_type": "execute_result"
    },
    {
     "data": {
      "image/png": "[encoded data removed]",
      "text/plain": [
       "<Figure size 504x504 with 1 Axes>"
      ]
     },
     "metadata": {},
     "output_type": "display_data"
    }
   ],
   "source": [
    "fig, ax = plt.subplots(figsize=(7, 7))\n",
    "x0, x1 = np.meshgrid(np.arange(-3, 3, 0.1),\n",
    "                       np.arange(-3, 3, 0.1))\n",
    "xx0, xx1 = x0.ravel(), x1.ravel()\n",
    "\n",
    "X_grid = np.c_[xx0, xx1, ]\n",
    "\n",
    "y_hat = model.decision_function(X_grid)\n",
    "y_hat = y_hat.reshape(x0.shape)\n",
    "\n",
    "plt.contour(x0, x1, y_hat, levels=[0])\n",
    "\n",
    "\n",
    "ax.scatter(X[:, 0],\n",
    "           X[:, 1],\n",
    "           c=y,\n",
    "           cmap=plt.cm.Paired)"
   ]
  },
  {
   "cell_type": "markdown",
   "metadata": {},
   "source": [
    "Let's watch how change loss by iteration"
   ]
  },
  {
   "cell_type": "code",
   "execution_count": 11,
   "metadata": {},
   "outputs": [
    {
     "data": {
      "text/plain": [
       "Text(0, 0.5, 'log-loss with l2')"
      ]
     },
     "execution_count": 11,
     "metadata": {},
     "output_type": "execute_result"
    },
    {
     "data": {
      "image/png": "[encoded data removed]",
      "text/plain": [
       "<Figure size 864x576 with 1 Axes>"
      ]
     },
     "metadata": {},
     "output_type": "display_data"
    }
   ],
   "source": [
    "qual = model.qual_\n",
    "x = np.arange(0, len(qual))\n",
    "plt.title('quality')\n",
    "plt.plot(x, qual)\n",
    "plt.xlabel('iterations')\n",
    "plt.ylabel('log-loss with l2')"
   ]
  },
  {
   "cell_type": "markdown",
   "metadata": {},
   "source": [
    "## How to make non-linear decision boundary?"
   ]
  },
  {
   "cell_type": "markdown",
   "metadata": {},
   "source": [
    "Consider \"bublic\" dataset"
   ]
  },
  {
   "cell_type": "code",
   "execution_count": 12,
   "metadata": {
    "collapsed": true
   },
   "outputs": [],
   "source": [
    "from sklearn.datasets import make_circles"
   ]
  },
  {
   "cell_type": "code",
   "execution_count": 13,
   "metadata": {},
   "outputs": [
    {
     "data": {
      "text/plain": [
       "<matplotlib.collections.PathCollection at 0x7f0c7e858cf8>"
      ]
     },
     "execution_count": 13,
     "metadata": {},
     "output_type": "execute_result"
    },
    {
     "data": {
      "image/png": "[encoded data removed]",
      "text/plain": [
       "<Figure size 864x576 with 1 Axes>"
      ]
     },
     "metadata": {},
     "output_type": "display_data"
    }
   ],
   "source": [
    "X, y = make_circles(n_samples=100, shuffle=True,\n",
    "                    noise = 0.1,\n",
    "                    factor=0.1)\n",
    "y[y == 0] = -1\n",
    "\n",
    "plt.scatter(X[:, 0],\n",
    "            X[:, 1],\n",
    "            c=y)"
   ]
  },
  {
   "cell_type": "markdown",
   "metadata": {},
   "source": [
    "It is clear that classes cannot be separated via line."
   ]
  },
  {
   "cell_type": "code",
   "execution_count": 14,
   "metadata": {
    "collapsed": true
   },
   "outputs": [],
   "source": [
    "X_new = np.c_[X[:,0], X[:,1],]\n",
    "model = SimpleLogisticRegression(C=100000, \n",
    "                           fit_intercept=True)\n",
    "model.fit(X_new, y)"
   ]
  },
  {
   "cell_type": "code",
   "execution_count": 15,
   "metadata": {},
   "outputs": [
    {
     "data": {
      "text/plain": [
       "'Accuracy = 0.54'"
      ]
     },
     "execution_count": 15,
     "metadata": {},
     "output_type": "execute_result"
    }
   ],
   "source": [
    "# Error rate\n",
    "y_hat = model.predict(X_new)\n",
    "'Accuracy = {}'.format((y == y_hat).mean())"
   ]
  },
  {
   "cell_type": "code",
   "execution_count": 16,
   "metadata": {},
   "outputs": [
    {
     "data": {
      "text/plain": [
       "<matplotlib.collections.PathCollection at 0x7f0c7e838ef0>"
      ]
     },
     "execution_count": 16,
     "metadata": {},
     "output_type": "execute_result"
    },
    {
     "data": {
      "image/png": "[encoded data removed]",
      "text/plain": [
       "<Figure size 864x576 with 1 Axes>"
      ]
     },
     "metadata": {},
     "output_type": "display_data"
    }
   ],
   "source": [
    "# Plot desicion border\n",
    "\n",
    "x0, x1 = np.meshgrid(np.arange(-1.5, 1.5, 0.1),\n",
    "                       np.arange(-1.5, 1.5, 0.1))\n",
    "xx0, xx1 = x0.ravel(), x1.ravel()\n",
    "\n",
    "X_grid = np.c_[xx0, xx1, ]\n",
    "\n",
    "y_hat = model.decision_function(X_grid)\n",
    "y_hat = y_hat.reshape(x0.shape)\n",
    "\n",
    "plt.contour(x0, x1, y_hat, levels=[0])\n",
    "plt.scatter(X[:,0], \n",
    "            X[:, 1], \n",
    "            c=y)"
   ]
  },
  {
   "cell_type": "markdown",
   "metadata": {},
   "source": [
    "So what we do is we should add nonliear feature to our model and then project decision boundary on to intial feature space\n",
    "\n",
    "What feature should we use?"
   ]
  },
  {
   "cell_type": "code",
   "execution_count": 17,
   "metadata": {
    "collapsed": true
   },
   "outputs": [],
   "source": [
    "X_new = np.c_[X[:,0], X[:,1], X[:, 0]**2+X[:, 1]**2]\n",
    "model = SimpleLogisticRegression(C = 100000, \n",
    "                           fit_intercept=True)\n",
    "model.fit(X_new, y)"
   ]
  },
  {
   "cell_type": "code",
   "execution_count": 18,
   "metadata": {},
   "outputs": [
    {
     "data": {
      "text/plain": [
       "'Accuracy = 1.0'"
      ]
     },
     "execution_count": 18,
     "metadata": {},
     "output_type": "execute_result"
    }
   ],
   "source": [
    "# Error rate\n",
    "y_hat = model.predict(X_new)\n",
    "'Accuracy = {}'.format((y == y_hat).mean())"
   ]
  },
  {
   "cell_type": "code",
   "execution_count": 19,
   "metadata": {},
   "outputs": [
    {
     "data": {
      "text/plain": [
       "<matplotlib.collections.PathCollection at 0x7f0c7e7a3358>"
      ]
     },
     "execution_count": 19,
     "metadata": {},
     "output_type": "execute_result"
    },
    {
     "data": {
      "image/png": "[encoded data removed]",
      "text/plain": [
       "<Figure size 864x576 with 1 Axes>"
      ]
     },
     "metadata": {},
     "output_type": "display_data"
    }
   ],
   "source": [
    "# Plot desicion border\n",
    "\n",
    "x0, x1 = np.meshgrid(np.arange(-1.5, 1.5, 0.1),\n",
    "                       np.arange(-1.5, 1.5, 0.1))\n",
    "\n",
    "xx0, xx1 = x0.ravel(), x1.ravel()\n",
    "\n",
    "X_grid = np.c_[xx0, xx1, xx0**2 + xx1**2]\n",
    "\n",
    "y_hat = model.decision_function(X_grid)\n",
    "y_hat = y_hat.reshape(x0.shape)\n",
    "\n",
    "plt.contour(x0, x1, y_hat, levels=[0])\n",
    "plt.scatter(X[:,0], \n",
    "            X[:, 1], \n",
    "            c=y)"
   ]
  },
  {
   "cell_type": "markdown",
   "metadata": {
    "collapsed": true
   },
   "source": [
    "## L1 - reg"
   ]
  },
  {
   "cell_type": "markdown",
   "metadata": {
    "collapsed": true
   },
   "source": [
    "L1-reg work like feature selection"
   ]
  },
  {
   "cell_type": "code",
   "execution_count": 20,
   "metadata": {
    "collapsed": true
   },
   "outputs": [],
   "source": [
    "from sklearn.linear_model import LogisticRegression"
   ]
  },
  {
   "cell_type": "code",
   "execution_count": 21,
   "metadata": {
    "collapsed": true
   },
   "outputs": [],
   "source": [
    "X_new = np.c_[X[:,0], X[:,1], X[:, 0] ** 2 + X[:, 1] ** 2]\n",
    "model = SimpleLogisticRegression(C=1, \n",
    "                           fit_intercept=True,\n",
    "                           penalty = 'l1')\n",
    "model.fit(X_new, y)"
   ]
  },
  {
   "cell_type": "code",
   "execution_count": 22,
   "metadata": {},
   "outputs": [
    {
     "data": {
      "text/plain": [
       "(array([ 1.87710719e-04, -4.07730417e-04, -6.85297664e+00]), 2.882599134163666)"
      ]
     },
     "execution_count": 22,
     "metadata": {},
     "output_type": "execute_result"
    }
   ],
   "source": [
    "model.coef_, model.intercept_"
   ]
  },
  {
   "cell_type": "markdown",
   "metadata": {},
   "source": [
    "### Coef near useless features is very small"
   ]
  },
  {
   "cell_type": "markdown",
   "metadata": {},
   "source": [
    "Question for students: Why l1 work like feature-selection?"
   ]
  },
  {
   "cell_type": "markdown",
   "metadata": {},
   "source": [
    "<center><img src=\"img/reg.png\"></center>"
   ]
  },
  {
   "cell_type": "markdown",
   "metadata": {},
   "source": [
    "## Real example - sentiment analysis"
   ]
  },
  {
   "cell_type": "markdown",
   "metadata": {},
   "source": [
    "Load text files amazon_cells_labelled.txt\n",
    "\n",
    "\n",
    "File format:\n",
    "Review \\t class label \\n\n",
    "\n",
    "\n",
    "### Task\n",
    "1. Load files and set target features and review in different variables\n",
    "2. Fit logistic regression to it. Consider text feature preprocessing\n",
    "3. Output the most valuable coefficients and analyze them"
   ]
  },
  {
   "cell_type": "code",
   "execution_count": 23,
   "metadata": {},
   "outputs": [
    {
     "data": {
      "text/html": [
       "<div>\n",
       "<style scoped>\n",
       "    .dataframe tbody tr th:only-of-type {\n",
       "        vertical-align: middle;\n",
       "    }\n",
       "\n",
       "    .dataframe tbody tr th {\n",
       "        vertical-align: top;\n",
       "    }\n",
       "\n",
       "    .dataframe thead th {\n",
       "        text-align: right;\n",
       "    }\n",
       "</style>\n",
       "<table border=\"1\" class=\"dataframe\">\n",
       "  <thead>\n",
       "    <tr style=\"text-align: right;\">\n",
       "      <th></th>\n",
       "      <th>review</th>\n",
       "      <th>class</th>\n",
       "    </tr>\n",
       "  </thead>\n",
       "  <tbody>\n",
       "    <tr>\n",
       "      <th>0</th>\n",
       "      <td>So there is no way for me to plug it in here i...</td>\n",
       "      <td>0</td>\n",
       "    </tr>\n",
       "    <tr>\n",
       "      <th>1</th>\n",
       "      <td>Good case, Excellent value.</td>\n",
       "      <td>1</td>\n",
       "    </tr>\n",
       "    <tr>\n",
       "      <th>2</th>\n",
       "      <td>Great for the jawbone.</td>\n",
       "      <td>1</td>\n",
       "    </tr>\n",
       "    <tr>\n",
       "      <th>3</th>\n",
       "      <td>Tied to charger for conversations lasting more...</td>\n",
       "      <td>0</td>\n",
       "    </tr>\n",
       "    <tr>\n",
       "      <th>4</th>\n",
       "      <td>The mic is great.</td>\n",
       "      <td>1</td>\n",
       "    </tr>\n",
       "  </tbody>\n",
       "</table>\n",
       "</div>"
      ],
      "text/plain": [
       "                                              review  class\n",
       "0  So there is no way for me to plug it in here i...      0\n",
       "1                        Good case, Excellent value.      1\n",
       "2                             Great for the jawbone.      1\n",
       "3  Tied to charger for conversations lasting more...      0\n",
       "4                                  The mic is great.      1"
      ]
     },
     "execution_count": 23,
     "metadata": {},
     "output_type": "execute_result"
    }
   ],
   "source": [
    "##load file\n",
    "df = pd.read_csv('sentiment/amazon_cells_labelled.txt', \n",
    "                 sep='\\t', header=None, \n",
    "                 names=['review', 'class'])\n",
    "\n",
    "df.head()"
   ]
  },
  {
   "cell_type": "code",
   "execution_count": 24,
   "metadata": {
    "collapsed": true
   },
   "outputs": [],
   "source": [
    "#use CountVectorizer from skleatr\n",
    "from sklearn.feature_extraction.text import CountVectorizer"
   ]
  },
  {
   "cell_type": "code",
   "execution_count": 25,
   "metadata": {
    "collapsed": true
   },
   "outputs": [],
   "source": [
    "vect = CountVectorizer(stop_words='english', #which word don't calculate\n",
    "                       max_df=0.95, #max frequency of word\n",
    "                       min_df=5, #min frequency of word\n",
    "                       )"
   ]
  },
  {
   "cell_type": "code",
   "execution_count": 26,
   "metadata": {
    "collapsed": true
   },
   "outputs": [],
   "source": [
    "texts = df.review.values"
   ]
  },
  {
   "cell_type": "code",
   "execution_count": 27,
   "metadata": {},
   "outputs": [
    {
     "data": {
      "text/plain": [
       "array(['So there is no way for me to plug it in here in the US unless I go by a converter.',\n",
       "       'Good case, Excellent value.', 'Great for the jawbone.',\n",
       "       'Tied to charger for conversations lasting more than 45 minutes.MAJOR PROBLEMS!!',\n",
       "       'The mic is great.',\n",
       "       'I have to jiggle the plug to get it to line up right to get decent volume.',\n",
       "       'If you have several dozen or several hundred contacts, then imagine the fun of sending each of them one by one.',\n",
       "       'If you are Razr owner...you must have this!',\n",
       "       'Needless to say, I wasted my money.',\n",
       "       'What a waste of money and time!.'], dtype=object)"
      ]
     },
     "execution_count": 27,
     "metadata": {},
     "output_type": "execute_result"
    }
   ],
   "source": [
    "texts[:10]"
   ]
  },
  {
   "cell_type": "code",
   "execution_count": 28,
   "metadata": {},
   "outputs": [],
   "source": [
    "#calulate word frequency for every document\n",
    "X = vect.fit_transform(texts)"
   ]
  },
  {
   "cell_type": "code",
   "execution_count": 29,
   "metadata": {},
   "outputs": [
    {
     "data": {
      "text/plain": [
       "array([[0, 0, 0, ..., 0, 0, 0],\n",
       "       [0, 0, 0, ..., 0, 0, 0],\n",
       "       [0, 0, 0, ..., 0, 0, 0],\n",
       "       ...,\n",
       "       [0, 0, 0, ..., 0, 0, 0],\n",
       "       [0, 0, 0, ..., 0, 0, 0],\n",
       "       [0, 0, 0, ..., 0, 0, 0]], dtype=int64)"
      ]
     },
     "execution_count": 29,
     "metadata": {},
     "output_type": "execute_result"
    }
   ],
   "source": [
    "#this method return 'special' class 'sparse-matrix', transform it to usual numpy-array\n",
    "X.toarray()"
   ]
  },
  {
   "cell_type": "code",
   "execution_count": 30,
   "metadata": {},
   "outputs": [
    {
     "data": {
      "text/plain": [
       "['amazon',\n",
       " 'arrived',\n",
       " 'audio',\n",
       " 'awesome',\n",
       " 'bad',\n",
       " 'battery',\n",
       " 'belt',\n",
       " 'best',\n",
       " 'better',\n",
       " 'big',\n",
       " 'black',\n",
       " 'bluetooth',\n",
       " 'bought',\n",
       " 'broke',\n",
       " 'buttons',\n",
       " 'buy',\n",
       " 'cable',\n",
       " 'calls',\n",
       " 'came',\n",
       " 'camera',\n",
       " 'car',\n",
       " 'case',\n",
       " 'cases',\n",
       " 'cell',\n",
       " 'charge',\n",
       " 'charger',\n",
       " 'charging',\n",
       " 'charm',\n",
       " 'cheap',\n",
       " 'clarity',\n",
       " 'clear',\n",
       " 'color',\n",
       " 'comfortable',\n",
       " 'company',\n",
       " 'completely',\n",
       " 'connection',\n",
       " 'cool',\n",
       " 'couldn',\n",
       " 'couple',\n",
       " 'crap',\n",
       " 'customer',\n",
       " 'days',\n",
       " 'definitely',\n",
       " 'design',\n",
       " 'device',\n",
       " 'did',\n",
       " 'didn',\n",
       " 'different',\n",
       " 'difficult',\n",
       " 'disappointed',\n",
       " 'disappointing',\n",
       " 'disappointment',\n",
       " 'does',\n",
       " 'doesn',\n",
       " 'don',\n",
       " 'dropped',\n",
       " 'ear',\n",
       " 'ears',\n",
       " 'easily',\n",
       " 'easy',\n",
       " 'end',\n",
       " 'especially',\n",
       " 'excellent',\n",
       " 'expect',\n",
       " 'far',\n",
       " 'feature',\n",
       " 'feels',\n",
       " 'fine',\n",
       " 'fit',\n",
       " 'fits',\n",
       " 'free',\n",
       " 'gets',\n",
       " 'going',\n",
       " 'good',\n",
       " 'got',\n",
       " 'great',\n",
       " 'hands',\n",
       " 'happy',\n",
       " 'hard',\n",
       " 'having',\n",
       " 'headphones',\n",
       " 'headset',\n",
       " 'headsets',\n",
       " 'hear',\n",
       " 'helpful',\n",
       " 'high',\n",
       " 'highly',\n",
       " 'hold',\n",
       " 'horrible',\n",
       " 'hours',\n",
       " 'important',\n",
       " 'impressed',\n",
       " 'internet',\n",
       " 'item',\n",
       " 'jabra',\n",
       " 'job',\n",
       " 'junk',\n",
       " 'just',\n",
       " 'kind',\n",
       " 'know',\n",
       " 'life',\n",
       " 'light',\n",
       " 'like',\n",
       " 'line',\n",
       " 'little',\n",
       " 'long',\n",
       " 'look',\n",
       " 'looking',\n",
       " 'looks',\n",
       " 'lot',\n",
       " 'loud',\n",
       " 'love',\n",
       " 'low',\n",
       " 'make',\n",
       " 'makes',\n",
       " 'minutes',\n",
       " 'mobile',\n",
       " 'money',\n",
       " 'months',\n",
       " 'motorola',\n",
       " 'need',\n",
       " 'new',\n",
       " 'nice',\n",
       " 'nokia',\n",
       " 'old',\n",
       " 'original',\n",
       " 'overall',\n",
       " 'people',\n",
       " 'perfectly',\n",
       " 'phone',\n",
       " 'phones',\n",
       " 'picture',\n",
       " 'piece',\n",
       " 'plastic',\n",
       " 'pleased',\n",
       " 'plug',\n",
       " 'poor',\n",
       " 'pretty',\n",
       " 'price',\n",
       " 'priced',\n",
       " 'problem',\n",
       " 'problems',\n",
       " 'product',\n",
       " 'purchase',\n",
       " 'quality',\n",
       " 'quickly',\n",
       " 'quite',\n",
       " 'range',\n",
       " 'razr',\n",
       " 'real',\n",
       " 'really',\n",
       " 'received',\n",
       " 'reception',\n",
       " 'recommend',\n",
       " 'replace',\n",
       " 'return',\n",
       " 'right',\n",
       " 'samsung',\n",
       " 'say',\n",
       " 'screen',\n",
       " 'service',\n",
       " 'shipping',\n",
       " 'signal',\n",
       " 'simple',\n",
       " 'small',\n",
       " 'software',\n",
       " 'sound',\n",
       " 'started',\n",
       " 'stay',\n",
       " 'strong',\n",
       " 'sturdy',\n",
       " 'sure',\n",
       " 'talk',\n",
       " 'terrible',\n",
       " 'thing',\n",
       " 'think',\n",
       " 'time',\n",
       " 'tried',\n",
       " 'turn',\n",
       " 'unit',\n",
       " 'use',\n",
       " 'used',\n",
       " 'useless',\n",
       " 'using',\n",
       " 'value',\n",
       " 've',\n",
       " 'verizon',\n",
       " 'voice',\n",
       " 'volume',\n",
       " 'want',\n",
       " 'waste',\n",
       " 'way',\n",
       " 'wear',\n",
       " 'week',\n",
       " 'weeks',\n",
       " 'went',\n",
       " 'work',\n",
       " 'worked',\n",
       " 'working',\n",
       " 'works',\n",
       " 'worst',\n",
       " 'year',\n",
       " 'years']"
      ]
     },
     "execution_count": 30,
     "metadata": {},
     "output_type": "execute_result"
    }
   ],
   "source": [
    "#get name of words\n",
    "vect.get_feature_names()"
   ]
  },
  {
   "cell_type": "code",
   "execution_count": 31,
   "metadata": {
    "collapsed": true
   },
   "outputs": [],
   "source": [
    "X = vect.fit_transform(texts).toarray()\n",
    "y = df.loc[:, 'class'].values\n",
    "y[y == 0] = -1"
   ]
  },
  {
   "cell_type": "code",
   "execution_count": 32,
   "metadata": {},
   "outputs": [],
   "source": [
    "model = SimpleLogisticRegression()\n",
    "model.fit(X, y)"
   ]
  },
  {
   "cell_type": "code",
   "execution_count": 33,
   "metadata": {},
   "outputs": [
    {
     "data": {
      "text/plain": [
       "Text(0, 0.5, 'log-loss with l2')"
      ]
     },
     "execution_count": 33,
     "metadata": {},
     "output_type": "execute_result"
    },
    {
     "data": {
      "image/png": "[encoded data removed]",
      "text/plain": [
       "<Figure size 864x576 with 1 Axes>"
      ]
     },
     "metadata": {},
     "output_type": "display_data"
    }
   ],
   "source": [
    "#plot of the quality\n",
    "qual = model.qual_\n",
    "x = np.arange(0, len(qual))\n",
    "plt.title('quality')\n",
    "plt.plot(x, qual)\n",
    "plt.xlabel('iterations')\n",
    "plt.ylabel('log-loss with l2')"
   ]
  },
  {
   "cell_type": "code",
   "execution_count": 34,
   "metadata": {},
   "outputs": [
    {
     "data": {
      "text/plain": [
       "'Accuracy = 0.824'"
      ]
     },
     "execution_count": 34,
     "metadata": {},
     "output_type": "execute_result"
    }
   ],
   "source": [
    "y_hat = model.predict(X)\n",
    "'Accuracy = {}'.format((y == y_hat).mean())"
   ]
  },
  {
   "cell_type": "code",
   "execution_count": 35,
   "metadata": {
    "collapsed": true
   },
   "outputs": [],
   "source": [
    "coefs = model.coef_\n",
    "words = vect.get_feature_names()"
   ]
  },
  {
   "cell_type": "code",
   "execution_count": 36,
   "metadata": {},
   "outputs": [
    {
     "data": {
      "text/plain": [
       "poor             -0.911164\n",
       "bad              -0.806823\n",
       "worst            -0.772610\n",
       "money            -0.720465\n",
       "work             -0.649539\n",
       "terrible         -0.646645\n",
       "waste            -0.621910\n",
       "don              -0.617919\n",
       "disappointed     -0.604008\n",
       "doesn            -0.572379\n",
       "broke            -0.532033\n",
       "horrible         -0.512622\n",
       "piece            -0.510862\n",
       "hear             -0.501713\n",
       "unit             -0.481827\n",
       "plug             -0.466986\n",
       "junk             -0.462510\n",
       "calls            -0.459491\n",
       "useless          -0.442034\n",
       "old              -0.441733\n",
       "didn             -0.439661\n",
       "difficult        -0.436854\n",
       "picture          -0.428514\n",
       "thing            -0.417804\n",
       "stay             -0.413915\n",
       "buy              -0.402210\n",
       "disappointing    -0.395864\n",
       "disappointment   -0.386716\n",
       "crap             -0.367303\n",
       "does             -0.351919\n",
       "                    ...   \n",
       "light             0.353717\n",
       "years             0.379854\n",
       "cool              0.389864\n",
       "definitely        0.390689\n",
       "like              0.402770\n",
       "awesome           0.415925\n",
       "wear              0.417072\n",
       "pretty            0.417752\n",
       "highly            0.422719\n",
       "far               0.423591\n",
       "cases             0.441708\n",
       "clear             0.458253\n",
       "pleased           0.465964\n",
       "cell              0.476236\n",
       "sturdy            0.496410\n",
       "perfectly         0.525231\n",
       "fine              0.526799\n",
       "fits              0.625408\n",
       "comfortable       0.664436\n",
       "happy             0.722261\n",
       "recommend         0.734538\n",
       "price             0.793496\n",
       "easy              0.890414\n",
       "best              1.055409\n",
       "nice              1.160282\n",
       "love              1.248428\n",
       "excellent         1.289403\n",
       "good              1.330062\n",
       "works             1.541073\n",
       "great             2.150401\n",
       "Length: 203, dtype: float64"
      ]
     },
     "execution_count": 36,
     "metadata": {},
     "output_type": "execute_result"
    }
   ],
   "source": [
    "#sort word by it coefs (word with small coef first, with large coef last)\n",
    "weights = pd.Series(index=words, data=coefs)\n",
    "weights.sort_values()"
   ]
  }
 ],
 "metadata": {
  "anaconda-cloud": {},
  "kernelspec": {
   "display_name": "Python 3",
   "language": "python",
   "name": "python3"
  },
  "language_info": {
   "codemirror_mode": {
    "name": "ipython",
    "version": 3
   },
   "file_extension": ".py",
   "mimetype": "text/x-python",
   "name": "python",
   "nbconvert_exporter": "python",
   "pygments_lexer": "ipython3",
   "version": "3.6.3"
  },
  "toc": {
   "colors": {
    "hover_highlight": "#DAA520",
    "navigate_num": "#000000",
    "navigate_text": "#333333",
    "running_highlight": "#FF0000",
    "selected_highlight": "#FFD700",
    "sidebar_border": "#EEEEEE",
    "wrapper_background": "#FFFFFF"
   },
   "moveMenuLeft": true,
   "nav_menu": {
    "height": "142px",
    "width": "252px"
   },
   "navigate_menu": true,
   "number_sections": false,
   "sideBar": true,
   "threshold": 4,
   "toc_cell": false,
   "toc_section_display": "block",
   "toc_window_display": false,
   "widenNotebook": false
  }
 },
 "nbformat": 4,
 "nbformat_minor": 2
}
