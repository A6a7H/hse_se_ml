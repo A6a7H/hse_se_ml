{
 "cells": [
  {
   "cell_type": "markdown",
   "metadata": {},
   "source": [
    "<center><img src=\"img/logo_hse_black.jpg\"></center>\n",
    "\n",
    "<h1><center>Data Analysis</center></h1>\n",
    "<h2><center>Seminar: Clustering</center></h2>"
   ]
  },
  {
   "cell_type": "code",
   "execution_count": 1,
   "metadata": {},
   "outputs": [],
   "source": [
    "import pandas as pd\n",
    "import numpy as np\n",
    "import matplotlib.pyplot as plt\n",
    "\n",
    "%matplotlib inline"
   ]
  },
  {
   "cell_type": "markdown",
   "metadata": {},
   "source": [
    "# Data Preparation"
   ]
  },
  {
   "cell_type": "code",
   "execution_count": 2,
   "metadata": {},
   "outputs": [],
   "source": [
    "from sklearn import datasets\n",
    "\n",
    "n_samples = 1500\n",
    "random_state = 170\n",
    "X, y = datasets.make_blobs(centers=3, n_samples=n_samples, random_state=random_state, center_box=(-10, 10))\n",
    "\n",
    "# To play with\n",
    "# X, y = datasets.make_circles(n_samples=n_samples, factor=.5, noise=.05)\n",
    "# X, y = datasets.make_moons(n_samples=n_samples, noise=.05)\n",
    "# X = np.random.rand(n_samples, 2)"
   ]
  },
  {
   "cell_type": "code",
   "execution_count": 3,
   "metadata": {},
   "outputs": [
    {
     "name": "stderr",
     "output_type": "stream",
     "text": [
      "No handles with labels found to put in legend.\n"
     ]
    },
    {
     "data": {
      "image/png": "[encoded data removed]",
      "text/plain": [
       "<Figure size 648x432 with 1 Axes>"
      ]
     },
     "metadata": {
      "needs_background": "light"
     },
     "output_type": "display_data"
    }
   ],
   "source": [
    "# Create an figure with a custom size\n",
    "plt.figure(figsize=(9, 6))\n",
    "\n",
    "# Plot all objects with y == 0 (class 0)\n",
    "plt.scatter(X[:, 0],     # selects all objects with y == 0 and the 1st column of X\n",
    "            X[:, 1],     # selects all objects with y == 0 and the 2nd column of X\n",
    "            color='b')        # label for the plot legend\n",
    "\n",
    "plt.xlabel('X1') # set up X-axis label\n",
    "plt.ylabel('X2') # set up Y-axis label\n",
    "\n",
    "plt.legend(loc='best') # create the plot legend and set up it position\n",
    "plt.grid(b=1) # create grid on the plot\n",
    "\n",
    "plt.show() # display the plot"
   ]
  },
  {
   "cell_type": "markdown",
   "metadata": {},
   "source": [
    "# Clustering"
   ]
  },
  {
   "cell_type": "markdown",
   "metadata": {},
   "source": [
    "<center><img src=\"img/kmean1.png\"></center>"
   ]
  },
  {
   "cell_type": "code",
   "execution_count": 4,
   "metadata": {},
   "outputs": [],
   "source": [
    "def plot_clusters(X, y):\n",
    "\n",
    "    # Create an figure with a custom size\n",
    "    plt.figure(figsize=(9, 6))\n",
    "\n",
    "    for cluster_label in np.unique(y):\n",
    "        # Plot all objects with y == 0 (class 0)\n",
    "        plt.scatter(X[y == cluster_label, 0],     # selects all objects with y == 0 and the 1st column of X\n",
    "                    X[y == cluster_label, 1],     # selects all objects with y == 0 and the 2nd column of X\n",
    "                    label=str(cluster_label))        # label for the plot legend\n",
    "\n",
    "    plt.xlabel('X1') # set up X-axis label\n",
    "    plt.ylabel('X2') # set up Y-axis label\n",
    "\n",
    "    plt.legend(loc='best') # create the plot legend and set up it position\n",
    "    plt.grid(b=1) # create grid on the plot\n",
    "\n",
    "    plt.show() # display the plot"
   ]
  },
  {
   "cell_type": "code",
   "execution_count": 5,
   "metadata": {},
   "outputs": [],
   "source": [
    "from sklearn.utils import resample\n",
    "\n",
    "\n",
    "class MyKmeans(object):\n",
    "    \n",
    "    def __init__(self, n_clusters=2, max_iter=10, n_init=10, random_state=42):\n",
    "        \n",
    "        self.n_clusters = n_clusters\n",
    "        self.max_iter = max_iter\n",
    "        self.n_init = n_init\n",
    "        self.random_state = random_state\n",
    "        \n",
    "        \n",
    "    def _predict_for_centers(self, cluster_centers, X):\n",
    "        \n",
    "        object_distances2 = []\n",
    "        for one_cluster_center in cluster_centers:\n",
    "            dist2 = ((X - one_cluster_center)**2).sum(axis=1)\n",
    "            object_distances2.append(dist2)\n",
    "        object_distances2 = np.array(object_distances2)\n",
    "        labels = np.argmin(object_distances2, axis=0)\n",
    "        \n",
    "        return labels\n",
    "    \n",
    "    \n",
    "    def _calculate_cluster_centers(self, X, y):\n",
    "        \n",
    "        cluster_centers = []\n",
    "        cluster_labels = np.unique(y)\n",
    "        \n",
    "        for one_cluster_label in cluster_labels:\n",
    "            one_cluster_center = X[y == one_cluster_label].mean(axis=0)\n",
    "            cluster_centers.append(one_cluster_center)\n",
    "            \n",
    "        return np.array(cluster_centers)\n",
    "    \n",
    "    \n",
    "    def _calculate_cluster_metric(self, cluster_centers, X):\n",
    "        \n",
    "        object_distances2 = []\n",
    "        for one_cluster_center in cluster_centers:\n",
    "            dist2 = ((X - one_cluster_center)**2).sum(axis=1)\n",
    "            object_distances2.append(dist2)\n",
    "        object_distances2 = np.array(object_distances2)\n",
    "        \n",
    "        return object_distances2.mean()\n",
    "    \n",
    "    \n",
    "    def _fit_one_time(self, X, cluster_centers):\n",
    "        \n",
    "        for i in range(self.max_iter):\n",
    "            labels = self._predict_for_centers(cluster_centers, X)\n",
    "            cluster_centers = self._calculate_cluster_centers(X, labels)\n",
    "            \n",
    "        return cluster_centers\n",
    "    \n",
    "        \n",
    "        \n",
    "    def fit(self, X):\n",
    "        \n",
    "        self.best_cluster_centers = None\n",
    "        self.best_metric = np.inf\n",
    "        \n",
    "        for i in range(self.n_init):\n",
    "            \n",
    "            cluster_centers_init = resample(X, n_samples=self.n_clusters, random_state=None, replace=False)\n",
    "            cluster_centers = self._fit_one_time(X, cluster_centers_init)\n",
    "            metric = self._calculate_cluster_metric(cluster_centers, X)\n",
    "            \n",
    "            if metric < self.best_metric:\n",
    "                self.best_metric = metric\n",
    "                self.best_cluster_centers = cluster_centers\n",
    "                \n",
    "    \n",
    "    def predict(self, X):\n",
    "        \n",
    "        y = self._predict_for_centers(self.best_cluster_centers, X)\n",
    "        \n",
    "        return y"
   ]
  },
  {
   "cell_type": "code",
   "execution_count": 6,
   "metadata": {},
   "outputs": [],
   "source": [
    "clusterer = MyKmeans(n_clusters=3, max_iter=10, n_init=10, random_state=42)\n",
    "clusterer.fit(X)\n",
    "y_pred = clusterer.predict(X)"
   ]
  },
  {
   "cell_type": "code",
   "execution_count": 7,
   "metadata": {},
   "outputs": [
    {
     "data": {
      "text/plain": [
       "array([1, 1, 2, 1, 1, 0, 2, 2, 2, 0])"
      ]
     },
     "execution_count": 7,
     "metadata": {},
     "output_type": "execute_result"
    }
   ],
   "source": [
    "y_pred[:10]"
   ]
  },
  {
   "cell_type": "code",
   "execution_count": 8,
   "metadata": {},
   "outputs": [
    {
     "data": {
      "image/png": "[encoded data removed]",
      "text/plain": [
       "<Figure size 648x432 with 1 Axes>"
      ]
     },
     "metadata": {
      "needs_background": "light"
     },
     "output_type": "display_data"
    }
   ],
   "source": [
    "plot_clusters(X, y_pred)"
   ]
  },
  {
   "cell_type": "markdown",
   "metadata": {},
   "source": [
    "# Metrics\n",
    "\n",
    "**Silhouette Score:**\n",
    "\n",
    "$$\n",
    "s = \\frac{b - a}{max(a, b)}\n",
    "$$\n",
    "\n",
    "- **a**: The mean distance between a sample and all other points in the same class.\n",
    "- **b**: The mean distance between a sample and all other points in the next nearest cluster.\n",
    "\n",
    "\n",
    "**Adjusted Rand Index (ARI):**\n",
    "\n",
    "$$\n",
    "ARI = \\frac{RI - Expected\\_RI}{max(RI) - Expected\\_RI}\n",
    "$$\n",
    "\n",
    "$$\n",
    "RI = \\frac{a + b}{a + b + c + d}\n",
    "$$\n",
    "\n",
    "\n",
    "- a, the number of pairs of elements in S that are in the same subset in X and in the same subset in Y\n",
    "- b, the number of pairs of elements in S that are in different subsets in X and in different subsets in Y\n",
    "- c, the number of pairs of elements in S that are in the same subset in X and in different subsets in Y\n",
    "- d, the number of pairs of elements in S that are in different subsets in X and in the same subset in Y"
   ]
  },
  {
   "cell_type": "code",
   "execution_count": 9,
   "metadata": {},
   "outputs": [],
   "source": [
    "from sklearn import metrics\n",
    "\n",
    "silhouette_score_values = []\n",
    "adjusted_rand_score_values = []\n",
    "n_clusters = np.arange(2, 21)\n",
    "\n",
    "for n in n_clusters:\n",
    "    \n",
    "    clusterer = MyKmeans(n_clusters=n, max_iter=10, n_init=10)\n",
    "    clusterer.fit(X)\n",
    "    y_pred = clusterer.predict(X)\n",
    "    \n",
    "    score1 = metrics.silhouette_score(X, y_pred)\n",
    "    silhouette_score_values.append(score1)\n",
    "    \n",
    "    score2 = metrics.adjusted_rand_score(y, y_pred)\n",
    "    adjusted_rand_score_values.append(score2)"
   ]
  },
  {
   "cell_type": "code",
   "execution_count": 10,
   "metadata": {},
   "outputs": [
    {
     "data": {
      "image/png": "[encoded data removed]",
      "text/plain": [
       "<Figure size 648x432 with 1 Axes>"
      ]
     },
     "metadata": {
      "needs_background": "light"
     },
     "output_type": "display_data"
    }
   ],
   "source": [
    "plt.figure(figsize=(9, 6))\n",
    "plt.plot(n_clusters, silhouette_score_values, linewidth=3, label='Silhouette score')\n",
    "plt.plot(n_clusters, adjusted_rand_score_values, linewidth=3, label='Adjusted rand score')\n",
    "plt.xlabel('Number of clusters', size=16)\n",
    "plt.ylabel('Score', size=16)\n",
    "plt.xticks(n_clusters, size=16)\n",
    "plt.yticks(size=16)\n",
    "plt.legend(loc='best', fontsize=16)\n",
    "plt.grid(b=1)\n",
    "plt.show()"
   ]
  },
  {
   "cell_type": "markdown",
   "metadata": {},
   "source": [
    "# Real Data Example (Additional)"
   ]
  },
  {
   "cell_type": "code",
   "execution_count": 11,
   "metadata": {},
   "outputs": [
    {
     "data": {
      "text/html": [
       "<div>\n",
       "<style scoped>\n",
       "    .dataframe tbody tr th:only-of-type {\n",
       "        vertical-align: middle;\n",
       "    }\n",
       "\n",
       "    .dataframe tbody tr th {\n",
       "        vertical-align: top;\n",
       "    }\n",
       "\n",
       "    .dataframe thead th {\n",
       "        text-align: right;\n",
       "    }\n",
       "</style>\n",
       "<table border=\"1\" class=\"dataframe\">\n",
       "  <thead>\n",
       "    <tr style=\"text-align: right;\">\n",
       "      <th></th>\n",
       "      <th>gradyear</th>\n",
       "      <th>gender</th>\n",
       "      <th>age</th>\n",
       "      <th>friends</th>\n",
       "      <th>basketball</th>\n",
       "      <th>football</th>\n",
       "      <th>soccer</th>\n",
       "      <th>softball</th>\n",
       "      <th>volleyball</th>\n",
       "      <th>swimming</th>\n",
       "      <th>...</th>\n",
       "      <th>blonde</th>\n",
       "      <th>mall</th>\n",
       "      <th>shopping</th>\n",
       "      <th>clothes</th>\n",
       "      <th>hollister</th>\n",
       "      <th>abercrombie</th>\n",
       "      <th>die</th>\n",
       "      <th>death</th>\n",
       "      <th>drunk</th>\n",
       "      <th>drugs</th>\n",
       "    </tr>\n",
       "  </thead>\n",
       "  <tbody>\n",
       "    <tr>\n",
       "      <th>0</th>\n",
       "      <td>2006</td>\n",
       "      <td>M</td>\n",
       "      <td>18.982</td>\n",
       "      <td>7</td>\n",
       "      <td>0</td>\n",
       "      <td>0</td>\n",
       "      <td>0</td>\n",
       "      <td>0</td>\n",
       "      <td>0</td>\n",
       "      <td>0</td>\n",
       "      <td>...</td>\n",
       "      <td>0</td>\n",
       "      <td>0</td>\n",
       "      <td>0</td>\n",
       "      <td>0</td>\n",
       "      <td>0</td>\n",
       "      <td>0</td>\n",
       "      <td>0</td>\n",
       "      <td>0</td>\n",
       "      <td>0</td>\n",
       "      <td>0</td>\n",
       "    </tr>\n",
       "    <tr>\n",
       "      <th>1</th>\n",
       "      <td>2006</td>\n",
       "      <td>F</td>\n",
       "      <td>18.801</td>\n",
       "      <td>0</td>\n",
       "      <td>0</td>\n",
       "      <td>1</td>\n",
       "      <td>0</td>\n",
       "      <td>0</td>\n",
       "      <td>0</td>\n",
       "      <td>0</td>\n",
       "      <td>...</td>\n",
       "      <td>0</td>\n",
       "      <td>1</td>\n",
       "      <td>0</td>\n",
       "      <td>0</td>\n",
       "      <td>0</td>\n",
       "      <td>0</td>\n",
       "      <td>0</td>\n",
       "      <td>0</td>\n",
       "      <td>0</td>\n",
       "      <td>0</td>\n",
       "    </tr>\n",
       "    <tr>\n",
       "      <th>2</th>\n",
       "      <td>2006</td>\n",
       "      <td>M</td>\n",
       "      <td>18.335</td>\n",
       "      <td>69</td>\n",
       "      <td>0</td>\n",
       "      <td>1</td>\n",
       "      <td>0</td>\n",
       "      <td>0</td>\n",
       "      <td>0</td>\n",
       "      <td>0</td>\n",
       "      <td>...</td>\n",
       "      <td>0</td>\n",
       "      <td>0</td>\n",
       "      <td>0</td>\n",
       "      <td>0</td>\n",
       "      <td>0</td>\n",
       "      <td>0</td>\n",
       "      <td>0</td>\n",
       "      <td>1</td>\n",
       "      <td>0</td>\n",
       "      <td>0</td>\n",
       "    </tr>\n",
       "    <tr>\n",
       "      <th>3</th>\n",
       "      <td>2006</td>\n",
       "      <td>F</td>\n",
       "      <td>18.875</td>\n",
       "      <td>0</td>\n",
       "      <td>0</td>\n",
       "      <td>0</td>\n",
       "      <td>0</td>\n",
       "      <td>0</td>\n",
       "      <td>0</td>\n",
       "      <td>0</td>\n",
       "      <td>...</td>\n",
       "      <td>0</td>\n",
       "      <td>0</td>\n",
       "      <td>0</td>\n",
       "      <td>0</td>\n",
       "      <td>0</td>\n",
       "      <td>0</td>\n",
       "      <td>0</td>\n",
       "      <td>0</td>\n",
       "      <td>0</td>\n",
       "      <td>0</td>\n",
       "    </tr>\n",
       "    <tr>\n",
       "      <th>4</th>\n",
       "      <td>2006</td>\n",
       "      <td>NaN</td>\n",
       "      <td>18.995</td>\n",
       "      <td>10</td>\n",
       "      <td>0</td>\n",
       "      <td>0</td>\n",
       "      <td>0</td>\n",
       "      <td>0</td>\n",
       "      <td>0</td>\n",
       "      <td>0</td>\n",
       "      <td>...</td>\n",
       "      <td>0</td>\n",
       "      <td>0</td>\n",
       "      <td>2</td>\n",
       "      <td>0</td>\n",
       "      <td>0</td>\n",
       "      <td>0</td>\n",
       "      <td>0</td>\n",
       "      <td>0</td>\n",
       "      <td>1</td>\n",
       "      <td>1</td>\n",
       "    </tr>\n",
       "  </tbody>\n",
       "</table>\n",
       "<p>5 rows × 40 columns</p>\n",
       "</div>"
      ],
      "text/plain": [
       "   gradyear gender     age  friends  basketball  football  soccer  softball  \\\n",
       "0      2006      M  18.982        7           0         0       0         0   \n",
       "1      2006      F  18.801        0           0         1       0         0   \n",
       "2      2006      M  18.335       69           0         1       0         0   \n",
       "3      2006      F  18.875        0           0         0       0         0   \n",
       "4      2006    NaN  18.995       10           0         0       0         0   \n",
       "\n",
       "   volleyball  swimming  ...    blonde  mall  shopping  clothes  hollister  \\\n",
       "0           0         0  ...         0     0         0        0          0   \n",
       "1           0         0  ...         0     1         0        0          0   \n",
       "2           0         0  ...         0     0         0        0          0   \n",
       "3           0         0  ...         0     0         0        0          0   \n",
       "4           0         0  ...         0     0         2        0          0   \n",
       "\n",
       "   abercrombie  die  death  drunk  drugs  \n",
       "0            0    0      0      0      0  \n",
       "1            0    0      0      0      0  \n",
       "2            0    0      1      0      0  \n",
       "3            0    0      0      0      0  \n",
       "4            0    0      0      1      1  \n",
       "\n",
       "[5 rows x 40 columns]"
      ]
     },
     "execution_count": 11,
     "metadata": {},
     "output_type": "execute_result"
    }
   ],
   "source": [
    "df_sns = pd.read_csv('data/snsdata.csv', sep=',')\n",
    "df_sns.head()"
   ]
  },
  {
   "cell_type": "markdown",
   "metadata": {},
   "source": [
    "The sample has columns: \n",
    "* Year of creation\n",
    "* Gender\n",
    "* Age\n",
    "* Number of friends\n",
    "* 36 keywords that are found in the facebook profile (interests, community, meetings)"
   ]
  },
  {
   "cell_type": "markdown",
   "metadata": {},
   "source": [
    "## Create Matrix X"
   ]
  },
  {
   "cell_type": "code",
   "execution_count": 12,
   "metadata": {},
   "outputs": [
    {
     "data": {
      "text/plain": [
       "Index(['gradyear', 'gender', 'age', 'friends', 'basketball', 'football',\n",
       "       'soccer', 'softball', 'volleyball', 'swimming', 'cheerleading',\n",
       "       'baseball', 'tennis', 'sports', 'cute', 'sex', 'sexy', 'hot', 'kissed',\n",
       "       'dance', 'band', 'marching', 'music', 'rock', 'god', 'church', 'jesus',\n",
       "       'bible', 'hair', 'dress', 'blonde', 'mall', 'shopping', 'clothes',\n",
       "       'hollister', 'abercrombie', 'die', 'death', 'drunk', 'drugs'],\n",
       "      dtype='object')"
      ]
     },
     "execution_count": 12,
     "metadata": {},
     "output_type": "execute_result"
    }
   ],
   "source": [
    "df_sns.columns"
   ]
  },
  {
   "cell_type": "code",
   "execution_count": 13,
   "metadata": {},
   "outputs": [],
   "source": [
    "word_cols = ['basketball', 'football',\n",
    "             'soccer', 'softball', 'volleyball', 'swimming', 'cheerleading',\n",
    "             'baseball', 'tennis', 'sports', 'cute', 'sex', 'sexy', 'hot', 'kissed',\n",
    "             'dance', 'band', 'marching', 'music', 'rock', 'god', 'church', 'jesus',\n",
    "             'bible', 'hair', 'dress', 'blonde', 'mall', 'shopping', 'clothes',\n",
    "             'hollister', 'abercrombie', 'die', 'death', 'drunk', 'drugs']\n",
    "\n",
    "X = df_sns[word_cols].values"
   ]
  },
  {
   "cell_type": "markdown",
   "metadata": {},
   "source": [
    "## Clustering"
   ]
  },
  {
   "cell_type": "code",
   "execution_count": 14,
   "metadata": {},
   "outputs": [],
   "source": [
    "clusterer = MyKmeans(n_clusters=9, max_iter=10, n_init=10)\n",
    "clusterer.fit(X)\n",
    "y_pred = clusterer.predict(X)"
   ]
  },
  {
   "cell_type": "code",
   "execution_count": 15,
   "metadata": {},
   "outputs": [
    {
     "data": {
      "text/plain": [
       "0.20220872327630163"
      ]
     },
     "execution_count": 15,
     "metadata": {},
     "output_type": "execute_result"
    }
   ],
   "source": [
    "metrics.silhouette_score(X, y_pred)"
   ]
  },
  {
   "cell_type": "code",
   "execution_count": 16,
   "metadata": {},
   "outputs": [
    {
     "data": {
      "text/plain": [
       "array([[0.45709828, 0.39937598, 0.27301092, 0.29953198, 3.38221529,\n",
       "        0.19188768, 0.13104524, 0.12948518, 0.08892356, 0.26677067,\n",
       "        0.34321373, 0.12324493, 0.12480499, 0.15132605, 0.07800312,\n",
       "        0.34945398, 0.18720749, 0.01560062, 0.56162246, 0.22464899,\n",
       "        0.40873635, 0.29797192, 0.1201248 , 0.02808112, 0.31669267,\n",
       "        0.12636505, 0.11232449, 0.27613105, 0.53198128, 0.14664587,\n",
       "        0.11856474, 0.09048362, 0.11856474, 0.09672387, 0.074883  ,\n",
       "        0.04212168],\n",
       "       [0.47584187, 0.50366032, 0.31844802, 0.20717423, 0.19180088,\n",
       "        0.27891654, 0.22620791, 0.25036603, 0.15959004, 0.44802343,\n",
       "        0.89019034, 2.17935578, 0.39458272, 0.30527086, 1.05051245,\n",
       "        0.80819912, 0.70131772, 0.05710102, 1.79282577, 0.86090776,\n",
       "        0.76939971, 0.35578331, 0.1317716 , 0.03001464, 3.88140556,\n",
       "        0.34260615, 0.79282577, 0.73060029, 0.6090776 , 0.67057101,\n",
       "        0.23572474, 0.19692533, 0.7920937 , 0.34187408, 0.45900439,\n",
       "        0.5431918 ],\n",
       "       [0.30869972, 0.34424696, 0.14499532, 0.10664172, 0.1253508 ,\n",
       "        0.14967259, 0.17212348, 0.07390084, 0.09354537, 0.11038354,\n",
       "        0.57343312, 0.16838167, 0.23199252, 0.22357343, 0.08793265,\n",
       "        4.85126286, 0.41066417, 0.04864359, 0.93451824, 0.34705332,\n",
       "        0.50420954, 0.37137512, 0.10944808, 0.0243218 , 0.5696913 ,\n",
       "        0.28999065, 0.10009355, 0.39382601, 0.56407858, 0.22918616,\n",
       "        0.09167446, 0.09073901, 0.24602432, 0.13096352, 0.11225444,\n",
       "        0.05706268],\n",
       "       [0.11201431, 0.16273777, 0.05944833, 0.06047797, 0.04058961,\n",
       "        0.08860348, 0.07034087, 0.06909446, 0.06795643, 0.08649   ,\n",
       "        0.19313933, 0.09185498, 0.11093047, 0.08231724, 0.0412941 ,\n",
       "        0.17617732, 0.16040752, 0.02530754, 0.29052187, 0.13802634,\n",
       "        0.24879423, 0.1022598 , 0.06524684, 0.00926679, 0.17910367,\n",
       "        0.06427139, 0.03912643, 0.13347423, 0.17287162, 0.07646453,\n",
       "        0.04021026, 0.02958868, 0.12821763, 0.08009538, 0.05885222,\n",
       "        0.0268791 ],\n",
       "       [3.26508621, 1.13038793, 0.33836207, 0.27155172, 0.23599138,\n",
       "        0.14655172, 0.20043103, 0.65948276, 0.11422414, 0.44396552,\n",
       "        0.37823276, 0.22306034, 0.1799569 , 0.15409483, 0.08836207,\n",
       "        0.35775862, 0.17456897, 0.01939655, 0.71659483, 0.46336207,\n",
       "        0.41702586, 0.33081897, 0.10883621, 0.02586207, 0.42241379,\n",
       "        0.1174569 , 0.28340517, 0.32974138, 0.40625   , 0.18965517,\n",
       "        0.0862069 , 0.05818966, 0.15732759, 0.10344828, 0.06142241,\n",
       "        0.03663793],\n",
       "       [0.5751073 , 0.38841202, 0.18669528, 4.77467811, 0.37553648,\n",
       "        0.17811159, 0.12446352, 0.20386266, 0.05579399, 0.34120172,\n",
       "        0.39270386, 0.18025751, 0.1416309 , 0.14377682, 0.09012876,\n",
       "        0.40343348, 0.30257511, 0.04077253, 0.7167382 , 0.22961373,\n",
       "        0.48712446, 0.40343348, 0.13090129, 0.01287554, 0.40987124,\n",
       "        0.15450644, 0.11373391, 0.33261803, 0.53004292, 0.22532189,\n",
       "        0.09227468, 0.07939914, 0.17381974, 0.15450644, 0.06866953,\n",
       "        0.05150215],\n",
       "       [0.16003485, 0.21928551, 0.10485042, 0.07551554, 0.0699971 ,\n",
       "        0.15567819, 0.0699971 , 0.08219576, 0.0955562 , 0.14551263,\n",
       "        0.28115016, 0.1655533 , 0.14115597, 0.12489108, 0.08916642,\n",
       "        0.30031949, 0.69300029, 0.09700842, 2.71884984, 0.43508568,\n",
       "        0.38629103, 0.19082196, 0.10485042, 0.02294511, 0.29944816,\n",
       "        0.11530642, 0.06505954, 0.20243973, 0.31890793, 0.14928841,\n",
       "        0.05489399, 0.03427244, 0.19808307, 0.14347952, 0.08945687,\n",
       "        0.07086843],\n",
       "       [0.25423729, 0.23728814, 0.15677966, 0.10451977, 0.10451977,\n",
       "        0.14830508, 0.11016949, 0.08757062, 0.13135593, 0.17231638,\n",
       "        0.36158192, 0.24435028, 0.17372881, 0.15112994, 0.11581921,\n",
       "        0.37570621, 1.57344633, 0.21892655, 1.02966102, 0.3319209 ,\n",
       "        5.79943503, 0.98163842, 1.12711864, 0.25      , 0.45903955,\n",
       "        0.14830508, 0.11723164, 0.25847458, 0.32062147, 0.21892655,\n",
       "        0.04943503, 0.03672316, 0.47175141, 0.31497175, 0.13559322,\n",
       "        0.07485876],\n",
       "       [0.22248804, 0.37628161, 1.3492823 , 0.10936432, 0.09295967,\n",
       "        0.29835954, 0.26008202, 0.10833903, 0.14935065, 0.17361586,\n",
       "        0.7911825 , 0.10833903, 0.16404648, 0.26623377, 0.08270677,\n",
       "        0.39986329, 0.24196856, 0.0290499 , 0.64149009, 0.27067669,\n",
       "        0.50102529, 0.90123035, 0.1582365 , 0.03349282, 0.45078606,\n",
       "        0.20539986, 0.12337662, 0.79323308, 1.25598086, 0.28673958,\n",
       "        0.17464115, 0.11278195, 0.16848941, 0.13499658, 0.09056733,\n",
       "        0.04511278]])"
      ]
     },
     "execution_count": 16,
     "metadata": {},
     "output_type": "execute_result"
    }
   ],
   "source": [
    "clusterer.best_cluster_centers"
   ]
  },
  {
   "cell_type": "code",
   "execution_count": null,
   "metadata": {},
   "outputs": [],
   "source": []
  }
 ],
 "metadata": {
  "kernelspec": {
   "display_name": "Python 3",
   "language": "python",
   "name": "python3"
  },
  "language_info": {
   "codemirror_mode": {
    "name": "ipython",
    "version": 3
   },
   "file_extension": ".py",
   "mimetype": "text/x-python",
   "name": "python",
   "nbconvert_exporter": "python",
   "pygments_lexer": "ipython3",
   "version": "3.7.1"
  }
 },
 "nbformat": 4,
 "nbformat_minor": 2
}
