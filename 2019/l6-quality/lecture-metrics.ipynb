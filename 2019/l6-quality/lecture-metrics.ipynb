{
 "cells": [
  {
   "cell_type": "markdown",
   "metadata": {
    "slideshow": {
     "slide_type": "slide"
    }
   },
   "source": [
    "<center><img src=\"img/logo_hse_black.jpg\"></center>\n",
    "\n",
    "<h1><center>Data Analysis</center></h1>\n",
    "<h3><center>Andrey Shestakov (<a href=\"mailto:avshestakov@hse.ru\">avshestakov@hse.ru</a>)</center></h3>\n",
    "<hr>\n",
    "<h2><center>Supervised learning quality measures<sup><a href=\"#fn1\" id=\"ref1\">1</a></sup></center></h2>\n",
    "\n",
    "\n",
    "\n",
    "<sup id=\"fn1\">1. Some materials are taken from <a href=\"http://www.machinelearning.ru/wiki/index.php?title=%D0%9C%D0%B0%D1%82%D0%B5%D0%BC%D0%B0%D1%82%D0%B8%D1%87%D0%B5%D1%81%D0%BA%D0%B8%D0%B5_%D0%BC%D0%B5%D1%82%D0%BE%D0%B4%D1%8B_%D1%80%D0%B0%D1%81%D0%BF%D0%BE%D0%B7%D0%BD%D0%B0%D0%B2%D0%B0%D0%BD%D0%B8%D1%8F_%D0%BE%D0%B1%D1%80%D0%B0%D0%B7%D0%BE%D0%B2_%28%D0%BA%D1%83%D1%80%D1%81_%D0%BB%D0%B5%D0%BA%D1%86%D0%B8%D0%B9%2C_%D0%92.%D0%92.%D0%9A%D0%B8%D1%82%D0%BE%D0%B2%29\">machine learning course of Victor Kitov</a></sup>"
   ]
  },
  {
   "cell_type": "code",
   "execution_count": 1,
   "metadata": {
    "slideshow": {
     "slide_type": "notes"
    }
   },
   "outputs": [],
   "source": [
    "%matplotlib inline\n"
   ]
  },
  {
   "cell_type": "code",
   "execution_count": 2,
   "metadata": {
    "slideshow": {
     "slide_type": "notes"
    }
   },
   "outputs": [],
   "source": [
    "import pandas as pd\n",
    "import numpy as np\n",
    "import matplotlib.pyplot as plt\n",
    "\n",
    "plt.style.use('seaborn-talk')\n",
    "plt.rcParams['figure.figsize'] = (12,8)\n",
    "\n",
    "# Для кириллицы на графиках\n",
    "font = {'family': 'Verdana',\n",
    "        'weight': 'normal'}\n",
    "plt.rc('font', **font)\n",
    "\n",
    "from ipywidgets import interact, IntSlider, fixed, FloatSlider\n",
    "    \n",
    "import warnings\n",
    "warnings.filterwarnings('ignore')"
   ]
  },
  {
   "cell_type": "markdown",
   "metadata": {
    "slideshow": {
     "slide_type": "slide"
    }
   },
   "source": [
    "# Let's recall previous lecture\n",
    "\n",
    "* Linear Classification\n",
    "    * Binary linear classifier: $\\widehat{y}(x)=sign(w^{T}x+w_{0})$.\n",
    "    * Various multiclassification approaches: 1-vs-all, 1-vs-1, etc..\n",
    "* Perceptron, logistic, SVM - linear classifiers estimated with different loss functions.\n",
    "* Optimized with gradient descent"
   ]
  },
  {
   "cell_type": "markdown",
   "metadata": {
    "slideshow": {
     "slide_type": "slide"
    }
   },
   "source": [
    "# Model Evaluation\n",
    "\n",
    "* If we have several models we need to understand which one is better then the other\n",
    "    * If performance of complex model is similar to performance of more simplistic model use the latter!"
   ]
  },
  {
   "cell_type": "markdown",
   "metadata": {
    "slideshow": {
     "slide_type": "fragment"
    }
   },
   "source": [
    "* Understand the profit of our model in business domain (see [this](http://blog.mldb.ai/blog/posts/2016/01/ml-meets-economics/))"
   ]
  },
  {
   "cell_type": "markdown",
   "metadata": {
    "slideshow": {
     "slide_type": "fragment"
    }
   },
   "source": [
    "* Check if ML model is performind better then simple heuristics or (almost) zero-information prediction, or simple baseline models\n",
    "    * Always predict the majority class (classification)\n",
    "    * Always predict the mean value (regression)\n",
    "    * Build a simple model and compare it's performance with your sophisticated model"
   ]
  },
  {
   "cell_type": "markdown",
   "metadata": {
    "slideshow": {
     "slide_type": "subslide"
    }
   },
   "source": [
    "## Before we go\n",
    "### Recall the difference between loss function and quality measures"
   ]
  },
  {
   "cell_type": "markdown",
   "metadata": {
    "slideshow": {
     "slide_type": "fragment"
    }
   },
   "source": [
    "* Loss functions are directly optimized by the algorithms\n",
    "* Loss functions allways can be computed for a single object\n",
    "* Quality measures are usually computed for a set"
   ]
  },
  {
   "cell_type": "markdown",
   "metadata": {
    "slideshow": {
     "slide_type": "slide"
    }
   },
   "source": [
    "# Quality measures: Regression"
   ]
  },
  {
   "cell_type": "markdown",
   "metadata": {
    "slideshow": {
     "slide_type": "subslide"
    }
   },
   "source": [
    "\n",
    "**1. (R)MSE ((Root) Mean Squared Error)**\n",
    "\n",
    "$$ L(\\hat{y}, y) = \\frac{1}{N}\\sum\\limits_{n=1}^N (y_n - \\hat{y}_n)^2$$\n",
    "\n",
    "**2. MAE (Mean Absolute Error)**\n",
    "\n",
    "$$ L(\\hat{y}, y) = \\frac{1}{N}\\sum\\limits_{n=1}^N |y_n - \\hat{y}_n|$$\n",
    "\n",
    "* What are key differences?\n",
    "* What are key issues?"
   ]
  },
  {
   "cell_type": "markdown",
   "metadata": {
    "slideshow": {
     "slide_type": "subslide"
    }
   },
   "source": [
    "## MAE and MSE\n",
    "\n",
    "* Different scales \n",
    "* MSE penalize greater error more\n",
    "* MAE is robust to outliers\n",
    "<center><img src='img/metric-example.png'></center>\n",
    "\n",
    "* We can compare models with MAE and MSE but it is hard to tell if a model is good overall..."
   ]
  },
  {
   "cell_type": "markdown",
   "metadata": {
    "slideshow": {
     "slide_type": "subslide"
    }
   },
   "source": [
    "**3. RSE (Relative Squared Error)**\n",
    "\n",
    "$$ L(\\hat{y}, y) = \\sqrt\\frac{\\sum\\limits_{n=1}^N (y_n - \\hat{y}_n)^2}{\\sum\\limits_{n=1}^N (y_n - \\bar{y})^2}$$\n",
    "\n",
    "**4. RAE (Relative Absolute Error)**\n",
    "\n",
    "$$ L(\\hat{y}, y) = \\frac{\\sum\\limits_{n=1}^N |y_n - \\hat{y}_n|}{\\sum\\limits_{n=1}^N |y_n - \\bar{y}|}$$\n",
    "\n",
    "**5. MAPE (Mean Absolute Persentage Error)**\n",
    "\n",
    "$$ L(\\hat{y}, y) = \\frac{100}{N} \\sum\\limits_{n=1}^N\\left|\\frac{ y_n - \\hat{y}_n}{y_n}\\right|$$\n",
    "\n",
    "\n"
   ]
  },
  {
   "cell_type": "markdown",
   "metadata": {
    "slideshow": {
     "slide_type": "subslide"
    }
   },
   "source": [
    "**6. RMSLE (Root Mean Squared Logarithmic Error)**\n",
    "\n",
    "$$ L(\\hat{y}, y) = \\sqrt{\\frac{1}{N}\\sum\\limits_{n=1}^N(\\log(y_n + 1) - \\log(\\hat{y}_n + 1))^2}$$\n",
    "\n",
    "* what is so special about it?"
   ]
  },
  {
   "cell_type": "code",
   "execution_count": 3,
   "metadata": {
    "slideshow": {
     "slide_type": "subslide"
    }
   },
   "outputs": [
    {
     "data": {
      "text/plain": [
       "(0, 10)"
      ]
     },
     "execution_count": 3,
     "metadata": {},
     "output_type": "execute_result"
    },
    {
     "data": {
      "image/png": "[encoded data removed]",
      "text/plain": [
       "<Figure size 864x576 with 1 Axes>"
      ]
     },
     "metadata": {
      "needs_background": "light"
     },
     "output_type": "display_data"
    }
   ],
   "source": [
    "y = 100\n",
    "y_hat = np.linspace(0, 300, 151)\n",
    "# log error\n",
    "error1 = np.sqrt((np.log(y+1) - np.log(y_hat + 1))**2)\n",
    "\n",
    "# squared error\n",
    "error2 = (y - y_hat)**2 /1000.\n",
    "\n",
    "plt.plot(y_hat, error1, label='RMSLE')\n",
    "plt.plot(y_hat, error2, label='MSE')\n",
    "plt.xlabel('$\\hat{y}$')\n",
    "plt.ylabel('Error')\n",
    "plt.title('true value y = %.1f' % y)\n",
    "plt.legend()\n",
    "plt.ylim(0, 10)"
   ]
  },
  {
   "cell_type": "markdown",
   "metadata": {
    "slideshow": {
     "slide_type": "slide"
    }
   },
   "source": [
    "# Quality measures: Classification\n"
   ]
  },
  {
   "cell_type": "markdown",
   "metadata": {
    "slideshow": {
     "slide_type": "subslide"
    }
   },
   "source": [
    "## Confusion matrix\n",
    "\n",
    "Confusion matrix $M=\\{m_{ij}\\}_{i,j=1}^{C}$ shows the number of $\\omega_{i}$\n",
    "class objects predicted as belonging to class $\\omega_{j}$.\n",
    "\n",
    "<center><img src='img/confusion.png'><center/>\n",
    "\n",
    "Diagonal elements correspond to correct classifications and off-diagonal\n",
    "elements - to incorrect classifications."
   ]
  },
  {
   "cell_type": "markdown",
   "metadata": {
    "slideshow": {
     "slide_type": "subslide"
    }
   },
   "source": [
    "## Confusion matrix\n",
    "\n",
    "<center><img src='img/confusion2.png' width=500></center>\n",
    "\n",
    "* We see here that errors are conсentrated between classes 1 and 2\n",
    "* We can\n",
    "    * unite classes 1 and 2 into class \"1+2\"\n",
    "    * solve 6-class classification problem (instead of 7)\n",
    "    * try to separate classes 1 and 2 afterwards"
   ]
  },
  {
   "cell_type": "markdown",
   "metadata": {
    "slideshow": {
     "slide_type": "subslide"
    }
   },
   "source": [
    "## 2 classes case\n",
    "\n",
    "\n",
    "<center><img src='img/binary_conf.png'></center>\n",
    "\n",
    "* TP (true positive) - currectly predicted positives\n",
    "* FP (false positive) - incorrectly predicted negatives (1st order error)\n",
    "* FN (false negative) - incorrectly predicted positives (2nd order error)\n",
    "* TN (true negative) - currectly predicted negatives\n",
    "* Pos (Neg) - total number of positives (negatives)"
   ]
  },
  {
   "cell_type": "markdown",
   "metadata": {
    "slideshow": {
     "slide_type": "fragment"
    }
   },
   "source": [
    "* Provide examples of task with positive classes and negative classes"
   ]
  },
  {
   "cell_type": "markdown",
   "metadata": {
    "slideshow": {
     "slide_type": "fragment"
    }
   },
   "source": [
    "* Why do you define them in that way and not another?"
   ]
  },
  {
   "cell_type": "markdown",
   "metadata": {
    "slideshow": {
     "slide_type": "subslide"
    }
   },
   "source": [
    "## 2 classes case\n",
    "\n",
    "<center><img src='img/binary_conf.png'></center>\n",
    "\n",
    "* $ \\text{accuracy} = \\frac{TP + TN}{Pos+Neg}$\n",
    "* $ \\text{error rate} = 1 -\\text{accuracy}$\n",
    "* $ \\text{precision} =\\frac{TP}{TP + FP}$ - (точность)\n",
    "    * Ratio of objects marked positive are actually positive\n",
    "* $ \\text{recall} =\\frac{TP}{TP + FN} = \\frac{TP}{Pos}$ - (полнота)\n",
    "    * Ratio of positive objects currectly classified\n",
    "* $ \\text{F}_\\beta \\text{-score} = (1 + \\beta^2) \\cdot \\frac{\\mathrm{precision} \\cdot \\mathrm{recall}}{(\\beta^2 \\cdot \\mathrm{precision}) + \\mathrm{recall}}$\n",
    "    * why harmonic mean?\n",
    "\n"
   ]
  },
  {
   "cell_type": "markdown",
   "metadata": {
    "slideshow": {
     "slide_type": "fragment"
    }
   },
   "source": [
    "* What about multiclassification case?"
   ]
  },
  {
   "cell_type": "code",
   "execution_count": 4,
   "metadata": {
    "slideshow": {
     "slide_type": "notes"
    }
   },
   "outputs": [],
   "source": [
    "from mpl_toolkits.mplot3d import Axes3D\n",
    "\n",
    "\n",
    "def demo_fscore(beta=1):\n",
    "    \n",
    "    fig = plt.figure()\n",
    "    ax = fig.gca(projection='3d')\n",
    "    \n",
    "    prec = np.linspace(0, 1, 100)\n",
    "    rec = np.linspace(0, 1, 100)\n",
    "    \n",
    "    P, R = np.meshgrid(prec, rec)\n",
    "    \n",
    "    F = (1 + beta**2) * (P*R)/((beta**2 * P) + R)\n",
    "    \n",
    "    # Plot the surface.\n",
    "    surf = ax.plot_surface(P, R, F, cmap=plt.cm.coolwarm, alpha=0.3,\n",
    "                               linewidth=0, antialiased=False)\n",
    "\n",
    "    # Customize the z axis.\n",
    "    ax.set_zlim(-0.01, 1.01)\n",
    "    \n",
    "    ax.view_init(30,200)\n",
    "    ax.set_xlabel('precision')\n",
    "    ax.set_ylabel('recall')\n",
    "    ax.set_zlabel('F-score')\n",
    "    ax.set_title('beta = %.2f'%beta)\n",
    "\n",
    "    # Add a color bar which maps values to colors.\n",
    "    fig.colorbar(surf)\n",
    "    plt.show()\n",
    "    \n",
    "   "
   ]
  },
  {
   "cell_type": "code",
   "execution_count": 5,
   "metadata": {
    "slideshow": {
     "slide_type": "subslide"
    }
   },
   "outputs": [
    {
     "data": {
      "application/vnd.jupyter.widget-view+json": {
       "model_id": "7d72186516914f09929bc289fa680db0",
       "version_major": 2,
       "version_minor": 0
      },
      "text/plain": [
       "interactive(children=(FloatSlider(value=1.0, description='beta', max=5.0, min=0.1, step=0.3), Output()), _dom_…"
      ]
     },
     "metadata": {},
     "output_type": "display_data"
    }
   ],
   "source": [
    "fig = interact(demo_fscore, beta=FloatSlider(min=0.1, max=5, step=0.3, value=1))"
   ]
  },
  {
   "cell_type": "markdown",
   "metadata": {
    "slideshow": {
     "slide_type": "slide"
    }
   },
   "source": [
    "## Discriminant decision rules\n",
    "\n",
    "* Decision rule based on discriminant functions: \n",
    "    * predict $\\omega_{1}$ $\\Longleftrightarrow$ $g_{1}(x)-g_{2}(x)>\\mu$\n",
    "    * predict $\\omega_{1}$ $\\Longleftrightarrow$ $g_{1}(x)/g_{2}(x)>\\mu$ (for $g_{1}(x)>0,\\,g_{2}(x)>0$)\n",
    "\n",
    "* Decision rule based on probabilities:\n",
    "    * predict $\\omega_{1}$ $\\Longleftrightarrow$$P(\\omega_{1}|x)>\\mu$"
   ]
  },
  {
   "cell_type": "markdown",
   "metadata": {
    "slideshow": {
     "slide_type": "subslide"
    }
   },
   "source": [
    "## Class label versus class probability evaluation\n",
    "\n",
    "* **Discriminability quality measures evaluate class label prediction.**\n",
    "    * examples: error rate, precision, recall, etc..\n"
   ]
  },
  {
   "cell_type": "markdown",
   "metadata": {
    "slideshow": {
     "slide_type": "fragment"
    }
   },
   "source": [
    "* **Reliability quality measures** evaluate class probability prediction.\n",
    "    * Example: probability likelihood:\n",
    "    $$\n",
    "        \\prod_{n=1}^{N}\\widehat{p}(y_{n}|x_{n})\n",
    "    $$\n",
    "    * Brier score:\n",
    "    $$\n",
    "        \\frac{1}{N}\\sum_{n=1}^{N}\\sum_{c=1}^{C}\\left(\\mathbb{I}[y_{n}=c]-\\widehat{p}(y=c|x_{n})\\right)^{2}\n",
    "    $$\n",
    "    * Logloss (cross entropy):\n",
    "    $$\n",
    "        \\frac{1}{N}\\sum_{n=1}^{N}\\sum_{c=1}^{C}\\mathbb{I}[y_{n}=c]\\ln(\\widehat{p}(y=c|x_{n}))\n",
    "    $$\n"
   ]
  },
  {
   "cell_type": "markdown",
   "metadata": {
    "slideshow": {
     "slide_type": "subslide"
    }
   },
   "source": [
    "## ROC curve\n",
    "\n",
    "* ROC curve - is a function TPR(FPR).\n",
    "* It shows how the probability of correct classification on positive classes (\"recognition rate\") changes with probability of incorrect classification on negative classes (\"false alarm\"). \n",
    "* It is build as a set of points TPR($\\mu$), FPR($\\mu$).\n",
    "* If $\\mu \\downarrow$ , the algorithm predicts $\\omega_{1}$ more often and\n",
    "    * TPR=$1-\\varepsilon_{1}$ $\\uparrow$\n",
    "    * FPR=$\\varepsilon_{2}$ $\\uparrow$\n",
    "\n",
    "* Characterizes classification accuracy for different $\\mu$.\n",
    "    * more concave ROC curves are better"
   ]
  },
  {
   "cell_type": "markdown",
   "metadata": {
    "slideshow": {
     "slide_type": "subslide"
    }
   },
   "source": [
    "* $TPR = \\frac{TP}{TP + FN}=\\frac{TP}{Pos}$\n",
    "* $FPR = \\frac{FP}{FP + TN} = \\frac{FP}{Neg}$\n",
    "\n",
    "<style type=\"text/css\">\n",
    ".tg  {border-collapse:collapse;border-spacing:0;}\n",
    ".tg td{font-family:Arial, sans-serif;font-size:14px;padding:10px 5px;border-style:solid;border-width:1px;overflow:hidden;word-break:normal;}\n",
    ".tg th{font-family:Arial, sans-serif;font-size:14px;font-weight:normal;padding:10px 5px;border-style:solid;border-width:1px;overflow:hidden;word-break:normal;}\n",
    "</style>\n",
    "<table class=\"tg\">\n",
    "  <tr>\n",
    "    <th class=\"tg-031e\"><img src='img/roc1.png'></th>\n",
    "    <th class=\"tg-031e\"><img src='img/roc2.png'></th>\n",
    "  </tr>\n",
    "</table>\n",
    "\n",
    "\n"
   ]
  },
  {
   "cell_type": "markdown",
   "metadata": {
    "slideshow": {
     "slide_type": "subslide"
    }
   },
   "source": [
    "## How to compare ROCs?\n",
    "<center><img src='img/roc3.png'></center>"
   ]
  },
  {
   "cell_type": "markdown",
   "metadata": {
    "slideshow": {
     "slide_type": "subslide"
    }
   },
   "source": [
    "## ROC-AUC\n",
    "* Area under the ROC curve\n",
    "\n",
    "* Global quality characteristic for different $\\mu$\n",
    "* AUC$\\in[0,1]$\n",
    "    * AUC = 0.5 - equivalent to random guessing\n",
    "    * AUC = 1 - no errors classification.\n",
    "\n",
    "* AUC property: it is equal to probability that for 2 random objects $x_{1}\\in +$ and $x_{2}\\in -$ it will hold that: $\\widehat{p}(+|x_{1})>\\widehat{p}(+|x_2)$\n",
    "\n",
    "* What about unbalanced case?\n"
   ]
  },
  {
   "cell_type": "markdown",
   "metadata": {
    "slideshow": {
     "slide_type": "subslide"
    }
   },
   "source": [
    "## Precision Recall Curve\n",
    "\n",
    "* Build in the same manner as ROC curve\n",
    "* Consider computing PR-AUC\n",
    "\n",
    "<center><img src='http://scikit-learn.org/stable/_images/sphx_glr_plot_precision_recall_001.png'></center>"
   ]
  },
  {
   "cell_type": "markdown",
   "metadata": {
    "slideshow": {
     "slide_type": "subslide"
    }
   },
   "source": [
    "## Model Lift\n",
    "\n",
    "* Let $r_{POS}$ - positive class rate in the whole dataset\n",
    "* Let $TPR @ K\\%$ be positive class rate in top $K \\%$ segment of the dateset, sorted by score\n",
    "\n",
    " $$ Model Lift @ K\\% = \\frac{TPR @ K\\%}{r_{POS}} $$\n",
    "\n",
    "<center><img src='http://jesshampton.com/wp-content/uploads/2013/11/lift_chart.png' width=700></center>"
   ]
  },
  {
   "cell_type": "markdown",
   "metadata": {
    "slideshow": {
     "slide_type": "slide"
    }
   },
   "source": [
    "# Unbalanced classification domain\n",
    "\n",
    "* Many practical cases consider unbalaced distribution of classes\n",
    "    * Fraud\n",
    "    * Churn\n",
    "* Sometimes quality could be improved via balancing routines"
   ]
  },
  {
   "cell_type": "markdown",
   "metadata": {
    "slideshow": {
     "slide_type": "slide"
    }
   },
   "source": [
    "## Object weighing\n",
    "$$ \\tilde{\\mathcal{L}}(X, \\theta) = \\sum_nw_n\\mathcal{L}(x_n, \\theta) $$\n",
    "Usually $w_n$ is inverse-proportional to class ratio of object $x_n$"
   ]
  },
  {
   "cell_type": "code",
   "execution_count": 6,
   "metadata": {
    "slideshow": {
     "slide_type": "notes"
    }
   },
   "outputs": [],
   "source": [
    "from sklearn.datasets import make_moons\n",
    "from imblearn.datasets import make_imbalance\n",
    "from sklearn.linear_model import LogisticRegression\n",
    "from collections import Counter\n",
    "\n",
    "def get_ratio_strategy(y, ratio):\n",
    "    class_stats = Counter(y)\n",
    "    class_stats[0] = int(class_stats[0]*ratio)\n",
    "    return class_stats\n",
    "\n",
    "def demo_weight(class_weight=None, ratio=0.5):\n",
    "\n",
    "    X_, y_ = make_moons(n_samples=500, shuffle=True, noise=0.3, random_state=0)\n",
    "    X, y = make_imbalance(X_, y_, sampling_strategy=get_ratio_strategy(y_, ratio), random_state=0)\n",
    "\n",
    "    model = LogisticRegression(class_weight=class_weight).fit(X, y)\n",
    "    x0, x1 = np.meshgrid(np.linspace(-1, 2.5, 100),\n",
    "                         np.linspace(-2, 2, 100))\n",
    "    xx0, xx1 = x0.ravel(), x1.ravel()\n",
    "\n",
    "    X_grid = np.c_[xx0, xx1]\n",
    "\n",
    "    y_hat = model.decision_function(X_grid)\n",
    "    y_hat = y_hat.reshape(x0.shape)\n",
    "\n",
    "    plt.contour(x0, x1, y_hat, levels=[0])\n",
    "    plt.scatter(X[:,0], \n",
    "                X[:, 1], \n",
    "                c=y, cmap=plt.cm.flag_r)\n",
    "    plt.axis('equal')"
   ]
  },
  {
   "cell_type": "code",
   "execution_count": 7,
   "metadata": {
    "scrolled": false,
    "slideshow": {
     "slide_type": "subslide"
    }
   },
   "outputs": [
    {
     "data": {
      "application/vnd.jupyter.widget-view+json": {
       "model_id": "49aff4afa754410191c53e57208c79a9",
       "version_major": 2,
       "version_minor": 0
      },
      "text/plain": [
       "interactive(children=(Dropdown(description='class_weight', options=('balanced', None), value=None), FloatSlide…"
      ]
     },
     "metadata": {},
     "output_type": "display_data"
    },
    {
     "data": {
      "text/plain": [
       "<function __main__.demo_weight>"
      ]
     },
     "execution_count": 7,
     "metadata": {},
     "output_type": "execute_result"
    }
   ],
   "source": [
    "interact(demo_weight, class_weight=['balanced', None], ratio=FloatSlider(min=0.05, max=0.5, step=0.05))"
   ]
  },
  {
   "cell_type": "markdown",
   "metadata": {
    "slideshow": {
     "slide_type": "slide"
    }
   },
   "source": [
    "### Sampling techniques\n",
    "* Under-sampling\n",
    "* Over-sampling\n",
    "* Ensemble methods\n",
    "\n",
    "See  [imbalanced-learn](https://github.com/scikit-learn-contrib/imbalanced-learn)"
   ]
  },
  {
   "cell_type": "markdown",
   "metadata": {
    "slideshow": {
     "slide_type": "subslide"
    }
   },
   "source": [
    "## Under-sampling\n",
    "Reduce number of majority class\n",
    "* Randomly\n",
    "* Conserving only ethalon objects (ClusterCentroids)\n",
    "* Conserving objects that are close to minor class objects (NearMiss)\n",
    "* Remove objects that have many minor class objects nearby (Condenced NN)"
   ]
  },
  {
   "cell_type": "code",
   "execution_count": 8,
   "metadata": {
    "slideshow": {
     "slide_type": "notes"
    }
   },
   "outputs": [],
   "source": [
    "from imblearn.under_sampling import NearMiss, RandomUnderSampler, EditedNearestNeighbours, ClusterCentroids, CondensedNearestNeighbour\n",
    "\n",
    "def demo_under(ratio=0.5, sampler=None):\n",
    "\n",
    "    X_, y_ = make_moons(n_samples=500, shuffle=True, noise=0.3, random_state=0)\n",
    "    X, y = make_imbalance(X_, y_, sampling_strategy=get_ratio_strategy(y_, ratio), random_state=0)\n",
    "    \n",
    "    sampler_model = \\\n",
    "              {'rand': RandomUnderSampler(random_state=0),\n",
    "               'cluster': ClusterCentroids(random_state=0),\n",
    "               'editnn': EditedNearestNeighbours(random_state=0),\n",
    "               'condnn': CondensedNearestNeighbour(random_state=0),\n",
    "               'nearmiss': NearMiss(random_state=0, version=1)}.get(sampler)\n",
    "    \n",
    "    if sampler:\n",
    "        X, y = sampler_model.fit_sample(X, y)\n",
    "\n",
    "    model = LogisticRegression(class_weight=None).fit(X, y)\n",
    "    x0, x1 = np.meshgrid(np.linspace(-1, 2.5, 100),\n",
    "                         np.linspace(-2, 2, 100))\n",
    "    xx0, xx1 = x0.ravel(), x1.ravel()\n",
    "\n",
    "    X_grid = np.c_[xx0, xx1]\n",
    "\n",
    "    y_hat = model.decision_function(X_grid)\n",
    "    y_hat = y_hat.reshape(x0.shape)\n",
    "\n",
    "    plt.contour(x0, x1, y_hat, levels=[0])\n",
    "    plt.scatter(X[:,0], \n",
    "                X[:, 1], \n",
    "                c=y, cmap=plt.cm.flag_r)\n",
    "    plt.axis('equal')"
   ]
  },
  {
   "cell_type": "code",
   "execution_count": 9,
   "metadata": {
    "slideshow": {
     "slide_type": "subslide"
    }
   },
   "outputs": [
    {
     "data": {
      "application/vnd.jupyter.widget-view+json": {
       "model_id": "92555d2c1cb0449899d2541afee071e7",
       "version_major": 2,
       "version_minor": 0
      },
      "text/plain": [
       "interactive(children=(FloatSlider(value=0.05, description='ratio', max=0.5, min=0.05, step=0.05), Dropdown(des…"
      ]
     },
     "metadata": {},
     "output_type": "display_data"
    },
    {
     "data": {
      "text/plain": [
       "<function __main__.demo_under>"
      ]
     },
     "execution_count": 9,
     "metadata": {},
     "output_type": "execute_result"
    }
   ],
   "source": [
    "interact(demo_under, ratio=FloatSlider(min=0.05, max=0.5, step=0.05), sampler=[None, 'rand', 'cluster', 'editnn', 'condnn', 'nearmiss'])"
   ]
  },
  {
   "cell_type": "markdown",
   "metadata": {
    "slideshow": {
     "slide_type": "subslide"
    }
   },
   "source": [
    "## Over-sampling\n",
    "Generate move objects from minor class\n",
    "* Randomly\n",
    "* Synthetically\n"
   ]
  },
  {
   "cell_type": "markdown",
   "metadata": {
    "slideshow": {
     "slide_type": "subslide"
    }
   },
   "source": [
    "## SMOTE\n",
    "### Synthetic Minority Over-sampling Technique\n",
    "* For each minor class object find $k$ nearest neighbours from the same class\n",
    "* Choose one of them\n",
    "* Generate object(s) between them\n",
    "\n",
    "<center><img src='img/smote.png' width=400></center>"
   ]
  },
  {
   "cell_type": "code",
   "execution_count": 10,
   "metadata": {
    "slideshow": {
     "slide_type": "notes"
    }
   },
   "outputs": [],
   "source": [
    "from imblearn.over_sampling import SMOTE, RandomOverSampler\n",
    "\n",
    "def demo_over(ratio=0.5, sampler=None):\n",
    "\n",
    "    X_, y_ = make_moons(n_samples=500, shuffle=True, noise=0.3, random_state=0)\n",
    "    X, y = make_imbalance(X_, y_, sampling_strategy=get_ratio_strategy(y_, ratio), random_state=0)\n",
    "    \n",
    "    sampler_model = \\\n",
    "              {'rand': RandomOverSampler(random_state=0),\n",
    "               'smote': SMOTE(),\n",
    "               }.get(sampler)\n",
    "    \n",
    "    if sampler:\n",
    "        X, y = sampler_model.fit_sample(X, y)\n",
    "\n",
    "    model = LogisticRegression(class_weight=None).fit(X, y)\n",
    "    x0, x1 = np.meshgrid(np.linspace(-1, 2.5, 100),\n",
    "                         np.linspace(-2, 2, 100))\n",
    "    xx0, xx1 = x0.ravel(), x1.ravel()\n",
    "\n",
    "    X_grid = np.c_[xx0, xx1]\n",
    "\n",
    "    y_hat = model.decision_function(X_grid)\n",
    "    y_hat = y_hat.reshape(x0.shape)\n",
    "\n",
    "    plt.contour(x0, x1, y_hat, levels=[0])\n",
    "    plt.scatter(X[:,0], \n",
    "                X[:, 1], \n",
    "                c=y, cmap=plt.cm.flag_r)\n",
    "    plt.axis('equal')"
   ]
  },
  {
   "cell_type": "code",
   "execution_count": 11,
   "metadata": {
    "slideshow": {
     "slide_type": "subslide"
    }
   },
   "outputs": [
    {
     "data": {
      "application/vnd.jupyter.widget-view+json": {
       "model_id": "906b616049cc42a2a9f68cbd2e063631",
       "version_major": 2,
       "version_minor": 0
      },
      "text/plain": [
       "interactive(children=(FloatSlider(value=0.05, description='ratio', max=0.5, min=0.05, step=0.05), Dropdown(des…"
      ]
     },
     "metadata": {},
     "output_type": "display_data"
    },
    {
     "data": {
      "text/plain": [
       "<function __main__.demo_over>"
      ]
     },
     "execution_count": 11,
     "metadata": {},
     "output_type": "execute_result"
    }
   ],
   "source": [
    "interact(demo_over, ratio=FloatSlider(min=0.05, max=0.5, step=0.05), sampler=[None, 'rand', 'smote'])"
   ]
  },
  {
   "cell_type": "markdown",
   "metadata": {
    "slideshow": {
     "slide_type": "slide"
    }
   },
   "source": [
    "## Ensemble methods\n",
    "\n",
    "* Build and combine models from randomly-balanced datasets"
   ]
  },
  {
   "cell_type": "markdown",
   "metadata": {
    "slideshow": {
     "slide_type": "subslide"
    }
   },
   "source": [
    "## Useful links\n",
    "\n",
    "* [MAE vs MSE](http://yahwes.github.io/2016/03/22/mae-rmse/)\n",
    "* [Intro to ROC Analysis](https://ccrma.stanford.edu/workshops/mir2009/references/ROCintro.pdf)\n",
    "* [Geometry of ROC Curve](http://www.aaai.org/Papers/ICML/2003/ICML03-028.pdf)\n",
    "* [Illustrated Guide to ROC Curves](http://www.joyofdata.de/blog/illustrated-guide-to-roc-and-auc/)\n",
    "* [ML meets ecomomics](http://blog.mldb.ai/blog/posts/2016/01/ml-meets-economics/)"
   ]
  }
 ],
 "metadata": {
  "_draft": {
   "nbviewer_url": "https://gist.github.com/1f8c4751e12938961e423759861e6e5a"
  },
  "anaconda-cloud": {},
  "celltoolbar": "Slideshow",
  "gist": {
   "data": {
    "description": "CloudMail/hse-da-course/raw/lecture-intro/lecture-intro-v01.ipynb",
    "public": false
   },
   "id": "1f8c4751e12938961e423759861e6e5a"
  },
  "kernelspec": {
   "display_name": "Python 3",
   "language": "python",
   "name": "python3"
  },
  "language_info": {
   "codemirror_mode": {
    "name": "ipython",
    "version": 3
   },
   "file_extension": ".py",
   "mimetype": "text/x-python",
   "name": "python",
   "nbconvert_exporter": "python",
   "pygments_lexer": "ipython3",
   "version": "3.7.2"
  },
  "livereveal": {
   "theme": "serif",
   "transition": "concave"
  },
  "nav_menu": {},
  "toc": {
   "base_numbering": 1,
   "nav_menu": {
    "height": "513px",
    "width": "253px"
   },
   "number_sections": false,
   "sideBar": false,
   "skip_h1_title": false,
   "title_cell": "Table of Contents",
   "title_sidebar": "Contents",
   "toc_cell": false,
   "toc_position": {},
   "toc_section_display": "block",
   "toc_window_display": false
  },
  "toc_position": {
   "height": "32px",
   "left": "9px",
   "right": "1379px",
   "top": "33px",
   "width": "212px"
  },
  "widgets": {
   "state": {
    "54e80d57f79b4bfc934a2b84cf5fe7ba": {
     "views": [
      {
       "cell_index": 47
      }
     ]
    },
    "5fb17a3592634a4fba98446dacd6db43": {
     "views": [
      {
       "cell_index": 11
      }
     ]
    },
    "6f6f6ce7b81743308b92966f225862a8": {
     "views": [
      {
       "cell_index": 34
      }
     ]
    }
   },
   "version": "1.2.0"
  }
 },
 "nbformat": 4,
 "nbformat_minor": 2
}
