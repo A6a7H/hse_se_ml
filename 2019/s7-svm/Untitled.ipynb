{
 "cells": [
  {
   "cell_type": "markdown",
   "metadata": {},
   "source": [
    "$$\n",
    "\\langle X \\rangle = \\frac{\\sum\\limits_{i=1}^nX_i}{n}\n",
    "$$\n",
    "\n",
    "$$\n",
    "E\\left[(X_i - \\langle X \\rangle)^2\\right] = E\\left[X^2_i - 2 X_i\\langle X \\rangle + \\langle X \\rangle^2\\right] = E\\left[X^2_i\\right] - 2E\\left[ X_i\\langle X \\rangle\\right] + E\\left[\\langle X \\rangle^2\\right]\n",
    "$$\n",
    "\n",
    "1)$E\\left[X^2_i\\right] = D(X_i) + E\\left[ X_i \\right]^2 = \\sigma^2 + \\mu^2$\n",
    "\n",
    "2)\n",
    "$$\n",
    "E\\left[ X_i\\langle X \\rangle\\right] = \\frac{1}{n} E\\left[ X_i \\cdot \\sum_{j=1}^nX_j\\right] = \\frac{1}{n}\\sum_{j=1}^nE\\left[X_i \\cdot X_j\\right] = \\frac{1}{n}\\left(E\\left[X_i \\cdot X_i\\right] + \\sum_{j=1, j \\ne i}^nE\\left[X_i \\cdot X_j\\right]\\right) = \\frac{1}{n}\\left(E\\left[X^2_i\\right] + \\sum_{j=1, j \\ne i}^nE\\left[X_i \\right]\\cdot E\\left[X_j\\right]\\right) =\n",
    "$$\n",
    "\n",
    "$$\n",
    "= \\frac{1}{n}\\left(E\\left[X^2_i\\right] + (n-1) E\\left[X_i \\right]^2\\right) = \\frac{\\sigma^2 + \\mu^2 + (n-1)\\mu^2}{n} = \\frac{\\sigma^2}{n} + \\mu^2\n",
    "$$\n",
    "\n",
    "3)$E\\left[\\langle X \\rangle^2\\right] = D(\\langle X \\rangle) + E\\left[ \\langle X \\rangle \\right]^2 = \\frac{D(X_i)}{n} + \\mu^2 = \\frac{\\sigma^2}{n} + \\mu^2$\n",
    "\n",
    "Combine\n",
    "\n",
    "$$\n",
    "E\\left[X^2_i\\right] - 2E\\left[ X_i\\langle X \\rangle\\right] + E\\left[\\langle X \\rangle^2\\right] = \\sigma^2 + \\mu^2 - 2(\\frac{\\sigma^2}{n} + \\mu^2) + \\frac{\\sigma^2}{n} + \\mu^2 = \\sigma^2 - \\frac{\\sigma^2}{n} = \\frac{(n-1)\\sigma^2}{n}\n",
    "$$"
   ]
  },
  {
   "cell_type": "code",
   "execution_count": null,
   "metadata": {
    "collapsed": true
   },
   "outputs": [],
   "source": []
  }
 ],
 "metadata": {
  "kernelspec": {
   "display_name": "Python 3",
   "language": "python",
   "name": "python3"
  },
  "language_info": {
   "codemirror_mode": {
    "name": "ipython",
    "version": 3
   },
   "file_extension": ".py",
   "mimetype": "text/x-python",
   "name": "python",
   "nbconvert_exporter": "python",
   "pygments_lexer": "ipython3",
   "version": "3.6.3"
  }
 },
 "nbformat": 4,
 "nbformat_minor": 2
}
