{
 "cells": [
  {
   "cell_type": "markdown",
   "metadata": {},
   "source": [
    "<center><img src=\"img/logo_hse_black.jpg\"></center>\n",
    "\n",
    "<h1><center>Data Analysis</center></h1>\n",
    "<h2><center>Seminar Introduction to Natural Language Processing<sup><a href=\"#fn1\" id=\"ref1\">1</a></sup></center></h2>"
   ]
  },
  {
   "cell_type": "markdown",
   "metadata": {},
   "source": [
    "### Sentiment Analysis in Russian (from https://www.kaggle.com/c/sentiment-analysis-in-russian/data)"
   ]
  },
  {
   "cell_type": "markdown",
   "metadata": {},
   "source": [
    "#### Load data"
   ]
  },
  {
   "cell_type": "code",
   "execution_count": 1,
   "metadata": {},
   "outputs": [],
   "source": [
    "from tqdm import tqdm_notebook"
   ]
  },
  {
   "cell_type": "code",
   "execution_count": 2,
   "metadata": {},
   "outputs": [],
   "source": [
    "import json\n",
    "\n",
    "with open('Data/train.json') as json_file:\n",
    "    data = json.load(json_file)"
   ]
  },
  {
   "cell_type": "markdown",
   "metadata": {},
   "source": [
    "#### Tokenize and clean data"
   ]
  },
  {
   "cell_type": "code",
   "execution_count": 3,
   "metadata": {},
   "outputs": [
    {
     "name": "stderr",
     "output_type": "stream",
     "text": [
      "[nltk_data] Downloading package stopwords to\n",
      "[nltk_data]     /Users/r.britkov/nltk_data...\n",
      "[nltk_data]   Package stopwords is already up-to-date!\n"
     ]
    }
   ],
   "source": [
    "import nltk\n",
    "nltk.download('stopwords')\n",
    "import string\n",
    "word_tokenizer = nltk.WordPunctTokenizer()\n",
    "stop_words = nltk.corpus.stopwords.words('russian')"
   ]
  },
  {
   "cell_type": "code",
   "execution_count": 4,
   "metadata": {},
   "outputs": [],
   "source": [
    "def process_data(data):\n",
    "    texts = []\n",
    "    targets = []\n",
    "\n",
    "    for item in data:\n",
    "        if item['sentiment'] == 'negative':\n",
    "            targets.append(0)\n",
    "        else:\n",
    "            targets.append(1)\n",
    "        \n",
    "        tokens = word_tokenizer.tokenize(item['text'].lower())\n",
    "        \n",
    "        #delete punct and stop words\n",
    "        tokens = [word for word in tokens if (word not in string.punctuation and word not in stop_words)]\n",
    "        \n",
    "        texts.append(tokens)\n",
    "    \n",
    "    return texts, targets"
   ]
  },
  {
   "cell_type": "code",
   "execution_count": 5,
   "metadata": {},
   "outputs": [],
   "source": [
    "texts, y = process_data(data)"
   ]
  },
  {
   "cell_type": "markdown",
   "metadata": {},
   "source": [
    "#### Normalize words. Stemming"
   ]
  },
  {
   "cell_type": "markdown",
   "metadata": {},
   "source": [
    "#### 1)Stemming"
   ]
  },
  {
   "cell_type": "code",
   "execution_count": 6,
   "metadata": {},
   "outputs": [],
   "source": [
    "from nltk.stem.snowball import SnowballStemmer \n",
    "\n",
    "stemmer = SnowballStemmer(\"russian\")"
   ]
  },
  {
   "cell_type": "code",
   "execution_count": 7,
   "metadata": {},
   "outputs": [
    {
     "data": {
      "application/vnd.jupyter.widget-view+json": {
       "model_id": "3b3a185f9cef4cd9b07028f69bec3459",
       "version_major": 2,
       "version_minor": 0
      },
      "text/plain": [
       "HBox(children=(IntProgress(value=0, max=8263), HTML(value='')))"
      ]
     },
     "metadata": {},
     "output_type": "display_data"
    },
    {
     "name": "stdout",
     "output_type": "stream",
     "text": [
      "\n"
     ]
    }
   ],
   "source": [
    "for i in tqdm_notebook(range(len(texts))):\n",
    "    texts[i] = ' '.join(list(map(stemmer.stem, texts[i])))"
   ]
  },
  {
   "cell_type": "markdown",
   "metadata": {},
   "source": [
    "Advantages: fast\n",
    "\n",
    "Disadvantages: not very intellectual normalization\n",
    "\n",
    "Alternative: lemmatization (but this method slomly than stemming)"
   ]
  },
  {
   "cell_type": "code",
   "execution_count": 8,
   "metadata": {},
   "outputs": [],
   "source": [
    "#train test_split\n",
    "from sklearn.model_selection import train_test_split\n",
    "train_texts, test_texts, train_y, test_y = train_test_split(texts, y, test_size=0.33, random_state=42, stratify = y)"
   ]
  },
  {
   "cell_type": "markdown",
   "metadata": {},
   "source": [
    "### Recap TF-IDF"
   ]
  },
  {
   "cell_type": "markdown",
   "metadata": {},
   "source": [
    "TF-IDF: method to measure importance of word in text"
   ]
  },
  {
   "cell_type": "markdown",
   "metadata": {},
   "source": [
    "$$\n",
    "TF-IDF(t,d) = tf(t,d) \\cdot idf(t, D)\n",
    "$$\n",
    "\n",
    "where $tf(t,d)$ (in simple case) raw count of a term t in a document d.\n",
    "$$\n",
    "idf(t, D) = \\log \\frac{N}{N(t)}\n",
    "$$\n",
    "where $N$ - total number of documents, $N(t)$ - total number of documents with term t"
   ]
  },
  {
   "cell_type": "code",
   "execution_count": 9,
   "metadata": {},
   "outputs": [],
   "source": [
    "#calc tf-idf\n",
    "from sklearn.feature_extraction.text import TfidfVectorizer, TfidfTransformer\n",
    "vectorizer = TfidfVectorizer(max_features = 40000)"
   ]
  },
  {
   "cell_type": "code",
   "execution_count": 10,
   "metadata": {},
   "outputs": [],
   "source": [
    "X = vectorizer.fit_transform(train_texts)"
   ]
  },
  {
   "cell_type": "markdown",
   "metadata": {},
   "source": [
    "X is matrix with shape = (number of sentences $\\times$ number of words). Each coordinate is tf-idf for corresponding words. If in coordinate will be count of word in sentence this is call \"Bag-of-words\""
   ]
  },
  {
   "cell_type": "code",
   "execution_count": 11,
   "metadata": {},
   "outputs": [
    {
     "data": {
      "text/plain": [
       "((5536, 40000), 8263)"
      ]
     },
     "execution_count": 11,
     "metadata": {},
     "output_type": "execute_result"
    }
   ],
   "source": [
    "X.shape, len(texts)"
   ]
  },
  {
   "cell_type": "code",
   "execution_count": 12,
   "metadata": {},
   "outputs": [],
   "source": [
    "import numpy as np"
   ]
  },
  {
   "cell_type": "code",
   "execution_count": 13,
   "metadata": {},
   "outputs": [],
   "source": [
    "X = X.toarray()"
   ]
  },
  {
   "cell_type": "markdown",
   "metadata": {},
   "source": [
    "Now let's fit log-reg model, but 40000 is too large for model. Use PCA to reduce dimension"
   ]
  },
  {
   "cell_type": "code",
   "execution_count": 14,
   "metadata": {},
   "outputs": [],
   "source": [
    "from sklearn.preprocessing import StandardScaler\n",
    "scaler = StandardScaler()\n",
    "from sklearn.decomposition import PCA\n",
    "pca = PCA(n_components = 1000)"
   ]
  },
  {
   "cell_type": "code",
   "execution_count": 15,
   "metadata": {},
   "outputs": [
    {
     "name": "stdout",
     "output_type": "stream",
     "text": [
      "CPU times: user 2min 41s, sys: 24.4 s, total: 3min 6s\n",
      "Wall time: 2min 20s\n"
     ]
    }
   ],
   "source": [
    "%%time\n",
    "X_small = pca.fit_transform(scaler.fit_transform(X))"
   ]
  },
  {
   "cell_type": "code",
   "execution_count": 16,
   "metadata": {},
   "outputs": [
    {
     "data": {
      "text/plain": [
       "(5536, 1000)"
      ]
     },
     "execution_count": 16,
     "metadata": {},
     "output_type": "execute_result"
    }
   ],
   "source": [
    "X_small.shape"
   ]
  },
  {
   "cell_type": "code",
   "execution_count": 17,
   "metadata": {},
   "outputs": [],
   "source": [
    "from sklearn.linear_model import LogisticRegression"
   ]
  },
  {
   "cell_type": "code",
   "execution_count": 18,
   "metadata": {},
   "outputs": [
    {
     "data": {
      "text/plain": [
       "LogisticRegression(C=1.0, class_weight=None, dual=False, fit_intercept=True,\n",
       "          intercept_scaling=1, max_iter=100, multi_class='ovr', n_jobs=1,\n",
       "          penalty='l2', random_state=None, solver='liblinear', tol=0.0001,\n",
       "          verbose=0, warm_start=False)"
      ]
     },
     "execution_count": 18,
     "metadata": {},
     "output_type": "execute_result"
    }
   ],
   "source": [
    "model = LogisticRegression()\n",
    "model.fit(X_small, train_y)"
   ]
  },
  {
   "cell_type": "code",
   "execution_count": 19,
   "metadata": {},
   "outputs": [],
   "source": [
    "predict = model.predict(X_small)\n",
    "proba = model.predict_proba(X_small)"
   ]
  },
  {
   "cell_type": "code",
   "execution_count": 20,
   "metadata": {},
   "outputs": [
    {
     "name": "stdout",
     "output_type": "stream",
     "text": [
      "ACCURACY = 0.948157514450867\n",
      "ROC-AUC = 0.9824134695757494\n"
     ]
    }
   ],
   "source": [
    "from sklearn.metrics import accuracy_score, roc_auc_score\n",
    "print(\"ACCURACY = {}\".format(accuracy_score(train_y, predict)))\n",
    "print(\"ROC-AUC = {}\".format(roc_auc_score(train_y, proba[:, 1])))"
   ]
  },
  {
   "cell_type": "markdown",
   "metadata": {},
   "source": [
    "### Evaluate on test data"
   ]
  },
  {
   "cell_type": "code",
   "execution_count": 21,
   "metadata": {},
   "outputs": [],
   "source": [
    "test_X = vectorizer.transform(test_texts).toarray()\n",
    "test_X = pca.transform(scaler.transform(test_X))"
   ]
  },
  {
   "cell_type": "code",
   "execution_count": 22,
   "metadata": {},
   "outputs": [
    {
     "name": "stdout",
     "output_type": "stream",
     "text": [
      "ACCURACY = 0.8503850385038504\n",
      "ROC-AUC = 0.8112756086900245\n"
     ]
    }
   ],
   "source": [
    "predict = model.predict(test_X)\n",
    "proba = model.predict_proba(test_X)\n",
    "print(\"ACCURACY = {}\".format(accuracy_score(test_y, predict)))\n",
    "print(\"ROC-AUC = {}\".format(roc_auc_score(test_y, proba[:, 1])))"
   ]
  },
  {
   "cell_type": "markdown",
   "metadata": {},
   "source": [
    "## Kaggle"
   ]
  },
  {
   "cell_type": "markdown",
   "metadata": {},
   "source": [
    "You can use any models and algorithms that were told at a lecture or a seminar."
   ]
  },
  {
   "cell_type": "markdown",
   "metadata": {},
   "source": [
    "#### Example"
   ]
  },
  {
   "cell_type": "markdown",
   "metadata": {},
   "source": [
    "### Load data"
   ]
  },
  {
   "cell_type": "code",
   "execution_count": 23,
   "metadata": {},
   "outputs": [],
   "source": [
    "import pandas as pd"
   ]
  },
  {
   "cell_type": "code",
   "execution_count": 24,
   "metadata": {},
   "outputs": [],
   "source": [
    "data = pd.read_csv('./data/train.tsv', sep = '\\t')"
   ]
  },
  {
   "cell_type": "code",
   "execution_count": 25,
   "metadata": {},
   "outputs": [
    {
     "data": {
      "text/html": [
       "<div>\n",
       "<style scoped>\n",
       "    .dataframe tbody tr th:only-of-type {\n",
       "        vertical-align: middle;\n",
       "    }\n",
       "\n",
       "    .dataframe tbody tr th {\n",
       "        vertical-align: top;\n",
       "    }\n",
       "\n",
       "    .dataframe thead th {\n",
       "        text-align: right;\n",
       "    }\n",
       "</style>\n",
       "<table border=\"1\" class=\"dataframe\">\n",
       "  <thead>\n",
       "    <tr style=\"text-align: right;\">\n",
       "      <th></th>\n",
       "      <th>Unnamed: 0</th>\n",
       "      <th>category_id</th>\n",
       "      <th>city</th>\n",
       "      <th>date_created</th>\n",
       "      <th>delivery_available</th>\n",
       "      <th>desc_text</th>\n",
       "      <th>img_num</th>\n",
       "      <th>lat</th>\n",
       "      <th>long</th>\n",
       "      <th>name_text</th>\n",
       "      <th>owner_id</th>\n",
       "      <th>payment_available</th>\n",
       "      <th>price</th>\n",
       "      <th>product_id</th>\n",
       "      <th>product_type</th>\n",
       "      <th>properties</th>\n",
       "      <th>region</th>\n",
       "      <th>sold_mode</th>\n",
       "      <th>subcategory_id</th>\n",
       "      <th>sold_fast</th>\n",
       "    </tr>\n",
       "  </thead>\n",
       "  <tbody>\n",
       "    <tr>\n",
       "      <th>0</th>\n",
       "      <td>1</td>\n",
       "      <td>4</td>\n",
       "      <td>Краснодар</td>\n",
       "      <td>2018-10-08</td>\n",
       "      <td>False</td>\n",
       "      <td>Продаю стол раскладной, деревянный, советский ...</td>\n",
       "      <td>3</td>\n",
       "      <td>45.0686</td>\n",
       "      <td>38.9518</td>\n",
       "      <td>Стол</td>\n",
       "      <td>4ce583fe8231a0cc4a3c7d241c7d0289</td>\n",
       "      <td>True</td>\n",
       "      <td>500.0</td>\n",
       "      <td>8cb80c05c65c210275f5500779d6b593</td>\n",
       "      <td>1</td>\n",
       "      <td>[{'slug_id': 'stoly_stulya_tip', 'slug_name': ...</td>\n",
       "      <td>Краснодарский край</td>\n",
       "      <td>1</td>\n",
       "      <td>410</td>\n",
       "      <td>1</td>\n",
       "    </tr>\n",
       "    <tr>\n",
       "      <th>1</th>\n",
       "      <td>2</td>\n",
       "      <td>4</td>\n",
       "      <td>Тюмень</td>\n",
       "      <td>2018-06-18</td>\n",
       "      <td>False</td>\n",
       "      <td>Тарелки глубокие 6 шт. Блюдца, чашки по 6 шт. ...</td>\n",
       "      <td>2</td>\n",
       "      <td>57.1840</td>\n",
       "      <td>65.5674</td>\n",
       "      <td>Посуда</td>\n",
       "      <td>e58be2c8f143c17246dc2243b5d3b98f</td>\n",
       "      <td>False</td>\n",
       "      <td>300.0</td>\n",
       "      <td>3b7a9f8b27a53b63525f95bc8070abb2</td>\n",
       "      <td>1</td>\n",
       "      <td>[{'slug_id': 'dom_dacha_posuda_tip', 'slug_nam...</td>\n",
       "      <td>Тюменская область</td>\n",
       "      <td>1</td>\n",
       "      <td>405</td>\n",
       "      <td>0</td>\n",
       "    </tr>\n",
       "    <tr>\n",
       "      <th>2</th>\n",
       "      <td>4</td>\n",
       "      <td>9</td>\n",
       "      <td>Омск</td>\n",
       "      <td>2018-07-31</td>\n",
       "      <td>True</td>\n",
       "      <td>Новый,с этикеткой. Размер L. Не подошёл по раз...</td>\n",
       "      <td>1</td>\n",
       "      <td>54.9889</td>\n",
       "      <td>73.4312</td>\n",
       "      <td>Костюм</td>\n",
       "      <td>51b408796027214232532b7e478e2159</td>\n",
       "      <td>True</td>\n",
       "      <td>1100.0</td>\n",
       "      <td>c97dd9c5a3e938c52cf5d7822bc0eb7b</td>\n",
       "      <td>1</td>\n",
       "      <td>[{'slug_id': 'zhenskaya_odezhda_pidzhaki_kosty...</td>\n",
       "      <td>Омская область</td>\n",
       "      <td>1</td>\n",
       "      <td>908</td>\n",
       "      <td>0</td>\n",
       "    </tr>\n",
       "    <tr>\n",
       "      <th>3</th>\n",
       "      <td>6</td>\n",
       "      <td>3</td>\n",
       "      <td>Санкт-Петербург</td>\n",
       "      <td>2018-04-17</td>\n",
       "      <td>False</td>\n",
       "      <td>Складывается тростью, все колеса вниз. Сплошна...</td>\n",
       "      <td>4</td>\n",
       "      <td>59.9590</td>\n",
       "      <td>30.4877</td>\n",
       "      <td>Коляска</td>\n",
       "      <td>6544b83acbbf04439a7ba983093cafb4</td>\n",
       "      <td>True</td>\n",
       "      <td>5000.0</td>\n",
       "      <td>3e5d0286b25fd7f62f88bc436a59ae4e</td>\n",
       "      <td>1</td>\n",
       "      <td>[{'slug_id': 'waggon_type', 'slug_name': 'Тип'...</td>\n",
       "      <td>Ленинградская область</td>\n",
       "      <td>1</td>\n",
       "      <td>312</td>\n",
       "      <td>0</td>\n",
       "    </tr>\n",
       "    <tr>\n",
       "      <th>4</th>\n",
       "      <td>10</td>\n",
       "      <td>5</td>\n",
       "      <td>Москва</td>\n",
       "      <td>2018-02-09</td>\n",
       "      <td>False</td>\n",
       "      <td>Неразлучники, птичкам по 1,5 года. Продаю с бо...</td>\n",
       "      <td>2</td>\n",
       "      <td>55.6473</td>\n",
       "      <td>37.4118</td>\n",
       "      <td>Волнистые попугаи</td>\n",
       "      <td>ea575e28daf1f47bfce63015cd3ce5cf</td>\n",
       "      <td>True</td>\n",
       "      <td>2000.0</td>\n",
       "      <td>57b4a8679d0d3eb1e31367b57221098f</td>\n",
       "      <td>1</td>\n",
       "      <td>[]</td>\n",
       "      <td>Московская область</td>\n",
       "      <td>1</td>\n",
       "      <td>504</td>\n",
       "      <td>0</td>\n",
       "    </tr>\n",
       "  </tbody>\n",
       "</table>\n",
       "</div>"
      ],
      "text/plain": [
       "   Unnamed: 0  category_id             city date_created  delivery_available  \\\n",
       "0           1            4        Краснодар   2018-10-08               False   \n",
       "1           2            4           Тюмень   2018-06-18               False   \n",
       "2           4            9             Омск   2018-07-31                True   \n",
       "3           6            3  Санкт-Петербург   2018-04-17               False   \n",
       "4          10            5           Москва   2018-02-09               False   \n",
       "\n",
       "                                           desc_text  img_num      lat  \\\n",
       "0  Продаю стол раскладной, деревянный, советский ...        3  45.0686   \n",
       "1  Тарелки глубокие 6 шт. Блюдца, чашки по 6 шт. ...        2  57.1840   \n",
       "2  Новый,с этикеткой. Размер L. Не подошёл по раз...        1  54.9889   \n",
       "3  Складывается тростью, все колеса вниз. Сплошна...        4  59.9590   \n",
       "4  Неразлучники, птичкам по 1,5 года. Продаю с бо...        2  55.6473   \n",
       "\n",
       "      long          name_text                          owner_id  \\\n",
       "0  38.9518               Стол  4ce583fe8231a0cc4a3c7d241c7d0289   \n",
       "1  65.5674             Посуда  e58be2c8f143c17246dc2243b5d3b98f   \n",
       "2  73.4312             Костюм  51b408796027214232532b7e478e2159   \n",
       "3  30.4877            Коляска  6544b83acbbf04439a7ba983093cafb4   \n",
       "4  37.4118  Волнистые попугаи  ea575e28daf1f47bfce63015cd3ce5cf   \n",
       "\n",
       "   payment_available   price                        product_id  product_type  \\\n",
       "0               True   500.0  8cb80c05c65c210275f5500779d6b593             1   \n",
       "1              False   300.0  3b7a9f8b27a53b63525f95bc8070abb2             1   \n",
       "2               True  1100.0  c97dd9c5a3e938c52cf5d7822bc0eb7b             1   \n",
       "3               True  5000.0  3e5d0286b25fd7f62f88bc436a59ae4e             1   \n",
       "4               True  2000.0  57b4a8679d0d3eb1e31367b57221098f             1   \n",
       "\n",
       "                                          properties                 region  \\\n",
       "0  [{'slug_id': 'stoly_stulya_tip', 'slug_name': ...     Краснодарский край   \n",
       "1  [{'slug_id': 'dom_dacha_posuda_tip', 'slug_nam...      Тюменская область   \n",
       "2  [{'slug_id': 'zhenskaya_odezhda_pidzhaki_kosty...         Омская область   \n",
       "3  [{'slug_id': 'waggon_type', 'slug_name': 'Тип'...  Ленинградская область   \n",
       "4                                                 []     Московская область   \n",
       "\n",
       "   sold_mode  subcategory_id  sold_fast  \n",
       "0          1             410          1  \n",
       "1          1             405          0  \n",
       "2          1             908          0  \n",
       "3          1             312          0  \n",
       "4          1             504          0  "
      ]
     },
     "execution_count": 25,
     "metadata": {},
     "output_type": "execute_result"
    }
   ],
   "source": [
    "data.head()"
   ]
  },
  {
   "cell_type": "markdown",
   "metadata": {},
   "source": [
    "###  Let's use only lat, long, price and for predict target (your solution must be more complicated and use text information from dataset)"
   ]
  },
  {
   "cell_type": "code",
   "execution_count": 26,
   "metadata": {},
   "outputs": [],
   "source": [
    "X = data[['lat', 'long', 'price']].values\n",
    "y = data['sold_fast'].values"
   ]
  },
  {
   "cell_type": "code",
   "execution_count": 27,
   "metadata": {},
   "outputs": [],
   "source": [
    "from sklearn.preprocessing import OneHotEncoder"
   ]
  },
  {
   "cell_type": "markdown",
   "metadata": {},
   "source": [
    "Always shuffle your data and don't forget fix random_seed and random_state"
   ]
  },
  {
   "cell_type": "code",
   "execution_count": 28,
   "metadata": {},
   "outputs": [],
   "source": [
    "from sklearn.utils import shuffle"
   ]
  },
  {
   "cell_type": "code",
   "execution_count": 29,
   "metadata": {},
   "outputs": [],
   "source": [
    "X, y = shuffle(X, y, random_state = 42)"
   ]
  },
  {
   "cell_type": "code",
   "execution_count": 30,
   "metadata": {},
   "outputs": [
    {
     "data": {
      "text/plain": [
       "LogisticRegression(C=1.0, class_weight=None, dual=False, fit_intercept=True,\n",
       "          intercept_scaling=1, max_iter=100, multi_class='ovr', n_jobs=1,\n",
       "          penalty='l2', random_state=None, solver='liblinear', tol=0.0001,\n",
       "          verbose=0, warm_start=False)"
      ]
     },
     "execution_count": 30,
     "metadata": {},
     "output_type": "execute_result"
    }
   ],
   "source": [
    "model = LogisticRegression()\n",
    "model.fit(X, y)"
   ]
  },
  {
   "cell_type": "markdown",
   "metadata": {},
   "source": [
    "### Evaluate on test_data and save file for submit"
   ]
  },
  {
   "cell_type": "code",
   "execution_count": 31,
   "metadata": {},
   "outputs": [],
   "source": [
    "data = pd.read_csv('./data/test_nolabel.tsv', sep = '\\t')"
   ]
  },
  {
   "cell_type": "code",
   "execution_count": 32,
   "metadata": {},
   "outputs": [],
   "source": [
    "product_id = data['product_id'].values\n",
    "X = data[['lat', 'long', 'price']].values\n",
    "proba = model.predict_proba(X)"
   ]
  },
  {
   "cell_type": "code",
   "execution_count": 33,
   "metadata": {},
   "outputs": [],
   "source": [
    "data = pd.DataFrame.from_dict({'product_id' : product_id, 'score' : proba[:, 1]})\n",
    "data.to_csv('./to_submit', sep = ',', index = False)"
   ]
  }
 ],
 "metadata": {
  "kernelspec": {
   "display_name": "Python 3",
   "language": "python",
   "name": "python3"
  },
  "language_info": {
   "codemirror_mode": {
    "name": "ipython",
    "version": 3
   },
   "file_extension": ".py",
   "mimetype": "text/x-python",
   "name": "python",
   "nbconvert_exporter": "python",
   "pygments_lexer": "ipython3",
   "version": "3.6.5"
  }
 },
 "nbformat": 4,
 "nbformat_minor": 2
}
