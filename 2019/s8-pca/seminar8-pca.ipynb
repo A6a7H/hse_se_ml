{
 "cells": [
  {
   "cell_type": "markdown",
   "metadata": {},
   "source": [
    "<center><img src=\"img/logo_hse_black.jpg\"></center>\n",
    "\n",
    "<h1><center>Data Analysis</center></h1>\n",
    "<h2><center>Seminar: Principal Component Analysis (PCA) </center></h2>"
   ]
  },
  {
   "cell_type": "code",
   "execution_count": 1,
   "metadata": {},
   "outputs": [],
   "source": [
    "%matplotlib inline\n",
    "\n",
    "import numpy as np\n",
    "import pandas as pd\n",
    "import matplotlib.pyplot as plt"
   ]
  },
  {
   "cell_type": "markdown",
   "metadata": {},
   "source": [
    "# Generate Toy Sample\n",
    "\n",
    "Let's generate a simple toy sample and will use it to consider how PCA works."
   ]
  },
  {
   "cell_type": "code",
   "execution_count": 2,
   "metadata": {},
   "outputs": [],
   "source": [
    "from sklearn import datasets\n",
    "\n",
    "# Generate 2D Gaussian distribution\n",
    "n_samples = 1000\n",
    "X, y = datasets.make_blobs(n_samples=n_samples, random_state=42, centers=[[0, 0]])\n",
    "\n",
    "# Apply coordiantes transformation\n",
    "transformation = [[0.6, 0.4], \n",
    "                  [0.4, 0.6]]\n",
    "X = np.dot(X, transformation)"
   ]
  },
  {
   "cell_type": "code",
   "execution_count": 3,
   "metadata": {},
   "outputs": [
    {
     "data": {
      "text/plain": [
       "array([[ 0.8514483 ,  0.76514118],\n",
       "       [ 0.81391703,  0.39024593],\n",
       "       [-0.8906364 , -0.53221298],\n",
       "       ...,\n",
       "       [ 0.41873993,  0.64692725],\n",
       "       [-1.13484131, -1.21643359],\n",
       "       [ 0.73859928,  0.31811284]])"
      ]
     },
     "execution_count": 3,
     "metadata": {},
     "output_type": "execute_result"
    }
   ],
   "source": [
    "X"
   ]
  },
  {
   "cell_type": "code",
   "execution_count": 4,
   "metadata": {},
   "outputs": [
    {
     "data": {
      "image/png": "[encoded data removed]",
      "text/plain": [
       "<Figure size 432x432 with 1 Axes>"
      ]
     },
     "metadata": {
      "needs_background": "light"
     },
     "output_type": "display_data"
    }
   ],
   "source": [
    "plt.figure(figsize=(6, 6))\n",
    "plt.scatter(X[:, 0], X[:, 1], color='b')\n",
    "plt.xticks(size=14)\n",
    "plt.yticks(size=14)\n",
    "plt.grid(b=1)\n",
    "plt.show()"
   ]
  },
  {
   "cell_type": "markdown",
   "metadata": {},
   "source": [
    "# Principal Component Analysis (PCA)\n",
    "\n",
    "\n",
    "Find directions along which our datapoints have the greatest variance:\n",
    "\n",
    "\n",
    "<center><img src='http://www.visiondummy.com/wp-content/uploads/2014/05/correlated_2d.png' width=400></center>\n",
    "\n",
    "\n",
    "These directions are principal components. Principal components $a_{1},a_{2},...a_{D}\\in\\mathbb{R}^{D}$ are orthonormal: \n",
    "\n",
    "$$\n",
    "\\langle a_{i},a_{j}\\rangle=\\begin{cases}\n",
    "1, & i=j\\\\\n",
    "0 & i\\ne j\n",
    "\\end{cases}\n",
    "$$"
   ]
  },
  {
   "cell_type": "markdown",
   "metadata": {},
   "source": [
    "## PCA algorithm (detailed):\n",
    "(Following your lectures)\n",
    "\n",
    "### Step 1:\n",
    "Calculate variance across a principal component $a$ assuming that $X$ is centralized:\n",
    "$$\n",
    "\\begin{align} \\sigma^2_a & = \\frac{1}{n}\\sum\\limits_{i=1}^n(a^\\top x_i - \\mu)^2 \\\\\n",
    "& = \\frac{1}{n}\\sum\\limits_{i=1}^n(a^\\top x_i - 0)^2 \\\\\n",
    "& = \\frac{1}{n}\\sum\\limits_{i=1}^n a^\\top( x_i x_i^\\top) a \\\\\n",
    "& = a^\\top \\left(\\frac{1}{n}\\sum\\limits_{i=1}^n x_i x_i^\\top \\right) a \\\\\n",
    "& = a^\\top X^\\top X a \\\\\n",
    "\\end{align}\n",
    "$$"
   ]
  },
  {
   "cell_type": "markdown",
   "metadata": {},
   "source": [
    "### Step 2:\n",
    "Find $a_1$ that maximizes the variance:\n",
    "\n",
    "$$\n",
    "\\begin{equation}\n",
    "\\begin{cases}\n",
    "a_1^\\top X^\\top X a_1 \\rightarrow \\max_{a_1} \\\\\n",
    "a_1^\\top a_1 = 1\n",
    "\\end{cases}\n",
    "\\end{equation}\n",
    "$$\n",
    "\n",
    "Lagrangian of optimization problem:\n",
    "$$ \\mathcal{L}(a_1, \\nu) = a_1^\\top X^\\top X a_1 - \\nu (a_1^\\top a_1 - 1) \\rightarrow max_{a_1, \\nu}$$\n",
    "\n",
    "Derivative w.r.t. $a_1$:\n",
    "$$ \\frac{\\partial\\mathcal{L}}{\\partial a_1} = 2X^\\top X a_1 - 2\\nu a_1 = 0 $$\n",
    "\n",
    "$$X^\\top X a_1 = \\nu a_1$$\n",
    "\n",
    "---\n",
    "#### Note:\n",
    "So $a_1$ is selected from a set of eigenvectors of  $X^\\top X$. But which one?\n",
    "\n",
    "$$ a_1^\\top X^\\top X a_1 = \\nu a_1^\\top a_1 = \\nu \\rightarrow \\max$$\n",
    "\n",
    "That means:\n",
    "* $\\nu$ should be the greatest eigenvalue of matrix $X^\\top X$, which is $\\lambda_1$\n",
    "* $a_1$ is eigenvector, correspondent to $\\lambda_1$\n",
    "---"
   ]
  },
  {
   "cell_type": "markdown",
   "metadata": {},
   "source": [
    "### Step 3:\n",
    "\n",
    "Similarly for $a_{2}$:\n",
    "\n",
    "$$\n",
    "\\begin{equation}\n",
    "\\begin{cases}\n",
    "a_2^\\top X^\\top X a_2 \\rightarrow \\max_{a_2} \\\\\n",
    "a_2^\\top a_2 = 1 \\\\\n",
    "a_2^\\top a_1 = 0\n",
    "\\end{cases}\n",
    "\\end{equation}\n",
    "$$\n",
    "\n",
    "..."
   ]
  },
  {
   "cell_type": "markdown",
   "metadata": {},
   "source": [
    "## PCA algorithm (short)\n",
    "\n",
    "1. Center (and scale) dataset\n",
    "2. Calculate covariance matrix $С=X^\\top X$\n",
    "3. Find first $k$ eigenvalues and eigenvectors\n",
    "$$A = \n",
    "\\left[\n",
    "  \\begin{array}{cccc}\n",
    "    \\mid & \\mid & & \\mid\\\\\n",
    "    a_{1} & a_{2} & \\ldots & a_{k} \\\\\n",
    "    \\mid & \\mid & & \\mid \n",
    "  \\end{array}\n",
    "\\right]\n",
    "$$\n",
    "4. Perform projection:\n",
    "$$ Z = XA $$ "
   ]
  },
  {
   "cell_type": "code",
   "execution_count": 5,
   "metadata": {},
   "outputs": [],
   "source": [
    "class MyPCA(object):\n",
    "    \n",
    "    def __init__(self, n_components=1):\n",
    "        \"\"\"\n",
    "        This class performs PCA.\n",
    "        \n",
    "        Parameters\n",
    "        ----------\n",
    "        n_components : int\n",
    "            Number of the first principle components to use.\n",
    "        \"\"\"\n",
    "        \n",
    "        self.n_components = n_components\n",
    "        self.means = None\n",
    "        self.stds = None\n",
    "        self.A = None\n",
    "        self.eig_vals = None\n",
    "        self.eig_vecs = None\n",
    "        \n",
    "        \n",
    "    def _normalize(self, X, is_fit=True):\n",
    "        \"\"\"\n",
    "        This method centers and scales input data.\n",
    "        \n",
    "        Parameters\n",
    "        ----------\n",
    "        X : numpy.ndarray\n",
    "            Input data sample with shape=[n_objects, n_features]\n",
    "            \n",
    "        Returns\n",
    "        -------\n",
    "        X_center : numpy.ndarray\n",
    "            Centered and scaled input data sample with shape=[n_objects, n_features]\n",
    "        \"\"\"\n",
    "        if is_fit:\n",
    "            self.means = X.mean(axis=0)\n",
    "            self.stds = X.std(axis=0)\n",
    "            \n",
    "        X_center = ( X - self.means ) / self.stds\n",
    "        \n",
    "        return X_center\n",
    "        \n",
    "    \n",
    "    def fit(self, X):\n",
    "        \"\"\"\n",
    "        This method searches for the first eigenvectors for PCA.\n",
    "        \n",
    "        Parameters\n",
    "        ----------\n",
    "        X : numpy.ndarray\n",
    "            Input data smaple with shape=[n_objects, n_features]\n",
    "        \"\"\"\n",
    "        \n",
    "        # Centering (and scaling)\n",
    "        X_center = self._normalize(X)\n",
    "        \n",
    "        # Calculate covariance matrix\n",
    "        C = np.dot(X_center.T, X_center)\n",
    "        \n",
    "        # Find eigenvalues and eigenvectors\n",
    "        self.eig_vals, self.eig_vecs = np.linalg.eig(C)\n",
    "        \n",
    "        # Sort eigenvalues\n",
    "        sorted_indeces = self.eig_vals.argsort()[::-1]\n",
    "        \n",
    "        # Take the first n_components\n",
    "        if self.n_components > len(self.eig_vecs):\n",
    "            print(\"Are you crazy?! You want more components that I have. I'll give only \", str(len(self.eig_vecs)))\n",
    "        n_first_indeces = sorted_indeces[:self.n_components]\n",
    "        self.A = self.eig_vecs[n_first_indeces].T\n",
    "        \n",
    "        \n",
    "    def transform(self, X):\n",
    "        \"\"\"\n",
    "        Performs projections on the selected components.\n",
    "        \n",
    "        Parameters\n",
    "        ----------\n",
    "        X : numpy.ndarray\n",
    "            Input data smaple with shape=[n_objects, n_features]\n",
    "            \n",
    "        Returns\n",
    "        -------\n",
    "        X_pca : numpy.ndarray\n",
    "            Transformed input data smaple with shape=[n_objects, n_components]\n",
    "        \"\"\"\n",
    "        \n",
    "        if self.A is None:\n",
    "            print(\"Hey! What are you doing? Fit me firstly.\")\n",
    "            return X\n",
    "        \n",
    "        # Centering (and scaling)\n",
    "        X_center = self._normalize(X, is_fit=False)\n",
    "            \n",
    "        # Perform projection\n",
    "        X_pca = np.dot(X_center, self.A)\n",
    "        \n",
    "        return X_pca"
   ]
  },
  {
   "cell_type": "markdown",
   "metadata": {},
   "source": [
    "Apply our PCA on the sample:"
   ]
  },
  {
   "cell_type": "code",
   "execution_count": 6,
   "metadata": {},
   "outputs": [],
   "source": [
    "pca = MyPCA(n_components=2)\n",
    "pca.fit(X)\n",
    "X_pca = pca.transform(X)"
   ]
  },
  {
   "cell_type": "code",
   "execution_count": 7,
   "metadata": {},
   "outputs": [
    {
     "data": {
      "text/plain": [
       "array([[ 0.10593947,  1.51411034],\n",
       "       [ 0.4361439 ,  1.10872446],\n",
       "       [-0.36612117, -1.50351778],\n",
       "       ...,\n",
       "       [-0.21147927,  0.96474142],\n",
       "       [ 0.06054932, -2.4193718 ],\n",
       "       [ 0.43147381,  0.96252043]])"
      ]
     },
     "execution_count": 7,
     "metadata": {},
     "output_type": "execute_result"
    }
   ],
   "source": [
    "X_pca"
   ]
  },
  {
   "cell_type": "code",
   "execution_count": 8,
   "metadata": {},
   "outputs": [],
   "source": [
    "pca_1 = MyPCA(n_components=1)\n",
    "pca_1.fit(X)\n",
    "X_pca_1 = pca_1.transform(X)\n",
    "\n",
    "pca_2 = MyPCA(n_components=2)\n",
    "pca_2.fit(X)\n",
    "X_pca_2 = pca_2.transform(X)"
   ]
  },
  {
   "cell_type": "code",
   "execution_count": 9,
   "metadata": {},
   "outputs": [
    {
     "name": "stderr",
     "output_type": "stream",
     "text": [
      "No handles with labels found to put in legend.\n"
     ]
    },
    {
     "data": {
      "image/png": "[encoded data removed]",
      "text/plain": [
       "<Figure size 1080x360 with 3 Axes>"
      ]
     },
     "metadata": {
      "needs_background": "light"
     },
     "output_type": "display_data"
    }
   ],
   "source": [
    "plt.figure(figsize=(15, 5))\n",
    "\n",
    "# Plot original X with eigenvectors\n",
    "plt.subplot(1, 3, 1)\n",
    "plt.scatter(X[:, 0], X[:, 1], color='b')\n",
    "for vector in pca_2.eig_vecs:\n",
    "    plt.arrow(0, 0, vector[0], vector[1], head_width=0.2, head_length=0.2, fc='k', ec='k')\n",
    "plt.title(\"Original X\", size=14)\n",
    "plt.xticks(size=14)\n",
    "plt.yticks(size=14)\n",
    "plt.grid(b=1)\n",
    "plt.legend(loc='best')\n",
    "\n",
    "\n",
    "# Plot for PCA with n_components=2\n",
    "plt.subplot(1, 3, 2)\n",
    "plt.scatter(X_pca_2[:, 0], X_pca_2[:, 1], color='b')\n",
    "for vector in pca_2.transform(pca_2.eig_vecs):\n",
    "    plt.arrow(0, 0, vector[0], vector[1], head_width=0.2, head_length=0.2, fc='k', ec='k', linewidth=2)\n",
    "plt.title(\"PCA with n_component = 2\", size=14)\n",
    "plt.xticks(size=14)\n",
    "plt.yticks(size=14)\n",
    "plt.xlim(-1.5, 1.5)\n",
    "plt.grid(b=1)\n",
    "\n",
    "\n",
    "# Plot for PCA with n_components=1\n",
    "plt.subplot(1, 3, 3)\n",
    "plt.scatter(X_pca_1[:, 0], [0]*len(X_pca_1), color='b')\n",
    "for vector in pca_1.transform(pca_1.eig_vecs):\n",
    "    if vector[0] <= 0.5: continue\n",
    "    plt.arrow(0, 0, vector[0], 0, head_width=0.2, head_length=0.2, fc='k', ec='k', linewidth=2)\n",
    "plt.title(\"PCA with n_component = 1\", size=14)\n",
    "plt.xticks(size=14)\n",
    "plt.yticks(size=14)\n",
    "plt.xlim(-1.5, 1.5)\n",
    "plt.ylim(-1.5, 1.5)\n",
    "plt.grid(b=1)\n",
    "\n",
    "\n",
    "plt.tight_layout()\n",
    "plt.show()"
   ]
  },
  {
   "cell_type": "markdown",
   "metadata": {},
   "source": [
    "# Statlog (Vehicle Silhouettes) Data Set\n",
    "https://archive.ics.uci.edu/ml/datasets/Statlog+%28Vehicle+Silhouettes%29\n",
    "\n",
    "The purpose is to classify a given silhouette as one of four types of vehicle, using a set of features extracted from the silhouette. The vehicle may be viewed from one of many different angles. \n",
    "\n",
    "Attribute Information:\n",
    "\n",
    "ATTRIBUTES: <br>\n",
    "\n",
    "COMPACTNESS\t(average perim)^2/area <br>\n",
    "CIRCULARITY\t(average radius)^2/area <br>\n",
    "DISTANCE CIRCULARITY\tarea/(av.distance from border)^2 <br>\n",
    "RADIUS RATIO\t(max.rad-min.rad)/av.radius <br>\n",
    "PR.AXIS ASPECT RATIO\t(minor axis)/(major axis) <br>\n",
    "MAX.LENGTH ASPECT RATIO\t(length perp. max length)/(max length) <br>\n",
    "SCATTER RATIO\t(inertia about minor axis)/(inertia about major axis) <br>\n",
    "ELONGATEDNESS\tarea/(shrink width)^2 <br>\n",
    "PR.AXIS RECTANGULARITY\tarea/(pr.axis length*pr.axis width) <br>\n",
    "MAX.LENGTH RECTANGULARITY area/(max.length*length perp. to this) <br>\n",
    "SCALED VARIANCE (2nd order moment about minor axis)/area <br>\n",
    "ALONG MAJOR AXIS <br>\n",
    "SCALED VARIANCE (2nd order moment about major axis)/area <br>\n",
    "ALONG MINOR AXIS <br>\n",
    "SCALED RADIUS OF GYRATION\t(mavar+mivar)/area <br>\n",
    "SKEWNESS ABOUT (3rd order moment about major axis)/sigma_min^3 <br>\n",
    "MAJOR AXIS <br>\n",
    "SKEWNESS ABOUT (3rd order moment about minor axis)/sigma_maj^3 <br>\n",
    "MINOR AXIS <br>\n",
    "KURTOSIS ABOUT (4th order moment about major axis)/sigma_min^4 \n",
    "MINOR AXIS <br>\n",
    "KURTOSIS ABOUT (4th order moment about minor axis)/sigma_maj^4 \n",
    "MAJOR AXIS <br>\n",
    "HOLLOWS RATIO\t(area of hollows)/(area of bounding polygon) <br>\n",
    "\n",
    "Where sigma_maj^2 is the variance along the major axis and sigma_min^2 is the variance along the minor axis, and \n",
    "area of hollows= area of bounding poly-area of object \n",
    "\n",
    "The area of the bounding polygon is found as a side result of the computation to find the maximum length. Each individual length computation yields a pair of calipers to the object orientated at every 5 degrees. The object is propagated into an image containing the union of these calipers to obtain an image of the bounding polygon. \n",
    "\n",
    "NUMBER OF CLASSES:  OPEL, SAAB, BUS, VAN"
   ]
  },
  {
   "cell_type": "code",
   "execution_count": 10,
   "metadata": {},
   "outputs": [
    {
     "name": "stdout",
     "output_type": "stream",
     "text": [
      "DataFrame shape:  (846, 19)\n"
     ]
    },
    {
     "data": {
      "text/html": [
       "<div>\n",
       "<style scoped>\n",
       "    .dataframe tbody tr th:only-of-type {\n",
       "        vertical-align: middle;\n",
       "    }\n",
       "\n",
       "    .dataframe tbody tr th {\n",
       "        vertical-align: top;\n",
       "    }\n",
       "\n",
       "    .dataframe thead th {\n",
       "        text-align: right;\n",
       "    }\n",
       "</style>\n",
       "<table border=\"1\" class=\"dataframe\">\n",
       "  <thead>\n",
       "    <tr style=\"text-align: right;\">\n",
       "      <th></th>\n",
       "      <th>compactness</th>\n",
       "      <th>circularity</th>\n",
       "      <th>distance_circularity</th>\n",
       "      <th>radius_ratio</th>\n",
       "      <th>pr.axis_aspect_ratio</th>\n",
       "      <th>max.length_aspect_ratio</th>\n",
       "      <th>scatter_ratio</th>\n",
       "      <th>elongatedness</th>\n",
       "      <th>pr.axis_rectangularity</th>\n",
       "      <th>max.length_rectangularity</th>\n",
       "      <th>scaled_variance</th>\n",
       "      <th>scaled_variance.1</th>\n",
       "      <th>scaled_radius_of_gyration</th>\n",
       "      <th>scaled_radius_of_gyration.1</th>\n",
       "      <th>skewness_about</th>\n",
       "      <th>skewness_about.1</th>\n",
       "      <th>skewness_about.2</th>\n",
       "      <th>hollows_ratio</th>\n",
       "      <th>class</th>\n",
       "    </tr>\n",
       "  </thead>\n",
       "  <tbody>\n",
       "    <tr>\n",
       "      <th>0</th>\n",
       "      <td>95</td>\n",
       "      <td>48</td>\n",
       "      <td>83</td>\n",
       "      <td>178</td>\n",
       "      <td>72</td>\n",
       "      <td>10</td>\n",
       "      <td>162</td>\n",
       "      <td>42</td>\n",
       "      <td>20</td>\n",
       "      <td>159</td>\n",
       "      <td>176</td>\n",
       "      <td>379</td>\n",
       "      <td>184</td>\n",
       "      <td>70</td>\n",
       "      <td>6</td>\n",
       "      <td>16</td>\n",
       "      <td>187</td>\n",
       "      <td>197</td>\n",
       "      <td>van</td>\n",
       "    </tr>\n",
       "    <tr>\n",
       "      <th>1</th>\n",
       "      <td>91</td>\n",
       "      <td>41</td>\n",
       "      <td>84</td>\n",
       "      <td>141</td>\n",
       "      <td>57</td>\n",
       "      <td>9</td>\n",
       "      <td>149</td>\n",
       "      <td>45</td>\n",
       "      <td>19</td>\n",
       "      <td>143</td>\n",
       "      <td>170</td>\n",
       "      <td>330</td>\n",
       "      <td>158</td>\n",
       "      <td>72</td>\n",
       "      <td>9</td>\n",
       "      <td>14</td>\n",
       "      <td>189</td>\n",
       "      <td>199</td>\n",
       "      <td>van</td>\n",
       "    </tr>\n",
       "    <tr>\n",
       "      <th>2</th>\n",
       "      <td>104</td>\n",
       "      <td>50</td>\n",
       "      <td>106</td>\n",
       "      <td>209</td>\n",
       "      <td>66</td>\n",
       "      <td>10</td>\n",
       "      <td>207</td>\n",
       "      <td>32</td>\n",
       "      <td>23</td>\n",
       "      <td>158</td>\n",
       "      <td>223</td>\n",
       "      <td>635</td>\n",
       "      <td>220</td>\n",
       "      <td>73</td>\n",
       "      <td>14</td>\n",
       "      <td>9</td>\n",
       "      <td>188</td>\n",
       "      <td>196</td>\n",
       "      <td>saab</td>\n",
       "    </tr>\n",
       "    <tr>\n",
       "      <th>3</th>\n",
       "      <td>93</td>\n",
       "      <td>41</td>\n",
       "      <td>82</td>\n",
       "      <td>159</td>\n",
       "      <td>63</td>\n",
       "      <td>9</td>\n",
       "      <td>144</td>\n",
       "      <td>46</td>\n",
       "      <td>19</td>\n",
       "      <td>143</td>\n",
       "      <td>160</td>\n",
       "      <td>309</td>\n",
       "      <td>127</td>\n",
       "      <td>63</td>\n",
       "      <td>6</td>\n",
       "      <td>10</td>\n",
       "      <td>199</td>\n",
       "      <td>207</td>\n",
       "      <td>van</td>\n",
       "    </tr>\n",
       "    <tr>\n",
       "      <th>4</th>\n",
       "      <td>85</td>\n",
       "      <td>44</td>\n",
       "      <td>70</td>\n",
       "      <td>205</td>\n",
       "      <td>103</td>\n",
       "      <td>52</td>\n",
       "      <td>149</td>\n",
       "      <td>45</td>\n",
       "      <td>19</td>\n",
       "      <td>144</td>\n",
       "      <td>241</td>\n",
       "      <td>325</td>\n",
       "      <td>188</td>\n",
       "      <td>127</td>\n",
       "      <td>9</td>\n",
       "      <td>11</td>\n",
       "      <td>180</td>\n",
       "      <td>183</td>\n",
       "      <td>bus</td>\n",
       "    </tr>\n",
       "  </tbody>\n",
       "</table>\n",
       "</div>"
      ],
      "text/plain": [
       "   compactness  circularity  distance_circularity  radius_ratio  \\\n",
       "0           95           48                    83           178   \n",
       "1           91           41                    84           141   \n",
       "2          104           50                   106           209   \n",
       "3           93           41                    82           159   \n",
       "4           85           44                    70           205   \n",
       "\n",
       "   pr.axis_aspect_ratio  max.length_aspect_ratio  scatter_ratio  \\\n",
       "0                    72                       10            162   \n",
       "1                    57                        9            149   \n",
       "2                    66                       10            207   \n",
       "3                    63                        9            144   \n",
       "4                   103                       52            149   \n",
       "\n",
       "   elongatedness  pr.axis_rectangularity  max.length_rectangularity  \\\n",
       "0             42                      20                        159   \n",
       "1             45                      19                        143   \n",
       "2             32                      23                        158   \n",
       "3             46                      19                        143   \n",
       "4             45                      19                        144   \n",
       "\n",
       "   scaled_variance  scaled_variance.1  scaled_radius_of_gyration  \\\n",
       "0              176                379                        184   \n",
       "1              170                330                        158   \n",
       "2              223                635                        220   \n",
       "3              160                309                        127   \n",
       "4              241                325                        188   \n",
       "\n",
       "   scaled_radius_of_gyration.1  skewness_about  skewness_about.1  \\\n",
       "0                           70               6                16   \n",
       "1                           72               9                14   \n",
       "2                           73              14                 9   \n",
       "3                           63               6                10   \n",
       "4                          127               9                11   \n",
       "\n",
       "   skewness_about.2  hollows_ratio class  \n",
       "0               187            197   van  \n",
       "1               189            199   van  \n",
       "2               188            196  saab  \n",
       "3               199            207   van  \n",
       "4               180            183   bus  "
      ]
     },
     "execution_count": 10,
     "metadata": {},
     "output_type": "execute_result"
    }
   ],
   "source": [
    "# Read data sample\n",
    "data = pd.read_csv(\"data/vehicle.csv\")\n",
    "print(\"DataFrame shape: \", data.shape)\n",
    "data.head()"
   ]
  },
  {
   "cell_type": "markdown",
   "metadata": {},
   "source": [
    "## Data Preparation"
   ]
  },
  {
   "cell_type": "code",
   "execution_count": 11,
   "metadata": {},
   "outputs": [],
   "source": [
    "from sklearn.preprocessing import LabelEncoder\n",
    "\n",
    "# Select two classes\n",
    "data = data[(data['class'] == 'bus') + (data['class'] == 'saab')]\n",
    "\n",
    "# Take feature names\n",
    "features = data.columns.drop(\"class\")\n",
    "\n",
    "# Prepare X and y for classification\n",
    "X = data[features].values\n",
    "y = 1. * (data[\"class\"].values == 'saab')"
   ]
  },
  {
   "cell_type": "code",
   "execution_count": 12,
   "metadata": {},
   "outputs": [
    {
     "data": {
      "text/plain": [
       "array([[104,  50, 106, 209,  66,  10, 207,  32,  23, 158, 223, 635, 220,\n",
       "         73,  14,   9, 188, 196],\n",
       "       [ 85,  44,  70, 205, 103,  52, 149,  45,  19, 144, 241, 325, 188,\n",
       "        127,   9,  11, 180, 183],\n",
       "       [107,  57, 106, 172,  50,   6, 255,  26,  28, 169, 280, 957, 264,\n",
       "         85,   5,   9, 181, 183],\n",
       "       [ 97,  43,  73, 173,  65,   6, 153,  42,  19, 143, 176, 361, 172,\n",
       "         66,  13,   1, 200, 204],\n",
       "       [ 93,  44,  98, 197,  62,  11, 183,  36,  22, 146, 202, 505, 152,\n",
       "         64,   4,  14, 195, 204]])"
      ]
     },
     "execution_count": 12,
     "metadata": {},
     "output_type": "execute_result"
    }
   ],
   "source": [
    "X[:5]"
   ]
  },
  {
   "cell_type": "code",
   "execution_count": 13,
   "metadata": {},
   "outputs": [
    {
     "data": {
      "text/plain": [
       "array([1., 0., 0., 0., 1.])"
      ]
     },
     "execution_count": 13,
     "metadata": {},
     "output_type": "execute_result"
    }
   ],
   "source": [
    "y[:5]"
   ]
  },
  {
   "cell_type": "markdown",
   "metadata": {},
   "source": [
    "## Train / Test Split + Standardization"
   ]
  },
  {
   "cell_type": "code",
   "execution_count": 14,
   "metadata": {},
   "outputs": [],
   "source": [
    "from sklearn.model_selection import train_test_split\n",
    "from sklearn.preprocessing import StandardScaler\n",
    "\n",
    "# Split data into train and test samples\n",
    "X_train, X_test, y_train, y_test = train_test_split(X, y, test_size=0.5, random_state=42)\n",
    "\n",
    "# Standardization\n",
    "ss = StandardScaler()\n",
    "ss.fit(X_train)\n",
    "\n",
    "X_train = ss.transform(X_train)\n",
    "X_test = ss.transform(X_test)"
   ]
  },
  {
   "cell_type": "markdown",
   "metadata": {},
   "source": [
    "## Train Classifier"
   ]
  },
  {
   "cell_type": "code",
   "execution_count": 15,
   "metadata": {},
   "outputs": [
    {
     "data": {
      "text/plain": [
       "KNeighborsClassifier(algorithm='auto', leaf_size=30, metric='minkowski',\n",
       "           metric_params=None, n_jobs=None, n_neighbors=5, p=2,\n",
       "           weights='uniform')"
      ]
     },
     "execution_count": 15,
     "metadata": {},
     "output_type": "execute_result"
    }
   ],
   "source": [
    "from sklearn.tree import DecisionTreeClassifier\n",
    "from sklearn.linear_model import LogisticRegression\n",
    "from sklearn.neighbors import KNeighborsClassifier\n",
    "from sklearn.ensemble import RandomForestClassifier\n",
    "\n",
    "#clf = DecisionTreeClassifier(criterion='gini', max_depth=None, random_state=42)\n",
    "#clf = LogisticRegression()\n",
    "clf = KNeighborsClassifier(n_neighbors=5)\n",
    "#clf = RandomForestClassifier(n_estimators=100)\n",
    "clf.fit(X_train, y_train)"
   ]
  },
  {
   "cell_type": "code",
   "execution_count": 16,
   "metadata": {},
   "outputs": [],
   "source": [
    "y_test_predict = clf.predict(X_test)\n",
    "y_test_proba = clf.predict_proba(X_test)[:, 1]"
   ]
  },
  {
   "cell_type": "code",
   "execution_count": 17,
   "metadata": {},
   "outputs": [
    {
     "name": "stdout",
     "output_type": "stream",
     "text": [
      "Accuracy:  0.9036697247706422\n",
      "ROC AUC:  0.9739412309505768\n"
     ]
    }
   ],
   "source": [
    "from sklearn.metrics import accuracy_score, roc_auc_score\n",
    "\n",
    "accuracy = accuracy_score(y_test, y_test_predict)\n",
    "auc = roc_auc_score(y_test, y_test_proba)\n",
    "print(\"Accuracy: \", accuracy)\n",
    "print(\"ROC AUC: \", auc)"
   ]
  },
  {
   "cell_type": "markdown",
   "metadata": {},
   "source": [
    "## Apply PCA"
   ]
  },
  {
   "cell_type": "code",
   "execution_count": 18,
   "metadata": {},
   "outputs": [],
   "source": [
    "pca_accuracies = []\n",
    "pca_aucs = []\n",
    "pca_components = np.arange(1, 19)\n",
    "\n",
    "for n_components in pca_components:\n",
    "    \n",
    "    # For each n_components run PCA\n",
    "    pca = MyPCA(n_components=n_components)\n",
    "    pca.fit(X_train)\n",
    "    X_train_pca = pca.transform(X_train)\n",
    "    X_test_pca = pca.transform(X_test)\n",
    "    \n",
    "    # Fit a classifier\n",
    "    #clf = DecisionTreeClassifier(criterion='gini', max_depth=None, random_state=42)\n",
    "    #clf = RandomForestClassifier(n_estimators=100)\n",
    "    clf = KNeighborsClassifier(n_neighbors=5)\n",
    "    clf.fit(X_train_pca, y_train)\n",
    "    \n",
    "    # Make predictions\n",
    "    y_test_predict = clf.predict(X_test_pca)\n",
    "    y_test_proba = clf.predict_proba(X_test_pca)[:, 1]\n",
    "    \n",
    "    # Calculate quality metrics\n",
    "    accuracy = accuracy_score(y_test, y_test_predict)\n",
    "    pca_accuracies.append(accuracy)\n",
    "    \n",
    "    auc = roc_auc_score(y_test, y_test_proba)\n",
    "    pca_aucs.append(auc)"
   ]
  },
  {
   "cell_type": "code",
   "execution_count": 19,
   "metadata": {},
   "outputs": [
    {
     "data": {
      "image/png": "[encoded data removed]",
      "text/plain": [
       "<Figure size 648x432 with 1 Axes>"
      ]
     },
     "metadata": {
      "needs_background": "light"
     },
     "output_type": "display_data"
    }
   ],
   "source": [
    "plt.figure(figsize=(9, 6))\n",
    "plt.plot(pca_components, pca_accuracies, label='Accuracy', color='b', linewidth=3)\n",
    "plt.plot(pca_components, pca_aucs, label='ROC AUC', color='r', linewidth=3)\n",
    "plt.xticks(pca_components, size=14)\n",
    "plt.xlabel(\"N components of PCA\", size=14)\n",
    "plt.yticks(size=14)\n",
    "plt.ylabel(\"Metric values\", size=14)\n",
    "plt.legend(loc='best', fontsize=14)\n",
    "plt.grid(b=1)\n",
    "plt.show()"
   ]
  },
  {
   "cell_type": "markdown",
   "metadata": {},
   "source": [
    "## Explained variance"
   ]
  },
  {
   "cell_type": "markdown",
   "metadata": {},
   "source": [
    "Explained variance for $a_i$ can be calculated as the following ratio:\n",
    "$$\n",
    "\\frac{\\lambda_{i}}{\\sum_{d=1}^{D}\\lambda_{d}}\n",
    "$$"
   ]
  },
  {
   "cell_type": "code",
   "execution_count": 20,
   "metadata": {},
   "outputs": [],
   "source": [
    "# Fit PCA\n",
    "pca = MyPCA(n_components=9)\n",
    "pca.fit(X_train)\n",
    "\n",
    "# Take all eigenvalues\n",
    "eigenvalues = pca.eig_vals\n",
    "\n",
    "# Sort eigenvalues\n",
    "eigenvalues = np.sort(eigenvalues)[::-1]"
   ]
  },
  {
   "cell_type": "code",
   "execution_count": 21,
   "metadata": {},
   "outputs": [
    {
     "data": {
      "text/plain": [
       "array([2.02326324e+03, 7.06955366e+02, 4.18444800e+02, 2.61356690e+02,\n",
       "       1.94453234e+02, 1.02899249e+02, 7.96948020e+01, 4.74626617e+01,\n",
       "       2.59980608e+01, 1.59622449e+01, 8.95889404e+00, 6.75362140e+00,\n",
       "       4.41752334e+00, 3.43681491e+00, 2.87878489e+00, 1.76723801e+00,\n",
       "       1.24053844e+00, 5.62318013e-02])"
      ]
     },
     "execution_count": 21,
     "metadata": {},
     "output_type": "execute_result"
    }
   ],
   "source": [
    "eigenvalues"
   ]
  },
  {
   "cell_type": "code",
   "execution_count": 22,
   "metadata": {},
   "outputs": [],
   "source": [
    "pca_components = np.arange(1, 19)\n",
    "\n",
    "# Calculate explained variance\n",
    "explained_variance = eigenvalues / eigenvalues.sum()\n",
    "\n",
    "# Calculate cumulative explained variance\n",
    "cumsum_explained_variance = np.cumsum(explained_variance)"
   ]
  },
  {
   "cell_type": "code",
   "execution_count": 23,
   "metadata": {},
   "outputs": [
    {
     "data": {
      "image/png": "[encoded data removed]",
      "text/plain": [
       "<Figure size 1296x432 with 2 Axes>"
      ]
     },
     "metadata": {
      "needs_background": "light"
     },
     "output_type": "display_data"
    }
   ],
   "source": [
    "plt.figure(figsize=(18, 6))\n",
    "\n",
    "plt.subplot(1, 2, 1)\n",
    "plt.plot(pca_components, explained_variance, color='b', linewidth=3)\n",
    "plt.xticks(pca_components, size=14)\n",
    "plt.xlabel(\"N components of PCA\", size=14)\n",
    "plt.yticks(size=14)\n",
    "plt.ylabel(\"Explained Variance\", size=14)\n",
    "plt.title(\"PCA Explained Variance\", size=14)\n",
    "plt.grid(b=1)\n",
    "\n",
    "\n",
    "plt.subplot(1, 2, 2)\n",
    "plt.plot(pca_components, cumsum_explained_variance, color='b', linewidth=3)\n",
    "plt.xticks(pca_components, size=14)\n",
    "plt.xlabel(\"N components of PCA\", size=14)\n",
    "plt.yticks(size=14)\n",
    "plt.ylabel(\"Explained Variance\", size=14)\n",
    "plt.title(\"PCA Cumulative Explained Variance\", size=14)\n",
    "plt.grid(b=1)\n",
    "\n",
    "\n",
    "plt.show()"
   ]
  },
  {
   "cell_type": "code",
   "execution_count": null,
   "metadata": {},
   "outputs": [],
   "source": []
  }
 ],
 "metadata": {
  "kernelspec": {
   "display_name": "Python 3",
   "language": "python",
   "name": "python3"
  },
  "language_info": {
   "codemirror_mode": {
    "name": "ipython",
    "version": 3
   },
   "file_extension": ".py",
   "mimetype": "text/x-python",
   "name": "python",
   "nbconvert_exporter": "python",
   "pygments_lexer": "ipython3",
   "version": "3.7.1"
  }
 },
 "nbformat": 4,
 "nbformat_minor": 2
}
