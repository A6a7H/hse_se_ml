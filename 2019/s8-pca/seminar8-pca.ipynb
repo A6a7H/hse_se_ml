{
 "cells": [
  {
   "cell_type": "markdown",
   "metadata": {},
   "source": [
    "<center><img src=\"img/logo_hse_black.jpg\"></center>\n",
    "\n",
    "<h1><center>Data Analysis</center></h1>\n",
    "<h2><center>Seminar: Principal Component Analysis (PCA) </center></h2>"
   ]
  },
  {
   "cell_type": "code",
   "execution_count": 1,
   "metadata": {},
   "outputs": [],
   "source": [
    "%matplotlib inline\n",
    "\n",
    "import numpy as np\n",
    "import pandas as pd\n",
    "import matplotlib.pyplot as plt"
   ]
  },
  {
   "cell_type": "markdown",
   "metadata": {},
   "source": [
    "# Generate Toy Sample\n",
    "\n",
    "Let's generate a simple toy sample and will use it to consider how PCA works."
   ]
  },
  {
   "cell_type": "code",
   "execution_count": 2,
   "metadata": {},
   "outputs": [],
   "source": [
    "from sklearn import datasets\n",
    "\n",
    "# Generate 2D Gaussian distribution\n",
    "n_samples = 1000\n",
    "X, y = datasets.make_blobs(n_samples=n_samples, random_state=42, centers=[[0, 0]])\n",
    "\n",
    "# Apply coordiantes transformation\n",
    "transformation = [[0.6, 0.4], \n",
    "                  [0.4, 0.6]]\n",
    "X = np.dot(X, transformation)"
   ]
  },
  {
   "cell_type": "code",
   "execution_count": 3,
   "metadata": {},
   "outputs": [
    {
     "data": {
      "text/plain": [
       "array([[ 0.8514483 ,  0.76514118],\n",
       "       [ 0.81391703,  0.39024593],\n",
       "       [-0.8906364 , -0.53221298],\n",
       "       ...,\n",
       "       [ 0.41873993,  0.64692725],\n",
       "       [-1.13484131, -1.21643359],\n",
       "       [ 0.73859928,  0.31811284]])"
      ]
     },
     "execution_count": 3,
     "metadata": {},
     "output_type": "execute_result"
    }
   ],
   "source": [
    "X"
   ]
  },
  {
   "cell_type": "code",
   "execution_count": 4,
   "metadata": {},
   "outputs": [
    {
     "data": {
      "image/png": "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\n",
      "text/plain": [
       "<Figure size 432x432 with 1 Axes>"
      ]
     },
     "metadata": {
      "needs_background": "light"
     },
     "output_type": "display_data"
    }
   ],
   "source": [
    "plt.figure(figsize=(6, 6))\n",
    "plt.scatter(X[:, 0], X[:, 1], color='b')\n",
    "plt.xticks(size=14)\n",
    "plt.yticks(size=14)\n",
    "plt.grid(b=1)\n",
    "plt.show()"
   ]
  },
  {
   "cell_type": "markdown",
   "metadata": {},
   "source": [
    "# Principal Component Analysis (PCA)\n",
    "\n",
    "\n",
    "Find directions along which our datapoints have the greatest variance:\n",
    "\n",
    "\n",
    "<center><img src='http://www.visiondummy.com/wp-content/uploads/2014/05/correlated_2d.png' width=400></center>\n",
    "\n",
    "\n",
    "These directions are principal components. Principal components $a_{1},a_{2},...a_{D}\\in\\mathbb{R}^{D}$ are orthonormal: \n",
    "\n",
    "$$\n",
    "\\langle a_{i},a_{j}\\rangle=\\begin{cases}\n",
    "1, & i=j\\\\\n",
    "0 & i\\ne j\n",
    "\\end{cases}\n",
    "$$"
   ]
  },
  {
   "cell_type": "markdown",
   "metadata": {},
   "source": [
    "## PCA algorithm (detailed):\n",
    "(Following your lectures)\n",
    "\n",
    "### Step 1:\n",
    "Calculate variance across a principal component $a$ assuming that $X$ is centralized:\n",
    "$$\n",
    "\\begin{align} \\sigma^2_a & = \\frac{1}{n}\\sum\\limits_{i=1}^n(a^\\top x_i - \\mu)^2 \\\\\n",
    "& = \\frac{1}{n}\\sum\\limits_{i=1}^n(a^\\top x_i - 0)^2 \\\\\n",
    "& = \\frac{1}{n}\\sum\\limits_{i=1}^n a^\\top( x_i x_i^\\top) a \\\\\n",
    "& = a^\\top \\left(\\frac{1}{n}\\sum\\limits_{i=1}^n x_i x_i^\\top \\right) a \\\\\n",
    "& = a^\\top X^\\top X a \\\\\n",
    "\\end{align}\n",
    "$$"
   ]
  },
  {
   "cell_type": "markdown",
   "metadata": {},
   "source": [
    "### Step 2:\n",
    "Find $a_1$ that maximizes the variance:\n",
    "\n",
    "$$\n",
    "\\begin{equation}\n",
    "\\begin{cases}\n",
    "a_1^\\top X^\\top X a_1 \\rightarrow \\max_{a_1} \\\\\n",
    "a_1^\\top a_1 = 1\n",
    "\\end{cases}\n",
    "\\end{equation}\n",
    "$$\n",
    "\n",
    "Lagrangian of optimization problem:\n",
    "$$ \\mathcal{L}(a_1, \\nu) = a_1^\\top X^\\top X a_1 - \\nu (a_1^\\top a_1 - 1) \\rightarrow max_{a_1, \\nu}$$\n",
    "\n",
    "Derivative w.r.t. $a_1$:\n",
    "$$ \\frac{\\partial\\mathcal{L}}{\\partial a_1} = 2X^\\top X a_1 - 2\\nu a_1 = 0 $$\n",
    "\n",
    "$$X^\\top X a_1 = \\nu a_1$$\n",
    "\n",
    "---\n",
    "#### Note:\n",
    "So $a_1$ is selected from a set of eigenvectors of  $X^\\top X$. But which one?\n",
    "\n",
    "$$ a_1^\\top X^\\top X a_1 = \\nu a_1^\\top a_1 = \\nu \\rightarrow \\max$$\n",
    "\n",
    "That means:\n",
    "* $\\nu$ should be the greatest eigenvalue of matrix $X^\\top X$, which is $\\lambda_1$\n",
    "* $a_1$ is eigenvector, correspondent to $\\lambda_1$\n",
    "---"
   ]
  },
  {
   "cell_type": "markdown",
   "metadata": {},
   "source": [
    "### Step 3:\n",
    "\n",
    "Similarly for $a_{2}$:\n",
    "\n",
    "$$\n",
    "\\begin{equation}\n",
    "\\begin{cases}\n",
    "a_2^\\top X^\\top X a_2 \\rightarrow \\max_{a_2} \\\\\n",
    "a_2^\\top a_2 = 1 \\\\\n",
    "a_2^\\top a_1 = 0\n",
    "\\end{cases}\n",
    "\\end{equation}\n",
    "$$\n",
    "\n",
    "..."
   ]
  },
  {
   "cell_type": "markdown",
   "metadata": {},
   "source": [
    "## PCA algorithm (short)\n",
    "\n",
    "1. Center (and scale) dataset\n",
    "2. Calculate covariance matrix $С=X^\\top X$\n",
    "3. Find first $k$ eigenvalues and eigenvectors\n",
    "$$A = \n",
    "\\left[\n",
    "  \\begin{array}{cccc}\n",
    "    \\mid & \\mid & & \\mid\\\\\n",
    "    a_{1} & a_{2} & \\ldots & a_{k} \\\\\n",
    "    \\mid & \\mid & & \\mid \n",
    "  \\end{array}\n",
    "\\right]\n",
    "$$\n",
    "4. Perform projection:\n",
    "$$ Z = XA $$ "
   ]
  },
  {
   "cell_type": "code",
   "execution_count": 5,
   "metadata": {},
   "outputs": [],
   "source": [
    "class MyPCA(object):\n",
    "    \n",
    "    def __init__(self, n_components=1):\n",
    "        \"\"\"\n",
    "        This class performs PCA.\n",
    "        \n",
    "        Parameters\n",
    "        ----------\n",
    "        n_components : int\n",
    "            Number of the first principle components to use.\n",
    "        \"\"\"\n",
    "        \n",
    "        self.n_components = n_components\n",
    "        self.A = None\n",
    "        self.eig_vals = None\n",
    "        self.eig_vecs = None\n"
    "        \n",
    "        \n",
    "    def _normalize(self, X):\n",
    "        \"\"\"\n",
    "        This method centers and scales input data.\n",
    "        \n",
    "        Parameters\n",
    "        ----------\n",
    "        X : numpy.ndarray\n",
    "            Input data sample with shape=[n_objects, n_features]\n",
    "            \n",
    "        Returns\n",
    "        -------\n",
    "        X_center : numpy.ndarray\n",
    "            Centered and scaled input data sample with shape=[n_objects, n_features]\n",
    "        \"\"\"\n",
    "        \n",
    "        X_center = ( X - X.mean(axis=0) ) / X.std(axis=0)\n",
    "        \n",
    "        return X_center\n",
    "        \n",
    "    \n",
    "    def fit(self, X):\n",
    "        \"\"\"\n",
    "        This method searches for the first eigenvectors for PCA.\n",
    "        \n",
    "        Parameters\n",
    "        ----------\n",
    "        X : numpy.ndarray\n",
    "            Input data smaple with shape=[n_objects, n_features]\n",
    "        \"\"\"\n",
    "        \n",
    "        # Centering (and scaling)\n",
    "        X_center = self._normalize(X)\n",
    "        \n",
    "        # Calculate covariance matrix\n",
    "        C = np.dot(X_center.T, X_center)\n",
    "        \n",
    "        # Find eigenvalues and eigenvectors\n",
    "        self.eig_vals, self.eig_vecs = np.linalg.eig(C)\n",
    "        \n",
    "        # Sort eigenvalues\n",
    "        sorted_indeces = self.eig_vals.argsort()[::-1]\n",
    "        \n",
    "        # Take the first n_components\n",
    "        if self.n_components > len(self.eig_vecs):\n",
    "            print(\"Are you crazy?! You want more components that I have. I'll give only \", str(len(self.eig_vecs)))\n",
    "        n_first_indeces = sorted_indeces[:self.n_components]\n",
    "        self.A = self.eig_vecs[n_first_indeces].T\n",
    "        \n",
    "        \n",
    "    def transform(self, X):\n",
    "        \"\"\"\n",
    "        Performs projections on the selected components.\n",
    "        \n",
    "        Parameters\n",
    "        ----------\n",
    "        X : numpy.ndarray\n",
    "            Input data smaple with shape=[n_objects, n_features]\n",
    "            \n",
    "        Returns\n",
    "        -------\n",
    "        X_pca : numpy.ndarray\n",
    "            Transformed input data smaple with shape=[n_objects, n_components]\n",
    "        \"\"\"\n",
    "        \n",
    "        if self.A is None:\n",
    "            print(\"Hey! What are you doing? Fit me firstly.\")\n",
    "            return X\n",
    "            \n",
    "        # Perform projection\n",
    "        X_pca = np.dot(X, self.A)\n",
    "        \n",
    "        return X_pca"
   ]
  },
  {
   "cell_type": "markdown",
   "metadata": {},
   "source": [
    "Apply our PCA on the sample:"
   ]
  },
  {
   "cell_type": "code",
   "execution_count": 6,
   "metadata": {},
   "outputs": [],
   "source": [
    "pca = MyPCA(n_components=2)\n",
    "pca.fit(X)\n",
    "X_pca = pca.transform(X)"
   ]
  },
  {
   "cell_type": "code",
   "execution_count": 7,
   "metadata": {},
   "outputs": [
    {
     "data": {
      "text/plain": [
       "array([[ 0.06102835,  1.14310138],\n",
       "       [ 0.2995807 ,  0.85147179],\n",
       "       [-0.25344363, -1.00610644],\n",
       "       ...,\n",
       "       [-0.1613528 ,  0.75354049],\n",
       "       [ 0.05769446, -1.66260243],\n",
       "       [ 0.29732881,  0.7472083 ]])"
      ]
     },
     "execution_count": 7,
     "metadata": {},
     "output_type": "execute_result"
    }
   ],
   "source": [
    "X_pca"
   ]
  },
  {
   "cell_type": "code",
   "execution_count": 8,
   "metadata": {},
   "outputs": [],
   "source": [
    "pca_1 = MyPCA(n_components=1)\n",
    "pca_1.fit(X)\n",
    "X_pca_1 = pca_1.transform(X)\n",
    "\n",
    "pca_2 = MyPCA(n_components=2)\n",
    "pca_2.fit(X)\n",
    "X_pca_2 = pca_2.transform(X)"
   ]
  },
  {
   "cell_type": "code",
   "execution_count": 9,
   "metadata": {},
   "outputs": [
    {
     "name": "stderr",
     "output_type": "stream",
     "text": [
      "No handles with labels found to put in legend.\n"
     ]
    },
    {
     "data": {
      "image/png": "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\n",
      "text/plain": [
       "<Figure size 1080x360 with 3 Axes>"
      ]
     },
     "metadata": {
      "needs_background": "light"
     },
     "output_type": "display_data"
    }
   ],
   "source": [
    "plt.figure(figsize=(15, 5))\n",
    "\n",
    "# Plot original X with eigenvectors\n",
    "plt.subplot(1, 3, 1)\n",
    "plt.scatter(X[:, 0], X[:, 1], color='b')\n",
    "for vector in pca_2.eig_vecs:\n",
    "    plt.arrow(0, 0, vector[0], vector[1], head_width=0.2, head_length=0.2, fc='k', ec='k')\n",
    "plt.title(\"Original X\", size=14)\n",
    "plt.xticks(size=14)\n",
    "plt.yticks(size=14)\n",
    "plt.grid(b=1)\n",
    "plt.legend(loc='best')\n",
    "\n",
    "\n",
    "# Plot for PCA with n_components=2\n",
    "plt.subplot(1, 3, 2)\n",
    "plt.scatter(X_pca_2[:, 0], X_pca_2[:, 1], color='b')\n",
    "for vector in pca_2.transform(pca_2.eig_vecs):\n",
    "    plt.arrow(0, 0, vector[0], vector[1], head_width=0.2, head_length=0.2, fc='k', ec='k', linewidth=2)\n",
    "plt.title(\"PCA with n_component = 2\", size=14)\n",
    "plt.xticks(size=14)\n",
    "plt.yticks(size=14)\n",
    "plt.xlim(-1.5, 1.5)\n",
    "plt.grid(b=1)\n",
    "\n",
    "\n",
    "# Plot for PCA with n_components=1\n",
    "plt.subplot(1, 3, 3)\n",
    "plt.scatter(X_pca_1[:, 0], [0]*len(X_pca_1), color='b')\n",
    "for vector in pca_1.transform(pca_1.eig_vecs):\n",
    "    if vector[0] == 0: continue\n",
    "    plt.arrow(0, 0, vector[0], 0, head_width=0.2, head_length=0.2, fc='k', ec='k', linewidth=2)\n",
    "plt.title(\"PCA with n_component = 1\", size=14)\n",
    "plt.xticks(size=14)\n",
    "plt.yticks(size=14)\n",
    "plt.xlim(-1.5, 1.5)\n",
    "plt.ylim(-1.5, 1.5)\n",
    "plt.grid(b=1)\n",
    "\n",
    "\n",
    "plt.tight_layout()\n",
    "plt.show()"
   ]
  },
  {
   "cell_type": "markdown",
   "metadata": {},
   "source": [
    "# Statlog (Vehicle Silhouettes) Data Set\n",
    "https://archive.ics.uci.edu/ml/datasets/Statlog+%28Vehicle+Silhouettes%29\n",
    "\n",
    "The purpose is to classify a given silhouette as one of four types of vehicle, using a set of features extracted from the silhouette. The vehicle may be viewed from one of many different angles. \n",
    "\n",
    "Attribute Information:\n",
    "\n",
    "ATTRIBUTES: <br>\n",
    "\n",
    "COMPACTNESS\t(average perim)^2/area <br>\n",
    "CIRCULARITY\t(average radius)^2/area <br>\n",
    "DISTANCE CIRCULARITY\tarea/(av.distance from border)^2 <br>\n",
    "RADIUS RATIO\t(max.rad-min.rad)/av.radius <br>\n",
    "PR.AXIS ASPECT RATIO\t(minor axis)/(major axis) <br>\n",
    "MAX.LENGTH ASPECT RATIO\t(length perp. max length)/(max length) <br>\n",
    "SCATTER RATIO\t(inertia about minor axis)/(inertia about major axis) <br>\n",
    "ELONGATEDNESS\tarea/(shrink width)^2 <br>\n",
    "PR.AXIS RECTANGULARITY\tarea/(pr.axis length*pr.axis width) <br>\n",
    "MAX.LENGTH RECTANGULARITY area/(max.length*length perp. to this) <br>\n",
    "SCALED VARIANCE (2nd order moment about minor axis)/area <br>\n",
    "ALONG MAJOR AXIS <br>\n",
    "SCALED VARIANCE (2nd order moment about major axis)/area <br>\n",
    "ALONG MINOR AXIS <br>\n",
    "SCALED RADIUS OF GYRATION\t(mavar+mivar)/area <br>\n",
    "SKEWNESS ABOUT (3rd order moment about major axis)/sigma_min^3 <br>\n",
    "MAJOR AXIS <br>\n",
    "SKEWNESS ABOUT (3rd order moment about minor axis)/sigma_maj^3 <br>\n",
    "MINOR AXIS <br>\n",
    "KURTOSIS ABOUT (4th order moment about major axis)/sigma_min^4 \n",
    "MINOR AXIS <br>\n",
    "KURTOSIS ABOUT (4th order moment about minor axis)/sigma_maj^4 \n",
    "MAJOR AXIS <br>\n",
    "HOLLOWS RATIO\t(area of hollows)/(area of bounding polygon) <br>\n",
    "\n",
    "Where sigma_maj^2 is the variance along the major axis and sigma_min^2 is the variance along the minor axis, and \n",
    "area of hollows= area of bounding poly-area of object \n",
    "\n",
    "The area of the bounding polygon is found as a side result of the computation to find the maximum length. Each individual length computation yields a pair of calipers to the object orientated at every 5 degrees. The object is propagated into an image containing the union of these calipers to obtain an image of the bounding polygon. \n",
    "\n",
    "NUMBER OF CLASSES:  OPEL, SAAB, BUS, VAN"
   ]
  },
  {
   "cell_type": "code",
   "execution_count": 10,
   "metadata": {},
   "outputs": [
    {
     "name": "stdout",
     "output_type": "stream",
     "text": [
      "DataFrame shape:  (846, 19)\n"
     ]
    },
    {
     "data": {
      "text/html": [
       "<div>\n",
       "<style scoped>\n",
       "    .dataframe tbody tr th:only-of-type {\n",
       "        vertical-align: middle;\n",
       "    }\n",
       "\n",
       "    .dataframe tbody tr th {\n",
       "        vertical-align: top;\n",
       "    }\n",
       "\n",
       "    .dataframe thead th {\n",
       "        text-align: right;\n",
       "    }\n",
       "</style>\n",
       "<table border=\"1\" class=\"dataframe\">\n",
       "  <thead>\n",
       "    <tr style=\"text-align: right;\">\n",
       "      <th></th>\n",
       "      <th>compactness</th>\n",
       "      <th>circularity</th>\n",
       "      <th>distance_circularity</th>\n",
       "      <th>radius_ratio</th>\n",
       "      <th>pr.axis_aspect_ratio</th>\n",
       "      <th>max.length_aspect_ratio</th>\n",
       "      <th>scatter_ratio</th>\n",
       "      <th>elongatedness</th>\n",
       "      <th>pr.axis_rectangularity</th>\n",
       "      <th>max.length_rectangularity</th>\n",
       "      <th>scaled_variance</th>\n",
       "      <th>scaled_variance.1</th>\n",
       "      <th>scaled_radius_of_gyration</th>\n",
       "      <th>scaled_radius_of_gyration.1</th>\n",
       "      <th>skewness_about</th>\n",
       "      <th>skewness_about.1</th>\n",
       "      <th>skewness_about.2</th>\n",
       "      <th>hollows_ratio</th>\n",
       "      <th>class</th>\n",
       "    </tr>\n",
       "  </thead>\n",
       "  <tbody>\n",
       "    <tr>\n",
       "      <th>0</th>\n",
       "      <td>95</td>\n",
       "      <td>48</td>\n",
       "      <td>83</td>\n",
       "      <td>178</td>\n",
       "      <td>72</td>\n",
       "      <td>10</td>\n",
       "      <td>162</td>\n",
       "      <td>42</td>\n",
       "      <td>20</td>\n",
       "      <td>159</td>\n",
       "      <td>176</td>\n",
       "      <td>379</td>\n",
       "      <td>184</td>\n",
       "      <td>70</td>\n",
       "      <td>6</td>\n",
       "      <td>16</td>\n",
       "      <td>187</td>\n",
       "      <td>197</td>\n",
       "      <td>van</td>\n",
       "    </tr>\n",
       "    <tr>\n",
       "      <th>1</th>\n",
       "      <td>91</td>\n",
       "      <td>41</td>\n",
       "      <td>84</td>\n",
       "      <td>141</td>\n",
       "      <td>57</td>\n",
       "      <td>9</td>\n",
       "      <td>149</td>\n",
       "      <td>45</td>\n",
       "      <td>19</td>\n",
       "      <td>143</td>\n",
       "      <td>170</td>\n",
       "      <td>330</td>\n",
       "      <td>158</td>\n",
       "      <td>72</td>\n",
       "      <td>9</td>\n",
       "      <td>14</td>\n",
       "      <td>189</td>\n",
       "      <td>199</td>\n",
       "      <td>van</td>\n",
       "    </tr>\n",
       "    <tr>\n",
       "      <th>2</th>\n",
       "      <td>104</td>\n",
       "      <td>50</td>\n",
       "      <td>106</td>\n",
       "      <td>209</td>\n",
       "      <td>66</td>\n",
       "      <td>10</td>\n",
       "      <td>207</td>\n",
       "      <td>32</td>\n",
       "      <td>23</td>\n",
       "      <td>158</td>\n",
       "      <td>223</td>\n",
       "      <td>635</td>\n",
       "      <td>220</td>\n",
       "      <td>73</td>\n",
       "      <td>14</td>\n",
       "      <td>9</td>\n",
       "      <td>188</td>\n",
       "      <td>196</td>\n",
       "      <td>saab</td>\n",
       "    </tr>\n",
       "    <tr>\n",
       "      <th>3</th>\n",
       "      <td>93</td>\n",
       "      <td>41</td>\n",
       "      <td>82</td>\n",
       "      <td>159</td>\n",
       "      <td>63</td>\n",
       "      <td>9</td>\n",
       "      <td>144</td>\n",
       "      <td>46</td>\n",
       "      <td>19</td>\n",
       "      <td>143</td>\n",
       "      <td>160</td>\n",
       "      <td>309</td>\n",
       "      <td>127</td>\n",
       "      <td>63</td>\n",
       "      <td>6</td>\n",
       "      <td>10</td>\n",
       "      <td>199</td>\n",
       "      <td>207</td>\n",
       "      <td>van</td>\n",
       "    </tr>\n",
       "    <tr>\n",
       "      <th>4</th>\n",
       "      <td>85</td>\n",
       "      <td>44</td>\n",
       "      <td>70</td>\n",
       "      <td>205</td>\n",
       "      <td>103</td>\n",
       "      <td>52</td>\n",
       "      <td>149</td>\n",
       "      <td>45</td>\n",
       "      <td>19</td>\n",
       "      <td>144</td>\n",
       "      <td>241</td>\n",
       "      <td>325</td>\n",
       "      <td>188</td>\n",
       "      <td>127</td>\n",
       "      <td>9</td>\n",
       "      <td>11</td>\n",
       "      <td>180</td>\n",
       "      <td>183</td>\n",
       "      <td>bus</td>\n",
       "    </tr>\n",
       "  </tbody>\n",
       "</table>\n",
       "</div>"
      ],
      "text/plain": [
       "   compactness  circularity  distance_circularity  radius_ratio  \\\n",
       "0           95           48                    83           178   \n",
       "1           91           41                    84           141   \n",
       "2          104           50                   106           209   \n",
       "3           93           41                    82           159   \n",
       "4           85           44                    70           205   \n",
       "\n",
       "   pr.axis_aspect_ratio  max.length_aspect_ratio  scatter_ratio  \\\n",
       "0                    72                       10            162   \n",
       "1                    57                        9            149   \n",
       "2                    66                       10            207   \n",
       "3                    63                        9            144   \n",
       "4                   103                       52            149   \n",
       "\n",
       "   elongatedness  pr.axis_rectangularity  max.length_rectangularity  \\\n",
       "0             42                      20                        159   \n",
       "1             45                      19                        143   \n",
       "2             32                      23                        158   \n",
       "3             46                      19                        143   \n",
       "4             45                      19                        144   \n",
       "\n",
       "   scaled_variance  scaled_variance.1  scaled_radius_of_gyration  \\\n",
       "0              176                379                        184   \n",
       "1              170                330                        158   \n",
       "2              223                635                        220   \n",
       "3              160                309                        127   \n",
       "4              241                325                        188   \n",
       "\n",
       "   scaled_radius_of_gyration.1  skewness_about  skewness_about.1  \\\n",
       "0                           70               6                16   \n",
       "1                           72               9                14   \n",
       "2                           73              14                 9   \n",
       "3                           63               6                10   \n",
       "4                          127               9                11   \n",
       "\n",
       "   skewness_about.2  hollows_ratio class  \n",
       "0               187            197   van  \n",
       "1               189            199   van  \n",
       "2               188            196  saab  \n",
       "3               199            207   van  \n",
       "4               180            183   bus  "
      ]
     },
     "execution_count": 10,
     "metadata": {},
     "output_type": "execute_result"
    }
   ],
   "source": [
    "# Read data sample\n",
    "data = pd.read_csv(\"data/vehicle.csv\")\n",
    "print(\"DataFrame shape: \", data.shape)\n",
    "data.head()"
   ]
  },
  {
   "cell_type": "markdown",
   "metadata": {},
   "source": [
    "## Data Preparation"
   ]
  },
  {
   "cell_type": "code",
   "execution_count": 11,
   "metadata": {},
   "outputs": [],
   "source": [
    "from sklearn.preprocessing import LabelEncoder\n",
    "\n",
    "# Select two classes\n",
    "data = data[(data['class'] == 'bus') + (data['class'] == 'saab')]\n",
    "\n",
    "# Take feature names\n",
    "features = data.columns.drop(\"class\")\n",
    "\n",
    "# Prepare X and y for classification\n",
    "X = data[features].values\n",
    "y = 1. * (data[\"class\"].values == 'saab')"
   ]
  },
  {
   "cell_type": "code",
   "execution_count": 12,
   "metadata": {},
   "outputs": [
    {
     "data": {
      "text/plain": [
       "array([[104,  50, 106, 209,  66,  10, 207,  32,  23, 158, 223, 635, 220,\n",
       "         73,  14,   9, 188, 196],\n",
       "       [ 85,  44,  70, 205, 103,  52, 149,  45,  19, 144, 241, 325, 188,\n",
       "        127,   9,  11, 180, 183],\n",
       "       [107,  57, 106, 172,  50,   6, 255,  26,  28, 169, 280, 957, 264,\n",
       "         85,   5,   9, 181, 183],\n",
       "       [ 97,  43,  73, 173,  65,   6, 153,  42,  19, 143, 176, 361, 172,\n",
       "         66,  13,   1, 200, 204],\n",
       "       [ 93,  44,  98, 197,  62,  11, 183,  36,  22, 146, 202, 505, 152,\n",
       "         64,   4,  14, 195, 204]])"
      ]
     },
     "execution_count": 12,
     "metadata": {},
     "output_type": "execute_result"
    }
   ],
   "source": [
    "X[:5]"
   ]
  },
  {
   "cell_type": "code",
   "execution_count": 13,
   "metadata": {},
   "outputs": [
    {
     "data": {
      "text/plain": [
       "array([1., 0., 0., 0., 1.])"
      ]
     },
     "execution_count": 13,
     "metadata": {},
     "output_type": "execute_result"
    }
   ],
   "source": [
    "y[:5]"
   ]
  },
  {
   "cell_type": "markdown",
   "metadata": {},
   "source": [
    "## Train / Test Split + Standardization"
   ]
  },
  {
   "cell_type": "code",
   "execution_count": 14,
   "metadata": {},
   "outputs": [],
   "source": [
    "from sklearn.model_selection import train_test_split\n",
    "from sklearn.preprocessing import StandardScaler\n",
    "\n",
    "# Split data into train and test samples\n",
    "X_train, X_test, y_train, y_test = train_test_split(X, y, test_size=0.5, random_state=42)\n",
    "\n",
    "# Standardization\n",
    "ss = StandardScaler()\n",
    "ss.fit(X_train)\n",
    "\n",
    "X_train = ss.transform(X_train)\n",
    "X_test = ss.transform(X_test)"
   ]
  },
  {
   "cell_type": "markdown",
   "metadata": {},
   "source": [
    "## Train Classifier"
   ]
  },
  {
   "cell_type": "code",
   "execution_count": 15,
   "metadata": {},
   "outputs": [
    {
     "data": {
      "text/plain": [
       "KNeighborsClassifier(algorithm='auto', leaf_size=30, metric='minkowski',\n",
       "           metric_params=None, n_jobs=None, n_neighbors=5, p=2,\n",
       "           weights='uniform')"
      ]
     },
     "execution_count": 15,
     "metadata": {},
     "output_type": "execute_result"
    }
   ],
   "source": [
    "from sklearn.tree import DecisionTreeClassifier\n",
    "from sklearn.linear_model import LogisticRegression\n",
    "from sklearn.neighbors import KNeighborsClassifier\n",
    "from sklearn.ensemble import RandomForestClassifier\n",
    "\n",
    "#clf = DecisionTreeClassifier(criterion='gini', max_depth=None, random_state=42)\n",
    "#clf = LogisticRegression()\n",
    "clf = KNeighborsClassifier(n_neighbors=5)\n",
    "#clf = RandomForestClassifier(n_estimators=100)\n",
    "clf.fit(X_train, y_train)"
   ]
  },
  {
   "cell_type": "code",
   "execution_count": 16,
   "metadata": {},
   "outputs": [],
   "source": [
    "y_test_predict = clf.predict(X_test)\n",
    "y_test_proba = clf.predict_proba(X_test)[:, 1]"
   ]
  },
  {
   "cell_type": "code",
   "execution_count": 17,
   "metadata": {},
   "outputs": [
    {
     "name": "stdout",
     "output_type": "stream",
     "text": [
      "Accuracy:  0.9036697247706422\n",
      "ROC AUC:  0.9739412309505768\n"
     ]
    }
   ],
   "source": [
    "from sklearn.metrics import accuracy_score, roc_auc_score\n",
    "\n",
    "accuracy = accuracy_score(y_test, y_test_predict)\n",
    "auc = roc_auc_score(y_test, y_test_proba)\n",
    "print(\"Accuracy: \", accuracy)\n",
    "print(\"ROC AUC: \", auc)"
   ]
  },
  {
   "cell_type": "markdown",
   "metadata": {},
   "source": [
    "## Apply PCA"
   ]
  },
  {
   "cell_type": "code",
   "execution_count": 18,
   "metadata": {},
   "outputs": [],
   "source": [
    "pca_accuracies = []\n",
    "pca_aucs = []\n",
    "pca_components = np.arange(1, 19)\n",
    "\n",
    "for n_components in pca_components:\n",
    "    \n",
    "    # For each n_components run PCA\n",
    "    pca = MyPCA(n_components=n_components)\n",
    "    pca.fit(X_train)\n",
    "    X_train_pca = pca.transform(X_train)\n",
    "    X_test_pca = pca.transform(X_test)\n",
    "    \n",
    "    # Fit a classifier\n",
    "    #clf = DecisionTreeClassifier(criterion='gini', max_depth=None, random_state=42)\n",
    "    #clf = RandomForestClassifier(n_estimators=100)\n",
    "    clf = KNeighborsClassifier(n_neighbors=5)\n",
    "    clf.fit(X_train_pca, y_train)\n",
    "    \n",
    "    # Make predictions\n",
    "    y_test_predict = clf.predict(X_test_pca)\n",
    "    y_test_proba = clf.predict_proba(X_test_pca)[:, 1]\n",
    "    \n",
    "    # Calculate quality metrics\n",
    "    accuracy = accuracy_score(y_test, y_test_predict)\n",
    "    pca_accuracies.append(accuracy)\n",
    "    \n",
    "    auc = roc_auc_score(y_test, y_test_proba)\n",
    "    pca_aucs.append(auc)"
   ]
  },
  {
   "cell_type": "code",
   "execution_count": 19,
   "metadata": {},
   "outputs": [
    {
     "data": {
      "image/png": "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\n",
      "text/plain": [
       "<Figure size 648x432 with 1 Axes>"
      ]
     },
     "metadata": {
      "needs_background": "light"
     },
     "output_type": "display_data"
    }
   ],
   "source": [
    "plt.figure(figsize=(9, 6))\n",
    "plt.plot(pca_components, pca_accuracies, label='Accuracy', color='b', linewidth=3)\n",
    "plt.plot(pca_components, pca_aucs, label='ROC AUC', color='r', linewidth=3)\n",
    "plt.xticks(pca_components, size=14)\n",
    "plt.xlabel(\"N components of PCA\", size=14)\n",
    "plt.yticks(size=14)\n",
    "plt.ylabel(\"Metric values\", size=14)\n",
    "plt.legend(loc='best', fontsize=14)\n",
    "plt.grid(b=1)\n",
    "plt.show()"
   ]
  },
  {
   "cell_type": "markdown",
   "metadata": {},
   "source": [
    "## Explained variance"
   ]
  },
  {
   "cell_type": "markdown",
   "metadata": {},
   "source": [
    "Explained variance for $a_i$ can be calculated as the following ratio:\n",
    "$$\n",
    "\\frac{\\lambda_{i}}{\\sum_{d=1}^{D}\\lambda_{d}}\n",
    "$$"
   ]
  },
  {
   "cell_type": "code",
   "execution_count": 20,
   "metadata": {},
   "outputs": [],
   "source": [
    "# Fit PCA\n",
    "pca = MyPCA(n_components=9)\n",
    "pca.fit(X_train)\n",
    "\n",
    "# Take all eigenvalues\n",
    "eigenvalues = pca.eig_vals\n",
    "\n",
    "# Sort eigenvalues\n",
    "eigenvalues = np.sort(eigenvalues)[::-1]"
   ]
  },
  {
   "cell_type": "code",
   "execution_count": 21,
   "metadata": {},
   "outputs": [
    {
     "data": {
      "text/plain": [
       "array([2.02326324e+03, 7.06955366e+02, 4.18444800e+02, 2.61356690e+02,\n",
       "       1.94453234e+02, 1.02899249e+02, 7.96948020e+01, 4.74626617e+01,\n",
       "       2.59980608e+01, 1.59622449e+01, 8.95889404e+00, 6.75362140e+00,\n",
       "       4.41752334e+00, 3.43681491e+00, 2.87878489e+00, 1.76723801e+00,\n",
       "       1.24053844e+00, 5.62318013e-02])"
      ]
     },
     "execution_count": 21,
     "metadata": {},
     "output_type": "execute_result"
    }
   ],
   "source": [
    "eigenvalues"
   ]
  },
  {
   "cell_type": "code",
   "execution_count": 22,
   "metadata": {},
   "outputs": [],
   "source": [
    "pca_components = np.arange(1, 19)\n",
    "\n",
    "# Calculate explained variance\n",
    "explained_variance = eigenvalues / eigenvalues.sum()\n",
    "\n",
    "# Calculate cumulative explained variance\n",
    "cumsum_explained_variance = np.cumsum(explained_variance)"
   ]
  },
  {
   "cell_type": "code",
   "execution_count": 23,
   "metadata": {},
   "outputs": [
    {
     "data": {
      "image/png": "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\n",
      "text/plain": [
       "<Figure size 1296x432 with 2 Axes>"
      ]
     },
     "metadata": {
      "needs_background": "light"
     },
     "output_type": "display_data"
    }
   ],
   "source": [
    "plt.figure(figsize=(18, 6))\n",
    "\n",
    "plt.subplot(1, 2, 1)\n",
    "plt.plot(pca_components, explained_variance, color='b', linewidth=3)\n",
    "plt.xticks(pca_components, size=14)\n",
    "plt.xlabel(\"N components of PCA\", size=14)\n",
    "plt.yticks(size=14)\n",
    "plt.ylabel(\"Explained Variance\", size=14)\n",
    "plt.title(\"PCA Explained Variance\", size=14)\n",
    "plt.grid(b=1)\n",
    "\n",
    "\n",
    "plt.subplot(1, 2, 2)\n",
    "plt.plot(pca_components, cumsum_explained_variance, color='b', linewidth=3)\n",
    "plt.xticks(pca_components, size=14)\n",
    "plt.xlabel(\"N components of PCA\", size=14)\n",
    "plt.yticks(size=14)\n",
    "plt.ylabel(\"Explained Variance\", size=14)\n",
    "plt.title(\"PCA Cumulative Explained Variance\", size=14)\n",
    "plt.grid(b=1)\n",
    "\n",
    "\n",
    "plt.show()"
   ]
  },
  {
   "cell_type": "code",
   "execution_count": null,
   "metadata": {},
   "outputs": [],
   "source": []
  }
 ],
 "metadata": {
  "kernelspec": {
   "display_name": "Python 3",
   "language": "python",
   "name": "python3"
  },
  "language_info": {
   "codemirror_mode": {
    "name": "ipython",
    "version": 3
   },
   "file_extension": ".py",
   "mimetype": "text/x-python",
   "name": "python",
   "nbconvert_exporter": "python",
   "pygments_lexer": "ipython3",
   "version": "3.7.1"
  }
 },
 "nbformat": 4,
 "nbformat_minor": 2
}
