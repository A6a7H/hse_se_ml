{
 "cells": [
  {
   "cell_type": "code",
   "execution_count": 1,
   "metadata": {},
   "outputs": [],
   "source": [
    "import pandas as pd\n",
    "import numpy as np\n",
    "from matplotlib import pyplot as plt\n",
    "import seaborn as sns"
   ]
  },
  {
   "cell_type": "code",
   "execution_count": 2,
   "metadata": {},
   "outputs": [],
   "source": [
    "train = pd.read_csv('train.tsv', sep='\\t')\n",
    "test = pd.read_csv('test_nolabel.tsv', sep='\\t')\n",
    "\n",
    "train['date_created'] = pd.to_datetime(train['date_created'])\n",
    "test['date_created'] = pd.to_datetime(test['date_created'])"
   ]
  },
  {
   "cell_type": "code",
   "execution_count": 3,
   "metadata": {},
   "outputs": [
    {
     "data": {
      "text/plain": [
       "((351281, 20), (89251, 19))"
      ]
     },
     "execution_count": 3,
     "metadata": {},
     "output_type": "execute_result"
    }
   ],
   "source": [
    "train.shape, test.shape"
   ]
  },
  {
   "cell_type": "code",
   "execution_count": 31,
   "metadata": {},
   "outputs": [
    {
     "data": {
      "text/html": [
       "<div>\n",
       "<style scoped>\n",
       "    .dataframe tbody tr th:only-of-type {\n",
       "        vertical-align: middle;\n",
       "    }\n",
       "\n",
       "    .dataframe tbody tr th {\n",
       "        vertical-align: top;\n",
       "    }\n",
       "\n",
       "    .dataframe thead th {\n",
       "        text-align: right;\n",
       "    }\n",
       "</style>\n",
       "<table border=\"1\" class=\"dataframe\">\n",
       "  <thead>\n",
       "    <tr style=\"text-align: right;\">\n",
       "      <th></th>\n",
       "      <th>Unnamed: 0</th>\n",
       "      <th>category_id</th>\n",
       "      <th>city</th>\n",
       "      <th>date_created</th>\n",
       "      <th>delivery_available</th>\n",
       "      <th>desc_text</th>\n",
       "      <th>img_num</th>\n",
       "      <th>lat</th>\n",
       "      <th>long</th>\n",
       "      <th>name_text</th>\n",
       "      <th>owner_id</th>\n",
       "      <th>payment_available</th>\n",
       "      <th>price</th>\n",
       "      <th>product_id</th>\n",
       "      <th>product_type</th>\n",
       "      <th>properties</th>\n",
       "      <th>region</th>\n",
       "      <th>sold_mode</th>\n",
       "      <th>subcategory_id</th>\n",
       "      <th>sold_fast</th>\n",
       "    </tr>\n",
       "  </thead>\n",
       "  <tbody>\n",
       "    <tr>\n",
       "      <th>0</th>\n",
       "      <td>1</td>\n",
       "      <td>4</td>\n",
       "      <td>Краснодар</td>\n",
       "      <td>2018-10-08</td>\n",
       "      <td>False</td>\n",
       "      <td>Продаю стол раскладной, деревянный, советский ...</td>\n",
       "      <td>3</td>\n",
       "      <td>45.0686</td>\n",
       "      <td>38.9518</td>\n",
       "      <td>Стол</td>\n",
       "      <td>4ce583fe8231a0cc4a3c7d241c7d0289</td>\n",
       "      <td>True</td>\n",
       "      <td>500.0</td>\n",
       "      <td>8cb80c05c65c210275f5500779d6b593</td>\n",
       "      <td>1</td>\n",
       "      <td>[{'slug_id': 'stoly_stulya_tip', 'slug_name': ...</td>\n",
       "      <td>Краснодарский край</td>\n",
       "      <td>1</td>\n",
       "      <td>410</td>\n",
       "      <td>1</td>\n",
       "    </tr>\n",
       "    <tr>\n",
       "      <th>1</th>\n",
       "      <td>2</td>\n",
       "      <td>4</td>\n",
       "      <td>Тюмень</td>\n",
       "      <td>2018-06-18</td>\n",
       "      <td>False</td>\n",
       "      <td>Тарелки глубокие 6 шт. Блюдца, чашки по 6 шт. ...</td>\n",
       "      <td>2</td>\n",
       "      <td>57.1840</td>\n",
       "      <td>65.5674</td>\n",
       "      <td>Посуда</td>\n",
       "      <td>e58be2c8f143c17246dc2243b5d3b98f</td>\n",
       "      <td>False</td>\n",
       "      <td>300.0</td>\n",
       "      <td>3b7a9f8b27a53b63525f95bc8070abb2</td>\n",
       "      <td>1</td>\n",
       "      <td>[{'slug_id': 'dom_dacha_posuda_tip', 'slug_nam...</td>\n",
       "      <td>Тюменская область</td>\n",
       "      <td>1</td>\n",
       "      <td>405</td>\n",
       "      <td>0</td>\n",
       "    </tr>\n",
       "    <tr>\n",
       "      <th>2</th>\n",
       "      <td>4</td>\n",
       "      <td>9</td>\n",
       "      <td>Омск</td>\n",
       "      <td>2018-07-31</td>\n",
       "      <td>True</td>\n",
       "      <td>Новый,с этикеткой. Размер L. Не подошёл по раз...</td>\n",
       "      <td>1</td>\n",
       "      <td>54.9889</td>\n",
       "      <td>73.4312</td>\n",
       "      <td>Костюм</td>\n",
       "      <td>51b408796027214232532b7e478e2159</td>\n",
       "      <td>True</td>\n",
       "      <td>1100.0</td>\n",
       "      <td>c97dd9c5a3e938c52cf5d7822bc0eb7b</td>\n",
       "      <td>1</td>\n",
       "      <td>[{'slug_id': 'zhenskaya_odezhda_pidzhaki_kosty...</td>\n",
       "      <td>Омская область</td>\n",
       "      <td>1</td>\n",
       "      <td>908</td>\n",
       "      <td>0</td>\n",
       "    </tr>\n",
       "    <tr>\n",
       "      <th>3</th>\n",
       "      <td>6</td>\n",
       "      <td>3</td>\n",
       "      <td>Санкт-Петербург</td>\n",
       "      <td>2018-04-17</td>\n",
       "      <td>False</td>\n",
       "      <td>Складывается тростью, все колеса вниз. Сплошна...</td>\n",
       "      <td>4</td>\n",
       "      <td>59.9590</td>\n",
       "      <td>30.4877</td>\n",
       "      <td>Коляска</td>\n",
       "      <td>6544b83acbbf04439a7ba983093cafb4</td>\n",
       "      <td>True</td>\n",
       "      <td>5000.0</td>\n",
       "      <td>3e5d0286b25fd7f62f88bc436a59ae4e</td>\n",
       "      <td>1</td>\n",
       "      <td>[{'slug_id': 'waggon_type', 'slug_name': 'Тип'...</td>\n",
       "      <td>Ленинградская область</td>\n",
       "      <td>1</td>\n",
       "      <td>312</td>\n",
       "      <td>0</td>\n",
       "    </tr>\n",
       "    <tr>\n",
       "      <th>4</th>\n",
       "      <td>10</td>\n",
       "      <td>5</td>\n",
       "      <td>Москва</td>\n",
       "      <td>2018-02-09</td>\n",
       "      <td>False</td>\n",
       "      <td>Неразлучники, птичкам по 1,5 года. Продаю с бо...</td>\n",
       "      <td>2</td>\n",
       "      <td>55.6473</td>\n",
       "      <td>37.4118</td>\n",
       "      <td>Волнистые попугаи</td>\n",
       "      <td>ea575e28daf1f47bfce63015cd3ce5cf</td>\n",
       "      <td>True</td>\n",
       "      <td>2000.0</td>\n",
       "      <td>57b4a8679d0d3eb1e31367b57221098f</td>\n",
       "      <td>1</td>\n",
       "      <td>[]</td>\n",
       "      <td>Московская область</td>\n",
       "      <td>1</td>\n",
       "      <td>504</td>\n",
       "      <td>0</td>\n",
       "    </tr>\n",
       "    <tr>\n",
       "      <th>5</th>\n",
       "      <td>11</td>\n",
       "      <td>11</td>\n",
       "      <td>Гусь-Хрустальный</td>\n",
       "      <td>2018-04-28</td>\n",
       "      <td>False</td>\n",
       "      <td>Продам детский велосипед,двухколесный,лет для ...</td>\n",
       "      <td>1</td>\n",
       "      <td>55.6063</td>\n",
       "      <td>40.6564</td>\n",
       "      <td>Велосипед детский</td>\n",
       "      <td>9ba6bb7a01bf0e577a36682da64a5dde</td>\n",
       "      <td>True</td>\n",
       "      <td>800.0</td>\n",
       "      <td>c73fd3f12f71c73ad4fa9c1b4b4f3629</td>\n",
       "      <td>1</td>\n",
       "      <td>[{'slug_id': 'sport_tzvet', 'slug_name': 'Цвет...</td>\n",
       "      <td>Владимирская область</td>\n",
       "      <td>1</td>\n",
       "      <td>1107</td>\n",
       "      <td>0</td>\n",
       "    </tr>\n",
       "    <tr>\n",
       "      <th>6</th>\n",
       "      <td>12</td>\n",
       "      <td>5</td>\n",
       "      <td>Якутск</td>\n",
       "      <td>2018-02-08</td>\n",
       "      <td>False</td>\n",
       "      <td>Отдам кота, 8 месяцев, к горшку приучен.</td>\n",
       "      <td>1</td>\n",
       "      <td>62.0355</td>\n",
       "      <td>129.6755</td>\n",
       "      <td>скоттиш страйт</td>\n",
       "      <td>7e0e13efb64cfbb1daf62a87ed63bf1f</td>\n",
       "      <td>False</td>\n",
       "      <td>1.0</td>\n",
       "      <td>be19161f29cc7e6e1795f756ef9e29e0</td>\n",
       "      <td>1</td>\n",
       "      <td>[{'slug_id': 'koshki_poroda', 'slug_name': 'По...</td>\n",
       "      <td>Республика Саха (Якутия)</td>\n",
       "      <td>1</td>\n",
       "      <td>503</td>\n",
       "      <td>0</td>\n",
       "    </tr>\n",
       "    <tr>\n",
       "      <th>7</th>\n",
       "      <td>13</td>\n",
       "      <td>13</td>\n",
       "      <td>Краснодар</td>\n",
       "      <td>2018-10-14</td>\n",
       "      <td>False</td>\n",
       "      <td>ТВ в рабочем состоянии</td>\n",
       "      <td>3</td>\n",
       "      <td>45.0618</td>\n",
       "      <td>38.9170</td>\n",
       "      <td>LE32R72B</td>\n",
       "      <td>e8e578f2dd291cc1b2e5944cb869028a</td>\n",
       "      <td>False</td>\n",
       "      <td>6000.0</td>\n",
       "      <td>c76ee67dfc81c0f06a3d908370a2f59e</td>\n",
       "      <td>1</td>\n",
       "      <td>[{'slug_id': 'televizory_marka', 'slug_name': ...</td>\n",
       "      <td>Краснодарский край</td>\n",
       "      <td>1</td>\n",
       "      <td>1302</td>\n",
       "      <td>0</td>\n",
       "    </tr>\n",
       "    <tr>\n",
       "      <th>8</th>\n",
       "      <td>14</td>\n",
       "      <td>25</td>\n",
       "      <td>Орск</td>\n",
       "      <td>2018-06-02</td>\n",
       "      <td>False</td>\n",
       "      <td>1991 г.в.Пробег около 20000 км. Документы есть...</td>\n",
       "      <td>2</td>\n",
       "      <td>51.2585</td>\n",
       "      <td>58.6035</td>\n",
       "      <td>Минск</td>\n",
       "      <td>a992d673ee26064a0e9d157296244739</td>\n",
       "      <td>False</td>\n",
       "      <td>15000.0</td>\n",
       "      <td>c19620c06a40e40445854c4f665416da</td>\n",
       "      <td>1</td>\n",
       "      <td>[{'slug_id': 'motocikly_skutery_tip', 'slug_na...</td>\n",
       "      <td>Оренбургская область</td>\n",
       "      <td>1</td>\n",
       "      <td>2503</td>\n",
       "      <td>0</td>\n",
       "    </tr>\n",
       "    <tr>\n",
       "      <th>9</th>\n",
       "      <td>15</td>\n",
       "      <td>2</td>\n",
       "      <td>Москва</td>\n",
       "      <td>2018-06-20</td>\n",
       "      <td>False</td>\n",
       "      <td>Продаю срочно бу хорошем состоянии два по 1.5 ...</td>\n",
       "      <td>3</td>\n",
       "      <td>55.8134</td>\n",
       "      <td>37.5958</td>\n",
       "      <td>Холодильники бу</td>\n",
       "      <td>fd9f4d97a20b9d279de9b45ba78d5874</td>\n",
       "      <td>True</td>\n",
       "      <td>12000.0</td>\n",
       "      <td>22670ae3efc3d73a3bec355ce05561ea</td>\n",
       "      <td>1</td>\n",
       "      <td>[{'slug_id': 'oborudovanie_tip', 'slug_name': ...</td>\n",
       "      <td>Московская область</td>\n",
       "      <td>1</td>\n",
       "      <td>202</td>\n",
       "      <td>0</td>\n",
       "    </tr>\n",
       "    <tr>\n",
       "      <th>10</th>\n",
       "      <td>16</td>\n",
       "      <td>2</td>\n",
       "      <td>Новый Уренгой</td>\n",
       "      <td>2018-03-29</td>\n",
       "      <td>False</td>\n",
       "      <td>Стиральная машина LG 5,5 кг. Куплена чуть боль...</td>\n",
       "      <td>3</td>\n",
       "      <td>66.0852</td>\n",
       "      <td>76.6799</td>\n",
       "      <td>Стиральная машина LG 5,5 кг</td>\n",
       "      <td>d8312ae4ff0ce81dd02e1b62ce4d5e8f</td>\n",
       "      <td>True</td>\n",
       "      <td>10000.0</td>\n",
       "      <td>434d3a2dbf478c572c8790b99bef4da2</td>\n",
       "      <td>1</td>\n",
       "      <td>[{'slug_id': 'stiralnye_mashiny_tip', 'slug_na...</td>\n",
       "      <td>Ямало-Ненецкий автономный округ</td>\n",
       "      <td>1</td>\n",
       "      <td>208</td>\n",
       "      <td>0</td>\n",
       "    </tr>\n",
       "    <tr>\n",
       "      <th>11</th>\n",
       "      <td>17</td>\n",
       "      <td>3</td>\n",
       "      <td>Москва</td>\n",
       "      <td>2018-05-04</td>\n",
       "      <td>False</td>\n",
       "      <td>3 положения спинки, 3 положения высоты. Из нед...</td>\n",
       "      <td>4</td>\n",
       "      <td>55.6369</td>\n",
       "      <td>37.5260</td>\n",
       "      <td>Стульчик для кормления babyone</td>\n",
       "      <td>be97ce5633dc201a151f76accb19b19c</td>\n",
       "      <td>True</td>\n",
       "      <td>500.0</td>\n",
       "      <td>7bfd8c0eebdf93b2c1c15598eedf29b9</td>\n",
       "      <td>1</td>\n",
       "      <td>[{'slug_id': 'detskie_mebel_tip', 'slug_name':...</td>\n",
       "      <td>Московская область</td>\n",
       "      <td>1</td>\n",
       "      <td>317</td>\n",
       "      <td>0</td>\n",
       "    </tr>\n",
       "    <tr>\n",
       "      <th>12</th>\n",
       "      <td>20</td>\n",
       "      <td>1</td>\n",
       "      <td>Камешково</td>\n",
       "      <td>2018-01-25</td>\n",
       "      <td>False</td>\n",
       "      <td>От газели стояла на ваз (в машине с ней жара)</td>\n",
       "      <td>2</td>\n",
       "      <td>56.3482</td>\n",
       "      <td>40.9897</td>\n",
       "      <td>Дополнительная помпа электрический насос</td>\n",
       "      <td>88d6c190dd9b3dc1b282d3eb5eae15c9</td>\n",
       "      <td>False</td>\n",
       "      <td>1000.0</td>\n",
       "      <td>afe7094ae3f2cecb18a9fc8e75931cf2</td>\n",
       "      <td>1</td>\n",
       "      <td>[{'slug_id': 'avtozapchasti_vid_transporta', '...</td>\n",
       "      <td>Владимирская область</td>\n",
       "      <td>1</td>\n",
       "      <td>109</td>\n",
       "      <td>0</td>\n",
       "    </tr>\n",
       "    <tr>\n",
       "      <th>13</th>\n",
       "      <td>22</td>\n",
       "      <td>10</td>\n",
       "      <td>Череповец</td>\n",
       "      <td>2018-03-24</td>\n",
       "      <td>False</td>\n",
       "      <td>Продам диск с игрой FIFA13 для PS3 ( футляр от...</td>\n",
       "      <td>1</td>\n",
       "      <td>59.1220</td>\n",
       "      <td>37.9813</td>\n",
       "      <td>Fifa13 PS3</td>\n",
       "      <td>d5b3efe7a726720f62ee6d2f3867051d</td>\n",
       "      <td>False</td>\n",
       "      <td>200.0</td>\n",
       "      <td>0a826145edecb131f9791ef7ecbaab6d</td>\n",
       "      <td>1</td>\n",
       "      <td>[{'slug_id': 'igri_dlya_pristavok_i_pl_zhanr',...</td>\n",
       "      <td>Вологодская область</td>\n",
       "      <td>1</td>\n",
       "      <td>1009</td>\n",
       "      <td>1</td>\n",
       "    </tr>\n",
       "    <tr>\n",
       "      <th>14</th>\n",
       "      <td>23</td>\n",
       "      <td>4</td>\n",
       "      <td>Москва</td>\n",
       "      <td>2018-08-02</td>\n",
       "      <td>True</td>\n",
       "      <td>Новые 2 чашки с блюдцами .</td>\n",
       "      <td>1</td>\n",
       "      <td>55.7029</td>\n",
       "      <td>37.9315</td>\n",
       "      <td>Набор</td>\n",
       "      <td>6d2e8a4cfc58b234634fdf6eb9ecfb06</td>\n",
       "      <td>True</td>\n",
       "      <td>500.0</td>\n",
       "      <td>ebd16cd488441732ab1766d85e868368</td>\n",
       "      <td>1</td>\n",
       "      <td>[]</td>\n",
       "      <td>Московская область</td>\n",
       "      <td>1</td>\n",
       "      <td>405</td>\n",
       "      <td>0</td>\n",
       "    </tr>\n",
       "    <tr>\n",
       "      <th>15</th>\n",
       "      <td>24</td>\n",
       "      <td>11</td>\n",
       "      <td>Долгопрудный</td>\n",
       "      <td>2018-09-03</td>\n",
       "      <td>False</td>\n",
       "      <td>Палки треккинговые туристические appernaz 200 ...</td>\n",
       "      <td>3</td>\n",
       "      <td>55.9471</td>\n",
       "      <td>37.4993</td>\n",
       "      <td>Палки для трекинга appernaz 200</td>\n",
       "      <td>12adaa95ea7545853749d0e16f09c8ca</td>\n",
       "      <td>True</td>\n",
       "      <td>500.0</td>\n",
       "      <td>af7ea636b77bf9840ef09b09d4013b59</td>\n",
       "      <td>1</td>\n",
       "      <td>[{'slug_id': 'turizm_tip', 'slug_name': 'Тип',...</td>\n",
       "      <td>Московская область</td>\n",
       "      <td>1</td>\n",
       "      <td>1105</td>\n",
       "      <td>0</td>\n",
       "    </tr>\n",
       "    <tr>\n",
       "      <th>16</th>\n",
       "      <td>25</td>\n",
       "      <td>6</td>\n",
       "      <td>Химки</td>\n",
       "      <td>2018-05-24</td>\n",
       "      <td>False</td>\n",
       "      <td>Тренога для телескопической стойки б/у оцинков...</td>\n",
       "      <td>4</td>\n",
       "      <td>55.9425</td>\n",
       "      <td>37.3406</td>\n",
       "      <td>Тренога для стойки</td>\n",
       "      <td>f11a8c42e05f9d8d53959db8f182850a</td>\n",
       "      <td>False</td>\n",
       "      <td>350.0</td>\n",
       "      <td>13072fdf5a164147784156a5140aad76</td>\n",
       "      <td>1</td>\n",
       "      <td>[]</td>\n",
       "      <td>Московская область</td>\n",
       "      <td>1</td>\n",
       "      <td>601</td>\n",
       "      <td>0</td>\n",
       "    </tr>\n",
       "    <tr>\n",
       "      <th>17</th>\n",
       "      <td>26</td>\n",
       "      <td>22</td>\n",
       "      <td>Нижний Новгород</td>\n",
       "      <td>2018-10-04</td>\n",
       "      <td>True</td>\n",
       "      <td>После одного ребенка и одного сезона. Покупала...</td>\n",
       "      <td>4</td>\n",
       "      <td>56.3191</td>\n",
       "      <td>44.0205</td>\n",
       "      <td>Ботинки демисезонные 22 р</td>\n",
       "      <td>b058f2cb82cc4e73c30128e1052ca4de</td>\n",
       "      <td>True</td>\n",
       "      <td>200.0</td>\n",
       "      <td>147f4556dfc57ddf6f4ce99ebab53673</td>\n",
       "      <td>1</td>\n",
       "      <td>[{'slug_id': 'detskie_tzvet', 'slug_name': 'Цв...</td>\n",
       "      <td>Нижегородская область</td>\n",
       "      <td>1</td>\n",
       "      <td>2209</td>\n",
       "      <td>0</td>\n",
       "    </tr>\n",
       "    <tr>\n",
       "      <th>18</th>\n",
       "      <td>27</td>\n",
       "      <td>4</td>\n",
       "      <td>Пыть-Ях</td>\n",
       "      <td>2018-09-11</td>\n",
       "      <td>False</td>\n",
       "      <td>Продам мебель: полка размером 1975*300*710, дв...</td>\n",
       "      <td>3</td>\n",
       "      <td>60.7554</td>\n",
       "      <td>72.8345</td>\n",
       "      <td>Мебель</td>\n",
       "      <td>361e515d376c33f523cc2e3165e6667d</td>\n",
       "      <td>True</td>\n",
       "      <td>4000.0</td>\n",
       "      <td>035f8ccd1371f11d84e6ef981d0c6f6d</td>\n",
       "      <td>1</td>\n",
       "      <td>[{'slug_id': 'shkafy_komody_tip', 'slug_name':...</td>\n",
       "      <td>Ханты-Мансийский автономный округ - Югра</td>\n",
       "      <td>1</td>\n",
       "      <td>409</td>\n",
       "      <td>0</td>\n",
       "    </tr>\n",
       "    <tr>\n",
       "      <th>19</th>\n",
       "      <td>28</td>\n",
       "      <td>11</td>\n",
       "      <td>Москва</td>\n",
       "      <td>2018-05-20</td>\n",
       "      <td>False</td>\n",
       "      <td>Spyderco, складной нож (новый) возможен пересы...</td>\n",
       "      <td>1</td>\n",
       "      <td>55.8027</td>\n",
       "      <td>37.8168</td>\n",
       "      <td>Spyderco, складной нож</td>\n",
       "      <td>58b5d771feee3ba8dd7935e910bafdb9</td>\n",
       "      <td>False</td>\n",
       "      <td>1500.0</td>\n",
       "      <td>af4fa58ca845e11dfd8143bfed240664</td>\n",
       "      <td>1</td>\n",
       "      <td>[]</td>\n",
       "      <td>Московская область</td>\n",
       "      <td>1</td>\n",
       "      <td>1104</td>\n",
       "      <td>0</td>\n",
       "    </tr>\n",
       "    <tr>\n",
       "      <th>20</th>\n",
       "      <td>29</td>\n",
       "      <td>3</td>\n",
       "      <td>Тюмень</td>\n",
       "      <td>2018-07-14</td>\n",
       "      <td>False</td>\n",
       "      <td>Продам детскую коляску зима-лето в отличном со...</td>\n",
       "      <td>2</td>\n",
       "      <td>57.1613</td>\n",
       "      <td>65.5250</td>\n",
       "      <td>Детская коляска зима-лето</td>\n",
       "      <td>84e3d8cf586b24aeeb45ae164b475512</td>\n",
       "      <td>True</td>\n",
       "      <td>3000.0</td>\n",
       "      <td>b353c706082ad4d08d9328974ce0d607</td>\n",
       "      <td>1</td>\n",
       "      <td>[]</td>\n",
       "      <td>Тюменская область</td>\n",
       "      <td>1</td>\n",
       "      <td>312</td>\n",
       "      <td>0</td>\n",
       "    </tr>\n",
       "    <tr>\n",
       "      <th>21</th>\n",
       "      <td>30</td>\n",
       "      <td>5</td>\n",
       "      <td>Кропоткин</td>\n",
       "      <td>2018-10-06</td>\n",
       "      <td>False</td>\n",
       "      <td>Продам овчарку мальчик три месяца</td>\n",
       "      <td>3</td>\n",
       "      <td>45.4296</td>\n",
       "      <td>40.5540</td>\n",
       "      <td>Овчарка</td>\n",
       "      <td>b40aba0e5ee00f0d0562ae84f220203e</td>\n",
       "      <td>True</td>\n",
       "      <td>2000.0</td>\n",
       "      <td>34a5f2c7f317d292abd70cdce1d49109</td>\n",
       "      <td>1</td>\n",
       "      <td>[{'slug_id': 'sobaki_poroda', 'slug_name': 'По...</td>\n",
       "      <td>Краснодарский край</td>\n",
       "      <td>1</td>\n",
       "      <td>502</td>\n",
       "      <td>0</td>\n",
       "    </tr>\n",
       "    <tr>\n",
       "      <th>22</th>\n",
       "      <td>32</td>\n",
       "      <td>5</td>\n",
       "      <td>Якутск</td>\n",
       "      <td>2018-08-14</td>\n",
       "      <td>False</td>\n",
       "      <td>3 мальчика и одна девочка , к лотку приучины. ...</td>\n",
       "      <td>4</td>\n",
       "      <td>62.0247</td>\n",
       "      <td>129.6509</td>\n",
       "      <td>Котята Британцы</td>\n",
       "      <td>4e8b85875e061ea20d4711f5e4084c92</td>\n",
       "      <td>True</td>\n",
       "      <td>3000.0</td>\n",
       "      <td>06765e070dbff1a7b3421fb56fb3e0a8</td>\n",
       "      <td>1</td>\n",
       "      <td>[]</td>\n",
       "      <td>Республика Саха (Якутия)</td>\n",
       "      <td>1</td>\n",
       "      <td>503</td>\n",
       "      <td>0</td>\n",
       "    </tr>\n",
       "    <tr>\n",
       "      <th>23</th>\n",
       "      <td>33</td>\n",
       "      <td>16</td>\n",
       "      <td>Благовещенск</td>\n",
       "      <td>2018-04-22</td>\n",
       "      <td>False</td>\n",
       "      <td>Предлагаем услуги уборщика!!! (по уборке после...</td>\n",
       "      <td>1</td>\n",
       "      <td>50.2875</td>\n",
       "      <td>127.5411</td>\n",
       "      <td>cleaning house</td>\n",
       "      <td>3cc170723220b171b0279fc75e53653b</td>\n",
       "      <td>False</td>\n",
       "      <td>2000.0</td>\n",
       "      <td>133504998daa725d6d379b56d785ef96</td>\n",
       "      <td>1</td>\n",
       "      <td>[]</td>\n",
       "      <td>Амурская область</td>\n",
       "      <td>1</td>\n",
       "      <td>1615</td>\n",
       "      <td>0</td>\n",
       "    </tr>\n",
       "    <tr>\n",
       "      <th>24</th>\n",
       "      <td>34</td>\n",
       "      <td>3</td>\n",
       "      <td>Люберцы</td>\n",
       "      <td>2018-10-05</td>\n",
       "      <td>True</td>\n",
       "      <td>Хипсит новый</td>\n",
       "      <td>2</td>\n",
       "      <td>55.6922</td>\n",
       "      <td>37.9111</td>\n",
       "      <td>Хипсит новый</td>\n",
       "      <td>125820173c71bf72f744875cdbd2936d</td>\n",
       "      <td>True</td>\n",
       "      <td>500.0</td>\n",
       "      <td>e29366b307e2d1b3edd5984f1a26aee9</td>\n",
       "      <td>1</td>\n",
       "      <td>[{'slug_id': 'detskie_tovary_dlya_mam_tip', 's...</td>\n",
       "      <td>Московская область</td>\n",
       "      <td>1</td>\n",
       "      <td>319</td>\n",
       "      <td>0</td>\n",
       "    </tr>\n",
       "    <tr>\n",
       "      <th>25</th>\n",
       "      <td>35</td>\n",
       "      <td>10</td>\n",
       "      <td>Голубицкая</td>\n",
       "      <td>2018-01-10</td>\n",
       "      <td>False</td>\n",
       "      <td>Продам Xbox,в хорошем состоянии,прошитый,в ком...</td>\n",
       "      <td>3</td>\n",
       "      <td>45.3286</td>\n",
       "      <td>37.2706</td>\n",
       "      <td>Xbox360</td>\n",
       "      <td>70b8cae62ab2adc6a1bca695c061216a</td>\n",
       "      <td>True</td>\n",
       "      <td>8000.0</td>\n",
       "      <td>62840e274ace672f7bc324fed49206b3</td>\n",
       "      <td>1</td>\n",
       "      <td>[]</td>\n",
       "      <td>Краснодарский край</td>\n",
       "      <td>1</td>\n",
       "      <td>1002</td>\n",
       "      <td>1</td>\n",
       "    </tr>\n",
       "    <tr>\n",
       "      <th>26</th>\n",
       "      <td>37</td>\n",
       "      <td>9</td>\n",
       "      <td>Новый Уренгой</td>\n",
       "      <td>2018-03-31</td>\n",
       "      <td>False</td>\n",
       "      <td>Новый, размер 90Е, чашка маломерит, цвет чёрный.</td>\n",
       "      <td>1</td>\n",
       "      <td>66.0957</td>\n",
       "      <td>76.6564</td>\n",
       "      <td>Бюстгальтер чёрный для кормящей мамочки</td>\n",
       "      <td>88f5681edd096543467c93b739dd4735</td>\n",
       "      <td>True</td>\n",
       "      <td>750.0</td>\n",
       "      <td>b36c2f505529c2edc9ef94cbfcf29b70</td>\n",
       "      <td>1</td>\n",
       "      <td>[{'slug_id': 'bele_kupalniki_tip', 'slug_name'...</td>\n",
       "      <td>Ямало-Ненецкий автономный округ</td>\n",
       "      <td>2</td>\n",
       "      <td>910</td>\n",
       "      <td>0</td>\n",
       "    </tr>\n",
       "    <tr>\n",
       "      <th>27</th>\n",
       "      <td>38</td>\n",
       "      <td>22</td>\n",
       "      <td>Екатеринбург</td>\n",
       "      <td>2018-05-29</td>\n",
       "      <td>True</td>\n",
       "      <td>Продаю яркие красивые сабо босоножки фирмы Cro...</td>\n",
       "      <td>4</td>\n",
       "      <td>56.8887</td>\n",
       "      <td>60.6080</td>\n",
       "      <td>Сабо Crocs 24 размер 8/9</td>\n",
       "      <td>f05f8088850cf040790ec8e6b637557e</td>\n",
       "      <td>True</td>\n",
       "      <td>600.0</td>\n",
       "      <td>d8509447d141bb263895291a66569a49</td>\n",
       "      <td>1</td>\n",
       "      <td>[{'slug_id': 'detskaya_odezhda_obuv_tip', 'slu...</td>\n",
       "      <td>Свердловская область</td>\n",
       "      <td>1</td>\n",
       "      <td>2209</td>\n",
       "      <td>0</td>\n",
       "    </tr>\n",
       "    <tr>\n",
       "      <th>28</th>\n",
       "      <td>39</td>\n",
       "      <td>2</td>\n",
       "      <td>Сургут</td>\n",
       "      <td>2018-04-18</td>\n",
       "      <td>False</td>\n",
       "      <td>Продам 3 2х камерный холодильник Stinol, высот...</td>\n",
       "      <td>4</td>\n",
       "      <td>61.2918</td>\n",
       "      <td>73.4322</td>\n",
       "      <td>Продам 2х камерный холодильник Stinol</td>\n",
       "      <td>5e22289123aa7d64f04df6026347260c</td>\n",
       "      <td>True</td>\n",
       "      <td>5500.0</td>\n",
       "      <td>c4a82f0fdd85c2eb0dd9d51bf670e3b7</td>\n",
       "      <td>1</td>\n",
       "      <td>[{'slug_id': 'holodilniki_tip', 'slug_name': '...</td>\n",
       "      <td>Ханты-Мансийский автономный округ - Югра</td>\n",
       "      <td>1</td>\n",
       "      <td>202</td>\n",
       "      <td>0</td>\n",
       "    </tr>\n",
       "    <tr>\n",
       "      <th>29</th>\n",
       "      <td>40</td>\n",
       "      <td>13</td>\n",
       "      <td>Москва</td>\n",
       "      <td>2018-03-20</td>\n",
       "      <td>False</td>\n",
       "      <td>Модель телевизора UE40J6230. Покупали в 2017 г...</td>\n",
       "      <td>4</td>\n",
       "      <td>55.8034</td>\n",
       "      <td>37.5051</td>\n",
       "      <td>Телевизор Samsung Smart TV</td>\n",
       "      <td>918f6bd4a57717cf37e534ff941a580f</td>\n",
       "      <td>True</td>\n",
       "      <td>19000.0</td>\n",
       "      <td>de93a888651c3c6b42ac17a5a3fdf415</td>\n",
       "      <td>1</td>\n",
       "      <td>[{'slug_id': 'televizory_marka', 'slug_name': ...</td>\n",
       "      <td>Московская область</td>\n",
       "      <td>1</td>\n",
       "      <td>1302</td>\n",
       "      <td>0</td>\n",
       "    </tr>\n",
       "    <tr>\n",
       "      <th>...</th>\n",
       "      <td>...</td>\n",
       "      <td>...</td>\n",
       "      <td>...</td>\n",
       "      <td>...</td>\n",
       "      <td>...</td>\n",
       "      <td>...</td>\n",
       "      <td>...</td>\n",
       "      <td>...</td>\n",
       "      <td>...</td>\n",
       "      <td>...</td>\n",
       "      <td>...</td>\n",
       "      <td>...</td>\n",
       "      <td>...</td>\n",
       "      <td>...</td>\n",
       "      <td>...</td>\n",
       "      <td>...</td>\n",
       "      <td>...</td>\n",
       "      <td>...</td>\n",
       "      <td>...</td>\n",
       "      <td>...</td>\n",
       "    </tr>\n",
       "    <tr>\n",
       "      <th>351251</th>\n",
       "      <td>508508</td>\n",
       "      <td>16</td>\n",
       "      <td>Москва</td>\n",
       "      <td>2018-03-22</td>\n",
       "      <td>False</td>\n",
       "      <td>Распродажа детского постельного белья 2600 был...</td>\n",
       "      <td>4</td>\n",
       "      <td>55.7588</td>\n",
       "      <td>37.6306</td>\n",
       "      <td>Детское постельное бельё</td>\n",
       "      <td>9c86bd1007eed76165527455c571cac4</td>\n",
       "      <td>False</td>\n",
       "      <td>1000.0</td>\n",
       "      <td>73f60511b0c344b5db7bb4cee3e36644</td>\n",
       "      <td>1</td>\n",
       "      <td>[]</td>\n",
       "      <td>Московская область</td>\n",
       "      <td>1</td>\n",
       "      <td>1601</td>\n",
       "      <td>1</td>\n",
       "    </tr>\n",
       "    <tr>\n",
       "      <th>351252</th>\n",
       "      <td>508509</td>\n",
       "      <td>1</td>\n",
       "      <td>Москва</td>\n",
       "      <td>2018-04-06</td>\n",
       "      <td>False</td>\n",
       "      <td>Продам комплект Bridgestone Turanza T001 225/4...</td>\n",
       "      <td>4</td>\n",
       "      <td>55.8914</td>\n",
       "      <td>37.3940</td>\n",
       "      <td>Bridgestone Turanza T001 225/45 R19 92W</td>\n",
       "      <td>e31c4c4f93c98355746e67279e1b227b</td>\n",
       "      <td>False</td>\n",
       "      <td>15000.0</td>\n",
       "      <td>77bed1fa5838a3485f7d096b68410bbe</td>\n",
       "      <td>1</td>\n",
       "      <td>[{'slug_id': 'shiny_vysota_profilya', 'slug_na...</td>\n",
       "      <td>Московская область</td>\n",
       "      <td>1</td>\n",
       "      <td>114</td>\n",
       "      <td>1</td>\n",
       "    </tr>\n",
       "    <tr>\n",
       "      <th>351253</th>\n",
       "      <td>508510</td>\n",
       "      <td>15</td>\n",
       "      <td>Видное</td>\n",
       "      <td>2018-10-02</td>\n",
       "      <td>True</td>\n",
       "      <td>Ноутбук в очень хорошем состоянии. Процессор i...</td>\n",
       "      <td>4</td>\n",
       "      <td>55.5502</td>\n",
       "      <td>37.6929</td>\n",
       "      <td>Игровой ноутбук Asus rog gl552jx</td>\n",
       "      <td>c02485ee304ceb69c7ae308be4b4dc30</td>\n",
       "      <td>True</td>\n",
       "      <td>20000.0</td>\n",
       "      <td>d183f722aa7b46c0d45d55b32444832e</td>\n",
       "      <td>1</td>\n",
       "      <td>[{'slug_id': 'notebook_brand', 'slug_name': 'М...</td>\n",
       "      <td>Московская область</td>\n",
       "      <td>1</td>\n",
       "      <td>1504</td>\n",
       "      <td>0</td>\n",
       "    </tr>\n",
       "    <tr>\n",
       "      <th>351254</th>\n",
       "      <td>508511</td>\n",
       "      <td>1</td>\n",
       "      <td>Новотитаровская</td>\n",
       "      <td>2018-03-25</td>\n",
       "      <td>False</td>\n",
       "      <td>Комплект колёс на ваз 175/70/13, состояние дис...</td>\n",
       "      <td>4</td>\n",
       "      <td>45.2294</td>\n",
       "      <td>38.9876</td>\n",
       "      <td>Колеса R13 на ваз</td>\n",
       "      <td>32516bbbfe814eb67cd13ffe420c3606</td>\n",
       "      <td>False</td>\n",
       "      <td>3500.0</td>\n",
       "      <td>fdfe7e05cc9795ec276a74e0efd45c08</td>\n",
       "      <td>1</td>\n",
       "      <td>[{'slug_id': 'kolyosa_kolpaki_i_kamery_tip', '...</td>\n",
       "      <td>Краснодарский край</td>\n",
       "      <td>1</td>\n",
       "      <td>117</td>\n",
       "      <td>0</td>\n",
       "    </tr>\n",
       "    <tr>\n",
       "      <th>351255</th>\n",
       "      <td>508512</td>\n",
       "      <td>4</td>\n",
       "      <td>Благовещенск</td>\n",
       "      <td>2018-10-03</td>\n",
       "      <td>False</td>\n",
       "      <td>Отдам кровать(2 фото и последующие), самовывоз...</td>\n",
       "      <td>4</td>\n",
       "      <td>50.2632</td>\n",
       "      <td>127.5351</td>\n",
       "      <td>Отдам кровать</td>\n",
       "      <td>2767a09be6e2c650db8dd49b761a57cf</td>\n",
       "      <td>True</td>\n",
       "      <td>100.0</td>\n",
       "      <td>767f3fc684d8f91400d807a0f345005e</td>\n",
       "      <td>1</td>\n",
       "      <td>[]</td>\n",
       "      <td>Амурская область</td>\n",
       "      <td>1</td>\n",
       "      <td>408</td>\n",
       "      <td>0</td>\n",
       "    </tr>\n",
       "    <tr>\n",
       "      <th>351256</th>\n",
       "      <td>508515</td>\n",
       "      <td>13</td>\n",
       "      <td>Самара</td>\n",
       "      <td>2018-03-03</td>\n",
       "      <td>False</td>\n",
       "      <td>Цвет - оранжевый Общая выходная мощность - 6 В...</td>\n",
       "      <td>1</td>\n",
       "      <td>53.2032</td>\n",
       "      <td>50.1643</td>\n",
       "      <td>Портативная колонка Xiaomi Mi Bluetooth Speaker</td>\n",
       "      <td>8eb7e8d03535bb19241b654250065be1</td>\n",
       "      <td>False</td>\n",
       "      <td>1500.0</td>\n",
       "      <td>48f01c9703017ac7305943445f3a2c2b</td>\n",
       "      <td>1</td>\n",
       "      <td>[{'slug_id': 'akustika_tip', 'slug_name': 'Тип...</td>\n",
       "      <td>Самарская область</td>\n",
       "      <td>1</td>\n",
       "      <td>1305</td>\n",
       "      <td>0</td>\n",
       "    </tr>\n",
       "    <tr>\n",
       "      <th>351257</th>\n",
       "      <td>508516</td>\n",
       "      <td>9</td>\n",
       "      <td>Вологда</td>\n",
       "      <td>2018-08-14</td>\n",
       "      <td>False</td>\n",
       "      <td>Новый Размер 140×140</td>\n",
       "      <td>1</td>\n",
       "      <td>59.2092</td>\n",
       "      <td>39.9385</td>\n",
       "      <td>Платок</td>\n",
       "      <td>368bbc80e972a8df3dd6219f3e396f3b</td>\n",
       "      <td>False</td>\n",
       "      <td>450.0</td>\n",
       "      <td>0ff89c32e51042e09bd41641024cc105</td>\n",
       "      <td>1</td>\n",
       "      <td>[{'slug_id': 'zhenskaya_odezhda_aksessuary_tip...</td>\n",
       "      <td>Вологодская область</td>\n",
       "      <td>1</td>\n",
       "      <td>914</td>\n",
       "      <td>0</td>\n",
       "    </tr>\n",
       "    <tr>\n",
       "      <th>351258</th>\n",
       "      <td>508517</td>\n",
       "      <td>12</td>\n",
       "      <td>Москва</td>\n",
       "      <td>2018-10-03</td>\n",
       "      <td>True</td>\n",
       "      <td>Оригинал</td>\n",
       "      <td>2</td>\n",
       "      <td>55.7877</td>\n",
       "      <td>37.6232</td>\n",
       "      <td>Провод для 4 айфона ( оригинал)</td>\n",
       "      <td>b0a55fbdd6d2d87afe30edac81d72509</td>\n",
       "      <td>True</td>\n",
       "      <td>300.0</td>\n",
       "      <td>1f1e4cd1b7a6842d8ee971bee9e0318e</td>\n",
       "      <td>1</td>\n",
       "      <td>[]</td>\n",
       "      <td>Московская область</td>\n",
       "      <td>1</td>\n",
       "      <td>1207</td>\n",
       "      <td>0</td>\n",
       "    </tr>\n",
       "    <tr>\n",
       "      <th>351259</th>\n",
       "      <td>508519</td>\n",
       "      <td>21</td>\n",
       "      <td>Сургут</td>\n",
       "      <td>2018-10-09</td>\n",
       "      <td>False</td>\n",
       "      <td>Высота 190, ширина 90 см, длина 1,20 м</td>\n",
       "      <td>2</td>\n",
       "      <td>61.2808</td>\n",
       "      <td>73.2692</td>\n",
       "      <td>Стеллаж</td>\n",
       "      <td>e02097e58376bf15945f05f718739024</td>\n",
       "      <td>True</td>\n",
       "      <td>2000.0</td>\n",
       "      <td>d1f692f8ccce44c2a91ac6dc5817663d</td>\n",
       "      <td>1</td>\n",
       "      <td>[]</td>\n",
       "      <td>Ханты-Мансийский автономный округ - Югра</td>\n",
       "      <td>1</td>\n",
       "      <td>2102</td>\n",
       "      <td>0</td>\n",
       "    </tr>\n",
       "    <tr>\n",
       "      <th>351260</th>\n",
       "      <td>508520</td>\n",
       "      <td>22</td>\n",
       "      <td>Серпухов</td>\n",
       "      <td>2018-01-04</td>\n",
       "      <td>False</td>\n",
       "      <td>Новые брюки на мальчика.Фирма Barkito.На рост 98</td>\n",
       "      <td>1</td>\n",
       "      <td>54.9417</td>\n",
       "      <td>37.3955</td>\n",
       "      <td>Новые фирменные брюки на мальчика.На рост 98</td>\n",
       "      <td>f3031fd730455d7853813404e044c8a4</td>\n",
       "      <td>False</td>\n",
       "      <td>300.0</td>\n",
       "      <td>7d2a3334a3568e06a80c245a08eb85ed</td>\n",
       "      <td>1</td>\n",
       "      <td>[{'slug_id': 'detskaya_odezhda_shtany_i_shorty...</td>\n",
       "      <td>Московская область</td>\n",
       "      <td>1</td>\n",
       "      <td>2216</td>\n",
       "      <td>0</td>\n",
       "    </tr>\n",
       "    <tr>\n",
       "      <th>351261</th>\n",
       "      <td>508522</td>\n",
       "      <td>22</td>\n",
       "      <td>Мурманск</td>\n",
       "      <td>2018-10-07</td>\n",
       "      <td>True</td>\n",
       "      <td>Сапожки куома, 29 размер, покупались в Финлянд...</td>\n",
       "      <td>3</td>\n",
       "      <td>69.0213</td>\n",
       "      <td>33.0915</td>\n",
       "      <td>Куома (kuoma) сапожки 29 размер</td>\n",
       "      <td>21cb26537657276e5d00615f5e4c9125</td>\n",
       "      <td>True</td>\n",
       "      <td>800.0</td>\n",
       "      <td>8768dd88af063bc5a6ac69221f4dd862</td>\n",
       "      <td>1</td>\n",
       "      <td>[{'slug_id': 'detskaya_odezhda_obuv_sezon', 's...</td>\n",
       "      <td>Мурманская область</td>\n",
       "      <td>1</td>\n",
       "      <td>2209</td>\n",
       "      <td>1</td>\n",
       "    </tr>\n",
       "    <tr>\n",
       "      <th>351262</th>\n",
       "      <td>508524</td>\n",
       "      <td>22</td>\n",
       "      <td>Самара</td>\n",
       "      <td>2018-02-17</td>\n",
       "      <td>True</td>\n",
       "      <td>Продам конверт на выписку в хорошем состоянии</td>\n",
       "      <td>1</td>\n",
       "      <td>53.2564</td>\n",
       "      <td>50.2421</td>\n",
       "      <td>Конверт на выписку</td>\n",
       "      <td>74e8708b1b69fb16b83528d75f95a627</td>\n",
       "      <td>True</td>\n",
       "      <td>1000.0</td>\n",
       "      <td>cc0e1f9fa9405a012045f7b695c4d261</td>\n",
       "      <td>1</td>\n",
       "      <td>[]</td>\n",
       "      <td>Самарская область</td>\n",
       "      <td>1</td>\n",
       "      <td>2207</td>\n",
       "      <td>0</td>\n",
       "    </tr>\n",
       "    <tr>\n",
       "      <th>351263</th>\n",
       "      <td>508525</td>\n",
       "      <td>16</td>\n",
       "      <td>Екатеринбург</td>\n",
       "      <td>2018-02-01</td>\n",
       "      <td>False</td>\n",
       "      <td>КУСОК ЛИНОЛЕУМА НА ВОЙЛОЧНОЙ ОСНОВЕ</td>\n",
       "      <td>2</td>\n",
       "      <td>56.8389</td>\n",
       "      <td>60.6057</td>\n",
       "      <td>ЛИНОЛЕУМ</td>\n",
       "      <td>dfa9eb4f42ae845d0d85b458b2a0ad2a</td>\n",
       "      <td>False</td>\n",
       "      <td>500.0</td>\n",
       "      <td>3beb7c183295cdc590e1a891dd7711e5</td>\n",
       "      <td>1</td>\n",
       "      <td>[]</td>\n",
       "      <td>Свердловская область</td>\n",
       "      <td>1</td>\n",
       "      <td>1602</td>\n",
       "      <td>0</td>\n",
       "    </tr>\n",
       "    <tr>\n",
       "      <th>351264</th>\n",
       "      <td>508526</td>\n",
       "      <td>3</td>\n",
       "      <td>Верхнерусское</td>\n",
       "      <td>2018-01-12</td>\n",
       "      <td>False</td>\n",
       "      <td>Продам ходунки каталка в отличном состоянии, е...</td>\n",
       "      <td>2</td>\n",
       "      <td>45.1387</td>\n",
       "      <td>41.9255</td>\n",
       "      <td>Ходунки каталка</td>\n",
       "      <td>c2d82c304ce47fd64889aefd1634b191</td>\n",
       "      <td>False</td>\n",
       "      <td>1300.0</td>\n",
       "      <td>94ca6ff70f6a333da70e7f08099549de</td>\n",
       "      <td>1</td>\n",
       "      <td>[{'slug_id': 'detskie_mebel_tip', 'slug_name':...</td>\n",
       "      <td>Ставропольский край</td>\n",
       "      <td>1</td>\n",
       "      <td>317</td>\n",
       "      <td>1</td>\n",
       "    </tr>\n",
       "    <tr>\n",
       "      <th>351265</th>\n",
       "      <td>508527</td>\n",
       "      <td>1</td>\n",
       "      <td>Вологда</td>\n",
       "      <td>2018-04-14</td>\n",
       "      <td>False</td>\n",
       "      <td>Торг</td>\n",
       "      <td>2</td>\n",
       "      <td>59.2131</td>\n",
       "      <td>39.8168</td>\n",
       "      <td>Саб и усилок</td>\n",
       "      <td>61f52687f5ef9871c1ef357866cdc204</td>\n",
       "      <td>False</td>\n",
       "      <td>2000.0</td>\n",
       "      <td>7812c6e6979573f84969fee79b255ba5</td>\n",
       "      <td>1</td>\n",
       "      <td>[]</td>\n",
       "      <td>Вологодская область</td>\n",
       "      <td>1</td>\n",
       "      <td>112</td>\n",
       "      <td>0</td>\n",
       "    </tr>\n",
       "    <tr>\n",
       "      <th>351266</th>\n",
       "      <td>508528</td>\n",
       "      <td>3</td>\n",
       "      <td>Воронеж</td>\n",
       "      <td>2018-09-05</td>\n",
       "      <td>False</td>\n",
       "      <td>3 положения спинки. 5 положений высоты. Съёмны...</td>\n",
       "      <td>4</td>\n",
       "      <td>51.6158</td>\n",
       "      <td>39.0628</td>\n",
       "      <td>Стульчик для малыша</td>\n",
       "      <td>70b76e89538b9398d34a82206a2394cb</td>\n",
       "      <td>True</td>\n",
       "      <td>2000.0</td>\n",
       "      <td>7c1ce0bf447c5d4f45015406059024dc</td>\n",
       "      <td>1</td>\n",
       "      <td>[{'slug_id': 'detskie_mebel_tip', 'slug_name':...</td>\n",
       "      <td>Воронежская область</td>\n",
       "      <td>1</td>\n",
       "      <td>317</td>\n",
       "      <td>0</td>\n",
       "    </tr>\n",
       "    <tr>\n",
       "      <th>351267</th>\n",
       "      <td>508531</td>\n",
       "      <td>1</td>\n",
       "      <td>Киров</td>\n",
       "      <td>2018-08-26</td>\n",
       "      <td>False</td>\n",
       "      <td>Продаю магнитолу Swat, AUX, USB все работает</td>\n",
       "      <td>2</td>\n",
       "      <td>58.6035</td>\n",
       "      <td>49.6668</td>\n",
       "      <td>Магнитола</td>\n",
       "      <td>c6a214a83ab1ed3959f2380797e94da1</td>\n",
       "      <td>True</td>\n",
       "      <td>900.0</td>\n",
       "      <td>6267117860c624fff12884a061904ea2</td>\n",
       "      <td>1</td>\n",
       "      <td>[]</td>\n",
       "      <td>Кировская область</td>\n",
       "      <td>1</td>\n",
       "      <td>112</td>\n",
       "      <td>0</td>\n",
       "    </tr>\n",
       "    <tr>\n",
       "      <th>351268</th>\n",
       "      <td>508532</td>\n",
       "      <td>1</td>\n",
       "      <td>Черемное</td>\n",
       "      <td>2018-04-04</td>\n",
       "      <td>False</td>\n",
       "      <td>Два диска в хорошем состоянии, r14 4/100</td>\n",
       "      <td>3</td>\n",
       "      <td>53.1697</td>\n",
       "      <td>83.2142</td>\n",
       "      <td>Диски</td>\n",
       "      <td>b903445811e6d9e2e7dcd44dd0e48dc0</td>\n",
       "      <td>False</td>\n",
       "      <td>3000.0</td>\n",
       "      <td>0807bd79f3a5830a2e65fa3815863241</td>\n",
       "      <td>1</td>\n",
       "      <td>[]</td>\n",
       "      <td>Алтайский край</td>\n",
       "      <td>1</td>\n",
       "      <td>116</td>\n",
       "      <td>0</td>\n",
       "    </tr>\n",
       "    <tr>\n",
       "      <th>351269</th>\n",
       "      <td>508533</td>\n",
       "      <td>14</td>\n",
       "      <td>Санкт-Петербург</td>\n",
       "      <td>2018-04-15</td>\n",
       "      <td>True</td>\n",
       "      <td>Стул-туалет, новый.Регулируется по высоте, скл...</td>\n",
       "      <td>1</td>\n",
       "      <td>60.0321</td>\n",
       "      <td>30.3434</td>\n",
       "      <td>Стул-туалет.</td>\n",
       "      <td>8c4ee5da2f1e55e629103d32934ad977</td>\n",
       "      <td>True</td>\n",
       "      <td>2000.0</td>\n",
       "      <td>7f3fcec224df802f408fc5e22a141282</td>\n",
       "      <td>1</td>\n",
       "      <td>[]</td>\n",
       "      <td>Ленинградская область</td>\n",
       "      <td>1</td>\n",
       "      <td>1412</td>\n",
       "      <td>0</td>\n",
       "    </tr>\n",
       "    <tr>\n",
       "      <th>351270</th>\n",
       "      <td>508534</td>\n",
       "      <td>6</td>\n",
       "      <td>Северская</td>\n",
       "      <td>2018-04-13</td>\n",
       "      <td>False</td>\n",
       "      <td>Туалет деревянный. Покупали для строителей. В ...</td>\n",
       "      <td>2</td>\n",
       "      <td>44.8557</td>\n",
       "      <td>38.6697</td>\n",
       "      <td>Туалет деревянный</td>\n",
       "      <td>0e7e263902ffd1ac3ca9e9f96beaf61c</td>\n",
       "      <td>True</td>\n",
       "      <td>3500.0</td>\n",
       "      <td>11e40211d60fd0cf2656ad1fcc90c8a8</td>\n",
       "      <td>1</td>\n",
       "      <td>[]</td>\n",
       "      <td>Краснодарский край</td>\n",
       "      <td>1</td>\n",
       "      <td>601</td>\n",
       "      <td>0</td>\n",
       "    </tr>\n",
       "    <tr>\n",
       "      <th>351271</th>\n",
       "      <td>508535</td>\n",
       "      <td>5</td>\n",
       "      <td>Тольятти</td>\n",
       "      <td>2018-05-12</td>\n",
       "      <td>False</td>\n",
       "      <td>Мальчик 2 месяца .  Кушает сам, в лоток ходит ...</td>\n",
       "      <td>3</td>\n",
       "      <td>53.4789</td>\n",
       "      <td>49.4783</td>\n",
       "      <td>Котенок</td>\n",
       "      <td>ce8e6ef25c9afb1213435c881f7a15b1</td>\n",
       "      <td>False</td>\n",
       "      <td>0.0</td>\n",
       "      <td>839c4ceb8df7ae7a9d22eaedfda6a983</td>\n",
       "      <td>1</td>\n",
       "      <td>[]</td>\n",
       "      <td>Самарская область</td>\n",
       "      <td>1</td>\n",
       "      <td>503</td>\n",
       "      <td>1</td>\n",
       "    </tr>\n",
       "    <tr>\n",
       "      <th>351272</th>\n",
       "      <td>508537</td>\n",
       "      <td>23</td>\n",
       "      <td>Иркутск</td>\n",
       "      <td>2018-04-23</td>\n",
       "      <td>False</td>\n",
       "      <td>КПП-автомат  Продам отличную машину ,она и пом...</td>\n",
       "      <td>7</td>\n",
       "      <td>52.2675</td>\n",
       "      <td>104.3100</td>\n",
       "      <td>Toyota Corolla Spacio, 1998</td>\n",
       "      <td>84d67317ec8ed21443f5593c70fb9ec2</td>\n",
       "      <td>False</td>\n",
       "      <td>195000.0</td>\n",
       "      <td>abc58786de8872606b5d0be80d4fac22</td>\n",
       "      <td>5</td>\n",
       "      <td>[{'slug_id': 'auto_car_cleared', 'slug_name': ...</td>\n",
       "      <td>Иркутская область</td>\n",
       "      <td>1</td>\n",
       "      <td>2301</td>\n",
       "      <td>0</td>\n",
       "    </tr>\n",
       "    <tr>\n",
       "      <th>351273</th>\n",
       "      <td>508538</td>\n",
       "      <td>4</td>\n",
       "      <td>Альметьевск</td>\n",
       "      <td>2018-03-20</td>\n",
       "      <td>False</td>\n",
       "      <td>Продаю связи прикупил себе новый стол</td>\n",
       "      <td>2</td>\n",
       "      <td>54.9050</td>\n",
       "      <td>52.2826</td>\n",
       "      <td>Стол</td>\n",
       "      <td>5b0b0f6dde8b852f856e06b0ef66ec40</td>\n",
       "      <td>True</td>\n",
       "      <td>1500.0</td>\n",
       "      <td>99df1e0a346f347670566b12ec335880</td>\n",
       "      <td>1</td>\n",
       "      <td>[{'slug_id': 'stoly_stulya_tip', 'slug_name': ...</td>\n",
       "      <td>Татарстан</td>\n",
       "      <td>1</td>\n",
       "      <td>410</td>\n",
       "      <td>0</td>\n",
       "    </tr>\n",
       "    <tr>\n",
       "      <th>351274</th>\n",
       "      <td>508539</td>\n",
       "      <td>3</td>\n",
       "      <td>Иркутск</td>\n",
       "      <td>2018-02-07</td>\n",
       "      <td>False</td>\n",
       "      <td>Хорошее состояние, почти не пользовались, поку...</td>\n",
       "      <td>2</td>\n",
       "      <td>52.3190</td>\n",
       "      <td>104.2996</td>\n",
       "      <td>Кроватка +матрасик</td>\n",
       "      <td>fcd8538a210fd7b1032f74b41c81ecd3</td>\n",
       "      <td>True</td>\n",
       "      <td>1900.0</td>\n",
       "      <td>13d2a7b038b795cede413471d5ea75c7</td>\n",
       "      <td>1</td>\n",
       "      <td>[]</td>\n",
       "      <td>Иркутская область</td>\n",
       "      <td>1</td>\n",
       "      <td>317</td>\n",
       "      <td>0</td>\n",
       "    </tr>\n",
       "    <tr>\n",
       "      <th>351275</th>\n",
       "      <td>508540</td>\n",
       "      <td>11</td>\n",
       "      <td>Москва</td>\n",
       "      <td>2018-08-17</td>\n",
       "      <td>False</td>\n",
       "      <td>Продам трюковой самокат Oxelo в хорошем состоя...</td>\n",
       "      <td>4</td>\n",
       "      <td>55.6110</td>\n",
       "      <td>37.7191</td>\n",
       "      <td>Трюковой самокат</td>\n",
       "      <td>8e0582391d70ffa0adbb8cceb7b70d3f</td>\n",
       "      <td>True</td>\n",
       "      <td>1500.0</td>\n",
       "      <td>92d3c938797451de03e603a0b2430561</td>\n",
       "      <td>1</td>\n",
       "      <td>[{'slug_id': 'samokati_giroskutery_tip', 'slug...</td>\n",
       "      <td>Московская область</td>\n",
       "      <td>1</td>\n",
       "      <td>1113</td>\n",
       "      <td>0</td>\n",
       "    </tr>\n",
       "    <tr>\n",
       "      <th>351276</th>\n",
       "      <td>508541</td>\n",
       "      <td>2</td>\n",
       "      <td>Москва</td>\n",
       "      <td>2018-10-14</td>\n",
       "      <td>False</td>\n",
       "      <td>Машинка в рабочем состоянии. Загрузка до 4 кил...</td>\n",
       "      <td>1</td>\n",
       "      <td>55.8144</td>\n",
       "      <td>37.6502</td>\n",
       "      <td>Стиральная машина indesit</td>\n",
       "      <td>917b4d4e90a58f1b5f6bba6902b625da</td>\n",
       "      <td>True</td>\n",
       "      <td>1700.0</td>\n",
       "      <td>c115cf5ff8d5d3efaf3896c5e0972ed2</td>\n",
       "      <td>1</td>\n",
       "      <td>[{'slug_id': 'stiralnye_mashiny_marka', 'slug_...</td>\n",
       "      <td>Московская область</td>\n",
       "      <td>1</td>\n",
       "      <td>208</td>\n",
       "      <td>1</td>\n",
       "    </tr>\n",
       "    <tr>\n",
       "      <th>351277</th>\n",
       "      <td>508542</td>\n",
       "      <td>22</td>\n",
       "      <td>Белгород</td>\n",
       "      <td>2018-06-13</td>\n",
       "      <td>False</td>\n",
       "      <td>Красные проданы.20 размер</td>\n",
       "      <td>1</td>\n",
       "      <td>50.5853</td>\n",
       "      <td>36.6243</td>\n",
       "      <td>Босоножки</td>\n",
       "      <td>d9f022939b80684ed53c73e2ef676e21</td>\n",
       "      <td>False</td>\n",
       "      <td>50.0</td>\n",
       "      <td>dc033274f70a7cb187fa3c04713267b5</td>\n",
       "      <td>1</td>\n",
       "      <td>[{'slug_id': 'detskie_obuv_razmer', 'slug_name...</td>\n",
       "      <td>Белгородская область</td>\n",
       "      <td>1</td>\n",
       "      <td>2209</td>\n",
       "      <td>0</td>\n",
       "    </tr>\n",
       "    <tr>\n",
       "      <th>351278</th>\n",
       "      <td>508543</td>\n",
       "      <td>12</td>\n",
       "      <td>Санкт-Петербург</td>\n",
       "      <td>2018-03-02</td>\n",
       "      <td>True</td>\n",
       "      <td>Планшет полностью рабочий, в прекрасном состоя...</td>\n",
       "      <td>4</td>\n",
       "      <td>60.0121</td>\n",
       "      <td>30.3792</td>\n",
       "      <td>Планшет SAMSUNG GT-P5110 16Gb, 10 дюймов</td>\n",
       "      <td>2e6162316e2822112c58201cff67baa4</td>\n",
       "      <td>True</td>\n",
       "      <td>3500.0</td>\n",
       "      <td>3af0dacb0c13df9a60d49b8693842eb9</td>\n",
       "      <td>1</td>\n",
       "      <td>[{'slug_id': 'planshety_diagonal_ekrana', 'slu...</td>\n",
       "      <td>Ленинградская область</td>\n",
       "      <td>1</td>\n",
       "      <td>1203</td>\n",
       "      <td>0</td>\n",
       "    </tr>\n",
       "    <tr>\n",
       "      <th>351279</th>\n",
       "      <td>508547</td>\n",
       "      <td>3</td>\n",
       "      <td>Оричи</td>\n",
       "      <td>2018-03-23</td>\n",
       "      <td>False</td>\n",
       "      <td>В наличии.Доставка в КИРОВ.</td>\n",
       "      <td>4</td>\n",
       "      <td>58.4008</td>\n",
       "      <td>49.0518</td>\n",
       "      <td>ПОВЯЗКИ И НАБОРЫ</td>\n",
       "      <td>8067c466525f6e4b89b0f53a1cf0abca</td>\n",
       "      <td>False</td>\n",
       "      <td>130.0</td>\n",
       "      <td>376bb448f0c27c632ca1dea34e9fa39d</td>\n",
       "      <td>1</td>\n",
       "      <td>[]</td>\n",
       "      <td>Кировская область</td>\n",
       "      <td>1</td>\n",
       "      <td>301</td>\n",
       "      <td>0</td>\n",
       "    </tr>\n",
       "    <tr>\n",
       "      <th>351280</th>\n",
       "      <td>508548</td>\n",
       "      <td>3</td>\n",
       "      <td>Алапаевск</td>\n",
       "      <td>2018-01-14</td>\n",
       "      <td>False</td>\n",
       "      <td>На батарейках</td>\n",
       "      <td>2</td>\n",
       "      <td>57.8533</td>\n",
       "      <td>61.6482</td>\n",
       "      <td>Качелька</td>\n",
       "      <td>a1497b7c15e218b2a34bdc537165482d</td>\n",
       "      <td>True</td>\n",
       "      <td>700.0</td>\n",
       "      <td>e5cec098bf5b07d1556e6fe1a24c1334</td>\n",
       "      <td>1</td>\n",
       "      <td>[]</td>\n",
       "      <td>Свердловская область</td>\n",
       "      <td>1</td>\n",
       "      <td>317</td>\n",
       "      <td>0</td>\n",
       "    </tr>\n",
       "  </tbody>\n",
       "</table>\n",
       "<p>351280 rows × 20 columns</p>\n",
       "</div>"
      ],
      "text/plain": [
       "        Unnamed: 0  category_id              city date_created  \\\n",
       "0                1            4         Краснодар   2018-10-08   \n",
       "1                2            4            Тюмень   2018-06-18   \n",
       "2                4            9              Омск   2018-07-31   \n",
       "3                6            3   Санкт-Петербург   2018-04-17   \n",
       "4               10            5            Москва   2018-02-09   \n",
       "5               11           11  Гусь-Хрустальный   2018-04-28   \n",
       "6               12            5            Якутск   2018-02-08   \n",
       "7               13           13         Краснодар   2018-10-14   \n",
       "8               14           25              Орск   2018-06-02   \n",
       "9               15            2            Москва   2018-06-20   \n",
       "10              16            2     Новый Уренгой   2018-03-29   \n",
       "11              17            3            Москва   2018-05-04   \n",
       "12              20            1         Камешково   2018-01-25   \n",
       "13              22           10         Череповец   2018-03-24   \n",
       "14              23            4            Москва   2018-08-02   \n",
       "15              24           11      Долгопрудный   2018-09-03   \n",
       "16              25            6             Химки   2018-05-24   \n",
       "17              26           22   Нижний Новгород   2018-10-04   \n",
       "18              27            4           Пыть-Ях   2018-09-11   \n",
       "19              28           11            Москва   2018-05-20   \n",
       "20              29            3            Тюмень   2018-07-14   \n",
       "21              30            5         Кропоткин   2018-10-06   \n",
       "22              32            5            Якутск   2018-08-14   \n",
       "23              33           16      Благовещенск   2018-04-22   \n",
       "24              34            3           Люберцы   2018-10-05   \n",
       "25              35           10        Голубицкая   2018-01-10   \n",
       "26              37            9     Новый Уренгой   2018-03-31   \n",
       "27              38           22      Екатеринбург   2018-05-29   \n",
       "28              39            2            Сургут   2018-04-18   \n",
       "29              40           13            Москва   2018-03-20   \n",
       "...            ...          ...               ...          ...   \n",
       "351251      508508           16            Москва   2018-03-22   \n",
       "351252      508509            1            Москва   2018-04-06   \n",
       "351253      508510           15            Видное   2018-10-02   \n",
       "351254      508511            1   Новотитаровская   2018-03-25   \n",
       "351255      508512            4      Благовещенск   2018-10-03   \n",
       "351256      508515           13            Самара   2018-03-03   \n",
       "351257      508516            9           Вологда   2018-08-14   \n",
       "351258      508517           12            Москва   2018-10-03   \n",
       "351259      508519           21            Сургут   2018-10-09   \n",
       "351260      508520           22          Серпухов   2018-01-04   \n",
       "351261      508522           22          Мурманск   2018-10-07   \n",
       "351262      508524           22            Самара   2018-02-17   \n",
       "351263      508525           16      Екатеринбург   2018-02-01   \n",
       "351264      508526            3     Верхнерусское   2018-01-12   \n",
       "351265      508527            1           Вологда   2018-04-14   \n",
       "351266      508528            3           Воронеж   2018-09-05   \n",
       "351267      508531            1             Киров   2018-08-26   \n",
       "351268      508532            1          Черемное   2018-04-04   \n",
       "351269      508533           14   Санкт-Петербург   2018-04-15   \n",
       "351270      508534            6         Северская   2018-04-13   \n",
       "351271      508535            5          Тольятти   2018-05-12   \n",
       "351272      508537           23           Иркутск   2018-04-23   \n",
       "351273      508538            4       Альметьевск   2018-03-20   \n",
       "351274      508539            3           Иркутск   2018-02-07   \n",
       "351275      508540           11            Москва   2018-08-17   \n",
       "351276      508541            2            Москва   2018-10-14   \n",
       "351277      508542           22          Белгород   2018-06-13   \n",
       "351278      508543           12   Санкт-Петербург   2018-03-02   \n",
       "351279      508547            3             Оричи   2018-03-23   \n",
       "351280      508548            3         Алапаевск   2018-01-14   \n",
       "\n",
       "        delivery_available                                          desc_text  \\\n",
       "0                    False  Продаю стол раскладной, деревянный, советский ...   \n",
       "1                    False  Тарелки глубокие 6 шт. Блюдца, чашки по 6 шт. ...   \n",
       "2                     True  Новый,с этикеткой. Размер L. Не подошёл по раз...   \n",
       "3                    False  Складывается тростью, все колеса вниз. Сплошна...   \n",
       "4                    False  Неразлучники, птичкам по 1,5 года. Продаю с бо...   \n",
       "5                    False  Продам детский велосипед,двухколесный,лет для ...   \n",
       "6                    False           Отдам кота, 8 месяцев, к горшку приучен.   \n",
       "7                    False                             ТВ в рабочем состоянии   \n",
       "8                    False  1991 г.в.Пробег около 20000 км. Документы есть...   \n",
       "9                    False  Продаю срочно бу хорошем состоянии два по 1.5 ...   \n",
       "10                   False  Стиральная машина LG 5,5 кг. Куплена чуть боль...   \n",
       "11                   False  3 положения спинки, 3 положения высоты. Из нед...   \n",
       "12                   False      От газели стояла на ваз (в машине с ней жара)   \n",
       "13                   False  Продам диск с игрой FIFA13 для PS3 ( футляр от...   \n",
       "14                    True                         Новые 2 чашки с блюдцами .   \n",
       "15                   False  Палки треккинговые туристические appernaz 200 ...   \n",
       "16                   False  Тренога для телескопической стойки б/у оцинков...   \n",
       "17                    True  После одного ребенка и одного сезона. Покупала...   \n",
       "18                   False  Продам мебель: полка размером 1975*300*710, дв...   \n",
       "19                   False  Spyderco, складной нож (новый) возможен пересы...   \n",
       "20                   False  Продам детскую коляску зима-лето в отличном со...   \n",
       "21                   False                  Продам овчарку мальчик три месяца   \n",
       "22                   False  3 мальчика и одна девочка , к лотку приучины. ...   \n",
       "23                   False  Предлагаем услуги уборщика!!! (по уборке после...   \n",
       "24                    True                                       Хипсит новый   \n",
       "25                   False  Продам Xbox,в хорошем состоянии,прошитый,в ком...   \n",
       "26                   False   Новый, размер 90Е, чашка маломерит, цвет чёрный.   \n",
       "27                    True  Продаю яркие красивые сабо босоножки фирмы Cro...   \n",
       "28                   False  Продам 3 2х камерный холодильник Stinol, высот...   \n",
       "29                   False  Модель телевизора UE40J6230. Покупали в 2017 г...   \n",
       "...                    ...                                                ...   \n",
       "351251               False  Распродажа детского постельного белья 2600 был...   \n",
       "351252               False  Продам комплект Bridgestone Turanza T001 225/4...   \n",
       "351253                True  Ноутбук в очень хорошем состоянии. Процессор i...   \n",
       "351254               False  Комплект колёс на ваз 175/70/13, состояние дис...   \n",
       "351255               False  Отдам кровать(2 фото и последующие), самовывоз...   \n",
       "351256               False  Цвет - оранжевый Общая выходная мощность - 6 В...   \n",
       "351257               False                               Новый Размер 140×140   \n",
       "351258                True                                           Оригинал   \n",
       "351259               False             Высота 190, ширина 90 см, длина 1,20 м   \n",
       "351260               False   Новые брюки на мальчика.Фирма Barkito.На рост 98   \n",
       "351261                True  Сапожки куома, 29 размер, покупались в Финлянд...   \n",
       "351262                True      Продам конверт на выписку в хорошем состоянии   \n",
       "351263               False                КУСОК ЛИНОЛЕУМА НА ВОЙЛОЧНОЙ ОСНОВЕ   \n",
       "351264               False  Продам ходунки каталка в отличном состоянии, е...   \n",
       "351265               False                                               Торг   \n",
       "351266               False  3 положения спинки. 5 положений высоты. Съёмны...   \n",
       "351267               False       Продаю магнитолу Swat, AUX, USB все работает   \n",
       "351268               False           Два диска в хорошем состоянии, r14 4/100   \n",
       "351269                True  Стул-туалет, новый.Регулируется по высоте, скл...   \n",
       "351270               False  Туалет деревянный. Покупали для строителей. В ...   \n",
       "351271               False  Мальчик 2 месяца .  Кушает сам, в лоток ходит ...   \n",
       "351272               False  КПП-автомат  Продам отличную машину ,она и пом...   \n",
       "351273               False              Продаю связи прикупил себе новый стол   \n",
       "351274               False  Хорошее состояние, почти не пользовались, поку...   \n",
       "351275               False  Продам трюковой самокат Oxelo в хорошем состоя...   \n",
       "351276               False  Машинка в рабочем состоянии. Загрузка до 4 кил...   \n",
       "351277               False                          Красные проданы.20 размер   \n",
       "351278                True  Планшет полностью рабочий, в прекрасном состоя...   \n",
       "351279               False                        В наличии.Доставка в КИРОВ.   \n",
       "351280               False                                      На батарейках   \n",
       "\n",
       "        img_num      lat      long  \\\n",
       "0             3  45.0686   38.9518   \n",
       "1             2  57.1840   65.5674   \n",
       "2             1  54.9889   73.4312   \n",
       "3             4  59.9590   30.4877   \n",
       "4             2  55.6473   37.4118   \n",
       "5             1  55.6063   40.6564   \n",
       "6             1  62.0355  129.6755   \n",
       "7             3  45.0618   38.9170   \n",
       "8             2  51.2585   58.6035   \n",
       "9             3  55.8134   37.5958   \n",
       "10            3  66.0852   76.6799   \n",
       "11            4  55.6369   37.5260   \n",
       "12            2  56.3482   40.9897   \n",
       "13            1  59.1220   37.9813   \n",
       "14            1  55.7029   37.9315   \n",
       "15            3  55.9471   37.4993   \n",
       "16            4  55.9425   37.3406   \n",
       "17            4  56.3191   44.0205   \n",
       "18            3  60.7554   72.8345   \n",
       "19            1  55.8027   37.8168   \n",
       "20            2  57.1613   65.5250   \n",
       "21            3  45.4296   40.5540   \n",
       "22            4  62.0247  129.6509   \n",
       "23            1  50.2875  127.5411   \n",
       "24            2  55.6922   37.9111   \n",
       "25            3  45.3286   37.2706   \n",
       "26            1  66.0957   76.6564   \n",
       "27            4  56.8887   60.6080   \n",
       "28            4  61.2918   73.4322   \n",
       "29            4  55.8034   37.5051   \n",
       "...         ...      ...       ...   \n",
       "351251        4  55.7588   37.6306   \n",
       "351252        4  55.8914   37.3940   \n",
       "351253        4  55.5502   37.6929   \n",
       "351254        4  45.2294   38.9876   \n",
       "351255        4  50.2632  127.5351   \n",
       "351256        1  53.2032   50.1643   \n",
       "351257        1  59.2092   39.9385   \n",
       "351258        2  55.7877   37.6232   \n",
       "351259        2  61.2808   73.2692   \n",
       "351260        1  54.9417   37.3955   \n",
       "351261        3  69.0213   33.0915   \n",
       "351262        1  53.2564   50.2421   \n",
       "351263        2  56.8389   60.6057   \n",
       "351264        2  45.1387   41.9255   \n",
       "351265        2  59.2131   39.8168   \n",
       "351266        4  51.6158   39.0628   \n",
       "351267        2  58.6035   49.6668   \n",
       "351268        3  53.1697   83.2142   \n",
       "351269        1  60.0321   30.3434   \n",
       "351270        2  44.8557   38.6697   \n",
       "351271        3  53.4789   49.4783   \n",
       "351272        7  52.2675  104.3100   \n",
       "351273        2  54.9050   52.2826   \n",
       "351274        2  52.3190  104.2996   \n",
       "351275        4  55.6110   37.7191   \n",
       "351276        1  55.8144   37.6502   \n",
       "351277        1  50.5853   36.6243   \n",
       "351278        4  60.0121   30.3792   \n",
       "351279        4  58.4008   49.0518   \n",
       "351280        2  57.8533   61.6482   \n",
       "\n",
       "                                              name_text  \\\n",
       "0                                                  Стол   \n",
       "1                                                Посуда   \n",
       "2                                                Костюм   \n",
       "3                                               Коляска   \n",
       "4                                     Волнистые попугаи   \n",
       "5                                     Велосипед детский   \n",
       "6                                        скоттиш страйт   \n",
       "7                                              LE32R72B   \n",
       "8                                                 Минск   \n",
       "9                                       Холодильники бу   \n",
       "10                          Стиральная машина LG 5,5 кг   \n",
       "11                       Стульчик для кормления babyone   \n",
       "12             Дополнительная помпа электрический насос   \n",
       "13                                           Fifa13 PS3   \n",
       "14                                                Набор   \n",
       "15                      Палки для трекинга appernaz 200   \n",
       "16                                   Тренога для стойки   \n",
       "17                            Ботинки демисезонные 22 р   \n",
       "18                                               Мебель   \n",
       "19                               Spyderco, складной нож   \n",
       "20                            Детская коляска зима-лето   \n",
       "21                                              Овчарка   \n",
       "22                                      Котята Британцы   \n",
       "23                                       cleaning house   \n",
       "24                                         Хипсит новый   \n",
       "25                                              Xbox360   \n",
       "26             Бюстгальтер чёрный для кормящей мамочки    \n",
       "27                             Сабо Crocs 24 размер 8/9   \n",
       "28                Продам 2х камерный холодильник Stinol   \n",
       "29                           Телевизор Samsung Smart TV   \n",
       "...                                                 ...   \n",
       "351251                         Детское постельное бельё   \n",
       "351252          Bridgestone Turanza T001 225/45 R19 92W   \n",
       "351253                 Игровой ноутбук Asus rog gl552jx   \n",
       "351254                                Колеса R13 на ваз   \n",
       "351255                                    Отдам кровать   \n",
       "351256  Портативная колонка Xiaomi Mi Bluetooth Speaker   \n",
       "351257                                           Платок   \n",
       "351258                  Провод для 4 айфона ( оригинал)   \n",
       "351259                                          Стеллаж   \n",
       "351260     Новые фирменные брюки на мальчика.На рост 98   \n",
       "351261                  Куома (kuoma) сапожки 29 размер   \n",
       "351262                               Конверт на выписку   \n",
       "351263                                         ЛИНОЛЕУМ   \n",
       "351264                                  Ходунки каталка   \n",
       "351265                                     Саб и усилок   \n",
       "351266                              Стульчик для малыша   \n",
       "351267                                        Магнитола   \n",
       "351268                                            Диски   \n",
       "351269                                     Стул-туалет.   \n",
       "351270                                Туалет деревянный   \n",
       "351271                                          Котенок   \n",
       "351272                      Toyota Corolla Spacio, 1998   \n",
       "351273                                             Стол   \n",
       "351274                               Кроватка +матрасик   \n",
       "351275                                 Трюковой самокат   \n",
       "351276                        Стиральная машина indesit   \n",
       "351277                                        Босоножки   \n",
       "351278         Планшет SAMSUNG GT-P5110 16Gb, 10 дюймов   \n",
       "351279                                 ПОВЯЗКИ И НАБОРЫ   \n",
       "351280                                         Качелька   \n",
       "\n",
       "                                owner_id  payment_available     price  \\\n",
       "0       4ce583fe8231a0cc4a3c7d241c7d0289               True     500.0   \n",
       "1       e58be2c8f143c17246dc2243b5d3b98f              False     300.0   \n",
       "2       51b408796027214232532b7e478e2159               True    1100.0   \n",
       "3       6544b83acbbf04439a7ba983093cafb4               True    5000.0   \n",
       "4       ea575e28daf1f47bfce63015cd3ce5cf               True    2000.0   \n",
       "5       9ba6bb7a01bf0e577a36682da64a5dde               True     800.0   \n",
       "6       7e0e13efb64cfbb1daf62a87ed63bf1f              False       1.0   \n",
       "7       e8e578f2dd291cc1b2e5944cb869028a              False    6000.0   \n",
       "8       a992d673ee26064a0e9d157296244739              False   15000.0   \n",
       "9       fd9f4d97a20b9d279de9b45ba78d5874               True   12000.0   \n",
       "10      d8312ae4ff0ce81dd02e1b62ce4d5e8f               True   10000.0   \n",
       "11      be97ce5633dc201a151f76accb19b19c               True     500.0   \n",
       "12      88d6c190dd9b3dc1b282d3eb5eae15c9              False    1000.0   \n",
       "13      d5b3efe7a726720f62ee6d2f3867051d              False     200.0   \n",
       "14      6d2e8a4cfc58b234634fdf6eb9ecfb06               True     500.0   \n",
       "15      12adaa95ea7545853749d0e16f09c8ca               True     500.0   \n",
       "16      f11a8c42e05f9d8d53959db8f182850a              False     350.0   \n",
       "17      b058f2cb82cc4e73c30128e1052ca4de               True     200.0   \n",
       "18      361e515d376c33f523cc2e3165e6667d               True    4000.0   \n",
       "19      58b5d771feee3ba8dd7935e910bafdb9              False    1500.0   \n",
       "20      84e3d8cf586b24aeeb45ae164b475512               True    3000.0   \n",
       "21      b40aba0e5ee00f0d0562ae84f220203e               True    2000.0   \n",
       "22      4e8b85875e061ea20d4711f5e4084c92               True    3000.0   \n",
       "23      3cc170723220b171b0279fc75e53653b              False    2000.0   \n",
       "24      125820173c71bf72f744875cdbd2936d               True     500.0   \n",
       "25      70b8cae62ab2adc6a1bca695c061216a               True    8000.0   \n",
       "26      88f5681edd096543467c93b739dd4735               True     750.0   \n",
       "27      f05f8088850cf040790ec8e6b637557e               True     600.0   \n",
       "28      5e22289123aa7d64f04df6026347260c               True    5500.0   \n",
       "29      918f6bd4a57717cf37e534ff941a580f               True   19000.0   \n",
       "...                                  ...                ...       ...   \n",
       "351251  9c86bd1007eed76165527455c571cac4              False    1000.0   \n",
       "351252  e31c4c4f93c98355746e67279e1b227b              False   15000.0   \n",
       "351253  c02485ee304ceb69c7ae308be4b4dc30               True   20000.0   \n",
       "351254  32516bbbfe814eb67cd13ffe420c3606              False    3500.0   \n",
       "351255  2767a09be6e2c650db8dd49b761a57cf               True     100.0   \n",
       "351256  8eb7e8d03535bb19241b654250065be1              False    1500.0   \n",
       "351257  368bbc80e972a8df3dd6219f3e396f3b              False     450.0   \n",
       "351258  b0a55fbdd6d2d87afe30edac81d72509               True     300.0   \n",
       "351259  e02097e58376bf15945f05f718739024               True    2000.0   \n",
       "351260  f3031fd730455d7853813404e044c8a4              False     300.0   \n",
       "351261  21cb26537657276e5d00615f5e4c9125               True     800.0   \n",
       "351262  74e8708b1b69fb16b83528d75f95a627               True    1000.0   \n",
       "351263  dfa9eb4f42ae845d0d85b458b2a0ad2a              False     500.0   \n",
       "351264  c2d82c304ce47fd64889aefd1634b191              False    1300.0   \n",
       "351265  61f52687f5ef9871c1ef357866cdc204              False    2000.0   \n",
       "351266  70b76e89538b9398d34a82206a2394cb               True    2000.0   \n",
       "351267  c6a214a83ab1ed3959f2380797e94da1               True     900.0   \n",
       "351268  b903445811e6d9e2e7dcd44dd0e48dc0              False    3000.0   \n",
       "351269  8c4ee5da2f1e55e629103d32934ad977               True    2000.0   \n",
       "351270  0e7e263902ffd1ac3ca9e9f96beaf61c               True    3500.0   \n",
       "351271  ce8e6ef25c9afb1213435c881f7a15b1              False       0.0   \n",
       "351272  84d67317ec8ed21443f5593c70fb9ec2              False  195000.0   \n",
       "351273  5b0b0f6dde8b852f856e06b0ef66ec40               True    1500.0   \n",
       "351274  fcd8538a210fd7b1032f74b41c81ecd3               True    1900.0   \n",
       "351275  8e0582391d70ffa0adbb8cceb7b70d3f               True    1500.0   \n",
       "351276  917b4d4e90a58f1b5f6bba6902b625da               True    1700.0   \n",
       "351277  d9f022939b80684ed53c73e2ef676e21              False      50.0   \n",
       "351278  2e6162316e2822112c58201cff67baa4               True    3500.0   \n",
       "351279  8067c466525f6e4b89b0f53a1cf0abca              False     130.0   \n",
       "351280  a1497b7c15e218b2a34bdc537165482d               True     700.0   \n",
       "\n",
       "                              product_id  product_type  \\\n",
       "0       8cb80c05c65c210275f5500779d6b593             1   \n",
       "1       3b7a9f8b27a53b63525f95bc8070abb2             1   \n",
       "2       c97dd9c5a3e938c52cf5d7822bc0eb7b             1   \n",
       "3       3e5d0286b25fd7f62f88bc436a59ae4e             1   \n",
       "4       57b4a8679d0d3eb1e31367b57221098f             1   \n",
       "5       c73fd3f12f71c73ad4fa9c1b4b4f3629             1   \n",
       "6       be19161f29cc7e6e1795f756ef9e29e0             1   \n",
       "7       c76ee67dfc81c0f06a3d908370a2f59e             1   \n",
       "8       c19620c06a40e40445854c4f665416da             1   \n",
       "9       22670ae3efc3d73a3bec355ce05561ea             1   \n",
       "10      434d3a2dbf478c572c8790b99bef4da2             1   \n",
       "11      7bfd8c0eebdf93b2c1c15598eedf29b9             1   \n",
       "12      afe7094ae3f2cecb18a9fc8e75931cf2             1   \n",
       "13      0a826145edecb131f9791ef7ecbaab6d             1   \n",
       "14      ebd16cd488441732ab1766d85e868368             1   \n",
       "15      af7ea636b77bf9840ef09b09d4013b59             1   \n",
       "16      13072fdf5a164147784156a5140aad76             1   \n",
       "17      147f4556dfc57ddf6f4ce99ebab53673             1   \n",
       "18      035f8ccd1371f11d84e6ef981d0c6f6d             1   \n",
       "19      af4fa58ca845e11dfd8143bfed240664             1   \n",
       "20      b353c706082ad4d08d9328974ce0d607             1   \n",
       "21      34a5f2c7f317d292abd70cdce1d49109             1   \n",
       "22      06765e070dbff1a7b3421fb56fb3e0a8             1   \n",
       "23      133504998daa725d6d379b56d785ef96             1   \n",
       "24      e29366b307e2d1b3edd5984f1a26aee9             1   \n",
       "25      62840e274ace672f7bc324fed49206b3             1   \n",
       "26      b36c2f505529c2edc9ef94cbfcf29b70             1   \n",
       "27      d8509447d141bb263895291a66569a49             1   \n",
       "28      c4a82f0fdd85c2eb0dd9d51bf670e3b7             1   \n",
       "29      de93a888651c3c6b42ac17a5a3fdf415             1   \n",
       "...                                  ...           ...   \n",
       "351251  73f60511b0c344b5db7bb4cee3e36644             1   \n",
       "351252  77bed1fa5838a3485f7d096b68410bbe             1   \n",
       "351253  d183f722aa7b46c0d45d55b32444832e             1   \n",
       "351254  fdfe7e05cc9795ec276a74e0efd45c08             1   \n",
       "351255  767f3fc684d8f91400d807a0f345005e             1   \n",
       "351256  48f01c9703017ac7305943445f3a2c2b             1   \n",
       "351257  0ff89c32e51042e09bd41641024cc105             1   \n",
       "351258  1f1e4cd1b7a6842d8ee971bee9e0318e             1   \n",
       "351259  d1f692f8ccce44c2a91ac6dc5817663d             1   \n",
       "351260  7d2a3334a3568e06a80c245a08eb85ed             1   \n",
       "351261  8768dd88af063bc5a6ac69221f4dd862             1   \n",
       "351262  cc0e1f9fa9405a012045f7b695c4d261             1   \n",
       "351263  3beb7c183295cdc590e1a891dd7711e5             1   \n",
       "351264  94ca6ff70f6a333da70e7f08099549de             1   \n",
       "351265  7812c6e6979573f84969fee79b255ba5             1   \n",
       "351266  7c1ce0bf447c5d4f45015406059024dc             1   \n",
       "351267  6267117860c624fff12884a061904ea2             1   \n",
       "351268  0807bd79f3a5830a2e65fa3815863241             1   \n",
       "351269  7f3fcec224df802f408fc5e22a141282             1   \n",
       "351270  11e40211d60fd0cf2656ad1fcc90c8a8             1   \n",
       "351271  839c4ceb8df7ae7a9d22eaedfda6a983             1   \n",
       "351272  abc58786de8872606b5d0be80d4fac22             5   \n",
       "351273  99df1e0a346f347670566b12ec335880             1   \n",
       "351274  13d2a7b038b795cede413471d5ea75c7             1   \n",
       "351275  92d3c938797451de03e603a0b2430561             1   \n",
       "351276  c115cf5ff8d5d3efaf3896c5e0972ed2             1   \n",
       "351277  dc033274f70a7cb187fa3c04713267b5             1   \n",
       "351278  3af0dacb0c13df9a60d49b8693842eb9             1   \n",
       "351279  376bb448f0c27c632ca1dea34e9fa39d             1   \n",
       "351280  e5cec098bf5b07d1556e6fe1a24c1334             1   \n",
       "\n",
       "                                               properties  \\\n",
       "0       [{'slug_id': 'stoly_stulya_tip', 'slug_name': ...   \n",
       "1       [{'slug_id': 'dom_dacha_posuda_tip', 'slug_nam...   \n",
       "2       [{'slug_id': 'zhenskaya_odezhda_pidzhaki_kosty...   \n",
       "3       [{'slug_id': 'waggon_type', 'slug_name': 'Тип'...   \n",
       "4                                                      []   \n",
       "5       [{'slug_id': 'sport_tzvet', 'slug_name': 'Цвет...   \n",
       "6       [{'slug_id': 'koshki_poroda', 'slug_name': 'По...   \n",
       "7       [{'slug_id': 'televizory_marka', 'slug_name': ...   \n",
       "8       [{'slug_id': 'motocikly_skutery_tip', 'slug_na...   \n",
       "9       [{'slug_id': 'oborudovanie_tip', 'slug_name': ...   \n",
       "10      [{'slug_id': 'stiralnye_mashiny_tip', 'slug_na...   \n",
       "11      [{'slug_id': 'detskie_mebel_tip', 'slug_name':...   \n",
       "12      [{'slug_id': 'avtozapchasti_vid_transporta', '...   \n",
       "13      [{'slug_id': 'igri_dlya_pristavok_i_pl_zhanr',...   \n",
       "14                                                     []   \n",
       "15      [{'slug_id': 'turizm_tip', 'slug_name': 'Тип',...   \n",
       "16                                                     []   \n",
       "17      [{'slug_id': 'detskie_tzvet', 'slug_name': 'Цв...   \n",
       "18      [{'slug_id': 'shkafy_komody_tip', 'slug_name':...   \n",
       "19                                                     []   \n",
       "20                                                     []   \n",
       "21      [{'slug_id': 'sobaki_poroda', 'slug_name': 'По...   \n",
       "22                                                     []   \n",
       "23                                                     []   \n",
       "24      [{'slug_id': 'detskie_tovary_dlya_mam_tip', 's...   \n",
       "25                                                     []   \n",
       "26      [{'slug_id': 'bele_kupalniki_tip', 'slug_name'...   \n",
       "27      [{'slug_id': 'detskaya_odezhda_obuv_tip', 'slu...   \n",
       "28      [{'slug_id': 'holodilniki_tip', 'slug_name': '...   \n",
       "29      [{'slug_id': 'televizory_marka', 'slug_name': ...   \n",
       "...                                                   ...   \n",
       "351251                                                 []   \n",
       "351252  [{'slug_id': 'shiny_vysota_profilya', 'slug_na...   \n",
       "351253  [{'slug_id': 'notebook_brand', 'slug_name': 'М...   \n",
       "351254  [{'slug_id': 'kolyosa_kolpaki_i_kamery_tip', '...   \n",
       "351255                                                 []   \n",
       "351256  [{'slug_id': 'akustika_tip', 'slug_name': 'Тип...   \n",
       "351257  [{'slug_id': 'zhenskaya_odezhda_aksessuary_tip...   \n",
       "351258                                                 []   \n",
       "351259                                                 []   \n",
       "351260  [{'slug_id': 'detskaya_odezhda_shtany_i_shorty...   \n",
       "351261  [{'slug_id': 'detskaya_odezhda_obuv_sezon', 's...   \n",
       "351262                                                 []   \n",
       "351263                                                 []   \n",
       "351264  [{'slug_id': 'detskie_mebel_tip', 'slug_name':...   \n",
       "351265                                                 []   \n",
       "351266  [{'slug_id': 'detskie_mebel_tip', 'slug_name':...   \n",
       "351267                                                 []   \n",
       "351268                                                 []   \n",
       "351269                                                 []   \n",
       "351270                                                 []   \n",
       "351271                                                 []   \n",
       "351272  [{'slug_id': 'auto_car_cleared', 'slug_name': ...   \n",
       "351273  [{'slug_id': 'stoly_stulya_tip', 'slug_name': ...   \n",
       "351274                                                 []   \n",
       "351275  [{'slug_id': 'samokati_giroskutery_tip', 'slug...   \n",
       "351276  [{'slug_id': 'stiralnye_mashiny_marka', 'slug_...   \n",
       "351277  [{'slug_id': 'detskie_obuv_razmer', 'slug_name...   \n",
       "351278  [{'slug_id': 'planshety_diagonal_ekrana', 'slu...   \n",
       "351279                                                 []   \n",
       "351280                                                 []   \n",
       "\n",
       "                                          region  sold_mode  subcategory_id  \\\n",
       "0                             Краснодарский край          1             410   \n",
       "1                              Тюменская область          1             405   \n",
       "2                                 Омская область          1             908   \n",
       "3                          Ленинградская область          1             312   \n",
       "4                             Московская область          1             504   \n",
       "5                           Владимирская область          1            1107   \n",
       "6                       Республика Саха (Якутия)          1             503   \n",
       "7                             Краснодарский край          1            1302   \n",
       "8                           Оренбургская область          1            2503   \n",
       "9                             Московская область          1             202   \n",
       "10               Ямало-Ненецкий автономный округ          1             208   \n",
       "11                            Московская область          1             317   \n",
       "12                          Владимирская область          1             109   \n",
       "13                           Вологодская область          1            1009   \n",
       "14                            Московская область          1             405   \n",
       "15                            Московская область          1            1105   \n",
       "16                            Московская область          1             601   \n",
       "17                         Нижегородская область          1            2209   \n",
       "18      Ханты-Мансийский автономный округ - Югра          1             409   \n",
       "19                            Московская область          1            1104   \n",
       "20                             Тюменская область          1             312   \n",
       "21                            Краснодарский край          1             502   \n",
       "22                      Республика Саха (Якутия)          1             503   \n",
       "23                              Амурская область          1            1615   \n",
       "24                            Московская область          1             319   \n",
       "25                            Краснодарский край          1            1002   \n",
       "26               Ямало-Ненецкий автономный округ          2             910   \n",
       "27                          Свердловская область          1            2209   \n",
       "28      Ханты-Мансийский автономный округ - Югра          1             202   \n",
       "29                            Московская область          1            1302   \n",
       "...                                          ...        ...             ...   \n",
       "351251                        Московская область          1            1601   \n",
       "351252                        Московская область          1             114   \n",
       "351253                        Московская область          1            1504   \n",
       "351254                        Краснодарский край          1             117   \n",
       "351255                          Амурская область          1             408   \n",
       "351256                         Самарская область          1            1305   \n",
       "351257                       Вологодская область          1             914   \n",
       "351258                        Московская область          1            1207   \n",
       "351259  Ханты-Мансийский автономный округ - Югра          1            2102   \n",
       "351260                        Московская область          1            2216   \n",
       "351261                        Мурманская область          1            2209   \n",
       "351262                         Самарская область          1            2207   \n",
       "351263                      Свердловская область          1            1602   \n",
       "351264                       Ставропольский край          1             317   \n",
       "351265                       Вологодская область          1             112   \n",
       "351266                       Воронежская область          1             317   \n",
       "351267                         Кировская область          1             112   \n",
       "351268                            Алтайский край          1             116   \n",
       "351269                     Ленинградская область          1            1412   \n",
       "351270                        Краснодарский край          1             601   \n",
       "351271                         Самарская область          1             503   \n",
       "351272                         Иркутская область          1            2301   \n",
       "351273                                 Татарстан          1             410   \n",
       "351274                         Иркутская область          1             317   \n",
       "351275                        Московская область          1            1113   \n",
       "351276                        Московская область          1             208   \n",
       "351277                      Белгородская область          1            2209   \n",
       "351278                     Ленинградская область          1            1203   \n",
       "351279                         Кировская область          1             301   \n",
       "351280                      Свердловская область          1             317   \n",
       "\n",
       "        sold_fast  \n",
       "0               1  \n",
       "1               0  \n",
       "2               0  \n",
       "3               0  \n",
       "4               0  \n",
       "5               0  \n",
       "6               0  \n",
       "7               0  \n",
       "8               0  \n",
       "9               0  \n",
       "10              0  \n",
       "11              0  \n",
       "12              0  \n",
       "13              1  \n",
       "14              0  \n",
       "15              0  \n",
       "16              0  \n",
       "17              0  \n",
       "18              0  \n",
       "19              0  \n",
       "20              0  \n",
       "21              0  \n",
       "22              0  \n",
       "23              0  \n",
       "24              0  \n",
       "25              1  \n",
       "26              0  \n",
       "27              0  \n",
       "28              0  \n",
       "29              0  \n",
       "...           ...  \n",
       "351251          1  \n",
       "351252          1  \n",
       "351253          0  \n",
       "351254          0  \n",
       "351255          0  \n",
       "351256          0  \n",
       "351257          0  \n",
       "351258          0  \n",
       "351259          0  \n",
       "351260          0  \n",
       "351261          1  \n",
       "351262          0  \n",
       "351263          0  \n",
       "351264          1  \n",
       "351265          0  \n",
       "351266          0  \n",
       "351267          0  \n",
       "351268          0  \n",
       "351269          0  \n",
       "351270          0  \n",
       "351271          1  \n",
       "351272          0  \n",
       "351273          0  \n",
       "351274          0  \n",
       "351275          0  \n",
       "351276          1  \n",
       "351277          0  \n",
       "351278          0  \n",
       "351279          0  \n",
       "351280          0  \n",
       "\n",
       "[351280 rows x 20 columns]"
      ]
     },
     "execution_count": 31,
     "metadata": {},
     "output_type": "execute_result"
    }
   ],
   "source": [
    "train"
   ]
  },
  {
   "cell_type": "markdown",
   "metadata": {},
   "source": [
    "есть ли наны?"
   ]
  },
  {
   "cell_type": "code",
   "execution_count": 4,
   "metadata": {},
   "outputs": [
    {
     "data": {
      "text/plain": [
       "(Unnamed: 0            0\n",
       " category_id           0\n",
       " city                  0\n",
       " date_created          0\n",
       " delivery_available    0\n",
       " desc_text             0\n",
       " img_num               0\n",
       " lat                   0\n",
       " long                  0\n",
       " name_text             0\n",
       " owner_id              0\n",
       " payment_available     0\n",
       " price                 0\n",
       " product_id            0\n",
       " product_type          0\n",
       " properties            0\n",
       " region                0\n",
       " sold_mode             0\n",
       " subcategory_id        0\n",
       " sold_fast             0\n",
       " dtype: int64, Unnamed: 0            0\n",
       " category_id           0\n",
       " city                  0\n",
       " date_created          0\n",
       " delivery_available    0\n",
       " desc_text             0\n",
       " img_num               0\n",
       " lat                   0\n",
       " long                  0\n",
       " name_text             0\n",
       " owner_id              0\n",
       " payment_available     0\n",
       " price                 0\n",
       " product_id            0\n",
       " product_type          0\n",
       " properties            0\n",
       " region                0\n",
       " sold_mode             0\n",
       " subcategory_id        0\n",
       " dtype: int64)"
      ]
     },
     "execution_count": 4,
     "metadata": {},
     "output_type": "execute_result"
    }
   ],
   "source": [
    "train.isnull().sum(), test.isnull().sum()"
   ]
  },
  {
   "cell_type": "code",
   "execution_count": 10,
   "metadata": {},
   "outputs": [
    {
     "data": {
      "text/plain": [
       "0        2018-10-08\n",
       "1        2018-06-18\n",
       "2        2018-07-31\n",
       "3        2018-04-17\n",
       "4        2018-02-09\n",
       "5        2018-04-28\n",
       "6        2018-02-08\n",
       "7        2018-10-14\n",
       "8        2018-06-02\n",
       "9        2018-06-20\n",
       "10       2018-03-29\n",
       "11       2018-05-04\n",
       "12       2018-01-25\n",
       "13       2018-03-24\n",
       "14       2018-08-02\n",
       "15       2018-09-03\n",
       "16       2018-05-24\n",
       "17       2018-10-04\n",
       "18       2018-09-11\n",
       "19       2018-05-20\n",
       "20       2018-07-14\n",
       "21       2018-10-06\n",
       "22       2018-08-14\n",
       "23       2018-04-22\n",
       "24       2018-10-05\n",
       "25       2018-01-10\n",
       "26       2018-03-31\n",
       "27       2018-05-29\n",
       "28       2018-04-18\n",
       "29       2018-03-20\n",
       "            ...    \n",
       "351251   2018-03-22\n",
       "351252   2018-04-06\n",
       "351253   2018-10-02\n",
       "351254   2018-03-25\n",
       "351255   2018-10-03\n",
       "351256   2018-03-03\n",
       "351257   2018-08-14\n",
       "351258   2018-10-03\n",
       "351259   2018-10-09\n",
       "351260   2018-01-04\n",
       "351261   2018-10-07\n",
       "351262   2018-02-17\n",
       "351263   2018-02-01\n",
       "351264   2018-01-12\n",
       "351265   2018-04-14\n",
       "351266   2018-09-05\n",
       "351267   2018-08-26\n",
       "351268   2018-04-04\n",
       "351269   2018-04-15\n",
       "351270   2018-04-13\n",
       "351271   2018-05-12\n",
       "351272   2018-04-23\n",
       "351273   2018-03-20\n",
       "351274   2018-02-07\n",
       "351275   2018-08-17\n",
       "351276   2018-10-14\n",
       "351277   2018-06-13\n",
       "351278   2018-03-02\n",
       "351279   2018-03-23\n",
       "351280   2018-01-14\n",
       "Name: date_created, Length: 351281, dtype: datetime64[ns]"
      ]
     },
     "execution_count": 10,
     "metadata": {},
     "output_type": "execute_result"
    }
   ],
   "source": [
    "train['date_created']"
   ]
  },
  {
   "cell_type": "markdown",
   "metadata": {},
   "source": [
    "**category_id  - категория товара**"
   ]
  },
  {
   "cell_type": "markdown",
   "metadata": {},
   "source": [
    "какие есть категории?"
   ]
  },
  {
   "cell_type": "code",
   "execution_count": 6,
   "metadata": {},
   "outputs": [
    {
     "data": {
      "text/plain": [
       "array([  1,   2,   3,   4,   5,   6,   7,   8,   9,  10,  11,  12,  13,\n",
       "        14,  15,  16,  17,  20,  21,  22,  23,  24,  25, 100])"
      ]
     },
     "execution_count": 6,
     "metadata": {},
     "output_type": "execute_result"
    }
   ],
   "source": [
    "np.unique(np.union1d(train['category_id'], test['category_id']))"
   ]
  },
  {
   "cell_type": "markdown",
   "metadata": {},
   "source": [
    "нарисуем распределения"
   ]
  },
  {
   "cell_type": "code",
   "execution_count": 7,
   "metadata": {},
   "outputs": [
    {
     "data": {
      "image/png": "[encoded data removed]",
      "text/plain": [
       "<Figure size 432x288 with 1 Axes>"
      ]
     },
     "metadata": {
      "needs_background": "light"
     },
     "output_type": "display_data"
    },
    {
     "data": {
      "image/png": "[encoded data removed]",
      "text/plain": [
       "<Figure size 432x288 with 1 Axes>"
      ]
     },
     "metadata": {
      "needs_background": "light"
     },
     "output_type": "display_data"
    }
   ],
   "source": [
    "sns.countplot(x=train['category_id'])\n",
    "plt.show()\n",
    "sns.countplot(x=test['category_id'])\n",
    "plt.show()"
   ]
  },
  {
   "cell_type": "markdown",
   "metadata": {},
   "source": [
    "заметим, что все id из теста есть в трейне. Т.е. эти id можно использовать как фичи при обучении. Также заметим, что распределения похожи, что хорошо."
   ]
  },
  {
   "cell_type": "markdown",
   "metadata": {},
   "source": [
    "**subcategory_id - подкатегория**"
   ]
  },
  {
   "cell_type": "code",
   "execution_count": 8,
   "metadata": {
    "scrolled": true
   },
   "outputs": [
    {
     "data": {
      "text/plain": [
       "(284,)"
      ]
     },
     "execution_count": 8,
     "metadata": {},
     "output_type": "execute_result"
    }
   ],
   "source": [
    "np.unique(np.union1d(train['subcategory_id'], test['subcategory_id'])).shape"
   ]
  },
  {
   "cell_type": "markdown",
   "metadata": {},
   "source": [
    "проверим, все ли подкатегории из теста есть в трейне"
   ]
  },
  {
   "cell_type": "code",
   "execution_count": 9,
   "metadata": {},
   "outputs": [
    {
     "data": {
      "text/plain": [
       "array([ 817, 2401, 2427])"
      ]
     },
     "execution_count": 9,
     "metadata": {},
     "output_type": "execute_result"
    }
   ],
   "source": [
    "bad_subcategories = np.setdiff1d(test['subcategory_id'].unique(), train['subcategory_id'].unique())\n",
    "bad_subcategories"
   ]
  },
  {
   "cell_type": "markdown",
   "metadata": {},
   "source": [
    "трёх подкатегрий из теста не было в трейне. много ли таких записей в тесте?"
   ]
  },
  {
   "cell_type": "code",
   "execution_count": 10,
   "metadata": {},
   "outputs": [
    {
     "data": {
      "text/plain": [
       "(9, 19)"
      ]
     },
     "execution_count": 10,
     "metadata": {},
     "output_type": "execute_result"
    }
   ],
   "source": [
    "test[test['subcategory_id'].isin(bad_subcategories)].shape"
   ]
  },
  {
   "cell_type": "markdown",
   "metadata": {},
   "source": [
    "всего-то 9 записей.Можно использовать эту фичу. "
   ]
  },
  {
   "cell_type": "markdown",
   "metadata": {},
   "source": [
    "**date_created - таймстемп создания товара**"
   ]
  },
  {
   "cell_type": "markdown",
   "metadata": {},
   "source": [
    "гистограмма распределения по времени для трейна и теста"
   ]
  },
  {
   "cell_type": "code",
   "execution_count": 11,
   "metadata": {},
   "outputs": [
    {
     "data": {
      "text/plain": [
       "<matplotlib.axes._subplots.AxesSubplot at 0x1a1ab11c18>"
      ]
     },
     "execution_count": 11,
     "metadata": {},
     "output_type": "execute_result"
    },
    {
     "data": {
      "image/png": "[encoded data removed]",
      "text/plain": [
       "<Figure size 864x288 with 1 Axes>"
      ]
     },
     "metadata": {
      "needs_background": "light"
     },
     "output_type": "display_data"
    }
   ],
   "source": [
    "train['date_created'].hist(bins=100, figsize=[12,4])\n",
    "test['date_created'].hist(bins=100, figsize=[12,4])"
   ]
  },
  {
   "cell_type": "markdown",
   "metadata": {},
   "source": [
    "Объекты из теста расположены после объектов из трейна во времени.\n",
    "- это надо учитывать при валидации. Валидироваться надо только на объектах, которые расположены после обучающей выборки. Иначе мы подсмотрим в будущее, что нелегально."
   ]
  },
  {
   "cell_type": "markdown",
   "metadata": {},
   "source": [
    "**delivery_available - возможность доставки**"
   ]
  },
  {
   "cell_type": "code",
   "execution_count": 12,
   "metadata": {},
   "outputs": [
    {
     "data": {
      "image/png": "[encoded data removed]",
      "text/plain": [
       "<Figure size 432x288 with 1 Axes>"
      ]
     },
     "metadata": {
      "needs_background": "light"
     },
     "output_type": "display_data"
    },
    {
     "data": {
      "image/png": "[encoded data removed]",
      "text/plain": [
       "<Figure size 432x288 with 1 Axes>"
      ]
     },
     "metadata": {
      "needs_background": "light"
     },
     "output_type": "display_data"
    }
   ],
   "source": [
    "sns.countplot(x=train['delivery_available'])\n",
    "plt.show()\n",
    "sns.countplot(x=test['delivery_available'])\n",
    "plt.show()"
   ]
  },
  {
   "cell_type": "markdown",
   "metadata": {},
   "source": [
    "в трейне больше доля объектов для которых доставка недоступна. "
   ]
  },
  {
   "cell_type": "markdown",
   "metadata": {},
   "source": [
    "**desc_text - описание**\n",
    "\n",
    "**name_text - название товара (услуги)**\n"
   ]
  },
  {
   "cell_type": "markdown",
   "metadata": {},
   "source": [
    "**product_id - идентификатор продукта**"
   ]
  },
  {
   "cell_type": "markdown",
   "metadata": {},
   "source": [
    "сколько айдишников продукта из теста нет в трейне?"
   ]
  },
  {
   "cell_type": "code",
   "execution_count": 13,
   "metadata": {},
   "outputs": [
    {
     "data": {
      "text/plain": [
       "(440532,)"
      ]
     },
     "execution_count": 13,
     "metadata": {},
     "output_type": "execute_result"
    }
   ],
   "source": [
    "np.unique(np.union1d(train['product_id'], test['product_id'])).shape"
   ]
  },
  {
   "cell_type": "markdown",
   "metadata": {},
   "source": [
    "много!"
   ]
  },
  {
   "cell_type": "markdown",
   "metadata": {},
   "source": [
    "**img_num - id количество картинок**"
   ]
  },
  {
   "cell_type": "code",
   "execution_count": 14,
   "metadata": {},
   "outputs": [
    {
     "data": {
      "image/png": "[encoded data removed]",
      "text/plain": [
       "<Figure size 432x288 with 1 Axes>"
      ]
     },
     "metadata": {
      "needs_background": "light"
     },
     "output_type": "display_data"
    },
    {
     "data": {
      "image/png": "[encoded data removed]",
      "text/plain": [
       "<Figure size 432x288 with 1 Axes>"
      ]
     },
     "metadata": {
      "needs_background": "light"
     },
     "output_type": "display_data"
    }
   ],
   "source": [
    "sns.countplot(x=train['img_num'])\n",
    "plt.show()\n",
    "sns.countplot(x=test['img_num'])\n",
    "plt.show()"
   ]
  },
  {
   "cell_type": "markdown",
   "metadata": {},
   "source": [
    "**owner_id - id заявителя**"
   ]
  },
  {
   "cell_type": "markdown",
   "metadata": {},
   "source": [
    "сколько айдишников заявителя из теста нет в трейне?"
   ]
  },
  {
   "cell_type": "code",
   "execution_count": 15,
   "metadata": {},
   "outputs": [
    {
     "data": {
      "text/plain": [
       "(377477,)"
      ]
     },
     "execution_count": 15,
     "metadata": {},
     "output_type": "execute_result"
    }
   ],
   "source": [
    "np.unique(np.union1d(train['owner_id'], test['owner_id'])).shape"
   ]
  },
  {
   "cell_type": "code",
   "execution_count": 11,
   "metadata": {},
   "outputs": [
    {
     "name": "stdout",
     "output_type": "stream",
     "text": [
      "(377477,)\n",
      "305336\n",
      "83374\n"
     ]
    }
   ],
   "source": [
    "print(np.unique(np.union1d(train['owner_id'], test['owner_id'])).shape)\n",
    "print(len(set(train['owner_id'])))\n",
    "print(len(set(test['owner_id'])))"
   ]
  },
  {
   "cell_type": "markdown",
   "metadata": {},
   "source": [
    "много!"
   ]
  },
  {
   "cell_type": "markdown",
   "metadata": {},
   "source": [
    "**payment_available - возможность онлайн оплаты,**"
   ]
  },
  {
   "cell_type": "code",
   "execution_count": 16,
   "metadata": {},
   "outputs": [
    {
     "data": {
      "image/png": "[encoded data removed]",
      "text/plain": [
       "<Figure size 432x288 with 1 Axes>"
      ]
     },
     "metadata": {
      "needs_background": "light"
     },
     "output_type": "display_data"
    },
    {
     "data": {
      "image/png": "[encoded data removed]",
      "text/plain": [
       "<Figure size 432x288 with 1 Axes>"
      ]
     },
     "metadata": {
      "needs_background": "light"
     },
     "output_type": "display_data"
    }
   ],
   "source": [
    "sns.countplot(x=train['payment_available'])\n",
    "plt.show()\n",
    "sns.countplot(x=test['payment_available'])\n",
    "plt.show()"
   ]
  },
  {
   "cell_type": "markdown",
   "metadata": {},
   "source": [
    "онлайн оплаты в тесте больше чем в трейне"
   ]
  },
  {
   "cell_type": "markdown",
   "metadata": {},
   "source": [
    "**price - цена в копейках**"
   ]
  },
  {
   "cell_type": "code",
   "execution_count": 17,
   "metadata": {},
   "outputs": [
    {
     "data": {
      "text/plain": [
       "<matplotlib.axes._subplots.AxesSubplot at 0x1a1b42cf60>"
      ]
     },
     "execution_count": 17,
     "metadata": {},
     "output_type": "execute_result"
    },
    {
     "data": {
      "image/png": "[encoded data removed]",
      "text/plain": [
       "<Figure size 432x288 with 1 Axes>"
      ]
     },
     "metadata": {
      "needs_background": "light"
     },
     "output_type": "display_data"
    }
   ],
   "source": [
    "train['price'].hist(bins=50)\n",
    "test['price'].hist(bins=50)"
   ]
  },
  {
   "cell_type": "markdown",
   "metadata": {},
   "source": [
    "Выведем макс. значение и 99 квантиль"
   ]
  },
  {
   "cell_type": "code",
   "execution_count": 18,
   "metadata": {},
   "outputs": [
    {
     "name": "stdout",
     "output_type": "stream",
     "text": [
      "train 9999999999.0 2400000.0\n",
      "test 9999999999.0 2061250.0000002182\n"
     ]
    }
   ],
   "source": [
    "print('train', train['price'].max(), train['price'].quantile(q=0.999))\n",
    "print('test', test['price'].max(), test['price'].quantile(q=0.999))"
   ]
  },
  {
   "cell_type": "markdown",
   "metadata": {},
   "source": [
    "похоже на $\\infty$. надо будет убрать"
   ]
  },
  {
   "cell_type": "code",
   "execution_count": 19,
   "metadata": {
    "scrolled": true
   },
   "outputs": [
    {
     "data": {
      "text/plain": [
       "<matplotlib.axes._subplots.AxesSubplot at 0x1a203265c0>"
      ]
     },
     "execution_count": 19,
     "metadata": {},
     "output_type": "execute_result"
    },
    {
     "data": {
      "image/png": "[encoded data removed]",
      "text/plain": [
       "<Figure size 432x288 with 1 Axes>"
      ]
     },
     "metadata": {
      "needs_background": "light"
     },
     "output_type": "display_data"
    }
   ],
   "source": [
    "infty = train['price'].max()\n",
    "\n",
    "train[train['price']<infty]['price'].hist(bins=50)\n",
    "test[test['price']<infty]['price'].hist(bins=50)"
   ]
  },
  {
   "cell_type": "code",
   "execution_count": 30,
   "metadata": {},
   "outputs": [],
   "source": [
    "train = train[train['price']<9999999999]"
   ]
  },
  {
   "cell_type": "markdown",
   "metadata": {},
   "source": [
    "Давайте ещё и на минимальное значение посмотрим"
   ]
  },
  {
   "cell_type": "code",
   "execution_count": 28,
   "metadata": {},
   "outputs": [
    {
     "data": {
      "text/plain": [
       "0"
      ]
     },
     "execution_count": 28,
     "metadata": {},
     "output_type": "execute_result"
    }
   ],
   "source": [
    "len(train['price'][train['price']==9999999999.0])"
   ]
  },
  {
   "cell_type": "code",
   "execution_count": 13,
   "metadata": {},
   "outputs": [
    {
     "data": {
      "text/plain": [
       "2975"
      ]
     },
     "execution_count": 13,
     "metadata": {},
     "output_type": "execute_result"
    }
   ],
   "source": [
    "len(test[test['price']==0])"
   ]
  },
  {
   "cell_type": "code",
   "execution_count": 14,
   "metadata": {},
   "outputs": [
    {
     "data": {
      "text/plain": [
       "12262"
      ]
     },
     "execution_count": 14,
     "metadata": {},
     "output_type": "execute_result"
    }
   ],
   "source": [
    "len(train[train['price']==0])"
   ]
  },
  {
   "cell_type": "markdown",
   "metadata": {},
   "source": [
    "Бесплатные товары, чудо. Бесплатные товары это хорошо, но они не дадут взять логарифм. Уберём их и возьмем его "
   ]
  },
  {
   "cell_type": "code",
   "execution_count": 17,
   "metadata": {},
   "outputs": [
    {
     "data": {
      "text/plain": [
       "<matplotlib.axes._subplots.AxesSubplot at 0x1a1c926518>"
      ]
     },
     "execution_count": 17,
     "metadata": {},
     "output_type": "execute_result"
    },
    {
     "data": {
      "image/png": "[encoded data removed]",
      "text/plain": [
       "<Figure size 432x288 with 1 Axes>"
      ]
     },
     "metadata": {
      "needs_background": "light"
     },
     "output_type": "display_data"
    }
   ],
   "source": [
    "infty = train['price'].max()\n",
    "\n",
    "np.log(train[0<train['price']]['price']).hist(bins=50)\n",
    "np.log(test[0<test['price']]['price']).hist(bins=50)"
   ]
  },
  {
   "cell_type": "markdown",
   "metadata": {},
   "source": [
    "Тут видно что гистограммы похожи, что хорошо."
   ]
  },
  {
   "cell_type": "markdown",
   "metadata": {},
   "source": [
    "**lat, long - месторасположение**"
   ]
  },
  {
   "cell_type": "code",
   "execution_count": 22,
   "metadata": {},
   "outputs": [
    {
     "data": {
      "text/plain": [
       "<matplotlib.axes._subplots.AxesSubplot at 0x1a1aa597f0>"
      ]
     },
     "execution_count": 22,
     "metadata": {},
     "output_type": "execute_result"
    },
    {
     "data": {
      "image/png": "[encoded data removed]",
      "text/plain": [
       "<Figure size 432x288 with 1 Axes>"
      ]
     },
     "metadata": {
      "needs_background": "light"
     },
     "output_type": "display_data"
    }
   ],
   "source": [
    "train['lat'].hist(bins=50)\n",
    "test['lat'].hist(bins=50)"
   ]
  },
  {
   "cell_type": "code",
   "execution_count": 23,
   "metadata": {},
   "outputs": [
    {
     "data": {
      "text/plain": [
       "<matplotlib.axes._subplots.AxesSubplot at 0x1a1c4bfba8>"
      ]
     },
     "execution_count": 23,
     "metadata": {},
     "output_type": "execute_result"
    },
    {
     "data": {
      "image/png": "[encoded data removed]",
      "text/plain": [
       "<Figure size 432x288 with 1 Axes>"
      ]
     },
     "metadata": {
      "needs_background": "light"
     },
     "output_type": "display_data"
    }
   ],
   "source": [
    "train['long'].hist(bins=50)\n",
    "test['long'].hist(bins=50)"
   ]
  },
  {
   "cell_type": "markdown",
   "metadata": {},
   "source": [
    "скорее всего юзлес фичи, т.к. город за нас определили в фиче city. Скорее всего в city вся полезная игформация из широты/долготы уже есть"
   ]
  },
  {
   "cell_type": "markdown",
   "metadata": {},
   "source": [
    "**product_type - тип товара**"
   ]
  },
  {
   "cell_type": "code",
   "execution_count": 24,
   "metadata": {},
   "outputs": [
    {
     "data": {
      "image/png": "[encoded data removed]",
      "text/plain": [
       "<Figure size 432x288 with 1 Axes>"
      ]
     },
     "metadata": {
      "needs_background": "light"
     },
     "output_type": "display_data"
    },
    {
     "data": {
      "image/png": "[encoded data removed]",
      "text/plain": [
       "<Figure size 432x288 with 1 Axes>"
      ]
     },
     "metadata": {
      "needs_background": "light"
     },
     "output_type": "display_data"
    }
   ],
   "source": [
    "sns.countplot(x=train['product_type'])\n",
    "plt.show()\n",
    "sns.countplot(x=test['product_type'])\n",
    "plt.show()"
   ]
  },
  {
   "cell_type": "code",
   "execution_count": 25,
   "metadata": {},
   "outputs": [
    {
     "data": {
      "text/plain": [
       "(array([1, 5, 8]), array([1, 5, 7]))"
      ]
     },
     "execution_count": 25,
     "metadata": {},
     "output_type": "execute_result"
    }
   ],
   "source": [
    "train['product_type'].unique(), test['product_type'].unique()"
   ]
  },
  {
   "cell_type": "markdown",
   "metadata": {},
   "source": [
    " В чём причина?"
   ]
  },
  {
   "cell_type": "markdown",
   "metadata": {},
   "source": [
    "**city, region - регион**"
   ]
  },
  {
   "cell_type": "code",
   "execution_count": 26,
   "metadata": {},
   "outputs": [
    {
     "data": {
      "text/plain": [
       "((2299,), (1558,))"
      ]
     },
     "execution_count": 26,
     "metadata": {},
     "output_type": "execute_result"
    }
   ],
   "source": [
    "train['city'].unique().shape, test['city'].unique().shape"
   ]
  },
  {
   "cell_type": "code",
   "execution_count": 27,
   "metadata": {},
   "outputs": [
    {
     "data": {
      "text/plain": [
       "(97,)"
      ]
     },
     "execution_count": 27,
     "metadata": {},
     "output_type": "execute_result"
    }
   ],
   "source": [
    "np.setdiff1d(test['city'].unique(), train['city'].unique()).shape"
   ]
  },
  {
   "cell_type": "markdown",
   "metadata": {},
   "source": [
    "97 городов в тесте мы не видели в трейне"
   ]
  },
  {
   "cell_type": "code",
   "execution_count": 28,
   "metadata": {},
   "outputs": [
    {
     "data": {
      "text/plain": [
       "((109,), (82,))"
      ]
     },
     "execution_count": 28,
     "metadata": {},
     "output_type": "execute_result"
    }
   ],
   "source": [
    "train['region'].unique().shape, test['region'].unique().shape"
   ]
  },
  {
   "cell_type": "code",
   "execution_count": 29,
   "metadata": {},
   "outputs": [
    {
     "data": {
      "text/plain": [
       "array(['Чукотский автономный округ'], dtype=object)"
      ]
     },
     "execution_count": 29,
     "metadata": {},
     "output_type": "execute_result"
    }
   ],
   "source": [
    "np.setdiff1d(test['region'].unique(), train['region'].unique())"
   ]
  },
  {
   "cell_type": "code",
   "execution_count": 30,
   "metadata": {},
   "outputs": [
    {
     "data": {
      "text/html": [
       "<div>\n",
       "<style scoped>\n",
       "    .dataframe tbody tr th:only-of-type {\n",
       "        vertical-align: middle;\n",
       "    }\n",
       "\n",
       "    .dataframe tbody tr th {\n",
       "        vertical-align: top;\n",
       "    }\n",
       "\n",
       "    .dataframe thead th {\n",
       "        text-align: right;\n",
       "    }\n",
       "</style>\n",
       "<table border=\"1\" class=\"dataframe\">\n",
       "  <thead>\n",
       "    <tr style=\"text-align: right;\">\n",
       "      <th></th>\n",
       "      <th>Unnamed: 0</th>\n",
       "      <th>category_id</th>\n",
       "      <th>city</th>\n",
       "      <th>date_created</th>\n",
       "      <th>delivery_available</th>\n",
       "      <th>desc_text</th>\n",
       "      <th>img_num</th>\n",
       "      <th>lat</th>\n",
       "      <th>long</th>\n",
       "      <th>name_text</th>\n",
       "      <th>owner_id</th>\n",
       "      <th>payment_available</th>\n",
       "      <th>price</th>\n",
       "      <th>product_id</th>\n",
       "      <th>product_type</th>\n",
       "      <th>properties</th>\n",
       "      <th>region</th>\n",
       "      <th>sold_mode</th>\n",
       "      <th>subcategory_id</th>\n",
       "    </tr>\n",
       "  </thead>\n",
       "  <tbody>\n",
       "    <tr>\n",
       "      <th>70231</th>\n",
       "      <td>399042</td>\n",
       "      <td>9</td>\n",
       "      <td>Анадырь</td>\n",
       "      <td>2018-12-19</td>\n",
       "      <td>False</td>\n",
       "      <td>Теплая</td>\n",
       "      <td>1</td>\n",
       "      <td>64.7353</td>\n",
       "      <td>177.4957</td>\n",
       "      <td>Пальто</td>\n",
       "      <td>f1eb4ed0b696c3a0728d1b222e5d717f</td>\n",
       "      <td>True</td>\n",
       "      <td>4500.0</td>\n",
       "      <td>8a3d562b7884ef10d93be5d45244738e</td>\n",
       "      <td>1</td>\n",
       "      <td>[{'slug_id': 'zhenskaya_odezhda_tzvet', 'slug_...</td>\n",
       "      <td>Чукотский автономный округ</td>\n",
       "      <td>1</td>\n",
       "      <td>903</td>\n",
       "    </tr>\n",
       "  </tbody>\n",
       "</table>\n",
       "</div>"
      ],
      "text/plain": [
       "       Unnamed: 0  category_id     city date_created  delivery_available  \\\n",
       "70231      399042            9  Анадырь   2018-12-19               False   \n",
       "\n",
       "      desc_text  img_num      lat      long name_text  \\\n",
       "70231    Теплая        1  64.7353  177.4957    Пальто   \n",
       "\n",
       "                               owner_id  payment_available   price  \\\n",
       "70231  f1eb4ed0b696c3a0728d1b222e5d717f               True  4500.0   \n",
       "\n",
       "                             product_id  product_type  \\\n",
       "70231  8a3d562b7884ef10d93be5d45244738e             1   \n",
       "\n",
       "                                              properties  \\\n",
       "70231  [{'slug_id': 'zhenskaya_odezhda_tzvet', 'slug_...   \n",
       "\n",
       "                           region  sold_mode  subcategory_id  \n",
       "70231  Чукотский автономный округ          1             903  "
      ]
     },
     "execution_count": 30,
     "metadata": {},
     "output_type": "execute_result"
    }
   ],
   "source": [
    "test[test['region']=='Чукотский автономный округ']"
   ]
  },
  {
   "cell_type": "markdown",
   "metadata": {},
   "source": [
    "Целая одна запись в тесте соовтествует чукотскому АО! Купили пальто"
   ]
  },
  {
   "cell_type": "markdown",
   "metadata": {},
   "source": [
    "**sold_fast - целевая переменная**"
   ]
  },
  {
   "cell_type": "markdown",
   "metadata": {},
   "source": [
    "наконец таргет"
   ]
  },
  {
   "cell_type": "code",
   "execution_count": 31,
   "metadata": {},
   "outputs": [
    {
     "data": {
      "text/plain": [
       "<matplotlib.axes._subplots.AxesSubplot at 0x1a1e9f8c50>"
      ]
     },
     "execution_count": 31,
     "metadata": {},
     "output_type": "execute_result"
    },
    {
     "data": {
      "image/png": "[encoded data removed]",
      "text/plain": [
       "<Figure size 432x288 with 1 Axes>"
      ]
     },
     "metadata": {
      "needs_background": "light"
     },
     "output_type": "display_data"
    }
   ],
   "source": [
    "sns.countplot(x=train['sold_fast'])"
   ]
  },
  {
   "cell_type": "markdown",
   "metadata": {},
   "source": [
    "вспоминаем в чём трейн и тест отличались и строим соотв. условные распределения"
   ]
  },
  {
   "cell_type": "markdown",
   "metadata": {},
   "source": [
    "p(sold_fast | delivery_available=1) и p(sold_fast | delivery_available=0)"
   ]
  },
  {
   "cell_type": "code",
   "execution_count": 32,
   "metadata": {},
   "outputs": [
    {
     "data": {
      "image/png": "[encoded data removed]",
      "text/plain": [
       "<Figure size 432x288 with 1 Axes>"
      ]
     },
     "metadata": {
      "needs_background": "light"
     },
     "output_type": "display_data"
    },
    {
     "data": {
      "image/png": "[encoded data removed]",
      "text/plain": [
       "<Figure size 432x288 with 1 Axes>"
      ]
     },
     "metadata": {
      "needs_background": "light"
     },
     "output_type": "display_data"
    }
   ],
   "source": [
    "sns.countplot(x=train[train['delivery_available']==True]['sold_fast'])\n",
    "plt.show()\n",
    "sns.countplot(x=train[train['delivery_available']==False]['sold_fast'])\n",
    "plt.show()"
   ]
  },
  {
   "cell_type": "markdown",
   "metadata": {},
   "source": [
    "p(sold_fast | payment_available=1) и p(sold_fast | payment_available=0)"
   ]
  },
  {
   "cell_type": "code",
   "execution_count": 33,
   "metadata": {},
   "outputs": [
    {
     "data": {
      "image/png": "[encoded data removed]",
      "text/plain": [
       "<Figure size 432x288 with 1 Axes>"
      ]
     },
     "metadata": {
      "needs_background": "light"
     },
     "output_type": "display_data"
    },
    {
     "data": {
      "image/png": "[encoded data removed]",
      "text/plain": [
       "<Figure size 432x288 with 1 Axes>"
      ]
     },
     "metadata": {
      "needs_background": "light"
     },
     "output_type": "display_data"
    }
   ],
   "source": [
    "sns.countplot(x=train[train['payment_available']==True]['sold_fast'])\n",
    "plt.show()\n",
    "sns.countplot(x=train[train['payment_available']==False]['sold_fast'])\n",
    "plt.show()"
   ]
  },
  {
   "cell_type": "markdown",
   "metadata": {},
   "source": [
    "Мы видим, что таргет расределён одинаково для фиксированны payment_available и delivery_available. Так что в этом плане различий между трейном и тестом скорее всего не будет."
   ]
  },
  {
   "cell_type": "code",
   "execution_count": null,
   "metadata": {},
   "outputs": [],
   "source": []
  },
  {
   "cell_type": "code",
   "execution_count": 309,
   "metadata": {},
   "outputs": [
    {
     "name": "stdout",
     "output_type": "stream",
     "text": [
      "Requirement already satisfied: catboost in /Users/vmargiev/anaconda3/lib/python3.7/site-packages (0.15.1)\n",
      "Requirement already satisfied: graphviz in /Users/vmargiev/anaconda3/lib/python3.7/site-packages (from catboost) (0.11)\n",
      "Requirement already satisfied: pandas>=0.19.1 in /Users/vmargiev/anaconda3/lib/python3.7/site-packages (from catboost) (0.23.4)\n",
      "Requirement already satisfied: six in /Users/vmargiev/anaconda3/lib/python3.7/site-packages (from catboost) (1.12.0)\n",
      "Requirement already satisfied: numpy>=1.16.0 in /Users/vmargiev/anaconda3/lib/python3.7/site-packages (from catboost) (1.16.4)\n",
      "Requirement already satisfied: python-dateutil>=2.5.0 in /Users/vmargiev/anaconda3/lib/python3.7/site-packages (from pandas>=0.19.1->catboost) (2.7.5)\n",
      "Requirement already satisfied: pytz>=2011k in /Users/vmargiev/anaconda3/lib/python3.7/site-packages (from pandas>=0.19.1->catboost) (2018.7)\n"
     ]
    }
   ],
   "source": [
    "!pip install catboost"
   ]
  },
  {
   "cell_type": "code",
   "execution_count": 774,
   "metadata": {},
   "outputs": [],
   "source": [
    "import pandas as pd\n",
    "import numpy as np\n",
    "from matplotlib import pyplot as plt\n",
    "import seaborn as sns"
   ]
  },
  {
   "cell_type": "code",
   "execution_count": 1571,
   "metadata": {},
   "outputs": [],
   "source": [
    "train_data = pd.read_csv('train.tsv', sep='\\t')\n",
    "test = pd.read_csv('test_nolabel.tsv', sep='\\t')\n",
    "\n",
    "#train_data['date_created'] = pd.to_datetime(train_data['date_created'])\n",
    "# test['date_created'] = pd.to_datetime(test['date_created'])\n",
    "\n",
    "train_data['delivery_available'] = (train_data['delivery_available'] == True).astype(int)\n",
    "train_data['payment_available'] = (train_data['payment_available'] == True).astype(int)\n",
    "train_data = train_data[train_data['price']<9999999999]\n",
    "\n",
    "test['delivery_available'] = (test['delivery_available'] == True).astype(int)\n",
    "test['payment_available'] = (test['payment_available'] == True).astype(int)"
   ]
  },
  {
   "cell_type": "code",
   "execution_count": 1572,
   "metadata": {},
   "outputs": [],
   "source": [
    "train_data['date_created'] = pd.to_datetime(train_data['date_created'])\n",
    "test['date_created'] = pd.to_datetime(test['date_created'])\n",
    "\n",
    "# train_data['properties'] = train_data['properties'].apply(lambda t: t.replace('\\'',''))\n",
    "# test['properties'] = train_data['properties'].apply(lambda t: t.replace('}',''))"
   ]
  },
  {
   "cell_type": "code",
   "execution_count": 1573,
   "metadata": {},
   "outputs": [],
   "source": [
    "def my_function2(t):\n",
    "    if t.lower().find(\"прода\")==-1:\n",
    "        return t\n",
    "    else:\n",
    "        return \"прода\"\n",
    "    \n",
    "def my_function3(t):\n",
    "    if t.lower().find(\"состоян\")==-1:\n",
    "        return t\n",
    "    else:\n",
    "        return \"состоян\"\n",
    "    \n",
    "def my_function4(t):\n",
    "    if t.lower().find(\"работает\")==-1:\n",
    "        return t\n",
    "    else:\n",
    "        return \"работает\"\n",
    "    \n",
    "def my_function5(t):\n",
    "    if t.lower().find(\"отда\")==-1:\n",
    "        return t\n",
    "    else:\n",
    "        return \"отда\"\n",
    "    \n",
    "def my_function6(t):\n",
    "    if t.lower().find(\"торг\")==-1:\n",
    "        return t\n",
    "    else:\n",
    "        return \"торг\""
   ]
  },
  {
   "cell_type": "code",
   "execution_count": 1574,
   "metadata": {},
   "outputs": [],
   "source": [
    "desc_text = train_data['desc_text']\n",
    "a = desc_text.apply(lambda t: my_function2(t))\n",
    "train_data['desc_text'] = a\n",
    "\n",
    "desc_text = test['desc_text']\n",
    "a = desc_text.apply(lambda t: my_function2(t))\n",
    "test['desc_text'] = a\n",
    "\n",
    "desc_text = train_data['desc_text']\n",
    "a = desc_text.apply(lambda t: my_function3(t))\n",
    "train_data['desc_text'] = a\n",
    "\n",
    "desc_text = test['desc_text']\n",
    "a = desc_text.apply(lambda t: my_function3(t))\n",
    "test['desc_text'] = a\n",
    "\n",
    "desc_text = train_data['desc_text']\n",
    "a = desc_text.apply(lambda t: my_function4(t))\n",
    "train_data['desc_text'] = a\n",
    "\n",
    "desc_text = test['desc_text']\n",
    "a = desc_text.apply(lambda t: my_function4(t))\n",
    "test['desc_text'] = a\n",
    "\n",
    "desc_text = train_data['desc_text']\n",
    "a = desc_text.apply(lambda t: my_function5(t))\n",
    "train_data['desc_text'] = a\n",
    "\n",
    "desc_text = test['desc_text']\n",
    "a = desc_text.apply(lambda t: my_function5(t))\n",
    "test['desc_text'] = a\n",
    "\n",
    "desc_text = train_data['desc_text']\n",
    "a = desc_text.apply(lambda t: my_function6(t))\n",
    "train_data['desc_text'] = a\n",
    "\n",
    "desc_text = test['name_text']\n",
    "a = desc_text.apply(lambda t: my_function6(t))\n",
    "test['name_text'] = a"
   ]
  },
  {
   "cell_type": "code",
   "execution_count": 1575,
   "metadata": {},
   "outputs": [],
   "source": [
    "train_data = train_data.drop(['Unnamed: 0','lat','long', 'owner_id', 'product_id','region'], axis=1)\n",
    "test = test.drop(['Unnamed: 0','lat','long','owner_id', 'product_id','region'], axis=1)\n"
   ]
  },
  {
   "cell_type": "code",
   "execution_count": 1576,
   "metadata": {},
   "outputs": [],
   "source": [
    "train_data['date_created'] = train_data['date_created'].apply(lambda t: t.weekday())\n",
    "test['date_created'] = test['date_created'].apply(lambda t: t.weekday())\n"
   ]
  },
  {
   "cell_type": "code",
   "execution_count": 1577,
   "metadata": {},
   "outputs": [],
   "source": [
    "from sklearn.model_selection import train_test_split \n",
    "\n",
    "X = train_data\n",
    "y = train_data['sold_fast'].values\n",
    "\n",
    "#test-huest\n",
    "X_train, X_test, y_train, y_test = train_test_split(X, y, train_size=0.8, random_state=42)\n",
    "\n",
    "# X_train = X\n",
    "# y_train = y"
   ]
  },
  {
   "cell_type": "code",
   "execution_count": null,
   "metadata": {},
   "outputs": [],
   "source": []
  },
  {
   "cell_type": "code",
   "execution_count": 1578,
   "metadata": {},
   "outputs": [],
   "source": [
    "X_train = X_train.drop('sold_fast', axis=1)\n",
    "#X_test = X_test.drop('sold_fast', axis=1)\n"
   ]
  },
  {
   "cell_type": "code",
   "execution_count": 1579,
   "metadata": {},
   "outputs": [
    {
     "data": {
      "text/html": [
       "<div>\n",
       "<style scoped>\n",
       "    .dataframe tbody tr th:only-of-type {\n",
       "        vertical-align: middle;\n",
       "    }\n",
       "\n",
       "    .dataframe tbody tr th {\n",
       "        vertical-align: top;\n",
       "    }\n",
       "\n",
       "    .dataframe thead th {\n",
       "        text-align: right;\n",
       "    }\n",
       "</style>\n",
       "<table border=\"1\" class=\"dataframe\">\n",
       "  <thead>\n",
       "    <tr style=\"text-align: right;\">\n",
       "      <th></th>\n",
       "      <th>category_id</th>\n",
       "      <th>city</th>\n",
       "      <th>date_created</th>\n",
       "      <th>delivery_available</th>\n",
       "      <th>desc_text</th>\n",
       "      <th>img_num</th>\n",
       "      <th>name_text</th>\n",
       "      <th>payment_available</th>\n",
       "      <th>price</th>\n",
       "      <th>product_type</th>\n",
       "      <th>properties</th>\n",
       "      <th>sold_mode</th>\n",
       "      <th>subcategory_id</th>\n",
       "    </tr>\n",
       "  </thead>\n",
       "  <tbody>\n",
       "    <tr>\n",
       "      <th>0</th>\n",
       "      <td>4</td>\n",
       "      <td>Краснодар</td>\n",
       "      <td>0</td>\n",
       "      <td>0</td>\n",
       "      <td>прода</td>\n",
       "      <td>3</td>\n",
       "      <td>Стол</td>\n",
       "      <td>1</td>\n",
       "      <td>500.0</td>\n",
       "      <td>1</td>\n",
       "      <td>[{'slug_id': 'stoly_stulya_tip', 'slug_name': ...</td>\n",
       "      <td>1</td>\n",
       "      <td>410</td>\n",
       "    </tr>\n",
       "    <tr>\n",
       "      <th>1</th>\n",
       "      <td>4</td>\n",
       "      <td>Тюмень</td>\n",
       "      <td>0</td>\n",
       "      <td>0</td>\n",
       "      <td>Тарелки глубокие 6 шт. Блюдца, чашки по 6 шт. ...</td>\n",
       "      <td>2</td>\n",
       "      <td>Посуда</td>\n",
       "      <td>0</td>\n",
       "      <td>300.0</td>\n",
       "      <td>1</td>\n",
       "      <td>[{'slug_id': 'dom_dacha_posuda_tip', 'slug_nam...</td>\n",
       "      <td>1</td>\n",
       "      <td>405</td>\n",
       "    </tr>\n",
       "  </tbody>\n",
       "</table>\n",
       "</div>"
      ],
      "text/plain": [
       "   category_id       city  date_created  delivery_available  \\\n",
       "0            4  Краснодар             0                   0   \n",
       "1            4     Тюмень             0                   0   \n",
       "\n",
       "                                           desc_text  img_num name_text  \\\n",
       "0                                              прода        3      Стол   \n",
       "1  Тарелки глубокие 6 шт. Блюдца, чашки по 6 шт. ...        2    Посуда   \n",
       "\n",
       "   payment_available  price  product_type  \\\n",
       "0                  1  500.0             1   \n",
       "1                  0  300.0             1   \n",
       "\n",
       "                                          properties  sold_mode  \\\n",
       "0  [{'slug_id': 'stoly_stulya_tip', 'slug_name': ...          1   \n",
       "1  [{'slug_id': 'dom_dacha_posuda_tip', 'slug_nam...          1   \n",
       "\n",
       "   subcategory_id  \n",
       "0             410  \n",
       "1             405  "
      ]
     },
     "execution_count": 1579,
     "metadata": {},
     "output_type": "execute_result"
    }
   ],
   "source": [
    "X_train.head(2)"
   ]
  },
  {
   "cell_type": "code",
   "execution_count": 1580,
   "metadata": {},
   "outputs": [
    {
     "name": "stdout",
     "output_type": "stream",
     "text": [
      "0:\tlearn: 0.5492637\ttotal: 266ms\tremaining: 1m 19s\n",
      "1:\tlearn: 0.5341866\ttotal: 499ms\tremaining: 1m 14s\n",
      "2:\tlearn: 0.5321531\ttotal: 696ms\tremaining: 1m 8s\n",
      "3:\tlearn: 0.5307340\ttotal: 887ms\tremaining: 1m 5s\n",
      "4:\tlearn: 0.5293275\ttotal: 1.12s\tremaining: 1m 6s\n",
      "5:\tlearn: 0.5287098\ttotal: 1.32s\tremaining: 1m 4s\n",
      "6:\tlearn: 0.5282288\ttotal: 1.51s\tremaining: 1m 3s\n",
      "7:\tlearn: 0.5279731\ttotal: 1.72s\tremaining: 1m 2s\n",
      "8:\tlearn: 0.5277537\ttotal: 1.93s\tremaining: 1m 2s\n",
      "9:\tlearn: 0.5275128\ttotal: 2.11s\tremaining: 1m 1s\n",
      "10:\tlearn: 0.5274037\ttotal: 2.32s\tremaining: 1m\n",
      "11:\tlearn: 0.5272962\ttotal: 2.51s\tremaining: 1m\n",
      "12:\tlearn: 0.5272267\ttotal: 2.7s\tremaining: 59.7s\n",
      "13:\tlearn: 0.5271479\ttotal: 2.89s\tremaining: 59s\n",
      "14:\tlearn: 0.5270788\ttotal: 2.99s\tremaining: 56.8s\n",
      "15:\tlearn: 0.5270257\ttotal: 3.14s\tremaining: 55.7s\n",
      "16:\tlearn: 0.5267577\ttotal: 3.29s\tremaining: 54.7s\n",
      "17:\tlearn: 0.5266634\ttotal: 3.46s\tremaining: 54.2s\n",
      "18:\tlearn: 0.5265335\ttotal: 3.63s\tremaining: 53.7s\n",
      "19:\tlearn: 0.5263857\ttotal: 3.79s\tremaining: 53.1s\n",
      "20:\tlearn: 0.5263108\ttotal: 4.01s\tremaining: 53.3s\n",
      "21:\tlearn: 0.5261048\ttotal: 4.21s\tremaining: 53.2s\n",
      "22:\tlearn: 0.5258168\ttotal: 4.38s\tremaining: 52.8s\n",
      "23:\tlearn: 0.5254685\ttotal: 4.56s\tremaining: 52.4s\n",
      "24:\tlearn: 0.5252877\ttotal: 4.75s\tremaining: 52.2s\n",
      "25:\tlearn: 0.5252085\ttotal: 4.97s\tremaining: 52.4s\n",
      "26:\tlearn: 0.5251702\ttotal: 5.12s\tremaining: 51.8s\n",
      "27:\tlearn: 0.5251329\ttotal: 5.26s\tremaining: 51.1s\n",
      "28:\tlearn: 0.5250551\ttotal: 5.45s\tremaining: 50.9s\n",
      "29:\tlearn: 0.5249619\ttotal: 5.65s\tremaining: 50.9s\n",
      "30:\tlearn: 0.5249025\ttotal: 5.81s\tremaining: 50.5s\n",
      "31:\tlearn: 0.5248448\ttotal: 6s\tremaining: 50.3s\n",
      "32:\tlearn: 0.5247797\ttotal: 6.17s\tremaining: 49.9s\n",
      "33:\tlearn: 0.5246479\ttotal: 6.34s\tremaining: 49.6s\n",
      "34:\tlearn: 0.5246229\ttotal: 6.47s\tremaining: 49s\n",
      "35:\tlearn: 0.5245639\ttotal: 6.62s\tremaining: 48.6s\n",
      "36:\tlearn: 0.5245578\ttotal: 6.76s\tremaining: 48.1s\n",
      "37:\tlearn: 0.5245104\ttotal: 6.91s\tremaining: 47.7s\n",
      "38:\tlearn: 0.5243942\ttotal: 7.08s\tremaining: 47.4s\n",
      "39:\tlearn: 0.5242938\ttotal: 7.24s\tremaining: 47.1s\n",
      "40:\tlearn: 0.5242188\ttotal: 7.44s\tremaining: 47s\n",
      "41:\tlearn: 0.5242014\ttotal: 7.67s\tremaining: 47.1s\n",
      "42:\tlearn: 0.5241862\ttotal: 7.77s\tremaining: 46.5s\n",
      "43:\tlearn: 0.5241331\ttotal: 7.92s\tremaining: 46.1s\n",
      "44:\tlearn: 0.5241142\ttotal: 8.11s\tremaining: 45.9s\n",
      "45:\tlearn: 0.5240563\ttotal: 8.29s\tremaining: 45.8s\n",
      "46:\tlearn: 0.5239933\ttotal: 8.39s\tremaining: 45.1s\n",
      "47:\tlearn: 0.5238996\ttotal: 8.55s\tremaining: 44.9s\n",
      "48:\tlearn: 0.5238809\ttotal: 8.77s\tremaining: 44.9s\n",
      "49:\tlearn: 0.5238739\ttotal: 8.9s\tremaining: 44.5s\n",
      "50:\tlearn: 0.5238464\ttotal: 9.05s\tremaining: 44.2s\n",
      "51:\tlearn: 0.5238087\ttotal: 9.18s\tremaining: 43.8s\n",
      "52:\tlearn: 0.5237797\ttotal: 9.4s\tremaining: 43.8s\n",
      "53:\tlearn: 0.5237502\ttotal: 9.66s\tremaining: 44s\n",
      "54:\tlearn: 0.5237387\ttotal: 9.81s\tremaining: 43.7s\n",
      "55:\tlearn: 0.5236944\ttotal: 10s\tremaining: 43.6s\n",
      "56:\tlearn: 0.5236098\ttotal: 10.2s\tremaining: 43.5s\n",
      "57:\tlearn: 0.5235879\ttotal: 10.4s\tremaining: 43.3s\n",
      "58:\tlearn: 0.5234023\ttotal: 10.6s\tremaining: 43.2s\n",
      "59:\tlearn: 0.5233645\ttotal: 10.7s\tremaining: 42.9s\n",
      "60:\tlearn: 0.5233316\ttotal: 10.8s\tremaining: 42.5s\n",
      "61:\tlearn: 0.5233200\ttotal: 11s\tremaining: 42.4s\n",
      "62:\tlearn: 0.5233029\ttotal: 11.2s\tremaining: 42.2s\n",
      "63:\tlearn: 0.5232936\ttotal: 11.4s\tremaining: 42s\n",
      "64:\tlearn: 0.5232734\ttotal: 11.6s\tremaining: 41.9s\n",
      "65:\tlearn: 0.5232471\ttotal: 11.8s\tremaining: 41.8s\n",
      "66:\tlearn: 0.5231883\ttotal: 12s\tremaining: 41.7s\n",
      "67:\tlearn: 0.5231774\ttotal: 12.1s\tremaining: 41.4s\n",
      "68:\tlearn: 0.5231470\ttotal: 12.4s\tremaining: 41.5s\n",
      "69:\tlearn: 0.5231147\ttotal: 12.6s\tremaining: 41.5s\n",
      "70:\tlearn: 0.5230934\ttotal: 12.9s\tremaining: 41.5s\n",
      "71:\tlearn: 0.5230730\ttotal: 13.1s\tremaining: 41.5s\n",
      "72:\tlearn: 0.5230344\ttotal: 13.3s\tremaining: 41.5s\n",
      "73:\tlearn: 0.5229814\ttotal: 13.6s\tremaining: 41.5s\n",
      "74:\tlearn: 0.5229621\ttotal: 13.9s\tremaining: 41.7s\n",
      "75:\tlearn: 0.5228134\ttotal: 14.1s\tremaining: 41.5s\n",
      "76:\tlearn: 0.5227701\ttotal: 14.3s\tremaining: 41.5s\n",
      "77:\tlearn: 0.5227667\ttotal: 14.5s\tremaining: 41.2s\n",
      "78:\tlearn: 0.5227043\ttotal: 14.6s\tremaining: 40.9s\n",
      "79:\tlearn: 0.5226917\ttotal: 14.8s\tremaining: 40.7s\n",
      "80:\tlearn: 0.5226721\ttotal: 15s\tremaining: 40.5s\n",
      "81:\tlearn: 0.5226421\ttotal: 15.2s\tremaining: 40.3s\n",
      "82:\tlearn: 0.5226166\ttotal: 15.3s\tremaining: 40s\n",
      "83:\tlearn: 0.5226021\ttotal: 15.5s\tremaining: 39.9s\n",
      "84:\tlearn: 0.5225911\ttotal: 15.7s\tremaining: 39.8s\n",
      "85:\tlearn: 0.5225829\ttotal: 15.9s\tremaining: 39.6s\n",
      "86:\tlearn: 0.5225245\ttotal: 16.1s\tremaining: 39.5s\n",
      "87:\tlearn: 0.5224671\ttotal: 16.3s\tremaining: 39.4s\n",
      "88:\tlearn: 0.5224551\ttotal: 16.5s\tremaining: 39s\n",
      "89:\tlearn: 0.5224365\ttotal: 16.6s\tremaining: 38.8s\n",
      "90:\tlearn: 0.5223184\ttotal: 16.8s\tremaining: 38.5s\n",
      "91:\tlearn: 0.5222785\ttotal: 16.9s\tremaining: 38.2s\n",
      "92:\tlearn: 0.5222706\ttotal: 17s\tremaining: 37.9s\n",
      "93:\tlearn: 0.5222432\ttotal: 17.3s\tremaining: 37.9s\n",
      "94:\tlearn: 0.5222242\ttotal: 17.5s\tremaining: 37.7s\n",
      "95:\tlearn: 0.5222098\ttotal: 17.6s\tremaining: 37.4s\n",
      "96:\tlearn: 0.5221842\ttotal: 17.8s\tremaining: 37.2s\n",
      "97:\tlearn: 0.5221477\ttotal: 17.9s\tremaining: 37s\n",
      "98:\tlearn: 0.5221230\ttotal: 18.2s\tremaining: 37s\n",
      "99:\tlearn: 0.5221198\ttotal: 18.4s\tremaining: 36.8s\n",
      "100:\tlearn: 0.5220797\ttotal: 18.6s\tremaining: 36.7s\n",
      "101:\tlearn: 0.5220638\ttotal: 18.7s\tremaining: 36.4s\n",
      "102:\tlearn: 0.5220073\ttotal: 18.9s\tremaining: 36.1s\n",
      "103:\tlearn: 0.5220008\ttotal: 19.1s\tremaining: 36s\n",
      "104:\tlearn: 0.5219755\ttotal: 19.3s\tremaining: 35.8s\n",
      "105:\tlearn: 0.5219621\ttotal: 19.4s\tremaining: 35.6s\n",
      "106:\tlearn: 0.5219570\ttotal: 19.6s\tremaining: 35.3s\n",
      "107:\tlearn: 0.5219411\ttotal: 19.8s\tremaining: 35.2s\n",
      "108:\tlearn: 0.5219333\ttotal: 20s\tremaining: 35s\n",
      "109:\tlearn: 0.5218871\ttotal: 20.2s\tremaining: 34.9s\n",
      "110:\tlearn: 0.5218748\ttotal: 20.4s\tremaining: 34.7s\n",
      "111:\tlearn: 0.5218672\ttotal: 20.5s\tremaining: 34.4s\n",
      "112:\tlearn: 0.5218567\ttotal: 20.7s\tremaining: 34.2s\n",
      "113:\tlearn: 0.5218459\ttotal: 20.8s\tremaining: 33.9s\n",
      "114:\tlearn: 0.5218384\ttotal: 21s\tremaining: 33.7s\n",
      "115:\tlearn: 0.5218310\ttotal: 21.1s\tremaining: 33.4s\n",
      "116:\tlearn: 0.5218116\ttotal: 21.2s\tremaining: 33.1s\n",
      "117:\tlearn: 0.5218031\ttotal: 21.3s\tremaining: 32.9s\n",
      "118:\tlearn: 0.5217588\ttotal: 21.5s\tremaining: 32.7s\n",
      "119:\tlearn: 0.5217141\ttotal: 21.7s\tremaining: 32.5s\n",
      "120:\tlearn: 0.5216822\ttotal: 21.8s\tremaining: 32.3s\n",
      "121:\tlearn: 0.5216812\ttotal: 21.9s\tremaining: 32s\n",
      "122:\tlearn: 0.5216565\ttotal: 22.1s\tremaining: 31.8s\n",
      "123:\tlearn: 0.5216196\ttotal: 22.3s\tremaining: 31.6s\n",
      "124:\tlearn: 0.5216039\ttotal: 22.4s\tremaining: 31.4s\n",
      "125:\tlearn: 0.5215124\ttotal: 22.6s\tremaining: 31.2s\n",
      "126:\tlearn: 0.5215004\ttotal: 22.7s\tremaining: 31s\n",
      "127:\tlearn: 0.5214957\ttotal: 22.9s\tremaining: 30.7s\n",
      "128:\tlearn: 0.5214869\ttotal: 23s\tremaining: 30.5s\n",
      "129:\tlearn: 0.5214630\ttotal: 23.2s\tremaining: 30.4s\n",
      "130:\tlearn: 0.5214494\ttotal: 23.4s\tremaining: 30.2s\n",
      "131:\tlearn: 0.5214429\ttotal: 23.6s\tremaining: 30s\n",
      "132:\tlearn: 0.5214115\ttotal: 23.7s\tremaining: 29.8s\n",
      "133:\tlearn: 0.5213927\ttotal: 23.9s\tremaining: 29.6s\n",
      "134:\tlearn: 0.5213857\ttotal: 24.2s\tremaining: 29.6s\n",
      "135:\tlearn: 0.5213696\ttotal: 24.4s\tremaining: 29.4s\n",
      "136:\tlearn: 0.5213493\ttotal: 24.6s\tremaining: 29.3s\n",
      "137:\tlearn: 0.5213319\ttotal: 24.8s\tremaining: 29.1s\n",
      "138:\tlearn: 0.5213087\ttotal: 24.9s\tremaining: 28.9s\n",
      "139:\tlearn: 0.5212753\ttotal: 25.1s\tremaining: 28.7s\n",
      "140:\tlearn: 0.5212702\ttotal: 25.3s\tremaining: 28.5s\n",
      "141:\tlearn: 0.5212641\ttotal: 25.5s\tremaining: 28.3s\n",
      "142:\tlearn: 0.5212558\ttotal: 25.6s\tremaining: 28.1s\n",
      "143:\tlearn: 0.5211493\ttotal: 25.8s\tremaining: 28s\n",
      "144:\tlearn: 0.5211324\ttotal: 26s\tremaining: 27.8s\n",
      "145:\tlearn: 0.5211165\ttotal: 26.2s\tremaining: 27.6s\n",
      "146:\tlearn: 0.5211146\ttotal: 26.3s\tremaining: 27.3s\n",
      "147:\tlearn: 0.5211077\ttotal: 26.4s\tremaining: 27.1s\n",
      "148:\tlearn: 0.5211005\ttotal: 26.6s\tremaining: 26.9s\n",
      "149:\tlearn: 0.5210858\ttotal: 26.8s\tremaining: 26.8s\n",
      "150:\tlearn: 0.5210759\ttotal: 26.9s\tremaining: 26.6s\n",
      "151:\tlearn: 0.5210737\ttotal: 27.1s\tremaining: 26.4s\n",
      "152:\tlearn: 0.5210390\ttotal: 27.2s\tremaining: 26.2s\n",
      "153:\tlearn: 0.5210271\ttotal: 27.4s\tremaining: 26s\n",
      "154:\tlearn: 0.5209955\ttotal: 27.6s\tremaining: 25.8s\n",
      "155:\tlearn: 0.5209747\ttotal: 27.8s\tremaining: 25.6s\n",
      "156:\tlearn: 0.5209353\ttotal: 28s\tremaining: 25.5s\n",
      "157:\tlearn: 0.5209203\ttotal: 28.1s\tremaining: 25.3s\n",
      "158:\tlearn: 0.5208792\ttotal: 28.3s\tremaining: 25.1s\n",
      "159:\tlearn: 0.5208656\ttotal: 28.6s\tremaining: 25s\n",
      "160:\tlearn: 0.5208488\ttotal: 28.8s\tremaining: 24.9s\n",
      "161:\tlearn: 0.5208465\ttotal: 29s\tremaining: 24.7s\n"
     ]
    },
    {
     "name": "stdout",
     "output_type": "stream",
     "text": [
      "162:\tlearn: 0.5208397\ttotal: 29.1s\tremaining: 24.5s\n",
      "163:\tlearn: 0.5207576\ttotal: 29.3s\tremaining: 24.3s\n",
      "164:\tlearn: 0.5207550\ttotal: 29.5s\tremaining: 24.1s\n",
      "165:\tlearn: 0.5207492\ttotal: 29.6s\tremaining: 23.9s\n",
      "166:\tlearn: 0.5207426\ttotal: 29.8s\tremaining: 23.7s\n",
      "167:\tlearn: 0.5207344\ttotal: 29.9s\tremaining: 23.5s\n",
      "168:\tlearn: 0.5207161\ttotal: 30.1s\tremaining: 23.3s\n",
      "169:\tlearn: 0.5206944\ttotal: 30.3s\tremaining: 23.1s\n",
      "170:\tlearn: 0.5206914\ttotal: 30.4s\tremaining: 22.9s\n",
      "171:\tlearn: 0.5206839\ttotal: 30.6s\tremaining: 22.8s\n",
      "172:\tlearn: 0.5206805\ttotal: 30.7s\tremaining: 22.6s\n",
      "173:\tlearn: 0.5206610\ttotal: 30.9s\tremaining: 22.4s\n",
      "174:\tlearn: 0.5206567\ttotal: 31.1s\tremaining: 22.2s\n",
      "175:\tlearn: 0.5206545\ttotal: 31.2s\tremaining: 22s\n",
      "176:\tlearn: 0.5206276\ttotal: 31.3s\tremaining: 21.8s\n",
      "177:\tlearn: 0.5206010\ttotal: 31.5s\tremaining: 21.6s\n",
      "178:\tlearn: 0.5205897\ttotal: 31.6s\tremaining: 21.4s\n",
      "179:\tlearn: 0.5205766\ttotal: 31.8s\tremaining: 21.2s\n",
      "180:\tlearn: 0.5205743\ttotal: 31.9s\tremaining: 21s\n",
      "181:\tlearn: 0.5205550\ttotal: 32.1s\tremaining: 20.8s\n",
      "182:\tlearn: 0.5205154\ttotal: 32.3s\tremaining: 20.6s\n",
      "183:\tlearn: 0.5205087\ttotal: 32.5s\tremaining: 20.5s\n",
      "184:\tlearn: 0.5205043\ttotal: 32.6s\tremaining: 20.3s\n",
      "185:\tlearn: 0.5204951\ttotal: 32.7s\tremaining: 20.1s\n",
      "186:\tlearn: 0.5204910\ttotal: 32.9s\tremaining: 19.9s\n",
      "187:\tlearn: 0.5204853\ttotal: 33s\tremaining: 19.7s\n",
      "188:\tlearn: 0.5204720\ttotal: 33.2s\tremaining: 19.5s\n",
      "189:\tlearn: 0.5204588\ttotal: 33.4s\tremaining: 19.3s\n",
      "190:\tlearn: 0.5204477\ttotal: 33.6s\tremaining: 19.2s\n",
      "191:\tlearn: 0.5204450\ttotal: 33.8s\tremaining: 19s\n",
      "192:\tlearn: 0.5204368\ttotal: 34s\tremaining: 18.8s\n",
      "193:\tlearn: 0.5204137\ttotal: 34.1s\tremaining: 18.6s\n",
      "194:\tlearn: 0.5204039\ttotal: 34.3s\tremaining: 18.5s\n",
      "195:\tlearn: 0.5203996\ttotal: 34.4s\tremaining: 18.3s\n",
      "196:\tlearn: 0.5203981\ttotal: 34.5s\tremaining: 18.1s\n",
      "197:\tlearn: 0.5203945\ttotal: 34.7s\tremaining: 17.9s\n",
      "198:\tlearn: 0.5203812\ttotal: 34.9s\tremaining: 17.7s\n",
      "199:\tlearn: 0.5203753\ttotal: 35s\tremaining: 17.5s\n",
      "200:\tlearn: 0.5203706\ttotal: 35.2s\tremaining: 17.3s\n",
      "201:\tlearn: 0.5203690\ttotal: 35.4s\tremaining: 17.2s\n",
      "202:\tlearn: 0.5203653\ttotal: 35.6s\tremaining: 17s\n",
      "203:\tlearn: 0.5203512\ttotal: 35.8s\tremaining: 16.8s\n",
      "204:\tlearn: 0.5203449\ttotal: 35.9s\tremaining: 16.7s\n",
      "205:\tlearn: 0.5203387\ttotal: 36.1s\tremaining: 16.5s\n",
      "206:\tlearn: 0.5203363\ttotal: 36.4s\tremaining: 16.3s\n",
      "207:\tlearn: 0.5203244\ttotal: 36.6s\tremaining: 16.2s\n",
      "208:\tlearn: 0.5203076\ttotal: 36.7s\tremaining: 16s\n",
      "209:\tlearn: 0.5203035\ttotal: 36.9s\tremaining: 15.8s\n",
      "210:\tlearn: 0.5202958\ttotal: 37s\tremaining: 15.6s\n",
      "211:\tlearn: 0.5202942\ttotal: 37.1s\tremaining: 15.4s\n",
      "212:\tlearn: 0.5202803\ttotal: 37.3s\tremaining: 15.2s\n",
      "213:\tlearn: 0.5202663\ttotal: 37.5s\tremaining: 15.1s\n",
      "214:\tlearn: 0.5202543\ttotal: 37.7s\tremaining: 14.9s\n",
      "215:\tlearn: 0.5202229\ttotal: 38s\tremaining: 14.8s\n",
      "216:\tlearn: 0.5202225\ttotal: 38.2s\tremaining: 14.6s\n",
      "217:\tlearn: 0.5202169\ttotal: 38.4s\tremaining: 14.4s\n",
      "218:\tlearn: 0.5202143\ttotal: 38.6s\tremaining: 14.3s\n",
      "219:\tlearn: 0.5202086\ttotal: 38.9s\tremaining: 14.1s\n",
      "220:\tlearn: 0.5201943\ttotal: 39.2s\tremaining: 14s\n",
      "221:\tlearn: 0.5201926\ttotal: 39.4s\tremaining: 13.8s\n",
      "222:\tlearn: 0.5201793\ttotal: 39.6s\tremaining: 13.7s\n",
      "223:\tlearn: 0.5201597\ttotal: 39.8s\tremaining: 13.5s\n",
      "224:\tlearn: 0.5201282\ttotal: 40s\tremaining: 13.3s\n",
      "225:\tlearn: 0.5201160\ttotal: 40.2s\tremaining: 13.2s\n",
      "226:\tlearn: 0.5201117\ttotal: 40.3s\tremaining: 13s\n",
      "227:\tlearn: 0.5200967\ttotal: 40.6s\tremaining: 12.8s\n",
      "228:\tlearn: 0.5200954\ttotal: 40.8s\tremaining: 12.6s\n",
      "229:\tlearn: 0.5200846\ttotal: 40.9s\tremaining: 12.5s\n",
      "230:\tlearn: 0.5200829\ttotal: 41.1s\tremaining: 12.3s\n",
      "231:\tlearn: 0.5200660\ttotal: 41.4s\tremaining: 12.1s\n",
      "232:\tlearn: 0.5200504\ttotal: 41.5s\tremaining: 11.9s\n",
      "233:\tlearn: 0.5200448\ttotal: 41.7s\tremaining: 11.8s\n",
      "234:\tlearn: 0.5200373\ttotal: 41.9s\tremaining: 11.6s\n",
      "235:\tlearn: 0.5200169\ttotal: 42.1s\tremaining: 11.4s\n",
      "236:\tlearn: 0.5200037\ttotal: 42.3s\tremaining: 11.2s\n",
      "237:\tlearn: 0.5200000\ttotal: 42.5s\tremaining: 11.1s\n",
      "238:\tlearn: 0.5199944\ttotal: 42.7s\tremaining: 10.9s\n",
      "239:\tlearn: 0.5199869\ttotal: 42.9s\tremaining: 10.7s\n",
      "240:\tlearn: 0.5199821\ttotal: 43.1s\tremaining: 10.5s\n",
      "241:\tlearn: 0.5199691\ttotal: 43.3s\tremaining: 10.4s\n",
      "242:\tlearn: 0.5199678\ttotal: 43.5s\tremaining: 10.2s\n",
      "243:\tlearn: 0.5199536\ttotal: 43.7s\tremaining: 10s\n",
      "244:\tlearn: 0.5199400\ttotal: 43.8s\tremaining: 9.84s\n",
      "245:\tlearn: 0.5199378\ttotal: 44s\tremaining: 9.65s\n",
      "246:\tlearn: 0.5199333\ttotal: 44.1s\tremaining: 9.47s\n",
      "247:\tlearn: 0.5199265\ttotal: 44.3s\tremaining: 9.28s\n",
      "248:\tlearn: 0.5199238\ttotal: 44.4s\tremaining: 9.1s\n",
      "249:\tlearn: 0.5199190\ttotal: 44.6s\tremaining: 8.93s\n",
      "250:\tlearn: 0.5199118\ttotal: 44.9s\tremaining: 8.76s\n",
      "251:\tlearn: 0.5198941\ttotal: 45.1s\tremaining: 8.59s\n",
      "252:\tlearn: 0.5198917\ttotal: 45.2s\tremaining: 8.4s\n",
      "253:\tlearn: 0.5198837\ttotal: 45.3s\tremaining: 8.21s\n",
      "254:\tlearn: 0.5198731\ttotal: 45.5s\tremaining: 8.03s\n",
      "255:\tlearn: 0.5198678\ttotal: 45.7s\tremaining: 7.85s\n",
      "256:\tlearn: 0.5198585\ttotal: 45.8s\tremaining: 7.67s\n",
      "257:\tlearn: 0.5198287\ttotal: 46s\tremaining: 7.49s\n",
      "258:\tlearn: 0.5198095\ttotal: 46.2s\tremaining: 7.31s\n",
      "259:\tlearn: 0.5198047\ttotal: 46.4s\tremaining: 7.14s\n",
      "260:\tlearn: 0.5198012\ttotal: 46.6s\tremaining: 6.96s\n",
      "261:\tlearn: 0.5198007\ttotal: 46.7s\tremaining: 6.78s\n",
      "262:\tlearn: 0.5197972\ttotal: 47s\tremaining: 6.61s\n",
      "263:\tlearn: 0.5197753\ttotal: 47.2s\tremaining: 6.43s\n",
      "264:\tlearn: 0.5197735\ttotal: 47.4s\tremaining: 6.26s\n",
      "265:\tlearn: 0.5197653\ttotal: 47.6s\tremaining: 6.08s\n",
      "266:\tlearn: 0.5197461\ttotal: 47.7s\tremaining: 5.9s\n",
      "267:\tlearn: 0.5197284\ttotal: 47.9s\tremaining: 5.72s\n",
      "268:\tlearn: 0.5197239\ttotal: 48.1s\tremaining: 5.54s\n",
      "269:\tlearn: 0.5197221\ttotal: 48.3s\tremaining: 5.36s\n",
      "270:\tlearn: 0.5197048\ttotal: 48.5s\tremaining: 5.19s\n",
      "271:\tlearn: 0.5196943\ttotal: 48.7s\tremaining: 5.01s\n",
      "272:\tlearn: 0.5196918\ttotal: 48.9s\tremaining: 4.84s\n",
      "273:\tlearn: 0.5196875\ttotal: 49.1s\tremaining: 4.66s\n",
      "274:\tlearn: 0.5196718\ttotal: 49.3s\tremaining: 4.48s\n",
      "275:\tlearn: 0.5196624\ttotal: 49.5s\tremaining: 4.3s\n",
      "276:\tlearn: 0.5196560\ttotal: 49.7s\tremaining: 4.13s\n",
      "277:\tlearn: 0.5196446\ttotal: 49.9s\tremaining: 3.95s\n",
      "278:\tlearn: 0.5196433\ttotal: 50.1s\tremaining: 3.77s\n",
      "279:\tlearn: 0.5196358\ttotal: 50.3s\tremaining: 3.59s\n",
      "280:\tlearn: 0.5196220\ttotal: 50.5s\tremaining: 3.41s\n",
      "281:\tlearn: 0.5196160\ttotal: 50.7s\tremaining: 3.23s\n",
      "282:\tlearn: 0.5196077\ttotal: 50.8s\tremaining: 3.05s\n",
      "283:\tlearn: 0.5195977\ttotal: 51s\tremaining: 2.88s\n",
      "284:\tlearn: 0.5195929\ttotal: 51.2s\tremaining: 2.69s\n",
      "285:\tlearn: 0.5195849\ttotal: 51.3s\tremaining: 2.51s\n",
      "286:\tlearn: 0.5195807\ttotal: 51.5s\tremaining: 2.33s\n",
      "287:\tlearn: 0.5195747\ttotal: 51.7s\tremaining: 2.15s\n",
      "288:\tlearn: 0.5195668\ttotal: 51.8s\tremaining: 1.97s\n",
      "289:\tlearn: 0.5195413\ttotal: 52s\tremaining: 1.79s\n",
      "290:\tlearn: 0.5195403\ttotal: 52.2s\tremaining: 1.61s\n",
      "291:\tlearn: 0.5195391\ttotal: 52.4s\tremaining: 1.44s\n",
      "292:\tlearn: 0.5195380\ttotal: 52.6s\tremaining: 1.25s\n",
      "293:\tlearn: 0.5195346\ttotal: 52.8s\tremaining: 1.08s\n",
      "294:\tlearn: 0.5195259\ttotal: 52.9s\tremaining: 897ms\n",
      "295:\tlearn: 0.5195154\ttotal: 53.1s\tremaining: 717ms\n",
      "296:\tlearn: 0.5195133\ttotal: 53.3s\tremaining: 538ms\n",
      "297:\tlearn: 0.5195012\ttotal: 53.5s\tremaining: 359ms\n",
      "298:\tlearn: 0.5194941\ttotal: 53.7s\tremaining: 180ms\n",
      "299:\tlearn: 0.5194848\ttotal: 53.8s\tremaining: 0us\n"
     ]
    }
   ],
   "source": [
    "from catboost import CatBoostClassifier\n",
    "# Initialize data\n",
    "\n",
    "cat_features = [1,4,6,10]\n",
    "\n",
    "# Initialize CatBoostClassifier\n",
    "model = CatBoostClassifier(iterations=300,\n",
    "                           learning_rate = 0.69,\n",
    "                           depth=3)\n",
    "\n",
    "# Fit model\n",
    "model.fit(X_train, y_train, cat_features)\n",
    "\n",
    "# # Get predicted classes\n",
    "preds_class = model.predict(X_test)\n",
    "# Get predicted probabilities for each class\n",
    "preds_proba = model.predict_proba(X_test)"
   ]
  },
  {
   "cell_type": "code",
   "execution_count": 1581,
   "metadata": {},
   "outputs": [
    {
     "name": "stdout",
     "output_type": "stream",
     "text": [
      "ACCURACY = 0.8229475062628103\n",
      "ROC-AUC = 0.8256624056542902\n"
     ]
    }
   ],
   "source": [
    "from sklearn.metrics import accuracy_score, roc_auc_score\n",
    "print(\"ACCURACY = {}\".format(accuracy_score(y_test, preds_class)))\n",
    "print(\"ROC-AUC = {}\".format(roc_auc_score(y_test, preds_proba[:,1])))"
   ]
  },
  {
   "cell_type": "code",
   "execution_count": 1583,
   "metadata": {},
   "outputs": [],
   "source": [
    "data = pd.read_csv('test_nolabel.tsv', sep = '\\t')\n",
    "\n",
    "proba= model.predict_proba(test)\n",
    "\n",
    "product_id = data['product_id'].values\n",
    "data = pd.DataFrame.from_dict({'product_id' : product_id, 'score' : proba[:, 1]})\n",
    "data.to_csv('./to_submit', sep = ',', index = False)\n"
   ]
  },
  {
   "cell_type": "code",
   "execution_count": null,
   "metadata": {},
   "outputs": [],
   "source": []
  },
  {
   "cell_type": "code",
   "execution_count": null,
   "metadata": {},
   "outputs": [],
   "source": []
  }
 ],
 "metadata": {
  "kernelspec": {
   "display_name": "Python 3",
   "language": "python",
   "name": "python3"
  },
  "language_info": {
   "codemirror_mode": {
    "name": "ipython",
    "version": 3
   },
   "file_extension": ".py",
   "mimetype": "text/x-python",
   "name": "python",
   "nbconvert_exporter": "python",
   "pygments_lexer": "ipython3",
   "version": "3.7.2"
  },
  "toc": {
   "base_numbering": 1,
   "nav_menu": {},
   "number_sections": true,
   "sideBar": true,
   "skip_h1_title": false,
   "title_cell": "Table of Contents",
   "title_sidebar": "Contents",
   "toc_cell": false,
   "toc_position": {},
   "toc_section_display": true,
   "toc_window_display": false
  }
 },
 "nbformat": 4,
 "nbformat_minor": 2
}
