{
 "cells": [
  {
   "cell_type": "markdown",
   "metadata": {
    "colab_type": "text",
    "id": "vIiMbewWi2FP"
   },
   "source": [
    "<h1><center>Data Analysis</center></h1>\n",
    "<h2><center>Kaggle report notebook</center></h2>"
   ]
  },
  {
   "cell_type": "code",
   "execution_count": 0,
   "metadata": {
    "colab": {},
    "colab_type": "code",
    "id": "3yfXTMRzi2Ff"
   },
   "outputs": [],
   "source": [
    "import pandas as pd\n",
    "import numpy as np\n",
    "import matplotlib.pyplot as plt\n",
    "import scipy\n",
    "\n",
    "from sklearn.model_selection import train_test_split\n",
    "from sklearn.metrics import roc_auc_score\n",
    "from sklearn.tree import DecisionTreeClassifier\n",
    "from sklearn.ensemble import GradientBoostingClassifier\n",
    "from sklearn.ensemble import RandomForestClassifier\n",
    "from sklearn.ensemble import AdaBoostClassifier\n",
    "from sklearn.ensemble import BaggingClassifier\n",
    "\n",
    "%matplotlib inline\n",
    "\n",
    "plt.style.use('ggplot')\n",
    "plt.rcParams['figure.figsize'] = (12,8)"
   ]
  },
  {
   "cell_type": "markdown",
   "metadata": {
    "colab_type": "text",
    "id": "XiCNbGjui2Gl"
   },
   "source": [
    "# Introduce yourself"
   ]
  },
  {
   "cell_type": "markdown",
   "metadata": {
    "colab_type": "text",
    "id": "raMzghwMi2Gu"
   },
   "source": [
    "Put your team name and team-members' names below"
   ]
  },
  {
   "cell_type": "markdown",
   "metadata": {
    "colab_type": "text",
    "id": "Egyd58o2i2Gz"
   },
   "source": [
    "I AM THE GREATEST (NO) / Aleksandr Toptunov"
   ]
  },
  {
   "cell_type": "markdown",
   "metadata": {
    "colab_type": "text",
    "id": "W-1qzkIQi2Hq"
   },
   "source": [
    "# Task"
   ]
  },
  {
   "cell_type": "markdown",
   "metadata": {
    "colab_type": "text",
    "id": "PdFountKi2H0"
   },
   "source": [
    "In this task we are working with posts on famous russian advertisement and resell platform.\n",
    "\n",
    "Ginen information about the post and corresponding item you have to estimate its probability to be sold in 3 days.\n",
    "\n",
    "Below you will find some desirable stages of your report."
   ]
  },
  {
   "cell_type": "code",
   "execution_count": 0,
   "metadata": {
    "colab": {},
    "colab_type": "code",
    "id": "4jQVphYnUPyv"
   },
   "outputs": [],
   "source": []
  },
  {
   "cell_type": "markdown",
   "metadata": {
    "colab_type": "text",
    "id": "WxcwZ7voi2IU"
   },
   "source": [
    "# Data Loading"
   ]
  },
  {
   "cell_type": "code",
   "execution_count": 2,
   "metadata": {
    "colab": {
     "base_uri": "https://localhost:8080/",
     "height": 122
    },
    "colab_type": "code",
    "id": "sGYRj-G9i-lQ",
    "outputId": "a9a5022a-4b3c-4355-a077-870cd5066ee5"
   },
   "outputs": [
    {
     "name": "stdout",
     "output_type": "stream",
     "text": [
      "Go to this URL in a browser: https://accounts.google.com/o/oauth2/auth?client_id=947318989803-6bn6qk8qdgf4n4g3pfee6491hc0brc4i.apps.googleusercontent.com&redirect_uri=urn%3Aietf%3Awg%3Aoauth%3A2.0%3Aoob&scope=email%20https%3A%2F%2Fwww.googleapis.com%2Fauth%2Fdocs.test%20https%3A%2F%2Fwww.googleapis.com%2Fauth%2Fdrive%20https%3A%2F%2Fwww.googleapis.com%2Fauth%2Fdrive.photos.readonly%20https%3A%2F%2Fwww.googleapis.com%2Fauth%2Fpeopleapi.readonly&response_type=code\n",
      "\n",
      "Enter your authorization code:\n",
      "··········\n",
      "Mounted at /content/drive\n"
     ]
    }
   ],
   "source": [
    "from google.colab import drive\n",
    "drive.mount('/content/drive')\n"
   ]
  },
  {
   "cell_type": "code",
   "execution_count": 0,
   "metadata": {
    "colab": {},
    "colab_type": "code",
    "id": "3a5jk5wFi2Ig"
   },
   "outputs": [],
   "source": [
    "df_train = pd.read_csv('drive/My Drive/data/train.tsv.gz', sep='\\t', index_col=0)\n",
    "df_test = pd.read_csv('drive/My Drive/data/test.tsv.gz', sep='\\t', index_col=0)"
   ]
  },
  {
   "cell_type": "code",
   "execution_count": 4,
   "metadata": {
    "colab": {
     "base_uri": "https://localhost:8080/",
     "height": 102
    },
    "colab_type": "code",
    "id": "IacRnrC2i2JF",
    "outputId": "a65cc1dc-9ea6-441c-9ea4-705e7d3e79af"
   },
   "outputs": [
    {
     "data": {
      "text/plain": [
       "Index(['category_id', 'city', 'date_created', 'delivery_available',\n",
       "       'desc_text', 'img_num', 'lat', 'long', 'name_text', 'owner_id',\n",
       "       'payment_available', 'price', 'product_id', 'product_type',\n",
       "       'properties', 'region', 'sold_mode', 'subcategory_id', 'sold_fast'],\n",
       "      dtype='object')"
      ]
     },
     "execution_count": 4,
     "metadata": {
      "tags": []
     },
     "output_type": "execute_result"
    }
   ],
   "source": [
    "df_train.columns"
   ]
  },
  {
   "cell_type": "code",
   "execution_count": 5,
   "metadata": {
    "colab": {
     "base_uri": "https://localhost:8080/",
     "height": 513
    },
    "colab_type": "code",
    "id": "vZLQLMNWi2J4",
    "outputId": "be3d1d12-91d5-4f38-d847-13ff6bd5e2e3"
   },
   "outputs": [
    {
     "data": {
      "text/html": [
       "<div>\n",
       "<style scoped>\n",
       "    .dataframe tbody tr th:only-of-type {\n",
       "        vertical-align: middle;\n",
       "    }\n",
       "\n",
       "    .dataframe tbody tr th {\n",
       "        vertical-align: top;\n",
       "    }\n",
       "\n",
       "    .dataframe thead th {\n",
       "        text-align: right;\n",
       "    }\n",
       "</style>\n",
       "<table border=\"1\" class=\"dataframe\">\n",
       "  <thead>\n",
       "    <tr style=\"text-align: right;\">\n",
       "      <th></th>\n",
       "      <th>category_id</th>\n",
       "      <th>city</th>\n",
       "      <th>date_created</th>\n",
       "      <th>delivery_available</th>\n",
       "      <th>desc_text</th>\n",
       "      <th>img_num</th>\n",
       "      <th>lat</th>\n",
       "      <th>long</th>\n",
       "      <th>name_text</th>\n",
       "      <th>owner_id</th>\n",
       "      <th>payment_available</th>\n",
       "      <th>price</th>\n",
       "      <th>product_id</th>\n",
       "      <th>product_type</th>\n",
       "      <th>properties</th>\n",
       "      <th>region</th>\n",
       "      <th>sold_mode</th>\n",
       "      <th>subcategory_id</th>\n",
       "      <th>sold_fast</th>\n",
       "    </tr>\n",
       "  </thead>\n",
       "  <tbody>\n",
       "    <tr>\n",
       "      <th>1</th>\n",
       "      <td>4</td>\n",
       "      <td>Краснодар</td>\n",
       "      <td>2018-10-08</td>\n",
       "      <td>False</td>\n",
       "      <td>Продаю стол раскладной, деревянный, советский ...</td>\n",
       "      <td>3</td>\n",
       "      <td>45.0686</td>\n",
       "      <td>38.9518</td>\n",
       "      <td>Стол</td>\n",
       "      <td>4ce583fe8231a0cc4a3c7d241c7d0289</td>\n",
       "      <td>True</td>\n",
       "      <td>500.0</td>\n",
       "      <td>8cb80c05c65c210275f5500779d6b593</td>\n",
       "      <td>1</td>\n",
       "      <td>[{'slug_id': 'stoly_stulya_tip', 'slug_name': ...</td>\n",
       "      <td>Краснодарский край</td>\n",
       "      <td>1</td>\n",
       "      <td>410</td>\n",
       "      <td>1</td>\n",
       "    </tr>\n",
       "    <tr>\n",
       "      <th>2</th>\n",
       "      <td>4</td>\n",
       "      <td>Тюмень</td>\n",
       "      <td>2018-06-18</td>\n",
       "      <td>False</td>\n",
       "      <td>Тарелки глубокие 6 шт. Блюдца, чашки по 6 шт. ...</td>\n",
       "      <td>2</td>\n",
       "      <td>57.1840</td>\n",
       "      <td>65.5674</td>\n",
       "      <td>Посуда</td>\n",
       "      <td>e58be2c8f143c17246dc2243b5d3b98f</td>\n",
       "      <td>False</td>\n",
       "      <td>300.0</td>\n",
       "      <td>3b7a9f8b27a53b63525f95bc8070abb2</td>\n",
       "      <td>1</td>\n",
       "      <td>[{'slug_id': 'dom_dacha_posuda_tip', 'slug_nam...</td>\n",
       "      <td>Тюменская область</td>\n",
       "      <td>1</td>\n",
       "      <td>405</td>\n",
       "      <td>0</td>\n",
       "    </tr>\n",
       "    <tr>\n",
       "      <th>4</th>\n",
       "      <td>9</td>\n",
       "      <td>Омск</td>\n",
       "      <td>2018-07-31</td>\n",
       "      <td>True</td>\n",
       "      <td>Новый,с этикеткой. Размер L. Не подошёл по раз...</td>\n",
       "      <td>1</td>\n",
       "      <td>54.9889</td>\n",
       "      <td>73.4312</td>\n",
       "      <td>Костюм</td>\n",
       "      <td>51b408796027214232532b7e478e2159</td>\n",
       "      <td>True</td>\n",
       "      <td>1100.0</td>\n",
       "      <td>c97dd9c5a3e938c52cf5d7822bc0eb7b</td>\n",
       "      <td>1</td>\n",
       "      <td>[{'slug_id': 'zhenskaya_odezhda_pidzhaki_kosty...</td>\n",
       "      <td>Омская область</td>\n",
       "      <td>1</td>\n",
       "      <td>908</td>\n",
       "      <td>0</td>\n",
       "    </tr>\n",
       "    <tr>\n",
       "      <th>6</th>\n",
       "      <td>3</td>\n",
       "      <td>Санкт-Петербург</td>\n",
       "      <td>2018-04-17</td>\n",
       "      <td>False</td>\n",
       "      <td>Складывается тростью, все колеса вниз. Сплошна...</td>\n",
       "      <td>4</td>\n",
       "      <td>59.9590</td>\n",
       "      <td>30.4877</td>\n",
       "      <td>Коляска</td>\n",
       "      <td>6544b83acbbf04439a7ba983093cafb4</td>\n",
       "      <td>True</td>\n",
       "      <td>5000.0</td>\n",
       "      <td>3e5d0286b25fd7f62f88bc436a59ae4e</td>\n",
       "      <td>1</td>\n",
       "      <td>[{'slug_id': 'waggon_type', 'slug_name': 'Тип'...</td>\n",
       "      <td>Ленинградская область</td>\n",
       "      <td>1</td>\n",
       "      <td>312</td>\n",
       "      <td>0</td>\n",
       "    </tr>\n",
       "    <tr>\n",
       "      <th>10</th>\n",
       "      <td>5</td>\n",
       "      <td>Москва</td>\n",
       "      <td>2018-02-09</td>\n",
       "      <td>False</td>\n",
       "      <td>Неразлучники, птичкам по 1,5 года. Продаю с бо...</td>\n",
       "      <td>2</td>\n",
       "      <td>55.6473</td>\n",
       "      <td>37.4118</td>\n",
       "      <td>Волнистые попугаи</td>\n",
       "      <td>ea575e28daf1f47bfce63015cd3ce5cf</td>\n",
       "      <td>True</td>\n",
       "      <td>2000.0</td>\n",
       "      <td>57b4a8679d0d3eb1e31367b57221098f</td>\n",
       "      <td>1</td>\n",
       "      <td>[]</td>\n",
       "      <td>Московская область</td>\n",
       "      <td>1</td>\n",
       "      <td>504</td>\n",
       "      <td>0</td>\n",
       "    </tr>\n",
       "  </tbody>\n",
       "</table>\n",
       "</div>"
      ],
      "text/plain": [
       "    category_id             city  ... subcategory_id  sold_fast\n",
       "1             4        Краснодар  ...            410          1\n",
       "2             4           Тюмень  ...            405          0\n",
       "4             9             Омск  ...            908          0\n",
       "6             3  Санкт-Петербург  ...            312          0\n",
       "10            5           Москва  ...            504          0\n",
       "\n",
       "[5 rows x 19 columns]"
      ]
     },
     "execution_count": 5,
     "metadata": {
      "tags": []
     },
     "output_type": "execute_result"
    }
   ],
   "source": [
    "df_train.head()"
   ]
  },
  {
   "cell_type": "code",
   "execution_count": 6,
   "metadata": {
    "colab": {
     "base_uri": "https://localhost:8080/",
     "height": 34
    },
    "colab_type": "code",
    "id": "uFGZ_XYXi2Kg",
    "outputId": "8a000ddc-bd99-40a8-abc8-a320a8179492"
   },
   "outputs": [
    {
     "data": {
      "text/plain": [
       "(81080, 19)"
      ]
     },
     "execution_count": 6,
     "metadata": {
      "tags": []
     },
     "output_type": "execute_result"
    }
   ],
   "source": [
    "df_train[df_train['sold_fast'] == 1].shape"
   ]
  },
  {
   "cell_type": "code",
   "execution_count": 0,
   "metadata": {
    "colab": {},
    "colab_type": "code",
    "id": "XkPGbtZ6i2LC"
   },
   "outputs": [],
   "source": [
    "X = df_train.drop(columns='sold_fast')\n",
    "y = df_train['sold_fast']"
   ]
  },
  {
   "cell_type": "code",
   "execution_count": 8,
   "metadata": {
    "colab": {
     "base_uri": "https://localhost:8080/",
     "height": 513
    },
    "colab_type": "code",
    "id": "HJ0IQcT7i2Lg",
    "outputId": "e8b06903-a401-4d40-c341-a22c605a420d"
   },
   "outputs": [
    {
     "data": {
      "text/html": [
       "<div>\n",
       "<style scoped>\n",
       "    .dataframe tbody tr th:only-of-type {\n",
       "        vertical-align: middle;\n",
       "    }\n",
       "\n",
       "    .dataframe tbody tr th {\n",
       "        vertical-align: top;\n",
       "    }\n",
       "\n",
       "    .dataframe thead th {\n",
       "        text-align: right;\n",
       "    }\n",
       "</style>\n",
       "<table border=\"1\" class=\"dataframe\">\n",
       "  <thead>\n",
       "    <tr style=\"text-align: right;\">\n",
       "      <th></th>\n",
       "      <th>category_id</th>\n",
       "      <th>city</th>\n",
       "      <th>date_created</th>\n",
       "      <th>delivery_available</th>\n",
       "      <th>desc_text</th>\n",
       "      <th>img_num</th>\n",
       "      <th>lat</th>\n",
       "      <th>long</th>\n",
       "      <th>name_text</th>\n",
       "      <th>owner_id</th>\n",
       "      <th>payment_available</th>\n",
       "      <th>price</th>\n",
       "      <th>product_id</th>\n",
       "      <th>product_type</th>\n",
       "      <th>properties</th>\n",
       "      <th>region</th>\n",
       "      <th>sold_mode</th>\n",
       "      <th>subcategory_id</th>\n",
       "    </tr>\n",
       "  </thead>\n",
       "  <tbody>\n",
       "    <tr>\n",
       "      <th>1</th>\n",
       "      <td>4</td>\n",
       "      <td>Краснодар</td>\n",
       "      <td>2018-10-08</td>\n",
       "      <td>False</td>\n",
       "      <td>Продаю стол раскладной, деревянный, советский ...</td>\n",
       "      <td>3</td>\n",
       "      <td>45.0686</td>\n",
       "      <td>38.9518</td>\n",
       "      <td>Стол</td>\n",
       "      <td>4ce583fe8231a0cc4a3c7d241c7d0289</td>\n",
       "      <td>True</td>\n",
       "      <td>500.0</td>\n",
       "      <td>8cb80c05c65c210275f5500779d6b593</td>\n",
       "      <td>1</td>\n",
       "      <td>[{'slug_id': 'stoly_stulya_tip', 'slug_name': ...</td>\n",
       "      <td>Краснодарский край</td>\n",
       "      <td>1</td>\n",
       "      <td>410</td>\n",
       "    </tr>\n",
       "    <tr>\n",
       "      <th>2</th>\n",
       "      <td>4</td>\n",
       "      <td>Тюмень</td>\n",
       "      <td>2018-06-18</td>\n",
       "      <td>False</td>\n",
       "      <td>Тарелки глубокие 6 шт. Блюдца, чашки по 6 шт. ...</td>\n",
       "      <td>2</td>\n",
       "      <td>57.1840</td>\n",
       "      <td>65.5674</td>\n",
       "      <td>Посуда</td>\n",
       "      <td>e58be2c8f143c17246dc2243b5d3b98f</td>\n",
       "      <td>False</td>\n",
       "      <td>300.0</td>\n",
       "      <td>3b7a9f8b27a53b63525f95bc8070abb2</td>\n",
       "      <td>1</td>\n",
       "      <td>[{'slug_id': 'dom_dacha_posuda_tip', 'slug_nam...</td>\n",
       "      <td>Тюменская область</td>\n",
       "      <td>1</td>\n",
       "      <td>405</td>\n",
       "    </tr>\n",
       "    <tr>\n",
       "      <th>4</th>\n",
       "      <td>9</td>\n",
       "      <td>Омск</td>\n",
       "      <td>2018-07-31</td>\n",
       "      <td>True</td>\n",
       "      <td>Новый,с этикеткой. Размер L. Не подошёл по раз...</td>\n",
       "      <td>1</td>\n",
       "      <td>54.9889</td>\n",
       "      <td>73.4312</td>\n",
       "      <td>Костюм</td>\n",
       "      <td>51b408796027214232532b7e478e2159</td>\n",
       "      <td>True</td>\n",
       "      <td>1100.0</td>\n",
       "      <td>c97dd9c5a3e938c52cf5d7822bc0eb7b</td>\n",
       "      <td>1</td>\n",
       "      <td>[{'slug_id': 'zhenskaya_odezhda_pidzhaki_kosty...</td>\n",
       "      <td>Омская область</td>\n",
       "      <td>1</td>\n",
       "      <td>908</td>\n",
       "    </tr>\n",
       "    <tr>\n",
       "      <th>6</th>\n",
       "      <td>3</td>\n",
       "      <td>Санкт-Петербург</td>\n",
       "      <td>2018-04-17</td>\n",
       "      <td>False</td>\n",
       "      <td>Складывается тростью, все колеса вниз. Сплошна...</td>\n",
       "      <td>4</td>\n",
       "      <td>59.9590</td>\n",
       "      <td>30.4877</td>\n",
       "      <td>Коляска</td>\n",
       "      <td>6544b83acbbf04439a7ba983093cafb4</td>\n",
       "      <td>True</td>\n",
       "      <td>5000.0</td>\n",
       "      <td>3e5d0286b25fd7f62f88bc436a59ae4e</td>\n",
       "      <td>1</td>\n",
       "      <td>[{'slug_id': 'waggon_type', 'slug_name': 'Тип'...</td>\n",
       "      <td>Ленинградская область</td>\n",
       "      <td>1</td>\n",
       "      <td>312</td>\n",
       "    </tr>\n",
       "    <tr>\n",
       "      <th>10</th>\n",
       "      <td>5</td>\n",
       "      <td>Москва</td>\n",
       "      <td>2018-02-09</td>\n",
       "      <td>False</td>\n",
       "      <td>Неразлучники, птичкам по 1,5 года. Продаю с бо...</td>\n",
       "      <td>2</td>\n",
       "      <td>55.6473</td>\n",
       "      <td>37.4118</td>\n",
       "      <td>Волнистые попугаи</td>\n",
       "      <td>ea575e28daf1f47bfce63015cd3ce5cf</td>\n",
       "      <td>True</td>\n",
       "      <td>2000.0</td>\n",
       "      <td>57b4a8679d0d3eb1e31367b57221098f</td>\n",
       "      <td>1</td>\n",
       "      <td>[]</td>\n",
       "      <td>Московская область</td>\n",
       "      <td>1</td>\n",
       "      <td>504</td>\n",
       "    </tr>\n",
       "  </tbody>\n",
       "</table>\n",
       "</div>"
      ],
      "text/plain": [
       "    category_id             city  ... sold_mode  subcategory_id\n",
       "1             4        Краснодар  ...         1             410\n",
       "2             4           Тюмень  ...         1             405\n",
       "4             9             Омск  ...         1             908\n",
       "6             3  Санкт-Петербург  ...         1             312\n",
       "10            5           Москва  ...         1             504\n",
       "\n",
       "[5 rows x 18 columns]"
      ]
     },
     "execution_count": 8,
     "metadata": {
      "tags": []
     },
     "output_type": "execute_result"
    }
   ],
   "source": [
    "X.head()"
   ]
  },
  {
   "cell_type": "markdown",
   "metadata": {
    "colab_type": "text",
    "id": "nA0ie_Cvi2ST"
   },
   "source": [
    "# Descriptive Data Analysis\n",
    "\n",
    "* Analyze train dataset features\n",
    "    * Provide some meaningfull description about corresponding features (in form of pictures or some coefficients)\n",
    "    * Outline any findings you are able to reveal\n",
    "* Try to measure analyse any correspondense between features and target features"
   ]
  },
  {
   "cell_type": "code",
   "execution_count": 0,
   "metadata": {
    "colab": {},
    "colab_type": "code",
    "id": "Dcrmv7ayFW_n"
   },
   "outputs": [],
   "source": []
  },
  {
   "cell_type": "markdown",
   "metadata": {
    "colab_type": "text",
    "id": "gC8uHW6MFoy5"
   },
   "source": [
    "# Machine-learning pipeline and prediction"
   ]
  },
  {
   "cell_type": "markdown",
   "metadata": {
    "colab_type": "text",
    "id": "hdhrfEv1FozC"
   },
   "source": [
    "Here you develop your pipeline, generate features for train and test sets\n",
    "* Your pipeline should be reproducible - make sure you set all `random_states` if needed"
   ]
  },
  {
   "cell_type": "markdown",
   "metadata": {
    "colab_type": "text",
    "id": "zlbcUnvLFtVw"
   },
   "source": [
    "Лучшее решение выглядело так:\n",
    "Я сначала обрабаывал весь Х, потом его сплитил на трейн и тест (для итоговой послыки обучался на всем датасете)\n",
    "\n",
    "Я выкинул все нечисленные признаки + широту и долготу и добавил как фичи \n",
    "- месяц и день\n",
    "- длину и количество слов в тексте описания\n",
    "- длина наименования товара\n",
    "- факт наличия пропертей и их количество\n",
    "- количество товаров из данного региона\n",
    "\n",
    "Такая обработка была придумана 2.5 недели назад, и впоследствии я посчитал какие-то признаки ненужными (как день или факт наличия пропертей, а также id категории - последние два дублируют, соответственно, количество проперте и id субкатегории), но об этом я расскажу в менее удачных моделях"
   ]
  },
  {
   "cell_type": "code",
   "execution_count": 0,
   "metadata": {
    "colab": {},
    "colab_type": "code",
    "id": "TSHAdGQPi2MB"
   },
   "outputs": [],
   "source": [
    "import json\n",
    "\n",
    "def prepareX(X):\n",
    "  columns_with_text = ['city', 'date_created', 'desc_text', 'name_text', 'lat', 'long', 'owner_id', 'product_id', 'properties', 'region']\n",
    "  X_prep = X.copy()\n",
    "  #X.columns.append(['date_year', 'date_month', 'date_day'])\n",
    "  #X_prep['date_year'] = X['date_created'].str[:4].astype(int)\n",
    "  X_prep['date_month'] = X['date_created'].str[5:7].astype(int)\n",
    "  X_prep['date_day'] = X['date_created'].str[8:10].astype(int)\n",
    "  X_prep['desc_text_length'] = X['desc_text'].str.len()\n",
    "  X_prep['desc_text_num_of_words'] = X['desc_text'].str.split().map(lambda x: len(x))\n",
    "  X_prep['name_text_length'] = X['name_text'].str.len()\n",
    "  X_prep['has_properties'] = X['properties'].map(lambda x: len(x) > 2)\n",
    "  X_prep['num_properties'] = X['properties'].map(lambda x: x.count('}'))\n",
    " \n",
    "  regs = pd.get_dummies(X_prep['region'])\n",
    "  count = len(regs.columns)\n",
    "  bad_cols = []\n",
    "  regs['size_region'] = 0\n",
    "  for col in regs.columns:\n",
    "    if col is not 'size_region':# and len(regs[regs[col] == 1]) < 2 * regs.shape[0] / count:\n",
    "      bad_cols.append(col)\n",
    "      regs.size_region[regs[col] == 1] = len(regs[regs[col] == 1])\n",
    "  regs = regs.drop(columns=bad_cols)   \n",
    "  \n",
    "  X_prep = X_prep.join(regs) \n",
    "  X_prep = X_prep.drop(columns=columns_with_text)\n",
    "  return X_prep"
   ]
  },
  {
   "cell_type": "code",
   "execution_count": 12,
   "metadata": {
    "colab": {
     "base_uri": "https://localhost:8080/",
     "height": 54
    },
    "colab_type": "code",
    "id": "o7PFOY4iXc-8",
    "outputId": "35eec5c6-3bbd-4bb4-9f48-a2a6ec49fd1e"
   },
   "outputs": [
    {
     "name": "stdout",
     "output_type": "stream",
     "text": [
      "{'Абинск': 1, 'Адыгея': 941, 'Алтайский край': 5148, 'Амурская область': 1617, 'Архангельская область': 1800, 'Асбест': 1, 'Астраханская область': 1910, 'Астрахань': 2, 'Башкортостан': 7848, 'Белгородская область': 1948, 'Биокомбината': 1, 'Бор': 1, 'Брянская область': 1180, 'Владимирская область': 2247, 'Волгоград': 5, 'Волгоградская область': 3822, 'Вологодская область': 2432, 'Воронеж': 2, 'Воронежская область': 3388, 'Дагестан': 1486, 'Дубна': 1, 'Еврейская автономная область': 303, 'Забайкальский край': 1211, 'Иваново': 1, 'Ивановская область': 3242, 'Ингушетия': 19, 'Иркутская область': 4837, 'Кабардино-Балкария': 377, 'Казань': 2, 'Калининградская область': 1983, 'Калмыкия': 33, 'Калужская область': 1773, 'Камчатский край': 440, 'Карачаево-Черкесия': 160, 'Кемеровская область': 6472, 'Кировск': 1, 'Кировская область': 2478, 'Костромская область': 1420, 'Краснодарский край': 18994, 'Красноярск': 2, 'Красноярский край': 11116, 'Красный Кут': 1, 'Курган': 2, 'Курганская область': 843, 'Курская область': 1370, 'Ленинградская область': 23656, 'Липецкая область': 1456, 'Магаданская область': 623, 'Марий Эл': 584, 'Мордовия': 613, 'Московская область': 76281, 'Мурманская область': 1094, 'Ненецкий автономный округ': 82, 'Нижегородская область': 5723, 'Новгородская область': 766, 'Новосибирская область': 11476, 'Омская область': 4160, 'Оренбург': 1, 'Оренбургская область': 4349, 'Орловская область': 829, 'Пенза': 1, 'Пензенская область': 3740, 'Пермский край': 5936, 'Приморский край': 4580, 'Псковская область': 657, 'Пушкино': 1, 'Республика Алтай': 124, 'Республика Бурятия': 924, 'Республика Карелия': 955, 'Республика Коми': 790, 'Республика Крым': 2002, 'Республика Саха (Якутия)': 4995, 'Республика Тыва': 68, 'Республика Хакасия': 1066, 'Ржев': 1, 'Россия': 31, 'Ростовская область': 8471, 'Рязанская область': 1443, 'Рязань': 1, 'Самарская область': 6565, 'Саратовская область': 5271, 'Сахалинская область': 1236, 'Свердловская область': 17258, 'Северная Осетия': 595, 'Смоленская область': 1294, 'Ставропольский край': 4839, 'Сысерть': 1, 'Тамбовская область': 1168, 'Татарстан': 7555, 'Тверская область': 1613, 'Томск': 1, 'Томская область': 4347, 'Тульская область': 2194, 'Тюменская область': 6551, 'Тюмень': 1, 'Удмуртия': 2777, 'Ульяновская область': 1606, 'Уфа': 1, 'Хабаровск': 2, 'Хабаровский край': 5279, 'Ханты-Мансийский автономный округ - Югра': 5095, 'Челябинск': 1, 'Челябинская область': 9789, 'Череповец': 1, 'Чечня': 160, 'Чувашия': 1882, 'Электросталь': 1, 'Ямало-Ненецкий автономный округ': 992, 'Ярославская область': 2866}\n"
     ]
    }
   ],
   "source": [
    "# Для подстановки в тестовый датасет\n",
    "regs = pd.get_dummies(X['region'])\n",
    "regions_mapa = {}\n",
    "for col in regs.columns:\n",
    "  regions_mapa[col] = len(regs[regs[col] == 1])\n",
    "  \n",
    "print(regions_mapa)"
   ]
  },
  {
   "cell_type": "code",
   "execution_count": 13,
   "metadata": {
    "colab": {
     "base_uri": "https://localhost:8080/",
     "height": 292
    },
    "colab_type": "code",
    "id": "UTvmqSOCi2Mw",
    "outputId": "22f95772-df86-4a5f-deca-d5e4dd0ba9bb"
   },
   "outputs": [
    {
     "name": "stderr",
     "output_type": "stream",
     "text": [
      "/usr/local/lib/python3.6/dist-packages/ipykernel_launcher.py:23: SettingWithCopyWarning: \n",
      "A value is trying to be set on a copy of a slice from a DataFrame\n",
      "\n",
      "See the caveats in the documentation: http://pandas.pydata.org/pandas-docs/stable/indexing.html#indexing-view-versus-copy\n"
     ]
    },
    {
     "data": {
      "text/html": [
       "<div>\n",
       "<style scoped>\n",
       "    .dataframe tbody tr th:only-of-type {\n",
       "        vertical-align: middle;\n",
       "    }\n",
       "\n",
       "    .dataframe tbody tr th {\n",
       "        vertical-align: top;\n",
       "    }\n",
       "\n",
       "    .dataframe thead th {\n",
       "        text-align: right;\n",
       "    }\n",
       "</style>\n",
       "<table border=\"1\" class=\"dataframe\">\n",
       "  <thead>\n",
       "    <tr style=\"text-align: right;\">\n",
       "      <th></th>\n",
       "      <th>category_id</th>\n",
       "      <th>delivery_available</th>\n",
       "      <th>img_num</th>\n",
       "      <th>payment_available</th>\n",
       "      <th>price</th>\n",
       "      <th>product_type</th>\n",
       "      <th>sold_mode</th>\n",
       "      <th>subcategory_id</th>\n",
       "      <th>date_month</th>\n",
       "      <th>date_day</th>\n",
       "      <th>desc_text_length</th>\n",
       "      <th>desc_text_num_of_words</th>\n",
       "      <th>name_text_length</th>\n",
       "      <th>has_properties</th>\n",
       "      <th>num_properties</th>\n",
       "      <th>size_region</th>\n",
       "    </tr>\n",
       "  </thead>\n",
       "  <tbody>\n",
       "    <tr>\n",
       "      <th>1</th>\n",
       "      <td>4</td>\n",
       "      <td>False</td>\n",
       "      <td>3</td>\n",
       "      <td>True</td>\n",
       "      <td>500.0</td>\n",
       "      <td>1</td>\n",
       "      <td>1</td>\n",
       "      <td>410</td>\n",
       "      <td>10</td>\n",
       "      <td>8</td>\n",
       "      <td>107</td>\n",
       "      <td>14</td>\n",
       "      <td>4</td>\n",
       "      <td>True</td>\n",
       "      <td>1</td>\n",
       "      <td>18994</td>\n",
       "    </tr>\n",
       "    <tr>\n",
       "      <th>2</th>\n",
       "      <td>4</td>\n",
       "      <td>False</td>\n",
       "      <td>2</td>\n",
       "      <td>False</td>\n",
       "      <td>300.0</td>\n",
       "      <td>1</td>\n",
       "      <td>1</td>\n",
       "      <td>405</td>\n",
       "      <td>6</td>\n",
       "      <td>18</td>\n",
       "      <td>167</td>\n",
       "      <td>27</td>\n",
       "      <td>6</td>\n",
       "      <td>True</td>\n",
       "      <td>1</td>\n",
       "      <td>6551</td>\n",
       "    </tr>\n",
       "    <tr>\n",
       "      <th>4</th>\n",
       "      <td>9</td>\n",
       "      <td>True</td>\n",
       "      <td>1</td>\n",
       "      <td>True</td>\n",
       "      <td>1100.0</td>\n",
       "      <td>1</td>\n",
       "      <td>1</td>\n",
       "      <td>908</td>\n",
       "      <td>7</td>\n",
       "      <td>31</td>\n",
       "      <td>134</td>\n",
       "      <td>22</td>\n",
       "      <td>6</td>\n",
       "      <td>True</td>\n",
       "      <td>2</td>\n",
       "      <td>4160</td>\n",
       "    </tr>\n",
       "    <tr>\n",
       "      <th>6</th>\n",
       "      <td>3</td>\n",
       "      <td>False</td>\n",
       "      <td>4</td>\n",
       "      <td>True</td>\n",
       "      <td>5000.0</td>\n",
       "      <td>1</td>\n",
       "      <td>1</td>\n",
       "      <td>312</td>\n",
       "      <td>4</td>\n",
       "      <td>17</td>\n",
       "      <td>488</td>\n",
       "      <td>77</td>\n",
       "      <td>7</td>\n",
       "      <td>True</td>\n",
       "      <td>2</td>\n",
       "      <td>23656</td>\n",
       "    </tr>\n",
       "    <tr>\n",
       "      <th>10</th>\n",
       "      <td>5</td>\n",
       "      <td>False</td>\n",
       "      <td>2</td>\n",
       "      <td>True</td>\n",
       "      <td>2000.0</td>\n",
       "      <td>1</td>\n",
       "      <td>1</td>\n",
       "      <td>504</td>\n",
       "      <td>2</td>\n",
       "      <td>9</td>\n",
       "      <td>81</td>\n",
       "      <td>12</td>\n",
       "      <td>17</td>\n",
       "      <td>False</td>\n",
       "      <td>0</td>\n",
       "      <td>76281</td>\n",
       "    </tr>\n",
       "  </tbody>\n",
       "</table>\n",
       "</div>"
      ],
      "text/plain": [
       "    category_id  delivery_available  ...  num_properties  size_region\n",
       "1             4               False  ...               1        18994\n",
       "2             4               False  ...               1         6551\n",
       "4             9                True  ...               2         4160\n",
       "6             3               False  ...               2        23656\n",
       "10            5               False  ...               0        76281\n",
       "\n",
       "[5 rows x 16 columns]"
      ]
     },
     "execution_count": 13,
     "metadata": {
      "tags": []
     },
     "output_type": "execute_result"
    }
   ],
   "source": [
    "X_cleared = prepareX(X)\n",
    "X_cleared.head()"
   ]
  },
  {
   "cell_type": "code",
   "execution_count": 0,
   "metadata": {
    "colab": {},
    "colab_type": "code",
    "id": "R4vpcw9Yi2NW"
   },
   "outputs": [],
   "source": [
    "X_train, X_test, y_train, y_test = train_test_split(X_cleared, y, test_size=0.3, random_state=42)"
   ]
  },
  {
   "cell_type": "markdown",
   "metadata": {
    "colab_type": "text",
    "id": "hT6W8adQG_Bh"
   },
   "source": [
    "В качестве первичной проверки я обучал простенькое решающее дерево:"
   ]
  },
  {
   "cell_type": "code",
   "execution_count": 0,
   "metadata": {
    "colab": {},
    "colab_type": "code",
    "id": "dxSQKIMEi2N-"
   },
   "outputs": [],
   "source": [
    "dtc = DecisionTreeClassifier(max_depth=8, random_state=42)\n",
    "dtc.fit(X_train, y_train)\n",
    "y_pred = dtc.predict_proba(X_test)"
   ]
  },
  {
   "cell_type": "code",
   "execution_count": 16,
   "metadata": {
    "colab": {
     "base_uri": "https://localhost:8080/",
     "height": 34
    },
    "colab_type": "code",
    "id": "Z3s3W-nAi2O2",
    "outputId": "50981752-6163-45f9-e23d-35a41c650d8a"
   },
   "outputs": [
    {
     "data": {
      "text/plain": [
       "0.6078615034117298"
      ]
     },
     "execution_count": 16,
     "metadata": {
      "tags": []
     },
     "output_type": "execute_result"
    }
   ],
   "source": [
    "roc_auc_score(y_test, y_pred[:,1])"
   ]
  },
  {
   "cell_type": "code",
   "execution_count": 17,
   "metadata": {
    "colab": {
     "base_uri": "https://localhost:8080/",
     "height": 843
    },
    "colab_type": "code",
    "id": "r-ldJlcUgGJ9",
    "outputId": "a919a9e7-6262-446b-f807-fca5c1eb2882"
   },
   "outputs": [
    {
     "name": "stdout",
     "output_type": "stream",
     "text": [
      "1\n",
      "2\n",
      "3\n",
      "4\n",
      "5\n",
      "6\n",
      "7\n",
      "8\n",
      "9\n",
      "10\n",
      "11\n",
      "12\n",
      "13\n",
      "14\n",
      "15\n",
      "16\n",
      "17\n",
      "18\n",
      "19\n",
      "20\n"
     ]
    },
    {
     "data": {
      "text/plain": [
       "[<matplotlib.lines.Line2D at 0x7f87dca20320>]"
      ]
     },
     "execution_count": 17,
     "metadata": {
      "tags": []
     },
     "output_type": "execute_result"
    },
    {
     "data": {
      "image/png": "[encoded data removed]",
      "text/plain": [
       "<Figure size 864x576 with 1 Axes>"
      ]
     },
     "metadata": {
      "tags": []
     },
     "output_type": "display_data"
    }
   ],
   "source": [
    "depths = [i for i in range(1, 21)]\n",
    "\n",
    "rocs = []\n",
    "for d in depths:\n",
    "  dtc = DecisionTreeClassifier(max_depth=d, random_state=42)\n",
    "  dtc.fit(X_train, y_train)\n",
    "  y_pred = dtc.predict_proba(X_test)\n",
    "  rocs.append(roc_auc_score(y_test, y_pred[:,1]))\n",
    "  print(d)\n",
    "  \n",
    "plt.plot(depths, rocs)  "
   ]
  },
  {
   "cell_type": "markdown",
   "metadata": {
    "colab_type": "text",
    "id": "0NkzuxtIHfq0"
   },
   "source": [
    "Еще я посмотрел на поведение на разном числе естимейторов - я решил использовать градиентный бустинг, потому что он мне понравился, параметры особо не подбирал, поскольку первые модели, но в целом рейт 0.1 и глубина 4 - оптимальные параметры, судя по дальнейшим опытам"
   ]
  },
  {
   "cell_type": "code",
   "execution_count": 0,
   "metadata": {
    "colab": {
     "base_uri": "https://localhost:8080/",
     "height": 2458
    },
    "colab_type": "code",
    "id": "FpjuiTvAi2Pt",
    "outputId": "5a7e9e3c-c5bf-4de1-b354-a79bf2d00fcb"
   },
   "outputs": [
    {
     "name": "stdout",
     "output_type": "stream",
     "text": [
      "      Iter       Train Loss   Remaining Time \n",
      "         1           1.0775           37.23s\n",
      "         2           1.0745           36.50s\n",
      "         3           1.0721           35.94s\n",
      "         4           1.0698           35.63s\n",
      "         5           1.0683           35.17s\n",
      "         6           1.0667           34.75s\n",
      "         7           1.0653           34.37s\n",
      "         8           1.0639           34.20s\n",
      "         9           1.0628           33.93s\n",
      "        10           1.0618           34.01s\n",
      "        20           1.0538           33.56s\n",
      "        30           1.0494           30.32s\n",
      "        40           1.0462           26.08s\n",
      "        50           1.0438           21.43s\n",
      "        60           1.0416           16.83s\n",
      "        70           1.0402           12.45s\n",
      "        80           1.0385            8.27s\n",
      "        90           1.0372            4.08s\n",
      "       100           1.0361            0.00s\n",
      "100\n",
      "      Iter       Train Loss   Remaining Time \n",
      "         1           1.0775            1.36m\n",
      "         2           1.0745            1.33m\n",
      "         3           1.0721            1.26m\n",
      "         4           1.0698            1.25m\n",
      "         5           1.0683            1.26m\n",
      "         6           1.0667            1.26m\n",
      "         7           1.0653            1.26m\n",
      "         8           1.0639            1.24m\n",
      "         9           1.0628            1.22m\n",
      "        10           1.0618            1.21m\n",
      "        20           1.0538            1.22m\n",
      "        30           1.0494            1.20m\n",
      "        40           1.0462            1.13m\n",
      "        50           1.0438            1.05m\n",
      "        60           1.0416           58.34s\n",
      "        70           1.0402           53.56s\n",
      "        80           1.0385           49.34s\n",
      "        90           1.0372           45.15s\n",
      "       100           1.0361           40.91s\n",
      "       200           1.0279            0.00s\n",
      "200\n",
      "      Iter       Train Loss   Remaining Time \n",
      "         1           1.0775            2.03m\n",
      "         2           1.0745            1.91m\n",
      "         3           1.0721            1.89m\n",
      "         4           1.0698            1.93m\n",
      "         5           1.0683            1.92m\n",
      "         6           1.0667            1.91m\n",
      "         7           1.0653            1.89m\n",
      "         8           1.0639            1.87m\n",
      "         9           1.0628            1.87m\n",
      "        10           1.0618            1.87m\n",
      "        20           1.0538            1.90m\n",
      "        30           1.0494            1.85m\n",
      "        40           1.0462            1.79m\n",
      "        50           1.0438            1.73m\n",
      "        60           1.0416            1.65m\n",
      "        70           1.0402            1.57m\n",
      "        80           1.0385            1.50m\n",
      "        90           1.0372            1.42m\n",
      "       100           1.0361            1.35m\n",
      "       200           1.0279           39.09s\n",
      "       300           1.0225            0.00s\n",
      "300\n",
      "      Iter       Train Loss   Remaining Time \n",
      "         1           1.0775            2.61m\n",
      "         2           1.0745            2.55m\n",
      "         3           1.0721            2.62m\n",
      "         4           1.0698            2.66m\n",
      "         5           1.0683            2.66m\n",
      "         6           1.0667            2.69m\n",
      "         7           1.0653            2.65m\n",
      "         8           1.0639            2.66m\n",
      "         9           1.0628            2.67m\n",
      "        10           1.0618            2.66m\n",
      "        20           1.0538            2.76m\n",
      "        30           1.0494            2.69m\n",
      "        40           1.0462            2.60m\n",
      "        50           1.0438            2.50m\n",
      "        60           1.0416            2.40m\n",
      "        70           1.0402            2.30m\n",
      "        80           1.0385            2.22m\n",
      "        90           1.0372            2.13m\n",
      "       100           1.0361            2.04m\n",
      "       200           1.0279            1.30m\n",
      "       300           1.0225           38.64s\n",
      "       400           1.0175            0.00s\n",
      "400\n",
      "      Iter       Train Loss   Remaining Time \n",
      "         1           1.0775            3.64m\n",
      "         2           1.0745            3.45m\n",
      "         3           1.0721            3.36m\n",
      "         4           1.0698            3.26m\n",
      "         5           1.0683            3.19m\n",
      "         6           1.0667            3.20m\n",
      "         7           1.0653            3.21m\n",
      "         8           1.0639            3.21m\n",
      "         9           1.0628            3.16m\n",
      "        10           1.0618            3.13m\n",
      "        20           1.0538            3.31m\n",
      "        30           1.0494            3.38m\n",
      "        40           1.0462            3.31m\n",
      "        50           1.0438            3.21m\n",
      "        60           1.0416            3.10m\n",
      "        70           1.0402            3.00m\n",
      "        80           1.0385            2.92m\n",
      "        90           1.0372            2.82m\n",
      "       100           1.0361            2.71m\n",
      "       200           1.0279            1.95m\n",
      "       300           1.0225            1.28m\n",
      "       400           1.0175           38.18s\n",
      "       500           1.0131            0.00s\n",
      "500\n"
     ]
    },
    {
     "data": {
      "text/plain": [
       "[<matplotlib.lines.Line2D at 0x7ff1d1d96198>]"
      ]
     },
     "execution_count": 142,
     "metadata": {
      "tags": []
     },
     "output_type": "execute_result"
    },
    {
     "data": {
      "image/png": "[encoded data removed]",
      "text/plain": [
       "<Figure size 864x576 with 1 Axes>"
      ]
     },
     "metadata": {
      "tags": []
     },
     "output_type": "display_data"
    }
   ],
   "source": [
    "n_estimators = [100 * i for i in range(1, 6)]\n",
    "\n",
    "rocs = []\n",
    "for n in n_estimators:\n",
    "  gdc = GradientBoostingClassifier(n_estimators=n, learning_rate=0.1, max_features=None, subsample=1, verbose=1, max_depth=4, random_state=42)\n",
    "  gdc.fit(X_train, y_train)\n",
    "  y_pred = gdc.predict_proba(X_test)\n",
    "  rocs.append(roc_auc_score(y_test, y_pred[:,1]))\n",
    "  print(n)\n",
    "  \n",
    "plt.plot(n_estimators, rocs)  \n",
    "\n"
   ]
  },
  {
   "cell_type": "markdown",
   "metadata": {
    "colab_type": "text",
    "id": "zy5zydiCH4MR"
   },
   "source": [
    "Я решил, что хочу, чтобы рок аук на трейне не сильно превосходил рок аук на тесте, поэтому взял 300 естимейторов"
   ]
  },
  {
   "cell_type": "code",
   "execution_count": 21,
   "metadata": {
    "colab": {
     "base_uri": "https://localhost:8080/",
     "height": 391
    },
    "colab_type": "code",
    "id": "hgKA1emg8o9m",
    "outputId": "0a4e3b43-276b-4f8c-db97-cb0a1e7980f1"
   },
   "outputs": [
    {
     "name": "stdout",
     "output_type": "stream",
     "text": [
      "      Iter       Train Loss   Remaining Time \n",
      "         1           1.0775            1.84m\n",
      "         2           1.0745            1.79m\n",
      "         3           1.0721            1.78m\n",
      "         4           1.0698            1.76m\n",
      "         5           1.0683            1.75m\n",
      "         6           1.0667            1.76m\n",
      "         7           1.0653            1.76m\n",
      "         8           1.0639            1.77m\n",
      "         9           1.0628            1.77m\n",
      "        10           1.0618            1.76m\n",
      "        20           1.0538            1.80m\n",
      "        30           1.0494            1.78m\n",
      "        40           1.0462            1.72m\n",
      "        50           1.0438            1.66m\n",
      "        60           1.0416            1.58m\n",
      "        70           1.0402            1.50m\n",
      "        80           1.0385            1.44m\n",
      "        90           1.0372            1.36m\n",
      "       100           1.0361            1.28m\n",
      "       200           1.0279           37.23s\n",
      "       300           1.0225            0.00s\n"
     ]
    }
   ],
   "source": [
    "gdc = GradientBoostingClassifier(n_estimators=300, learning_rate=0.1, max_features=None, subsample=1, verbose=1, max_depth=4, random_state=42)\n",
    "gdc.fit(X_train, y_train)\n",
    "y_pred = gdc.predict_proba(X_test)"
   ]
  },
  {
   "cell_type": "code",
   "execution_count": 22,
   "metadata": {
    "colab": {
     "base_uri": "https://localhost:8080/",
     "height": 34
    },
    "colab_type": "code",
    "id": "kgVBe08ai2QT",
    "outputId": "7d6720f3-57fe-4511-e142-676ce8518ebf"
   },
   "outputs": [
    {
     "data": {
      "text/plain": [
       "0.6377047677026044"
      ]
     },
     "execution_count": 22,
     "metadata": {
      "tags": []
     },
     "output_type": "execute_result"
    }
   ],
   "source": [
    "roc_auc_score(y_test, y_pred[:, 1])"
   ]
  },
  {
   "cell_type": "code",
   "execution_count": 23,
   "metadata": {
    "colab": {
     "base_uri": "https://localhost:8080/",
     "height": 34
    },
    "colab_type": "code",
    "id": "qJ-WgA0R9T37",
    "outputId": "78209837-42f5-41fb-f3a4-db6291250514"
   },
   "outputs": [
    {
     "data": {
      "text/plain": [
       "0.6582486952362904"
      ]
     },
     "execution_count": 23,
     "metadata": {
      "tags": []
     },
     "output_type": "execute_result"
    }
   ],
   "source": [
    "roc_auc_score(y_train, gdc.predict_proba(X_train)[:,1])"
   ]
  },
  {
   "cell_type": "code",
   "execution_count": 26,
   "metadata": {
    "colab": {
     "base_uri": "https://localhost:8080/",
     "height": 289
    },
    "colab_type": "code",
    "id": "B10XcPTpTHX6",
    "outputId": "dbe0b19b-0c62-467e-d493-66977b837911"
   },
   "outputs": [
    {
     "name": "stdout",
     "output_type": "stream",
     "text": [
      "category_id 0.023370531580080126\n",
      "delivery_available 0.004127846720447129\n",
      "img_num 0.009687407716280074\n",
      "payment_available 0.004860126636358047\n",
      "price 0.22299810739892012\n",
      "product_type 0.0006411646237122516\n",
      "sold_mode 0.004801889536035648\n",
      "subcategory_id 0.38254361613405485\n",
      "date_month 0.11159546646317912\n",
      "date_day 0.08982256993779485\n",
      "desc_text_length 0.048617835120289894\n",
      "desc_text_num_of_words 0.014192513389621547\n",
      "name_text_length 0.03135747531468872\n",
      "has_properties 0.0016181003423809237\n",
      "num_properties 0.019490317875138368\n",
      "size_region 0.030275031211018405\n"
     ]
    }
   ],
   "source": [
    "for i in range(len(X_train.columns)):\n",
    "  print(X_train.columns[i], gdc.feature_importances_[i])"
   ]
  },
  {
   "cell_type": "markdown",
   "metadata": {
    "colab_type": "text",
    "id": "waaO-3tCIDQl"
   },
   "source": [
    "А это уже итоговое обучение для итоговой лучшей модели - если обучение на 0.7 выборки дало 0.61937, то обучение на всей выборке - с увеличенным числом естимейторов - дало 0.621 на паблике."
   ]
  },
  {
   "cell_type": "code",
   "execution_count": 27,
   "metadata": {
    "colab": {
     "base_uri": "https://localhost:8080/",
     "height": 408
    },
    "colab_type": "code",
    "id": "idGEgCNE9BpU",
    "outputId": "f7bad8eb-ca97-4d49-97fb-814962658b50"
   },
   "outputs": [
    {
     "name": "stdout",
     "output_type": "stream",
     "text": [
      "      Iter       Train Loss   Remaining Time \n",
      "         1           1.0768            4.16m\n",
      "         2           1.0738            4.14m\n",
      "         3           1.0714            4.00m\n",
      "         4           1.0696            3.99m\n",
      "         5           1.0678            4.00m\n",
      "         6           1.0661            3.97m\n",
      "         7           1.0646            3.98m\n",
      "         8           1.0632            3.96m\n",
      "         9           1.0621            3.95m\n",
      "        10           1.0611            3.95m\n",
      "        20           1.0533            4.05m\n",
      "        30           1.0486            3.98m\n",
      "        40           1.0452            3.89m\n",
      "        50           1.0429            3.80m\n",
      "        60           1.0411            3.71m\n",
      "        70           1.0396            3.59m\n",
      "        80           1.0384            3.44m\n",
      "        90           1.0371            3.32m\n",
      "       100           1.0361            3.21m\n",
      "       200           1.0291            2.07m\n",
      "       300           1.0244            1.02m\n",
      "       400           1.0206            0.00s\n"
     ]
    }
   ],
   "source": [
    "gdc = GradientBoostingClassifier(n_estimators=400, learning_rate=0.1, max_features=None, subsample=1, verbose=1, max_depth=4, random_state=42)\n",
    "gdc.fit(X_cleared, y)\n",
    "y_pred = gdc.predict_proba(X_cleared)\n"
   ]
  },
  {
   "cell_type": "code",
   "execution_count": 28,
   "metadata": {
    "colab": {
     "base_uri": "https://localhost:8080/",
     "height": 34
    },
    "colab_type": "code",
    "id": "BQKVTM2Q9PhF",
    "outputId": "a132a83d-d438-4cee-d180-fa2edcdfc734"
   },
   "outputs": [
    {
     "data": {
      "text/plain": [
       "0.6593639774164943"
      ]
     },
     "execution_count": 28,
     "metadata": {
      "tags": []
     },
     "output_type": "execute_result"
    }
   ],
   "source": [
    "roc_auc_score(y, y_pred[:, 1])"
   ]
  },
  {
   "cell_type": "code",
   "execution_count": 32,
   "metadata": {
    "colab": {
     "base_uri": "https://localhost:8080/",
     "height": 289
    },
    "colab_type": "code",
    "id": "Rw4cchQxUjzV",
    "outputId": "37ba1522-0104-4b9c-98c4-1dbef4202f68"
   },
   "outputs": [
    {
     "name": "stdout",
     "output_type": "stream",
     "text": [
      "category_id 0.02732667131925916\n",
      "delivery_available 0.005484427188824881\n",
      "img_num 0.011575489368155504\n",
      "payment_available 0.006315709548266921\n",
      "price 0.22347449150029444\n",
      "product_type 0.001278343154464822\n",
      "sold_mode 0.005549065351604905\n",
      "subcategory_id 0.375637980415819\n",
      "date_month 0.11412627955236496\n",
      "date_day 0.08999703334122827\n",
      "desc_text_length 0.04585701018440872\n",
      "desc_text_num_of_words 0.013786703093634431\n",
      "name_text_length 0.03410505049586351\n",
      "has_properties 0.0014929192449273944\n",
      "num_properties 0.017679138327695243\n",
      "size_region 0.026313687913187972\n"
     ]
    }
   ],
   "source": [
    "for i in range(len(X_train.columns)):\n",
    "  print(X_train.columns[i], gdc.feature_importances_[i])"
   ]
  },
  {
   "cell_type": "markdown",
   "metadata": {
    "colab_type": "text",
    "id": "JjR1jDpXUmIV"
   },
   "source": [
    "Как можно заметить, очень важная фича - цена, после нее месяц - ладно, после него - день - неожиданное.. Но на первом месте с большим отрывом - id подкатегории, хотя я все время считал, что он лишь вводит в заблуждение.. Но без него всегда было плохо. Воть так"
   ]
  },
  {
   "cell_type": "code",
   "execution_count": 29,
   "metadata": {
    "colab": {
     "base_uri": "https://localhost:8080/",
     "height": 224
    },
    "colab_type": "code",
    "id": "aAp-jT_Czs05",
    "outputId": "c1a21599-74db-4ed6-af0e-0193f5f8b2e5"
   },
   "outputs": [
    {
     "data": {
      "text/html": [
       "<div>\n",
       "<style scoped>\n",
       "    .dataframe tbody tr th:only-of-type {\n",
       "        vertical-align: middle;\n",
       "    }\n",
       "\n",
       "    .dataframe tbody tr th {\n",
       "        vertical-align: top;\n",
       "    }\n",
       "\n",
       "    .dataframe thead th {\n",
       "        text-align: right;\n",
       "    }\n",
       "</style>\n",
       "<table border=\"1\" class=\"dataframe\">\n",
       "  <thead>\n",
       "    <tr style=\"text-align: right;\">\n",
       "      <th></th>\n",
       "      <th>category_id</th>\n",
       "      <th>delivery_available</th>\n",
       "      <th>img_num</th>\n",
       "      <th>payment_available</th>\n",
       "      <th>price</th>\n",
       "      <th>product_type</th>\n",
       "      <th>sold_mode</th>\n",
       "      <th>subcategory_id</th>\n",
       "      <th>date_month</th>\n",
       "      <th>date_day</th>\n",
       "      <th>desc_text_length</th>\n",
       "      <th>desc_text_num_of_words</th>\n",
       "      <th>name_text_length</th>\n",
       "      <th>has_properties</th>\n",
       "      <th>num_properties</th>\n",
       "      <th>size_region</th>\n",
       "    </tr>\n",
       "  </thead>\n",
       "  <tbody>\n",
       "    <tr>\n",
       "      <th>0</th>\n",
       "      <td>9</td>\n",
       "      <td>True</td>\n",
       "      <td>3</td>\n",
       "      <td>True</td>\n",
       "      <td>650.0</td>\n",
       "      <td>1</td>\n",
       "      <td>1</td>\n",
       "      <td>902</td>\n",
       "      <td>10</td>\n",
       "      <td>22</td>\n",
       "      <td>112</td>\n",
       "      <td>14</td>\n",
       "      <td>9</td>\n",
       "      <td>True</td>\n",
       "      <td>3</td>\n",
       "      <td>9789</td>\n",
       "    </tr>\n",
       "    <tr>\n",
       "      <th>3</th>\n",
       "      <td>22</td>\n",
       "      <td>True</td>\n",
       "      <td>2</td>\n",
       "      <td>True</td>\n",
       "      <td>750.0</td>\n",
       "      <td>1</td>\n",
       "      <td>1</td>\n",
       "      <td>2204</td>\n",
       "      <td>11</td>\n",
       "      <td>9</td>\n",
       "      <td>185</td>\n",
       "      <td>28</td>\n",
       "      <td>13</td>\n",
       "      <td>True</td>\n",
       "      <td>6</td>\n",
       "      <td>5148</td>\n",
       "    </tr>\n",
       "    <tr>\n",
       "      <th>8</th>\n",
       "      <td>12</td>\n",
       "      <td>False</td>\n",
       "      <td>4</td>\n",
       "      <td>True</td>\n",
       "      <td>5500.0</td>\n",
       "      <td>1</td>\n",
       "      <td>1</td>\n",
       "      <td>1202</td>\n",
       "      <td>11</td>\n",
       "      <td>27</td>\n",
       "      <td>618</td>\n",
       "      <td>99</td>\n",
       "      <td>50</td>\n",
       "      <td>True</td>\n",
       "      <td>13</td>\n",
       "      <td>1211</td>\n",
       "    </tr>\n",
       "    <tr>\n",
       "      <th>9</th>\n",
       "      <td>3</td>\n",
       "      <td>True</td>\n",
       "      <td>2</td>\n",
       "      <td>True</td>\n",
       "      <td>100.0</td>\n",
       "      <td>1</td>\n",
       "      <td>1</td>\n",
       "      <td>316</td>\n",
       "      <td>11</td>\n",
       "      <td>25</td>\n",
       "      <td>71</td>\n",
       "      <td>11</td>\n",
       "      <td>17</td>\n",
       "      <td>False</td>\n",
       "      <td>0</td>\n",
       "      <td>76281</td>\n",
       "    </tr>\n",
       "    <tr>\n",
       "      <th>19</th>\n",
       "      <td>22</td>\n",
       "      <td>True</td>\n",
       "      <td>2</td>\n",
       "      <td>True</td>\n",
       "      <td>700.0</td>\n",
       "      <td>1</td>\n",
       "      <td>1</td>\n",
       "      <td>2214</td>\n",
       "      <td>11</td>\n",
       "      <td>4</td>\n",
       "      <td>61</td>\n",
       "      <td>10</td>\n",
       "      <td>12</td>\n",
       "      <td>True</td>\n",
       "      <td>5</td>\n",
       "      <td>11476</td>\n",
       "    </tr>\n",
       "  </tbody>\n",
       "</table>\n",
       "</div>"
      ],
      "text/plain": [
       "    category_id  delivery_available  ...  num_properties  size_region\n",
       "0             9                True  ...               3         9789\n",
       "3            22                True  ...               6         5148\n",
       "8            12               False  ...              13         1211\n",
       "9             3                True  ...               0        76281\n",
       "19           22                True  ...               5        11476\n",
       "\n",
       "[5 rows x 16 columns]"
      ]
     },
     "execution_count": 29,
     "metadata": {
      "tags": []
     },
     "output_type": "execute_result"
    }
   ],
   "source": [
    "X_TEST = df_test\n",
    "\n",
    "columns_with_text = ['city', 'date_created', 'desc_text', 'name_text', 'lat', 'long', 'owner_id', 'product_id', 'properties', 'region']\n",
    "#X.columns.append(['date_year', 'date_month', 'date_day'])\n",
    "#X_TEST['date_year'] = X_TEST['date_created'].str[:4].astype(int)\n",
    "X_TEST['date_month'] = X_TEST['date_created'].str[5:7].astype(int)\n",
    "X_TEST['date_day'] = X_TEST['date_created'].str[8:10].astype(int)\n",
    "X_TEST['desc_text_length'] = X_TEST['desc_text'].str.len()\n",
    "X_TEST['desc_text_num_of_words'] = X_TEST['desc_text'].str.split().map(lambda x: len(x))\n",
    "X_TEST['name_text_length'] = X_TEST['name_text'].str.len()\n",
    "X_TEST['has_properties'] = X_TEST['properties'].map(lambda x: len(x) > 2)\n",
    "X_TEST['num_properties'] = X_TEST['properties'].map(lambda x: x.count('}'))\n",
    "X_TEST['size_region'] = X_TEST['region'].map(lambda x: regions_mapa[x] if x in regions_mapa.keys() else 0)\n",
    "\n",
    "X_TEST_CUT = X_TEST.drop(columns=columns_with_text)\n",
    "X_TEST_CUT.head()"
   ]
  },
  {
   "cell_type": "code",
   "execution_count": 30,
   "metadata": {
    "colab": {
     "base_uri": "https://localhost:8080/",
     "height": 51
    },
    "colab_type": "code",
    "id": "YbNMPeht0H1j",
    "outputId": "d0edeab6-cb33-44d7-ced7-39d1f6a1a9ca"
   },
   "outputs": [
    {
     "data": {
      "text/plain": [
       "array([0.17027424, 0.13712656, 0.26574366, ..., 0.20157757, 0.2484418 ,\n",
       "       0.28702257])"
      ]
     },
     "execution_count": 30,
     "metadata": {
      "tags": []
     },
     "output_type": "execute_result"
    }
   ],
   "source": [
    "results = gdc.predict_proba(X_TEST_CUT)[:,1]\n",
    "results"
   ]
  },
  {
   "cell_type": "code",
   "execution_count": 0,
   "metadata": {
    "colab": {},
    "colab_type": "code",
    "id": "Lpo_lA2l0c6X"
   },
   "outputs": [],
   "source": [
    "res = pd.DataFrame(columns=['product_id', 'score'], index=None)\n",
    "res['product_id'] = X_TEST['product_id']\n",
    "res['score'] = results\n",
    "res.tail()\n",
    "\n",
    "res.to_csv('prefinal.csv', index=False)"
   ]
  },
  {
   "cell_type": "markdown",
   "metadata": {
    "colab_type": "text",
    "id": "BsorOgiGIqZ_"
   },
   "source": [
    "# Иные подходы и чем я руководствовался"
   ]
  },
  {
   "cell_type": "markdown",
   "metadata": {
    "colab_type": "text",
    "id": "OSU6XFwfIzJl"
   },
   "source": [
    "В данном разделе может присутствовать копипаста из других тетрадок и код может воспроизводиться нелинейно, однако моей целью было рассказать о том, что я пытался сделать и к чему это приводило.\n",
    "\n",
    "Так, я смотрел на разные классификаторы - случайный лес, бэггинг, адабуст, катбуст, xgboost, но они были не очень или чуть хуже"
   ]
  },
  {
   "cell_type": "code",
   "execution_count": 0,
   "metadata": {
    "colab": {
     "base_uri": "https://localhost:8080/",
     "height": 187
    },
    "colab_type": "code",
    "id": "2VHLZeWEi2Qs",
    "outputId": "b067ec72-94ea-4d35-ed4c-4e0da649271c"
   },
   "outputs": [
    {
     "name": "stderr",
     "output_type": "stream",
     "text": [
      "[Parallel(n_jobs=4)]: Using backend ThreadingBackend with 4 concurrent workers.\n",
      "[Parallel(n_jobs=4)]: Done  42 tasks      | elapsed:    5.7s\n",
      "[Parallel(n_jobs=4)]: Done 192 tasks      | elapsed:   26.4s\n",
      "[Parallel(n_jobs=4)]: Done 442 tasks      | elapsed:   59.3s\n",
      "[Parallel(n_jobs=4)]: Done 500 out of 500 | elapsed:  1.1min finished\n",
      "[Parallel(n_jobs=4)]: Using backend ThreadingBackend with 4 concurrent workers.\n",
      "[Parallel(n_jobs=4)]: Done  42 tasks      | elapsed:    0.1s\n",
      "[Parallel(n_jobs=4)]: Done 192 tasks      | elapsed:    0.6s\n",
      "[Parallel(n_jobs=4)]: Done 442 tasks      | elapsed:    1.4s\n",
      "[Parallel(n_jobs=4)]: Done 500 out of 500 | elapsed:    1.6s finished\n"
     ]
    }
   ],
   "source": [
    "rfc = RandomForestClassifier(n_jobs=4, max_depth=3, max_features=10, n_estimators=500, random_state=42, verbose=1)\n",
    "rfc.fit(X_train, y_train)\n",
    "y_pred = rfc.predict_proba(X_test)\n"
   ]
  },
  {
   "cell_type": "code",
   "execution_count": 0,
   "metadata": {
    "colab": {
     "base_uri": "https://localhost:8080/",
     "height": 34
    },
    "colab_type": "code",
    "id": "VNTk7lwOi2Rc",
    "outputId": "7d21056c-f1e9-4fd6-f34d-d9a5bcc04470"
   },
   "outputs": [
    {
     "data": {
      "text/plain": [
       "0.5903644550470957"
      ]
     },
     "execution_count": 77,
     "metadata": {
      "tags": []
     },
     "output_type": "execute_result"
    }
   ],
   "source": [
    "roc_auc_score(y_test, y_pred[:,1])"
   ]
  },
  {
   "cell_type": "code",
   "execution_count": 18,
   "metadata": {
    "colab": {
     "base_uri": "https://localhost:8080/",
     "height": 85
    },
    "colab_type": "code",
    "id": "CefM23z88VFI",
    "outputId": "188b602b-be5d-4c1e-b5dc-a54de04c37c5"
   },
   "outputs": [
    {
     "name": "stderr",
     "output_type": "stream",
     "text": [
      "[Parallel(n_jobs=1)]: Using backend SequentialBackend with 1 concurrent workers.\n",
      "[Parallel(n_jobs=1)]: Done   1 out of   1 | elapsed:  3.9min finished\n",
      "[Parallel(n_jobs=1)]: Using backend SequentialBackend with 1 concurrent workers.\n",
      "[Parallel(n_jobs=1)]: Done   1 out of   1 | elapsed:    9.1s finished\n"
     ]
    }
   ],
   "source": [
    "abc = BaggingClassifier(verbose=1, n_estimators=100)\n",
    "abc.fit(X_train, y_train)\n",
    "y_pred = abc.predict_proba(X_test)\n"
   ]
  },
  {
   "cell_type": "code",
   "execution_count": 19,
   "metadata": {
    "colab": {
     "base_uri": "https://localhost:8080/",
     "height": 34
    },
    "colab_type": "code",
    "id": "V8Wr1xla896H",
    "outputId": "da62782f-8110-44cf-ffa7-f30f8a11c402"
   },
   "outputs": [
    {
     "data": {
      "text/plain": [
       "0.6003455600824785"
      ]
     },
     "execution_count": 19,
     "metadata": {
      "tags": []
     },
     "output_type": "execute_result"
    }
   ],
   "source": [
    "roc_auc_score(y_test, y_pred[:,1])"
   ]
  },
  {
   "cell_type": "markdown",
   "metadata": {
    "colab_type": "text",
    "id": "BMrR54wxOVW5"
   },
   "source": [
    "Я пробовал нейронки, перед этим используя StandardScaler, но там было совсем грустно, даже на тест было 0.58...\n"
   ]
  },
  {
   "cell_type": "code",
   "execution_count": 0,
   "metadata": {
    "colab": {},
    "colab_type": "code",
    "id": "2NK4G1_I-ed_"
   },
   "outputs": [],
   "source": [
    "import keras\n",
    "from keras.models import Sequential\n",
    "from keras.layers import Dense\n",
    "from keras.optimizers import Adam\n",
    "from keras.layers import Dropout\n",
    "\n",
    "model = Sequential()\n",
    "model.add(Dense(units=512, activation='relu'))\n",
    "model.add(Dropout(0.5))\n",
    "model.add(Dense(units=256))\n",
    "model.add(Dropout(0.5))\n",
    "model.add(Dense(units=128))\n",
    "model.add(Dropout(0.5))\n",
    "model.add(Dense(units=64))\n",
    "model.add(Dense(units=1024))\n",
    "model.add(Dense(units=1, activation='sigmoid'))"
   ]
  },
  {
   "cell_type": "code",
   "execution_count": 0,
   "metadata": {
    "colab": {},
    "colab_type": "code",
    "id": "XzifdToz_OPb"
   },
   "outputs": [],
   "source": [
    "from keras import losses\n",
    "\n",
    "model.compile(optimizer ='adam',loss=losses.binary_crossentropy)"
   ]
  },
  {
   "cell_type": "code",
   "execution_count": 0,
   "metadata": {
    "colab": {
     "base_uri": "https://localhost:8080/",
     "height": 391
    },
    "colab_type": "code",
    "id": "ngylgUTcAw4P",
    "outputId": "809b1076-f2da-4ead-a3de-3bf1f6c30a98"
   },
   "outputs": [
    {
     "name": "stdout",
     "output_type": "stream",
     "text": [
      "Epoch 1/5\n",
      "50/50 [==============================] - 13s 255ms/step - loss: 3.7247\n",
      "Epoch 2/5\n",
      "26/50 [==============>...............] - ETA: 5s - loss: 3.7247"
     ]
    },
    {
     "ename": "KeyboardInterrupt",
     "evalue": "ignored",
     "output_type": "error",
     "traceback": [
      "\u001b[0;31m---------------------------------------------------------------------------\u001b[0m",
      "\u001b[0;31mKeyboardInterrupt\u001b[0m                         Traceback (most recent call last)",
      "\u001b[0;32m<ipython-input-128-6eeaac4a1efe>\u001b[0m in \u001b[0;36m<module>\u001b[0;34m()\u001b[0m\n\u001b[0;32m----> 1\u001b[0;31m \u001b[0mmodel\u001b[0m\u001b[0;34m.\u001b[0m\u001b[0mfit\u001b[0m\u001b[0;34m(\u001b[0m\u001b[0mX_train\u001b[0m\u001b[0;34m,\u001b[0m \u001b[0my_train\u001b[0m\u001b[0;34m,\u001b[0m \u001b[0mbatch_size\u001b[0m\u001b[0;34m=\u001b[0m\u001b[0;32mNone\u001b[0m\u001b[0;34m,\u001b[0m \u001b[0msteps_per_epoch\u001b[0m\u001b[0;34m=\u001b[0m\u001b[0;36m50\u001b[0m\u001b[0;34m,\u001b[0m \u001b[0mepochs\u001b[0m\u001b[0;34m=\u001b[0m\u001b[0;36m5\u001b[0m\u001b[0;34m)\u001b[0m\u001b[0;34m\u001b[0m\u001b[0;34m\u001b[0m\u001b[0m\n\u001b[0m\u001b[1;32m      2\u001b[0m \u001b[0mmodel\u001b[0m\u001b[0;34m.\u001b[0m\u001b[0msummary\u001b[0m\u001b[0;34m(\u001b[0m\u001b[0;34m)\u001b[0m\u001b[0;34m\u001b[0m\u001b[0;34m\u001b[0m\u001b[0m\n",
      "\u001b[0;32m/usr/local/lib/python3.6/dist-packages/keras/engine/training.py\u001b[0m in \u001b[0;36mfit\u001b[0;34m(self, x, y, batch_size, epochs, verbose, callbacks, validation_split, validation_data, shuffle, class_weight, sample_weight, initial_epoch, steps_per_epoch, validation_steps, **kwargs)\u001b[0m\n\u001b[1;32m   1037\u001b[0m                                         \u001b[0minitial_epoch\u001b[0m\u001b[0;34m=\u001b[0m\u001b[0minitial_epoch\u001b[0m\u001b[0;34m,\u001b[0m\u001b[0;34m\u001b[0m\u001b[0;34m\u001b[0m\u001b[0m\n\u001b[1;32m   1038\u001b[0m                                         \u001b[0msteps_per_epoch\u001b[0m\u001b[0;34m=\u001b[0m\u001b[0msteps_per_epoch\u001b[0m\u001b[0;34m,\u001b[0m\u001b[0;34m\u001b[0m\u001b[0;34m\u001b[0m\u001b[0m\n\u001b[0;32m-> 1039\u001b[0;31m                                         validation_steps=validation_steps)\n\u001b[0m\u001b[1;32m   1040\u001b[0m \u001b[0;34m\u001b[0m\u001b[0m\n\u001b[1;32m   1041\u001b[0m     def evaluate(self, x=None, y=None,\n",
      "\u001b[0;32m/usr/local/lib/python3.6/dist-packages/keras/engine/training_arrays.py\u001b[0m in \u001b[0;36mfit_loop\u001b[0;34m(model, f, ins, out_labels, batch_size, epochs, verbose, callbacks, val_f, val_ins, shuffle, callback_metrics, initial_epoch, steps_per_epoch, validation_steps)\u001b[0m\n\u001b[1;32m    152\u001b[0m                 \u001b[0mbatch_logs\u001b[0m\u001b[0;34m[\u001b[0m\u001b[0;34m'size'\u001b[0m\u001b[0;34m]\u001b[0m \u001b[0;34m=\u001b[0m \u001b[0;36m1\u001b[0m\u001b[0;34m\u001b[0m\u001b[0;34m\u001b[0m\u001b[0m\n\u001b[1;32m    153\u001b[0m                 \u001b[0mcallbacks\u001b[0m\u001b[0;34m.\u001b[0m\u001b[0mon_batch_begin\u001b[0m\u001b[0;34m(\u001b[0m\u001b[0mstep_index\u001b[0m\u001b[0;34m,\u001b[0m \u001b[0mbatch_logs\u001b[0m\u001b[0;34m)\u001b[0m\u001b[0;34m\u001b[0m\u001b[0;34m\u001b[0m\u001b[0m\n\u001b[0;32m--> 154\u001b[0;31m                 \u001b[0mouts\u001b[0m \u001b[0;34m=\u001b[0m \u001b[0mf\u001b[0m\u001b[0;34m(\u001b[0m\u001b[0mins\u001b[0m\u001b[0;34m)\u001b[0m\u001b[0;34m\u001b[0m\u001b[0;34m\u001b[0m\u001b[0m\n\u001b[0m\u001b[1;32m    155\u001b[0m \u001b[0;34m\u001b[0m\u001b[0m\n\u001b[1;32m    156\u001b[0m                 \u001b[0mouts\u001b[0m \u001b[0;34m=\u001b[0m \u001b[0mto_list\u001b[0m\u001b[0;34m(\u001b[0m\u001b[0mouts\u001b[0m\u001b[0;34m)\u001b[0m\u001b[0;34m\u001b[0m\u001b[0;34m\u001b[0m\u001b[0m\n",
      "\u001b[0;32m/usr/local/lib/python3.6/dist-packages/keras/backend/tensorflow_backend.py\u001b[0m in \u001b[0;36m__call__\u001b[0;34m(self, inputs)\u001b[0m\n\u001b[1;32m   2713\u001b[0m                 \u001b[0;32mreturn\u001b[0m \u001b[0mself\u001b[0m\u001b[0;34m.\u001b[0m\u001b[0m_legacy_call\u001b[0m\u001b[0;34m(\u001b[0m\u001b[0minputs\u001b[0m\u001b[0;34m)\u001b[0m\u001b[0;34m\u001b[0m\u001b[0;34m\u001b[0m\u001b[0m\n\u001b[1;32m   2714\u001b[0m \u001b[0;34m\u001b[0m\u001b[0m\n\u001b[0;32m-> 2715\u001b[0;31m             \u001b[0;32mreturn\u001b[0m \u001b[0mself\u001b[0m\u001b[0;34m.\u001b[0m\u001b[0m_call\u001b[0m\u001b[0;34m(\u001b[0m\u001b[0minputs\u001b[0m\u001b[0;34m)\u001b[0m\u001b[0;34m\u001b[0m\u001b[0;34m\u001b[0m\u001b[0m\n\u001b[0m\u001b[1;32m   2716\u001b[0m         \u001b[0;32melse\u001b[0m\u001b[0;34m:\u001b[0m\u001b[0;34m\u001b[0m\u001b[0;34m\u001b[0m\u001b[0m\n\u001b[1;32m   2717\u001b[0m             \u001b[0;32mif\u001b[0m \u001b[0mpy_any\u001b[0m\u001b[0;34m(\u001b[0m\u001b[0mis_tensor\u001b[0m\u001b[0;34m(\u001b[0m\u001b[0mx\u001b[0m\u001b[0;34m)\u001b[0m \u001b[0;32mfor\u001b[0m \u001b[0mx\u001b[0m \u001b[0;32min\u001b[0m \u001b[0minputs\u001b[0m\u001b[0;34m)\u001b[0m\u001b[0;34m:\u001b[0m\u001b[0;34m\u001b[0m\u001b[0;34m\u001b[0m\u001b[0m\n",
      "\u001b[0;32m/usr/local/lib/python3.6/dist-packages/keras/backend/tensorflow_backend.py\u001b[0m in \u001b[0;36m_call\u001b[0;34m(self, inputs)\u001b[0m\n\u001b[1;32m   2673\u001b[0m             \u001b[0mfetched\u001b[0m \u001b[0;34m=\u001b[0m \u001b[0mself\u001b[0m\u001b[0;34m.\u001b[0m\u001b[0m_callable_fn\u001b[0m\u001b[0;34m(\u001b[0m\u001b[0;34m*\u001b[0m\u001b[0marray_vals\u001b[0m\u001b[0;34m,\u001b[0m \u001b[0mrun_metadata\u001b[0m\u001b[0;34m=\u001b[0m\u001b[0mself\u001b[0m\u001b[0;34m.\u001b[0m\u001b[0mrun_metadata\u001b[0m\u001b[0;34m)\u001b[0m\u001b[0;34m\u001b[0m\u001b[0;34m\u001b[0m\u001b[0m\n\u001b[1;32m   2674\u001b[0m         \u001b[0;32melse\u001b[0m\u001b[0;34m:\u001b[0m\u001b[0;34m\u001b[0m\u001b[0;34m\u001b[0m\u001b[0m\n\u001b[0;32m-> 2675\u001b[0;31m             \u001b[0mfetched\u001b[0m \u001b[0;34m=\u001b[0m \u001b[0mself\u001b[0m\u001b[0;34m.\u001b[0m\u001b[0m_callable_fn\u001b[0m\u001b[0;34m(\u001b[0m\u001b[0;34m*\u001b[0m\u001b[0marray_vals\u001b[0m\u001b[0;34m)\u001b[0m\u001b[0;34m\u001b[0m\u001b[0;34m\u001b[0m\u001b[0m\n\u001b[0m\u001b[1;32m   2676\u001b[0m         \u001b[0;32mreturn\u001b[0m \u001b[0mfetched\u001b[0m\u001b[0;34m[\u001b[0m\u001b[0;34m:\u001b[0m\u001b[0mlen\u001b[0m\u001b[0;34m(\u001b[0m\u001b[0mself\u001b[0m\u001b[0;34m.\u001b[0m\u001b[0moutputs\u001b[0m\u001b[0;34m)\u001b[0m\u001b[0;34m]\u001b[0m\u001b[0;34m\u001b[0m\u001b[0;34m\u001b[0m\u001b[0m\n\u001b[1;32m   2677\u001b[0m \u001b[0;34m\u001b[0m\u001b[0m\n",
      "\u001b[0;32m/usr/local/lib/python3.6/dist-packages/tensorflow/python/client/session.py\u001b[0m in \u001b[0;36m__call__\u001b[0;34m(self, *args, **kwargs)\u001b[0m\n\u001b[1;32m   1437\u001b[0m           ret = tf_session.TF_SessionRunCallable(\n\u001b[1;32m   1438\u001b[0m               \u001b[0mself\u001b[0m\u001b[0;34m.\u001b[0m\u001b[0m_session\u001b[0m\u001b[0;34m.\u001b[0m\u001b[0m_session\u001b[0m\u001b[0;34m,\u001b[0m \u001b[0mself\u001b[0m\u001b[0;34m.\u001b[0m\u001b[0m_handle\u001b[0m\u001b[0;34m,\u001b[0m \u001b[0margs\u001b[0m\u001b[0;34m,\u001b[0m \u001b[0mstatus\u001b[0m\u001b[0;34m,\u001b[0m\u001b[0;34m\u001b[0m\u001b[0;34m\u001b[0m\u001b[0m\n\u001b[0;32m-> 1439\u001b[0;31m               run_metadata_ptr)\n\u001b[0m\u001b[1;32m   1440\u001b[0m         \u001b[0;32mif\u001b[0m \u001b[0mrun_metadata\u001b[0m\u001b[0;34m:\u001b[0m\u001b[0;34m\u001b[0m\u001b[0;34m\u001b[0m\u001b[0m\n\u001b[1;32m   1441\u001b[0m           \u001b[0mproto_data\u001b[0m \u001b[0;34m=\u001b[0m \u001b[0mtf_session\u001b[0m\u001b[0;34m.\u001b[0m\u001b[0mTF_GetBuffer\u001b[0m\u001b[0;34m(\u001b[0m\u001b[0mrun_metadata_ptr\u001b[0m\u001b[0;34m)\u001b[0m\u001b[0;34m\u001b[0m\u001b[0;34m\u001b[0m\u001b[0m\n",
      "\u001b[0;31mKeyboardInterrupt\u001b[0m: "
     ]
    }
   ],
   "source": [
    "model.fit(X_train, y_train, batch_size=None, steps_per_epoch=50, epochs=5)\n",
    "model.summary()"
   ]
  },
  {
   "cell_type": "code",
   "execution_count": 0,
   "metadata": {
    "colab": {
     "base_uri": "https://localhost:8080/",
     "height": 136
    },
    "colab_type": "code",
    "id": "RgWQIVlz__DI",
    "outputId": "c1ae0d42-29b5-40b4-b490-1a390308fd2f"
   },
   "outputs": [
    {
     "data": {
      "text/plain": [
       "array([[0.0000000e+00],\n",
       "       [0.0000000e+00],\n",
       "       [0.0000000e+00],\n",
       "       ...,\n",
       "       [0.0000000e+00],\n",
       "       [0.0000000e+00],\n",
       "       [1.2609497e-37]], dtype=float32)"
      ]
     },
     "execution_count": 124,
     "metadata": {
      "tags": []
     },
     "output_type": "execute_result"
    }
   ],
   "source": [
    "y_pred = model.predict(X_test)\n",
    "y_pred"
   ]
  },
  {
   "cell_type": "code",
   "execution_count": 0,
   "metadata": {
    "colab": {
     "base_uri": "https://localhost:8080/",
     "height": 34
    },
    "colab_type": "code",
    "id": "nKKFXz4mmu01",
    "outputId": "6ede7d72-8a9c-4888-cce0-478506286db0"
   },
   "outputs": [
    {
     "data": {
      "text/plain": [
       "0.4999938369756807"
      ]
     },
     "execution_count": 121,
     "metadata": {
      "tags": []
     },
     "output_type": "execute_result"
    }
   ],
   "source": [
    "roc_auc_score(y_test, y_pred)"
   ]
  },
  {
   "cell_type": "markdown",
   "metadata": {
    "colab_type": "text",
    "id": "momVTZcTOgcs"
   },
   "source": [
    "С регионами было по-разному - я хотел выделить большие регионы булевой переменной (легкий one-hot), но оно работало не лучше.."
   ]
  },
  {
   "cell_type": "code",
   "execution_count": 0,
   "metadata": {
    "colab": {
     "base_uri": "https://localhost:8080/",
     "height": 204
    },
    "colab_type": "code",
    "id": "siN7GTjR4RbE",
    "outputId": "415e84fc-7ed9-4e7b-ea30-7a4748e7d4d1"
   },
   "outputs": [
    {
     "name": "stderr",
     "output_type": "stream",
     "text": [
      "/usr/local/lib/python3.6/dist-packages/ipykernel_launcher.py:8: SettingWithCopyWarning: \n",
      "A value is trying to be set on a copy of a slice from a DataFrame\n",
      "\n",
      "See the caveats in the documentation: http://pandas.pydata.org/pandas-docs/stable/indexing.html#indexing-view-versus-copy\n",
      "  \n"
     ]
    },
    {
     "data": {
      "text/plain": [
       "Index(['Башкортостан', 'Кемеровская область', 'Краснодарский край',\n",
       "       'Красноярский край', 'Ленинградская область', 'Московская область',\n",
       "       'Новосибирская область', 'Ростовская область', 'Самарская область',\n",
       "       'Свердловская область', 'Татарстан', 'Тюменская область',\n",
       "       'Челябинская область', 'small_region'],\n",
       "      dtype='object')"
      ]
     },
     "execution_count": 79,
     "metadata": {
      "tags": []
     },
     "output_type": "execute_result"
    }
   ],
   "source": [
    "regs = pd.get_dummies(X['region'])\n",
    "count = len(regs.columns)\n",
    "bad_cols = []\n",
    "regs['small_region'] = 0\n",
    "for col in regs.columns:\n",
    "  if col is not 'small_region' and len(regs[regs[col] == 1]) < 2 * regs.shape[0] / count:\n",
    "    bad_cols.append(col)\n",
    "    regs.small_region[regs[col] == 1] = 1\n",
    "regs = regs.drop(columns=bad_cols)\n",
    "new_cols = regs.columns\n",
    "new_cols"
   ]
  },
  {
   "cell_type": "markdown",
   "metadata": {
    "colab_type": "text",
    "id": "OMUNoQeBWIJX"
   },
   "source": [
    "## Подход, который  почти смог..\n",
    "\n",
    "В последний день я с однокурсниками засел в аудитории, и мы пытались улучшить модели. В какой-то момент мне показали график следующего содержания."
   ]
  },
  {
   "cell_type": "code",
   "execution_count": 33,
   "metadata": {
    "colab": {
     "base_uri": "https://localhost:8080/",
     "height": 51
    },
    "colab_type": "code",
    "id": "cDiGPkPkWpL6",
    "outputId": "3bfd1458-b886-4562-8d08-7865a6b3d1c8"
   },
   "outputs": [
    {
     "name": "stderr",
     "output_type": "stream",
     "text": [
      "/usr/local/lib/python3.6/dist-packages/ipykernel_launcher.py:1: UserWarning: Boolean Series key will be reindexed to match DataFrame index.\n",
      "  \"\"\"Entry point for launching an IPython kernel.\n"
     ]
    }
   ],
   "source": [
    "sold_fast_proportion = [len(df_train[df_train['date_created'] == day][df_train['sold_fast'] == 1])/len(df_train[df_train['date_created'] == day]) for day in np.unique(df_train['date_created'])]"
   ]
  },
  {
   "cell_type": "code",
   "execution_count": 34,
   "metadata": {
    "colab": {
     "base_uri": "https://localhost:8080/",
     "height": 503
    },
    "colab_type": "code",
    "id": "VA107drHXVV4",
    "outputId": "3b9c3c8d-87ca-47b8-c3e6-7dea720f140b"
   },
   "outputs": [
    {
     "data": {
      "text/plain": [
       "[<matplotlib.lines.Line2D at 0x7f880415a128>]"
      ]
     },
     "execution_count": 34,
     "metadata": {
      "tags": []
     },
     "output_type": "execute_result"
    },
    {
     "data": {
      "image/png": "[encoded data removed]",
      "text/plain": [
       "<Figure size 864x576 with 1 Axes>"
      ]
     },
     "metadata": {
      "tags": []
     },
     "output_type": "display_data"
    }
   ],
   "source": [
    "plt.plot(sold_fast_proportion)"
   ]
  },
  {
   "cell_type": "markdown",
   "metadata": {
    "colab_type": "text",
    "id": "0gPFdoSsXbVW"
   },
   "source": [
    "Что же это такое? Это доля быстрых продаж в зависимости от дня. И что примечательно - на графике есть явное проседание, примерно в конце августа. Когда я это увидел, я сразу вспомнил возможную причину этого - нет, не сезонный фактор, а падение рубля. С помощью однокурсника мы выгрузили курс доллара за каждый день 2018 года - и вот он:"
   ]
  },
  {
   "cell_type": "code",
   "execution_count": 36,
   "metadata": {
    "colab": {
     "base_uri": "https://localhost:8080/",
     "height": 503
    },
    "colab_type": "code",
    "id": "tZBWJXF3X10T",
    "outputId": "6a88f9c7-cb10-455c-b843-abc521faea86"
   },
   "outputs": [
    {
     "data": {
      "text/plain": [
       "[<matplotlib.lines.Line2D at 0x7f8800c9a0b8>]"
      ]
     },
     "execution_count": 36,
     "metadata": {
      "tags": []
     },
     "output_type": "execute_result"
    },
    {
     "data": {
      "image/png": "[encoded data removed]",
      "text/plain": [
       "<Figure size 864x576 with 1 Axes>"
      ]
     },
     "metadata": {
      "tags": []
     },
     "output_type": "display_data"
    }
   ],
   "source": [
    "usd_by_day = [57.7656, 57.5336, 57.1698, 57.0156, 56.8703, 56.8703, 56.974, 57.1265, 56.9048, 57.0542, 56.5354, 56.6214, 56.643, 56.5815, 56.34, 56.4806, 56.8843, 56.5337, 56.7449, 56.7449, 56.6259, 56.489, 56.3822, 56.1906, 55.9177, 56.2409, 56.2409, 56.2429, 56.3144, 56.3559, 56.1484, 55.9797, 56.5647, 56.5511, 56.4084, 57.3221, 56.8827, 57.8441, 58.3203, 58.3658, 58.3661, 58.3715, 57.7847, 57.6521, 56.7294, 56.423, 56.4096, 56.4099, 56.48, 56.4139, 56.5566, 56.7465, 56.5016, 56.3072, 56.306, 56.3565, 55.6619, 56.2542, 56.3557, 56.8226, 56.815, 56.8139, 57.013, 56.4534, 56.9132, 56.8434, 57.0927, 56.6576, 56.6576, 56.6927, 56.8929, 57.081, 57.0737, 57.4471, 57.5206, 57.5206, 57.4934, 57.772, 57.5473, 56.8776, 57.3431, 57.2337, 57.2334, 57.189, 57.2315, 57.3856, 57.7538, 57.2778, 57.3279, 57.1326, 57.1511, 57.4729, 57.6332, 57.5481, 57.6937, 57.9894, 57.9908, 58.106, 60.6521, 62.9678, 62.4445, 62.0285, 62.0237, 62.0237, 62.0361, 61.2457, 61.565, 60.8706, 60.9898, 61.3869, 61.3847, 61.4117, 61.8333, 61.5531, 62.4188, 62.7461, 62.1261, 62.1261, 62.5812, 62.9783, 63.6422, 63.9971, 63.0015, 62.9573, 62.9568, 62.7357, 62.9125, 63.3502, 63.061, 61.7336, 61.895, 61.9063, 61.91, 61.8591, 62.2915, 61.6437, 62.1583, 62.322, 62.3199, 62.3846, 61.5664, 61.2374, 61.3206, 61.5515, 62.2049, 62.2052, 62.1689, 62.3258, 62.8688, 62.1446, 62.321, 62.2059, 62.2062, 62.2078, 62.0581, 62.1039, 61.6692, 62.4126, 62.3296, 62.328, 62.4166, 62.8045, 63.1639, 62.4227, 62.5148, 63.1607, 63.1607, 63.0758, 63.4033, 63.8622, 63.5858, 63.5931, 62.9759, 62.9759, 63.0114, 62.7974, 63.0976, 63.1543, 62.9445, 62.808, 62.8058, 63.0883, 63.6822, 63.145, 63.3743, 63.2205, 62.9448, 62.9446, 62.9293, 62.542, 61.8017, 62.3795, 62.2641, 62.5882, 62.5872, 62.5012, 62.3458, 62.6342, 63.0842, 63.6346, 63.4719, 63.4721, 63.4282, 63.0742, 63.3331, 62.8282, 62.9537, 62.7839, 62.7839, 62.7306, 62.2495, 62.4592, 62.9988, 63.3367, 63.342, 63.342, 63.3763, 63.6729, 63.5166, 65.5877, 66.545, 67.6909, 67.6909, 67.8494, 67.6627, 66.6071, 67.3317, 66.8639, 67.0075, 67.0075, 67.0829, 67.0014, 67.2166, 68.0498, 68.2972, 67.0932, 67.0932, 67.093, 67.4703, 67.8484, 67.9424, 68.2452, 67.516, 67.516, 67.578, 67.9144, 68.2069, 68.082, 69.203, 69.9101, 69.9111, 69.7331, 70.5667, 69.4031, 68.9207, 68.3217, 68.0369, 68.0369, 68.0304, 68.0699, 67.3874, 66.748, 66.3572, 66.4793, 66.8534, 66.5978, 65.9817, 65.7536, 65.919, 65.5561, 65.6148, 65.6148, 65.6085, 64.9926, 65.4259, 65.9212, 66.8861, 66.6299, 66.6299, 66.6042, 66.6357, 66.2462, 66.9351, 66.2117, 66.065, 66.065, 65.9475, 65.5768, 65.3444, 65.5591, 65.8092, 65.4973, 65.4973, 65.5465, 65.2115, 65.5191, 65.5916, 65.5776, 65.69, 65.692, 65.685, 65.8128, 65.5094, 65.7482, 65.6843, 66.1583, 66.1583, 66.0966, 66.0613, 66.0585, 66.1885, 66.9001, 67.92, 67.9212, 67.8918, 67.8571, 67.9724, 67.1006, 65.8962, 65.9831, 65.9831, 66.021, 65.5917, 66.0928, 65.6972, 65.6014, 66.2126, 66.2125, 66.5587, 67.1477, 67.0573, 66.9516, 66.1927, 67.0572, 67.0545, 66.7415, 66.5852, 66.8281, 66.5218, 66.7492, 66.4191, 66.4191, 66.4347, 66.6824, 66.4127, 66.4137, 66.3483, 66.8249, 66.8249, 66.681, 66.654, 67.4666, 67.4527, 68.2993, 68.89, 68.8903, 68.7537, 68.6487, 68.7465, 68.7911, 69.591, 69.5009, 69.5009, 69.5234, 69.2062]  \n",
    "plt.plot(usd_by_day[:len(np.unique(df_train['date_created']))])"
   ]
  },
  {
   "cell_type": "markdown",
   "metadata": {
    "colab_type": "text",
    "id": "dPAFMSnLYFWo"
   },
   "source": [
    "Как я вижу сейчас, это не совсем верно все же, но в меня засела мысль приписать в модели курс доллара и посмотреть что выйдет. На локальном обучении и валидации выходило неплохо, был прирост, но на паблик лидерборде скор был 0.54 - и я увидел объяснение этому в том, что большую роль при обучении модели стал играть курс доллара - а тестируемый датасет периодом не пересекается с тренировочным (второй по 16 октярбя, первый с 17 октября, кажется), и в октябре курс доллара был выше, чем весь остальной год - и это могло склонять модель к предсказывании непродажи товара.. Но я пытался и не жалею"
   ]
  },
  {
   "cell_type": "code",
   "execution_count": 0,
   "metadata": {
    "colab": {},
    "colab_type": "code",
    "id": "hza4jrDFvm9U"
   },
   "outputs": [],
   "source": [
    "days = list(np.unique(df_train['date_created'])) + list(np.unique(df_test['date_created']))\n",
    "mapa_usd_day = {}\n",
    "mapa_delta_usd_day = {}\n",
    "mapa_day_of_week = {}\n",
    "for i in range(len(days)):\n",
    "  mapa_usd_day[days[i]] = usd_by_day[i]\n",
    "  if i == 0:\n",
    "    mapa_delta_usd_day[days[i]] = 0\n",
    "  else:\n",
    "    mapa_delta_usd_day[days[i]] = usd_by_day[i] - usd_by_day[i-1]\n",
    "  mapa_day_of_week[days[i]] = i % 7  "
   ]
  },
  {
   "cell_type": "markdown",
   "metadata": {
    "colab_type": "text",
    "id": "1fYBdPJbY0_n"
   },
   "source": [
    "Также я решил добавить день недели, дельту курса доллара с предыдущим днем, сезон (ориентируясь на температуру и свои ожидания), номер непосредственно подкатегории, раз оно хорошо работало, поиск нескольких слов в тексте описани, медианную цену товара в даной субкатегории и отношении ценыданного товара к этой медиане - в моделях эти две фичи суммарно набирали важность 0.2! "
   ]
  },
  {
   "cell_type": "code",
   "execution_count": 0,
   "metadata": {
    "colab": {
     "base_uri": "https://localhost:8080/",
     "height": 54
    },
    "colab_type": "code",
    "id": "lwfcLhUpWkuG",
    "outputId": "4653329f-b119-4cf2-c96a-d77f459ef5c4"
   },
   "outputs": [
    {
     "data": {
      "text/plain": [
       "\"\\ndef prepareX(X):\\n  columns_with_text = ['city', 'date_created', 'desc_text', 'name_text', 'lat', 'long', 'owner_id', 'product_id', 'properties', 'region']\\n  X_prep = X.copy()\\n  #X.columns.append(['date_year', 'date_month', 'date_day'])\\n  #X_prep['date_year'] = X['date_created'].str[:4].astype(int)\\n  X_prep['date_month'] = X['date_created'].str[5:7].astype(int)\\n  X_prep['date_day'] = X['date_created'].str[8:10].astype(int)\\n  X_prep['desc_text_length'] = X['desc_text'].str.len()\\n  X_prep['desc_text_num_of_words'] = X['desc_text'].str.split().map(lambda x: len(x))\\n  X_prep['name_text_length'] = X['name_text'].str.len()\\n  X_prep['has_properties'] = X['properties'].map(lambda x: len(x) > 2)\\n  X_prep['num_properties'] = X['properties'].map(lambda x: x.count('}'))\\n \\n  #regions = {}\\n  #for i, reg in enumerate(set(X_prep['region'])):\\n  #  regions[reg] = i\\n  regs = pd.get_dummies(X_prep['region'])\\n  count = len(regs.columns)\\n  bad_cols = []\\n  regs['size_region'] = 0\\n  for col in regs.columns:\\n    if col is not 'size_region':# and len(regs[regs[col] == 1]) < 2 * regs.shape[0] / count:\\n      bad_cols.append(col)\\n      regs.size_region[regs[col] == 1] = len(regs[regs[col] == 1])\\n  regs = regs.drop(columns=bad_cols)   \\n  X_prep = X_prep.join(regs)\\n  '''\\n  regs = pd.get_dummies(X_prep['city'])\\n  count = len(regs.columns)\\n  bad_cols = []\\n  regs['size_city'] = 0\\n  for col in regs.columns:\\n    if col is not 'size_city':# and len(regs[regs[col] == 1]) < 2 * regs.shape[0] / count:\\n      bad_cols.append(col)\\n      regs.size_city[regs[col] == 1] = len(regs[regs[col] == 1])\\n  regs = regs.drop(columns=bad_cols)   \\n  X_prep = X_prep.join(regs)\\n  '''\\n  #cities = pd.get_dummies(X_prep['city'])\\n  #count = len(cities.columns)\\n  #for col in cities.columns:\\n  #  if len(cities[cities[col] == 1]) < 2 * cities.shape[0] / count:\\n  #    cities = cities.drop(columns=col)\\n  #X_prep = X_prep.join(cities, rsuffix='CITY_')\\n  #X_prep.region = [regions[reg] for reg in X_prep.region]  \\n  X_prep = X_prep.drop(columns=columns_with_text)\\n  return X_prep\\n  \""
      ]
     },
     "execution_count": 433,
     "metadata": {
      "tags": []
     },
     "output_type": "execute_result"
    }
   ],
   "source": [
    "import json\n",
    "\n",
    "def prepareX(X):\n",
    "  columns_with_text = ['city', 'date_created', 'desc_text', 'name_text', 'lat', 'long', 'owner_id', 'product_id', 'properties', 'region', 'category_id', 'date_month']\n",
    "  X_prep = X.copy()\n",
    "  X_prep['date_month'] = X['date_created'].str[5:7].astype(int)\n",
    "  seasons = {1:4, 2:4, 3:3.5, 4:3, 5:2.5, 6:1, 7:1, 8:1, 9:2.5, 10:2.5, 11:3.3, 12:4}\n",
    "  X_prep['season'] = X_prep['date_month'].map(lambda x: seasons[x])\n",
    "  usd_by_month = [56.4981,56.8067,57.0636,60.7699,62.2309,62.7685,62.8619,66.0764,67.6661,65.8545,66.3557,67.3353]\n",
    "  X_prep['mean_usd_in_month'] = X_prep['date_month'].map(lambda x: usd_by_month[x-1])\n",
    "  X_prep['usd_course'] = X_prep['date_created'].map(lambda x: mapa_usd_day[x])\n",
    "  X_prep['usd_course_delta'] = X_prep['date_created'].map(lambda x: mapa_delta_usd_day[x])\n",
    "  X_prep['day_of_week'] = X_prep['date_created'].map(lambda x: mapa_day_of_week[x])\n",
    "  X_prep['subcategory'] = X_prep['subcategory_id'].map(lambda x: x % 100)\n",
    "  \n",
    "  X_prep['desc_text_length'] = X['desc_text'].str.len()\n",
    "  X_prep['desc_text_num_of_words'] = X['desc_text'].str.split().map(lambda x: len(x))\n",
    "  X_prep['name_text_length'] = X['name_text'].str.len()\n",
    "  #X_prep['has_properties'] = X['properties'].map(lambda x: len(x) > 2)\n",
    "  X_prep['num_properties'] = X['properties'].map(lambda x: x.count('}'))\n",
    "  X_prep['asap'] = X['desc_text'].str.lower().str.find('срочно') > -1\n",
    "  X_prep['free'] = X['desc_text'].str.lower().str.find('бесплатн') > -1\n",
    "  X_prep['cheap'] = X['desc_text'].str.lower().str.find('недорог') > -1\n",
    "  X_prep['sale'] = X['desc_text'].str.lower().str.find('скидк') > -1\n",
    "  X_prep['gift'] = X['desc_text'].str.lower().str.find('подарок') > -1\n",
    "  X_prep['new'] = X['desc_text'].str.lower().str.find('новый') > -1\n",
    "  X_prep['new2'] = X['desc_text'].str.lower().str.find('новая') > -1\n",
    "  X_prep['loud'] = X['desc_text'].str.find('!') > -1\n",
    "  meds = {}\n",
    "  for cat in np.unique(X_prep['subcategory_id']):\n",
    "    meds[cat] = np.median(X_prep[X_prep['subcategory_id'] == cat]['price'])\n",
    "                         \n",
    "  X_prep['med_subcat'] = X_prep['subcategory_id'].map(lambda x: meds[x] if meds[x] > 0 else 1)\n",
    "  X_prep['price_comp_subcat'] = X_prep['price'] / X_prep['med_subcat']\n",
    "  X_prep = X_prep.drop(columns=columns_with_text)\n",
    "  return X_prep"
   ]
  },
  {
   "cell_type": "code",
   "execution_count": 0,
   "metadata": {
    "colab": {
     "base_uri": "https://localhost:8080/",
     "height": 2179
    },
    "colab_type": "code",
    "id": "DEd8KwHu8jZP",
    "outputId": "5acd9977-d28a-49bf-d41d-f83b9cebd03e"
   },
   "outputs": [
    {
     "name": "stdout",
     "output_type": "stream",
     "text": [
      "delivery_available\n",
      "              precision    recall  f1-score   support\n",
      "\n",
      "       False       0.67      0.77      0.72     94068\n",
      "        True       0.33      0.23      0.27     46444\n",
      "\n",
      "    accuracy                           0.59    140512\n",
      "   macro avg       0.50      0.50      0.49    140512\n",
      "weighted avg       0.56      0.59      0.57    140512\n",
      "\n",
      "payment_available\n",
      "              precision    recall  f1-score   support\n",
      "\n",
      "       False       0.40      0.77      0.53     56511\n",
      "        True       0.60      0.23      0.33     84001\n",
      "\n",
      "    accuracy                           0.45    140512\n",
      "   macro avg       0.50      0.50      0.43    140512\n",
      "weighted avg       0.52      0.45      0.41    140512\n",
      "\n",
      "product_type\n",
      "              precision    recall  f1-score   support\n",
      "\n",
      "           0       0.00      0.00      0.00         0\n",
      "           1       0.99      0.23      0.37    137657\n",
      "           5       0.00      0.00      0.00      2855\n",
      "\n",
      "    accuracy                           0.23    140512\n",
      "   macro avg       0.33      0.08      0.12    140512\n",
      "weighted avg       0.97      0.23      0.37    140512\n",
      "\n",
      "sold_mode\n"
     ]
    },
    {
     "name": "stderr",
     "output_type": "stream",
     "text": [
      "/usr/local/lib/python3.6/dist-packages/sklearn/metrics/classification.py:1437: UndefinedMetricWarning: Precision and F-score are ill-defined and being set to 0.0 in labels with no predicted samples.\n",
      "  'precision', 'predicted', average, warn_for)\n",
      "/usr/local/lib/python3.6/dist-packages/sklearn/metrics/classification.py:1439: UndefinedMetricWarning: Recall and F-score are ill-defined and being set to 0.0 in labels with no true samples.\n",
      "  'recall', 'true', average, warn_for)\n"
     ]
    },
    {
     "name": "stdout",
     "output_type": "stream",
     "text": [
      "              precision    recall  f1-score   support\n",
      "\n",
      "           0       0.00      0.00      0.00         0\n",
      "           1       0.99      0.23      0.37    139014\n",
      "           2       0.00      0.00      0.00      1498\n",
      "\n",
      "    accuracy                           0.23    140512\n",
      "   macro avg       0.33      0.08      0.12    140512\n",
      "weighted avg       0.98      0.23      0.37    140512\n",
      "\n",
      "asap\n",
      "              precision    recall  f1-score   support\n",
      "\n",
      "       False       0.97      0.77      0.86    136133\n",
      "        True       0.04      0.29      0.07      4379\n",
      "\n",
      "    accuracy                           0.76    140512\n",
      "   macro avg       0.51      0.53      0.46    140512\n",
      "weighted avg       0.94      0.76      0.84    140512\n",
      "\n",
      "free\n",
      "              precision    recall  f1-score   support\n",
      "\n",
      "       False       0.99      0.77      0.87    138439\n",
      "        True       0.02      0.32      0.04      2073\n",
      "\n",
      "    accuracy                           0.77    140512\n",
      "   macro avg       0.50      0.55      0.45    140512\n",
      "weighted avg       0.97      0.77      0.85    140512\n",
      "\n",
      "cheap\n",
      "              precision    recall  f1-score   support\n",
      "\n",
      "       False       1.00      0.77      0.87    140275\n",
      "        True       0.00      0.25      0.00       237\n",
      "\n",
      "    accuracy                           0.77    140512\n",
      "   macro avg       0.50      0.51      0.44    140512\n",
      "weighted avg       1.00      0.77      0.87    140512\n",
      "\n",
      "sale\n",
      "              precision    recall  f1-score   support\n",
      "\n",
      "       False       0.99      0.77      0.87    139464\n",
      "        True       0.01      0.17      0.01      1048\n",
      "\n",
      "    accuracy                           0.77    140512\n",
      "   macro avg       0.50      0.47      0.44    140512\n",
      "weighted avg       0.98      0.77      0.86    140512\n",
      "\n",
      "gift\n",
      "              precision    recall  f1-score   support\n",
      "\n",
      "       False       0.97      0.77      0.86    135636\n",
      "        True       0.03      0.23      0.06      4876\n",
      "\n",
      "    accuracy                           0.75    140512\n",
      "   macro avg       0.50      0.50      0.46    140512\n",
      "weighted avg       0.93      0.75      0.83    140512\n",
      "\n",
      "new\n",
      "              precision    recall  f1-score   support\n",
      "\n",
      "       False       0.93      0.77      0.84    130979\n",
      "        True       0.06      0.21      0.10      9533\n",
      "\n",
      "    accuracy                           0.73    140512\n",
      "   macro avg       0.50      0.49      0.47    140512\n",
      "weighted avg       0.87      0.73      0.79    140512\n",
      "\n",
      "new2\n",
      "              precision    recall  f1-score   support\n",
      "\n",
      "       False       0.95      0.77      0.85    134324\n",
      "        True       0.04      0.19      0.06      6188\n",
      "\n",
      "    accuracy                           0.74    140512\n",
      "   macro avg       0.50      0.48      0.46    140512\n",
      "weighted avg       0.91      0.74      0.82    140512\n",
      "\n",
      "loud\n",
      "              precision    recall  f1-score   support\n",
      "\n",
      "       False       0.87      0.77      0.82    122547\n",
      "        True       0.12      0.22      0.15     17965\n",
      "\n",
      "    accuracy                           0.70    140512\n",
      "   macro avg       0.50      0.49      0.49    140512\n",
      "weighted avg       0.77      0.70      0.73    140512\n",
      "\n"
     ]
    }
   ],
   "source": [
    "from sklearn.metrics import classification_report\n",
    "\n",
    "for col in X_train.columns:\n",
    "  if (len(np.unique(X_train[col])) == 2):\n",
    "    print(col)\n",
    "    print(classification_report(X_train[col], y_train))"
   ]
  },
  {
   "cell_type": "markdown",
   "metadata": {
    "colab_type": "text",
    "id": "4ir5K5jxZjIj"
   },
   "source": [
    "Я проводил разные эксперименты, удаляя разные признаки, и в целом было неплохо, вот пример эксперимента по подгону гиперпараметров"
   ]
  },
  {
   "cell_type": "code",
   "execution_count": 0,
   "metadata": {
    "colab": {
     "base_uri": "https://localhost:8080/",
     "height": 4391
    },
    "colab_type": "code",
    "id": "9hA7bRk2ZrVp",
    "outputId": "20e482d8-4d12-4cd0-89f1-b0ef7488e5f3"
   },
   "outputs": [
    {
     "name": "stdout",
     "output_type": "stream",
     "text": [
      "Est: 100 max_features: 3 rate: 0.2 depth: 2\n"
     ]
    },
    {
     "data": {
      "image/png": "[encoded data removed]",
      "text/plain": [
       "<Figure size 864x576 with 1 Axes>"
      ]
     },
     "metadata": {
      "tags": []
     },
     "output_type": "display_data"
    },
    {
     "name": "stdout",
     "output_type": "stream",
     "text": [
      "Est: 100 max_features: 6 rate: 0.2 depth: 2\n"
     ]
    },
    {
     "data": {
      "image/png": "[encoded data removed]",
      "text/plain": [
       "<Figure size 864x576 with 1 Axes>"
      ]
     },
     "metadata": {
      "tags": []
     },
     "output_type": "display_data"
    },
    {
     "name": "stdout",
     "output_type": "stream",
     "text": [
      "Est: 100 max_features: 9 rate: 0.2 depth: 2\n"
     ]
    },
    {
     "data": {
      "image/png": "[encoded data removed]",
      "text/plain": [
       "<Figure size 864x576 with 1 Axes>"
      ]
     },
     "metadata": {
      "tags": []
     },
     "output_type": "display_data"
    },
    {
     "name": "stdout",
     "output_type": "stream",
     "text": [
      "Est: 100 max_features: 3 rate: 0.2 depth: 4\n"
     ]
    },
    {
     "data": {
      "image/png": "[encoded data removed]",
      "text/plain": [
       "<Figure size 864x576 with 1 Axes>"
      ]
     },
     "metadata": {
      "tags": []
     },
     "output_type": "display_data"
    },
    {
     "name": "stdout",
     "output_type": "stream",
     "text": [
      "Est: 100 max_features: 6 rate: 0.2 depth: 4\n"
     ]
    },
    {
     "data": {
      "image/png": "[encoded data removed]",
      "text/plain": [
       "<Figure size 864x576 with 1 Axes>"
      ]
     },
     "metadata": {
      "tags": []
     },
     "output_type": "display_data"
    },
    {
     "name": "stdout",
     "output_type": "stream",
     "text": [
      "Est: 100 max_features: 9 rate: 0.2 depth: 4\n"
     ]
    },
    {
     "data": {
      "image/png": "[encoded data removed]",
      "text/plain": [
       "<Figure size 864x576 with 1 Axes>"
      ]
     },
     "metadata": {
      "tags": []
     },
     "output_type": "display_data"
    },
    {
     "name": "stdout",
     "output_type": "stream",
     "text": [
      "Est: 100 max_features: 3 rate: 0.2 depth: 6\n"
     ]
    },
    {
     "data": {
      "image/png": "[encoded data removed]",
      "text/plain": [
       "<Figure size 864x576 with 1 Axes>"
      ]
     },
     "metadata": {
      "tags": []
     },
     "output_type": "display_data"
    },
    {
     "name": "stdout",
     "output_type": "stream",
     "text": [
      "Est: 100 max_features: 6 rate: 0.2 depth: 6\n"
     ]
    },
    {
     "data": {
      "image/png": "[encoded data removed]",
      "text/plain": [
       "<Figure size 864x576 with 1 Axes>"
      ]
     },
     "metadata": {
      "tags": []
     },
     "output_type": "display_data"
    },
    {
     "name": "stdout",
     "output_type": "stream",
     "text": [
      "Est: 100 max_features: 9 rate: 0.2 depth: 6\n"
     ]
    },
    {
     "data": {
      "image/png": "[encoded data removed]",
      "text/plain": [
       "<Figure size 864x576 with 1 Axes>"
      ]
     },
     "metadata": {
      "tags": []
     },
     "output_type": "display_data"
    }
   ],
   "source": [
    "n_estimators = [100 * i for i in range(1, 2)]\n",
    "lr = [0.05 * i for i in range(1, 5)]\n",
    "max_features = [3 * i for i in range(1, 4)]\n",
    "depth = [2*i for i in range(1, 4)]\n",
    "\n",
    "rocs = []\n",
    "for n in n_estimators:\n",
    "  for d in depth:\n",
    "    for feat in max_features:\n",
    "      rocs = []\n",
    "      for rate in lr:\n",
    "        gdc = GradientBoostingClassifier(n_estimators=n, learning_rate=rate, max_features=feat, subsample=1, verbose=0, max_depth=d, random_state=42)\n",
    "        gdc.fit(X_train, y_train)\n",
    "        y_pred = gdc.predict_proba(X_test)\n",
    "        rocs.append(roc_auc_score(y_test, y_pred[:,1]))\n",
    "      print('Est:', n, 'max_features:', feat, 'rate:', rate, 'depth:', d)\n",
    "      plt.plot(lr, rocs)  \n",
    "      plt.show()\n",
    "\n"
   ]
  },
  {
   "cell_type": "markdown",
   "metadata": {
    "colab_type": "text",
    "id": "DDTO2xf2Z0Jy"
   },
   "source": [
    "Также я хотел, чтобы скоры на трейне и тесте были близки - и проверял и это начиная с какого-то момента"
   ]
  },
  {
   "cell_type": "code",
   "execution_count": 0,
   "metadata": {
    "colab": {
     "base_uri": "https://localhost:8080/",
     "height": 3580
    },
    "colab_type": "code",
    "id": "KAmOdDkzXhOp",
    "outputId": "41029622-ed51-477e-9785-d868c8a1e48c"
   },
   "outputs": [
    {
     "name": "stdout",
     "output_type": "stream",
     "text": [
      "      Iter       Train Loss   Remaining Time \n",
      "         1           1.0749            2.19s\n",
      "         2           1.0715            2.38s\n",
      "         3           1.0682            2.33s\n",
      "         4           1.0664            2.11s\n",
      "         5           1.0639            1.97s\n",
      "         6           1.0622            1.83s\n",
      "         7           1.0602            1.72s\n",
      "         8           1.0587            1.61s\n",
      "         9           1.0570            1.50s\n",
      "        10           1.0556            1.37s\n",
      "        20           1.0471            0.00s\n",
      "      Iter       Train Loss   Remaining Time \n",
      "         1           1.0749            5.16s\n",
      "         2           1.0715            5.15s\n",
      "         3           1.0682            5.15s\n",
      "         4           1.0664            4.80s\n",
      "         5           1.0639            4.65s\n",
      "         6           1.0622            4.51s\n",
      "         7           1.0602            4.43s\n",
      "         8           1.0587            4.35s\n",
      "         9           1.0570            4.28s\n",
      "        10           1.0556            4.16s\n",
      "        20           1.0471            2.78s\n",
      "        30           1.0427            1.40s\n",
      "        40           1.0396            0.00s\n",
      "      Iter       Train Loss   Remaining Time \n",
      "         1           1.0749            7.16s\n",
      "         2           1.0715            7.68s\n",
      "         3           1.0682            7.78s\n",
      "         4           1.0664            7.32s\n",
      "         5           1.0639            7.29s\n",
      "         6           1.0622            7.17s\n",
      "         7           1.0602            7.14s\n",
      "         8           1.0587            7.08s\n",
      "         9           1.0570            7.05s\n",
      "        10           1.0556            6.94s\n",
      "        20           1.0471            5.57s\n",
      "        30           1.0427            4.18s\n",
      "        40           1.0396            2.78s\n",
      "        50           1.0371            1.37s\n",
      "        60           1.0356            0.00s\n",
      "      Iter       Train Loss   Remaining Time \n",
      "         1           1.0749            9.48s\n",
      "         2           1.0715           10.05s\n",
      "         3           1.0682           10.41s\n",
      "         4           1.0664           10.19s\n",
      "         5           1.0639           10.07s\n",
      "         6           1.0622            9.94s\n",
      "         7           1.0602            9.93s\n",
      "         8           1.0587            9.90s\n",
      "         9           1.0570            9.86s\n",
      "        10           1.0556            9.74s\n",
      "        20           1.0471            8.47s\n",
      "        30           1.0427            7.03s\n",
      "        40           1.0396            5.57s\n",
      "        50           1.0371            4.11s\n",
      "        60           1.0356            2.71s\n",
      "        70           1.0341            1.35s\n",
      "        80           1.0328            0.00s\n",
      "      Iter       Train Loss   Remaining Time \n",
      "         1           1.0749           12.08s\n",
      "         2           1.0715           12.86s\n",
      "         3           1.0682           13.54s\n",
      "         4           1.0664           12.86s\n",
      "         5           1.0639           12.65s\n",
      "         6           1.0622           12.39s\n",
      "         7           1.0602           12.50s\n",
      "         8           1.0587           12.58s\n",
      "         9           1.0570           12.50s\n",
      "        10           1.0556           12.53s\n",
      "        20           1.0471           11.11s\n",
      "        30           1.0427            9.70s\n",
      "        40           1.0396            8.27s\n",
      "        50           1.0371            6.81s\n",
      "        60           1.0356            5.41s\n",
      "        70           1.0341            4.03s\n",
      "        80           1.0328            2.66s\n",
      "        90           1.0316            1.33s\n",
      "       100           1.0305            0.00s\n",
      "      Iter       Train Loss   Remaining Time \n",
      "         1           1.0749           14.18s\n",
      "         2           1.0715           15.08s\n",
      "         3           1.0682           15.51s\n",
      "         4           1.0664           14.94s\n",
      "         5           1.0639           15.19s\n",
      "         6           1.0622           15.14s\n",
      "         7           1.0602           15.15s\n",
      "         8           1.0587           15.15s\n",
      "         9           1.0570           15.15s\n",
      "        10           1.0556           15.05s\n",
      "        20           1.0471           14.13s\n",
      "        30           1.0427           12.64s\n",
      "        40           1.0396           11.12s\n",
      "        50           1.0371            9.59s\n",
      "        60           1.0356            8.13s\n",
      "        70           1.0341            6.73s\n",
      "        80           1.0328            5.33s\n",
      "        90           1.0316            3.99s\n",
      "       100           1.0305            2.65s\n",
      "      Iter       Train Loss   Remaining Time \n",
      "         1           1.0749           16.37s\n",
      "         2           1.0715           17.79s\n",
      "         3           1.0682           18.85s\n",
      "         4           1.0664           18.00s\n",
      "         5           1.0639           18.02s\n",
      "         6           1.0622           17.74s\n",
      "         7           1.0602           17.80s\n",
      "         8           1.0587           17.82s\n",
      "         9           1.0570           17.90s\n",
      "        10           1.0556           17.96s\n",
      "        20           1.0471           16.69s\n",
      "        30           1.0427           15.26s\n",
      "        40           1.0396           13.88s\n",
      "        50           1.0371           12.30s\n",
      "        60           1.0356           10.82s\n",
      "        70           1.0341            9.40s\n",
      "        80           1.0328            7.99s\n",
      "        90           1.0316            6.63s\n",
      "       100           1.0305            5.27s\n",
      "      Iter       Train Loss   Remaining Time \n",
      "         1           1.0749           18.82s\n",
      "         2           1.0715           20.05s\n",
      "         3           1.0682           21.40s\n",
      "         4           1.0664           20.53s\n",
      "         5           1.0639           20.31s\n",
      "         6           1.0622           20.08s\n",
      "         7           1.0602           20.38s\n",
      "         8           1.0587           20.48s\n",
      "         9           1.0570           20.49s\n",
      "        10           1.0556           20.53s\n",
      "        20           1.0471           19.37s\n",
      "        30           1.0427           18.00s\n",
      "        40           1.0396           16.50s\n",
      "        50           1.0371           14.99s\n",
      "        60           1.0356           13.47s\n",
      "        70           1.0341           12.06s\n",
      "        80           1.0328           10.61s\n",
      "        90           1.0316            9.26s\n",
      "       100           1.0305            7.89s\n",
      "      Iter       Train Loss   Remaining Time \n",
      "         1           1.0749           21.61s\n",
      "         2           1.0715           23.17s\n",
      "         3           1.0682           24.05s\n",
      "         4           1.0664           23.05s\n",
      "         5           1.0639           22.95s\n",
      "         6           1.0622           23.05s\n",
      "         7           1.0602           23.75s\n",
      "         8           1.0587           23.80s\n",
      "         9           1.0570           23.80s\n",
      "        10           1.0556           23.71s\n",
      "        20           1.0471           22.40s\n",
      "        30           1.0427           20.98s\n",
      "        40           1.0396           19.48s\n",
      "        50           1.0371           17.78s\n",
      "        60           1.0356           16.22s\n",
      "        70           1.0341           14.80s\n",
      "        80           1.0328           13.31s\n",
      "        90           1.0316           11.94s\n",
      "       100           1.0305           10.55s\n",
      "      Iter       Train Loss   Remaining Time \n",
      "         1           1.0749           24.59s\n",
      "         2           1.0715           25.77s\n",
      "         3           1.0682           26.53s\n",
      "         4           1.0664           25.36s\n",
      "         5           1.0639           25.24s\n",
      "         6           1.0622           25.44s\n",
      "         7           1.0602           25.66s\n",
      "         8           1.0587           25.96s\n",
      "         9           1.0570           26.04s\n",
      "        10           1.0556           25.92s\n",
      "        20           1.0471           24.97s\n",
      "        30           1.0427           23.70s\n",
      "        40           1.0396           22.26s\n",
      "        50           1.0371           20.51s\n",
      "        60           1.0356           18.97s\n",
      "        70           1.0341           17.51s\n",
      "        80           1.0328           16.02s\n",
      "        90           1.0316           14.62s\n",
      "       100           1.0305           13.21s\n",
      "       200           1.0217            0.00s\n"
     ]
    },
    {
     "data": {
      "text/plain": [
       "[<matplotlib.lines.Line2D at 0x7f169b16b630>]"
      ]
     },
     "execution_count": 329,
     "metadata": {
      "tags": []
     },
     "output_type": "execute_result"
    },
    {
     "data": {
      "image/png": "[encoded data removed]",
      "text/plain": [
       "<Figure size 864x576 with 1 Axes>"
      ]
     },
     "metadata": {
      "tags": []
     },
     "output_type": "display_data"
    }
   ],
   "source": [
    "n_est = [20*i for i in range(1, 11)]\n",
    "rocs = []\n",
    "rocs_train = []\n",
    "gdc = GradientBoostingClassifier()\n",
    "for n in n_est:\n",
    "  gdc = GradientBoostingClassifier(n_estimators=n, learning_rate=0.1, max_features=6, subsample=1, verbose=1, max_depth=4, random_state=42,\n",
    "                                  min_impurity_decrease=0.1)\n",
    "  gdc.fit(X_train, y_train)\n",
    "  y_pred = gdc.predict_proba(X_test)\n",
    "  y_pred_train = gdc.predict_proba(X_train)\n",
    "  rocs.append(roc_auc_score(y_test, y_pred[:, 1]))\n",
    "  rocs_train.append(roc_auc_score(y_train, y_pred_train[:, 1]))\n",
    "  \n",
    "plt.plot(n_est, rocs) \n",
    "plt.plot(n_est, rocs_train)  \n",
    "  "
   ]
  },
  {
   "cell_type": "markdown",
   "metadata": {
    "colab_type": "text",
    "id": "VmT47n8gaLG_"
   },
   "source": [
    "В итоге лучшим решением в последние дни стала комбинация градиентного бустинга и xgboost"
   ]
  },
  {
   "cell_type": "code",
   "execution_count": 0,
   "metadata": {
    "colab": {},
    "colab_type": "code",
    "id": "o0Qqr6DubA35"
   },
   "outputs": [],
   "source": [
    "import json\n",
    "\n",
    "def prepareX(X):\n",
    "  columns_with_text = ['city', 'date_created', 'desc_text', 'name_text', 'lat', 'long', 'owner_id', 'product_id', 'properties', 'region', 'category_id']\n",
    "  X_prep = X.copy()\n",
    "  X_prep['date_month'] = X['date_created'].str[5:7].astype(int)\n",
    "  X_prep['desc_text_length'] = X['desc_text'].str.len()\n",
    "  X_prep['desc_text_num_of_words'] = X['desc_text'].str.split().map(lambda x: len(x))\n",
    "  X_prep['name_text_length'] = X['name_text'].str.len()\n",
    "  X_prep['has_properties'] = X['properties'].map(lambda x: len(x) > 2)\n",
    "  X_prep['num_properties'] = X['properties'].map(lambda x: x.count('}'))\n",
    "  X_prep['asap'] = X['desc_text'].str.lower().str.find('срочно') > -1\n",
    "  X_prep['loud'] = X['desc_text'].str.find('!') > -1\n",
    "  meds = {}\n",
    "  for cat in np.unique(X_prep['subcategory_id']):\n",
    "    meds[cat] = np.median(X_prep[X_prep['subcategory_id'] == cat]['price'])\n",
    "                         \n",
    "  X_prep['med_subcat'] = X_prep['subcategory_id'].map(lambda x: meds[x] if meds[x] > 0 else 1)\n",
    "  X_prep['price_comp_subcat'] = X_prep['price'] / X_prep['med_subcat'] \n",
    "  X_prep = X_prep.drop(columns=columns_with_text)\n",
    "  return X_prep"
   ]
  },
  {
   "cell_type": "code",
   "execution_count": 0,
   "metadata": {
    "colab": {
     "base_uri": "https://localhost:8080/",
     "height": 374
    },
    "colab_type": "code",
    "id": "lDlNeFJaDP3R",
    "outputId": "8c83bab9-0f30-458c-b6f0-8d18cc556e7f"
   },
   "outputs": [
    {
     "name": "stdout",
     "output_type": "stream",
     "text": [
      "      Iter       Train Loss   Remaining Time \n",
      "         1           1.0734           38.97s\n",
      "         2           1.0698           37.32s\n",
      "         3           1.0669           37.16s\n",
      "         4           1.0641           37.17s\n",
      "         5           1.0620           36.36s\n",
      "         6           1.0601           37.31s\n",
      "         7           1.0586           37.11s\n",
      "         8           1.0571           37.40s\n",
      "         9           1.0558           37.62s\n",
      "        10           1.0547           37.47s\n",
      "        20           1.0474           34.97s\n",
      "        30           1.0434           32.63s\n",
      "        40           1.0407           30.37s\n",
      "        50           1.0389           28.05s\n",
      "        60           1.0373           25.92s\n",
      "        70           1.0359           23.96s\n",
      "        80           1.0347           21.87s\n",
      "        90           1.0335           19.82s\n",
      "       100           1.0323           17.77s\n",
      "       200           1.0229            0.00s\n"
     ]
    }
   ],
   "source": [
    "gdc = GradientBoostingClassifier(n_estimators=200, learning_rate=0.1, max_features=None, subsample=1, verbose=1, max_depth=4, random_state=42)\n",
    "gdc.fit(X_train, y_train)\n",
    "y_pred = gdc.predict_proba(X_test)"
   ]
  },
  {
   "cell_type": "code",
   "execution_count": 0,
   "metadata": {
    "colab": {
     "base_uri": "https://localhost:8080/",
     "height": 34
    },
    "colab_type": "code",
    "id": "aPTraiOKDbbu",
    "outputId": "f45e3df1-784e-4af0-bb83-d828345e5493"
   },
   "outputs": [
    {
     "data": {
      "text/plain": [
       "0.6269417302738292"
      ]
     },
     "execution_count": 15,
     "metadata": {
      "tags": []
     },
     "output_type": "execute_result"
    }
   ],
   "source": [
    "roc_auc_score(y_test, y_pred[:, 1])"
   ]
  },
  {
   "cell_type": "code",
   "execution_count": 0,
   "metadata": {
    "colab": {},
    "colab_type": "code",
    "id": "eigLwX7Eex9e"
   },
   "outputs": [],
   "source": [
    "from xgboost import XGBClassifier\n",
    "\n",
    "\n",
    "xgb = XGBClassifier(n_estimators=150, max_depth=4, learning_rate=0.15, n_jobs=5, verbosity=1, random_state=42)\n",
    "xgb.fit(X_train, y_train)\n",
    "y_pred = xgb.predict_proba(X_test)"
   ]
  },
  {
   "cell_type": "code",
   "execution_count": 0,
   "metadata": {
    "colab": {
     "base_uri": "https://localhost:8080/",
     "height": 34
    },
    "colab_type": "code",
    "id": "gtuil7GyfPRN",
    "outputId": "1a8449b9-04c0-4d53-f440-4cb3310bf737"
   },
   "outputs": [
    {
     "data": {
      "text/plain": [
       "0.6273876262207247"
      ]
     },
     "execution_count": 17,
     "metadata": {
      "tags": []
     },
     "output_type": "execute_result"
    }
   ],
   "source": [
    "roc_auc_score(y_test, y_pred[:, 1])"
   ]
  },
  {
   "cell_type": "code",
   "execution_count": 0,
   "metadata": {
    "colab": {
     "base_uri": "https://localhost:8080/",
     "height": 391
    },
    "colab_type": "code",
    "id": "gAmsY0Sko-3X",
    "outputId": "4dd7128f-aef6-41c3-a887-7cd9f832eb55"
   },
   "outputs": [
    {
     "name": "stdout",
     "output_type": "stream",
     "text": [
      "      Iter       Train Loss   Remaining Time \n",
      "         1           1.0763            3.33m\n",
      "         2           1.0728            3.24m\n",
      "         3           1.0699            3.26m\n",
      "         4           1.0675            3.24m\n",
      "         5           1.0651            3.27m\n",
      "         6           1.0635            3.25m\n",
      "         7           1.0618            3.24m\n",
      "         8           1.0603            3.25m\n",
      "         9           1.0592            3.26m\n",
      "        10           1.0580            3.24m\n",
      "        20           1.0510            3.14m\n",
      "        30           1.0472            3.03m\n",
      "        40           1.0449            2.90m\n",
      "        50           1.0435            2.79m\n",
      "        60           1.0421            2.65m\n",
      "        70           1.0411            2.53m\n",
      "        80           1.0400            2.40m\n",
      "        90           1.0393            2.26m\n",
      "       100           1.0385            2.13m\n",
      "       200           1.0330            1.01m\n",
      "       300           1.0291            0.00s\n"
     ]
    }
   ],
   "source": [
    "gdc = GradientBoostingClassifier(n_estimators=300, learning_rate=0.1, max_features=None, subsample=1, verbose=1, max_depth=4, random_state=42)\n",
    "gdc.fit(X, y)\n",
    "y_pred1 = gdc.predict_proba(X)\n",
    "xgb = XGBClassifier(n_estimators=200, max_depth=4, learning_rate=0.15, n_jobs=5, verbosity=1)\n",
    "xgb.fit(X, y)\n",
    "y_pred2 = xgb.predict_proba(X)\n",
    "y_pred = (y_pred1 + y_pred2) / 2"
   ]
  },
  {
   "cell_type": "code",
   "execution_count": 0,
   "metadata": {
    "colab": {
     "base_uri": "https://localhost:8080/",
     "height": 34
    },
    "colab_type": "code",
    "id": "KIBqv3mwpJ7m",
    "outputId": "efdd0c33-9f31-4e40-c6c5-4b17cddb6f10"
   },
   "outputs": [
    {
     "data": {
      "text/plain": [
       "0.6486425273319752"
      ]
     },
     "execution_count": 27,
     "metadata": {
      "tags": []
     },
     "output_type": "execute_result"
    }
   ],
   "source": [
    "roc_auc_score(y, y_pred[:,1])"
   ]
  },
  {
   "cell_type": "markdown",
   "metadata": {
    "colab_type": "text",
    "id": "xTpnk_yobKqY"
   },
   "source": [
    "В приведенном коде итоговая модель обучается уже на всей выборке, в по отдельности обучалось на 0.4 от тренировочного датасета. Прирост рок аука для теста от усреднения предсказаний составлял несколько тысячных - глядя на лидерборд, это много:)"
   ]
  },
  {
   "cell_type": "markdown",
   "metadata": {
    "colab_type": "text",
    "id": "EMUmAZWQi2Tz"
   },
   "source": [
    "# Model interpretation\n",
    "Try to interpret your model results\n",
    "* What **knowledge** does it reveal?"
   ]
  },
  {
   "cell_type": "markdown",
   "metadata": {
    "colab_type": "text",
    "id": "v9SSSSzHbd-C"
   },
   "source": [
    "В итоге получилось, что большую роль играют цена, месяц и подкатегория. Вот прям никуда без них.\n",
    "\n",
    "Я почти не работал с текстами, поскольку посчитал, что они не дадут мне буста - и редкие попытки либо рушили ядро, либо не давали прирост. \n",
    "\n",
    "Я постарался идти довольно простым и понятным путем и, надеюсь, ничего не забыл в описании своих размышлений.\n",
    "\n",
    "Наверно, стоило попробовать линейный классификатор или обучать модель подольше, но на первое не осталось попыток, когда мне это стукнуло в голову, а второе я боялся делать (а еще в связи с этим я в последние дни обучался на 0.3-0.5 от выборки, а не на 0.7 - рок аук на тесте падал сравнительно значительно,но в кегле результат выходил не столь плохим, то есть локальный рок аук становился репрезентативнее),  о чем, возможно, сожалею. \n",
    "\n",
    "А с курсом доллара было интересно... Была идея пронормировать его для тестового сета, поскольку там курс был сам по себе стабилен, или получше прописать в фичах динамику, но не осталось времени и попыток, да и понимания четкого не было. Но мне кажется, что некоторая зависимость все же может присутствовать. Тем более на тренировочном сете же дает буст)) Просто предсказывать на пару дней вперед мы бы, возможно, смогли, но на пару месяцев - оказалось слишком сложно.\n",
    "\n",
    "Кажется, все.."
   ]
  },
  {
   "cell_type": "markdown",
   "metadata": {
    "colab_type": "text",
    "id": "UZO-1J6zcrwS"
   },
   "source": [
    "Ну и да, гиперпараметры подставлялись методом проб и ошибок, а также на личном понимании того, что происходит, иногда я рисовал графички, но сейчас их затруднительно найти."
   ]
  },
  {
   "cell_type": "markdown",
   "metadata": {
    "colab_type": "text",
    "id": "uwSB4mmhdAdp"
   },
   "source": [
    "Пересмотрел таблички\n",
    "Широта и долгота оказались нерепрезентативны, а идея заменить регион или город на его население не дошла до кода. Идея заменять на вероятность sold_fast == 1 мне просто не особо понятна (понятно почему, не понятно, зачем и почему должно прям хорошо работать) и не нравится. owner_id можно было бы использовать, но из 350к записей 300к разных оунеров - кажется, не сильно влияет, хотя кто знает..  А еще продукт тайп можно было кикать, он часто давал нулевую значимость) \n",
    "Вот теперь, кажется, точно все:)\n",
    "\n",
    "Было интересно, жаль, результаты вышли не самые лучшие, но для своего KISS подхода - я рад, что перебил 0.62 на кегле :)"
   ]
  },
  {
   "cell_type": "code",
   "execution_count": 0,
   "metadata": {
    "colab": {},
    "colab_type": "code",
    "id": "LoseaewZi2T5"
   },
   "outputs": [],
   "source": []
  }
 ],
 "metadata": {
  "accelerator": "GPU",
  "colab": {
   "collapsed_sections": [],
   "name": "161-1-toptunov-alex-report.ipynb",
   "provenance": [],
   "toc_visible": true,
   "version": "0.3.2"
  },
  "kernelspec": {
   "display_name": "Python 3",
   "language": "python",
   "name": "python3"
  },
  "language_info": {
   "codemirror_mode": {
    "name": "ipython",
    "version": 3
   },
   "file_extension": ".py",
   "mimetype": "text/x-python",
   "name": "python",
   "nbconvert_exporter": "python",
   "pygments_lexer": "ipython3",
   "version": "3.7.2"
  },
  "toc": {
   "base_numbering": 1,
   "nav_menu": {},
   "number_sections": true,
   "sideBar": true,
   "skip_h1_title": false,
   "title_cell": "Table of Contents",
   "title_sidebar": "Contents",
   "toc_cell": false,
   "toc_position": {},
   "toc_section_display": true,
   "toc_window_display": false
  }
 },
 "nbformat": 4,
 "nbformat_minor": 1
}
