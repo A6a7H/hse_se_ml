{
 "cells": [
  {
   "cell_type": "markdown",
   "metadata": {},
   "source": [
    "<h1><center>Data Analysis</center></h1>\n",
    "<h2><center>Kaggle report notebook</center></h2>"
   ]
  },
  {
   "cell_type": "code",
   "execution_count": 1,
   "metadata": {},
   "outputs": [],
   "source": [
    "import pandas as pd\n",
    "import numpy as np\n",
    "import matplotlib.pyplot as plt\n",
    "import scipy\n",
    "\n",
    "%matplotlib inline\n",
    "\n",
    "plt.style.use('ggplot')\n",
    "plt.rcParams['figure.figsize'] = (12,8)"
   ]
  },
  {
   "cell_type": "markdown",
   "metadata": {},
   "source": [
    "# Introduce yourself"
   ]
  },
  {
   "cell_type": "markdown",
   "metadata": {},
   "source": [
    "Put your team name and team-members' names below"
   ]
  },
  {
   "cell_type": "markdown",
   "metadata": {},
   "source": [
    "**Team:**\n",
    "\n",
    "ml gods\n",
    "\n",
    "**Members:**  \n",
    "- Nikita Zaytsev\n",
    "- Alexey Buzulukov\n",
    "- Makar Lysenko"
   ]
  },
  {
   "cell_type": "markdown",
   "metadata": {},
   "source": [
    "# Task"
   ]
  },
  {
   "cell_type": "markdown",
   "metadata": {},
   "source": [
    "In this task we are working with posts on famous russian advertisement and resell platform.\n",
    "\n",
    "Ginen information about the post and corresponding item you have to estimate its probability to be sold in 3 days.\n",
    "\n",
    "Below you will find some desirable stages of your report."
   ]
  },
  {
   "cell_type": "markdown",
   "metadata": {},
   "source": [
    "# Data Loading"
   ]
  },
  {
   "cell_type": "code",
   "execution_count": 2,
   "metadata": {},
   "outputs": [
    {
     "data": {
      "text/html": [
       "<div>\n",
       "<style scoped>\n",
       "    .dataframe tbody tr th:only-of-type {\n",
       "        vertical-align: middle;\n",
       "    }\n",
       "\n",
       "    .dataframe tbody tr th {\n",
       "        vertical-align: top;\n",
       "    }\n",
       "\n",
       "    .dataframe thead th {\n",
       "        text-align: right;\n",
       "    }\n",
       "</style>\n",
       "<table border=\"1\" class=\"dataframe\">\n",
       "  <thead>\n",
       "    <tr style=\"text-align: right;\">\n",
       "      <th></th>\n",
       "      <th>category_id</th>\n",
       "      <th>city</th>\n",
       "      <th>date_created</th>\n",
       "      <th>delivery_available</th>\n",
       "      <th>desc_text</th>\n",
       "      <th>img_num</th>\n",
       "      <th>lat</th>\n",
       "      <th>long</th>\n",
       "      <th>name_text</th>\n",
       "      <th>owner_id</th>\n",
       "      <th>payment_available</th>\n",
       "      <th>price</th>\n",
       "      <th>product_id</th>\n",
       "      <th>product_type</th>\n",
       "      <th>properties</th>\n",
       "      <th>region</th>\n",
       "      <th>sold_mode</th>\n",
       "      <th>subcategory_id</th>\n",
       "      <th>sold_fast</th>\n",
       "    </tr>\n",
       "  </thead>\n",
       "  <tbody>\n",
       "    <tr>\n",
       "      <th>0</th>\n",
       "      <td>4</td>\n",
       "      <td>Краснодар</td>\n",
       "      <td>2018-10-08</td>\n",
       "      <td>False</td>\n",
       "      <td>Продаю стол раскладной, деревянный, советский ...</td>\n",
       "      <td>3</td>\n",
       "      <td>45.0686</td>\n",
       "      <td>38.9518</td>\n",
       "      <td>Стол</td>\n",
       "      <td>4ce583fe8231a0cc4a3c7d241c7d0289</td>\n",
       "      <td>True</td>\n",
       "      <td>500.0</td>\n",
       "      <td>8cb80c05c65c210275f5500779d6b593</td>\n",
       "      <td>1</td>\n",
       "      <td>[{'slug_id': 'stoly_stulya_tip', 'slug_name': ...</td>\n",
       "      <td>Краснодарский край</td>\n",
       "      <td>1</td>\n",
       "      <td>410</td>\n",
       "      <td>1</td>\n",
       "    </tr>\n",
       "    <tr>\n",
       "      <th>1</th>\n",
       "      <td>4</td>\n",
       "      <td>Тюмень</td>\n",
       "      <td>2018-06-18</td>\n",
       "      <td>False</td>\n",
       "      <td>Тарелки глубокие 6 шт. Блюдца, чашки по 6 шт. ...</td>\n",
       "      <td>2</td>\n",
       "      <td>57.1840</td>\n",
       "      <td>65.5674</td>\n",
       "      <td>Посуда</td>\n",
       "      <td>e58be2c8f143c17246dc2243b5d3b98f</td>\n",
       "      <td>False</td>\n",
       "      <td>300.0</td>\n",
       "      <td>3b7a9f8b27a53b63525f95bc8070abb2</td>\n",
       "      <td>1</td>\n",
       "      <td>[{'slug_id': 'dom_dacha_posuda_tip', 'slug_nam...</td>\n",
       "      <td>Тюменская область</td>\n",
       "      <td>1</td>\n",
       "      <td>405</td>\n",
       "      <td>0</td>\n",
       "    </tr>\n",
       "    <tr>\n",
       "      <th>2</th>\n",
       "      <td>9</td>\n",
       "      <td>Омск</td>\n",
       "      <td>2018-07-31</td>\n",
       "      <td>True</td>\n",
       "      <td>Новый,с этикеткой. Размер L. Не подошёл по раз...</td>\n",
       "      <td>1</td>\n",
       "      <td>54.9889</td>\n",
       "      <td>73.4312</td>\n",
       "      <td>Костюм</td>\n",
       "      <td>51b408796027214232532b7e478e2159</td>\n",
       "      <td>True</td>\n",
       "      <td>1100.0</td>\n",
       "      <td>c97dd9c5a3e938c52cf5d7822bc0eb7b</td>\n",
       "      <td>1</td>\n",
       "      <td>[{'slug_id': 'zhenskaya_odezhda_pidzhaki_kosty...</td>\n",
       "      <td>Омская область</td>\n",
       "      <td>1</td>\n",
       "      <td>908</td>\n",
       "      <td>0</td>\n",
       "    </tr>\n",
       "    <tr>\n",
       "      <th>3</th>\n",
       "      <td>3</td>\n",
       "      <td>Санкт-Петербург</td>\n",
       "      <td>2018-04-17</td>\n",
       "      <td>False</td>\n",
       "      <td>Складывается тростью, все колеса вниз. Сплошна...</td>\n",
       "      <td>4</td>\n",
       "      <td>59.9590</td>\n",
       "      <td>30.4877</td>\n",
       "      <td>Коляска</td>\n",
       "      <td>6544b83acbbf04439a7ba983093cafb4</td>\n",
       "      <td>True</td>\n",
       "      <td>5000.0</td>\n",
       "      <td>3e5d0286b25fd7f62f88bc436a59ae4e</td>\n",
       "      <td>1</td>\n",
       "      <td>[{'slug_id': 'waggon_type', 'slug_name': 'Тип'...</td>\n",
       "      <td>Ленинградская область</td>\n",
       "      <td>1</td>\n",
       "      <td>312</td>\n",
       "      <td>0</td>\n",
       "    </tr>\n",
       "    <tr>\n",
       "      <th>4</th>\n",
       "      <td>5</td>\n",
       "      <td>Москва</td>\n",
       "      <td>2018-02-09</td>\n",
       "      <td>False</td>\n",
       "      <td>Неразлучники, птичкам по 1,5 года. Продаю с бо...</td>\n",
       "      <td>2</td>\n",
       "      <td>55.6473</td>\n",
       "      <td>37.4118</td>\n",
       "      <td>Волнистые попугаи</td>\n",
       "      <td>ea575e28daf1f47bfce63015cd3ce5cf</td>\n",
       "      <td>True</td>\n",
       "      <td>2000.0</td>\n",
       "      <td>57b4a8679d0d3eb1e31367b57221098f</td>\n",
       "      <td>1</td>\n",
       "      <td>[]</td>\n",
       "      <td>Московская область</td>\n",
       "      <td>1</td>\n",
       "      <td>504</td>\n",
       "      <td>0</td>\n",
       "    </tr>\n",
       "  </tbody>\n",
       "</table>\n",
       "</div>"
      ],
      "text/plain": [
       "   category_id             city date_created  delivery_available  \\\n",
       "0            4        Краснодар   2018-10-08               False   \n",
       "1            4           Тюмень   2018-06-18               False   \n",
       "2            9             Омск   2018-07-31                True   \n",
       "3            3  Санкт-Петербург   2018-04-17               False   \n",
       "4            5           Москва   2018-02-09               False   \n",
       "\n",
       "                                           desc_text  img_num      lat  \\\n",
       "0  Продаю стол раскладной, деревянный, советский ...        3  45.0686   \n",
       "1  Тарелки глубокие 6 шт. Блюдца, чашки по 6 шт. ...        2  57.1840   \n",
       "2  Новый,с этикеткой. Размер L. Не подошёл по раз...        1  54.9889   \n",
       "3  Складывается тростью, все колеса вниз. Сплошна...        4  59.9590   \n",
       "4  Неразлучники, птичкам по 1,5 года. Продаю с бо...        2  55.6473   \n",
       "\n",
       "      long          name_text                          owner_id  \\\n",
       "0  38.9518               Стол  4ce583fe8231a0cc4a3c7d241c7d0289   \n",
       "1  65.5674             Посуда  e58be2c8f143c17246dc2243b5d3b98f   \n",
       "2  73.4312             Костюм  51b408796027214232532b7e478e2159   \n",
       "3  30.4877            Коляска  6544b83acbbf04439a7ba983093cafb4   \n",
       "4  37.4118  Волнистые попугаи  ea575e28daf1f47bfce63015cd3ce5cf   \n",
       "\n",
       "   payment_available   price                        product_id  product_type  \\\n",
       "0               True   500.0  8cb80c05c65c210275f5500779d6b593             1   \n",
       "1              False   300.0  3b7a9f8b27a53b63525f95bc8070abb2             1   \n",
       "2               True  1100.0  c97dd9c5a3e938c52cf5d7822bc0eb7b             1   \n",
       "3               True  5000.0  3e5d0286b25fd7f62f88bc436a59ae4e             1   \n",
       "4               True  2000.0  57b4a8679d0d3eb1e31367b57221098f             1   \n",
       "\n",
       "                                          properties                 region  \\\n",
       "0  [{'slug_id': 'stoly_stulya_tip', 'slug_name': ...     Краснодарский край   \n",
       "1  [{'slug_id': 'dom_dacha_posuda_tip', 'slug_nam...      Тюменская область   \n",
       "2  [{'slug_id': 'zhenskaya_odezhda_pidzhaki_kosty...         Омская область   \n",
       "3  [{'slug_id': 'waggon_type', 'slug_name': 'Тип'...  Ленинградская область   \n",
       "4                                                 []     Московская область   \n",
       "\n",
       "   sold_mode  subcategory_id  sold_fast  \n",
       "0          1             410          1  \n",
       "1          1             405          0  \n",
       "2          1             908          0  \n",
       "3          1             312          0  \n",
       "4          1             504          0  "
      ]
     },
     "execution_count": 2,
     "metadata": {},
     "output_type": "execute_result"
    }
   ],
   "source": [
    "data = pd.read_csv('train.tsv', sep='\\t')\n",
    "data.drop(columns='Unnamed: 0', inplace=True)\n",
    "data.head()"
   ]
  },
  {
   "cell_type": "code",
   "execution_count": 3,
   "metadata": {},
   "outputs": [
    {
     "data": {
      "text/html": [
       "<div>\n",
       "<style scoped>\n",
       "    .dataframe tbody tr th:only-of-type {\n",
       "        vertical-align: middle;\n",
       "    }\n",
       "\n",
       "    .dataframe tbody tr th {\n",
       "        vertical-align: top;\n",
       "    }\n",
       "\n",
       "    .dataframe thead th {\n",
       "        text-align: right;\n",
       "    }\n",
       "</style>\n",
       "<table border=\"1\" class=\"dataframe\">\n",
       "  <thead>\n",
       "    <tr style=\"text-align: right;\">\n",
       "      <th></th>\n",
       "      <th>category_id</th>\n",
       "      <th>city</th>\n",
       "      <th>date_created</th>\n",
       "      <th>delivery_available</th>\n",
       "      <th>desc_text</th>\n",
       "      <th>img_num</th>\n",
       "      <th>lat</th>\n",
       "      <th>long</th>\n",
       "      <th>name_text</th>\n",
       "      <th>owner_id</th>\n",
       "      <th>payment_available</th>\n",
       "      <th>price</th>\n",
       "      <th>product_id</th>\n",
       "      <th>product_type</th>\n",
       "      <th>properties</th>\n",
       "      <th>region</th>\n",
       "      <th>sold_mode</th>\n",
       "      <th>subcategory_id</th>\n",
       "    </tr>\n",
       "  </thead>\n",
       "  <tbody>\n",
       "    <tr>\n",
       "      <th>0</th>\n",
       "      <td>9</td>\n",
       "      <td>Челябинск</td>\n",
       "      <td>2018-10-22</td>\n",
       "      <td>True</td>\n",
       "      <td>Ботильоны канадские 34 размер (35,но маломерят...</td>\n",
       "      <td>3</td>\n",
       "      <td>55.2639</td>\n",
       "      <td>61.3972</td>\n",
       "      <td>Ботильоны</td>\n",
       "      <td>4ec4746e62084fba6280d6651099f316</td>\n",
       "      <td>True</td>\n",
       "      <td>650.0</td>\n",
       "      <td>86156cd607c3238af8982aebc99ae6a5</td>\n",
       "      <td>1</td>\n",
       "      <td>[{'slug_id': 'sostojanie_garderob', 'slug_name...</td>\n",
       "      <td>Челябинская область</td>\n",
       "      <td>1</td>\n",
       "      <td>902</td>\n",
       "    </tr>\n",
       "    <tr>\n",
       "      <th>1</th>\n",
       "      <td>22</td>\n",
       "      <td>Барнаул</td>\n",
       "      <td>2018-11-09</td>\n",
       "      <td>True</td>\n",
       "      <td>Зимний костюм. Куртка в отличном состоянии, на...</td>\n",
       "      <td>2</td>\n",
       "      <td>53.3426</td>\n",
       "      <td>83.7380</td>\n",
       "      <td>Зимний костюм</td>\n",
       "      <td>180b02e19c8c0140bcd9e719fee0eb2d</td>\n",
       "      <td>True</td>\n",
       "      <td>750.0</td>\n",
       "      <td>76a35a1b4a2d869abfda3365d7cd4c45</td>\n",
       "      <td>1</td>\n",
       "      <td>[{'slug_id': 'detskie_pol', 'slug_name': 'Пол'...</td>\n",
       "      <td>Алтайский край</td>\n",
       "      <td>1</td>\n",
       "      <td>2204</td>\n",
       "    </tr>\n",
       "    <tr>\n",
       "      <th>2</th>\n",
       "      <td>12</td>\n",
       "      <td>Чита</td>\n",
       "      <td>2018-11-27</td>\n",
       "      <td>False</td>\n",
       "      <td>Продам прекрасный, стильный и шустрый смартфон...</td>\n",
       "      <td>4</td>\n",
       "      <td>52.0883</td>\n",
       "      <td>113.4982</td>\n",
       "      <td>5.5\" Смартфон Prestigio Grace R5 LTE 16 гб зол...</td>\n",
       "      <td>b9b9b1e11e85acfd5c26e0e51bc734be</td>\n",
       "      <td>True</td>\n",
       "      <td>5500.0</td>\n",
       "      <td>c339765b077a730a5367c5310c64128d</td>\n",
       "      <td>1</td>\n",
       "      <td>[{'slug_id': 'smartfony_3g', 'slug_name': '3G'...</td>\n",
       "      <td>Забайкальский край</td>\n",
       "      <td>1</td>\n",
       "      <td>1202</td>\n",
       "    </tr>\n",
       "    <tr>\n",
       "      <th>3</th>\n",
       "      <td>3</td>\n",
       "      <td>Москва</td>\n",
       "      <td>2018-11-25</td>\n",
       "      <td>True</td>\n",
       "      <td>Горка для купания на присосках. После одного м...</td>\n",
       "      <td>2</td>\n",
       "      <td>55.6932</td>\n",
       "      <td>37.5684</td>\n",
       "      <td>Горка для купания</td>\n",
       "      <td>88c125a4cfa8b806b8ce647b2e2f57da</td>\n",
       "      <td>True</td>\n",
       "      <td>100.0</td>\n",
       "      <td>b3ec786129b0b3bd7dcbce29d6d6232d</td>\n",
       "      <td>1</td>\n",
       "      <td>[]</td>\n",
       "      <td>Московская область</td>\n",
       "      <td>1</td>\n",
       "      <td>316</td>\n",
       "    </tr>\n",
       "    <tr>\n",
       "      <th>4</th>\n",
       "      <td>22</td>\n",
       "      <td>Бердск</td>\n",
       "      <td>2018-11-04</td>\n",
       "      <td>True</td>\n",
       "      <td>Новый! В наличии! Размер 90 см Доставка по Бер...</td>\n",
       "      <td>2</td>\n",
       "      <td>54.7648</td>\n",
       "      <td>83.0884</td>\n",
       "      <td>Новый костюм</td>\n",
       "      <td>d82287641ee83c962ee0b427031f35d0</td>\n",
       "      <td>True</td>\n",
       "      <td>700.0</td>\n",
       "      <td>751a58cadb565feb070c2a29dd401438</td>\n",
       "      <td>1</td>\n",
       "      <td>[{'slug_id': 'detskie_tzvet', 'slug_name': 'Цв...</td>\n",
       "      <td>Новосибирская область</td>\n",
       "      <td>1</td>\n",
       "      <td>2214</td>\n",
       "    </tr>\n",
       "  </tbody>\n",
       "</table>\n",
       "</div>"
      ],
      "text/plain": [
       "   category_id       city date_created  delivery_available  \\\n",
       "0            9  Челябинск   2018-10-22                True   \n",
       "1           22    Барнаул   2018-11-09                True   \n",
       "2           12       Чита   2018-11-27               False   \n",
       "3            3     Москва   2018-11-25                True   \n",
       "4           22     Бердск   2018-11-04                True   \n",
       "\n",
       "                                           desc_text  img_num      lat  \\\n",
       "0  Ботильоны канадские 34 размер (35,но маломерят...        3  55.2639   \n",
       "1  Зимний костюм. Куртка в отличном состоянии, на...        2  53.3426   \n",
       "2  Продам прекрасный, стильный и шустрый смартфон...        4  52.0883   \n",
       "3  Горка для купания на присосках. После одного м...        2  55.6932   \n",
       "4  Новый! В наличии! Размер 90 см Доставка по Бер...        2  54.7648   \n",
       "\n",
       "       long                                          name_text  \\\n",
       "0   61.3972                                          Ботильоны   \n",
       "1   83.7380                                      Зимний костюм   \n",
       "2  113.4982  5.5\" Смартфон Prestigio Grace R5 LTE 16 гб зол...   \n",
       "3   37.5684                                  Горка для купания   \n",
       "4   83.0884                                       Новый костюм   \n",
       "\n",
       "                           owner_id  payment_available   price  \\\n",
       "0  4ec4746e62084fba6280d6651099f316               True   650.0   \n",
       "1  180b02e19c8c0140bcd9e719fee0eb2d               True   750.0   \n",
       "2  b9b9b1e11e85acfd5c26e0e51bc734be               True  5500.0   \n",
       "3  88c125a4cfa8b806b8ce647b2e2f57da               True   100.0   \n",
       "4  d82287641ee83c962ee0b427031f35d0               True   700.0   \n",
       "\n",
       "                         product_id  product_type  \\\n",
       "0  86156cd607c3238af8982aebc99ae6a5             1   \n",
       "1  76a35a1b4a2d869abfda3365d7cd4c45             1   \n",
       "2  c339765b077a730a5367c5310c64128d             1   \n",
       "3  b3ec786129b0b3bd7dcbce29d6d6232d             1   \n",
       "4  751a58cadb565feb070c2a29dd401438             1   \n",
       "\n",
       "                                          properties                 region  \\\n",
       "0  [{'slug_id': 'sostojanie_garderob', 'slug_name...    Челябинская область   \n",
       "1  [{'slug_id': 'detskie_pol', 'slug_name': 'Пол'...         Алтайский край   \n",
       "2  [{'slug_id': 'smartfony_3g', 'slug_name': '3G'...     Забайкальский край   \n",
       "3                                                 []     Московская область   \n",
       "4  [{'slug_id': 'detskie_tzvet', 'slug_name': 'Цв...  Новосибирская область   \n",
       "\n",
       "   sold_mode  subcategory_id  \n",
       "0          1             902  \n",
       "1          1            2204  \n",
       "2          1            1202  \n",
       "3          1             316  \n",
       "4          1            2214  "
      ]
     },
     "execution_count": 3,
     "metadata": {},
     "output_type": "execute_result"
    }
   ],
   "source": [
    "data_submit = pd.read_csv('test_nolabel.tsv', sep='\\t')\n",
    "data_submit.drop(columns='Unnamed: 0', inplace=True)\n",
    "data_submit.head()"
   ]
  },
  {
   "cell_type": "markdown",
   "metadata": {},
   "source": [
    "# Descriptive Data Analysis\n",
    "\n",
    "* Analyze train dataset features\n",
    "    * Provide some meaningfull description about corresponding features (in form of pictures or some coefficients)\n",
    "    * Outline any findings you are able to reveal\n",
    "* Try to measure analyse any correspondense between features and target features"
   ]
  },
  {
   "cell_type": "code",
   "execution_count": 4,
   "metadata": {},
   "outputs": [],
   "source": [
    "def histogram(feature, target):\n",
    "    plt.figure()\n",
    "    plt.hist(feature[target == 0], bins=100, color='red', alpha=0.5)\n",
    "    plt.hist(feature[target == 1], bins=100, color='blue', alpha=0.5)\n",
    "    plt.xlabel('feature')\n",
    "    plt.ylabel('sold_fast')\n",
    "    plt.legend([0, 1])\n",
    "    plt.show()"
   ]
  },
  {
   "cell_type": "code",
   "execution_count": 5,
   "metadata": {
    "scrolled": true
   },
   "outputs": [
    {
     "data": {
      "image/png": "[encoded data removed]",
      "text/plain": [
       "<Figure size 432x288 with 1 Axes>"
      ]
     },
     "metadata": {
      "needs_background": "light"
     },
     "output_type": "display_data"
    }
   ],
   "source": [
    "histogram(data['category_id'].values, data['sold_fast'].values)"
   ]
  },
  {
   "cell_type": "code",
   "execution_count": 6,
   "metadata": {
    "scrolled": true
   },
   "outputs": [
    {
     "data": {
      "image/png": "[encoded data removed]",
      "text/plain": [
       "<Figure size 432x288 with 1 Axes>"
      ]
     },
     "metadata": {
      "needs_background": "light"
     },
     "output_type": "display_data"
    }
   ],
   "source": [
    "histogram(data['subcategory_id'].values, data['sold_fast'].values)"
   ]
  },
  {
   "cell_type": "code",
   "execution_count": 7,
   "metadata": {
    "scrolled": false
   },
   "outputs": [
    {
     "data": {
      "image/png": "[encoded data removed]",
      "text/plain": [
       "<Figure size 432x288 with 1 Axes>"
      ]
     },
     "metadata": {
      "needs_background": "light"
     },
     "output_type": "display_data"
    }
   ],
   "source": [
    "histogram(data['img_num'].values, data['sold_fast'].values)"
   ]
  },
  {
   "cell_type": "code",
   "execution_count": 8,
   "metadata": {
    "scrolled": true
   },
   "outputs": [
    {
     "data": {
      "image/png": "[encoded data removed]",
      "text/plain": [
       "<Figure size 432x288 with 1 Axes>"
      ]
     },
     "metadata": {
      "needs_background": "light"
     },
     "output_type": "display_data"
    }
   ],
   "source": [
    "histogram(data['delivery_available'].values.astype(int), data['sold_fast'].values)"
   ]
  },
  {
   "cell_type": "code",
   "execution_count": 9,
   "metadata": {
    "scrolled": true
   },
   "outputs": [
    {
     "data": {
      "image/png": "[encoded data removed]",
      "text/plain": [
       "<Figure size 432x288 with 1 Axes>"
      ]
     },
     "metadata": {
      "needs_background": "light"
     },
     "output_type": "display_data"
    }
   ],
   "source": [
    "histogram(data['payment_available'].values.astype(int), data['sold_fast'].values)"
   ]
  },
  {
   "cell_type": "code",
   "execution_count": 10,
   "metadata": {
    "scrolled": false
   },
   "outputs": [
    {
     "data": {
      "image/png": "[encoded data removed]",
      "text/plain": [
       "<Figure size 432x288 with 1 Axes>"
      ]
     },
     "metadata": {
      "needs_background": "light"
     },
     "output_type": "display_data"
    }
   ],
   "source": [
    "histogram(data['product_type'].values, data['sold_fast'].values)"
   ]
  },
  {
   "cell_type": "code",
   "execution_count": 11,
   "metadata": {
    "scrolled": true
   },
   "outputs": [
    {
     "data": {
      "image/png": "[encoded data removed]",
      "text/plain": [
       "<Figure size 432x288 with 1 Axes>"
      ]
     },
     "metadata": {
      "needs_background": "light"
     },
     "output_type": "display_data"
    }
   ],
   "source": [
    "histogram(data['sold_mode'].values, data['sold_fast'].values)"
   ]
  },
  {
   "cell_type": "code",
   "execution_count": 12,
   "metadata": {
    "scrolled": false
   },
   "outputs": [
    {
     "data": {
      "image/png": "[encoded data removed]",
      "text/plain": [
       "<Figure size 432x288 with 1 Axes>"
      ]
     },
     "metadata": {
      "needs_background": "light"
     },
     "output_type": "display_data"
    }
   ],
   "source": [
    "histogram(data['price'].values, data['sold_fast'].values)"
   ]
  },
  {
   "cell_type": "markdown",
   "metadata": {},
   "source": [
    "The correspondence between the features and the target variable can't be easily seen."
   ]
  },
  {
   "cell_type": "markdown",
   "metadata": {},
   "source": [
    "# Feature engineering"
   ]
  },
  {
   "cell_type": "markdown",
   "metadata": {},
   "source": [
    "**The year**"
   ]
  },
  {
   "cell_type": "code",
   "execution_count": 13,
   "metadata": {},
   "outputs": [],
   "source": [
    "def create_year(date_created):\n",
    "    n = len(date_created)\n",
    "    \n",
    "    year = np.empty(n, dtype=int)\n",
    "    \n",
    "    for i in range(n):\n",
    "        year[i] = int(date_created[i][0:4])\n",
    "    \n",
    "    return year"
   ]
  },
  {
   "cell_type": "code",
   "execution_count": 14,
   "metadata": {},
   "outputs": [
    {
     "data": {
      "text/plain": [
       "array([2018])"
      ]
     },
     "execution_count": 14,
     "metadata": {},
     "output_type": "execute_result"
    }
   ],
   "source": [
    "np.unique(create_year(data['date_created'].values))"
   ]
  },
  {
   "cell_type": "code",
   "execution_count": 15,
   "metadata": {
    "scrolled": true
   },
   "outputs": [
    {
     "data": {
      "text/plain": [
       "array([2018])"
      ]
     },
     "execution_count": 15,
     "metadata": {},
     "output_type": "execute_result"
    }
   ],
   "source": [
    "np.unique(create_year(data_submit['date_created'].values))"
   ]
  },
  {
   "cell_type": "markdown",
   "metadata": {},
   "source": [
    "The train and the test data is only for the 2018 year so we shouldn't include the year as a feature."
   ]
  },
  {
   "cell_type": "markdown",
   "metadata": {},
   "source": [
    "**The month**"
   ]
  },
  {
   "cell_type": "code",
   "execution_count": 16,
   "metadata": {},
   "outputs": [],
   "source": [
    "def create_month(date_created):\n",
    "    n = len(date_created)\n",
    "    \n",
    "    month = np.empty(n, dtype=np.byte)\n",
    "    \n",
    "    for i in range(n):\n",
    "        month[i] = int(date_created[i][5:7])\n",
    "    \n",
    "    return month"
   ]
  },
  {
   "cell_type": "code",
   "execution_count": 17,
   "metadata": {
    "scrolled": true
   },
   "outputs": [
    {
     "data": {
      "text/plain": [
       "array([ 1,  2,  3,  4,  5,  6,  7,  8,  9, 10], dtype=int8)"
      ]
     },
     "execution_count": 17,
     "metadata": {},
     "output_type": "execute_result"
    }
   ],
   "source": [
    "np.unique(create_month(data['date_created'].values))"
   ]
  },
  {
   "cell_type": "code",
   "execution_count": 18,
   "metadata": {},
   "outputs": [
    {
     "data": {
      "text/plain": [
       "array([10, 11, 12], dtype=int8)"
      ]
     },
     "execution_count": 18,
     "metadata": {},
     "output_type": "execute_result"
    }
   ],
   "source": [
    "np.unique(create_month(data_submit['date_created'].values))"
   ]
  },
  {
   "cell_type": "markdown",
   "metadata": {},
   "source": [
    "The train and the test data almost don't overlap in time so we shouldn't include the month as a feature."
   ]
  },
  {
   "cell_type": "markdown",
   "metadata": {},
   "source": [
    "**The day of the month**"
   ]
  },
  {
   "cell_type": "code",
   "execution_count": 19,
   "metadata": {},
   "outputs": [],
   "source": [
    "def create_day(date_created):\n",
    "    n = len(date_created)\n",
    "    \n",
    "    day = np.empty(n, dtype=np.byte)\n",
    "    \n",
    "    for i in range(n):\n",
    "        day[i] = int(date_created[i][8:10])\n",
    "    \n",
    "    return day"
   ]
  },
  {
   "cell_type": "code",
   "execution_count": 20,
   "metadata": {
    "scrolled": true
   },
   "outputs": [
    {
     "data": {
      "image/png": "[encoded data removed]",
      "text/plain": [
       "<Figure size 432x288 with 1 Axes>"
      ]
     },
     "metadata": {
      "needs_background": "light"
     },
     "output_type": "display_data"
    }
   ],
   "source": [
    "histogram(create_day(data['date_created'].values), data['sold_fast'].values)"
   ]
  },
  {
   "cell_type": "markdown",
   "metadata": {},
   "source": [
    "**The day of the week**"
   ]
  },
  {
   "cell_type": "code",
   "execution_count": 21,
   "metadata": {},
   "outputs": [],
   "source": [
    "from datetime import date\n",
    "\n",
    "def create_weekday(month, day):\n",
    "    n = len(month)\n",
    "    \n",
    "    weekday = np.empty(n, dtype=np.byte)\n",
    "\n",
    "    for i in range(n):\n",
    "        weekday[i] = date(2018, month[i], day[i]).weekday()\n",
    "        \n",
    "    return weekday"
   ]
  },
  {
   "cell_type": "code",
   "execution_count": 22,
   "metadata": {},
   "outputs": [
    {
     "data": {
      "image/png": "[encoded data removed]",
      "text/plain": [
       "<Figure size 432x288 with 1 Axes>"
      ]
     },
     "metadata": {
      "needs_background": "light"
     },
     "output_type": "display_data"
    }
   ],
   "source": [
    "month = create_month(data['date_created'].values)\n",
    "day = create_day(data['date_created'].values)\n",
    "histogram(create_weekday(month, day), data['sold_fast'].values)"
   ]
  },
  {
   "cell_type": "markdown",
   "metadata": {},
   "source": [
    "**The season**"
   ]
  },
  {
   "cell_type": "code",
   "execution_count": 23,
   "metadata": {},
   "outputs": [],
   "source": [
    "winter_set = {12, 1, 2}\n",
    "spring_set = {3, 4, 5}\n",
    "summer_set = {6, 7, 8}\n",
    "autumn_set = {9, 10, 11}\n",
    "\n",
    "def create_season(month):\n",
    "    n = len(month)\n",
    "    \n",
    "    season = np.empty(n, dtype=np.byte)\n",
    "    \n",
    "    for i in range(n):\n",
    "        if month[i] in winter_set:\n",
    "            season[i] = 1\n",
    "        elif month[i] in spring_set:\n",
    "            season[i] = 2\n",
    "        elif month[i] in summer_set:\n",
    "            season[i] = 3\n",
    "        elif month[i] in autumn_set:\n",
    "            season[i] = 4\n",
    "    \n",
    "    return season"
   ]
  },
  {
   "cell_type": "code",
   "execution_count": 24,
   "metadata": {
    "scrolled": true
   },
   "outputs": [
    {
     "data": {
      "image/png": "[encoded data removed]",
      "text/plain": [
       "<Figure size 432x288 with 1 Axes>"
      ]
     },
     "metadata": {
      "needs_background": "light"
     },
     "output_type": "display_data"
    }
   ],
   "source": [
    "month = create_month(data['date_created'].values)\n",
    "histogram(create_season(month), data['sold_fast'].values)"
   ]
  },
  {
   "cell_type": "markdown",
   "metadata": {},
   "source": [
    "**Whether the day is a holiday**"
   ]
  },
  {
   "cell_type": "code",
   "execution_count": 25,
   "metadata": {},
   "outputs": [],
   "source": [
    "holiday_dict = {\n",
    "    1: {1, 2, 3, 4, 5, 6, 7, 8, 13, 14, 20, 21, 27, 28},\n",
    "    2: {3, 4, 10, 11, 17, 18, 23, 24, 25},\n",
    "    3: {3, 4, 8, 9, 10, 11, 17, 18, 24, 25, 31},\n",
    "    4: {1, 7, 8, 14, 15, 21, 22, 29, 30},\n",
    "    5: {1, 2, 5, 6, 9, 12, 13, 19, 20, 26, 27},\n",
    "    6: {2, 3, 10, 11, 12, 16, 17, 23, 24, 30},\n",
    "    7: {1, 7, 8, 14, 15, 21, 22, 28, 29},\n",
    "    8: {4, 5, 11, 12, 18, 19, 25, 26},\n",
    "    9: {1, 2, 8, 9, 15, 16, 22, 23, 29, 30},\n",
    "    10: {6, 7, 13, 14, 20, 21, 27, 28},\n",
    "    11: {3, 4, 10, 11, 17, 18, 24, 25},\n",
    "    12: {1, 2, 8, 9, 15, 16, 22, 23, 30, 31}\n",
    "}\n",
    "\n",
    "def create_holiday(month, day):\n",
    "    n = len(month)\n",
    "    \n",
    "    holiday = np.empty(n, dtype=bool)\n",
    "    \n",
    "    for i in range(n):\n",
    "        holiday[i] = day[i] in holiday_dict[month[i]]\n",
    "    \n",
    "    return holiday"
   ]
  },
  {
   "cell_type": "code",
   "execution_count": 26,
   "metadata": {
    "scrolled": true
   },
   "outputs": [
    {
     "data": {
      "image/png": "[encoded data removed]",
      "text/plain": [
       "<Figure size 432x288 with 1 Axes>"
      ]
     },
     "metadata": {
      "needs_background": "light"
     },
     "output_type": "display_data"
    }
   ],
   "source": [
    "month = create_month(data['date_created'].values)\n",
    "day = create_day(data['date_created'].values)\n",
    "histogram(create_holiday(month, day).astype(int), data['sold_fast'].values)"
   ]
  },
  {
   "cell_type": "markdown",
   "metadata": {},
   "source": [
    "**The normalized distance from the computed center of the city**"
   ]
  },
  {
   "cell_type": "code",
   "execution_count": 27,
   "metadata": {},
   "outputs": [],
   "source": [
    "center_dict = None\n",
    "maximum_dict = None\n",
    "\n",
    "def create_distance(city, lat, long, train=False):\n",
    "    global center_dict, maximum_dict\n",
    "    \n",
    "    n = len(city)\n",
    "    \n",
    "    distance = np.empty(n, dtype=float)\n",
    "    \n",
    "    location = np.stack((lat, long), axis=1)\n",
    "    \n",
    "    if train:\n",
    "        center_dict = {}\n",
    "        maximum_dict = {}\n",
    "        \n",
    "        names = np.unique(city)\n",
    "        \n",
    "        for name in names:\n",
    "            location_city = location[city == name]\n",
    "            center_dict[name] = location_city.sum(axis=0) / len(location_city)\n",
    "        \n",
    "    for i in range(n):\n",
    "        if city[i] in center_dict:\n",
    "            distance[i] = np.linalg.norm(location[i] - center_dict[city[i]])\n",
    "        else:\n",
    "            distance[i] = 0.5\n",
    "    \n",
    "    if train:\n",
    "        for name in names:\n",
    "            maximum_dict[name] = distance[city == name].max()\n",
    "        \n",
    "    for i in range(n):\n",
    "        if city[i] in maximum_dict:\n",
    "            maximum = maximum_dict[city[i]]\n",
    "            if maximum != 0:\n",
    "                distance[i] /= maximum\n",
    "        \n",
    "    return distance"
   ]
  },
  {
   "cell_type": "code",
   "execution_count": 28,
   "metadata": {
    "scrolled": true
   },
   "outputs": [
    {
     "data": {
      "image/png": "[encoded data removed]",
      "text/plain": [
       "<Figure size 432x288 with 1 Axes>"
      ]
     },
     "metadata": {
      "needs_background": "light"
     },
     "output_type": "display_data"
    }
   ],
   "source": [
    "histogram(\n",
    "    create_distance(\n",
    "        data['city'].values,\n",
    "        data['lat'].values,\n",
    "        data['long'].values,\n",
    "        True\n",
    "    ),\n",
    "    data['sold_fast'].values\n",
    ")"
   ]
  },
  {
   "cell_type": "markdown",
   "metadata": {},
   "source": [
    "**The number of words in the description**"
   ]
  },
  {
   "cell_type": "code",
   "execution_count": 29,
   "metadata": {},
   "outputs": [],
   "source": [
    "def create_words(desc_text):\n",
    "    n = len(desc_text)\n",
    "    \n",
    "    words = np.empty(n, dtype=int)\n",
    "    \n",
    "    for i in range(n):\n",
    "        words[i] = len(desc_text[i].split())\n",
    "        \n",
    "    return words"
   ]
  },
  {
   "cell_type": "code",
   "execution_count": 30,
   "metadata": {
    "scrolled": true
   },
   "outputs": [
    {
     "data": {
      "image/png": "[encoded data removed]",
      "text/plain": [
       "<Figure size 432x288 with 1 Axes>"
      ]
     },
     "metadata": {
      "needs_background": "light"
     },
     "output_type": "display_data"
    }
   ],
   "source": [
    "histogram(create_words(data['desc_text'].values), data['sold_fast'].values)"
   ]
  },
  {
   "cell_type": "markdown",
   "metadata": {},
   "source": [
    "**The number of characters in the description**"
   ]
  },
  {
   "cell_type": "code",
   "execution_count": 31,
   "metadata": {},
   "outputs": [],
   "source": [
    "def create_chars(desc_text):\n",
    "    n = len(desc_text)\n",
    "    \n",
    "    chars = np.empty(n, dtype=int)\n",
    "    \n",
    "    for i in range(n):\n",
    "        chars[i] = len(desc_text[i])\n",
    "        \n",
    "    return chars"
   ]
  },
  {
   "cell_type": "code",
   "execution_count": 32,
   "metadata": {},
   "outputs": [
    {
     "data": {
      "image/png": "[encoded data removed]",
      "text/plain": [
       "<Figure size 432x288 with 1 Axes>"
      ]
     },
     "metadata": {
      "needs_background": "light"
     },
     "output_type": "display_data"
    }
   ],
   "source": [
    "histogram(create_chars(data['desc_text'].values), data['sold_fast'].values)"
   ]
  },
  {
   "cell_type": "markdown",
   "metadata": {},
   "source": [
    "**Weather the owner has ten or more products sold less than in three days**"
   ]
  },
  {
   "cell_type": "code",
   "execution_count": 33,
   "metadata": {},
   "outputs": [],
   "source": [
    "popular_set = None\n",
    "\n",
    "def create_popular(owner_id, sold_fast=None, train=False):\n",
    "    global popular_set\n",
    "    \n",
    "    n = len(owner_id)\n",
    "    \n",
    "    popular = np.empty(n, dtype=bool)\n",
    "    \n",
    "    if train:\n",
    "        owners, counts = np.unique(owner_id[sold_fast == 1], return_counts=True)\n",
    "        \n",
    "        popular_set = set(owners[counts >= 10])\n",
    "    \n",
    "    for i in range(n):\n",
    "        popular[i] = owner_id[i] in popular_set\n",
    "    \n",
    "    return popular                "
   ]
  },
  {
   "cell_type": "code",
   "execution_count": 34,
   "metadata": {},
   "outputs": [
    {
     "data": {
      "image/png": "[encoded data removed]",
      "text/plain": [
       "<Figure size 432x288 with 1 Axes>"
      ]
     },
     "metadata": {
      "needs_background": "light"
     },
     "output_type": "display_data"
    }
   ],
   "source": [
    "histogram(\n",
    "    create_popular(\n",
    "        data['owner_id'].values,\n",
    "        data['sold_fast'].values,\n",
    "        True\n",
    "    ).astype(int),\n",
    "    data['sold_fast'].values\n",
    ")"
   ]
  },
  {
   "cell_type": "markdown",
   "metadata": {},
   "source": [
    "# Machine-learning pipeline and prediction"
   ]
  },
  {
   "cell_type": "markdown",
   "metadata": {},
   "source": [
    "Here you develop your pipeline, generate features for train and test sets\n",
    "* Your pipeline should be reproducible - make sure you set all `random_states` if needed"
   ]
  },
  {
   "cell_type": "markdown",
   "metadata": {},
   "source": [
    "**Model:**\n",
    "\n",
    "XGBoost\n",
    "\n",
    "**Included features:**\n",
    "\n",
    "Categorical features with the target encoding:\n",
    "- category_id\n",
    "- subcategory_id\n",
    "- product_type\n",
    "- region\n",
    "- city\n",
    "- day\n",
    "- weekday\n",
    "- season\n",
    "\n",
    "Text features vectorized with TF-IDF (40 features, stop words removed):\n",
    "- name_text\n",
    "- desc_text\n",
    "\n",
    "Unmodified features:\n",
    "- delivery_available\n",
    "- payment_available\n",
    "- sold_mode\n",
    "- img_num\n",
    "- price\n",
    "- holiday\n",
    "- distance\n",
    "- words\n",
    "- chars\n",
    "- popular"
   ]
  },
  {
   "cell_type": "code",
   "execution_count": 35,
   "metadata": {},
   "outputs": [
    {
     "name": "stderr",
     "output_type": "stream",
     "text": [
      "[nltk_data] Downloading package stopwords to C:\\Users\\Nikita\n",
      "[nltk_data]     Zaytsev\\AppData\\Roaming\\nltk_data...\n",
      "[nltk_data]   Package stopwords is already up-to-date!\n"
     ]
    }
   ],
   "source": [
    "import nltk\n",
    "\n",
    "nltk.download('stopwords')\n",
    "stop_words = nltk.corpus.stopwords.words('russian')"
   ]
  },
  {
   "cell_type": "code",
   "execution_count": 36,
   "metadata": {},
   "outputs": [],
   "source": [
    "from category_encoders.target_encoder import TargetEncoder\n",
    "from sklearn.feature_extraction.text import TfidfVectorizer\n",
    "\n",
    "target_encoder = None\n",
    "name_vectorizer = None\n",
    "desc_vectorizer = None\n",
    "\n",
    "def transform(data, train=False):\n",
    "    global target_encoder, name_vectorizer, desc_vectorizer\n",
    "    \n",
    "    month = create_month(data['date_created'].values)\n",
    "    day = create_day(data['date_created'].values)\n",
    "    weekday = create_weekday(month, day)\n",
    "    season = create_season(month)\n",
    "    holiday = create_holiday(month, day)\n",
    "    distance = create_distance(data['city'].values, data['lat'].values, data['long'].values, train)\n",
    "    words = create_words(data['desc_text'].values)\n",
    "    chars = create_chars(data['desc_text'].values)\n",
    "    \n",
    "    if train:\n",
    "        popular = create_popular(data['owner_id'].values, data['sold_fast'].values, True)\n",
    "    else:\n",
    "        popular = create_popular(data['owner_id'].values)\n",
    "    \n",
    "    categorical = np.concatenate((\n",
    "        data[[\n",
    "            'category_id',\n",
    "            'subcategory_id',\n",
    "            'product_type',\n",
    "            'region',\n",
    "            'city'\n",
    "        ]].values,\n",
    "        np.stack((\n",
    "            day,\n",
    "            weekday,\n",
    "            season\n",
    "        ), axis=1)\n",
    "    ), axis=1)\n",
    "    \n",
    "    if train:\n",
    "        target_encoder = TargetEncoder(cols=range(categorical.shape[1]), return_df=False)\n",
    "        target_encoder.fit(categorical, data['sold_fast'].values)\n",
    "        \n",
    "        name_vectorizer = TfidfVectorizer(max_features=40, stop_words=stop_words)\n",
    "        name_vectorizer.fit(data['name_text'].values)\n",
    "        \n",
    "        desc_vectorizer = TfidfVectorizer(max_features=40, stop_words=stop_words)\n",
    "        desc_vectorizer.fit(data['desc_text'].values)\n",
    "        \n",
    "    return np.concatenate((\n",
    "        target_encoder.transform(categorical),\n",
    "        name_vectorizer.transform(data['name_text'].values).toarray(),\n",
    "        desc_vectorizer.transform(data['desc_text'].values).toarray(),\n",
    "        data[[\n",
    "            'delivery_available',\n",
    "            'payment_available',\n",
    "            'sold_mode',\n",
    "            'img_num',\n",
    "            'price'\n",
    "        ]].values,\n",
    "        np.stack((\n",
    "            holiday,\n",
    "            distance,\n",
    "            words,\n",
    "            chars,\n",
    "            popular\n",
    "        ), axis=1)\n",
    "    ), axis=1)\n",
    "    "
   ]
  },
  {
   "cell_type": "code",
   "execution_count": 37,
   "metadata": {},
   "outputs": [],
   "source": [
    "from sklearn.model_selection import train_test_split\n",
    "\n",
    "data_train, data_test = train_test_split(data, test_size=0.2)"
   ]
  },
  {
   "cell_type": "code",
   "execution_count": 38,
   "metadata": {},
   "outputs": [
    {
     "name": "stdout",
     "output_type": "stream",
     "text": [
      "Wall time: 3min 12s\n"
     ]
    }
   ],
   "source": [
    "%%time\n",
    "\n",
    "X_train = transform(data_train, True)\n",
    "y_train = data_train['sold_fast'].values\n",
    "\n",
    "X_test = transform(data_test)\n",
    "y_test = data_test['sold_fast'].values"
   ]
  },
  {
   "cell_type": "code",
   "execution_count": 40,
   "metadata": {},
   "outputs": [
    {
     "name": "stdout",
     "output_type": "stream",
     "text": [
      "Wall time: 11min 48s\n"
     ]
    }
   ],
   "source": [
    "%%time\n",
    "\n",
    "from xgboost import XGBClassifier\n",
    "\n",
    "model = XGBClassifier(\n",
    "    n_estimators=600,\n",
    "    learning_rate=0.03,\n",
    "    max_depth=4,\n",
    "    n_jobs=3\n",
    ")\n",
    "\n",
    "model.fit(X_train, y_train)"
   ]
  },
  {
   "cell_type": "code",
   "execution_count": 41,
   "metadata": {},
   "outputs": [
    {
     "name": "stdout",
     "output_type": "stream",
     "text": [
      "Train accuracy:  0.7713540480528354\n",
      "Test accuracy:  0.77152454559688\n",
      "Wall time: 7.25 s\n"
     ]
    }
   ],
   "source": [
    "%%time\n",
    "\n",
    "from sklearn.metrics import accuracy_score\n",
    "\n",
    "y_predicted_train = model.predict(X_train)\n",
    "y_predicted_test = model.predict(X_test)\n",
    "print('Train accuracy: ', accuracy_score(y_train, y_predicted_train))\n",
    "print('Test accuracy: ', accuracy_score(y_test, y_predicted_test))"
   ]
  },
  {
   "cell_type": "code",
   "execution_count": 42,
   "metadata": {},
   "outputs": [
    {
     "data": {
      "image/png": "[encoded data removed]",
      "text/plain": [
       "<Figure size 432x288 with 1 Axes>"
      ]
     },
     "metadata": {
      "needs_background": "light"
     },
     "output_type": "display_data"
    },
    {
     "name": "stdout",
     "output_type": "stream",
     "text": [
      "ROC AUC:  0.6247623249244821\n",
      "Wall time: 2.84 s\n"
     ]
    }
   ],
   "source": [
    "%%time\n",
    "\n",
    "from sklearn.metrics import roc_curve\n",
    "from sklearn.metrics import roc_auc_score\n",
    "\n",
    "y_predicted_proba = model.predict_proba(X_test)\n",
    "\n",
    "fpr, tpr, thresholds = roc_curve(y_test, y_predicted_proba[:, 1])\n",
    "\n",
    "plt.figure()\n",
    "plt.plot(fpr, tpr)\n",
    "plt.xlabel('False positive rate')\n",
    "plt.ylabel('True positive rate')\n",
    "plt.show()\n",
    "\n",
    "print('ROC AUC: ', roc_auc_score(y_test, y_predicted_proba[:, 1]))"
   ]
  },
  {
   "cell_type": "markdown",
   "metadata": {},
   "source": [
    "# Submission"
   ]
  },
  {
   "cell_type": "code",
   "execution_count": 44,
   "metadata": {},
   "outputs": [
    {
     "name": "stdout",
     "output_type": "stream",
     "text": [
      "Wall time: 19.7 s\n"
     ]
    }
   ],
   "source": [
    "%%time\n",
    "\n",
    "X = transform(data_submit)"
   ]
  },
  {
   "cell_type": "code",
   "execution_count": 45,
   "metadata": {},
   "outputs": [
    {
     "name": "stdout",
     "output_type": "stream",
     "text": [
      "Wall time: 2.27 s\n"
     ]
    }
   ],
   "source": [
    "%%time\n",
    "\n",
    "predict_proba = model.predict_proba(X)"
   ]
  },
  {
   "cell_type": "code",
   "execution_count": 46,
   "metadata": {},
   "outputs": [],
   "source": [
    "submission = pd.DataFrame.from_dict({'product_id' : data_submit['product_id'].values, 'score' : predict_proba[:, 1]})\n",
    "submission.to_csv('submission.csv', sep = ',', index = False)"
   ]
  },
  {
   "cell_type": "markdown",
   "metadata": {},
   "source": [
    "# Model interpretation\n",
    "Try to interpret your model results\n",
    "* What **knowledge** does it reveal?"
   ]
  },
  {
   "cell_type": "code",
   "execution_count": 48,
   "metadata": {},
   "outputs": [],
   "source": [
    "feature_importances = model.feature_importances_"
   ]
  },
  {
   "cell_type": "code",
   "execution_count": 50,
   "metadata": {},
   "outputs": [
    {
     "name": "stdout",
     "output_type": "stream",
     "text": [
      "Feature importances:\n",
      "category_id: 0.023839086\n",
      "subcategory_id: 0.08939657\n",
      "product_type: 0.0019865904\n",
      "region: 0.016637696\n",
      "city: 0.11882295\n",
      "day: 0.050533894\n",
      "weekday: 0.018375963\n",
      "season: 0.03898684\n",
      "name_text: max 0.008939657 mean 0.0018624287\n",
      "desc_text: max 0.017134342 mean 0.0067637204\n",
      "delivery_available 0.0069530667\n",
      "payment_available 0.0031040476\n",
      "sold_mode 0.0059597716\n",
      "img_num 0.01763099\n",
      "price 0.12689348\n",
      "holiday 0.004221505\n",
      "distance 0.046560716\n",
      "words 0.021976657\n",
      "chars 0.056493666\n",
      "popular 0.006580581\n"
     ]
    }
   ],
   "source": [
    "print('Feature importances:')\n",
    "print('category_id:', feature_importances[0])\n",
    "print('subcategory_id:', feature_importances[1])\n",
    "print('product_type:', feature_importances[2])\n",
    "print('region:', feature_importances[3])\n",
    "print('city:', feature_importances[4])\n",
    "print('day:', feature_importances[5])\n",
    "print('weekday:', feature_importances[6])\n",
    "print('season:', feature_importances[7])\n",
    "print('name_text: max', feature_importances[8:48].max(), 'mean', np.mean(feature_importances[8:48]))\n",
    "print('desc_text: max', feature_importances[48:88].max(), 'mean', np.mean(feature_importances[48:88]))\n",
    "print('delivery_available', feature_importances[88])\n",
    "print('payment_available', feature_importances[89])\n",
    "print('sold_mode', feature_importances[90])\n",
    "print('img_num', feature_importances[91])\n",
    "print('price', feature_importances[92])\n",
    "print('holiday', feature_importances[93])\n",
    "print('distance', feature_importances[94])\n",
    "print('words', feature_importances[95])\n",
    "print('chars', feature_importances[96])\n",
    "print('popular', feature_importances[97])"
   ]
  },
  {
   "cell_type": "markdown",
   "metadata": {},
   "source": [
    "The most important features are:\n",
    "- category_id\n",
    "- subcategory_id\n",
    "- region\n",
    "- city\n",
    "- day\n",
    "- weekday\n",
    "- season\n",
    "- desc_text\n",
    "- img_num\n",
    "- price\n",
    "- distance\n",
    "- words\n",
    "- chars"
   ]
  },
  {
   "cell_type": "code",
   "execution_count": null,
   "metadata": {},
   "outputs": [],
   "source": []
  }
 ],
 "metadata": {
  "kernelspec": {
   "display_name": "Python 3",
   "language": "python",
   "name": "python3"
  },
  "language_info": {
   "codemirror_mode": {
    "name": "ipython",
    "version": 3
   },
   "file_extension": ".py",
   "mimetype": "text/x-python",
   "name": "python",
   "nbconvert_exporter": "python",
   "pygments_lexer": "ipython3",
   "version": "3.7.2"
  },
  "toc": {
   "base_numbering": 1,
   "nav_menu": {},
   "number_sections": true,
   "sideBar": true,
   "skip_h1_title": false,
   "title_cell": "Table of Contents",
   "title_sidebar": "Contents",
   "toc_cell": false,
   "toc_position": {},
   "toc_section_display": true,
   "toc_window_display": false
  }
 },
 "nbformat": 4,
 "nbformat_minor": 2
}
