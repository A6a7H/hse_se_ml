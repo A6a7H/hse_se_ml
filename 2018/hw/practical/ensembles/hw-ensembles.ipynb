{
 "cells": [
  {
   "cell_type": "markdown",
   "metadata": {},
   "source": [
    "# Data Analysis for Software Engineers\n",
    "\n",
    "## Practical Assignment 5\n",
    "## Ensemble Learning"
   ]
  },
  {
   "cell_type": "markdown",
   "metadata": {},
   "source": [
    "<hr\\>\n",
    "**General Information**\n",
    "\n",
    "**Due date:** 20 May 2018, 23:59 <br\\>\n",
    "**Submission link:** [here](https://www.dropbox.com/request/8ZfcRf2dAiGPAH8nL8Zy)\n",
    "\n",
    "Add your name to this notebook's title<br\\>\n",
    "<hr\\>\n",
    "\n",
    "Take in to account that some tasks may not have rigorous and comprehensive solution.<br\\>\n",
    "Support your code with comments and illustation if needed. The more conclusions, derivations and explanations you provide - the better. <br\\>\n"
   ]
  },
  {
   "cell_type": "code",
   "execution_count": null,
   "metadata": {
    "collapsed": true
   },
   "outputs": [],
   "source": [
    "import numpy as np\n",
    "import pandas as pd\n",
    "import matplotlib.pyplot as plt\n",
    "\n",
    "%matplotlib inline\n",
    "\n",
    "plt.style.use('ggplot')\n",
    "plt.rcParams['figure.figsize'] = (12,8)"
   ]
  },
  {
   "cell_type": "markdown",
   "metadata": {},
   "source": [
    "# Prepare dataset (1 point)"
   ]
  },
  {
   "cell_type": "markdown",
   "metadata": {},
   "source": [
    "During this task we are going to check some ensemble models on California Housing Dataset. This is going to be regression task, so error metric is set to **RMSE**.\n",
    "\n",
    "Load `housing.csv` dataset. \n",
    "\n",
    "You are going to work mostly with tree-based models, so:\n",
    "* No feature normalization is required \n",
    "* Categorical feature \"`ocean_proximity`\" should be encoded either with labels `(0, 1, 2, 3, 4)` or with OHE.\n",
    "* Features with missing values should be filled with extraordinary values\n",
    "* Target column is \"`median_house_value`\"\n",
    "\n",
    "As a result you should get `np.array` \"`y`\" with target feature and `np.array` \"`X`\" with other features."
   ]
  },
  {
   "cell_type": "code",
   "execution_count": null,
   "metadata": {
    "collapsed": true
   },
   "outputs": [],
   "source": [
    "## Your Code Here"
   ]
  },
  {
   "cell_type": "markdown",
   "metadata": {},
   "source": [
    "## Split to train and validation sets\n",
    "Choose arbitrary `random_seed` and split you data to train and validation parts in proportion 80/20.\n",
    "\n",
    "As a result you should get `X_train`, `X_valid`, `y_train` and `y_valid`"
   ]
  },
  {
   "cell_type": "code",
   "execution_count": null,
   "metadata": {
    "collapsed": true
   },
   "outputs": [],
   "source": [
    "## Your Code Here"
   ]
  },
  {
   "cell_type": "markdown",
   "metadata": {},
   "source": [
    "# Random Forest Model (3 points)"
   ]
  },
  {
   "cell_type": "markdown",
   "metadata": {},
   "source": [
    "Implement function `learn_rf(...)`\n",
    "\n",
    "**Inputs:**\n",
    "`X_train`, `y_train`, `X_valid`, `y_valid`, `num_trees`\n",
    "\n",
    "**Outputs:**\n",
    "* `importance` - `np.array` with feature importances\n",
    "* `pred_train` - `np.array` with predictions of RF on train set\n",
    "* `pred_train_ind` - `np.array` with predictions of each individual trees on train set\n",
    "* `pred_valid` - `np.array` with predictions of RF on validation set\n",
    "* `pred_valid_ind` - `np.array` with predictions of each individual trees on validation set"
   ]
  },
  {
   "cell_type": "markdown",
   "metadata": {},
   "source": [
    "Train Random Forest Regression models with 10, 20, 30, 50, 100 and 200 trees.\n",
    "\n",
    "* Show feature names and their importance (at any number of trees)\n",
    "* For every random forest model compare train- and validation- errors’ variance of individual trees and ensemble model. Explain your observations."
   ]
  },
  {
   "cell_type": "code",
   "execution_count": null,
   "metadata": {
    "collapsed": true
   },
   "outputs": [],
   "source": [
    "## Your Code Here"
   ]
  },
  {
   "cell_type": "markdown",
   "metadata": {},
   "source": [
    "# Gradient Boosing Model (3 points)"
   ]
  },
  {
   "cell_type": "markdown",
   "metadata": {},
   "source": [
    "Implement function `learn_gbm(...)`\n",
    "\n",
    "**Inputs:**\n",
    "`X_train`, `y_train`, `X_valid`, `y_valid`, `num_stages`, `learning_rate`.\n",
    "\n",
    "**Outputs:**\n",
    "* `importance` - `np.array` with feature importances\n",
    "* `pred_train` - `np.array` with **final** predictions of GBM on train set\n",
    "* `pred_train_staged` - `np.array` with **staged** predictions on train set (after each new tree)\n",
    "* `pred_valid` - `np.array` with **final** predictions of GBM on validation set\n",
    "* `pred_valid_staged` - `np.array` with **staged** predictions on validation set (after each new tree) \n",
    "\n",
    "Useful functions and classes: `GradientBoostingRegressor.staged_predict()`\n",
    "\n",
    "You are highly encouraged to use advanced libraries of gradient boosting instead of sklearn implementation, like [XGBoost](https://github.com/dmlc/xgboost), [CatBoost](https://github.com/catboost/catboost) or [LightGBM](https://github.com/Microsoft/LightGBM). \n",
    "\n",
    "So pick one, make sure you have installed the last version, and use it in this task."
   ]
  },
  {
   "cell_type": "markdown",
   "metadata": {},
   "source": [
    "Use `learn_gbt` function to train Gradient Boosting Tree Regression model with `1000` trees \n",
    "\n",
    "* Try to pick 3 values of  `learning_rate` for \n",
    "    * Aggresive learning - error on train set is getting low, but validation error decreases only on first steps and goes up afterwards\n",
    "    * Slow learning - error on train and validation sets is getting low VERY slowly\n",
    "    * Healthy learning - error on train and validation sets is getting low and optimal number of iterations (where validation error (almost) stops decreasing) is somewhere between 800 and 1000.\n",
    "* Show feature names and importance (for the latter `learning_rate` value). Are importances different  from Random Forest case? Why?"
   ]
  },
  {
   "cell_type": "code",
   "execution_count": null,
   "metadata": {
    "collapsed": true
   },
   "outputs": [],
   "source": [
    "## Your Code Here"
   ]
  },
  {
   "cell_type": "markdown",
   "metadata": {},
   "source": [
    "# Linear Regression with Random Trees Embedding (3 points)"
   ]
  },
  {
   "cell_type": "markdown",
   "metadata": {},
   "source": [
    "Set baseline pipeline with the following steps:\n",
    "\n",
    "* FeatureUnion of:\n",
    "    * OneHotEncoding of categorical features\n",
    "    * StandartScaling of other features\n",
    "* Linear Regression\n",
    "\n",
    "Fit on (`X_train`, `y_train`) and predict on (`X_valid`, `y_valid`) - you should get `pred_valid_base`."
   ]
  },
  {
   "cell_type": "code",
   "execution_count": null,
   "metadata": {
    "collapsed": true
   },
   "outputs": [],
   "source": [
    "## Your Code Here"
   ]
  },
  {
   "cell_type": "markdown",
   "metadata": {},
   "source": [
    "Implement function `learn_lm(...)` which will learn the following pipeline:\n",
    "* RandomTreesEmbedding\n",
    "* LinearRegression\n",
    "\n",
    "**Inputs:**\n",
    "`X_train`, `y_train`, `X_valid`, `y_valid`, `num_trees`, `max_depth`.\n",
    "\n",
    "**Outputs:**\n",
    "* `pred_valid` - `np.array` with predictions on validation set\n",
    "\n",
    "Useful functions and classes: [RandomTreesEmbedding](http://scikit-learn.org/stable/modules/generated/sklearn.ensemble.RandomTreesEmbedding.html#sklearn.ensemble.RandomTreesEmbedding)\n",
    "\n",
    "Run it with various `max_depth` and `num_trees`. Compare this pipeline with base pipeline on validation set as RMSE(this_pipeline)/RMSE(base_pipeline)."
   ]
  },
  {
   "cell_type": "code",
   "execution_count": null,
   "metadata": {
    "collapsed": true
   },
   "outputs": [],
   "source": [
    "## Your Code Here"
   ]
  }
 ],
 "metadata": {
  "anaconda-cloud": {},
  "kernelspec": {
   "display_name": "Python [default]",
   "language": "python",
   "name": "python2"
  },
  "language_info": {
   "codemirror_mode": {
    "name": "ipython",
    "version": 2
   },
   "file_extension": ".py",
   "mimetype": "text/x-python",
   "name": "python",
   "nbconvert_exporter": "python",
   "pygments_lexer": "ipython2",
   "version": "2.7.14"
  },
  "toc": {
   "colors": {
    "hover_highlight": "#DAA520",
    "navigate_num": "#000000",
    "navigate_text": "#333333",
    "running_highlight": "#FF0000",
    "selected_highlight": "#FFD700",
    "sidebar_border": "#EEEEEE",
    "wrapper_background": "#FFFFFF"
   },
   "moveMenuLeft": true,
   "nav_menu": {
    "height": "235px",
    "width": "253px"
   },
   "navigate_menu": true,
   "number_sections": false,
   "sideBar": true,
   "threshold": 4,
   "toc_cell": false,
   "toc_section_display": "block",
   "toc_window_display": true,
   "widenNotebook": false
  }
 },
 "nbformat": 4,
 "nbformat_minor": 2
}
