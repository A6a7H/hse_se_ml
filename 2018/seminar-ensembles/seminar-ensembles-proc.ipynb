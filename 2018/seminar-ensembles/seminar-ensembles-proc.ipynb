{
 "cells": [
  {
   "cell_type": "markdown",
   "metadata": {},
   "source": [
    "<center><img src=\"img/logo_hse_black.jpg\"></center>\n",
    "\n",
    "<h1><center>Data Analysis</center></h1>\n",
    "<h2><center>Seminar: Ensemble Learning. </center></h2>"
   ]
  },
  {
   "cell_type": "code",
   "execution_count": 2,
   "metadata": {
    "collapsed": true
   },
   "outputs": [],
   "source": [
    "import os\n",
    "import numpy as np\n",
    "import pandas as pd\n",
    "import matplotlib.pyplot as plt\n",
    "\n",
    "%matplotlib inline\n",
    "\n",
    "plt.style.use('ggplot')\n",
    "plt.rcParams['figure.figsize'] = (12, 6)"
   ]
  },
  {
   "cell_type": "markdown",
   "metadata": {},
   "source": [
    "## Task 1"
   ]
  },
  {
   "cell_type": "markdown",
   "metadata": {},
   "source": [
    "Load data from `data/x_data.tsv` and `data/y_data.tsv`. \n",
    "\n",
    "These are descriptive features and target feature. Put them in `X` and `y` respectively."
   ]
  },
  {
   "cell_type": "code",
   "execution_count": 11,
   "metadata": {
    "collapsed": true
   },
   "outputs": [],
   "source": [
    "df_X = pd.read_csv('./data/x_train.csv', sep=';')\n",
    "df_y = pd.read_csv('./data/y_train.csv', sep=';', header=None,\n",
    "                  names=['target'])"
   ]
  },
  {
   "cell_type": "code",
   "execution_count": 12,
   "metadata": {},
   "outputs": [
    {
     "data": {
      "text/html": [
       "<div>\n",
       "<style>\n",
       "    .dataframe thead tr:only-child th {\n",
       "        text-align: right;\n",
       "    }\n",
       "\n",
       "    .dataframe thead th {\n",
       "        text-align: left;\n",
       "    }\n",
       "\n",
       "    .dataframe tbody tr th {\n",
       "        vertical-align: top;\n",
       "    }\n",
       "</style>\n",
       "<table border=\"1\" class=\"dataframe\">\n",
       "  <thead>\n",
       "    <tr style=\"text-align: right;\">\n",
       "      <th></th>\n",
       "      <th>target</th>\n",
       "    </tr>\n",
       "  </thead>\n",
       "  <tbody>\n",
       "    <tr>\n",
       "      <th>0</th>\n",
       "      <td>0</td>\n",
       "    </tr>\n",
       "    <tr>\n",
       "      <th>1</th>\n",
       "      <td>1</td>\n",
       "    </tr>\n",
       "    <tr>\n",
       "      <th>2</th>\n",
       "      <td>1</td>\n",
       "    </tr>\n",
       "    <tr>\n",
       "      <th>3</th>\n",
       "      <td>1</td>\n",
       "    </tr>\n",
       "    <tr>\n",
       "      <th>4</th>\n",
       "      <td>0</td>\n",
       "    </tr>\n",
       "  </tbody>\n",
       "</table>\n",
       "</div>"
      ],
      "text/plain": [
       "   target\n",
       "0       0\n",
       "1       1\n",
       "2       1\n",
       "3       1\n",
       "4       0"
      ]
     },
     "execution_count": 12,
     "metadata": {},
     "output_type": "execute_result"
    }
   ],
   "source": [
    "df_X.head()\n",
    "df_y.head()"
   ]
  },
  {
   "cell_type": "code",
   "execution_count": 13,
   "metadata": {},
   "outputs": [
    {
     "data": {
      "text/plain": [
       "(25289, 12)"
      ]
     },
     "execution_count": 13,
     "metadata": {},
     "output_type": "execute_result"
    }
   ],
   "source": [
    "df_X.shape"
   ]
  },
  {
   "cell_type": "code",
   "execution_count": 14,
   "metadata": {},
   "outputs": [
    {
     "data": {
      "text/plain": [
       "(25289, 1)"
      ]
     },
     "execution_count": 14,
     "metadata": {},
     "output_type": "execute_result"
    }
   ],
   "source": [
    "df_y.shape"
   ]
  },
  {
   "cell_type": "code",
   "execution_count": 15,
   "metadata": {
    "collapsed": true
   },
   "outputs": [],
   "source": [
    "X = df_X.values\n",
    "y = df_y.values"
   ]
  },
  {
   "cell_type": "markdown",
   "metadata": {},
   "source": [
    "## Task 2"
   ]
  },
  {
   "cell_type": "markdown",
   "metadata": {},
   "source": [
    "Plot validation curve w.r.t. hyperparameter `max_depth` of Decistion Tree? Which depth deliveres the best roc-auc?"
   ]
  },
  {
   "cell_type": "code",
   "execution_count": 16,
   "metadata": {
    "collapsed": true
   },
   "outputs": [],
   "source": [
    "from sklearn.model_selection import validation_curve\n",
    "from sklearn.model_selection import StratifiedKFold\n",
    "from sklearn.tree import DecisionTreeClassifier\n"
   ]
  },
  {
   "cell_type": "code",
   "execution_count": 17,
   "metadata": {
    "collapsed": true
   },
   "outputs": [],
   "source": [
    "model = DecisionTreeClassifier()\n",
    "cv = StratifiedKFold(5, shuffle=True, random_state=123)"
   ]
  },
  {
   "cell_type": "code",
   "execution_count": 21,
   "metadata": {
    "collapsed": true
   },
   "outputs": [],
   "source": [
    "depth_range = range(1, 11)\n",
    "train_scores, test_scores = \\\n",
    "validation_curve(model, X, y, 'max_depth', depth_range, \n",
    "                 cv=cv, scoring='roc_auc')"
   ]
  },
  {
   "cell_type": "code",
   "execution_count": 23,
   "metadata": {},
   "outputs": [],
   "source": [
    "tree_scores = test_scores.mean(axis=1)"
   ]
  },
  {
   "cell_type": "code",
   "execution_count": 25,
   "metadata": {},
   "outputs": [
    {
     "data": {
      "text/plain": [
       "[<matplotlib.lines.Line2D at 0x10a246090>]"
      ]
     },
     "execution_count": 25,
     "metadata": {},
     "output_type": "execute_result"
    },
    {
     "data": {
      "image/png": "[encoded data removed]",
      "text/plain": [
       "<matplotlib.figure.Figure at 0x109eecdd0>"
      ]
     },
     "metadata": {},
     "output_type": "display_data"
    }
   ],
   "source": [
    "plt.plot(depth_range, tree_scores)"
   ]
  },
  {
   "cell_type": "markdown",
   "metadata": {},
   "source": [
    "## Task 3\n",
    "\n",
    "Wrap DecTree in to BaggingClasifier. Repeat the same procedure with `max_depth`. \n",
    "\n",
    "What are you observing? Is quality better?\n",
    "\n",
    "HINT: to iterate over base_estimator's hyperparameters use `\"base_estimator__\"` prefix in `param_name` argument of `validation curve`"
   ]
  },
  {
   "cell_type": "code",
   "execution_count": 26,
   "metadata": {
    "collapsed": true
   },
   "outputs": [],
   "source": [
    "from sklearn.ensemble import BaggingClassifier"
   ]
  },
  {
   "cell_type": "code",
   "execution_count": 27,
   "metadata": {
    "collapsed": true
   },
   "outputs": [],
   "source": [
    "model = BaggingClassifier(DecisionTreeClassifier(), \n",
    "                          random_state=123,\n",
    "                          n_estimators=100)"
   ]
  },
  {
   "cell_type": "code",
   "execution_count": 28,
   "metadata": {
    "scrolled": true
   },
   "outputs": [
    {
     "name": "stderr",
     "output_type": "stream",
     "text": [
      "/Users/andrey.shestakov/anaconda2/lib/python2.7/site-packages/sklearn/utils/validation.py:578: DataConversionWarning: A column-vector y was passed when a 1d array was expected. Please change the shape of y to (n_samples, ), for example using ravel().\n",
      "  y = column_or_1d(y, warn=True)\n"
     ]
    }
   ],
   "source": [
    "train_scores, test_scores = \\\n",
    "validation_curve(model, X, y, 'base_estimator__max_depth', \n",
    "                 depth_range, \n",
    "                 cv=cv, scoring='roc_auc')"
   ]
  },
  {
   "cell_type": "code",
   "execution_count": 29,
   "metadata": {
    "collapsed": true
   },
   "outputs": [],
   "source": [
    "bagging_scores = test_scores.mean(axis=1)"
   ]
  },
  {
   "cell_type": "code",
   "execution_count": 31,
   "metadata": {},
   "outputs": [
    {
     "data": {
      "text/plain": [
       "<matplotlib.legend.Legend at 0x10b819a10>"
      ]
     },
     "execution_count": 31,
     "metadata": {},
     "output_type": "execute_result"
    },
    {
     "data": {
      "image/png": "[encoded data removed]",
      "text/plain": [
       "<matplotlib.figure.Figure at 0x10a105d50>"
      ]
     },
     "metadata": {},
     "output_type": "display_data"
    }
   ],
   "source": [
    "plt.plot(depth_range, tree_scores, label='tree')\n",
    "plt.plot(depth_range, bagging_scores, label='bagging')\n",
    "plt.legend()"
   ]
  },
  {
   "cell_type": "markdown",
   "metadata": {},
   "source": [
    "## Task 4\n",
    "\n",
    "Now consider RandomForestClassifier. Repeat the same actions with it"
   ]
  },
  {
   "cell_type": "code",
   "execution_count": 32,
   "metadata": {
    "collapsed": true
   },
   "outputs": [],
   "source": [
    "from sklearn.ensemble import RandomForestClassifier"
   ]
  },
  {
   "cell_type": "code",
   "execution_count": 33,
   "metadata": {
    "collapsed": true
   },
   "outputs": [],
   "source": [
    "model = RandomForestClassifier(n_estimators=100, n_jobs=-1)"
   ]
  },
  {
   "cell_type": "code",
   "execution_count": 34,
   "metadata": {
    "scrolled": true
   },
   "outputs": [
    {
     "name": "stderr",
     "output_type": "stream",
     "text": [
      "/Users/andrey.shestakov/anaconda2/lib/python2.7/site-packages/sklearn/model_selection/_validation.py:458: DataConversionWarning: A column-vector y was passed when a 1d array was expected. Please change the shape of y to (n_samples,), for example using ravel().\n",
      "  estimator.fit(X_train, y_train, **fit_params)\n"
     ]
    }
   ],
   "source": [
    "train_scores, test_scores = \\\n",
    "validation_curve(model, X, y, 'max_depth', \n",
    "                 depth_range, \n",
    "                 cv=cv, scoring='roc_auc')"
   ]
  },
  {
   "cell_type": "code",
   "execution_count": 35,
   "metadata": {
    "collapsed": true
   },
   "outputs": [],
   "source": [
    "forest_scores = test_scores.mean(axis=1)"
   ]
  },
  {
   "cell_type": "code",
   "execution_count": 36,
   "metadata": {},
   "outputs": [
    {
     "data": {
      "text/plain": [
       "<matplotlib.legend.Legend at 0x1a13b8f9d0>"
      ]
     },
     "execution_count": 36,
     "metadata": {},
     "output_type": "execute_result"
    },
    {
     "data": {
      "image/png": "[encoded data removed]",
      "text/plain": [
       "<matplotlib.figure.Figure at 0x10a111350>"
      ]
     },
     "metadata": {},
     "output_type": "display_data"
    }
   ],
   "source": [
    "plt.plot(depth_range, tree_scores, label='tree')\n",
    "plt.plot(depth_range, bagging_scores, label='bagging')\n",
    "plt.plot(depth_range, forest_scores, label='rf')\n",
    "plt.legend()"
   ]
  },
  {
   "cell_type": "markdown",
   "metadata": {},
   "source": [
    "## Task 5"
   ]
  },
  {
   "cell_type": "markdown",
   "metadata": {},
   "source": [
    "Tree leaves can be considered as categorical features:\n",
    "\n",
    "* Train forest with $T$ trees on your data\n",
    "* Enumerate leaves of each tree from $0$ to $L_T$\n",
    "* Each object would have feature \"a which leaf it ended up\" for each tree\n",
    "* Encode those with OHE\n",
    "* Profit??\n",
    "\n",
    "Any doubts?"
   ]
  },
  {
   "cell_type": "code",
   "execution_count": 37,
   "metadata": {
    "collapsed": true
   },
   "outputs": [],
   "source": [
    "from sklearn.ensemble import RandomTreesEmbedding"
   ]
  },
  {
   "cell_type": "code",
   "execution_count": 50,
   "metadata": {},
   "outputs": [
    {
     "data": {
      "text/plain": [
       "RandomTreesEmbedding(max_depth=5, max_leaf_nodes=None,\n",
       "           min_impurity_decrease=0.0, min_impurity_split=None,\n",
       "           min_samples_leaf=1, min_samples_split=2,\n",
       "           min_weight_fraction_leaf=0.0, n_estimators=10, n_jobs=1,\n",
       "           random_state=123, sparse_output=True, verbose=0,\n",
       "           warm_start=False)"
      ]
     },
     "execution_count": 50,
     "metadata": {},
     "output_type": "execute_result"
    }
   ],
   "source": [
    "emb = RandomTreesEmbedding(n_estimators=10, \n",
    "                           max_depth=5, \n",
    "                           random_state=123)\n",
    "emb.fit(X)\n",
    "\n",
    "# emb = RandomForestClassifier(n_estimators=10, \n",
    "#                              max_depth=5, \n",
    "#                              random_state=123)\n",
    "# emb.fit(X, y)"
   ]
  },
  {
   "cell_type": "code",
   "execution_count": 51,
   "metadata": {
    "collapsed": true
   },
   "outputs": [],
   "source": [
    "X_emb = emb.apply(X)"
   ]
  },
  {
   "cell_type": "code",
   "execution_count": 52,
   "metadata": {},
   "outputs": [
    {
     "data": {
      "text/plain": [
       "(25289, 10)"
      ]
     },
     "execution_count": 52,
     "metadata": {},
     "output_type": "execute_result"
    }
   ],
   "source": [
    "X_emb.shape"
   ]
  },
  {
   "cell_type": "code",
   "execution_count": 53,
   "metadata": {},
   "outputs": [
    {
     "data": {
      "text/plain": [
       "array([[15, 15, 12, 31,  5,  5,  6,  5, 15, 18],\n",
       "       [23, 15, 15, 31,  5, 23,  6,  5, 15, 39],\n",
       "       [15,  5,  9, 31,  8,  5,  5, 41,  8,  6],\n",
       "       [ 8,  5, 12,  5,  5,  5,  5,  5,  5,  5],\n",
       "       [15,  5,  8, 31,  8,  5,  5, 41,  8,  6],\n",
       "       [ 5,  5,  5, 12,  5,  5,  5,  5,  5,  5],\n",
       "       [15,  5, 12, 31,  9,  5,  6,  5,  8, 18],\n",
       "       [15,  5, 12, 31,  5,  5,  6,  5,  5, 18],\n",
       "       [ 8,  5,  5, 30,  5,  5,  5,  5,  5,  5],\n",
       "       [ 5, 12,  6, 30,  5,  5,  5,  5, 12,  5]])"
      ]
     },
     "execution_count": 53,
     "metadata": {},
     "output_type": "execute_result"
    }
   ],
   "source": [
    "X_emb[:10]"
   ]
  },
  {
   "cell_type": "code",
   "execution_count": 54,
   "metadata": {},
   "outputs": [],
   "source": [
    "X_emb_sparse = emb.transform(X)"
   ]
  },
  {
   "cell_type": "code",
   "execution_count": 55,
   "metadata": {},
   "outputs": [
    {
     "data": {
      "text/plain": [
       "<25289x224 sparse matrix of type '<type 'numpy.float64'>'\n",
       "\twith 252890 stored elements in Compressed Sparse Row format>"
      ]
     },
     "execution_count": 55,
     "metadata": {},
     "output_type": "execute_result"
    }
   ],
   "source": [
    "X_emb_sparse"
   ]
  },
  {
   "cell_type": "code",
   "execution_count": 66,
   "metadata": {},
   "outputs": [],
   "source": [
    "from sklearn.pipeline import Pipeline\n",
    "from sklearn.linear_model import LogisticRegression\n",
    "from sklearn.preprocessing import StandardScaler\n",
    "from sklearn.model_selection import cross_val_score"
   ]
  },
  {
   "cell_type": "code",
   "execution_count": 67,
   "metadata": {},
   "outputs": [],
   "source": [
    "model = Pipeline([\n",
    "    ('tree_emb', RandomTreesEmbedding(n_estimators=50, \n",
    "                                      max_depth=4)),\n",
    "    ('clf', LogisticRegression(C=0.1))\n",
    "])\n",
    "\n",
    "simple_model = Pipeline([\n",
    "    ('scaler', StandardScaler()),\n",
    "    ('clf', LogisticRegression(C=0.1))\n",
    "])\n"
   ]
  },
  {
   "cell_type": "code",
   "execution_count": 69,
   "metadata": {},
   "outputs": [
    {
     "data": {
      "text/plain": [
       "0.87771098618873644"
      ]
     },
     "execution_count": 69,
     "metadata": {},
     "output_type": "execute_result"
    }
   ],
   "source": [
    "scores = cross_val_score(model, X, y, scoring='roc_auc', cv=cv, n_jobs=-1)\n",
    "scores.mean()"
   ]
  },
  {
   "cell_type": "code",
   "execution_count": 70,
   "metadata": {},
   "outputs": [
    {
     "data": {
      "text/plain": [
       "0.87350068593499175"
      ]
     },
     "execution_count": 70,
     "metadata": {},
     "output_type": "execute_result"
    }
   ],
   "source": [
    "scores = cross_val_score(simple_model, X, y, scoring='roc_auc', cv=cv, n_jobs=1)\n",
    "scores.mean()"
   ]
  },
  {
   "cell_type": "markdown",
   "metadata": {},
   "source": [
    "# Task 6 (staking)"
   ]
  },
  {
   "cell_type": "code",
   "execution_count": 71,
   "metadata": {},
   "outputs": [
    {
     "name": "stdout",
     "output_type": "stream",
     "text": [
      "Requirement already satisfied: vecstack in /Users/andrey.shestakov/anaconda2/lib/python2.7/site-packages\n",
      "Requirement already satisfied: scikit-learn>=0.18 in /Users/andrey.shestakov/anaconda2/lib/python2.7/site-packages (from vecstack)\n",
      "Requirement already satisfied: scipy in /Users/andrey.shestakov/anaconda2/lib/python2.7/site-packages (from vecstack)\n",
      "Requirement already satisfied: numpy in /Users/andrey.shestakov/anaconda2/lib/python2.7/site-packages (from vecstack)\n",
      "\u001b[33mYou are using pip version 9.0.1, however version 10.0.1 is available.\n",
      "You should consider upgrading via the 'pip install --upgrade pip' command.\u001b[0m\n"
     ]
    }
   ],
   "source": [
    "!pip install vecstack"
   ]
  },
  {
   "cell_type": "code",
   "execution_count": 72,
   "metadata": {
    "collapsed": true
   },
   "outputs": [],
   "source": [
    "from vecstack import stacking"
   ]
  },
  {
   "cell_type": "code",
   "execution_count": 75,
   "metadata": {},
   "outputs": [],
   "source": [
    "from sklearn.neighbors import KNeighborsClassifier\n",
    "from sklearn.linear_model import LogisticRegression\n",
    "from sklearn.naive_bayes import GaussianNB\n",
    "from sklearn.dummy import DummyClassifier"
   ]
  },
  {
   "cell_type": "code",
   "execution_count": 76,
   "metadata": {
    "collapsed": true
   },
   "outputs": [],
   "source": [
    "models = [\n",
    "    RandomForestClassifier(n_estimators=50, \n",
    "                           max_depth=5, \n",
    "                           random_state=123),\n",
    "    RandomForestClassifier(n_estimators=50, \n",
    "                           max_depth=10, \n",
    "                           random_state=123, \n",
    "                           max_features='log2'),\n",
    "    Pipeline([\n",
    "        ('scaler', StandardScaler()),\n",
    "        ('clf', LogisticRegression())\n",
    "    ]),\n",
    "    Pipeline([\n",
    "        ('scaler', StandardScaler()),\n",
    "        ('clf', KNeighborsClassifier(n_neighbors=11))\n",
    "    ]),\n",
    "    GaussianNB(),\n",
    "    DummyClassifier(random_state=123),\n",
    "    DummyClassifier(random_state=321)\n",
    "]"
   ]
  },
  {
   "cell_type": "code",
   "execution_count": 78,
   "metadata": {
    "collapsed": true
   },
   "outputs": [],
   "source": [
    "from sklearn.model_selection import train_test_split"
   ]
  },
  {
   "cell_type": "code",
   "execution_count": 79,
   "metadata": {},
   "outputs": [],
   "source": [
    "X_train, X_valid, y_train, y_valid = train_test_split(X, y, \n",
    "                                                      random_state=123, \n",
    "                                                      test_size=0.2)"
   ]
  },
  {
   "cell_type": "code",
   "execution_count": 82,
   "metadata": {
    "collapsed": true
   },
   "outputs": [],
   "source": [
    "from sklearn.metrics import roc_auc_score"
   ]
  },
  {
   "cell_type": "code",
   "execution_count": 83,
   "metadata": {
    "collapsed": true
   },
   "outputs": [],
   "source": [
    "def roc_auc_score_cust(y_true, y_hat):\n",
    "    return roc_auc_score(y_true, y_hat[:,1])"
   ]
  },
  {
   "cell_type": "code",
   "execution_count": 84,
   "metadata": {},
   "outputs": [
    {
     "name": "stdout",
     "output_type": "stream",
     "text": [
      "task:       [classification]\n",
      "n_classes:  [2]\n",
      "metric:     [roc_auc_score_cust]\n",
      "mode:       [oof_pred_bag]\n",
      "n_models:   [7]\n",
      "\n",
      "model 0:    [RandomForestClassifier]\n",
      "    fold 0: [0.88177273]\n",
      "    fold 1: [0.88243647]\n",
      "    fold 2: [0.88676255]\n",
      "    fold 3: [0.87102158]\n",
      "    fold 4: [0.87560107]\n",
      "    ----\n",
      "    MEAN:   [0.87951888] + [0.00554285]\n",
      "    FULL:   [0.87920882]\n",
      "\n",
      "model 1:    [RandomForestClassifier]\n",
      "    fold 0: [0.88206891]\n",
      "    fold 1: [0.88025162]\n",
      "    fold 2: [0.88633036]\n",
      "    fold 3: [0.87063865]\n",
      "    fold 4: [0.87612213]\n",
      "    ----\n",
      "    MEAN:   [0.87908234] + [0.00534564]\n",
      "    FULL:   [0.87890000]\n",
      "\n",
      "model 2:    [Pipeline]\n",
      "    fold 0: [0.87752342]\n",
      "    fold 1: [0.87690061]\n",
      "    fold 2: [0.88109687]\n",
      "    fold 3: [0.86698334]\n",
      "    fold 4: [0.86898332]\n",
      "    ----\n",
      "    MEAN:   [0.87429751] + [0.00538798]\n",
      "    FULL:   [0.87421594]\n",
      "\n",
      "model 3:    [Pipeline]\n",
      "    fold 0: [0.86252076]\n",
      "    fold 1: [0.85394339]\n",
      "    fold 2: [0.86405013]\n",
      "    fold 3: [0.84406811]\n",
      "    fold 4: [0.86272581]\n",
      "    ----\n",
      "    MEAN:   [0.85746164] + [0.00759578]\n",
      "    FULL:   [0.85747705]\n",
      "\n",
      "model 4:    [GaussianNB]\n",
      "    fold 0: [0.81891247]\n",
      "    fold 1: [0.80988813]\n",
      "    fold 2: [0.82257601]\n",
      "    fold 3: [0.80144577]\n",
      "    fold 4: [0.81080727]\n",
      "    ----\n",
      "    MEAN:   [0.81272593] + [0.00740640]\n",
      "    FULL:   [0.81218095]\n",
      "\n",
      "model 5:    [DummyClassifier]\n",
      "    fold 0: [0.49458997]\n",
      "    fold 1: [0.49933917]\n",
      "    fold 2: [0.50714297]\n",
      "    fold 3: [0.49513713]\n",
      "    fold 4: [0.50414151]\n",
      "    ----\n",
      "    MEAN:   [0.50007015] + [0.00492954]\n",
      "    FULL:   [0.50006947]\n",
      "\n",
      "model 6:    [DummyClassifier]\n",
      "    fold 0: [0.47638132]\n",
      "    fold 1: [0.51388490]\n",
      "    fold 2: [0.49587615]\n",
      "    fold 3: [0.50668140]\n",
      "    fold 4: [0.50428023]\n",
      "    ----\n",
      "    MEAN:   [0.49942080] + [0.01287573]\n",
      "    FULL:   [0.49941802]\n",
      "\n"
     ]
    }
   ],
   "source": [
    "S_train, S_valid = stacking(models,\n",
    "                               X_train, y_train, X_valid,\n",
    "                               regression=False,\n",
    "                               mode='oof_pred_bag', \n",
    "                               needs_proba=True,\n",
    "                               metric=roc_auc_score_cust,\n",
    "                               n_folds=5,                \n",
    "                               stratified=True,          \n",
    "                               shuffle=True,             \n",
    "                               random_state=123,         \n",
    "                               verbose=2)                "
   ]
  },
  {
   "cell_type": "code",
   "execution_count": 88,
   "metadata": {},
   "outputs": [
    {
     "data": {
      "text/plain": [
       "(20231, 14)"
      ]
     },
     "execution_count": 88,
     "metadata": {},
     "output_type": "execute_result"
    }
   ],
   "source": [
    "S_train.shape"
   ]
  },
  {
   "cell_type": "code",
   "execution_count": 89,
   "metadata": {},
   "outputs": [
    {
     "data": {
      "text/plain": [
       "(5058, 14)"
      ]
     },
     "execution_count": 89,
     "metadata": {},
     "output_type": "execute_result"
    }
   ],
   "source": [
    "S_valid.shape"
   ]
  },
  {
   "cell_type": "code",
   "execution_count": 91,
   "metadata": {
    "collapsed": true
   },
   "outputs": [],
   "source": [
    "from sklearn.ensemble import GradientBoostingClassifier"
   ]
  },
  {
   "cell_type": "code",
   "execution_count": 92,
   "metadata": {},
   "outputs": [],
   "source": [
    "last_model = GradientBoostingClassifier(n_estimators=300, \n",
    "                                        max_depth=3,\n",
    "                                        learning_rate=0.01, \n",
    "                                        random_state=123)"
   ]
  },
  {
   "cell_type": "code",
   "execution_count": 93,
   "metadata": {
    "scrolled": true
   },
   "outputs": [
    {
     "data": {
      "text/plain": [
       "0.8749437180004922"
      ]
     },
     "execution_count": 93,
     "metadata": {},
     "output_type": "execute_result"
    }
   ],
   "source": [
    "last_model.fit(S_train, y_train)\n",
    "y_hat = last_model.predict_proba(S_valid)\n",
    "roc_auc_score(y_valid, y_hat[:, 1])"
   ]
  },
  {
   "cell_type": "code",
   "execution_count": 94,
   "metadata": {},
   "outputs": [
    {
     "data": {
      "text/plain": [
       "array([  1.89939693e-01,   1.82002522e-01,   1.11852754e-01,\n",
       "         1.19056521e-01,   1.29605196e-01,   1.33530708e-01,\n",
       "         4.48717241e-02,   5.60964093e-02,   1.39145963e-02,\n",
       "         1.88583282e-02,   0.00000000e+00,   0.00000000e+00,\n",
       "         1.70606450e-04,   1.00941873e-04])"
      ]
     },
     "execution_count": 94,
     "metadata": {},
     "output_type": "execute_result"
    }
   ],
   "source": [
    "last_model.feature_importances_"
   ]
  },
  {
   "cell_type": "code",
   "execution_count": 95,
   "metadata": {},
   "outputs": [
    {
     "name": "stdout",
     "output_type": "stream",
     "text": [
      "RandomForestClassifier: 0.874084885633\n",
      "RandomForestClassifier: 0.874530693224\n",
      "Pipeline: 0.868954616981\n",
      "Pipeline: 0.849414609182\n",
      "GaussianNB: 0.799907724598\n",
      "DummyClassifier: 0.500905153807\n",
      "DummyClassifier: 0.509098536436\n"
     ]
    }
   ],
   "source": [
    "for model in models:\n",
    "    last_model.fit(X_train, y_train)\n",
    "    y_hat = model.predict_proba(X_valid)\n",
    "    score = roc_auc_score(y_valid, y_hat[:, 1])\n",
    "    print('{}: {}'.format(model.__str__().split('(')[0], score))"
   ]
  }
 ],
 "metadata": {
  "anaconda-cloud": {},
  "kernelspec": {
   "display_name": "Python [conda root]",
   "language": "python",
   "name": "conda-root-py"
  },
  "language_info": {
   "codemirror_mode": {
    "name": "ipython",
    "version": 2
   },
   "file_extension": ".py",
   "mimetype": "text/x-python",
   "name": "python",
   "nbconvert_exporter": "python",
   "pygments_lexer": "ipython2",
   "version": "2.7.14"
  },
  "nav_menu": {},
  "toc": {
   "colors": {
    "hover_highlight": "#DAA520",
    "navigate_num": "#000000",
    "navigate_text": "#333333",
    "running_highlight": "#FF0000",
    "selected_highlight": "#FFD700",
    "sidebar_border": "#EEEEEE",
    "wrapper_background": "#FFFFFF"
   },
   "moveMenuLeft": true,
   "nav_menu": {
    "height": "216px",
    "width": "252px"
   },
   "navigate_menu": true,
   "number_sections": false,
   "sideBar": true,
   "threshold": 4,
   "toc_cell": false,
   "toc_section_display": "block",
   "toc_window_display": true,
   "widenNotebook": false
  }
 },
 "nbformat": 4,
 "nbformat_minor": 1
}
