{
 "cells": [
  {
   "cell_type": "markdown",
   "metadata": {},
   "source": [
    "<center><img src=\"img/logo_hse_black.jpg\"></center>\n",
    "\n",
    "<h1><center>Data Analysis</center></h1>\n",
    "<h2><center>Seminar: Metric-based models</center></h2>"
   ]
  },
  {
   "cell_type": "code",
   "execution_count": null,
   "metadata": {
    "collapsed": true
   },
   "outputs": [],
   "source": [
    "import pandas as pd\n",
    "import numpy as np\n",
    "import matplotlib.pyplot as plt\n",
    "\n",
    "%matplotlib inline\n",
    "\n",
    "plt.style.use('ggplot')\n",
    "plt.rcParams['figure.figsize'] = (12,8)"
   ]
  },
  {
   "cell_type": "markdown",
   "metadata": {},
   "source": [
    "# Curse of dimentionality"
   ]
  },
  {
   "cell_type": "markdown",
   "metadata": {},
   "source": [
    "## Euclidean distance case\n",
    "\n",
    "* For each dimensionality $d \\in [1, 200]$ generate a dataset of $100$ random points from uniform distribution\n",
    "on $[−1, 1]^d$\n",
    "    * HINT: `np.random.uniform`.\n",
    "\n",
    "\n",
    "* Write the function that calculates Euclidean distances from the given point $x$ to its nearest and farthest\n",
    "neighbors in the dataset (minimum and maximum distances).\n",
    "    * HINT: `np.spatial.distance.cdist`, `np.max`, `np.min`\n",
    "\n",
    "\n",
    "* Plot average minimum and maximum distances for varying $d$ (here you should calculate average values on dataset). Also plot their ratio — average maximum divided by average minimum. Does curse of dimentionality takes place here?"
   ]
  },
  {
   "cell_type": "code",
   "execution_count": null,
   "metadata": {
    "collapsed": true
   },
   "outputs": [],
   "source": [
    "## Your Code Here"
   ]
  },
  {
   "cell_type": "markdown",
   "metadata": {},
   "source": [
    "## Cosine distance case"
   ]
  },
  {
   "cell_type": "markdown",
   "metadata": {},
   "source": [
    "* For each dimensionality $d \\in [1, 2, 4, \\dots 4096]$ generate a dataset of $100$ random points from uniform distribution\n",
    "on $[−1, 1]^d$\n",
    "    * HINT: `np.logspace`.\n",
    "\n",
    "\n",
    "* Write the function that calculates angles between all points in dataset.\n",
    "    * HINT: `np.degrees`, `np.arccos`\n",
    "\n",
    "\n",
    "* Plot a histogram of computed angles for each $d$. Does curse of dimentionality takes place here?"
   ]
  },
  {
   "cell_type": "code",
   "execution_count": null,
   "metadata": {
    "collapsed": true
   },
   "outputs": [],
   "source": [
    "## Your Code Here"
   ]
  },
  {
   "cell_type": "markdown",
   "metadata": {},
   "source": [
    "# House prices in California"
   ]
  },
  {
   "cell_type": "markdown",
   "metadata": {},
   "source": [
    "We are going to use build-in sklearn dataset"
   ]
  },
  {
   "cell_type": "code",
   "execution_count": null,
   "metadata": {
    "collapsed": true
   },
   "outputs": [],
   "source": [
    "from sklearn.datasets import fetch_california_housing"
   ]
  },
  {
   "cell_type": "code",
   "execution_count": null,
   "metadata": {
    "collapsed": true
   },
   "outputs": [],
   "source": [
    "data = fetch_california_housing()\n",
    "\n",
    "X = data.data\n",
    "y = data.target"
   ]
  },
  {
   "cell_type": "code",
   "execution_count": null,
   "metadata": {},
   "outputs": [],
   "source": [
    "print(data.DESCR)"
   ]
  },
  {
   "cell_type": "markdown",
   "metadata": {},
   "source": [
    "* Plot lat and lon coordinates of each household and colorize it with respect to value of target feature\n",
    "    * HINT: `plt.scatter()`"
   ]
  },
  {
   "cell_type": "code",
   "execution_count": null,
   "metadata": {
    "collapsed": true
   },
   "outputs": [],
   "source": [
    "# Your code here"
   ]
  },
  {
   "cell_type": "markdown",
   "metadata": {},
   "source": [
    "* Consider only geo-coordinates of houses in design matrix and convert them to radians\n",
    "    * HINT: `np.radians`\n",
    "* Split dataset to train and validation set on proportion 80/20\n",
    "    * HINT: `sklearn.model_selection.train_test_split()` and don't forget to set `random_state`"
   ]
  },
  {
   "cell_type": "code",
   "execution_count": null,
   "metadata": {
    "collapsed": true
   },
   "outputs": [],
   "source": [
    "# Your code here"
   ]
  },
  {
   "cell_type": "markdown",
   "metadata": {},
   "source": [
    "* Consider k-NN classifier with `haversine` distance metric\n",
    "    * HINT: sklearn.metrics\n",
    "* For k in 1..15 plot mean squared error at train and validation set\n",
    "    * noticed any methodological failures?\n",
    "    * whick $k$ would you pick?"
   ]
  },
  {
   "cell_type": "code",
   "execution_count": null,
   "metadata": {
    "collapsed": true
   },
   "outputs": [],
   "source": [
    "# Your code here"
   ]
  },
  {
   "cell_type": "markdown",
   "metadata": {},
   "source": [
    "* Pick your model and colorize the whole lat-lon grid with its predictions\n",
    "    * HINT: `np.meshgrid()`, `plt.contourf()`"
   ]
  },
  {
   "cell_type": "markdown",
   "metadata": {},
   "source": [
    "# Churn prediction"
   ]
  },
  {
   "cell_type": "markdown",
   "metadata": {},
   "source": [
    "* Load churn dataset from the csv file with pandas\n",
    "* Describe type of each feature\n",
    "* Describe scale of each feature"
   ]
  },
  {
   "cell_type": "code",
   "execution_count": null,
   "metadata": {
    "collapsed": true
   },
   "outputs": [],
   "source": [
    "# Your code here"
   ]
  },
  {
   "cell_type": "markdown",
   "metadata": {},
   "source": [
    "* Prepare dataset\n",
    "    * Delete useless features\n",
    "    * Encode categorical and binary features\n",
    "    * Create matrix `X` with predictors and array `y` with target feature\n",
    "    * Split it to train and validation set in proportion 80/20"
   ]
  },
  {
   "cell_type": "code",
   "execution_count": null,
   "metadata": {
    "collapsed": true
   },
   "outputs": [],
   "source": [
    "# Your code here"
   ]
  },
  {
   "cell_type": "markdown",
   "metadata": {},
   "source": [
    " * For k in 1..15 plot roc-auc score at train and validation set"
   ]
  },
  {
   "cell_type": "code",
   "execution_count": null,
   "metadata": {
    "collapsed": true
   },
   "outputs": [],
   "source": [
    "# Your code here"
   ]
  },
  {
   "cell_type": "markdown",
   "metadata": {},
   "source": [
    "* Consider feature normalization\n",
    "    * HINT: `sklearn.preprocess.StantardScaler()`\n",
    "* Build a pipeline that would normalize features before using K-NN\n",
    "    * HINT: `sklearn.pipeline`\n",
    "* For k in 1..15 plot roc-auc score at train and validation set\n",
    "    * Does it make any difference?"
   ]
  },
  {
   "cell_type": "code",
   "execution_count": null,
   "metadata": {
    "collapsed": true
   },
   "outputs": [],
   "source": [
    "# Your code here"
   ]
  }
 ],
 "metadata": {
  "kernelspec": {
   "display_name": "Python [conda root]",
   "language": "python",
   "name": "conda-root-py"
  },
  "language_info": {
   "codemirror_mode": {
    "name": "ipython",
    "version": 2
   },
   "file_extension": ".py",
   "mimetype": "text/x-python",
   "name": "python",
   "nbconvert_exporter": "python",
   "pygments_lexer": "ipython2",
   "version": "2.7.14"
  },
  "toc": {
   "colors": {
    "hover_highlight": "#DAA520",
    "navigate_num": "#000000",
    "navigate_text": "#333333",
    "running_highlight": "#FF0000",
    "selected_highlight": "#FFD700",
    "sidebar_border": "#EEEEEE",
    "wrapper_background": "#FFFFFF"
   },
   "moveMenuLeft": true,
   "nav_menu": {
    "height": "142px",
    "width": "252px"
   },
   "navigate_menu": true,
   "number_sections": false,
   "sideBar": true,
   "threshold": 4,
   "toc_cell": false,
   "toc_section_display": "block",
   "toc_window_display": true,
   "widenNotebook": false
  }
 },
 "nbformat": 4,
 "nbformat_minor": 2
}
