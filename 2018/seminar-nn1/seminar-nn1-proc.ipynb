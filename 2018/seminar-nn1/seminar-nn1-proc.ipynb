{
 "cells": [
  {
   "cell_type": "markdown",
   "metadata": {},
   "source": [
    "<center><img src=\"img/logo_hse_black.jpg\"></center>\n",
    "\n",
    "<h1><center>Data Analysis</center></h1>\n",
    "<h2><center>Seminar: Neural Networks 1</center></h2>"
   ]
  },
  {
   "cell_type": "code",
   "execution_count": 2,
   "metadata": {},
   "outputs": [],
   "source": [
    "import pandas as pd\n",
    "import numpy as np\n",
    "import matplotlib.pyplot as plt\n",
    "import os\n",
    "\n",
    "%matplotlib inline\n",
    "\n",
    "plt.style.use('ggplot')\n",
    "plt.rcParams['figure.figsize'] = (12,5)"
   ]
  },
  {
   "cell_type": "markdown",
   "metadata": {},
   "source": [
    "## Почему *обратное* распространение?"
   ]
  },
  {
   "cell_type": "markdown",
   "metadata": {},
   "source": [
    "### Обозначения и затравочка"
   ]
  },
  {
   "cell_type": "markdown",
   "metadata": {},
   "source": [
    "Рассмотрим такой пример нейронной сети."
   ]
  },
  {
   "cell_type": "markdown",
   "metadata": {},
   "source": [
    "<center><img src='img/nn.png'></center>"
   ]
  },
  {
   "cell_type": "markdown",
   "metadata": {},
   "source": [
    "* $x_i$ - входной слой. Сюда подаются признаки объектов. $i$ - это индексы признаков объекта\n",
    "* $z_j$, $z_k$ - скрытые слои.\n",
    "* $z_m$ - выходной слой. Тут выводятся результаты вычислений сети. $j$, $k$, $m$ - индексы нейронов в этих слоях\n",
    "* $w_{\\cdot,\\cdot}$ - веса, связывающие нейроны соседних слоев\n",
    "\n",
    "Дополнительно введем следующие обозначения:\n",
    "* $net^{(1)}_j = net_j = \\sum_iw_{ij}x_i$ \n",
    "* $net^{(2)}_k = net_k =  \\sum_jw_{jk}z_j$ \n",
    "* $net^{(3)}_m = net_m \\sum_kw_{km}z_k$\n",
    "\n",
    "*Верхние индексы мы пока опустим, но в части про векторизацию к ним вернемся*\n",
    "\n",
    "\n",
    "Так же:\n",
    "* $z_j = f^{(h)}(net_j)$ \n",
    "* $z_k = f^{(k)}(net_k)$\n",
    "* $z_m = f^{(r)}(net_m)$\n",
    "\n",
    "где $f(\\cdot)$ - некоторая функция активации."
   ]
  },
  {
   "cell_type": "markdown",
   "metadata": {},
   "source": [
    "Нам так же понадобится функция потерь $L(W)$, которая зависит от весов $w_{\\cdot, \\cdot}$.\n",
    "\n",
    "Если бы мы хотели обучаться с помощью простого градиентного спуска, то нам нужно было на каждом шаге расчитывать\n",
    "частные производные по всем весам: \n",
    "\n",
    "$\\frac{\\partial L}{\\partial w_{ij}}$, $\\frac{\\partial L}{\\partial w_{jk}}$, $\\frac{\\partial L}{\\partial w_{km}}$\n",
    "\n",
    "Достаточно выписать вычисления нейронной сети в виде формулы, чтобы понять, что \"такой футбол нам не нужен\" и хоть и вычислять эти производные можно, это займет много времени. Есть ли способ как-то ускорить расчет производных?"
   ]
  },
  {
   "cell_type": "markdown",
   "metadata": {},
   "source": [
    "### Идея метода"
   ]
  },
  {
   "cell_type": "markdown",
   "metadata": {},
   "source": [
    "Поступим следующим образом - случайно инициализируем начальные веса и пропустим один объект $(x(t), y(t))$ по нейронной сети с прямом направлении (forward pass). Получим ответ нейронной сети на одном из выходов $z_m = \\hat{y}(t)$.\n",
    "\n",
    "Посчитаем $\\frac{\\partial L}{\\partial w_{km}}$, воспользовавшись правилами дифференцирования сложных функций:\n",
    "\n",
    "$$\n",
    "\\begin{align*} \n",
    "\\frac{\\partial L}{\\partial w_{km}} &=  \\underline{\\frac{\\partial L}{\\partial z_m} \\cdot \\frac{\\partial z_m}{\\partial net_m}} \\cdot \\frac{\\partial net_m}{\\partial w_{km}} \\\\ \n",
    " &= \\underline{\\frac{\\partial L}{\\partial z_m} \\cdot f^{(3)`}(net_m)} \\cdot z_k\n",
    "\\end{align*}\n",
    "$$\n",
    "*Первые два члена выделены неслучайно!*\n",
    "\n",
    "Okey, пока ничего особенного. Переходим на слой назад:\n",
    "$$\n",
    "\\begin{align} \n",
    "\\frac{\\partial L}{\\partial w_{jk}} &=  (\\frac{\\partial L}{\\partial z_k}) & \\cdot & \\frac{\\partial z_k}{\\partial net_k} & \\cdot & \\frac{\\partial net_k}{\\partial w_{jk}} \\\\ \n",
    " &= \\left(\\sum_m\\underline{\\frac{\\partial L}{\\partial z_m} \\cdot \\frac{\\partial z_m}{\\partial net_m}} \\cdot \\frac{\\partial net_m}{\\partial z_k}\\right) & \\cdot & f^{(2)`}(net_k) & \\cdot & z_j \\\\\n",
    " &= \\left(\\sum_m\\underline{\\frac{\\partial L}{\\partial z_m} \\cdot f^{(3)`}(net_m)} \\cdot w_{km}\\right) & \\cdot & f^{(2)`}(net_k) & \\cdot & z_j \\\\\n",
    "\\end{align}\n",
    "$$\n",
    "*Надеюсь форматирование вас не запутало*\n",
    "\n",
    "Что же мы видим? Некоторую часть выражения для $\\frac{\\partial L}{\\partial w_{jk}}$ мы уже считали на слое выше! Причем эта часть отвечает именно за производную ошибки по выходу сети! Более того, эта часть входит с весом $ w_{km}$, который как раз связывает эти слои. Таким образом, можно сказать, что ошибка начинает *распростроняться в обратном направлении* по слоям, пропоционально весам между слоями. \n",
    "\n",
    "Отсюда и название метода.\n",
    "\n",
    "Eсли мы продолжим вывод для весов $w_{ij}$, то так же заметим там часть, ранее посчитанную на этапе с весами $w_{jk}$\n",
    "\n"
   ]
  },
  {
   "cell_type": "markdown",
   "metadata": {},
   "source": [
    "### Обобщение"
   ]
  },
  {
   "cell_type": "markdown",
   "metadata": {},
   "source": [
    "Становится ясно, что можно как-то записать вычисление в \"рекурсивном\" виде между слоями."
   ]
  },
  {
   "cell_type": "markdown",
   "metadata": {},
   "source": [
    "Пусть один объект прошел по сети с результатом $\\hat{y}(t)$.\n",
    "\n",
    "Рассмотрим выражение для нейрона $l$\n",
    "$$ \\delta_l = \\frac{\\partial L}{\\partial net_l} = \\frac{\\partial L}{\\partial \\hat{y}(t)} \\cdot \\frac{\\partial \\hat{y}(t)}{\\partial net_l}$$\n",
    "и назовем это **сигнал об ошибке**, проходящий через нейрон $l$.\n",
    "\n",
    "Если нейрон $l$ находится на выходном слое, то просто считаем $\\frac{\\partial L}{\\partial \\hat{y}(t)}$, а $\\frac{\\partial \\hat{y}(t)}{\\partial net_l} = \\frac{\\partial z_l}{\\partial net_l} = f^{`}(net_l)$\n",
    "\n",
    "Eсли нейрон $l$ находится в промежуточном слое, то $\\frac{\\partial \\hat{y}(t)}{\\partial net_l}$ надо расписать через нейроны следующего (в направлении выхода сети) слоя:\n",
    "\n",
    "$$\n",
    "\\begin{align} \n",
    "\\frac{\\partial \\hat{y}(t)}{\\partial net_l} &= \\frac{\\partial \\hat{y}(t)}{\\partial z_l} & \\cdot \\frac{\\partial z_l}{\\partial net_l} \\\\ \n",
    "&= \\sum_{o \\in out(l)} \\left(\\frac{\\partial \\hat{y}(t)}{\\partial net_o} \\cdot \\frac{\\partial net_o}{\\partial z_l} \\right) & \\cdot f^{`}(net_l) \\\\\n",
    "&= \\sum_{o \\in out(l)} \\left(\\frac{\\partial \\hat{y}(t)}{\\partial net_o} \\cdot w_{lo} \\right) & \\cdot f^{`}(net_l) \n",
    "\\end{align}\n",
    "$$ \n",
    "\n",
    "Теперь доставим это выражение в \"определение\" $\\delta_l$:\n",
    "$$\n",
    "\\begin{align} \n",
    "\\delta_l &=  \\frac{\\partial L}{\\partial \\hat{y}(t)} \\cdot \\frac{\\partial \\hat{y}(t)}{\\partial net_l} \\\\ \n",
    "&= \\frac{\\partial L}{\\partial \\hat{y}(t)} \\cdot \\sum_{o \\in out(l)} \\left(\\frac{\\partial \\hat{y}(t)}{\\partial net_o} \\cdot w_{lo} \\right) \\cdot f^{`}(net_l) \\\\\n",
    "&=  \\sum_{o \\in out(l)} \\left(\\frac{\\partial L}{\\partial \\hat{y}(t)} \\cdot \\frac{\\partial \\hat{y}(t)}{\\partial net_o} \\cdot w_{lo} \\right) \\cdot f^{`}(net_l) \\\\\n",
    "&=  \\sum_{o \\in out(l)} \\left(\\delta_o \\cdot w_{lo} \\right) \\cdot f^{`}(net_l) \\\\\n",
    "\\end{align}\n",
    "$$ \n",
    "\n",
    "Красота!\n",
    "\n"
   ]
  },
  {
   "cell_type": "markdown",
   "metadata": {},
   "source": [
    "### В итоге - шаги алгоритма backpropagation"
   ]
  },
  {
   "cell_type": "markdown",
   "metadata": {},
   "source": [
    "Ниже преставленны шаги алгоритма обратного распространения ошибки с проходом одним случайным объектом. Проход всеми объектами выборки или батчем получается из данной записи очевидным образом.\n",
    "\n",
    "1. Некоторым образом инициализируем все веса сети\n",
    "2. Прогоняем случайный объект $x(t)$ по сети, попутно запоминая все $net_l$ и $z_l$ для всех слоев\n",
    "3. Считаем $\\delta_l$: если слой  $l$ выходной, то \n",
    "$$ \\delta_l = f^{(l)`}(net_l) \\frac{\\partial L}{\\partial \\hat{y}(t)} $$\n",
    "иначе \n",
    "$$ \\delta_l = f^{(l)`}(net_l) \\sum_{o \\in out(l)} \\delta_o w_{lo}$$\n",
    "4. Обновляем веса по следующему правилу\n",
    "$$ w_{jk} = w_{jk} - \\alpha \\cdot \\delta_k \\cdot z_j $$\n",
    "5. Если правило останова не выполнено, перейти к шагу 2"
   ]
  },
  {
   "cell_type": "markdown",
   "metadata": {},
   "source": [
    "## Векторизация"
   ]
  },
  {
   "cell_type": "markdown",
   "metadata": {},
   "source": [
    "### Прямой проход"
   ]
  },
  {
   "cell_type": "markdown",
   "metadata": {},
   "source": [
    "Понятно, что операции, которые проходят в нейронной сети можно векторизовать.\n",
    "\n",
    "Например, умножение на веса и переход к следующему слою можно просто расписать в виде умножения на матрицу:\n",
    "\n",
    "$$\\left\\{net^{(1)}_j\\right\\}^{J}_{j=1} = \\left\\{ \\sum_iw_{ij}x_i \\right\\}^{J}_{j=1} = W^{i \\rightarrow j}x = net^{(1)} $$"
   ]
  },
  {
   "cell_type": "markdown",
   "metadata": {},
   "source": [
    "Eсли же мы хотим применить какую-то функцию активации $f(\\cdot)$, то смело поэлементно применяем ее к $net^{(1)}$\n",
    "\n",
    "$$ Z^{(1)} = f(net^{(1)}) $$"
   ]
  },
  {
   "cell_type": "markdown",
   "metadata": {},
   "source": [
    "<center><img src='img/vect.png'></center>"
   ]
  },
  {
   "cell_type": "markdown",
   "metadata": {
    "collapsed": true
   },
   "source": [
    "Таким образом, все что происходит в полносвязной сети можно реализовать с помощью матричных операций.\n",
    "Например, сеть с двумя слоями с сигмойдными функциями активации записывается как\n",
    "\n",
    "$$y = \\sigma(W_2\\sigma(W_1x)) $$"
   ]
  },
  {
   "cell_type": "markdown",
   "metadata": {},
   "source": [
    "### Обратный проход"
   ]
  },
  {
   "cell_type": "markdown",
   "metadata": {},
   "source": [
    "Запишем сигнал об ошибке\n",
    "$$ \\left\\{\\delta_l\\right\\}^{L}_{l=1} = \\left\\{ f^{(l)`}(net_l) \\sum_{o \\in out(l)} \\delta_o w_{lo} \\right\\}^{L}_{l=1}$$\n",
    "в векторизованном виде:\n",
    "\n",
    "$$\n",
    "\\Delta^{(1)} = f^{`}(net^{(1)}) \\odot \\Delta^{(2)} W^{(1 \\rightarrow 2)}\n",
    "$$\n",
    "а для выходново слоя\n",
    "$$\n",
    "\\Delta^{(out)} = f^{`}(net^{(out)}) \\odot \\frac{\\partial L}{\\partial \\hat{y}}\n",
    "$$\n",
    "\n",
    "\n",
    "Тогда веса следует обновлять так:\n",
    "\n",
    "$$ W^{(1 \\rightarrow 2)} = W^{(1 \\rightarrow 2)} - \\alpha Z^{{(1)}^\\top} \\Delta^{(2)} $$\n",
    "\n",
    "И так для всех слоев"
   ]
  },
  {
   "cell_type": "markdown",
   "metadata": {},
   "source": [
    "<center><img src='img/back.png'></center>"
   ]
  },
  {
   "cell_type": "markdown",
   "metadata": {},
   "source": [
    "## Практика"
   ]
  },
  {
   "cell_type": "markdown",
   "metadata": {
    "collapsed": true
   },
   "source": [
    "Основано на материале из [cs231n](http://cs231n.github.io/neural-networks-case-study/).\n",
    "\n",
    "Возьмем какой-нибудь простой датасет для классификации и обучим на нем нейронную сеть с одним скрытым слоем с функцией активации ReLU. <br\\>\n",
    "На выходе, расчеты должны пройти через SoftMax.\n",
    "$$z_l = \\frac{\\exp(net_l)}{\\sum_l \\exp(net_l)} \\text{ - это softmax}$$\n",
    "Таким образом, нейронная сеть должна для каждого класса возвращать вероятность принадлежности ему объекта, который через нее прошел.\n",
    "\n",
    "Ошибка в нашем случае будет выражаться как кросс-энтропия. Величину ошибки на одном объекте вычиляем так\n",
    "$$L(\\hat{y}(t)) = - \\sum\\limits_{c \\in classes} y_c\\log(\\hat{y}_c)$$\n",
    "Общая ошибка с регуляризацией:\n",
    "$$L = \\frac{1}{N}\\sum\\limits_{t=1}^N L(\\hat{y}(t)) + \\lambda\\frac{1}{2}\\|\\mathbf{W}\\|^2$$"
   ]
  },
  {
   "cell_type": "code",
   "execution_count": 3,
   "metadata": {},
   "outputs": [],
   "source": [
    "from sklearn.datasets import make_moons"
   ]
  },
  {
   "cell_type": "code",
   "execution_count": 4,
   "metadata": {},
   "outputs": [],
   "source": [
    "N = 100 # кол-во объектов\n",
    "D = 2 # кол-во признаков\n",
    "K = 2 # кол-во классов\n",
    "X, y = make_moons(n_samples=N, noise=0.1, random_state=123)\n",
    "C = 0.01 # гиперпараметр регуляризации"
   ]
  },
  {
   "cell_type": "code",
   "execution_count": 6,
   "metadata": {},
   "outputs": [
    {
     "data": {
      "text/plain": [
       "<matplotlib.collections.PathCollection at 0x1108e59d0>"
      ]
     },
     "execution_count": 6,
     "metadata": {},
     "output_type": "execute_result"
    },
    {
     "data": {
      "image/png": "[encoded data removed]",
      "text/plain": [
       "<matplotlib.figure.Figure at 0x1107f4ad0>"
      ]
     },
     "metadata": {},
     "output_type": "display_data"
    }
   ],
   "source": [
    "plt.scatter(X[:, 0], X[:, 1], c=y)"
   ]
  },
  {
   "cell_type": "markdown",
   "metadata": {},
   "source": [
    "Удобно сделать one-hot encoding для кодирования истинной метки классов объектов"
   ]
  },
  {
   "cell_type": "code",
   "execution_count": 7,
   "metadata": {},
   "outputs": [],
   "source": [
    "y_bool = np.zeros((N, K))\n",
    "y_bool[range(N), y] += 1"
   ]
  },
  {
   "cell_type": "markdown",
   "metadata": {},
   "source": [
    "Задаем колиество нейронов в первом слое и веса"
   ]
  },
  {
   "cell_type": "code",
   "execution_count": 10,
   "metadata": {},
   "outputs": [
    {
     "data": {
      "text/plain": [
       "2"
      ]
     },
     "execution_count": 10,
     "metadata": {},
     "output_type": "execute_result"
    }
   ],
   "source": [
    "D"
   ]
  },
  {
   "cell_type": "code",
   "execution_count": 12,
   "metadata": {},
   "outputs": [
    {
     "data": {
      "text/plain": [
       "2"
      ]
     },
     "execution_count": 12,
     "metadata": {},
     "output_type": "execute_result"
    }
   ],
   "source": [
    "K"
   ]
  },
  {
   "cell_type": "code",
   "execution_count": 13,
   "metadata": {},
   "outputs": [],
   "source": [
    "h = 50 \n",
    "# Матрица весов между \n",
    "# входным слоем и промежуточным скрытым\n",
    "W = 0.01 * np.random.randn(D,h) \n",
    "b = np.zeros((1,h)) # св член\n",
    "\n",
    "# Матрица между промежуточным\n",
    "# скрытым слоем и выходным слоем\n",
    "W2 = 0.01 * np.random.randn(h,K) \n",
    "b2 = np.zeros((1,K)) # св член"
   ]
  },
  {
   "cell_type": "code",
   "execution_count": 15,
   "metadata": {},
   "outputs": [
    {
     "data": {
      "text/plain": [
       "(2, 50)"
      ]
     },
     "execution_count": 15,
     "metadata": {},
     "output_type": "execute_result"
    }
   ],
   "source": [
    "W.shape"
   ]
  },
  {
   "cell_type": "code",
   "execution_count": 14,
   "metadata": {},
   "outputs": [
    {
     "data": {
      "text/plain": [
       "(50, 2)"
      ]
     },
     "execution_count": 14,
     "metadata": {},
     "output_type": "execute_result"
    }
   ],
   "source": [
    "W2.shape"
   ]
  },
  {
   "cell_type": "markdown",
   "metadata": {},
   "source": [
    "### Прямой проход"
   ]
  },
  {
   "cell_type": "code",
   "execution_count": 21,
   "metadata": {},
   "outputs": [
    {
     "data": {
      "text/plain": [
       "(100, 2)"
      ]
     },
     "execution_count": 21,
     "metadata": {},
     "output_type": "execute_result"
    }
   ],
   "source": [
    "X.dot(W).dot(W2).shape"
   ]
  },
  {
   "cell_type": "code",
   "execution_count": 22,
   "metadata": {},
   "outputs": [],
   "source": [
    "# Прогоняем всю выборку через сеть\n",
    "hidden_layer = np.maximum(0, np.dot(X, W) + b) \n",
    "scores = np.dot(hidden_layer, W2) + b2 # \"Сырой\" выход сети\n",
    "probs = np.exp(scores)/np.exp(scores).sum(axis=1, keepdims=True)"
   ]
  },
  {
   "cell_type": "code",
   "execution_count": 24,
   "metadata": {},
   "outputs": [],
   "source": [
    "errors = -(y_bool * np.log(probs))"
   ]
  },
  {
   "cell_type": "code",
   "execution_count": 26,
   "metadata": {},
   "outputs": [
    {
     "name": "stdout",
     "output_type": "stream",
     "text": [
      "69.3233240174608\n"
     ]
    }
   ],
   "source": [
    "total_error = errors.sum()\n",
    "print(total_error)"
   ]
  },
  {
   "cell_type": "markdown",
   "metadata": {},
   "source": [
    "Обратите внимание, что на каждом сле у нас есть свободный член b и b2. У них тоже есть веса и их надо учитывать"
   ]
  },
  {
   "cell_type": "markdown",
   "metadata": {},
   "source": [
    "## Обратный проход"
   ]
  },
  {
   "cell_type": "markdown",
   "metadata": {},
   "source": [
    "Начинаем с того, что с считаем $\\Delta^{(out)}$ на выходном слое.\n",
    "\n",
    "Оказывется, что в случае с softmax и кросс-энтропией $\\Delta^{(out)}$ будет выражаться очень просто!\n",
    "\n",
    "$$ \\Delta^{(out)} = \\hat{y} - y $$"
   ]
  },
  {
   "cell_type": "code",
   "execution_count": 27,
   "metadata": {},
   "outputs": [],
   "source": [
    "dscores = probs - y_bool"
   ]
  },
  {
   "cell_type": "code",
   "execution_count": 28,
   "metadata": {},
   "outputs": [
    {
     "data": {
      "text/plain": [
       "(100, 2)"
      ]
     },
     "execution_count": 28,
     "metadata": {},
     "output_type": "execute_result"
    }
   ],
   "source": [
    "dscores.shape"
   ]
  },
  {
   "cell_type": "markdown",
   "metadata": {},
   "source": [
    "Таким образом градиент на веса между выходным и скрытым слоем выражается как \n",
    "\n",
    "$$\\Delta W_2 = Z^{{(1)}^\\top}\\Delta^{(out)}$$"
   ]
  },
  {
   "cell_type": "code",
   "execution_count": 30,
   "metadata": {},
   "outputs": [],
   "source": [
    "# производные по весам\n",
    "# между выходным и конечным слоем\n",
    "dW2 = np.dot(hidden_layer.T, dscores) + C*W2 # Не забываем регуляризацию\n",
    "\n",
    "# производная по весам для свободного члена\n",
    "db2 = np.sum(dscores, axis=0, keepdims=True)\n"
   ]
  },
  {
   "cell_type": "markdown",
   "metadata": {},
   "source": [
    "Идем дальше\n",
    "\n",
    "$$\\Delta^{(1)} = f^{`}(net^{(1)}) \\odot D^{(2)} W^{(1 \\rightarrow 2)}$$"
   ]
  },
  {
   "cell_type": "code",
   "execution_count": 31,
   "metadata": {},
   "outputs": [],
   "source": [
    "## Это просто пошагово\n",
    "# dhidden_rpart = np.dot(dscores, W2.T) # Правая часть выражения\n",
    "# dhidden_lpart = (hidden_layer >= 0).astype(int) # Производная ReLU\n",
    "# dhidden = dhidden_lpart * dhidden_rpart # Результат\n",
    "\n",
    "dhidden = np.dot(dscores, W2.T)\n",
    "dhidden[hidden_layer <= 0] = 0"
   ]
  },
  {
   "cell_type": "markdown",
   "metadata": {},
   "source": [
    "Таким образом градитент по весам"
   ]
  },
  {
   "cell_type": "code",
   "execution_count": 32,
   "metadata": {},
   "outputs": [],
   "source": [
    "dW = np.dot(X.T, dhidden) + C*W\n",
    "db = np.sum(dhidden, axis=0, keepdims=True)"
   ]
  },
  {
   "cell_type": "markdown",
   "metadata": {},
   "source": [
    "Вот и все, дальше нужно итеративно обновлять веса"
   ]
  },
  {
   "cell_type": "code",
   "execution_count": 42,
   "metadata": {
    "scrolled": true
   },
   "outputs": [
    {
     "name": "stdout",
     "output_type": "stream",
     "text": [
      "0.34670890694957424\n",
      "0.13316569112579202\n",
      "0.13313604749766544\n",
      "0.1176771746418301\n",
      "0.11370756188679565\n",
      "0.11233204557582853\n",
      "0.11171876084165587\n",
      "0.11146677567860701\n",
      "0.1111198325255528\n",
      "0.11099875856691523\n",
      "0.11086846430935253\n",
      "0.11075978363731448\n",
      "0.11070672967237029\n",
      "0.11064599677000399\n",
      "0.11059059075174744\n",
      "0.11061472982219593\n",
      "0.11054077584964148\n",
      "0.11047769858382966\n",
      "0.11051328248820605\n",
      "0.11048784442368717\n",
      "0.11043912876099675\n",
      "0.11045507770135478\n",
      "0.11045076916170406\n",
      "0.11036405111636492\n",
      "0.11034452535712096\n",
      "0.11031924769150883\n",
      "0.11030099692304451\n",
      "0.110283119184428\n",
      "0.11021615106348934\n",
      "0.11018892160399671\n",
      "0.11020872172639748\n",
      "0.11018030780568931\n",
      "0.11016620412457749\n",
      "0.11015712746505514\n",
      "0.11016803798136524\n",
      "0.1101217214074568\n",
      "0.11014610708954824\n",
      "0.11016670220188195\n",
      "0.11012491438715782\n",
      "0.11011388201133354\n",
      "0.1100864529305519\n",
      "0.11010636586637494\n",
      "0.11012676766890647\n",
      "0.11007548318900633\n",
      "0.11009779677786621\n",
      "0.11007304339979751\n",
      "0.11009627271257613\n",
      "0.11009064068241928\n",
      "0.11008798821329792\n",
      "0.11009386156401142\n",
      "0.11007651314920032\n",
      "0.11006984314326075\n",
      "0.11004347298072752\n",
      "0.11007644167066516\n",
      "0.11008452463662241\n",
      "0.11003797241952736\n",
      "0.11004119289098194\n",
      "0.11003361181431498\n",
      "0.11004332760607945\n",
      "0.11006174362744733\n",
      "0.11002759656736125\n",
      "0.11001606896418803\n",
      "0.11000753940729868\n",
      "0.11003704063353954\n",
      "0.11002880583371188\n",
      "0.11002849373417342\n",
      "0.11002514945024759\n",
      "0.11002545460727499\n",
      "0.11001293802459923\n",
      "0.11000813176935759\n",
      "0.11002161902999141\n",
      "0.1100294360324035\n",
      "0.1099965697604144\n",
      "0.10999391637579775\n",
      "0.10999384060705526\n",
      "0.11000128382819463\n",
      "0.11000904694848078\n",
      "0.1099786367497522\n",
      "0.10999350002605769\n",
      "0.11000665952764717\n",
      "0.1099820689051359\n",
      "0.10998828967894533\n",
      "0.1099942254240161\n",
      "0.10999598762300863\n",
      "0.10997018363552451\n",
      "0.10997241445490272\n",
      "0.10999413124600493\n",
      "0.11000740169745477\n",
      "0.11000674773109456\n",
      "0.10998290537216736\n",
      "0.10998261490623042\n",
      "0.10997074257365433\n",
      "0.10997874233830755\n",
      "0.10999946301150967\n",
      "0.11000466160566588\n",
      "0.10998816837966784\n",
      "0.11000890449332999\n",
      "0.10998641130646304\n",
      "0.1099930301034663\n",
      "0.10998838327150084\n"
     ]
    }
   ],
   "source": [
    "# Your Code Here\n",
    "alpha = 0.01\n",
    "max_iters = 10000\n",
    "\n",
    "h = 50 \n",
    "# Матрица весов между \n",
    "# входным слоем и промежуточным скрытым\n",
    "W = 0.01 * np.random.randn(D,h) \n",
    "b = np.zeros((1,h)) # св член\n",
    "\n",
    "# Матрица между промежуточным\n",
    "# скрытым слоем и выходным слоем\n",
    "W2 = 0.01 * np.random.randn(h,K) \n",
    "b2 = np.zeros((1,K)) # св член\n",
    "\n",
    "for i in range(max_iters):\n",
    "    \n",
    "    # Прямой проход\n",
    "    # Прогоняем всю выборку через сеть\n",
    "    hidden_layer = np.maximum(0, np.dot(X, W) + b) \n",
    "    scores = np.dot(hidden_layer, W2) + b2 # \"Сырой\" выход сети\n",
    "    probs = np.exp(scores)/np.exp(scores).sum(axis=1, keepdims=True)\n",
    "    \n",
    "    errors = -(y_bool * np.log(probs))\n",
    "    total_error = errors.mean()\n",
    "    if (i % 100) == 0:\n",
    "        print(total_error)\n",
    "\n",
    "    \n",
    "    # Обратный проход\n",
    "    dscores = probs - y_bool\n",
    "    \n",
    "    # между выходным и конечным слоем\n",
    "    dW2 = np.dot(hidden_layer.T, dscores) + C*W2 # Не забываем регуляризацию\n",
    "\n",
    "    # производная по весам для свободного члена\n",
    "    db2 = np.sum(dscores, axis=0, keepdims=True)\n",
    "    \n",
    "    dhidden = np.dot(dscores, W2.T)\n",
    "    dhidden[hidden_layer <= 0] = 0\n",
    "    \n",
    "    dW = np.dot(X.T, dhidden) + C*W\n",
    "    db = np.sum(dhidden, axis=0, keepdims=True)\n",
    "\n",
    "    \n",
    "    # Обновление весов\n",
    "    W = W - alpha * dW\n",
    "    b = b - alpha * db\n",
    "    W2 = W2 - alpha * dW2\n",
    "    b2 = b2 - alpha * db2"
   ]
  },
  {
   "cell_type": "code",
   "execution_count": 46,
   "metadata": {},
   "outputs": [
    {
     "data": {
      "text/plain": [
       "0.89"
      ]
     },
     "execution_count": 46,
     "metadata": {},
     "output_type": "execute_result"
    }
   ],
   "source": [
    "(np.argmax(probs, axis=1) == y).mean()"
   ]
  },
  {
   "cell_type": "markdown",
   "metadata": {},
   "source": [
    "# NN in Keras"
   ]
  },
  {
   "cell_type": "code",
   "execution_count": 48,
   "metadata": {},
   "outputs": [],
   "source": [
    "from keras.models import Sequential\n",
    "from keras.layers import Dense\n",
    "\n",
    "from sklearn.metrics import roc_auc_score, roc_curve\n",
    "from sklearn.preprocessing import StandardScaler\n",
    "from sklearn.model_selection import train_test_split\n",
    "\n",
    "RND_SEED = 7\n",
    "plt.style.use('ggplot')\n",
    "\n",
    "np.random.seed(RND_SEED)\n",
    "\n",
    "%matplotlib inline"
   ]
  },
  {
   "cell_type": "markdown",
   "metadata": {},
   "source": [
    "## Классификация"
   ]
  },
  {
   "cell_type": "markdown",
   "metadata": {},
   "source": [
    "### Загрузка данных"
   ]
  },
  {
   "cell_type": "markdown",
   "metadata": {},
   "source": [
    "Для тренеровки мы будем использовать достаточно известный набор данных [Pima Indians](https://www.kaggle.com/uciml/pima-indians-diabetes-database/data).\n",
    "\n",
    "Признаки такие: <br\\>\n",
    "1. Number of times pregnant\n",
    "2. Plasma glucose concentration a 2 hours in an oral glucose tolerance test\n",
    "3. Diastolic blood pressure (mm Hg)\n",
    "4. Triceps skin fold thickness (mm)\n",
    "5. 2-Hour serum insulin (mu U/ml)\n",
    "6. Body mass index (weight in kg/(height in m)^2)\n",
    "7. Diabetes pedigree function\n",
    "8. Age (years)\n",
    "9. Class variable (0 or 1)\n"
   ]
  },
  {
   "cell_type": "code",
   "execution_count": 49,
   "metadata": {},
   "outputs": [],
   "source": [
    "df = pd.read_csv('data/diabetes.csv',\n",
    "                 sep=',')"
   ]
  },
  {
   "cell_type": "code",
   "execution_count": 50,
   "metadata": {},
   "outputs": [
    {
     "data": {
      "text/html": [
       "<div>\n",
       "<style scoped>\n",
       "    .dataframe tbody tr th:only-of-type {\n",
       "        vertical-align: middle;\n",
       "    }\n",
       "\n",
       "    .dataframe tbody tr th {\n",
       "        vertical-align: top;\n",
       "    }\n",
       "\n",
       "    .dataframe thead th {\n",
       "        text-align: right;\n",
       "    }\n",
       "</style>\n",
       "<table border=\"1\" class=\"dataframe\">\n",
       "  <thead>\n",
       "    <tr style=\"text-align: right;\">\n",
       "      <th></th>\n",
       "      <th>Pregnancies</th>\n",
       "      <th>Glucose</th>\n",
       "      <th>BloodPressure</th>\n",
       "      <th>SkinThickness</th>\n",
       "      <th>Insulin</th>\n",
       "      <th>BMI</th>\n",
       "      <th>DiabetesPedigreeFunction</th>\n",
       "      <th>Age</th>\n",
       "      <th>Outcome</th>\n",
       "    </tr>\n",
       "  </thead>\n",
       "  <tbody>\n",
       "    <tr>\n",
       "      <th>0</th>\n",
       "      <td>6</td>\n",
       "      <td>148</td>\n",
       "      <td>72</td>\n",
       "      <td>35</td>\n",
       "      <td>0</td>\n",
       "      <td>33.6</td>\n",
       "      <td>0.627</td>\n",
       "      <td>50</td>\n",
       "      <td>1</td>\n",
       "    </tr>\n",
       "    <tr>\n",
       "      <th>1</th>\n",
       "      <td>1</td>\n",
       "      <td>85</td>\n",
       "      <td>66</td>\n",
       "      <td>29</td>\n",
       "      <td>0</td>\n",
       "      <td>26.6</td>\n",
       "      <td>0.351</td>\n",
       "      <td>31</td>\n",
       "      <td>0</td>\n",
       "    </tr>\n",
       "    <tr>\n",
       "      <th>2</th>\n",
       "      <td>8</td>\n",
       "      <td>183</td>\n",
       "      <td>64</td>\n",
       "      <td>0</td>\n",
       "      <td>0</td>\n",
       "      <td>23.3</td>\n",
       "      <td>0.672</td>\n",
       "      <td>32</td>\n",
       "      <td>1</td>\n",
       "    </tr>\n",
       "    <tr>\n",
       "      <th>3</th>\n",
       "      <td>1</td>\n",
       "      <td>89</td>\n",
       "      <td>66</td>\n",
       "      <td>23</td>\n",
       "      <td>94</td>\n",
       "      <td>28.1</td>\n",
       "      <td>0.167</td>\n",
       "      <td>21</td>\n",
       "      <td>0</td>\n",
       "    </tr>\n",
       "    <tr>\n",
       "      <th>4</th>\n",
       "      <td>0</td>\n",
       "      <td>137</td>\n",
       "      <td>40</td>\n",
       "      <td>35</td>\n",
       "      <td>168</td>\n",
       "      <td>43.1</td>\n",
       "      <td>2.288</td>\n",
       "      <td>33</td>\n",
       "      <td>1</td>\n",
       "    </tr>\n",
       "  </tbody>\n",
       "</table>\n",
       "</div>"
      ],
      "text/plain": [
       "   Pregnancies  Glucose  BloodPressure  SkinThickness  Insulin   BMI  \\\n",
       "0            6      148             72             35        0  33.6   \n",
       "1            1       85             66             29        0  26.6   \n",
       "2            8      183             64              0        0  23.3   \n",
       "3            1       89             66             23       94  28.1   \n",
       "4            0      137             40             35      168  43.1   \n",
       "\n",
       "   DiabetesPedigreeFunction  Age  Outcome  \n",
       "0                     0.627   50        1  \n",
       "1                     0.351   31        0  \n",
       "2                     0.672   32        1  \n",
       "3                     0.167   21        0  \n",
       "4                     2.288   33        1  "
      ]
     },
     "execution_count": 50,
     "metadata": {},
     "output_type": "execute_result"
    }
   ],
   "source": [
    "df.head()"
   ]
  },
  {
   "cell_type": "code",
   "execution_count": 51,
   "metadata": {},
   "outputs": [],
   "source": [
    "X, y = df.iloc[:, :8].values, df.iloc[:, 8].values\n",
    "X_train, X_test, y_train, y_test = train_test_split(X, y, test_size=0.2, \n",
    "                                                    random_state=RND_SEED)"
   ]
  },
  {
   "cell_type": "markdown",
   "metadata": {},
   "source": [
    "## Составляем модель"
   ]
  },
  {
   "cell_type": "markdown",
   "metadata": {},
   "source": [
    "Построим простую 2х (3х) слойную нейронную сеть. Делать это в keras одно удовольствие"
   ]
  },
  {
   "cell_type": "code",
   "execution_count": 52,
   "metadata": {},
   "outputs": [
    {
     "data": {
      "text/plain": [
       "(768, 8)"
      ]
     },
     "execution_count": 52,
     "metadata": {},
     "output_type": "execute_result"
    }
   ],
   "source": [
    "X.shape"
   ]
  },
  {
   "cell_type": "code",
   "execution_count": 53,
   "metadata": {},
   "outputs": [],
   "source": [
    "model = Sequential()\n",
    "model.add(Dense(12, input_dim=8, init='normal', activation='sigmoid'))\n",
    "model.add(Dense(8, init='normal', activation='sigmoid'))\n",
    "model.add(Dense(1, init='uniform', activation='sigmoid'))"
   ]
  },
  {
   "cell_type": "markdown",
   "metadata": {},
   "source": [
    "Теперь надо задать функцию [ошибки](https://keras.io/objectives/), способ [оптимизации](https://keras.io/optimizers/) и метрику измерения [качества](https://keras.io/metrics/):"
   ]
  },
  {
   "cell_type": "code",
   "execution_count": 54,
   "metadata": {},
   "outputs": [],
   "source": [
    "# Compile model\n",
    "model.compile(loss='binary_crossentropy', optimizer='adam', metrics=['accuracy'], )"
   ]
  },
  {
   "cell_type": "markdown",
   "metadata": {},
   "source": [
    "## Обучаем"
   ]
  },
  {
   "cell_type": "code",
   "execution_count": 55,
   "metadata": {},
   "outputs": [
    {
     "data": {
      "text/plain": [
       "(614, 8)"
      ]
     },
     "execution_count": 55,
     "metadata": {},
     "output_type": "execute_result"
    }
   ],
   "source": [
    "X_train.shape"
   ]
  },
  {
   "cell_type": "code",
   "execution_count": 56,
   "metadata": {
    "scrolled": true
   },
   "outputs": [
    {
     "name": "stdout",
     "output_type": "stream",
     "text": [
      "Train on 491 samples, validate on 123 samples\n",
      "Epoch 1/150\n",
      "491/491 [==============================] - 0s - loss: 0.6844 - acc: 0.6273 - val_loss: 0.6733 - val_acc: 0.6504\n",
      "Epoch 2/150\n",
      "491/491 [==============================] - 0s - loss: 0.6629 - acc: 0.6578 - val_loss: 0.6584 - val_acc: 0.6504\n",
      "Epoch 3/150\n",
      "491/491 [==============================] - 0s - loss: 0.6527 - acc: 0.6578 - val_loss: 0.6508 - val_acc: 0.6504\n",
      "Epoch 4/150\n",
      "491/491 [==============================] - 0s - loss: 0.6467 - acc: 0.6578 - val_loss: 0.6487 - val_acc: 0.6504\n",
      "Epoch 5/150\n",
      "491/491 [==============================] - 0s - loss: 0.6442 - acc: 0.6578 - val_loss: 0.6475 - val_acc: 0.6504\n",
      "Epoch 6/150\n",
      "491/491 [==============================] - 0s - loss: 0.6425 - acc: 0.6578 - val_loss: 0.6465 - val_acc: 0.6504\n",
      "Epoch 7/150\n",
      "491/491 [==============================] - 0s - loss: 0.6418 - acc: 0.6578 - val_loss: 0.6459 - val_acc: 0.6504\n",
      "Epoch 8/150\n",
      "491/491 [==============================] - 0s - loss: 0.6413 - acc: 0.6578 - val_loss: 0.6454 - val_acc: 0.6504\n",
      "Epoch 9/150\n",
      "491/491 [==============================] - 0s - loss: 0.6406 - acc: 0.6578 - val_loss: 0.6449 - val_acc: 0.6504\n",
      "Epoch 10/150\n",
      "491/491 [==============================] - 0s - loss: 0.6399 - acc: 0.6578 - val_loss: 0.6444 - val_acc: 0.6504\n",
      "Epoch 11/150\n",
      "491/491 [==============================] - 0s - loss: 0.6393 - acc: 0.6578 - val_loss: 0.6434 - val_acc: 0.6504\n",
      "Epoch 12/150\n",
      "491/491 [==============================] - 0s - loss: 0.6396 - acc: 0.6578 - val_loss: 0.6446 - val_acc: 0.6504\n",
      "Epoch 13/150\n",
      "491/491 [==============================] - 0s - loss: 0.6390 - acc: 0.6578 - val_loss: 0.6420 - val_acc: 0.6504\n",
      "Epoch 14/150\n",
      "491/491 [==============================] - 0s - loss: 0.6381 - acc: 0.6578 - val_loss: 0.6415 - val_acc: 0.6504\n",
      "Epoch 15/150\n",
      "491/491 [==============================] - 0s - loss: 0.6377 - acc: 0.6578 - val_loss: 0.6410 - val_acc: 0.6504\n",
      "Epoch 16/150\n",
      "491/491 [==============================] - 0s - loss: 0.6364 - acc: 0.6578 - val_loss: 0.6409 - val_acc: 0.6504\n",
      "Epoch 17/150\n",
      "491/491 [==============================] - 0s - loss: 0.6357 - acc: 0.6578 - val_loss: 0.6412 - val_acc: 0.6504\n",
      "Epoch 18/150\n",
      "491/491 [==============================] - 0s - loss: 0.6358 - acc: 0.6578 - val_loss: 0.6376 - val_acc: 0.6504\n",
      "Epoch 19/150\n",
      "491/491 [==============================] - 0s - loss: 0.6341 - acc: 0.6578 - val_loss: 0.6370 - val_acc: 0.6504\n",
      "Epoch 20/150\n",
      "491/491 [==============================] - 0s - loss: 0.6330 - acc: 0.6578 - val_loss: 0.6362 - val_acc: 0.6504\n",
      "Epoch 21/150\n",
      "491/491 [==============================] - 0s - loss: 0.6322 - acc: 0.6578 - val_loss: 0.6349 - val_acc: 0.6504\n",
      "Epoch 22/150\n",
      "491/491 [==============================] - 0s - loss: 0.6306 - acc: 0.6578 - val_loss: 0.6338 - val_acc: 0.6504\n",
      "Epoch 23/150\n",
      "491/491 [==============================] - 0s - loss: 0.6297 - acc: 0.6578 - val_loss: 0.6344 - val_acc: 0.6504\n",
      "Epoch 24/150\n",
      "491/491 [==============================] - 0s - loss: 0.6290 - acc: 0.6578 - val_loss: 0.6310 - val_acc: 0.6504\n",
      "Epoch 25/150\n",
      "491/491 [==============================] - 0s - loss: 0.6300 - acc: 0.6578 - val_loss: 0.6283 - val_acc: 0.6504\n",
      "Epoch 26/150\n",
      "491/491 [==============================] - 0s - loss: 0.6262 - acc: 0.6578 - val_loss: 0.6268 - val_acc: 0.6504\n",
      "Epoch 27/150\n",
      "491/491 [==============================] - 0s - loss: 0.6263 - acc: 0.6578 - val_loss: 0.6276 - val_acc: 0.6504\n",
      "Epoch 28/150\n",
      "491/491 [==============================] - 0s - loss: 0.6279 - acc: 0.6578 - val_loss: 0.6250 - val_acc: 0.6504\n",
      "Epoch 29/150\n",
      "491/491 [==============================] - 0s - loss: 0.6247 - acc: 0.6578 - val_loss: 0.6241 - val_acc: 0.6504\n",
      "Epoch 30/150\n",
      "491/491 [==============================] - 0s - loss: 0.6225 - acc: 0.6578 - val_loss: 0.6244 - val_acc: 0.6504\n",
      "Epoch 31/150\n",
      "491/491 [==============================] - 0s - loss: 0.6205 - acc: 0.6578 - val_loss: 0.6208 - val_acc: 0.6504\n",
      "Epoch 32/150\n",
      "491/491 [==============================] - 0s - loss: 0.6205 - acc: 0.6578 - val_loss: 0.6193 - val_acc: 0.6504\n",
      "Epoch 33/150\n",
      "491/491 [==============================] - 0s - loss: 0.6188 - acc: 0.6578 - val_loss: 0.6155 - val_acc: 0.6504\n",
      "Epoch 34/150\n",
      "491/491 [==============================] - 0s - loss: 0.6160 - acc: 0.6578 - val_loss: 0.6176 - val_acc: 0.6504\n",
      "Epoch 35/150\n",
      "491/491 [==============================] - 0s - loss: 0.6128 - acc: 0.6578 - val_loss: 0.6181 - val_acc: 0.6504\n",
      "Epoch 36/150\n",
      "491/491 [==============================] - 0s - loss: 0.6127 - acc: 0.6578 - val_loss: 0.6112 - val_acc: 0.6504\n",
      "Epoch 37/150\n",
      "491/491 [==============================] - 0s - loss: 0.6096 - acc: 0.6578 - val_loss: 0.6104 - val_acc: 0.6504\n",
      "Epoch 38/150\n",
      "491/491 [==============================] - 0s - loss: 0.6098 - acc: 0.6578 - val_loss: 0.6143 - val_acc: 0.6504\n",
      "Epoch 39/150\n",
      "491/491 [==============================] - 0s - loss: 0.6078 - acc: 0.6578 - val_loss: 0.6069 - val_acc: 0.6504\n",
      "Epoch 40/150\n",
      "491/491 [==============================] - 0s - loss: 0.6061 - acc: 0.6578 - val_loss: 0.6115 - val_acc: 0.6504\n",
      "Epoch 41/150\n",
      "491/491 [==============================] - 0s - loss: 0.6046 - acc: 0.6578 - val_loss: 0.6007 - val_acc: 0.6504\n",
      "Epoch 42/150\n",
      "491/491 [==============================] - 0s - loss: 0.6033 - acc: 0.6578 - val_loss: 0.6035 - val_acc: 0.6504\n",
      "Epoch 43/150\n",
      "491/491 [==============================] - 0s - loss: 0.6005 - acc: 0.6578 - val_loss: 0.6043 - val_acc: 0.6504\n",
      "Epoch 44/150\n",
      "491/491 [==============================] - 0s - loss: 0.5975 - acc: 0.6578 - val_loss: 0.5969 - val_acc: 0.6504\n",
      "Epoch 45/150\n",
      "491/491 [==============================] - 0s - loss: 0.5953 - acc: 0.6578 - val_loss: 0.6014 - val_acc: 0.6504\n",
      "Epoch 46/150\n",
      "491/491 [==============================] - 0s - loss: 0.5952 - acc: 0.6578 - val_loss: 0.5911 - val_acc: 0.6504\n",
      "Epoch 47/150\n",
      "491/491 [==============================] - 0s - loss: 0.5919 - acc: 0.6578 - val_loss: 0.5914 - val_acc: 0.6504\n",
      "Epoch 48/150\n",
      "491/491 [==============================] - 0s - loss: 0.5937 - acc: 0.6578 - val_loss: 0.5979 - val_acc: 0.6504\n",
      "Epoch 49/150\n",
      "491/491 [==============================] - 0s - loss: 0.5935 - acc: 0.6578 - val_loss: 0.5915 - val_acc: 0.6504\n",
      "Epoch 50/150\n",
      "491/491 [==============================] - 0s - loss: 0.5901 - acc: 0.6578 - val_loss: 0.5830 - val_acc: 0.6504\n",
      "Epoch 51/150\n",
      "491/491 [==============================] - 0s - loss: 0.5850 - acc: 0.6578 - val_loss: 0.5893 - val_acc: 0.6504\n",
      "Epoch 52/150\n",
      "491/491 [==============================] - 0s - loss: 0.5886 - acc: 0.6578 - val_loss: 0.5880 - val_acc: 0.6504\n",
      "Epoch 53/150\n",
      "491/491 [==============================] - 0s - loss: 0.5862 - acc: 0.6578 - val_loss: 0.5854 - val_acc: 0.6504\n",
      "Epoch 54/150\n",
      "491/491 [==============================] - 0s - loss: 0.5833 - acc: 0.6578 - val_loss: 0.5787 - val_acc: 0.6504\n",
      "Epoch 55/150\n",
      "491/491 [==============================] - 0s - loss: 0.5879 - acc: 0.6578 - val_loss: 0.5797 - val_acc: 0.6504\n",
      "Epoch 56/150\n",
      "491/491 [==============================] - 0s - loss: 0.5804 - acc: 0.6578 - val_loss: 0.5842 - val_acc: 0.6504\n",
      "Epoch 57/150\n",
      "491/491 [==============================] - 0s - loss: 0.5782 - acc: 0.6578 - val_loss: 0.5800 - val_acc: 0.6504\n",
      "Epoch 58/150\n",
      "491/491 [==============================] - 0s - loss: 0.5823 - acc: 0.6578 - val_loss: 0.5819 - val_acc: 0.6504\n",
      "Epoch 59/150\n",
      "491/491 [==============================] - 0s - loss: 0.5780 - acc: 0.6578 - val_loss: 0.5808 - val_acc: 0.6504\n",
      "Epoch 60/150\n",
      "491/491 [==============================] - 0s - loss: 0.5763 - acc: 0.6578 - val_loss: 0.5795 - val_acc: 0.6504\n",
      "Epoch 61/150\n",
      "491/491 [==============================] - 0s - loss: 0.5760 - acc: 0.6578 - val_loss: 0.5781 - val_acc: 0.6504\n",
      "Epoch 62/150\n",
      "491/491 [==============================] - 0s - loss: 0.5736 - acc: 0.6578 - val_loss: 0.5726 - val_acc: 0.6504\n",
      "Epoch 63/150\n",
      "491/491 [==============================] - 0s - loss: 0.5731 - acc: 0.6578 - val_loss: 0.5733 - val_acc: 0.6504\n",
      "Epoch 64/150\n",
      "491/491 [==============================] - 0s - loss: 0.5725 - acc: 0.6578 - val_loss: 0.5788 - val_acc: 0.6504\n",
      "Epoch 65/150\n",
      "491/491 [==============================] - 0s - loss: 0.5730 - acc: 0.6578 - val_loss: 0.5739 - val_acc: 0.6504\n",
      "Epoch 66/150\n"
     ]
    },
    {
     "name": "stdout",
     "output_type": "stream",
     "text": [
      "491/491 [==============================] - 0s - loss: 0.5682 - acc: 0.6578 - val_loss: 0.5779 - val_acc: 0.6504\n",
      "Epoch 67/150\n",
      "491/491 [==============================] - 0s - loss: 0.5674 - acc: 0.6578 - val_loss: 0.5716 - val_acc: 0.6504\n",
      "Epoch 68/150\n",
      "491/491 [==============================] - 0s - loss: 0.5723 - acc: 0.6578 - val_loss: 0.5745 - val_acc: 0.6504\n",
      "Epoch 69/150\n",
      "491/491 [==============================] - 0s - loss: 0.5740 - acc: 0.6578 - val_loss: 0.5832 - val_acc: 0.6504\n",
      "Epoch 70/150\n",
      "491/491 [==============================] - 0s - loss: 0.5691 - acc: 0.6578 - val_loss: 0.5797 - val_acc: 0.6504\n",
      "Epoch 71/150\n",
      "491/491 [==============================] - 0s - loss: 0.5664 - acc: 0.6578 - val_loss: 0.5738 - val_acc: 0.6585\n",
      "Epoch 72/150\n",
      "491/491 [==============================] - 0s - loss: 0.5653 - acc: 0.6619 - val_loss: 0.5806 - val_acc: 0.6504\n",
      "Epoch 73/150\n",
      "491/491 [==============================] - 0s - loss: 0.5655 - acc: 0.6741 - val_loss: 0.5753 - val_acc: 0.6585\n",
      "Epoch 74/150\n",
      "491/491 [==============================] - 0s - loss: 0.5644 - acc: 0.6864 - val_loss: 0.5751 - val_acc: 0.6504\n",
      "Epoch 75/150\n",
      "491/491 [==============================] - 0s - loss: 0.5621 - acc: 0.6802 - val_loss: 0.5702 - val_acc: 0.6504\n",
      "Epoch 76/150\n",
      "491/491 [==============================] - 0s - loss: 0.5686 - acc: 0.6782 - val_loss: 0.5794 - val_acc: 0.6423\n",
      "Epoch 77/150\n",
      "491/491 [==============================] - 0s - loss: 0.5627 - acc: 0.6782 - val_loss: 0.5882 - val_acc: 0.6585\n",
      "Epoch 78/150\n",
      "491/491 [==============================] - 0s - loss: 0.5689 - acc: 0.6680 - val_loss: 0.5725 - val_acc: 0.6504\n",
      "Epoch 79/150\n",
      "491/491 [==============================] - 0s - loss: 0.5604 - acc: 0.6823 - val_loss: 0.5789 - val_acc: 0.6585\n",
      "Epoch 80/150\n",
      "491/491 [==============================] - 0s - loss: 0.5612 - acc: 0.6823 - val_loss: 0.5704 - val_acc: 0.6504\n",
      "Epoch 81/150\n",
      "491/491 [==============================] - 0s - loss: 0.5630 - acc: 0.6986 - val_loss: 0.5758 - val_acc: 0.6829\n",
      "Epoch 82/150\n",
      "491/491 [==============================] - 0s - loss: 0.5627 - acc: 0.6884 - val_loss: 0.5739 - val_acc: 0.6667\n",
      "Epoch 83/150\n",
      "491/491 [==============================] - 0s - loss: 0.5584 - acc: 0.6986 - val_loss: 0.5836 - val_acc: 0.6667\n",
      "Epoch 84/150\n",
      "491/491 [==============================] - 0s - loss: 0.5590 - acc: 0.7047 - val_loss: 0.5798 - val_acc: 0.6667\n",
      "Epoch 85/150\n",
      "491/491 [==============================] - 0s - loss: 0.5597 - acc: 0.6986 - val_loss: 0.5719 - val_acc: 0.6911\n",
      "Epoch 86/150\n",
      "491/491 [==============================] - 0s - loss: 0.5597 - acc: 0.7047 - val_loss: 0.5743 - val_acc: 0.6585\n",
      "Epoch 87/150\n",
      "491/491 [==============================] - 0s - loss: 0.5576 - acc: 0.7189 - val_loss: 0.5880 - val_acc: 0.6748\n",
      "Epoch 88/150\n",
      "491/491 [==============================] - 0s - loss: 0.5542 - acc: 0.7149 - val_loss: 0.5749 - val_acc: 0.6748\n",
      "Epoch 89/150\n",
      "491/491 [==============================] - 0s - loss: 0.5576 - acc: 0.7006 - val_loss: 0.5757 - val_acc: 0.6748\n",
      "Epoch 90/150\n",
      "491/491 [==============================] - 0s - loss: 0.5558 - acc: 0.7067 - val_loss: 0.5774 - val_acc: 0.6504\n",
      "Epoch 91/150\n",
      "491/491 [==============================] - 0s - loss: 0.5588 - acc: 0.7108 - val_loss: 0.5731 - val_acc: 0.6667\n",
      "Epoch 92/150\n",
      "491/491 [==============================] - 0s - loss: 0.5546 - acc: 0.7169 - val_loss: 0.5801 - val_acc: 0.6748\n",
      "Epoch 93/150\n",
      "491/491 [==============================] - 0s - loss: 0.5551 - acc: 0.7149 - val_loss: 0.5860 - val_acc: 0.6585\n",
      "Epoch 94/150\n",
      "491/491 [==============================] - 0s - loss: 0.5532 - acc: 0.7108 - val_loss: 0.5799 - val_acc: 0.6585\n",
      "Epoch 95/150\n",
      "491/491 [==============================] - 0s - loss: 0.5574 - acc: 0.7251 - val_loss: 0.5869 - val_acc: 0.6667\n",
      "Epoch 96/150\n",
      "491/491 [==============================] - 0s - loss: 0.5606 - acc: 0.7149 - val_loss: 0.5749 - val_acc: 0.6829\n",
      "Epoch 97/150\n",
      "491/491 [==============================] - 0s - loss: 0.5534 - acc: 0.7149 - val_loss: 0.5818 - val_acc: 0.6667\n",
      "Epoch 98/150\n",
      "491/491 [==============================] - 0s - loss: 0.5540 - acc: 0.7128 - val_loss: 0.5783 - val_acc: 0.6667\n",
      "Epoch 99/150\n",
      "491/491 [==============================] - 0s - loss: 0.5557 - acc: 0.7067 - val_loss: 0.5881 - val_acc: 0.6585\n",
      "Epoch 100/150\n",
      "491/491 [==============================] - 0s - loss: 0.5618 - acc: 0.7169 - val_loss: 0.5831 - val_acc: 0.6585\n",
      "Epoch 101/150\n",
      "491/491 [==============================] - 0s - loss: 0.5506 - acc: 0.7230 - val_loss: 0.5783 - val_acc: 0.6748\n",
      "Epoch 102/150\n",
      "491/491 [==============================] - 0s - loss: 0.5541 - acc: 0.7108 - val_loss: 0.5800 - val_acc: 0.6829\n",
      "Epoch 103/150\n",
      "491/491 [==============================] - 0s - loss: 0.5505 - acc: 0.7128 - val_loss: 0.5766 - val_acc: 0.6504\n",
      "Epoch 104/150\n",
      "491/491 [==============================] - 0s - loss: 0.5513 - acc: 0.7108 - val_loss: 0.5829 - val_acc: 0.6829\n",
      "Epoch 105/150\n",
      "491/491 [==============================] - 0s - loss: 0.5496 - acc: 0.7047 - val_loss: 0.5806 - val_acc: 0.6667\n",
      "Epoch 106/150\n",
      "491/491 [==============================] - 0s - loss: 0.5565 - acc: 0.7189 - val_loss: 0.6014 - val_acc: 0.6748\n",
      "Epoch 107/150\n",
      "491/491 [==============================] - 0s - loss: 0.5559 - acc: 0.7088 - val_loss: 0.5988 - val_acc: 0.6829\n",
      "Epoch 108/150\n",
      "491/491 [==============================] - 0s - loss: 0.5502 - acc: 0.7026 - val_loss: 0.5785 - val_acc: 0.6667\n",
      "Epoch 109/150\n",
      "491/491 [==============================] - 0s - loss: 0.5480 - acc: 0.7189 - val_loss: 0.5864 - val_acc: 0.6829\n",
      "Epoch 110/150\n",
      "491/491 [==============================] - 0s - loss: 0.5489 - acc: 0.7067 - val_loss: 0.5868 - val_acc: 0.6748\n",
      "Epoch 111/150\n",
      "491/491 [==============================] - 0s - loss: 0.5480 - acc: 0.7251 - val_loss: 0.5834 - val_acc: 0.6748\n",
      "Epoch 112/150\n",
      "491/491 [==============================] - 0s - loss: 0.5429 - acc: 0.7169 - val_loss: 0.5901 - val_acc: 0.6748\n",
      "Epoch 113/150\n",
      "491/491 [==============================] - 0s - loss: 0.5477 - acc: 0.7291 - val_loss: 0.6133 - val_acc: 0.6667\n",
      "Epoch 114/150\n",
      "491/491 [==============================] - 0s - loss: 0.5485 - acc: 0.7189 - val_loss: 0.5930 - val_acc: 0.6667\n",
      "Epoch 115/150\n",
      "491/491 [==============================] - 0s - loss: 0.5517 - acc: 0.7088 - val_loss: 0.5825 - val_acc: 0.6992\n",
      "Epoch 116/150\n",
      "491/491 [==============================] - 0s - loss: 0.5554 - acc: 0.7108 - val_loss: 0.5915 - val_acc: 0.6911\n",
      "Epoch 117/150\n",
      "491/491 [==============================] - 0s - loss: 0.5447 - acc: 0.7169 - val_loss: 0.5925 - val_acc: 0.6911\n",
      "Epoch 118/150\n",
      "491/491 [==============================] - 0s - loss: 0.5418 - acc: 0.7189 - val_loss: 0.6028 - val_acc: 0.6667\n",
      "Epoch 119/150\n",
      "491/491 [==============================] - 0s - loss: 0.5430 - acc: 0.7108 - val_loss: 0.5958 - val_acc: 0.6423\n",
      "Epoch 120/150\n",
      "491/491 [==============================] - 0s - loss: 0.5606 - acc: 0.7088 - val_loss: 0.5871 - val_acc: 0.6667\n",
      "Epoch 121/150\n",
      "491/491 [==============================] - 0s - loss: 0.5468 - acc: 0.7026 - val_loss: 0.6110 - val_acc: 0.6504\n",
      "Epoch 122/150\n",
      "491/491 [==============================] - 0s - loss: 0.5432 - acc: 0.7149 - val_loss: 0.5916 - val_acc: 0.6829\n",
      "Epoch 123/150\n",
      "491/491 [==============================] - 0s - loss: 0.5520 - acc: 0.7067 - val_loss: 0.5795 - val_acc: 0.6748\n",
      "Epoch 124/150\n",
      "491/491 [==============================] - 0s - loss: 0.5445 - acc: 0.7210 - val_loss: 0.5773 - val_acc: 0.6911\n",
      "Epoch 125/150\n",
      "491/491 [==============================] - 0s - loss: 0.5493 - acc: 0.7189 - val_loss: 0.5864 - val_acc: 0.6585\n",
      "Epoch 126/150\n",
      "491/491 [==============================] - 0s - loss: 0.5471 - acc: 0.7169 - val_loss: 0.5760 - val_acc: 0.7236\n",
      "Epoch 127/150\n",
      "491/491 [==============================] - 0s - loss: 0.5470 - acc: 0.7169 - val_loss: 0.5880 - val_acc: 0.6585\n",
      "Epoch 128/150\n",
      "491/491 [==============================] - 0s - loss: 0.5457 - acc: 0.7230 - val_loss: 0.5971 - val_acc: 0.6829\n",
      "Epoch 129/150\n",
      "491/491 [==============================] - 0s - loss: 0.5381 - acc: 0.7006 - val_loss: 0.5873 - val_acc: 0.6829\n",
      "Epoch 130/150\n",
      "491/491 [==============================] - 0s - loss: 0.5404 - acc: 0.7210 - val_loss: 0.5793 - val_acc: 0.6992\n",
      "Epoch 131/150\n"
     ]
    },
    {
     "name": "stdout",
     "output_type": "stream",
     "text": [
      "491/491 [==============================] - 0s - loss: 0.5416 - acc: 0.7352 - val_loss: 0.5865 - val_acc: 0.6748\n",
      "Epoch 132/150\n",
      "491/491 [==============================] - 0s - loss: 0.5361 - acc: 0.7108 - val_loss: 0.5939 - val_acc: 0.6667\n",
      "Epoch 133/150\n",
      "491/491 [==============================] - 0s - loss: 0.5420 - acc: 0.7169 - val_loss: 0.6056 - val_acc: 0.6667\n",
      "Epoch 134/150\n",
      "491/491 [==============================] - 0s - loss: 0.5364 - acc: 0.7088 - val_loss: 0.5991 - val_acc: 0.6667\n",
      "Epoch 135/150\n",
      "491/491 [==============================] - 0s - loss: 0.5365 - acc: 0.7108 - val_loss: 0.5952 - val_acc: 0.6585\n",
      "Epoch 136/150\n",
      "491/491 [==============================] - 0s - loss: 0.5393 - acc: 0.7088 - val_loss: 0.5858 - val_acc: 0.6829\n",
      "Epoch 137/150\n",
      "491/491 [==============================] - 0s - loss: 0.5368 - acc: 0.7230 - val_loss: 0.6052 - val_acc: 0.6829\n",
      "Epoch 138/150\n",
      "491/491 [==============================] - 0s - loss: 0.5361 - acc: 0.7067 - val_loss: 0.6041 - val_acc: 0.6423\n",
      "Epoch 139/150\n",
      "491/491 [==============================] - 0s - loss: 0.5341 - acc: 0.7108 - val_loss: 0.5968 - val_acc: 0.6829\n",
      "Epoch 140/150\n",
      "491/491 [==============================] - 0s - loss: 0.5336 - acc: 0.7332 - val_loss: 0.6109 - val_acc: 0.6667\n",
      "Epoch 141/150\n",
      "491/491 [==============================] - 0s - loss: 0.5390 - acc: 0.7210 - val_loss: 0.5909 - val_acc: 0.6829\n",
      "Epoch 142/150\n",
      "491/491 [==============================] - 0s - loss: 0.5368 - acc: 0.7230 - val_loss: 0.6007 - val_acc: 0.6667\n",
      "Epoch 143/150\n",
      "491/491 [==============================] - 0s - loss: 0.5323 - acc: 0.7291 - val_loss: 0.5919 - val_acc: 0.6992\n",
      "Epoch 144/150\n",
      "491/491 [==============================] - 0s - loss: 0.5353 - acc: 0.7271 - val_loss: 0.5916 - val_acc: 0.6748\n",
      "Epoch 145/150\n",
      "491/491 [==============================] - 0s - loss: 0.5277 - acc: 0.7149 - val_loss: 0.6028 - val_acc: 0.6585\n",
      "Epoch 146/150\n",
      "491/491 [==============================] - 0s - loss: 0.5356 - acc: 0.7189 - val_loss: 0.6209 - val_acc: 0.6504\n",
      "Epoch 147/150\n",
      "491/491 [==============================] - 0s - loss: 0.5355 - acc: 0.7352 - val_loss: 0.5869 - val_acc: 0.6911\n",
      "Epoch 148/150\n",
      "491/491 [==============================] - 0s - loss: 0.5389 - acc: 0.7251 - val_loss: 0.6040 - val_acc: 0.6667\n",
      "Epoch 149/150\n",
      "491/491 [==============================] - 0s - loss: 0.5365 - acc: 0.7230 - val_loss: 0.6163 - val_acc: 0.6585\n",
      "Epoch 150/150\n",
      "491/491 [==============================] - 0s - loss: 0.5316 - acc: 0.7230 - val_loss: 0.6192 - val_acc: 0.6829\n"
     ]
    },
    {
     "data": {
      "text/plain": [
       "<keras.callbacks.History at 0x1a1d70cf10>"
      ]
     },
     "execution_count": 56,
     "metadata": {},
     "output_type": "execute_result"
    }
   ],
   "source": [
    "# Fit the model\n",
    "model.fit(X_train, y_train, nb_epoch=150, batch_size=10, validation_split=0.2)"
   ]
  },
  {
   "cell_type": "markdown",
   "metadata": {},
   "source": [
    "## Оценка качества"
   ]
  },
  {
   "cell_type": "code",
   "execution_count": 59,
   "metadata": {
    "scrolled": true
   },
   "outputs": [
    {
     "name": "stdout",
     "output_type": "stream",
     "text": [
      "128/154 [=======================>......] - ETA: 0s\n",
      "acc: 75.32%\n"
     ]
    }
   ],
   "source": [
    "scores = model.evaluate(X_test, y_test)\n",
    "print(\"\\n%s: %.2f%%\" % (model.metrics_names[1], scores[1]*100))"
   ]
  },
  {
   "cell_type": "code",
   "execution_count": 60,
   "metadata": {},
   "outputs": [],
   "source": [
    "y_hat = model.predict(X_test).flatten()"
   ]
  },
  {
   "cell_type": "code",
   "execution_count": 62,
   "metadata": {},
   "outputs": [],
   "source": [
    "from keras.wrappers.scikit_learn import KerasClassifier\n",
    "from sklearn.pipeline import Pipeline"
   ]
  },
  {
   "cell_type": "code",
   "execution_count": 63,
   "metadata": {
    "code_folding": []
   },
   "outputs": [],
   "source": [
    "def gen_model():\n",
    "    model = Sequential()\n",
    "    model.add(Dense(12, input_dim=8, init='normal', activation='sigmoid'))\n",
    "    model.add(Dense(8, init='normal', activation='sigmoid'))\n",
    "    model.add(Dense(1, init='uniform', activation='sigmoid'))\n",
    "    \n",
    "    # Compile model\n",
    "    model.compile(loss='binary_crossentropy', optimizer='adam', metrics=['accuracy'], )\n",
    "    \n",
    "    return model"
   ]
  },
  {
   "cell_type": "code",
   "execution_count": 69,
   "metadata": {},
   "outputs": [],
   "source": [
    "model = Pipeline([\n",
    "    ('scaler', StandardScaler()),\n",
    "    ('nn', KerasClassifier(build_fn=gen_model, nb_epoch=150, batch_size=10))\n",
    "])"
   ]
  },
  {
   "cell_type": "code",
   "execution_count": 70,
   "metadata": {},
   "outputs": [
    {
     "name": "stdout",
     "output_type": "stream",
     "text": [
      "Epoch 1/150\n",
      "614/614 [==============================] - 0s - loss: 0.6782 - acc: 0.6498     \n",
      "Epoch 2/150\n",
      "614/614 [==============================] - 0s - loss: 0.6558 - acc: 0.6564     \n",
      "Epoch 3/150\n",
      "614/614 [==============================] - 0s - loss: 0.6442 - acc: 0.6564     \n",
      "Epoch 4/150\n",
      "614/614 [==============================] - 0s - loss: 0.6373 - acc: 0.6564     \n",
      "Epoch 5/150\n",
      "614/614 [==============================] - 0s - loss: 0.6328 - acc: 0.6564     \n",
      "Epoch 6/150\n",
      "614/614 [==============================] - 0s - loss: 0.6300 - acc: 0.6564     \n",
      "Epoch 7/150\n",
      "614/614 [==============================] - 0s - loss: 0.6263 - acc: 0.6564     \n",
      "Epoch 8/150\n",
      "614/614 [==============================] - 0s - loss: 0.6236 - acc: 0.6564     \n",
      "Epoch 9/150\n",
      "614/614 [==============================] - 0s - loss: 0.6213 - acc: 0.6564     \n",
      "Epoch 10/150\n",
      "614/614 [==============================] - 0s - loss: 0.6180 - acc: 0.6564     \n",
      "Epoch 11/150\n",
      "614/614 [==============================] - 0s - loss: 0.6152 - acc: 0.6564     \n",
      "Epoch 12/150\n",
      "614/614 [==============================] - 0s - loss: 0.6124 - acc: 0.6564     \n",
      "Epoch 13/150\n",
      "614/614 [==============================] - 0s - loss: 0.6099 - acc: 0.6564     \n",
      "Epoch 14/150\n",
      "614/614 [==============================] - 0s - loss: 0.6066 - acc: 0.6564     \n",
      "Epoch 15/150\n",
      "614/614 [==============================] - 0s - loss: 0.6035 - acc: 0.6564     \n",
      "Epoch 16/150\n",
      "614/614 [==============================] - 0s - loss: 0.6005 - acc: 0.6564     \n",
      "Epoch 17/150\n",
      "614/614 [==============================] - 0s - loss: 0.5969 - acc: 0.6564     \n",
      "Epoch 18/150\n",
      "614/614 [==============================] - 0s - loss: 0.5939 - acc: 0.6564     \n",
      "Epoch 19/150\n",
      "614/614 [==============================] - 0s - loss: 0.5902 - acc: 0.6564     \n",
      "Epoch 20/150\n",
      "614/614 [==============================] - 0s - loss: 0.5873 - acc: 0.6564     \n",
      "Epoch 21/150\n",
      "614/614 [==============================] - 0s - loss: 0.5834 - acc: 0.6564     \n",
      "Epoch 22/150\n",
      "614/614 [==============================] - 0s - loss: 0.5799 - acc: 0.6564     \n",
      "Epoch 23/150\n",
      "614/614 [==============================] - 0s - loss: 0.5763 - acc: 0.6564     \n",
      "Epoch 24/150\n",
      "614/614 [==============================] - 0s - loss: 0.5727 - acc: 0.6564     \n",
      "Epoch 25/150\n",
      "614/614 [==============================] - 0s - loss: 0.5690 - acc: 0.6564     \n",
      "Epoch 26/150\n",
      "614/614 [==============================] - 0s - loss: 0.5654 - acc: 0.6564     \n",
      "Epoch 27/150\n",
      "614/614 [==============================] - 0s - loss: 0.5616 - acc: 0.6564     \n",
      "Epoch 28/150\n",
      "614/614 [==============================] - 0s - loss: 0.5583 - acc: 0.6564     \n",
      "Epoch 29/150\n",
      "614/614 [==============================] - 0s - loss: 0.5546 - acc: 0.6564     \n",
      "Epoch 30/150\n",
      "614/614 [==============================] - 0s - loss: 0.5513 - acc: 0.6564     \n",
      "Epoch 31/150\n",
      "614/614 [==============================] - 0s - loss: 0.5480 - acc: 0.6564     \n",
      "Epoch 32/150\n",
      "614/614 [==============================] - 0s - loss: 0.5447 - acc: 0.6564     \n",
      "Epoch 33/150\n",
      "614/614 [==============================] - 0s - loss: 0.5415 - acc: 0.6564     \n",
      "Epoch 34/150\n",
      "614/614 [==============================] - 0s - loss: 0.5382 - acc: 0.6564     - E\n",
      "Epoch 35/150\n",
      "614/614 [==============================] - 0s - loss: 0.5352 - acc: 0.6564     \n",
      "Epoch 36/150\n",
      "614/614 [==============================] - 0s - loss: 0.5325 - acc: 0.6564     \n",
      "Epoch 37/150\n",
      "614/614 [==============================] - 0s - loss: 0.5298 - acc: 0.6564     \n",
      "Epoch 38/150\n",
      "614/614 [==============================] - 0s - loss: 0.5274 - acc: 0.6564     \n",
      "Epoch 39/150\n",
      "614/614 [==============================] - 0s - loss: 0.5247 - acc: 0.6564     \n",
      "Epoch 40/150\n",
      "614/614 [==============================] - 0s - loss: 0.5224 - acc: 0.6564     \n",
      "Epoch 41/150\n",
      "614/614 [==============================] - 0s - loss: 0.5202 - acc: 0.6580     \n",
      "Epoch 42/150\n",
      "614/614 [==============================] - 0s - loss: 0.5182 - acc: 0.7329     \n",
      "Epoch 43/150\n",
      "614/614 [==============================] - 0s - loss: 0.5159 - acc: 0.7443     \n",
      "Epoch 44/150\n",
      "614/614 [==============================] - 0s - loss: 0.5140 - acc: 0.7687     \n",
      "Epoch 45/150\n",
      "614/614 [==============================] - 0s - loss: 0.5123 - acc: 0.7655     \n",
      "Epoch 46/150\n",
      "614/614 [==============================] - 0s - loss: 0.5106 - acc: 0.7671     \n",
      "Epoch 47/150\n",
      "614/614 [==============================] - 0s - loss: 0.5087 - acc: 0.7752     \n",
      "Epoch 48/150\n",
      "614/614 [==============================] - 0s - loss: 0.5075 - acc: 0.7655     \n",
      "Epoch 49/150\n",
      "614/614 [==============================] - 0s - loss: 0.5059 - acc: 0.7655     \n",
      "Epoch 50/150\n",
      "614/614 [==============================] - 0s - loss: 0.5043 - acc: 0.7671     \n",
      "Epoch 51/150\n",
      "614/614 [==============================] - 0s - loss: 0.5035 - acc: 0.7622     \n",
      "Epoch 52/150\n",
      "614/614 [==============================] - 0s - loss: 0.5016 - acc: 0.7590     \n",
      "Epoch 53/150\n",
      "614/614 [==============================] - 0s - loss: 0.5006 - acc: 0.7590     \n",
      "Epoch 54/150\n",
      "614/614 [==============================] - 0s - loss: 0.4994 - acc: 0.7557     \n",
      "Epoch 55/150\n",
      "614/614 [==============================] - 0s - loss: 0.4981 - acc: 0.7606     \n",
      "Epoch 56/150\n",
      "614/614 [==============================] - 0s - loss: 0.4972 - acc: 0.7622     \n",
      "Epoch 57/150\n",
      "614/614 [==============================] - 0s - loss: 0.4963 - acc: 0.7622     \n",
      "Epoch 58/150\n",
      "614/614 [==============================] - 0s - loss: 0.4957 - acc: 0.7687     \n",
      "Epoch 59/150\n",
      "614/614 [==============================] - 0s - loss: 0.4947 - acc: 0.7638     \n",
      "Epoch 60/150\n",
      "614/614 [==============================] - 0s - loss: 0.4940 - acc: 0.7671     \n",
      "Epoch 61/150\n",
      "614/614 [==============================] - 0s - loss: 0.4928 - acc: 0.7687     \n",
      "Epoch 62/150\n",
      "614/614 [==============================] - 0s - loss: 0.4922 - acc: 0.7687     \n",
      "Epoch 63/150\n",
      "614/614 [==============================] - 0s - loss: 0.4917 - acc: 0.7622     \n",
      "Epoch 64/150\n",
      "614/614 [==============================] - 0s - loss: 0.4910 - acc: 0.7638     \n",
      "Epoch 65/150\n",
      "614/614 [==============================] - 0s - loss: 0.4912 - acc: 0.7638     \n",
      "Epoch 66/150\n",
      "614/614 [==============================] - 0s - loss: 0.4902 - acc: 0.7622     \n",
      "Epoch 67/150\n",
      "614/614 [==============================] - 0s - loss: 0.4895 - acc: 0.7606     \n",
      "Epoch 68/150\n",
      "614/614 [==============================] - 0s - loss: 0.4889 - acc: 0.7606     \n",
      "Epoch 69/150\n",
      "614/614 [==============================] - 0s - loss: 0.4887 - acc: 0.7606     \n",
      "Epoch 70/150\n",
      "614/614 [==============================] - 0s - loss: 0.4881 - acc: 0.7622     \n",
      "Epoch 71/150\n",
      "614/614 [==============================] - 0s - loss: 0.4879 - acc: 0.7638     \n",
      "Epoch 72/150\n",
      "614/614 [==============================] - 0s - loss: 0.4872 - acc: 0.7622     \n",
      "Epoch 73/150\n",
      "614/614 [==============================] - 0s - loss: 0.4874 - acc: 0.7622     \n",
      "Epoch 74/150\n",
      "614/614 [==============================] - 0s - loss: 0.4867 - acc: 0.7638     \n",
      "Epoch 75/150\n",
      "614/614 [==============================] - 0s - loss: 0.4864 - acc: 0.7573     \n",
      "Epoch 76/150\n",
      "614/614 [==============================] - 0s - loss: 0.4859 - acc: 0.7622     \n",
      "Epoch 77/150\n",
      "614/614 [==============================] - 0s - loss: 0.4858 - acc: 0.7590     \n",
      "Epoch 78/150\n",
      "614/614 [==============================] - 0s - loss: 0.4855 - acc: 0.7557     \n",
      "Epoch 79/150\n",
      "614/614 [==============================] - 0s - loss: 0.4854 - acc: 0.7590     \n",
      "Epoch 80/150\n",
      "614/614 [==============================] - 0s - loss: 0.4849 - acc: 0.7606     \n",
      "Epoch 81/150\n",
      "614/614 [==============================] - 0s - loss: 0.4850 - acc: 0.7590     \n",
      "Epoch 82/150\n",
      "614/614 [==============================] - 0s - loss: 0.4844 - acc: 0.7606     \n",
      "Epoch 83/150\n",
      "614/614 [==============================] - 0s - loss: 0.4847 - acc: 0.7606     \n",
      "Epoch 84/150\n",
      "614/614 [==============================] - 0s - loss: 0.4840 - acc: 0.7557     \n",
      "Epoch 85/150\n",
      "614/614 [==============================] - 0s - loss: 0.4846 - acc: 0.7541     \n",
      "Epoch 86/150\n",
      "614/614 [==============================] - 0s - loss: 0.4835 - acc: 0.7541     \n",
      "Epoch 87/150\n",
      "614/614 [==============================] - 0s - loss: 0.4834 - acc: 0.7557     \n",
      "Epoch 88/150\n",
      "614/614 [==============================] - 0s - loss: 0.4839 - acc: 0.7508     \n",
      "Epoch 89/150\n"
     ]
    },
    {
     "name": "stdout",
     "output_type": "stream",
     "text": [
      "614/614 [==============================] - 0s - loss: 0.4831 - acc: 0.7557     \n",
      "Epoch 90/150\n",
      "614/614 [==============================] - 0s - loss: 0.4832 - acc: 0.7557     \n",
      "Epoch 91/150\n",
      "614/614 [==============================] - 0s - loss: 0.4827 - acc: 0.7541     \n",
      "Epoch 92/150\n",
      "614/614 [==============================] - 0s - loss: 0.4826 - acc: 0.7557     \n",
      "Epoch 93/150\n",
      "614/614 [==============================] - 0s - loss: 0.4828 - acc: 0.7557     \n",
      "Epoch 94/150\n",
      "614/614 [==============================] - 0s - loss: 0.4825 - acc: 0.7524     \n",
      "Epoch 95/150\n",
      "614/614 [==============================] - 0s - loss: 0.4822 - acc: 0.7573     \n",
      "Epoch 96/150\n",
      "614/614 [==============================] - 0s - loss: 0.4820 - acc: 0.7590     \n",
      "Epoch 97/150\n",
      "614/614 [==============================] - 0s - loss: 0.4823 - acc: 0.7573     \n",
      "Epoch 98/150\n",
      "614/614 [==============================] - 0s - loss: 0.4818 - acc: 0.7541     \n",
      "Epoch 99/150\n",
      "614/614 [==============================] - 0s - loss: 0.4822 - acc: 0.7557     \n",
      "Epoch 100/150\n",
      "614/614 [==============================] - 0s - loss: 0.4817 - acc: 0.7573     \n",
      "Epoch 101/150\n",
      "614/614 [==============================] - 0s - loss: 0.4816 - acc: 0.7573     \n",
      "Epoch 102/150\n",
      "614/614 [==============================] - 0s - loss: 0.4813 - acc: 0.7557     \n",
      "Epoch 103/150\n",
      "614/614 [==============================] - 0s - loss: 0.4813 - acc: 0.7557     \n",
      "Epoch 104/150\n",
      "614/614 [==============================] - 0s - loss: 0.4811 - acc: 0.7557     \n",
      "Epoch 105/150\n",
      "614/614 [==============================] - 0s - loss: 0.4809 - acc: 0.7590     \n",
      "Epoch 106/150\n",
      "614/614 [==============================] - 0s - loss: 0.4811 - acc: 0.7573     \n",
      "Epoch 107/150\n",
      "614/614 [==============================] - 0s - loss: 0.4811 - acc: 0.7573     \n",
      "Epoch 108/150\n",
      "614/614 [==============================] - 0s - loss: 0.4805 - acc: 0.7573     \n",
      "Epoch 109/150\n",
      "614/614 [==============================] - 0s - loss: 0.4806 - acc: 0.7573     \n",
      "Epoch 110/150\n",
      "614/614 [==============================] - 0s - loss: 0.4804 - acc: 0.7557     \n",
      "Epoch 111/150\n",
      "614/614 [==============================] - 0s - loss: 0.4803 - acc: 0.7557     \n",
      "Epoch 112/150\n",
      "614/614 [==============================] - 0s - loss: 0.4801 - acc: 0.7606     \n",
      "Epoch 113/150\n",
      "614/614 [==============================] - 0s - loss: 0.4802 - acc: 0.7590     \n",
      "Epoch 114/150\n",
      "614/614 [==============================] - 0s - loss: 0.4799 - acc: 0.7573     \n",
      "Epoch 115/150\n",
      "614/614 [==============================] - 0s - loss: 0.4799 - acc: 0.7573     \n",
      "Epoch 116/150\n",
      "614/614 [==============================] - 0s - loss: 0.4797 - acc: 0.7606     \n",
      "Epoch 117/150\n",
      "614/614 [==============================] - 0s - loss: 0.4797 - acc: 0.7573     \n",
      "Epoch 118/150\n",
      "614/614 [==============================] - 0s - loss: 0.4800 - acc: 0.7573     \n",
      "Epoch 119/150\n",
      "614/614 [==============================] - 0s - loss: 0.4794 - acc: 0.7573     \n",
      "Epoch 120/150\n",
      "614/614 [==============================] - 0s - loss: 0.4793 - acc: 0.7573     \n",
      "Epoch 121/150\n",
      "614/614 [==============================] - 0s - loss: 0.4790 - acc: 0.7557     \n",
      "Epoch 122/150\n",
      "614/614 [==============================] - 0s - loss: 0.4789 - acc: 0.7541     \n",
      "Epoch 123/150\n",
      "614/614 [==============================] - 0s - loss: 0.4789 - acc: 0.7557     \n",
      "Epoch 124/150\n",
      "614/614 [==============================] - 0s - loss: 0.4786 - acc: 0.7541     \n",
      "Epoch 125/150\n",
      "614/614 [==============================] - 0s - loss: 0.4786 - acc: 0.7541     \n",
      "Epoch 126/150\n",
      "614/614 [==============================] - 0s - loss: 0.4782 - acc: 0.7557     \n",
      "Epoch 127/150\n",
      "614/614 [==============================] - 0s - loss: 0.4780 - acc: 0.7541     \n",
      "Epoch 128/150\n",
      "614/614 [==============================] - 0s - loss: 0.4783 - acc: 0.7557     \n",
      "Epoch 129/150\n",
      "614/614 [==============================] - 0s - loss: 0.4778 - acc: 0.7557     \n",
      "Epoch 130/150\n",
      "614/614 [==============================] - 0s - loss: 0.4778 - acc: 0.7573     \n",
      "Epoch 131/150\n",
      "614/614 [==============================] - 0s - loss: 0.4776 - acc: 0.7557     \n",
      "Epoch 132/150\n",
      "614/614 [==============================] - 0s - loss: 0.4771 - acc: 0.7573     \n",
      "Epoch 133/150\n",
      "614/614 [==============================] - 0s - loss: 0.4771 - acc: 0.7606     \n",
      "Epoch 134/150\n",
      "614/614 [==============================] - 0s - loss: 0.4770 - acc: 0.7606     \n",
      "Epoch 135/150\n",
      "614/614 [==============================] - 0s - loss: 0.4767 - acc: 0.7590     \n",
      "Epoch 136/150\n",
      "614/614 [==============================] - 0s - loss: 0.4769 - acc: 0.7622     \n",
      "Epoch 137/150\n",
      "614/614 [==============================] - 0s - loss: 0.4763 - acc: 0.7590     \n",
      "Epoch 138/150\n",
      "614/614 [==============================] - 0s - loss: 0.4769 - acc: 0.7622     \n",
      "Epoch 139/150\n",
      "614/614 [==============================] - 0s - loss: 0.4759 - acc: 0.7590     \n",
      "Epoch 140/150\n",
      "614/614 [==============================] - 0s - loss: 0.4758 - acc: 0.7573     \n",
      "Epoch 141/150\n",
      "614/614 [==============================] - 0s - loss: 0.4755 - acc: 0.7590     \n",
      "Epoch 142/150\n",
      "614/614 [==============================] - 0s - loss: 0.4754 - acc: 0.7622     \n",
      "Epoch 143/150\n",
      "614/614 [==============================] - 0s - loss: 0.4753 - acc: 0.7622     \n",
      "Epoch 144/150\n",
      "614/614 [==============================] - 0s - loss: 0.4751 - acc: 0.7606     \n",
      "Epoch 145/150\n",
      "614/614 [==============================] - 0s - loss: 0.4749 - acc: 0.7622     \n",
      "Epoch 146/150\n",
      "614/614 [==============================] - 0s - loss: 0.4743 - acc: 0.7606     \n",
      "Epoch 147/150\n",
      "614/614 [==============================] - 0s - loss: 0.4744 - acc: 0.7606     \n",
      "Epoch 148/150\n",
      "614/614 [==============================] - 0s - loss: 0.4739 - acc: 0.7622     \n",
      "Epoch 149/150\n",
      "614/614 [==============================] - 0s - loss: 0.4738 - acc: 0.7606     \n",
      "Epoch 150/150\n",
      "614/614 [==============================] - 0s - loss: 0.4736 - acc: 0.7606     \n"
     ]
    },
    {
     "data": {
      "text/plain": [
       "Pipeline(memory=None,\n",
       "     steps=[('scaler', StandardScaler(copy=True, with_mean=True, with_std=True)), ('nn', <keras.wrappers.scikit_learn.KerasClassifier object at 0x1a1da81850>)])"
      ]
     },
     "execution_count": 70,
     "metadata": {},
     "output_type": "execute_result"
    }
   ],
   "source": [
    "model.fit(X_train, y=y_train, )"
   ]
  },
  {
   "cell_type": "code",
   "execution_count": 79,
   "metadata": {},
   "outputs": [
    {
     "name": "stdout",
     "output_type": "stream",
     "text": [
      "140/154 [==========================>...] - ETA: 0s"
     ]
    }
   ],
   "source": [
    "y_hat = model.predict(X_test).flatten()"
   ]
  },
  {
   "cell_type": "code",
   "execution_count": 80,
   "metadata": {},
   "outputs": [
    {
     "data": {
      "text/plain": [
       "0.7857142857142857"
      ]
     },
     "execution_count": 80,
     "metadata": {},
     "output_type": "execute_result"
    }
   ],
   "source": [
    "(y_test == y_hat).mean()"
   ]
  },
  {
   "cell_type": "code",
   "execution_count": null,
   "metadata": {},
   "outputs": [],
   "source": []
  },
  {
   "cell_type": "markdown",
   "metadata": {},
   "source": [
    "# Регрессия"
   ]
  },
  {
   "cell_type": "markdown",
   "metadata": {},
   "source": [
    "Будем строить регрессию на данных [Boston Housing Data Set](https://archive.ics.uci.edu/ml/datasets/Housing)\n",
    "\n",
    "Описание:<br\\>\n",
    "1. CRIM: per capita crime rate by town\n",
    "2. ZN: proportion of residential land zoned for lots over 25,000 sq.ft.\n",
    "3. INDUS: proportion of non-retail business acres per town\n",
    "4. CHAS: Charles River dummy variable (= 1 if tract bounds river; 0 otherwise)\n",
    "5. NOX: nitric oxides concentration (parts per 10 million)\n",
    "6. RM: average number of rooms per dwelling\n",
    "7. AGE: proportion of owner-occupied units built prior to 1940\n",
    "8. DIS: weighted distances to five Boston employment centres\n",
    "9. RAD: index of accessibility to radial highways\n",
    "10. TAX: full-value property-tax rate per 10,000 USD\n",
    "11. PTRATIO: pupil-teacher ratio by town\n",
    "12. B: 1000(Bk - 0.63)^2 where Bk is the proportion of blacks by town\n",
    "13. LSTAT: lower status of the population\n",
    "14. MEDV: Median value of owner-occupied homes in 1000's USD"
   ]
  },
  {
   "cell_type": "markdown",
   "metadata": {},
   "source": [
    "Весь pipeline практически повторяется. Ну и повторим."
   ]
  },
  {
   "cell_type": "code",
   "execution_count": null,
   "metadata": {},
   "outputs": [],
   "source": [
    "from sklearn import datasets"
   ]
  },
  {
   "cell_type": "code",
   "execution_count": null,
   "metadata": {},
   "outputs": [],
   "source": [
    "boston = datasets.load_boston()"
   ]
  },
  {
   "cell_type": "code",
   "execution_count": null,
   "metadata": {},
   "outputs": [],
   "source": []
  },
  {
   "cell_type": "code",
   "execution_count": null,
   "metadata": {},
   "outputs": [],
   "source": []
  }
 ],
 "metadata": {
  "anaconda-cloud": {},
  "kernelspec": {
   "display_name": "Python [conda root]",
   "language": "python",
   "name": "conda-root-py"
  },
  "language_info": {
   "codemirror_mode": {
    "name": "ipython",
    "version": 2
   },
   "file_extension": ".py",
   "mimetype": "text/x-python",
   "name": "python",
   "nbconvert_exporter": "python",
   "pygments_lexer": "ipython2",
   "version": "2.7.14"
  },
  "nav_menu": {},
  "toc": {
   "colors": {
    "hover_highlight": "#DAA520",
    "navigate_num": "#000000",
    "navigate_text": "#333333",
    "running_highlight": "#FF0000",
    "selected_highlight": "#FFD700",
    "sidebar_border": "#EEEEEE",
    "wrapper_background": "#FFFFFF"
   },
   "moveMenuLeft": true,
   "nav_menu": {
    "height": "217px",
    "width": "253px"
   },
   "navigate_menu": true,
   "number_sections": false,
   "sideBar": true,
   "threshold": 4,
   "toc_cell": false,
   "toc_section_display": "block",
   "toc_window_display": false,
   "widenNotebook": false
  }
 },
 "nbformat": 4,
 "nbformat_minor": 1
}
