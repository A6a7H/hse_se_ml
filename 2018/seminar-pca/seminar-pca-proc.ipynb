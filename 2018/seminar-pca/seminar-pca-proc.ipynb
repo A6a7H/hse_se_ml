{
 "cells": [
  {
   "cell_type": "markdown",
   "metadata": {},
   "source": [
    "<center><img src=\"img/logo_hse_black.jpg\"></center>\n",
    "\n",
    "<h1><center>Data Analysis</center></h1>\n",
    "<h2><center>Seminar: PCA. t-SNE. </center></h2>"
   ]
  },
  {
   "cell_type": "code",
   "execution_count": 1,
   "metadata": {
    "collapsed": true
   },
   "outputs": [],
   "source": [
    "import os\n",
    "import numpy as np\n",
    "import pandas as pd\n",
    "import matplotlib.pyplot as plt\n",
    "\n",
    "%matplotlib inline\n",
    "\n",
    "plt.style.use('ggplot')\n",
    "plt.rcParams['figure.figsize'] = (12, 6)"
   ]
  },
  {
   "cell_type": "markdown",
   "metadata": {},
   "source": [
    "# PCA"
   ]
  },
  {
   "cell_type": "markdown",
   "metadata": {},
   "source": [
    "Lets try to use PCA on some dataset with various different ways"
   ]
  },
  {
   "cell_type": "code",
   "execution_count": 2,
   "metadata": {
    "collapsed": true
   },
   "outputs": [],
   "source": [
    "# Load data\n",
    "df_wine = pd.read_csv('data/winequality-red.csv', sep=';')\n",
    "\n",
    "# Make classification target feature\n",
    "df_wine.loc[:, 'quality_cat'] = (df_wine.quality > 5).astype(int)\n",
    "df_wine = df_wine.drop('quality', axis=1)\n",
    "\n",
    "# Get descriptive and target features\n",
    "X = df_wine.iloc[:, :-1].values\n",
    "y = df_wine.iloc[:, -1].values"
   ]
  },
  {
   "cell_type": "code",
   "execution_count": 3,
   "metadata": {},
   "outputs": [
    {
     "data": {
      "text/plain": [
       "(1599, 11)"
      ]
     },
     "execution_count": 3,
     "metadata": {},
     "output_type": "execute_result"
    }
   ],
   "source": [
    "X.shape"
   ]
  },
  {
   "cell_type": "code",
   "execution_count": 4,
   "metadata": {},
   "outputs": [
    {
     "data": {
      "text/plain": [
       "array([0, 0, 0, ..., 1, 0, 1])"
      ]
     },
     "execution_count": 4,
     "metadata": {},
     "output_type": "execute_result"
    }
   ],
   "source": [
    "y"
   ]
  },
  {
   "cell_type": "markdown",
   "metadata": {},
   "source": [
    "## PCA via sklearn"
   ]
  },
  {
   "cell_type": "code",
   "execution_count": 5,
   "metadata": {
    "collapsed": true
   },
   "outputs": [],
   "source": [
    "from sklearn.decomposition import PCA"
   ]
  },
  {
   "cell_type": "code",
   "execution_count": 6,
   "metadata": {
    "collapsed": true
   },
   "outputs": [],
   "source": [
    "pca = PCA(n_components=5)"
   ]
  },
  {
   "cell_type": "code",
   "execution_count": 7,
   "metadata": {},
   "outputs": [
    {
     "data": {
      "text/plain": [
       "PCA(copy=True, iterated_power='auto', n_components=5, random_state=None,\n",
       "  svd_solver='auto', tol=0.0, whiten=False)"
      ]
     },
     "execution_count": 7,
     "metadata": {},
     "output_type": "execute_result"
    }
   ],
   "source": [
    "pca.fit(X)"
   ]
  },
  {
   "cell_type": "code",
   "execution_count": 8,
   "metadata": {
    "collapsed": true
   },
   "outputs": [],
   "source": [
    "PC = pca.transform(X)"
   ]
  },
  {
   "cell_type": "code",
   "execution_count": 9,
   "metadata": {},
   "outputs": [
    {
     "data": {
      "text/plain": [
       "(1599, 5)"
      ]
     },
     "execution_count": 9,
     "metadata": {},
     "output_type": "execute_result"
    }
   ],
   "source": [
    "PC.shape"
   ]
  },
  {
   "cell_type": "code",
   "execution_count": 11,
   "metadata": {},
   "outputs": [
    {
     "data": {
      "text/plain": [
       "(5, 11)"
      ]
     },
     "execution_count": 11,
     "metadata": {},
     "output_type": "execute_result"
    }
   ],
   "source": [
    "pca.components_.shape"
   ]
  },
  {
   "cell_type": "code",
   "execution_count": 13,
   "metadata": {},
   "outputs": [
    {
     "data": {
      "text/plain": [
       "array([[-13.22490501,  -2.02389981,  -1.12682053,  -0.39923318,\n",
       "         -1.08538902],\n",
       "       [ 22.03772361,   4.40832155,  -0.31037799,  -0.19993774,\n",
       "         -0.55710939],\n",
       "       [  7.16267333,  -2.50146086,  -0.5818683 ,  -0.21906928,\n",
       "         -0.55293355],\n",
       "       [ 13.43006283,  -1.95112215,   2.63403954,  -1.5740594 ,\n",
       "         -0.06380573]])"
      ]
     },
     "execution_count": 13,
     "metadata": {},
     "output_type": "execute_result"
    }
   ],
   "source": [
    "PC[:4]"
   ]
  },
  {
   "cell_type": "code",
   "execution_count": 15,
   "metadata": {},
   "outputs": [],
   "source": [
    "PC1 = X.dot(pca.components_.T)"
   ]
  },
  {
   "cell_type": "code",
   "execution_count": 17,
   "metadata": {},
   "outputs": [
    {
     "data": {
      "text/plain": [
       "array([[ 35.49124148,   3.27633804,   7.09548962,   1.39282058,\n",
       "          9.86729436],\n",
       "       [ 70.75387009,   9.7085594 ,   7.91193216,   1.59211602,\n",
       "         10.39557399],\n",
       "       [ 55.87881981,   2.79877699,   7.64044185,   1.57298448,\n",
       "         10.39974983],\n",
       "       [ 62.14620931,   3.3491157 ,  10.85634969,   0.21799436,\n",
       "         10.88887765]])"
      ]
     },
     "execution_count": 17,
     "metadata": {},
     "output_type": "execute_result"
    }
   ],
   "source": [
    "PC1[:4]\n",
    "# Получилось что-то не то\n",
    "# потому что X не центрирован (и не отшкалировано)"
   ]
  },
  {
   "cell_type": "code",
   "execution_count": 19,
   "metadata": {},
   "outputs": [],
   "source": [
    "X_ = (X - X.mean(axis=0))"
   ]
  },
  {
   "cell_type": "code",
   "execution_count": 20,
   "metadata": {
    "collapsed": true
   },
   "outputs": [],
   "source": [
    "PC1 = X_.dot(pca.components_.T)"
   ]
  },
  {
   "cell_type": "code",
   "execution_count": 22,
   "metadata": {},
   "outputs": [
    {
     "data": {
      "text/plain": [
       "array([[-13.22490501,  -2.02389981,  -1.12682053,  -0.39923318,\n",
       "         -1.08538902],\n",
       "       [ 22.03772361,   4.40832155,  -0.31037799,  -0.19993774,\n",
       "         -0.55710939],\n",
       "       [  7.16267333,  -2.50146086,  -0.5818683 ,  -0.21906928,\n",
       "         -0.55293355],\n",
       "       [ 13.43006283,  -1.95112215,   2.63403954,  -1.5740594 ,\n",
       "         -0.06380573]])"
      ]
     },
     "execution_count": 22,
     "metadata": {},
     "output_type": "execute_result"
    }
   ],
   "source": [
    "PC[:4]"
   ]
  },
  {
   "cell_type": "code",
   "execution_count": 21,
   "metadata": {},
   "outputs": [
    {
     "data": {
      "text/plain": [
       "array([[-13.22490501,  -2.02389981,  -1.12682053,  -0.39923318,\n",
       "         -1.08538902],\n",
       "       [ 22.03772361,   4.40832155,  -0.31037799,  -0.19993774,\n",
       "         -0.55710939],\n",
       "       [  7.16267333,  -2.50146086,  -0.5818683 ,  -0.21906928,\n",
       "         -0.55293355],\n",
       "       [ 13.43006283,  -1.95112215,   2.63403954,  -1.5740594 ,\n",
       "         -0.06380573]])"
      ]
     },
     "execution_count": 21,
     "metadata": {},
     "output_type": "execute_result"
    }
   ],
   "source": [
    "PC1[:4]"
   ]
  },
  {
   "cell_type": "code",
   "execution_count": 23,
   "metadata": {
    "collapsed": true
   },
   "outputs": [],
   "source": [
    "# Желательно еще и шкалировать признаки\n",
    "X_ = (X - X.mean(axis=0))/X.std(axis=0)"
   ]
  },
  {
   "cell_type": "markdown",
   "metadata": {},
   "source": [
    "## PCA via covariance matrix "
   ]
  },
  {
   "cell_type": "code",
   "execution_count": 53,
   "metadata": {
    "collapsed": true
   },
   "outputs": [],
   "source": [
    "from numpy.linalg import eig"
   ]
  },
  {
   "cell_type": "code",
   "execution_count": 54,
   "metadata": {
    "collapsed": true
   },
   "outputs": [],
   "source": [
    "C = X_.T.dot(X_)\n",
    "# Матрица ковариаций"
   ]
  },
  {
   "cell_type": "code",
   "execution_count": 55,
   "metadata": {},
   "outputs": [],
   "source": [
    "lmbd, A = eig(C)"
   ]
  },
  {
   "cell_type": "code",
   "execution_count": 56,
   "metadata": {},
   "outputs": [
    {
     "data": {
      "text/plain": [
       "(11, 11)"
      ]
     },
     "execution_count": 56,
     "metadata": {},
     "output_type": "execute_result"
    }
   ],
   "source": [
    "A.shape"
   ]
  },
  {
   "cell_type": "code",
   "execution_count": 57,
   "metadata": {},
   "outputs": [
    {
     "data": {
      "text/plain": [
       "(11,)"
      ]
     },
     "execution_count": 57,
     "metadata": {},
     "output_type": "execute_result"
    }
   ],
   "source": [
    "lmbd.shape"
   ]
  },
  {
   "cell_type": "code",
   "execution_count": 58,
   "metadata": {},
   "outputs": [
    {
     "data": {
      "text/plain": [
       "PCA(copy=True, iterated_power='auto', n_components=5, random_state=None,\n",
       "  svd_solver='auto', tol=0.0, whiten=False)"
      ]
     },
     "execution_count": 58,
     "metadata": {},
     "output_type": "execute_result"
    }
   ],
   "source": [
    "pca = PCA(n_components=5)\n",
    "pca.fit(X_)"
   ]
  },
  {
   "cell_type": "code",
   "execution_count": 59,
   "metadata": {},
   "outputs": [
    {
     "data": {
      "text/plain": [
       "array([[ 0.48931422, -0.11050274, -0.12330157, -0.22961737, -0.08261366,\n",
       "        -0.63969145, -0.24952314,  0.19402091, -0.17759545, -0.35022736,\n",
       "         0.10147858],\n",
       "       [-0.23858436,  0.27493048, -0.44996253,  0.07895978,  0.21873452,\n",
       "        -0.0023886 ,  0.36592473, -0.1291103 , -0.07877531, -0.5337351 ,\n",
       "         0.41144893],\n",
       "       [ 0.46363166, -0.15179136,  0.23824707, -0.07941826, -0.05857268,\n",
       "         0.0709103 ,  0.62167708, -0.38144967, -0.37751558,  0.10549701,\n",
       "         0.06959338],\n",
       "       [ 0.14610715,  0.27208024,  0.10128338, -0.37279256,  0.73214429,\n",
       "        -0.18402996,  0.09287208,  0.00752295,  0.29984469,  0.29066341,\n",
       "         0.04915555]])"
      ]
     },
     "execution_count": 59,
     "metadata": {},
     "output_type": "execute_result"
    }
   ],
   "source": [
    "A[:4] # c точностью до транспонирования."
   ]
  },
  {
   "cell_type": "code",
   "execution_count": 60,
   "metadata": {},
   "outputs": [
    {
     "data": {
      "text/plain": [
       "array([[ 0.48931422, -0.23858436,  0.46363166,  0.14610715,  0.21224658,\n",
       "        -0.03615752,  0.02357485,  0.39535301, -0.43851962,  0.24292133,\n",
       "        -0.11323206],\n",
       "       [-0.11050274,  0.27493048, -0.15179136,  0.27208024,  0.14805156,\n",
       "         0.51356681,  0.56948696,  0.23357549,  0.00671079, -0.03755392,\n",
       "        -0.38618096],\n",
       "       [-0.12330157, -0.44996253,  0.23824707,  0.10128338, -0.09261383,\n",
       "         0.42879287,  0.3224145 , -0.33887135,  0.05769735,  0.27978615,\n",
       "         0.47167322],\n",
       "       [-0.22961737,  0.07895978, -0.07941826, -0.37279256,  0.66619476,\n",
       "        -0.04353782, -0.03457712, -0.17449976, -0.00378775,  0.55087236,\n",
       "        -0.12218109]])"
      ]
     },
     "execution_count": 60,
     "metadata": {},
     "output_type": "execute_result"
    }
   ],
   "source": [
    "pca.components_[:4]"
   ]
  },
  {
   "cell_type": "code",
   "execution_count": 61,
   "metadata": {
    "collapsed": true
   },
   "outputs": [],
   "source": [
    "A = A[:,:5].T"
   ]
  },
  {
   "cell_type": "code",
   "execution_count": 62,
   "metadata": {},
   "outputs": [
    {
     "data": {
      "text/plain": [
       "array([[ 0.48931422, -0.23858436,  0.46363166,  0.14610715,  0.21224658,\n",
       "        -0.03615752,  0.02357485,  0.39535301, -0.43851962,  0.24292133,\n",
       "        -0.11323206],\n",
       "       [-0.11050274,  0.27493048, -0.15179136,  0.27208024,  0.14805156,\n",
       "         0.51356681,  0.56948696,  0.23357549,  0.00671079, -0.03755392,\n",
       "        -0.38618096],\n",
       "       [-0.12330157, -0.44996253,  0.23824707,  0.10128338, -0.09261383,\n",
       "         0.42879287,  0.3224145 , -0.33887135,  0.05769735,  0.27978615,\n",
       "         0.47167322],\n",
       "       [-0.22961737,  0.07895978, -0.07941826, -0.37279256,  0.66619476,\n",
       "        -0.04353782, -0.03457712, -0.17449976, -0.00378775,  0.55087236,\n",
       "        -0.12218109]])"
      ]
     },
     "execution_count": 62,
     "metadata": {},
     "output_type": "execute_result"
    }
   ],
   "source": [
    "pca.components_[:4]"
   ]
  },
  {
   "cell_type": "code",
   "execution_count": 63,
   "metadata": {},
   "outputs": [
    {
     "data": {
      "text/plain": [
       "(5, 11)"
      ]
     },
     "execution_count": 63,
     "metadata": {},
     "output_type": "execute_result"
    }
   ],
   "source": [
    "pca.components_.shape"
   ]
  },
  {
   "cell_type": "code",
   "execution_count": 64,
   "metadata": {},
   "outputs": [
    {
     "data": {
      "text/plain": [
       "(5, 11)"
      ]
     },
     "execution_count": 64,
     "metadata": {},
     "output_type": "execute_result"
    }
   ],
   "source": [
    "A.shape"
   ]
  },
  {
   "cell_type": "code",
   "execution_count": 65,
   "metadata": {},
   "outputs": [
    {
     "data": {
      "text/plain": [
       "array([[ 0.48931422, -0.23858436,  0.46363166,  0.14610715,  0.21224658,\n",
       "        -0.03615752,  0.02357485,  0.39535301, -0.43851962,  0.24292133,\n",
       "        -0.11323206],\n",
       "       [-0.11050274,  0.27493048, -0.15179136,  0.27208024,  0.14805156,\n",
       "         0.51356681,  0.56948696,  0.23357549,  0.00671079, -0.03755392,\n",
       "        -0.38618096],\n",
       "       [-0.12330157, -0.44996253,  0.23824707,  0.10128338, -0.09261383,\n",
       "         0.42879287,  0.3224145 , -0.33887135,  0.05769735,  0.27978615,\n",
       "         0.47167322],\n",
       "       [-0.22961737,  0.07895978, -0.07941826, -0.37279256,  0.66619476,\n",
       "        -0.04353782, -0.03457712, -0.17449976, -0.00378775,  0.55087236,\n",
       "        -0.12218109]])"
      ]
     },
     "execution_count": 65,
     "metadata": {},
     "output_type": "execute_result"
    }
   ],
   "source": [
    "A[:4]"
   ]
  },
  {
   "cell_type": "code",
   "execution_count": 66,
   "metadata": {},
   "outputs": [],
   "source": [
    "PC_eig = X_.dot(A.T)\n",
    "PC = pca.transform(X_)"
   ]
  },
  {
   "cell_type": "code",
   "execution_count": 67,
   "metadata": {},
   "outputs": [
    {
     "data": {
      "text/plain": [
       "array([[-1.61952988,  0.45095009, -1.77445415,  0.04374031,  0.06701448],\n",
       "       [-0.79916993,  1.85655306, -0.91169017,  0.54806597, -0.01839156],\n",
       "       [-0.74847909,  0.88203886, -1.17139423,  0.41102067, -0.04353101],\n",
       "       [ 2.35767263, -0.26997601,  0.2434887 , -0.92844998, -1.49914907]])"
      ]
     },
     "execution_count": 67,
     "metadata": {},
     "output_type": "execute_result"
    }
   ],
   "source": [
    "PC_eig[:4]"
   ]
  },
  {
   "cell_type": "code",
   "execution_count": 68,
   "metadata": {},
   "outputs": [
    {
     "data": {
      "text/plain": [
       "array([[-1.61952988,  0.45095009, -1.77445415,  0.04374031,  0.06701448],\n",
       "       [-0.79916993,  1.85655306, -0.91169017,  0.54806597, -0.01839156],\n",
       "       [-0.74847909,  0.88203886, -1.17139423,  0.41102067, -0.04353101],\n",
       "       [ 2.35767263, -0.26997601,  0.2434887 , -0.92844998, -1.49914907]])"
      ]
     },
     "execution_count": 68,
     "metadata": {},
     "output_type": "execute_result"
    }
   ],
   "source": [
    "PC[:4]"
   ]
  },
  {
   "cell_type": "code",
   "execution_count": 69,
   "metadata": {
    "collapsed": true
   },
   "outputs": [],
   "source": [
    "# вроде совпало"
   ]
  },
  {
   "cell_type": "code",
   "execution_count": 71,
   "metadata": {},
   "outputs": [
    {
     "data": {
      "text/plain": [
       "array([ 0.28173931,  0.1750827 ,  0.1409585 ,  0.11029387,  0.08720837])"
      ]
     },
     "execution_count": 71,
     "metadata": {},
     "output_type": "execute_result"
    }
   ],
   "source": [
    "pca.explained_variance_ratio_ # относительный\n",
    "# вклад каждой компоненты"
   ]
  },
  {
   "cell_type": "code",
   "execution_count": 74,
   "metadata": {},
   "outputs": [
    {
     "data": {
      "text/plain": [
       "array([ 0.28173931,  0.1750827 ,  0.1409585 ,  0.11029387,  0.08720837,\n",
       "        0.00541439,  0.01648483,  0.0313311 ,  0.03845061,  0.05307193,\n",
       "        0.05996439])"
      ]
     },
     "execution_count": 74,
     "metadata": {},
     "output_type": "execute_result"
    }
   ],
   "source": [
    "expl_rat = lmbd/lmbd.sum()\n",
    "expl_rat"
   ]
  },
  {
   "cell_type": "code",
   "execution_count": 75,
   "metadata": {},
   "outputs": [
    {
     "data": {
      "text/plain": [
       "array([ 0.28173931,  0.45682201,  0.59778051,  0.70807438,  0.79528275,\n",
       "        0.80069714,  0.81718197,  0.84851307,  0.88696368,  0.94003561,  1.        ])"
      ]
     },
     "execution_count": 75,
     "metadata": {},
     "output_type": "execute_result"
    }
   ],
   "source": [
    "np.cumsum(expl_rat)"
   ]
  },
  {
   "cell_type": "markdown",
   "metadata": {},
   "source": [
    "## PCA via SVD"
   ]
  },
  {
   "cell_type": "markdown",
   "metadata": {
    "slideshow": {
     "slide_type": "subslide"
    }
   },
   "source": [
    "## Singular Value Decomposition\n",
    "\n",
    "Each matrix $X$ of size $n \\times m$ and rank $r$ can be decomposed as:\n",
    "$$ X = U S V^\\top ,$$\n",
    "where \n",
    "* $U$ - unary matrix, consists of eigenvectors of $XX^\\top$\n",
    "* $V$ - unary matrix, consists of eigenvectors of $X^\\top X$\n",
    "* $S$ - diagonal matrix with singular values $s_i = \\sqrt{\\lambda_i}$"
   ]
  },
  {
   "cell_type": "markdown",
   "metadata": {},
   "source": [
    "<img src='img/pca_svd.png'>"
   ]
  },
  {
   "cell_type": "code",
   "execution_count": 76,
   "metadata": {
    "collapsed": true
   },
   "outputs": [],
   "source": [
    "from numpy.linalg import svd"
   ]
  },
  {
   "cell_type": "code",
   "execution_count": 77,
   "metadata": {
    "collapsed": true
   },
   "outputs": [],
   "source": [
    "U, S, V_T = svd(X_, full_matrices=0)"
   ]
  },
  {
   "cell_type": "code",
   "execution_count": 78,
   "metadata": {},
   "outputs": [
    {
     "data": {
      "text/plain": [
       "(1599, 11)"
      ]
     },
     "execution_count": 78,
     "metadata": {},
     "output_type": "execute_result"
    }
   ],
   "source": [
    "U.shape"
   ]
  },
  {
   "cell_type": "code",
   "execution_count": 79,
   "metadata": {},
   "outputs": [
    {
     "data": {
      "text/plain": [
       "(11,)"
      ]
     },
     "execution_count": 79,
     "metadata": {},
     "output_type": "execute_result"
    }
   ],
   "source": [
    "S.shape"
   ]
  },
  {
   "cell_type": "code",
   "execution_count": 80,
   "metadata": {},
   "outputs": [
    {
     "data": {
      "text/plain": [
       "(11, 11)"
      ]
     },
     "execution_count": 80,
     "metadata": {},
     "output_type": "execute_result"
    }
   ],
   "source": [
    "V_T.shape"
   ]
  },
  {
   "cell_type": "code",
   "execution_count": 82,
   "metadata": {},
   "outputs": [
    {
     "data": {
      "text/plain": [
       "array([[ 0.48931422, -0.23858436,  0.46363166,  0.14610715,  0.21224658,\n",
       "        -0.03615752,  0.02357485,  0.39535301, -0.43851962,  0.24292133,\n",
       "        -0.11323206],\n",
       "       [-0.11050274,  0.27493048, -0.15179136,  0.27208024,  0.14805156,\n",
       "         0.51356681,  0.56948696,  0.23357549,  0.00671079, -0.03755392,\n",
       "        -0.38618096],\n",
       "       [ 0.12330157,  0.44996253, -0.23824707, -0.10128338,  0.09261383,\n",
       "        -0.42879287, -0.3224145 ,  0.33887135, -0.05769735, -0.27978615,\n",
       "        -0.47167322],\n",
       "       [-0.22961737,  0.07895978, -0.07941826, -0.37279256,  0.66619476,\n",
       "        -0.04353782, -0.03457712, -0.17449976, -0.00378775,  0.55087236,\n",
       "        -0.12218109]])"
      ]
     },
     "execution_count": 82,
     "metadata": {},
     "output_type": "execute_result"
    }
   ],
   "source": [
    "V_T[:4]"
   ]
  },
  {
   "cell_type": "code",
   "execution_count": 89,
   "metadata": {
    "collapsed": true
   },
   "outputs": [],
   "source": [
    "V = V_T.T"
   ]
  },
  {
   "cell_type": "code",
   "execution_count": 91,
   "metadata": {},
   "outputs": [
    {
     "data": {
      "text/plain": [
       "array([[-1.61952988,  0.45095009,  1.77445415,  0.04374031, -0.06701448],\n",
       "       [-0.79916993,  1.85655306,  0.91169017,  0.54806597,  0.01839156],\n",
       "       [-0.74847909,  0.88203886,  1.17139423,  0.41102067,  0.04353101],\n",
       "       ..., \n",
       "       [-1.45612897,  0.31174559, -1.12423941,  0.49187676, -0.19371564],\n",
       "       [-2.27051793,  0.97979111, -0.62796456,  0.63977007, -0.06773549],\n",
       "       [-0.42697475, -0.53669021, -1.6289552 , -0.39171595, -0.45048209]])"
      ]
     },
     "execution_count": 91,
     "metadata": {},
     "output_type": "execute_result"
    }
   ],
   "source": [
    "X_.dot(V[:,:5])"
   ]
  },
  {
   "cell_type": "code",
   "execution_count": 85,
   "metadata": {},
   "outputs": [
    {
     "data": {
      "text/plain": [
       "array([[-1.61952988,  0.45095009, -1.77445415,  0.04374031,  0.06701448],\n",
       "       [-0.79916993,  1.85655306, -0.91169017,  0.54806597, -0.01839156],\n",
       "       [-0.74847909,  0.88203886, -1.17139423,  0.41102067, -0.04353101],\n",
       "       [ 2.35767263, -0.26997601,  0.2434887 , -0.92844998, -1.49914907]])"
      ]
     },
     "execution_count": 85,
     "metadata": {},
     "output_type": "execute_result"
    }
   ],
   "source": [
    "PC[:4]"
   ]
  },
  {
   "cell_type": "code",
   "execution_count": 81,
   "metadata": {},
   "outputs": [
    {
     "data": {
      "text/plain": [
       "array([[ 0.48931422, -0.23858436,  0.46363166,  0.14610715,  0.21224658,\n",
       "        -0.03615752,  0.02357485,  0.39535301, -0.43851962,  0.24292133,\n",
       "        -0.11323206],\n",
       "       [-0.11050274,  0.27493048, -0.15179136,  0.27208024,  0.14805156,\n",
       "         0.51356681,  0.56948696,  0.23357549,  0.00671079, -0.03755392,\n",
       "        -0.38618096],\n",
       "       [-0.12330157, -0.44996253,  0.23824707,  0.10128338, -0.09261383,\n",
       "         0.42879287,  0.3224145 , -0.33887135,  0.05769735,  0.27978615,\n",
       "         0.47167322],\n",
       "       [-0.22961737,  0.07895978, -0.07941826, -0.37279256,  0.66619476,\n",
       "        -0.04353782, -0.03457712, -0.17449976, -0.00378775,  0.55087236,\n",
       "        -0.12218109]])"
      ]
     },
     "execution_count": 81,
     "metadata": {},
     "output_type": "execute_result"
    }
   ],
   "source": [
    "A[:4]"
   ]
  },
  {
   "cell_type": "markdown",
   "metadata": {},
   "source": [
    "# Quality and number of components\n",
    "\n",
    "Build 2 pipelines:\n",
    "    * StandartScaler + LogisticRegression\n",
    "    * StandartScaler + PCA + LogisticRegression\n",
    "\n",
    "Investigate accuracy of the second pipeline w.r.t. number of components in PCA. Compare it with the first pipeline."
   ]
  },
  {
   "cell_type": "code",
   "execution_count": 93,
   "metadata": {
    "collapsed": true
   },
   "outputs": [],
   "source": [
    "from sklearn.linear_model import LogisticRegression\n",
    "from sklearn.pipeline import Pipeline\n",
    "from sklearn.preprocessing import StandardScaler\n",
    "from sklearn.model_selection import StratifiedKFold, cross_val_score"
   ]
  },
  {
   "cell_type": "code",
   "execution_count": 94,
   "metadata": {
    "collapsed": true
   },
   "outputs": [],
   "source": [
    "model1 = Pipeline([\n",
    "    ('scaler', StandardScaler()),\n",
    "    ('clf', LogisticRegression())\n",
    "])\n",
    "\n",
    "model2 = Pipeline([\n",
    "    ('scaler', StandardScaler()),\n",
    "    ('pca', PCA()),\n",
    "    ('clf', LogisticRegression())\n",
    "])\n"
   ]
  },
  {
   "cell_type": "code",
   "execution_count": 95,
   "metadata": {
    "collapsed": true
   },
   "outputs": [],
   "source": [
    "cv = StratifiedKFold(n_splits=5, random_state=123, shuffle=True)"
   ]
  },
  {
   "cell_type": "code",
   "execution_count": 99,
   "metadata": {
    "collapsed": true
   },
   "outputs": [],
   "source": [
    "base_score = cross_val_score(model1, X, y, cv=cv, \n",
    "                             scoring='accuracy').mean()"
   ]
  },
  {
   "cell_type": "code",
   "execution_count": 100,
   "metadata": {},
   "outputs": [
    {
     "data": {
      "text/plain": [
       "0.74546434169278997"
      ]
     },
     "execution_count": 100,
     "metadata": {},
     "output_type": "execute_result"
    }
   ],
   "source": [
    "base_score"
   ]
  },
  {
   "cell_type": "code",
   "execution_count": 103,
   "metadata": {
    "collapsed": true
   },
   "outputs": [],
   "source": [
    "n_comp = range(1, 12)\n",
    "scores = list()\n",
    "\n",
    "for k in n_comp:\n",
    "    model2 = Pipeline([\n",
    "    ('scaler', StandardScaler()),\n",
    "    ('pca', PCA(n_components=k)),\n",
    "    ('clf', LogisticRegression())\n",
    "    ])\n",
    "\n",
    "    scores.append(\\\n",
    "    cross_val_score(model2, X, y, cv=cv,\n",
    "                    scoring='accuracy').mean()\n",
    "                 )"
   ]
  },
  {
   "cell_type": "code",
   "execution_count": 106,
   "metadata": {},
   "outputs": [
    {
     "data": {
      "text/plain": [
       "<matplotlib.legend.Legend at 0x1a20716b50>"
      ]
     },
     "execution_count": 106,
     "metadata": {},
     "output_type": "execute_result"
    },
    {
     "data": {
      "image/png": "[encoded data removed]",
      "text/plain": [
       "<matplotlib.figure.Figure at 0x1a20445750>"
      ]
     },
     "metadata": {},
     "output_type": "display_data"
    }
   ],
   "source": [
    "plt.plot(n_comp, scores, label='pca components')\n",
    "plt.hlines(base_score, n_comp[0], n_comp[-1], label='base score')\n",
    "plt.legend()"
   ]
  },
  {
   "cell_type": "markdown",
   "metadata": {},
   "source": [
    "# t-SNE and Digits"
   ]
  },
  {
   "cell_type": "code",
   "execution_count": null,
   "metadata": {
    "collapsed": true
   },
   "outputs": [],
   "source": [
    "from sklearn.manifold import TSNE\n",
    "from sklearn.datasets import load_digits"
   ]
  },
  {
   "cell_type": "markdown",
   "metadata": {},
   "source": [
    "Run T-SNE on digits data. Investigate the incluence of `perplexity` parameter."
   ]
  },
  {
   "cell_type": "code",
   "execution_count": null,
   "metadata": {
    "collapsed": true
   },
   "outputs": [],
   "source": []
  }
 ],
 "metadata": {
  "anaconda-cloud": {},
  "kernelspec": {
   "display_name": "Python [conda root]",
   "language": "python",
   "name": "conda-root-py"
  },
  "language_info": {
   "codemirror_mode": {
    "name": "ipython",
    "version": 2
   },
   "file_extension": ".py",
   "mimetype": "text/x-python",
   "name": "python",
   "nbconvert_exporter": "python",
   "pygments_lexer": "ipython2",
   "version": "2.7.14"
  },
  "nav_menu": {},
  "toc": {
   "colors": {
    "hover_highlight": "#DAA520",
    "navigate_num": "#000000",
    "navigate_text": "#333333",
    "running_highlight": "#FF0000",
    "selected_highlight": "#FFD700",
    "sidebar_border": "#EEEEEE",
    "wrapper_background": "#FFFFFF"
   },
   "moveMenuLeft": true,
   "nav_menu": {
    "height": "216px",
    "width": "252px"
   },
   "navigate_menu": true,
   "number_sections": false,
   "sideBar": true,
   "threshold": 4,
   "toc_cell": false,
   "toc_section_display": "block",
   "toc_window_display": true,
   "widenNotebook": false
  }
 },
 "nbformat": 4,
 "nbformat_minor": 1
}
