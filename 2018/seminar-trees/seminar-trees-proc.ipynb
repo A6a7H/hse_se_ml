{
 "cells": [
  {
   "cell_type": "markdown",
   "metadata": {},
   "source": [
    "<center><img src=\"img/logo_hse_black.jpg\"></center>\n",
    "\n",
    "<h1><center>Data Analysis</center></h1>\n",
    "<h2><center>Seminar: Decision trees</center></h2>"
   ]
  },
  {
   "cell_type": "code",
   "execution_count": 1,
   "metadata": {
    "collapsed": true
   },
   "outputs": [],
   "source": [
    "import pandas as pd\n",
    "import numpy as np\n",
    "import matplotlib.pyplot as plt\n",
    "\n",
    "%matplotlib inline\n",
    "\n",
    "plt.style.use('ggplot')\n",
    "plt.rcParams['figure.figsize'] = (12,8)"
   ]
  },
  {
   "cell_type": "markdown",
   "metadata": {},
   "source": [
    "# First of all..\n",
    "Let's finish previous seminar super fast!"
   ]
  },
  {
   "cell_type": "markdown",
   "metadata": {},
   "source": [
    "# Now, Decision Trees!"
   ]
  },
  {
   "cell_type": "markdown",
   "metadata": {},
   "source": [
    "## Imputiry functions\n",
    "\n",
    "* Lets recall main imputiry functions for classification"
   ]
  },
  {
   "cell_type": "code",
   "execution_count": 2,
   "metadata": {},
   "outputs": [
    {
     "data": {
      "text/plain": [
       "14"
      ]
     },
     "execution_count": 2,
     "metadata": {},
     "output_type": "execute_result"
    }
   ],
   "source": [
    "np.random.randint(1,25)"
   ]
  },
  {
   "cell_type": "markdown",
   "metadata": {},
   "source": [
    "* Considering wine dataset from the intoductory seminar\\assignment implement\n",
    "    * impurity function (pick whichever you like)\n",
    "    * gain calculation"
   ]
  },
  {
   "cell_type": "code",
   "execution_count": 3,
   "metadata": {
    "collapsed": true
   },
   "outputs": [],
   "source": [
    "def impurity_measure(p):\n",
    "    '''\n",
    "    function outputs a value of impurity function given an array with classes probabilities\n",
    "    \n",
    "    p: numpy array with classes probabilities\n",
    "    '''\n",
    "    \n",
    "    impurity = 1 - p.max()\n",
    "    \n",
    "    return impurity\n",
    "\n",
    "def wine_demo():\n",
    "    # Data\n",
    "    df_wine = pd.read_csv('https://archive.ics.uci.edu/ml/machine-learning-databases/wine-quality/winequality-red.csv', sep=';')\n",
    "\n",
    "    # Drawing\n",
    "    fig, ax = plt.subplots(1, 2)\n",
    "\n",
    "    fig.set_figheight(5)\n",
    "\n",
    "    # Change to classification\n",
    "    df_wine.loc[:, 'quality_cat'] = (df_wine.loc[:, 'quality'] > 5).astype(int) \n",
    "    idx = df_wine.loc[:, 'quality_cat'] == 1\n",
    "    df_wine.loc[idx, 'alcohol'].hist(label='good quality', bins=20, alpha = 0.4, ax=ax[0])\n",
    "    df_wine.loc[~idx, 'alcohol'].hist(label='bad quality', bins=20, alpha = 0.4, ax=ax[0])\n",
    "    ax[0].set_xlabel('alcohol')\n",
    "    \n",
    "    # \n",
    "    p = np.array([df_wine.quality_cat.mean(), 1-df_wine.quality_cat.mean()])\n",
    "    n = df_wine.shape[0] * 1.0\n",
    "\n",
    "    init_impurity = impurity_measure(p)\n",
    "    \n",
    "    # Raw threshold search\n",
    "    t_range = np.linspace(df_wine.alcohol.min(), df_wine.alcohol.max(), 100)\n",
    "\n",
    "    # G is a list with Gains for each threshold\n",
    "    G = []\n",
    "\n",
    "    for t in t_range:\n",
    "        idx = df_wine.alcohol < t\n",
    "        n1 = idx.sum()\n",
    "        n2 = (~idx).sum()\n",
    "        p1 = np.array([df_wine.loc[idx, 'quality_cat'].mean(), 1-df_wine.loc[idx, 'quality_cat'].mean()])\n",
    "        p2 = np.array([df_wine.loc[~idx, 'quality_cat'].mean(), 1-df_wine.loc[~idx, 'quality_cat'].mean()])\n",
    "        \n",
    "        current_gain = init_impurity - ((n1/n) * impurity_measure(p1) + (n2/n) * impurity_measure(p2))\n",
    "        G.append(current_gain)\n",
    "        \n",
    "\n",
    "    ax[1].plot(t_range, G)\n",
    "    ax[1].set_xlabel('alcohol')\n",
    "    ax[1].set_ylabel('Gain')\n",
    "\n",
    "    mG = np.nanmax(G)\n",
    "    mt = t_range[np.nanargmax(G)]\n",
    "\n",
    "    ax[0].vlines(mt, 0, 150, label='best threshold (%.2f)' % mt)\n",
    "    ax[1].vlines(mt, 0, mG, label='best threshold\\n(gain = %.4f)' % mG)\n",
    "    \n",
    "    ax[0].legend()\n",
    "    ax[1].legend()"
   ]
  },
  {
   "cell_type": "code",
   "execution_count": 4,
   "metadata": {},
   "outputs": [
    {
     "data": {
      "image/png": "[encoded data removed]",
      "text/plain": [
       "<matplotlib.figure.Figure at 0x111d92410>"
      ]
     },
     "metadata": {},
     "output_type": "display_data"
    }
   ],
   "source": [
    "wine_demo()"
   ]
  },
  {
   "cell_type": "markdown",
   "metadata": {},
   "source": [
    "# Some data"
   ]
  },
  {
   "cell_type": "code",
   "execution_count": 5,
   "metadata": {
    "collapsed": true
   },
   "outputs": [],
   "source": [
    "from sklearn.tree import DecisionTreeClassifier\n",
    "from sklearn.tree import export_graphviz\n",
    "import subprocess"
   ]
  },
  {
   "cell_type": "markdown",
   "metadata": {},
   "source": [
    "* Load titanic [dataset](https://cloud.mail.ru/public/N1Tn/25zEKkqge)"
   ]
  },
  {
   "cell_type": "raw",
   "metadata": {},
   "source": [
    "VARIABLE DESCRIPTIONS:\n",
    "survival        Survival\n",
    "                (0 = No; 1 = Yes)\n",
    "pclass          Passenger Class\n",
    "                (1 = 1st; 2 = 2nd; 3 = 3rd)\n",
    "name            Name\n",
    "sex             Sex\n",
    "age             Age\n",
    "sibsp           Number of Siblings/Spouses Aboard\n",
    "parch           Number of Parents/Children Aboard\n",
    "ticket          Ticket Number\n",
    "fare            Passenger Fare\n",
    "cabin           Cabin\n",
    "embarked        Port of Embarkation\n",
    "                (C = Cherbourg; Q = Queenstown; S = Southampton)\n",
    "\n",
    "SPECIAL NOTES:\n",
    "Pclass is a proxy for socio-economic status (SES)\n",
    " 1st ~ Upper; 2nd ~ Middle; 3rd ~ Lower\n",
    "\n",
    "Age is in Years; Fractional if Age less than One (1)\n",
    " If the Age is Estimated, it is in the form xx.5"
   ]
  },
  {
   "cell_type": "code",
   "execution_count": 6,
   "metadata": {
    "collapsed": true
   },
   "outputs": [],
   "source": [
    "df = pd.read_csv('titanic.csv')"
   ]
  },
  {
   "cell_type": "code",
   "execution_count": 7,
   "metadata": {},
   "outputs": [
    {
     "data": {
      "text/html": [
       "<div>\n",
       "<style>\n",
       "    .dataframe thead tr:only-child th {\n",
       "        text-align: right;\n",
       "    }\n",
       "\n",
       "    .dataframe thead th {\n",
       "        text-align: left;\n",
       "    }\n",
       "\n",
       "    .dataframe tbody tr th {\n",
       "        vertical-align: top;\n",
       "    }\n",
       "</style>\n",
       "<table border=\"1\" class=\"dataframe\">\n",
       "  <thead>\n",
       "    <tr style=\"text-align: right;\">\n",
       "      <th></th>\n",
       "      <th>PassengerId</th>\n",
       "      <th>Survived</th>\n",
       "      <th>Pclass</th>\n",
       "      <th>Name</th>\n",
       "      <th>Sex</th>\n",
       "      <th>Age</th>\n",
       "      <th>SibSp</th>\n",
       "      <th>Parch</th>\n",
       "      <th>Ticket</th>\n",
       "      <th>Fare</th>\n",
       "      <th>Cabin</th>\n",
       "      <th>Embarked</th>\n",
       "    </tr>\n",
       "  </thead>\n",
       "  <tbody>\n",
       "    <tr>\n",
       "      <th>0</th>\n",
       "      <td>1</td>\n",
       "      <td>0</td>\n",
       "      <td>3</td>\n",
       "      <td>Braund, Mr. Owen Harris</td>\n",
       "      <td>male</td>\n",
       "      <td>22.0</td>\n",
       "      <td>1</td>\n",
       "      <td>0</td>\n",
       "      <td>A/5 21171</td>\n",
       "      <td>7.2500</td>\n",
       "      <td>NaN</td>\n",
       "      <td>S</td>\n",
       "    </tr>\n",
       "    <tr>\n",
       "      <th>1</th>\n",
       "      <td>2</td>\n",
       "      <td>1</td>\n",
       "      <td>1</td>\n",
       "      <td>Cumings, Mrs. John Bradley (Florence Briggs Th...</td>\n",
       "      <td>female</td>\n",
       "      <td>38.0</td>\n",
       "      <td>1</td>\n",
       "      <td>0</td>\n",
       "      <td>PC 17599</td>\n",
       "      <td>71.2833</td>\n",
       "      <td>C85</td>\n",
       "      <td>C</td>\n",
       "    </tr>\n",
       "    <tr>\n",
       "      <th>2</th>\n",
       "      <td>3</td>\n",
       "      <td>1</td>\n",
       "      <td>3</td>\n",
       "      <td>Heikkinen, Miss. Laina</td>\n",
       "      <td>female</td>\n",
       "      <td>26.0</td>\n",
       "      <td>0</td>\n",
       "      <td>0</td>\n",
       "      <td>STON/O2. 3101282</td>\n",
       "      <td>7.9250</td>\n",
       "      <td>NaN</td>\n",
       "      <td>S</td>\n",
       "    </tr>\n",
       "    <tr>\n",
       "      <th>3</th>\n",
       "      <td>4</td>\n",
       "      <td>1</td>\n",
       "      <td>1</td>\n",
       "      <td>Futrelle, Mrs. Jacques Heath (Lily May Peel)</td>\n",
       "      <td>female</td>\n",
       "      <td>35.0</td>\n",
       "      <td>1</td>\n",
       "      <td>0</td>\n",
       "      <td>113803</td>\n",
       "      <td>53.1000</td>\n",
       "      <td>C123</td>\n",
       "      <td>S</td>\n",
       "    </tr>\n",
       "    <tr>\n",
       "      <th>4</th>\n",
       "      <td>5</td>\n",
       "      <td>0</td>\n",
       "      <td>3</td>\n",
       "      <td>Allen, Mr. William Henry</td>\n",
       "      <td>male</td>\n",
       "      <td>35.0</td>\n",
       "      <td>0</td>\n",
       "      <td>0</td>\n",
       "      <td>373450</td>\n",
       "      <td>8.0500</td>\n",
       "      <td>NaN</td>\n",
       "      <td>S</td>\n",
       "    </tr>\n",
       "  </tbody>\n",
       "</table>\n",
       "</div>"
      ],
      "text/plain": [
       "   PassengerId  Survived  Pclass  \\\n",
       "0            1         0       3   \n",
       "1            2         1       1   \n",
       "2            3         1       3   \n",
       "3            4         1       1   \n",
       "4            5         0       3   \n",
       "\n",
       "                                                Name     Sex   Age  SibSp  \\\n",
       "0                            Braund, Mr. Owen Harris    male  22.0      1   \n",
       "1  Cumings, Mrs. John Bradley (Florence Briggs Th...  female  38.0      1   \n",
       "2                             Heikkinen, Miss. Laina  female  26.0      0   \n",
       "3       Futrelle, Mrs. Jacques Heath (Lily May Peel)  female  35.0      1   \n",
       "4                           Allen, Mr. William Henry    male  35.0      0   \n",
       "\n",
       "   Parch            Ticket     Fare Cabin Embarked  \n",
       "0      0         A/5 21171   7.2500   NaN        S  \n",
       "1      0          PC 17599  71.2833   C85        C  \n",
       "2      0  STON/O2. 3101282   7.9250   NaN        S  \n",
       "3      0            113803  53.1000  C123        S  \n",
       "4      0            373450   8.0500   NaN        S  "
      ]
     },
     "execution_count": 7,
     "metadata": {},
     "output_type": "execute_result"
    }
   ],
   "source": [
    "df.head()"
   ]
  },
  {
   "cell_type": "code",
   "execution_count": 8,
   "metadata": {},
   "outputs": [
    {
     "data": {
      "text/plain": [
       "PassengerId      0\n",
       "Survived         0\n",
       "Pclass           0\n",
       "Name             0\n",
       "Sex              0\n",
       "Age            177\n",
       "SibSp            0\n",
       "Parch            0\n",
       "Ticket           0\n",
       "Fare             0\n",
       "Cabin          687\n",
       "Embarked         2\n",
       "dtype: int64"
      ]
     },
     "execution_count": 8,
     "metadata": {},
     "output_type": "execute_result"
    }
   ],
   "source": [
    "df.isnull().sum()"
   ]
  },
  {
   "cell_type": "markdown",
   "metadata": {},
   "source": [
    "* Analyse features and target variable\n",
    "    * Type of features\n",
    "    * Any missing values?\n",
    "    * Class proportions"
   ]
  },
  {
   "cell_type": "code",
   "execution_count": 9,
   "metadata": {},
   "outputs": [
    {
     "data": {
      "text/plain": [
       "0    549\n",
       "1    342\n",
       "Name: Survived, dtype: int64"
      ]
     },
     "execution_count": 9,
     "metadata": {},
     "output_type": "execute_result"
    }
   ],
   "source": [
    "df.Survived.value_counts()"
   ]
  },
  {
   "cell_type": "markdown",
   "metadata": {},
   "source": [
    "* Preprocess dataset\n",
    "    * remove useless features\n",
    "    * do something with missing values\n",
    "    * do something with categorical features\n",
    "    * split into train\\test in proportion 80/20"
   ]
  },
  {
   "cell_type": "code",
   "execution_count": 10,
   "metadata": {
    "collapsed": true
   },
   "outputs": [],
   "source": [
    "def preproc_dataset(df_input):\n",
    "    cols_2_drop = ['PassengerId', 'Ticket', 'Cabin', 'Name']\n",
    "    df_input = df_input.drop(cols_2_drop, axis=1)\n",
    "    \n",
    "    df_input.loc[:, 'Age'] = df_input.Age.fillna(-999)\n",
    "    df_input.loc[:, 'Sex'] = df_input.Sex.replace({'male': 0, 'female': 1})\n",
    "    \n",
    "    df_input = df_input.dropna()\n",
    "    \n",
    "    df_input = pd.get_dummies(df_input, columns=['Embarked'], prefix_sep='=')\n",
    "    \n",
    "    return df_input"
   ]
  },
  {
   "cell_type": "code",
   "execution_count": 11,
   "metadata": {
    "collapsed": true
   },
   "outputs": [],
   "source": [
    "df_input = df.pipe(preproc_dataset)"
   ]
  },
  {
   "cell_type": "code",
   "execution_count": 12,
   "metadata": {},
   "outputs": [
    {
     "data": {
      "text/html": [
       "<div>\n",
       "<style>\n",
       "    .dataframe thead tr:only-child th {\n",
       "        text-align: right;\n",
       "    }\n",
       "\n",
       "    .dataframe thead th {\n",
       "        text-align: left;\n",
       "    }\n",
       "\n",
       "    .dataframe tbody tr th {\n",
       "        vertical-align: top;\n",
       "    }\n",
       "</style>\n",
       "<table border=\"1\" class=\"dataframe\">\n",
       "  <thead>\n",
       "    <tr style=\"text-align: right;\">\n",
       "      <th></th>\n",
       "      <th>Survived</th>\n",
       "      <th>Pclass</th>\n",
       "      <th>Sex</th>\n",
       "      <th>Age</th>\n",
       "      <th>SibSp</th>\n",
       "      <th>Parch</th>\n",
       "      <th>Fare</th>\n",
       "      <th>Embarked=C</th>\n",
       "      <th>Embarked=Q</th>\n",
       "      <th>Embarked=S</th>\n",
       "    </tr>\n",
       "  </thead>\n",
       "  <tbody>\n",
       "    <tr>\n",
       "      <th>0</th>\n",
       "      <td>0</td>\n",
       "      <td>3</td>\n",
       "      <td>0</td>\n",
       "      <td>22.0</td>\n",
       "      <td>1</td>\n",
       "      <td>0</td>\n",
       "      <td>7.2500</td>\n",
       "      <td>0</td>\n",
       "      <td>0</td>\n",
       "      <td>1</td>\n",
       "    </tr>\n",
       "    <tr>\n",
       "      <th>1</th>\n",
       "      <td>1</td>\n",
       "      <td>1</td>\n",
       "      <td>1</td>\n",
       "      <td>38.0</td>\n",
       "      <td>1</td>\n",
       "      <td>0</td>\n",
       "      <td>71.2833</td>\n",
       "      <td>1</td>\n",
       "      <td>0</td>\n",
       "      <td>0</td>\n",
       "    </tr>\n",
       "    <tr>\n",
       "      <th>2</th>\n",
       "      <td>1</td>\n",
       "      <td>3</td>\n",
       "      <td>1</td>\n",
       "      <td>26.0</td>\n",
       "      <td>0</td>\n",
       "      <td>0</td>\n",
       "      <td>7.9250</td>\n",
       "      <td>0</td>\n",
       "      <td>0</td>\n",
       "      <td>1</td>\n",
       "    </tr>\n",
       "    <tr>\n",
       "      <th>3</th>\n",
       "      <td>1</td>\n",
       "      <td>1</td>\n",
       "      <td>1</td>\n",
       "      <td>35.0</td>\n",
       "      <td>1</td>\n",
       "      <td>0</td>\n",
       "      <td>53.1000</td>\n",
       "      <td>0</td>\n",
       "      <td>0</td>\n",
       "      <td>1</td>\n",
       "    </tr>\n",
       "    <tr>\n",
       "      <th>4</th>\n",
       "      <td>0</td>\n",
       "      <td>3</td>\n",
       "      <td>0</td>\n",
       "      <td>35.0</td>\n",
       "      <td>0</td>\n",
       "      <td>0</td>\n",
       "      <td>8.0500</td>\n",
       "      <td>0</td>\n",
       "      <td>0</td>\n",
       "      <td>1</td>\n",
       "    </tr>\n",
       "  </tbody>\n",
       "</table>\n",
       "</div>"
      ],
      "text/plain": [
       "   Survived  Pclass  Sex   Age  SibSp  Parch     Fare  Embarked=C  Embarked=Q  \\\n",
       "0         0       3    0  22.0      1      0   7.2500           0           0   \n",
       "1         1       1    1  38.0      1      0  71.2833           1           0   \n",
       "2         1       3    1  26.0      0      0   7.9250           0           0   \n",
       "3         1       1    1  35.0      1      0  53.1000           0           0   \n",
       "4         0       3    0  35.0      0      0   8.0500           0           0   \n",
       "\n",
       "   Embarked=S  \n",
       "0           1  \n",
       "1           0  \n",
       "2           1  \n",
       "3           1  \n",
       "4           1  "
      ]
     },
     "execution_count": 12,
     "metadata": {},
     "output_type": "execute_result"
    }
   ],
   "source": [
    "df_input.head()"
   ]
  },
  {
   "cell_type": "code",
   "execution_count": 13,
   "metadata": {
    "collapsed": true
   },
   "outputs": [],
   "source": [
    "label = 'Survived'\n",
    "features = df_input.columns != label"
   ]
  },
  {
   "cell_type": "code",
   "execution_count": 14,
   "metadata": {},
   "outputs": [
    {
     "data": {
      "text/plain": [
       "array([False,  True,  True,  True,  True,  True,  True,  True,  True,  True], dtype=bool)"
      ]
     },
     "execution_count": 14,
     "metadata": {},
     "output_type": "execute_result"
    }
   ],
   "source": [
    "features"
   ]
  },
  {
   "cell_type": "code",
   "execution_count": 15,
   "metadata": {
    "collapsed": true
   },
   "outputs": [],
   "source": [
    "X, y = df_input.loc[:, features].values, df_input.loc[:, label].values"
   ]
  },
  {
   "cell_type": "code",
   "execution_count": 16,
   "metadata": {},
   "outputs": [
    {
     "data": {
      "text/plain": [
       "(889, 9)"
      ]
     },
     "execution_count": 16,
     "metadata": {},
     "output_type": "execute_result"
    }
   ],
   "source": [
    "X.shape"
   ]
  },
  {
   "cell_type": "code",
   "execution_count": 17,
   "metadata": {},
   "outputs": [
    {
     "data": {
      "text/plain": [
       "(889,)"
      ]
     },
     "execution_count": 17,
     "metadata": {},
     "output_type": "execute_result"
    }
   ],
   "source": [
    "y.shape"
   ]
  },
  {
   "cell_type": "markdown",
   "metadata": {},
   "source": [
    " * Build any tree model and visualize it\n",
    " * Show feature importances"
   ]
  },
  {
   "cell_type": "code",
   "execution_count": 18,
   "metadata": {},
   "outputs": [
    {
     "data": {
      "text/plain": [
       "DecisionTreeClassifier(class_weight=None, criterion='gini', max_depth=None,\n",
       "            max_features=None, max_leaf_nodes=None,\n",
       "            min_impurity_decrease=0.0, min_impurity_split=None,\n",
       "            min_samples_leaf=1, min_samples_split=2,\n",
       "            min_weight_fraction_leaf=0.0, presort=False, random_state=None,\n",
       "            splitter='best')"
      ]
     },
     "execution_count": 18,
     "metadata": {},
     "output_type": "execute_result"
    }
   ],
   "source": [
    "model = DecisionTreeClassifier()\n",
    "\n",
    "model.fit(X, y)"
   ]
  },
  {
   "cell_type": "code",
   "execution_count": 19,
   "metadata": {
    "collapsed": true
   },
   "outputs": [],
   "source": [
    "def plot_tree(tree, feature_names=None, class_names=['0', '1']):\n",
    "    with open('tree.dot', 'w') as fout:\n",
    "        export_graphviz(tree, out_file=fout, feature_names=feature_names, class_names=class_names)\n",
    "    command = [\"dot\", \"-Tpng\", \"tree.dot\", \"-o\", \"tree.png\"]\n",
    "    subprocess.check_call(command)\n",
    "    plt.imshow(plt.imread('tree.png'))\n",
    "    plt.axis(\"off\")\n"
   ]
  },
  {
   "cell_type": "code",
   "execution_count": 20,
   "metadata": {
    "collapsed": true
   },
   "outputs": [],
   "source": [
    "feature_names = df_input.columns[features].values"
   ]
  },
  {
   "cell_type": "code",
   "execution_count": 21,
   "metadata": {},
   "outputs": [
    {
     "data": {
      "image/png": "[encoded data removed]",
      "text/plain": [
       "<matplotlib.figure.Figure at 0x11af393d0>"
      ]
     },
     "metadata": {},
     "output_type": "display_data"
    }
   ],
   "source": [
    "plot_tree(model, feature_names)"
   ]
  },
  {
   "cell_type": "code",
   "execution_count": 22,
   "metadata": {},
   "outputs": [
    {
     "name": "stdout",
     "output_type": "stream",
     "text": [
      "digraph Tree {\r\n",
      "node [shape=box] ;\r\n",
      "0 [label=\"Sex <= 0.5\\ngini = 0.472\\nsamples = 889\\nvalue = [549, 340]\\nclass = 0\"] ;\r\n",
      "1 [label=\"Fare <= 26.269\\ngini = 0.306\\nsamples = 577\\nvalue = [468, 109]\\nclass = 0\"] ;\r\n",
      "0 -> 1 [labeldistance=2.5, labelangle=45, headlabel=\"True\"] ;\r\n",
      "2 [label=\"Parch <= 0.5\\ngini = 0.226\\nsamples = 415\\nvalue = [361, 54]\\nclass = 0\"] ;\r\n",
      "1 -> 2 ;\r\n",
      "3 [label=\"Age <= 32.5\\ngini = 0.184\\nsamples = 380\\nvalue = [341, 39]\\nclass = 0\"] ;\r\n",
      "2 -> 3 ;\r\n",
      "4 [label=\"Age <= 30.75\\ngini = 0.205\\nsamples = 284\\nvalue = [251, 33]\\nclass = 0\"] ;\r\n"
     ]
    }
   ],
   "source": [
    "!head tree.dot"
   ]
  },
  {
   "cell_type": "code",
   "execution_count": 25,
   "metadata": {
    "collapsed": true
   },
   "outputs": [],
   "source": [
    "imp = pd.Series(index=feature_names, data=model.feature_importances_)"
   ]
  },
  {
   "cell_type": "code",
   "execution_count": 26,
   "metadata": {},
   "outputs": [
    {
     "data": {
      "text/plain": [
       "Embarked=C    0.005237\n",
       "Embarked=Q    0.011657\n",
       "Embarked=S    0.015204\n",
       "SibSp         0.043675\n",
       "Parch         0.049325\n",
       "Pclass        0.090210\n",
       "Age           0.215369\n",
       "Fare          0.261941\n",
       "Sex           0.307380\n",
       "dtype: float64"
      ]
     },
     "execution_count": 26,
     "metadata": {},
     "output_type": "execute_result"
    }
   ],
   "source": [
    "imp.sort_values()"
   ]
  },
  {
   "cell_type": "markdown",
   "metadata": {},
   "source": [
    "* Using validation curve choose the best value for `max_depth` parameter"
   ]
  },
  {
   "cell_type": "code",
   "execution_count": 28,
   "metadata": {},
   "outputs": [],
   "source": [
    "from sklearn.model_selection import cross_val_score\n",
    "try:\n",
    "    from sklearn.model_selection import validation_curve\n",
    "except ImportError:\n",
    "    from sklearn.learning_curve import validation_curve"
   ]
  },
  {
   "cell_type": "code",
   "execution_count": 29,
   "metadata": {
    "collapsed": true
   },
   "outputs": [],
   "source": [
    "model = DecisionTreeClassifier()"
   ]
  },
  {
   "cell_type": "code",
   "execution_count": 30,
   "metadata": {
    "collapsed": true
   },
   "outputs": [],
   "source": [
    "train_scores, valid_scores = validation_curve(model, X, y, 'max_depth', \n",
    "                                              range(1, 10), cv=5, \n",
    "                                              scoring='roc_auc', n_jobs=-1)"
   ]
  },
  {
   "cell_type": "code",
   "execution_count": 31,
   "metadata": {},
   "outputs": [
    {
     "data": {
      "text/plain": [
       "(9, 5)"
      ]
     },
     "execution_count": 31,
     "metadata": {},
     "output_type": "execute_result"
    }
   ],
   "source": [
    "train_scores.shape"
   ]
  },
  {
   "cell_type": "code",
   "execution_count": 32,
   "metadata": {},
   "outputs": [
    {
     "data": {
      "text/plain": [
       "(9, 5)"
      ]
     },
     "execution_count": 32,
     "metadata": {},
     "output_type": "execute_result"
    }
   ],
   "source": [
    "valid_scores.shape"
   ]
  },
  {
   "cell_type": "code",
   "execution_count": 39,
   "metadata": {},
   "outputs": [
    {
     "data": {
      "text/plain": [
       "array([ 0.76593595,  0.83302732,  0.86384037,  0.88964101,  0.9125387 ,\n",
       "        0.9335798 ,  0.95014907,  0.96410147,  0.97466237])"
      ]
     },
     "execution_count": 39,
     "metadata": {},
     "output_type": "execute_result"
    }
   ],
   "source": [
    "mean_valid_scores = valid_scores.mean(axis=1)\n",
    "std_valid_scores = valid_scores.std(axis=1)\n",
    "mean_valid_scores\n",
    "\n",
    "mean_train_scores = train_scores.mean(axis=1)\n",
    "std_train_scores = train_scores.std(axis=1)\n",
    "mean_train_scores"
   ]
  },
  {
   "cell_type": "code",
   "execution_count": 44,
   "metadata": {},
   "outputs": [
    {
     "data": {
      "text/plain": [
       "<matplotlib.legend.Legend at 0x1a20615890>"
      ]
     },
     "execution_count": 44,
     "metadata": {},
     "output_type": "execute_result"
    },
    {
     "data": {
      "image/png": "[encoded data removed]",
      "text/plain": [
       "<matplotlib.figure.Figure at 0x11cb90750>"
      ]
     },
     "metadata": {},
     "output_type": "display_data"
    }
   ],
   "source": [
    "plt.plot(range(1,10), mean_valid_scores, label='valid', c='r')\n",
    "plt.fill_between(range(1,10), mean_valid_scores-std_valid_scores, \n",
    "                 mean_valid_scores+std_valid_scores, alpha=0.2)\n",
    "plt.plot(range(1,10), mean_train_scores, label='train', c='b')\n",
    "plt.fill_between(range(1,10), mean_train_scores-std_train_scores, \n",
    "                 mean_train_scores+std_train_scores, alpha=0.2)\n",
    "\n",
    "plt.legend()"
   ]
  },
  {
   "cell_type": "markdown",
   "metadata": {},
   "source": [
    "* Now, consider other parameters of the model\n",
    "* Run grid-search or randomized search of the optimal hyperparameter setting\n",
    "* Check model quality on test set"
   ]
  },
  {
   "cell_type": "code",
   "execution_count": 45,
   "metadata": {
    "collapsed": true
   },
   "outputs": [],
   "source": [
    "from scipy.stats import randint as randint\n",
    "from scipy.stats import uniform\n",
    "try:\n",
    "    from sklearn.model_selection import GridSearchCV\n",
    "    from sklearn.model_selection import RandomizedSearchCV\n",
    "except ImportError:\n",
    "    from sklearn.cross_validation import GridSearchCV\n",
    "    from sklearn.cross_validation import RandomizedSearchCV\n",
    "\n",
    "\n",
    "RND_SEED = 123"
   ]
  },
  {
   "cell_type": "markdown",
   "metadata": {},
   "source": [
    "<center><img src='https://cdn-images-1.medium.com/max/800/1*ZTlQm_WRcrNqL-nLnx6GJA.png'></center>"
   ]
  },
  {
   "cell_type": "code",
   "execution_count": 48,
   "metadata": {},
   "outputs": [
    {
     "name": "stdout",
     "output_type": "stream",
     "text": [
      "Fitting 5 folds for each of 10 candidates, totalling 50 fits\n",
      "[CV] max_depth=7, class_weight=None ..................................\n",
      "[CV] max_depth=7, class_weight=None ..................................\n",
      "[CV] max_depth=7, class_weight=None ..................................\n",
      "[CV] max_depth=7, class_weight=None ..................................\n",
      "[CV]  max_depth=7, class_weight=None, score=0.859090909091, total=   0.0s\n",
      "[CV] max_depth=7, class_weight=None ..................................\n",
      "[CV]  max_depth=7, class_weight=None, score=0.809692513369, total=   0.0s\n",
      "[CV]  max_depth=7, class_weight=None, score=0.744050802139, total=   0.1s\n",
      "[CV]  max_depth=7, class_weight=None, score=0.791778074866, total=   0.0s\n",
      "[CV] max_depth=4, class_weight=None ..................................\n",
      "[CV]  max_depth=7, class_weight=None, score=0.811049649217, total=   0.0s\n",
      "[CV] max_depth=4, class_weight=None ..................................\n",
      "[CV]  max_depth=4, class_weight=None, score=0.821457219251, total=   0.0s\n",
      "[CV] max_depth=4, class_weight=None ..................................\n",
      "[CV]  max_depth=4, class_weight=None, score=0.818114973262, total=   0.0s\n",
      "[CV] max_depth=4, class_weight=None ..................................\n",
      "[CV]  max_depth=4, class_weight=None, score=0.872125668449, total=   0.0s\n",
      "[CV]  max_depth=4, class_weight=None, score=0.863101604278, total=   0.0s\n",
      "[CV] max_depth=4, class_weight=None ..................................\n",
      "[CV] max_depth=4, class_weight=None ..................................\n",
      "[CV] max_depth=4, class_weight=balanced ..............................\n",
      "[CV]  max_depth=4, class_weight=None, score=0.865893146249, total=   0.0s\n",
      "[CV] max_depth=3, class_weight=balanced ..............................\n",
      "[CV] max_depth=3, class_weight=None ..................................\n",
      "[CV]  max_depth=4, class_weight=None, score=0.865893146249, total=   0.0s\n",
      "[CV] max_depth=4, class_weight=None ..................................\n",
      "[CV]  max_depth=3, class_weight=None, score=0.830013368984, total=   0.0s\n",
      "[CV] max_depth=3, class_weight=None ..................................\n",
      "[CV]  max_depth=4, class_weight=balanced, score=0.827807486631, total=   0.0s\n",
      "[CV]  max_depth=3, class_weight=balanced, score=0.806751336898, total=   0.0s\n",
      "[CV] max_depth=4, class_weight=balanced ..............................\n",
      "[CV] max_depth=3, class_weight=balanced ..............................\n",
      "[CV]  max_depth=3, class_weight=None, score=0.806751336898, total=   0.0s\n",
      "[CV] max_depth=3, class_weight=None ..................................\n",
      "[CV]  max_depth=3, class_weight=balanced, score=0.870521390374, total=   0.0s\n",
      "[CV]  max_depth=4, class_weight=balanced, score=0.818114973262, total=   0.0s\n",
      "[CV] max_depth=3, class_weight=balanced ..............................\n",
      "[CV] max_depth=4, class_weight=balanced ..............................\n",
      "[CV]  max_depth=3, class_weight=None, score=0.870387700535, total=   0.0s\n",
      "[CV] max_depth=3, class_weight=None ..................................\n",
      "[CV]  max_depth=3, class_weight=balanced, score=0.852540106952, total=   0.0s\n",
      "[CV]  max_depth=4, class_weight=balanced, score=0.869585561497, total=   0.0s\n",
      "[CV] max_depth=3, class_weight=balanced ..............................\n",
      "[CV] max_depth=4, class_weight=balanced ..............................\n",
      "[CV]  max_depth=3, class_weight=None, score=0.830280748663, total=   0.0s\n",
      "[CV] max_depth=3, class_weight=None ..................................\n",
      "[CV]  max_depth=4, class_weight=balanced, score=0.860093582888, total=   0.0s\n",
      "[CV]  max_depth=3, class_weight=balanced, score=0.901443604965, total=   0.0s\n",
      "[CV] max_depth=4, class_weight=balanced ..............................\n",
      "[CV] max_depth=3, class_weight=None ..................................\n",
      "[CV]  max_depth=3, class_weight=None, score=0.864476524555, total=   0.0s\n",
      "[CV]  max_depth=4, class_weight=balanced, score=0.896519158122, total=   0.0s\n",
      "[CV]  max_depth=3, class_weight=None, score=0.830013368984, total=   0.0s\n",
      "[CV] max_depth=3, class_weight=balanced ..............................\n",
      "[CV] max_depth=3, class_weight=None ..................................\n",
      "[CV]  max_depth=4, class_weight=None, score=0.806951871658, total=   0.0s\n",
      "[CV] max_depth=4, class_weight=None ..................................\n",
      "[CV]  max_depth=3, class_weight=None, score=0.806751336898, total=   0.0s\n",
      "[CV]  max_depth=3, class_weight=balanced, score=0.839037433155, total=   0.0s\n",
      "[CV]  max_depth=4, class_weight=None, score=0.818114973262, total=   0.0s\n",
      "[CV] max_depth=4, class_weight=None ..................................\n",
      "[CV] max_depth=3, class_weight=None ..................................\n",
      "[CV]  max_depth=4, class_weight=None, score=0.872125668449, total=   0.0s\n",
      "[CV] max_depth=4, class_weight=None ..................................\n",
      "[CV]  max_depth=4, class_weight=None, score=0.863101604278, total=   0.0s\n",
      "[CV]  max_depth=3, class_weight=None, score=0.870387700535, total=   0.0s\n",
      "[CV] max_depth=3, class_weight=None ..................................\n",
      "[CV]  max_depth=3, class_weight=None, score=0.830280748663, total=   0.0s\n",
      "[CV] max_depth=3, class_weight=None ..................................\n",
      "[CV]  max_depth=3, class_weight=None, score=0.864476524555, total=   0.0s\n",
      "[CV] max_depth=3, class_weight=None ..................................\n",
      "[CV]  max_depth=3, class_weight=None, score=0.830013368984, total=   0.0s\n",
      "[CV] max_depth=3, class_weight=None ..................................\n",
      "[CV] max_depth=3, class_weight=None ..................................\n",
      "[CV]  max_depth=3, class_weight=None, score=0.806751336898, total=   0.0s\n",
      "[CV] max_depth=3, class_weight=None ..................................\n",
      "[CV]  max_depth=3, class_weight=None, score=0.870387700535, total=   0.0s\n",
      "[CV]  max_depth=3, class_weight=None, score=0.830280748663, total=   0.0s\n",
      "[CV] max_depth=3, class_weight=None ..................................\n",
      "[CV] max_depth=3, class_weight=None ..................................\n",
      "[CV]  max_depth=3, class_weight=None, score=0.864476524555, total=   0.0s\n",
      "[CV] max_depth=2, class_weight=None ..................................\n",
      "[CV]  max_depth=3, class_weight=None, score=0.864476524555, total=   0.0s\n",
      "[CV] max_depth=3, class_weight=None ..................................\n",
      "[CV]  max_depth=2, class_weight=None, score=0.82172459893, total=   0.0s\n",
      "[CV] max_depth=2, class_weight=None ..................................\n",
      "[CV]  max_depth=3, class_weight=None, score=0.830013368984, total=   0.0s\n",
      "[CV] max_depth=3, class_weight=None ..................................\n",
      "[CV]  max_depth=2, class_weight=None, score=0.819451871658, total=   0.0s\n",
      "[CV] max_depth=2, class_weight=None ..................................\n",
      "[CV]  max_depth=3, class_weight=None, score=0.806751336898, total=   0.0s\n",
      "[CV]  max_depth=2, class_weight=None, score=0.848663101604, total=   0.0s\n",
      "[CV] max_depth=3, class_weight=None ..................................\n",
      "[CV] max_depth=2, class_weight=None ..................................\n",
      "[CV]  max_depth=3, class_weight=None, score=0.870387700535, total=   0.0s\n",
      "[CV]  max_depth=2, class_weight=None, score=0.826336898396, total=   0.0s\n",
      "[CV] max_depth=3, class_weight=None ..................................\n",
      "[CV] max_depth=2, class_weight=None ..................................\n",
      "[CV]  max_depth=2, class_weight=None, score=0.829870480302, total=   0.0s\n",
      "[CV]  max_depth=3, class_weight=None, score=0.830280748663, total=   0.0s\n"
     ]
    },
    {
     "name": "stderr",
     "output_type": "stream",
     "text": [
      "[Parallel(n_jobs=-1)]: Done  32 out of  50 | elapsed:    0.4s remaining:    0.2s\n",
      "[Parallel(n_jobs=-1)]: Done  50 out of  50 | elapsed:    0.5s finished\n"
     ]
    },
    {
     "data": {
      "text/plain": [
       "RandomizedSearchCV(cv=5, error_score='raise',\n",
       "          estimator=DecisionTreeClassifier(class_weight=None, criterion='gini', max_depth=None,\n",
       "            max_features=None, max_leaf_nodes=None,\n",
       "            min_impurity_decrease=0.0, min_impurity_split=None,\n",
       "            min_samples_leaf=1, min_samples_split=2,\n",
       "            min_weight_fraction_leaf=0.0, presort=False, random_state=None,\n",
       "            splitter='best'),\n",
       "          fit_params=None, iid=True, n_iter=10, n_jobs=-1,\n",
       "          param_distributions={'max_depth': <scipy.stats._distn_infrastructure.rv_frozen object at 0x1a206411d0>, 'class_weight': [None, 'balanced']},\n",
       "          pre_dispatch='2*n_jobs', random_state=123, refit=True,\n",
       "          return_train_score='warn', scoring='roc_auc', verbose=5)"
      ]
     },
     "execution_count": 48,
     "metadata": {},
     "output_type": "execute_result"
    }
   ],
   "source": [
    "param_grid = {\n",
    "    'max_depth': randint(2, 8),\n",
    "    'class_weight': [None, 'balanced'],\n",
    "}\n",
    "\n",
    "model = DecisionTreeClassifier()\n",
    "search_cv = RandomizedSearchCV(model, param_grid, n_iter=10, scoring='roc_auc', n_jobs=-1, \n",
    "                               cv=5, random_state=123, verbose=5)\n",
    "search_cv.fit(X, y)"
   ]
  },
  {
   "cell_type": "code",
   "execution_count": 49,
   "metadata": {},
   "outputs": [
    {
     "data": {
      "text/plain": [
       "DecisionTreeClassifier(class_weight='balanced', criterion='gini', max_depth=4,\n",
       "            max_features=None, max_leaf_nodes=None,\n",
       "            min_impurity_decrease=0.0, min_impurity_split=None,\n",
       "            min_samples_leaf=1, min_samples_split=2,\n",
       "            min_weight_fraction_leaf=0.0, presort=False, random_state=None,\n",
       "            splitter='best')"
      ]
     },
     "execution_count": 49,
     "metadata": {},
     "output_type": "execute_result"
    }
   ],
   "source": [
    "search_cv.best_estimator_"
   ]
  },
  {
   "cell_type": "code",
   "execution_count": 52,
   "metadata": {},
   "outputs": [
    {
     "data": {
      "text/plain": [
       "{'class_weight': 'balanced', 'max_depth': 4}"
      ]
     },
     "execution_count": 52,
     "metadata": {},
     "output_type": "execute_result"
    }
   ],
   "source": [
    "search_cv.best_params_"
   ]
  },
  {
   "cell_type": "code",
   "execution_count": 50,
   "metadata": {},
   "outputs": [
    {
     "name": "stderr",
     "output_type": "stream",
     "text": [
      "/Users/andrey.shestakov/anaconda2/lib/python2.7/site-packages/sklearn/model_selection/_search.py:761: DeprecationWarning: The grid_scores_ attribute was deprecated in version 0.18 in favor of the more elaborate cv_results_ attribute. The grid_scores_ attribute will not be available from 0.20\n",
      "  DeprecationWarning)\n"
     ]
    },
    {
     "data": {
      "text/plain": [
       "[mean: 0.80312, std: 0.03703, params: {'max_depth': 7, 'class_weight': None},\n",
       " mean: 0.84812, std: 0.02336, params: {'max_depth': 4, 'class_weight': None},\n",
       " mean: 0.84521, std: 0.02709, params: {'max_depth': 4, 'class_weight': None},\n",
       " mean: 0.84035, std: 0.02375, params: {'max_depth': 3, 'class_weight': None},\n",
       " mean: 0.85438, std: 0.02850, params: {'max_depth': 4, 'class_weight': 'balanced'},\n",
       " mean: 0.85401, std: 0.03157, params: {'max_depth': 3, 'class_weight': 'balanced'},\n",
       " mean: 0.84035, std: 0.02375, params: {'max_depth': 3, 'class_weight': None},\n",
       " mean: 0.84035, std: 0.02375, params: {'max_depth': 3, 'class_weight': None},\n",
       " mean: 0.84035, std: 0.02375, params: {'max_depth': 3, 'class_weight': None},\n",
       " mean: 0.82921, std: 0.01038, params: {'max_depth': 2, 'class_weight': None}]"
      ]
     },
     "execution_count": 50,
     "metadata": {},
     "output_type": "execute_result"
    }
   ],
   "source": [
    "search_cv.grid_scores_"
   ]
  },
  {
   "cell_type": "code",
   "execution_count": 51,
   "metadata": {},
   "outputs": [
    {
     "name": "stderr",
     "output_type": "stream",
     "text": [
      "/Users/andrey.shestakov/anaconda2/lib/python2.7/site-packages/sklearn/utils/deprecation.py:122: FutureWarning: You are accessing a training score ('mean_train_score'), which will not be available by default any more in 0.21. If you need training scores, please set return_train_score=True\n",
      "  warnings.warn(*warn_args, **warn_kwargs)\n",
      "/Users/andrey.shestakov/anaconda2/lib/python2.7/site-packages/sklearn/utils/deprecation.py:122: FutureWarning: You are accessing a training score ('split0_train_score'), which will not be available by default any more in 0.21. If you need training scores, please set return_train_score=True\n",
      "  warnings.warn(*warn_args, **warn_kwargs)\n",
      "/Users/andrey.shestakov/anaconda2/lib/python2.7/site-packages/sklearn/utils/deprecation.py:122: FutureWarning: You are accessing a training score ('split1_train_score'), which will not be available by default any more in 0.21. If you need training scores, please set return_train_score=True\n",
      "  warnings.warn(*warn_args, **warn_kwargs)\n",
      "/Users/andrey.shestakov/anaconda2/lib/python2.7/site-packages/sklearn/utils/deprecation.py:122: FutureWarning: You are accessing a training score ('split2_train_score'), which will not be available by default any more in 0.21. If you need training scores, please set return_train_score=True\n",
      "  warnings.warn(*warn_args, **warn_kwargs)\n",
      "/Users/andrey.shestakov/anaconda2/lib/python2.7/site-packages/sklearn/utils/deprecation.py:122: FutureWarning: You are accessing a training score ('split3_train_score'), which will not be available by default any more in 0.21. If you need training scores, please set return_train_score=True\n",
      "  warnings.warn(*warn_args, **warn_kwargs)\n",
      "/Users/andrey.shestakov/anaconda2/lib/python2.7/site-packages/sklearn/utils/deprecation.py:122: FutureWarning: You are accessing a training score ('split4_train_score'), which will not be available by default any more in 0.21. If you need training scores, please set return_train_score=True\n",
      "  warnings.warn(*warn_args, **warn_kwargs)\n",
      "/Users/andrey.shestakov/anaconda2/lib/python2.7/site-packages/sklearn/utils/deprecation.py:122: FutureWarning: You are accessing a training score ('std_train_score'), which will not be available by default any more in 0.21. If you need training scores, please set return_train_score=True\n",
      "  warnings.warn(*warn_args, **warn_kwargs)\n"
     ]
    },
    {
     "data": {
      "text/plain": [
       "{'mean_fit_time': array([ 0.00512638,  0.00378876,  0.00183353,  0.00170803,  0.00603638,\n",
       "         0.00421557,  0.00154548,  0.00455704,  0.00328078,  0.00140386]),\n",
       " 'mean_score_time': array([ 0.017343  ,  0.00895882,  0.00217667,  0.00214138,  0.00173302,\n",
       "         0.00184884,  0.00166893,  0.0028708 ,  0.0020422 ,  0.00186715]),\n",
       " 'mean_test_score': array([ 0.80312348,  0.84811855,  0.84521422,  0.84035483,  0.8543768 ,\n",
       "         0.85400547,  0.84035483,  0.84035483,  0.84035483,  0.82920865]),\n",
       " 'mean_train_score': array([ 0.95006755,  0.88964101,  0.88964101,  0.86384037,  0.88964352,\n",
       "         0.86475308,  0.86384037,  0.86384037,  0.86384037,  0.83302732]),\n",
       " 'param_class_weight': masked_array(data = [None None None None 'balanced' 'balanced' None None None None],\n",
       "              mask = [False False False False False False False False False False],\n",
       "        fill_value = ?),\n",
       " 'param_max_depth': masked_array(data = [7 4 4 3 4 3 3 3 3 2],\n",
       "              mask = [False False False False False False False False False False],\n",
       "        fill_value = ?),\n",
       " 'params': [{'class_weight': None, 'max_depth': 7},\n",
       "  {'class_weight': None, 'max_depth': 4},\n",
       "  {'class_weight': None, 'max_depth': 4},\n",
       "  {'class_weight': None, 'max_depth': 3},\n",
       "  {'class_weight': 'balanced', 'max_depth': 4},\n",
       "  {'class_weight': 'balanced', 'max_depth': 3},\n",
       "  {'class_weight': None, 'max_depth': 3},\n",
       "  {'class_weight': None, 'max_depth': 3},\n",
       "  {'class_weight': None, 'max_depth': 3},\n",
       "  {'class_weight': None, 'max_depth': 2}],\n",
       " 'rank_test_score': array([10,  3,  4,  5,  1,  2,  5,  5,  5,  9], dtype=int32),\n",
       " 'split0_test_score': array([ 0.7440508 ,  0.82145722,  0.80695187,  0.83001337,  0.82780749,\n",
       "         0.83903743,  0.83001337,  0.83001337,  0.83001337,  0.8217246 ]),\n",
       " 'split0_train_score': array([ 0.95597447,  0.89826059,  0.89826059,  0.87039813,  0.89716769,\n",
       "         0.87164177,  0.87039813,  0.87039813,  0.87039813,  0.83597414]),\n",
       " 'split1_test_score': array([ 0.80969251,  0.81811497,  0.81811497,  0.80675134,  0.81811497,\n",
       "         0.80675134,  0.80675134,  0.80675134,  0.80675134,  0.81945187]),\n",
       " 'split1_train_score': array([ 0.95538406,  0.90102841,  0.90102841,  0.87550667,  0.90102841,\n",
       "         0.87550667,  0.87550667,  0.87550667,  0.87550667,  0.83566009]),\n",
       " 'split2_test_score': array([ 0.85909091,  0.87212567,  0.87212567,  0.8703877 ,  0.86958556,\n",
       "         0.87052139,  0.8703877 ,  0.8703877 ,  0.8703877 ,  0.8486631 ]),\n",
       " 'split2_train_score': array([ 0.93569526,  0.88939602,  0.88939602,  0.86424276,  0.8892369 ,\n",
       "         0.86399152,  0.86424276,  0.86424276,  0.86424276,  0.82860864]),\n",
       " 'split3_test_score': array([ 0.79177807,  0.8631016 ,  0.8631016 ,  0.83028075,  0.86009358,\n",
       "         0.85254011,  0.83028075,  0.83028075,  0.83028075,  0.8263369 ]),\n",
       " 'split3_train_score': array([ 0.95045977,  0.88184209,  0.88184209,  0.85520652,  0.87941344,\n",
       "         0.85849776,  0.85520652,  0.85520652,  0.85520652,  0.83633425]),\n",
       " 'split4_test_score': array([ 0.81104965,  0.86589315,  0.86589315,  0.86447652,  0.89651916,\n",
       "         0.9014436 ,  0.86447652,  0.86447652,  0.86447652,  0.82987048]),\n",
       " 'split4_train_score': array([ 0.9528242 ,  0.87767797,  0.87767797,  0.85384776,  0.88137116,\n",
       "         0.85412767,  0.85384776,  0.85384776,  0.85384776,  0.82855949]),\n",
       " 'std_fit_time': array([ 0.00134818,  0.00225364,  0.00045578,  0.00028036,  0.00641934,\n",
       "         0.00304403,  0.00013358,  0.0055316 ,  0.00173274,  0.00027338]),\n",
       " 'std_score_time': array([ 0.01582265,  0.00544802,  0.00043638,  0.00015741,  0.00017634,\n",
       "         0.00011461,  0.00018669,  0.00137894,  0.00062952,  0.0003123 ]),\n",
       " 'std_test_score': array([ 0.03705128,  0.0233628 ,  0.02709946,  0.0237544 ,  0.02847945,\n",
       "         0.03154439,  0.0237544 ,  0.0237544 ,  0.0237544 ,  0.01038238]),\n",
       " 'std_train_score': array([ 0.00744946,  0.00903291,  0.00903291,  0.00841028,  0.00847916,\n",
       "         0.00794609,  0.00841028,  0.00841028,  0.00841028,  0.00363421])}"
      ]
     },
     "execution_count": 51,
     "metadata": {},
     "output_type": "execute_result"
    }
   ],
   "source": [
    "search_cv.cv_results_"
   ]
  }
 ],
 "metadata": {
  "anaconda-cloud": {},
  "kernelspec": {
   "display_name": "Python [conda root]",
   "language": "python",
   "name": "conda-root-py"
  },
  "language_info": {
   "codemirror_mode": {
    "name": "ipython",
    "version": 2
   },
   "file_extension": ".py",
   "mimetype": "text/x-python",
   "name": "python",
   "nbconvert_exporter": "python",
   "pygments_lexer": "ipython2",
   "version": "2.7.14"
  },
  "toc": {
   "colors": {
    "hover_highlight": "#DAA520",
    "navigate_num": "#000000",
    "navigate_text": "#333333",
    "running_highlight": "#FF0000",
    "selected_highlight": "#FFD700",
    "sidebar_border": "#EEEEEE",
    "wrapper_background": "#FFFFFF"
   },
   "moveMenuLeft": true,
   "nav_menu": {
    "height": "142px",
    "width": "252px"
   },
   "navigate_menu": true,
   "number_sections": false,
   "sideBar": true,
   "threshold": 4,
   "toc_cell": false,
   "toc_section_display": "block",
   "toc_window_display": false,
   "widenNotebook": false
  }
 },
 "nbformat": 4,
 "nbformat_minor": 2
}
